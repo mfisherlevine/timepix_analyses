{
 "cells": [
  {
   "cell_type": "code",
   "execution_count": 1,
   "metadata": {
    "collapsed": false
   },
   "outputs": [
    {
     "data": {
      "text/html": [
       "<style>.container { width:90% !important; }</style>"
      ],
      "text/plain": [
       "<IPython.core.display.HTML object>"
      ]
     },
     "execution_count": 1,
     "metadata": {},
     "output_type": "execute_result"
    }
   ],
   "source": [
    "# magic incantation to make the notebook wider\n",
    "from IPython.core.display import HTML\n",
    "HTML(\"<style>.container { width:90% !important; }</style>\")"
   ]
  },
  {
   "cell_type": "code",
   "execution_count": 2,
   "metadata": {
    "collapsed": true
   },
   "outputs": [],
   "source": [
    "#magic incantation to make all text in LaTeX font:\n",
    "from matplotlib import rc\n",
    "# rc('font',**{'family':'serif','serif':['Computer Modern Roman']})\n",
    "rc('font',**{'family':'sans-serif','sans-serif':['Helvetica']})\n",
    "rc('text', usetex=True)"
   ]
  },
  {
   "cell_type": "code",
   "execution_count": 3,
   "metadata": {
    "collapsed": false
   },
   "outputs": [
    {
     "name": "stderr",
     "output_type": "stream",
     "text": [
      "/Users/mfisherlevine/anaconda/lib/python2.7/site-packages/matplotlib/font_manager.py:273: UserWarning: Matplotlib is building the font cache using fc-list. This may take a moment.\n",
      "  warnings.warn('Matplotlib is building the font cache using fc-list. This may take a moment.')\n"
     ]
    }
   ],
   "source": [
    "import numpy as np\n",
    "import pylab as pl\n",
    "import os, sys\n",
    "%matplotlib inline\n",
    "\n",
    "import new_functions as fn\n",
    "fn = reload(fn)\n",
    "\n",
    "# XMAX = 200\n",
    "# XMIN = 50\n",
    "# YMAX = 200\n",
    "# YMIN = 50\n",
    "\n",
    "XMAX = 256\n",
    "XMIN = 0\n",
    "YMAX = 256\n",
    "YMIN = 0"
   ]
  },
  {
   "cell_type": "code",
   "execution_count": 4,
   "metadata": {
    "collapsed": false
   },
   "outputs": [
    {
     "name": "stdout",
     "output_type": "stream",
     "text": [
      "Found 4361 datafiles in run /Users/mfisherlevine/Downloads/usaf_small/\n"
     ]
    }
   ],
   "source": [
    "# timepix_data_dir_ir = '/Users/mfisherlevine/Downloads/160808_usaf1/'\n",
    "# timepix_data_dir_ir = '/Users/mfisherlevine/Downloads/usaf_med/'\n",
    "timepix_data_dir_ir = '/Users/mfisherlevine/Downloads/usaf_small/'\n",
    "\n",
    "\n",
    "dirs = [timepix_data_dir_ir + _ for _ in os.listdir(timepix_data_dir_ir) if _.find('.DS')==-1]\n",
    "tp_datafiles_ir = []\n",
    "for this_dir in dirs:\n",
    "    tp_datafiles_ir.extend([os.path.join(this_dir, _) for _ in os.listdir(this_dir) if _.find('.DS')==-1])\n",
    "print 'Found %s datafiles in run %s'%(len(tp_datafiles_ir), timepix_data_dir_ir)\n"
   ]
  },
  {
   "cell_type": "code",
   "execution_count": 5,
   "metadata": {
    "collapsed": true
   },
   "outputs": [],
   "source": [
    "tp_data_ir = dict.fromkeys(tp_datafiles_ir)\n"
   ]
  },
  {
   "cell_type": "code",
   "execution_count": 6,
   "metadata": {
    "collapsed": false,
    "scrolled": true
   },
   "outputs": [
    {
     "name": "stdout",
     "output_type": "stream",
     "text": [
      "Processed 0 files\n",
      "Processed 1000 files\n",
      "Processed 2000 files\n",
      "Processed 3000 files\n",
      "Processed 4000 files\n",
      "*****\n",
      "Loaded 4361 files\n"
     ]
    }
   ],
   "source": [
    "\n",
    "\n",
    "\n",
    "n_files_loaded = 0\n",
    "for filename in tp_datafiles_ir:\n",
    "    if n_files_loaded%1000==0: print 'Processed %s files'%n_files_loaded; sys.stdout.flush()\n",
    "    n_codes = fn.Get_n_timecodesFromFile(filename)\n",
    "#     if not filename in tp_data_ir.keys():\n",
    "    tp_data_ir[filename] = {}\n",
    "    tp_data_ir[filename]['n_codes'] = n_codes\n",
    "    tp_data_ir[filename]['filename'] = filename\n",
    "#     else:\n",
    "#         print 'Would have overwritten bunchID %s'%bunchID\n",
    "    n_files_loaded += 1\n",
    "\n",
    "print '*****\\nLoaded %s files' %n_files_loaded\n",
    "\n"
   ]
  },
  {
   "cell_type": "code",
   "execution_count": 7,
   "metadata": {
    "collapsed": false
   },
   "outputs": [
    {
     "data": {
      "image/png": "[encoded data removed]",
      "text/plain": [
       "<matplotlib.figure.Figure at 0x1061318d0>"
      ]
     },
     "metadata": {},
     "output_type": "display_data"
    }
   ],
   "source": [
    "fn = reload(fn)\n",
    "\n",
    "# fn.ShowClusteredImage('/Users/mfisherlevine/Downloads/160721_voltages1/160721_v9/160721_v9_0250.txt',257)\n",
    "fn.ShowClusteredImage(tp_datafiles_ir[0],257,skiplines=1)"
   ]
  },
  {
   "cell_type": "code",
   "execution_count": null,
   "metadata": {
    "collapsed": true
   },
   "outputs": [],
   "source": []
  },
  {
   "cell_type": "code",
   "execution_count": 8,
   "metadata": {
    "collapsed": false,
    "scrolled": true
   },
   "outputs": [
    {
     "name": "stdout",
     "output_type": "stream",
     "text": [
      "Centroided 0 frames\n",
      "Found 1 clusters in /Users/mfisherlevine/Downloads/usaf_small/00/usaf1_2016_08_08_07_44_32_119.txt - TCUT = 257\n",
      "Found 1 clusters in /Users/mfisherlevine/Downloads/usaf_small/01/usaf1_2016_08_08_08_27_03_415.txt - TCUT = 257\n"
     ]
    },
    {
     "name": "stderr",
     "output_type": "stream",
     "text": [
      "/Users/mfisherlevine/anaconda/lib/python2.7/site-packages/numpy/lib/npyio.py:893: UserWarning: loadtxt: Empty input file: \"/Users/mfisherlevine/Downloads/usaf_small/00/usaf1_2016_08_08_07_46_11_302.txt\"\n",
      "  warnings.warn('loadtxt: Empty input file: \"%s\"' % fname)\n"
     ]
    },
    {
     "name": "stdout",
     "output_type": "stream",
     "text": [
      "Found 1 clusters in /Users/mfisherlevine/Downloads/usaf_small/01/usaf1_2016_08_08_08_25_00_769.txt - TCUT = 257\n",
      "Found 1 clusters in /Users/mfisherlevine/Downloads/usaf_small/01/usaf1_2016_08_08_08_27_14_683.txt - TCUT = 257\n"
     ]
    },
    {
     "name": "stderr",
     "output_type": "stream",
     "text": [
      "/Users/mfisherlevine/anaconda/lib/python2.7/site-packages/numpy/lib/npyio.py:893: UserWarning: loadtxt: Empty input file: \"/Users/mfisherlevine/Downloads/usaf_small/00/usaf1_2016_08_08_07_43_56_360.txt\"\n",
      "  warnings.warn('loadtxt: Empty input file: \"%s\"' % fname)\n"
     ]
    },
    {
     "name": "stdout",
     "output_type": "stream",
     "text": [
      "Found 1 clusters in /Users/mfisherlevine/Downloads/usaf_small/01/usaf1_2016_08_08_08_24_37_122.txt - TCUT = 257\n",
      "Found 1 clusters in /Users/mfisherlevine/Downloads/usaf_small/01/usaf1_2016_08_08_08_24_17_594.txt - TCUT = 257\n",
      "Found 1 clusters in /Users/mfisherlevine/Downloads/usaf_small/01/usaf1_2016_08_08_08_24_36_573.txt - TCUT = 257\n",
      "Found 1 clusters in /Users/mfisherlevine/Downloads/usaf_small/01/usaf1_2016_08_08_08_24_37_980.txt - TCUT = 257\n",
      "Centroided 500 frames\n"
     ]
    },
    {
     "name": "stderr",
     "output_type": "stream",
     "text": [
      "/Users/mfisherlevine/anaconda/lib/python2.7/site-packages/numpy/lib/npyio.py:893: UserWarning: loadtxt: Empty input file: \"/Users/mfisherlevine/Downloads/usaf_small/00/usaf1_2016_08_08_07_44_18_549.txt\"\n",
      "  warnings.warn('loadtxt: Empty input file: \"%s\"' % fname)\n"
     ]
    },
    {
     "name": "stdout",
     "output_type": "stream",
     "text": [
      "Found 1 clusters in /Users/mfisherlevine/Downloads/usaf_small/00/usaf1_2016_08_08_07_43_51_027.txt - TCUT = 257\n",
      "Found 1 clusters in /Users/mfisherlevine/Downloads/usaf_small/01/usaf1_2016_08_08_08_24_21_789.txt - TCUT = 257\n",
      "Found 1 clusters in /Users/mfisherlevine/Downloads/usaf_small/01/usaf1_2016_08_08_08_24_47_265.txt - TCUT = 257\n",
      "Found 1 clusters in /Users/mfisherlevine/Downloads/usaf_small/01/usaf1_2016_08_08_08_27_11_691.txt - TCUT = 257\n"
     ]
    },
    {
     "name": "stderr",
     "output_type": "stream",
     "text": [
      "/Users/mfisherlevine/anaconda/lib/python2.7/site-packages/numpy/lib/npyio.py:893: UserWarning: loadtxt: Empty input file: \"/Users/mfisherlevine/Downloads/usaf_small/00/usaf1_2016_08_08_07_45_31_165.txt\"\n",
      "  warnings.warn('loadtxt: Empty input file: \"%s\"' % fname)\n"
     ]
    },
    {
     "name": "stdout",
     "output_type": "stream",
     "text": [
      "Centroided 1000 frames\n",
      "Found 1 clusters in /Users/mfisherlevine/Downloads/usaf_small/00/usaf1_2016_08_08_07_46_21_683.txt - TCUT = 257\n",
      "Found 1 clusters in /Users/mfisherlevine/Downloads/usaf_small/00/usaf1_2016_08_08_07_45_24_674.txt - TCUT = 257\n",
      "Found 1 clusters in /Users/mfisherlevine/Downloads/usaf_small/01/usaf1_2016_08_08_08_24_30_569.txt - TCUT = 257\n",
      "Found 1 clusters in /Users/mfisherlevine/Downloads/usaf_small/01/usaf1_2016_08_08_08_26_46_065.txt - TCUT = 257\n",
      "Found 1 clusters in /Users/mfisherlevine/Downloads/usaf_small/00/usaf1_2016_08_08_07_44_20_632.txt - TCUT = 257\n",
      "Centroided 1500 frames\n"
     ]
    },
    {
     "name": "stderr",
     "output_type": "stream",
     "text": [
      "/Users/mfisherlevine/anaconda/lib/python2.7/site-packages/numpy/lib/npyio.py:893: UserWarning: loadtxt: Empty input file: \"/Users/mfisherlevine/Downloads/usaf_small/01/usaf1_2016_08_08_08_24_12_564.txt\"\n",
      "  warnings.warn('loadtxt: Empty input file: \"%s\"' % fname)\n",
      "/Users/mfisherlevine/anaconda/lib/python2.7/site-packages/numpy/lib/npyio.py:893: UserWarning: loadtxt: Empty input file: \"/Users/mfisherlevine/Downloads/usaf_small/01/usaf1_2016_08_08_08_26_06_981.txt\"\n",
      "  warnings.warn('loadtxt: Empty input file: \"%s\"' % fname)\n",
      "/Users/mfisherlevine/anaconda/lib/python2.7/site-packages/numpy/lib/npyio.py:893: UserWarning: loadtxt: Empty input file: \"/Users/mfisherlevine/Downloads/usaf_small/01/usaf1_2016_08_08_08_25_48_169.txt\"\n",
      "  warnings.warn('loadtxt: Empty input file: \"%s\"' % fname)\n"
     ]
    },
    {
     "name": "stdout",
     "output_type": "stream",
     "text": [
      "Centroided 2000 frames\n",
      "Centroided 2500 frames\n",
      "Found 1 clusters in /Users/mfisherlevine/Downloads/usaf_small/00/usaf1_2016_08_08_07_45_07_784.txt - TCUT = 257\n",
      "Found 1 clusters in /Users/mfisherlevine/Downloads/usaf_small/01/usaf1_2016_08_08_08_26_37_286.txt - TCUT = 257\n",
      "Found 1 clusters in /Users/mfisherlevine/Downloads/usaf_small/00/usaf1_2016_08_08_07_45_29_997.txt - TCUT = 257\n",
      "Found 1 clusters in /Users/mfisherlevine/Downloads/usaf_small/00/usaf1_2016_08_08_07_45_35_779.txt - TCUT = 257\n",
      "Centroided 3000 frames\n",
      "Found 1 clusters in /Users/mfisherlevine/Downloads/usaf_small/00/usaf1_2016_08_08_07_45_38_059.txt - TCUT = 257\n",
      "Found 1 clusters in /Users/mfisherlevine/Downloads/usaf_small/01/usaf1_2016_08_08_08_25_07_974.txt - TCUT = 257\n"
     ]
    },
    {
     "name": "stderr",
     "output_type": "stream",
     "text": [
      "/Users/mfisherlevine/anaconda/lib/python2.7/site-packages/numpy/lib/npyio.py:893: UserWarning: loadtxt: Empty input file: \"/Users/mfisherlevine/Downloads/usaf_small/01/usaf1_2016_08_08_08_24_58_360.txt\"\n",
      "  warnings.warn('loadtxt: Empty input file: \"%s\"' % fname)\n"
     ]
    },
    {
     "name": "stdout",
     "output_type": "stream",
     "text": [
      "Centroided 3500 frames\n",
      "Found 1 clusters in /Users/mfisherlevine/Downloads/usaf_small/00/usaf1_2016_08_08_07_47_02_643.txt - TCUT = 257\n",
      "Found 1 clusters in /Users/mfisherlevine/Downloads/usaf_small/00/usaf1_2016_08_08_07_45_50_211.txt - TCUT = 257\n",
      "Found 1 clusters in /Users/mfisherlevine/Downloads/usaf_small/00/usaf1_2016_08_08_07_43_38_333.txt - TCUT = 257\n"
     ]
    },
    {
     "name": "stderr",
     "output_type": "stream",
     "text": [
      "/Users/mfisherlevine/anaconda/lib/python2.7/site-packages/numpy/lib/npyio.py:893: UserWarning: loadtxt: Empty input file: \"/Users/mfisherlevine/Downloads/usaf_small/01/usaf1_2016_08_08_08_25_42_183.txt\"\n",
      "  warnings.warn('loadtxt: Empty input file: \"%s\"' % fname)\n"
     ]
    },
    {
     "name": "stdout",
     "output_type": "stream",
     "text": [
      "Found 1 clusters in /Users/mfisherlevine/Downloads/usaf_small/01/usaf1_2016_08_08_08_26_36_776.txt - TCUT = 257\n",
      "Centroided 4000 frames\n"
     ]
    },
    {
     "name": "stderr",
     "output_type": "stream",
     "text": [
      "/Users/mfisherlevine/anaconda/lib/python2.7/site-packages/numpy/lib/npyio.py:893: UserWarning: loadtxt: Empty input file: \"/Users/mfisherlevine/Downloads/usaf_small/00/usaf1_2016_08_08_07_44_45_699.txt\"\n",
      "  warnings.warn('loadtxt: Empty input file: \"%s\"' % fname)\n",
      "/Users/mfisherlevine/anaconda/lib/python2.7/site-packages/numpy/lib/npyio.py:893: UserWarning: loadtxt: Empty input file: \"/Users/mfisherlevine/Downloads/usaf_small/01/usaf1_2016_08_08_08_25_55_340.txt\"\n",
      "  warnings.warn('loadtxt: Empty input file: \"%s\"' % fname)\n"
     ]
    },
    {
     "name": "stdout",
     "output_type": "stream",
     "text": [
      "Finished IR\n"
     ]
    }
   ],
   "source": [
    "fn = reload(fn)\n",
    "import time\n",
    "\n",
    "# NB These are different units!\n",
    "TCUT = 257 #Raw timecode cut for centroiding\n",
    "# TZERO = 1700 #Time, in ns, after inversion and conversion, to set as t0\n",
    "TZERO = 0 #Time, in ns, after inversion and conversion, to set as t0\n",
    "\n",
    "run_id = 'tcut%s_tzero%s'%(TCUT, TZERO)\n",
    "\n",
    "now = time.time()\n",
    "for i, filename in enumerate(tp_data_ir.keys()):\n",
    "    if i%500==0:print 'Centroided %s frames'%i; sys.stdout.flush()\n",
    "\n",
    "    filename = tp_data_ir[filename]['filename']\n",
    "    dummy, xs, ys, ts, npixs = fn.GetCentroidsXYTFromFile(filename, TCUT,winow_xmax=XMAX,winow_xmin=XMIN,winow_ymax=YMAX,winow_ymin=YMIN,skiplines=1)#, gating=[8400,8])\n",
    "    tp_data_ir[filename]['xs'] = xs\n",
    "    tp_data_ir[filename]['ys'] = ys\n",
    "#         tp_data[filename]['ts'] = [(_-TZERO)*20 for _ in ts]#already inverted, just translate to ns\n",
    "    tp_data_ir[filename]['ts'] = [(_-TZERO) for _ in ts]#already inverted, just translate to ns\n",
    "    tp_data_ir[filename]['npixs'] = npixs\n",
    "    tp_data_ir[filename]['n_ions'] = len(xs)\n",
    "print 'Finished IR'\n"
   ]
  },
  {
   "cell_type": "code",
   "execution_count": 9,
   "metadata": {
    "collapsed": false
   },
   "outputs": [
    {
     "name": "stdout",
     "output_type": "stream",
     "text": [
      "IR: Collated centroided timecodes from 4361 shots\n",
      "IR: 130941 times in total\n"
     ]
    }
   ],
   "source": [
    "# Put all the centroided timecodes in a single list for convenience\n",
    "all_ts_ir = []\n",
    "n_loaded = 0\n",
    "for bunchID in tp_data_ir.keys():\n",
    "    if 'ts' in tp_data_ir[bunchID].keys():\n",
    "        all_ts_ir.extend(tp_data_ir[bunchID]['ts'])\n",
    "        n_loaded += 1\n",
    "print 'IR: Collated centroided timecodes from %s shots'%n_loaded\n",
    "print 'IR: %s times in total'%len(all_ts_ir)\n"
   ]
  },
  {
   "cell_type": "code",
   "execution_count": 10,
   "metadata": {
    "collapsed": false
   },
   "outputs": [
    {
     "name": "stdout",
     "output_type": "stream",
     "text": [
      "IR: 112932 times in total\n"
     ]
    }
   ],
   "source": [
    "# Put all the centroided timecodes in a single list for convenience\n",
    "all_ts_4pix_ir = []\n",
    "n_loaded = 0\n",
    "for bunchID in tp_data_ir.keys():\n",
    "    if 'ts' in tp_data_ir[bunchID].keys():\n",
    "        for npix, t in zip(tp_data_ir[bunchID]['npixs'],tp_data_ir[bunchID]['ts']):\n",
    "            if npix>=4:\n",
    "                all_ts_4pix_ir.append(t)\n",
    "                n_loaded += 1\n",
    "print 'IR: %s times in total'%len(all_ts_4pix_ir)\n",
    "    "
   ]
  },
  {
   "cell_type": "code",
   "execution_count": 11,
   "metadata": {
    "collapsed": false
   },
   "outputs": [
    {
     "ename": "SyntaxError",
     "evalue": "invalid syntax (<ipython-input-11-241fe7120da1>, line 4)",
     "output_type": "error",
     "traceback": [
      "\u001b[0;36m  File \u001b[0;32m\"<ipython-input-11-241fe7120da1>\"\u001b[0;36m, line \u001b[0;32m4\u001b[0m\n\u001b[0;31m    p_data_ir[bunchID]['ts'])\u001b[0m\n\u001b[0m            ^\u001b[0m\n\u001b[0;31mSyntaxError\u001b[0m\u001b[0;31m:\u001b[0m invalid syntax\n"
     ]
    }
   ],
   "source": [
    "count = 0\n",
    "for bunchID in tp_data_ir.keys():\n",
    "    count += len(t\n",
    "                 p_data_ir[bunchID]['ts'])\n",
    "print count"
   ]
  },
  {
   "cell_type": "raw",
   "metadata": {},
   "source": [
    "Make the same plot as before, but plotting the number of ions, rather than the number of timecodes. After that, we'll look at the correlation for single ion species (just because it's easy)."
   ]
  },
  {
   "cell_type": "raw",
   "metadata": {},
   "source": [
    "Let's look at the TOF spectrum, including the raw spectrum:"
   ]
  },
  {
   "cell_type": "code",
   "execution_count": 12,
   "metadata": {
    "collapsed": false,
    "scrolled": true
   },
   "outputs": [
    {
     "name": "stdout",
     "output_type": "stream",
     "text": [
      "Loaded 0 files\n",
      "Loaded 1000 files\n",
      "Loaded 2000 files\n",
      "Loaded 3000 files\n",
      "Loaded 4000 files\n",
      "IR: Loaded 1260318 raw timecodes\n"
     ]
    }
   ],
   "source": [
    "# Load the raw timecodes, converting the same way as the others\n",
    "fn = reload(fn)\n",
    "\n",
    "raw_timecodes_ir = []\n",
    "for i, filename in enumerate(tp_datafiles_ir):\n",
    "    if i%1000==0: print 'Loaded %s files'%i; sys.stdout.flush()\n",
    "#     raw_timecodes_ir.extend(((11810-_)-TZERO) for _ in fn.GetTimecodes_SingleFile(filename, skiplines=0))\n",
    "    raw_timecodes_ir.extend(((11810-_)-TZERO) for _ in fn.GetTimecodes_SingleFile(filename, skiplines=1,winow_xmax=XMAX,winow_xmin=XMIN,winow_ymax=YMAX,winow_ymin=YMIN))\n",
    "print 'IR: Loaded %s raw timecodes'%len(raw_timecodes_ir)\n"
   ]
  },
  {
   "cell_type": "code",
   "execution_count": 13,
   "metadata": {
    "collapsed": false
   },
   "outputs": [
    {
     "name": "stdout",
     "output_type": "stream",
     "text": [
      "4361\n"
     ]
    }
   ],
   "source": [
    "print len(tp_datafiles_ir)"
   ]
  },
  {
   "cell_type": "code",
   "execution_count": 14,
   "metadata": {
    "collapsed": false
   },
   "outputs": [
    {
     "name": "stdout",
     "output_type": "stream",
     "text": [
      "Raw timecodes a histogram:\n",
      "Binsize = 1.0\n"
     ]
    },
    {
     "data": {
      "image/png": "[encoded data removed]",
      "text/plain": [
       "<matplotlib.figure.Figure at 0x111a7c910>"
      ]
     },
     "metadata": {},
     "output_type": "display_data"
    },
    {
     "name": "stdout",
     "output_type": "stream",
     "text": [
      "As a histogram:\n"
     ]
    },
    {
     "data": {
      "image/png": "[encoded data removed]",
      "text/plain": [
       "<matplotlib.figure.Figure at 0x114c20250>"
      ]
     },
     "metadata": {},
     "output_type": "display_data"
    },
    {
     "name": "stdout",
     "output_type": "stream",
     "text": [
      "With 4 pixel threshold:\n"
     ]
    },
    {
     "data": {
      "image/png": "[encoded data removed]",
      "text/plain": [
       "<matplotlib.figure.Figure at 0x114c8bad0>"
      ]
     },
     "metadata": {},
     "output_type": "display_data"
    }
   ],
   "source": [
    "# range = [0,11810]\n",
    "range = [1700,1850]\n",
    "\n",
    "############\n",
    "# for the raw spectrum:\n",
    "\n",
    "y_rescale = 1.1 # big peak is too big, so clip y-axis by rescaling to this fraction of max\n",
    "bins = min(int((max(raw_timecodes_ir)-min(raw_timecodes_ir)+1)),(range[1]-range[0]))\n",
    "fig = pl.figure(figsize=[16,4])\n",
    "ax = pl.subplot(111)\n",
    "\n",
    "# as a hist\n",
    "print 'Raw timecodes a histogram:'\n",
    "ys_ir, binEdges_ir, dummy1 = pl.hist(raw_timecodes_ir, bins=bins, range=range, histtype = 'step')\n",
    "binsize = binEdges_ir[1]-binEdges_ir[0]\n",
    "print 'Binsize = %s'%binsize\n",
    "# bincenters = 0.5*(binEdges[1:]+binEdges[:-1])\n",
    "lims = pl.ylim()\n",
    "pl.ylim([lims[0], y_rescale*max(ys_ir)])\n",
    "# ax.set_xticks(ticks, minor=False)\n",
    "# turn_raw, stat_raw, troughs_raw, peaks_raw = fn.GetTurningPoints(ys, bincenters, noise=20)\n",
    "# ax.set_xticks(troughs_raw, minor=False)\n",
    "ax.xaxis.grid(True, which='major')\n",
    "pl.xlim(range[0],range[1])\n",
    "pl.show()\n",
    "\n",
    "\n",
    "############\n",
    "# for the centroided spectrum:\n",
    "\n",
    "y_rescale = 1.1 # big peak is too big, so clip y-axis by rescaling to this fraction of max\n",
    "# bins = min(int((max(all_ts)-min(all_ts)+1)),(range[1]-range[0]+1))\n",
    "\n",
    "fig = pl.figure(figsize=[16,4])\n",
    "ax = pl.subplot(111)\n",
    "\n",
    "# as a hist\n",
    "print 'As a histogram:'\n",
    "ys_ir, binEdges_ir, dummy1 = pl.hist(all_ts_ir, bins=bins, range=range, histtype = 'step')\n",
    "\n",
    "# bincenters = 0.5*(binEdges[1:]+binEdges[:-1])\n",
    "# turn_cent, stat_cent, troughs_cent, peaks_cent = fn.GetTurningPoints(ys, bincenters, noise=1)\n",
    "lims = pl.ylim()\n",
    "pl.xlim(range[0],range[1])\n",
    "pl.ylim([lims[0], y_rescale*max(ys_ir)])\n",
    "# ax.set_xticks(troughs_cent, minor=False)\n",
    "ax.xaxis.grid(True, which='major')\n",
    "pl.show()\n",
    "\n",
    "# as a hist\n",
    "fig = pl.figure(figsize=[16,4])\n",
    "ax = pl.subplot(111)\n",
    "print 'With 4 pixel threshold:'\n",
    "ys_ir, binEdges_ir, dummy1 = pl.hist(all_ts_4pix_ir, bins=bins, range=range, histtype = 'step')\n",
    "\n",
    "# bincenters = 0.5*(binEdges[1:]+binEdges[:-1])\n",
    "# turn_cent, stat_cent, troughs_cent, peaks_cent = fn.GetTurningPoints(ys, bincenters, noise=0)\n",
    "lims = pl.ylim()\n",
    "pl.xlim(range[0],range[1])\n",
    "pl.ylim([lims[0], y_rescale*max(ys_ir)])\n",
    "# ax.set_xticks(troughs_cent, minor=False)\n",
    "ax.xaxis.grid(True, which='major')\n",
    "pl.show()\n"
   ]
  },
  {
   "cell_type": "code",
   "execution_count": null,
   "metadata": {
    "collapsed": true
   },
   "outputs": [],
   "source": [
    "# import numpy\n",
    "# from scipy.optimize import curve_fit\n",
    "# import matplotlib.pyplot as plt\n",
    "\n",
    "# # Define some test data which is close to Gaussian\n",
    "# data = numpy.random.normal(size=10000)\n",
    "\n",
    "# hist, bin_edges = numpy.histogram(data, density=True)\n",
    "# bin_centres = (bin_edges[:-1] + bin_edges[1:])/2\n",
    "\n",
    "# # Define model function to be used to fit to the data above:\n",
    "# def gauss(x, *p):\n",
    "#     A, mu, sigma = p\n",
    "#     return A*numpy.exp(-(x-mu)**2/(2.*sigma**2))\n",
    "\n",
    "# # p0 is the initial guess for the fitting coefficients (A, mu and sigma above)\n",
    "# p0 = [1., 0., 1.]\n",
    "\n",
    "# coeff, var_matrix = curve_fit(gauss, bin_centres, hist, p0=p0)\n",
    "\n",
    "# # Get the fitted curve\n",
    "# hist_fit = gauss(bin_centres, *coeff)\n",
    "\n",
    "# plt.plot(bin_centres, hist, label='Test data')\n",
    "# plt.plot(bin_centres, hist_fit, label='Fitted data')\n",
    "\n",
    "# # Finally, lets get the fitting parameters, i.e. the mean and standard deviation:\n",
    "# print 'Fitted mean = ', coeff[1]\n",
    "# print 'Fitted standard deviation = ', coeff[2]\n",
    "\n",
    "# plt.show()"
   ]
  },
  {
   "cell_type": "code",
   "execution_count": 15,
   "metadata": {
    "collapsed": false
   },
   "outputs": [
    {
     "name": "stdout",
     "output_type": "stream",
     "text": [
      "With 4 pixel threshold:\n"
     ]
    },
    {
     "data": {
      "image/png": "[encoded data removed]",
      "text/plain": [
       "<matplotlib.figure.Figure at 0x1158c78d0>"
      ]
     },
     "metadata": {},
     "output_type": "display_data"
    }
   ],
   "source": [
    "fig = pl.figure(figsize=[16,4])\n",
    "ax = pl.subplot(111)\n",
    "ys_ir, binEdges_ir, dummy1 = pl.hist(all_ts_4pix_ir, bins=bins, range=range, histtype = 'step')\n",
    "\n",
    "# bincenters = 0.5*(binEdges[1:]+binEdges[:-1])\n",
    "# turn_cent, stat_cent, troughs_cent, peaks_cent = fn.GetTurningPoints(ys, bincenters, noise=0)\n",
    "lims = pl.ylim()\n",
    "pl.xlim(range[0],range[1])\n",
    "pl.ylim([lims[0], y_rescale*max(ys_ir)])\n",
    "# ax.set_xticks(troughs_cent, minor=False)\n",
    "ax.xaxis.grid(True, which='major')\n",
    "pl.show()"
   ]
  },
  {
   "cell_type": "code",
   "execution_count": 21,
   "metadata": {
    "collapsed": false
   },
   "outputs": [
    {
     "name": "stdout",
     "output_type": "stream",
     "text": [
      "Fitted mean =  -0.00477154697005\n",
      "Fitted standard deviation =  1.03948485385\n"
     ]
    },
    {
     "data": {
      "image/png": "[encoded data removed]",
      "text/plain": [
       "<matplotlib.figure.Figure at 0x13d3bbad0>"
      ]
     },
     "metadata": {},
     "output_type": "display_data"
    }
   ],
   "source": [
    "# import numpy\n",
    "# from scipy.optimize import curve_fit\n",
    "# import matplotlib.pyplot as plt\n",
    "\n",
    "# # Define some test data which is close to Gaussian\n",
    "# data = numpy.random.normal(size=10000)\n",
    "\n",
    "# hist, bin_edges = numpy.histogram(data, density=True)\n",
    "# bin_centres = (bin_edges[:-1] + bin_edges[1:])/2\n",
    "\n",
    "# # Define model function to be used to fit to the data above:\n",
    "# def gauss(x, *p):\n",
    "#     A, mu, sigma = p\n",
    "#     return A*numpy.exp(-(x-mu)**2/(2.*sigma**2))\n",
    "\n",
    "# # p0 is the initial guess for the fitting coefficients (A, mu and sigma above)\n",
    "# p0 = [1., 0., 1.]\n",
    "\n",
    "# coeff, var_matrix = curve_fit(gauss, bin_centres, hist, p0=p0)\n",
    "\n",
    "# # Get the fitted curve\n",
    "# xpoints = np.linspace(-5,5,100)\n",
    "# hist_fit = gauss(xpoints, *coeff)\n",
    "\n",
    "# plt.plot(bin_centres, hist, 'x', label='Test data')\n",
    "# plt.plot(xpoints, hist_fit, label='Fitted data')\n",
    "\n",
    "# # Finally, lets get the fitting parameters, i.e. the mean and standard deviation:\n",
    "# print 'Fitted mean = ', coeff[1]\n",
    "# print 'Fitted standard deviation = ', coeff[2]\n",
    "\n",
    "# plt.show()"
   ]
  },
  {
   "cell_type": "code",
   "execution_count": null,
   "metadata": {
    "collapsed": true
   },
   "outputs": [],
   "source": []
  },
  {
   "cell_type": "code",
   "execution_count": null,
   "metadata": {
    "collapsed": true
   },
   "outputs": [],
   "source": []
  },
  {
   "cell_type": "code",
   "execution_count": 23,
   "metadata": {
    "collapsed": false
   },
   "outputs": [
    {
     "name": "stdout",
     "output_type": "stream",
     "text": [
      "1.0\n",
      "Fitted mean =  1782.52508343\n",
      "Fitted standard deviation =  0.772468796945\n"
     ]
    },
    {
     "data": {
      "image/png": "[encoded data removed]",
      "text/plain": [
       "<matplotlib.figure.Figure at 0x1196d3050>"
      ]
     },
     "metadata": {},
     "output_type": "display_data"
    }
   ],
   "source": [
    "import numpy\n",
    "from scipy.optimize import curve_fit\n",
    "import matplotlib.pyplot as plt\n",
    "\n",
    "# Define some test data which is close to Gaussian\n",
    "\n",
    "# hist, bin_edges = numpy.histogram(all_ts_4pix_ir)\n",
    "hist, bin_edges, dummy1 = pl.hist(all_ts_4pix_ir, bins=bins, range=range, histtype = 'step')\n",
    "\n",
    "bin_centres = (bin_edges[:-1] + bin_edges[1:])/2\n",
    "bin_size = bin_centres[1]-bin_centres[0]\n",
    "print bin_size\n",
    "\n",
    "# Define model function to be used to fit to the data above:\n",
    "def gauss(x, *p):\n",
    "    A, mu, sigma = p\n",
    "    return A*numpy.exp(-(x-mu)**2/(2.*sigma**2))\n",
    "\n",
    "# p0 is the initial guess for the fitting coefficients (A, mu and sigma above)\n",
    "p0 = [1000., 1780., 15.]\n",
    "\n",
    "coeff, var_matrix = curve_fit(gauss, bin_centres, hist, p0=p0)\n",
    "\n",
    "# Get the fitted curve\n",
    "xpoints = np.linspace(1760,1800,1000)\n",
    "hist_fit = gauss(xpoints, *coeff)\n",
    "\n",
    "# plt.plot(bin_centres, hist, 'x', label='Test data')\n",
    "plt.plot(xpoints, hist_fit, 'r', label='Fitted data')\n",
    "\n",
    "plt.xlim(1770,1820)\n",
    "\n",
    "# Finally, lets get the fitting parameters, i.e. the mean and standard deviation:\n",
    "print 'Fitted mean = ', coeff[1]\n",
    "print 'Fitted standard deviation = ', coeff[2]\n",
    "plt.savefig('/Users/mfisherlevine/Desktop/gaus_fit.pdf')\n",
    "plt.show()\n"
   ]
  },
  {
   "cell_type": "code",
   "execution_count": 20,
   "metadata": {
    "collapsed": false
   },
   "outputs": [
    {
     "name": "stdout",
     "output_type": "stream",
     "text": [
      "1.0\n",
      "Fitted mean =  1785.05349068\n",
      "Fitted standard deviation =  2.57756579224\n"
     ]
    },
    {
     "data": {
      "image/png": "[encoded data removed]",
      "text/plain": [
       "<matplotlib.figure.Figure at 0x111a7c4d0>"
      ]
     },
     "metadata": {},
     "output_type": "display_data"
    }
   ],
   "source": [
    "import numpy\n",
    "from scipy.optimize import curve_fit\n",
    "import matplotlib.pyplot as plt\n",
    "\n",
    "# Define some test data which is close to Gaussian\n",
    "\n",
    "# hist, bin_edges = numpy.histogram(all_ts_4pix_ir)\n",
    "hist, bin_edges, dummy1 = pl.hist(raw_timecodes_ir, bins=bins, range=range, histtype = 'step')\n",
    "\n",
    "bin_centres = (bin_edges[:-1] + bin_edges[1:])/2\n",
    "bin_size = bin_centres[1]-bin_centres[0]\n",
    "print bin_size\n",
    "\n",
    "# Define model function to be used to fit to the data above:\n",
    "def gauss(x, *p):\n",
    "    A, mu, sigma = p\n",
    "    return A*numpy.exp(-(x-mu)**2/(2.*sigma**2))\n",
    "\n",
    "# p0 is the initial guess for the fitting coefficients (A, mu and sigma above)\n",
    "p0 = [1000., 1780., 15.]\n",
    "\n",
    "coeff, var_matrix = curve_fit(gauss, bin_centres, hist, p0=p0)\n",
    "\n",
    "# Get the fitted curve\n",
    "xpoints = np.linspace(1760,1800,1000)\n",
    "hist_fit = gauss(xpoints, *coeff)\n",
    "\n",
    "# plt.plot(bin_centres, hist, 'x', label='Test data')\n",
    "# plt.plot(xpoints, hist_fit, label='Fitted data')\n",
    "\n",
    "plt.xlim(1770,1820)\n",
    "\n",
    "# Finally, lets get the fitting parameters, i.e. the mean and standard deviation:\n",
    "print 'Fitted mean = ', coeff[1]\n",
    "print 'Fitted standard deviation = ', coeff[2]\n",
    "plt.savefig('/Users/mfisherlevine/Desktop/raw_dist.pdf')\n",
    "plt.show()\n"
   ]
  },
  {
   "cell_type": "code",
   "execution_count": null,
   "metadata": {
    "collapsed": true
   },
   "outputs": [],
   "source": []
  },
  {
   "cell_type": "code",
   "execution_count": null,
   "metadata": {
    "collapsed": true
   },
   "outputs": [],
   "source": []
  },
  {
   "cell_type": "code",
   "execution_count": null,
   "metadata": {
    "collapsed": true
   },
   "outputs": [],
   "source": []
  },
  {
   "cell_type": "code",
   "execution_count": null,
   "metadata": {
    "collapsed": true
   },
   "outputs": [],
   "source": []
  },
  {
   "cell_type": "code",
   "execution_count": 32,
   "metadata": {
    "collapsed": false
   },
   "outputs": [
    {
     "name": "stdout",
     "output_type": "stream",
     "text": [
      "1.0\n",
      "Fitted mean =  1783.08660098\n",
      "Fitted standard deviation =  1.24693801535\n"
     ]
    },
    {
     "data": {
      "image/png": "[encoded data removed]",
      "text/plain": [
       "<matplotlib.figure.Figure at 0x154710b10>"
      ]
     },
     "metadata": {},
     "output_type": "display_data"
    }
   ],
   "source": [
    "import numpy\n",
    "from scipy.optimize import curve_fit\n",
    "import matplotlib.pyplot as plt\n",
    "\n",
    "# Define some test data which is close to Gaussian\n",
    "\n",
    "# hist, bin_edges = numpy.histogram(all_ts_4pix_ir)\n",
    "hist, bin_edges, dummy1 = pl.hist(all_ts_4pix_ir, bins=bins, range=range, histtype = 'step')\n",
    "\n",
    "bin_centres = (bin_edges[:-1] + bin_edges[1:])/2\n",
    "bin_size = bin_centres[1]-bin_centres[0]\n",
    "print bin_size\n",
    "\n",
    "# Define model function to be used to fit to the data above:\n",
    "def gauss(x, *p):\n",
    "    A, mu, sigma = p\n",
    "    return A*numpy.exp(-(x-mu)**2/(2.*sigma**2))\n",
    "\n",
    "# p0 is the initial guess for the fitting coefficients (A, mu and sigma above)\n",
    "p0 = [1000., 1780., 15.]\n",
    "\n",
    "coeff, var_matrix = curve_fit(gauss, bin_centres, hist, p0=p0)\n",
    "\n",
    "# Get the fitted curve\n",
    "xpoints = np.linspace(1760,1800,1000)\n",
    "hist_fit = gauss(xpoints, *coeff)\n",
    "\n",
    "plt.plot(bin_centres, hist, 'x', label='Test data')\n",
    "plt.plot(xpoints, hist_fit, label='Fitted data')\n",
    "\n",
    "plt.xlim(1760,1800)\n",
    "\n",
    "# Finally, lets get the fitting parameters, i.e. the mean and standard deviation:\n",
    "print 'Fitted mean = ', coeff[1]\n",
    "print 'Fitted standard deviation = ', coeff[2]\n",
    "\n",
    "plt.show()"
   ]
  },
  {
   "cell_type": "code",
   "execution_count": null,
   "metadata": {
    "collapsed": true
   },
   "outputs": [],
   "source": []
  },
  {
   "cell_type": "code",
   "execution_count": null,
   "metadata": {
    "collapsed": true
   },
   "outputs": [],
   "source": []
  },
  {
   "cell_type": "code",
   "execution_count": null,
   "metadata": {
    "collapsed": true
   },
   "outputs": [],
   "source": []
  },
  {
   "cell_type": "code",
   "execution_count": null,
   "metadata": {
    "collapsed": true
   },
   "outputs": [],
   "source": []
  },
  {
   "cell_type": "code",
   "execution_count": null,
   "metadata": {
    "collapsed": true
   },
   "outputs": [],
   "source": []
  },
  {
   "cell_type": "code",
   "execution_count": null,
   "metadata": {
    "collapsed": true
   },
   "outputs": [],
   "source": []
  },
  {
   "cell_type": "code",
   "execution_count": null,
   "metadata": {
    "collapsed": true
   },
   "outputs": [],
   "source": []
  },
  {
   "cell_type": "code",
   "execution_count": null,
   "metadata": {
    "collapsed": true
   },
   "outputs": [],
   "source": []
  },
  {
   "cell_type": "code",
   "execution_count": null,
   "metadata": {
    "collapsed": true
   },
   "outputs": [],
   "source": []
  },
  {
   "cell_type": "code",
   "execution_count": null,
   "metadata": {
    "collapsed": true
   },
   "outputs": [],
   "source": []
  },
  {
   "cell_type": "code",
   "execution_count": null,
   "metadata": {
    "collapsed": true
   },
   "outputs": [],
   "source": []
  },
  {
   "cell_type": "code",
   "execution_count": null,
   "metadata": {
    "collapsed": true
   },
   "outputs": [],
   "source": []
  },
  {
   "cell_type": "code",
   "execution_count": null,
   "metadata": {
    "collapsed": true
   },
   "outputs": [],
   "source": []
  },
  {
   "cell_type": "code",
   "execution_count": null,
   "metadata": {
    "collapsed": false,
    "scrolled": true
   },
   "outputs": [],
   "source": [
    "for t, y in zip(binEdges_ir,ys_ir):\n",
    "    print t, y"
   ]
  },
  {
   "cell_type": "raw",
   "metadata": {},
   "source": [
    "Make a VMI image for each band. Whilst it looks like the loop is nested backward, I wrote it the other way around too and it's actually no faster as python's tpye checking during the band finding is so slow, and it's easier to understand and debug this way around."
   ]
  },
  {
   "cell_type": "code",
   "execution_count": null,
   "metadata": {
    "collapsed": false
   },
   "outputs": [],
   "source": [
    "bands = []\n",
    "# # for i in xrange(len(troughs_cent)-1):\n",
    "# #     bands.append((troughs_cent[i],troughs_cent[i+1]))\n",
    "# # print bands\n",
    "# bands.append([0,250])\n",
    "\n",
    "# bands.append([900,910])\n",
    "# bands.append([910,920])\n",
    "# bands.append([920,930])\n",
    "# bands.append([930,940])\n",
    "# bands.append([940,950])\n",
    "# bands.append([950,1000])\n",
    "# bands.append([1000,1200])\n",
    "\n",
    "bands.append([1820,1860])\n"
   ]
  },
  {
   "cell_type": "code",
   "execution_count": null,
   "metadata": {
    "collapsed": false
   },
   "outputs": [],
   "source": [
    "#probably don't need to rerun this, and it takes ages, so don't do it by accident:\n",
    "if True: \n",
    "    import time\n",
    "    now = time.time()\n",
    "    n_bunches = 999999\n",
    "\n",
    "    images_ir = [np.zeros((256,256), dtype = np.float64) for _ in bands]\n",
    "    for i, t_range in enumerate(bands):\n",
    "        print 'Processing band %s of %s'%(i+1, len(bands))\n",
    "        for bunchID in sorted(tp_data_ir.keys())[:min(n_bunches,tp_data_ir.keys())]:\n",
    "            for x,y,t,npix in zip(tp_data_ir[bunchID]['xs'],\n",
    "                                  tp_data_ir[bunchID]['ys'],\n",
    "                                  tp_data_ir[bunchID]['ts'],\n",
    "                                  tp_data_ir[bunchID]['npixs']):\n",
    "                if t >= t_range[0] and t<t_range[1]:\n",
    "                    images_ir[i] += fn.makeGaussian(256,1,1,[x,y])\n",
    "#                     images_ir[i] += fn.makeGaussian(256,1,(npix**.5)/1.5,[x,y])\n",
    "\n",
    "    print 'Took %.1f secs'%(time.time()-now)\n"
   ]
  },
  {
   "cell_type": "code",
   "execution_count": null,
   "metadata": {
    "collapsed": false
   },
   "outputs": [],
   "source": [
    "print len(tp_data_ir.keys())"
   ]
  },
  {
   "cell_type": "code",
   "execution_count": null,
   "metadata": {
    "collapsed": false,
    "scrolled": true
   },
   "outputs": [],
   "source": [
    "#probably don't need to rerun this, and it takes ages, so don't do it by accident:\n",
    "bands = []\n",
    "bands.append([1760,1820])\n",
    "\n",
    "import time\n",
    "now = time.time()\n",
    "n_bunches = 9999999\n",
    "\n",
    "images_ir = [np.zeros((256,256), dtype = np.float64) for _ in bands]\n",
    "for i, t_range in enumerate(bands):\n",
    "    print 'Processing band %s of %s'%(i+1, len(bands))\n",
    "    for bunchnum, bunchID in enumerate(sorted(tp_data_ir.keys())[:min(n_bunches,tp_data_ir.keys())]):\n",
    "        if bunchnum%1000==0: print bunchnum; sys.stdout.flush()\n",
    "        for x,y,t,npix in zip(tp_data_ir[bunchID]['xs'],\n",
    "                              tp_data_ir[bunchID]['ys'],\n",
    "                              tp_data_ir[bunchID]['ts'],\n",
    "                              tp_data_ir[bunchID]['npixs']):\n",
    "#             if npix <= 3: continue\n",
    "            if t >= t_range[0] and t<t_range[1]:\n",
    "#                 images_ir[i][y][x] += 1\n",
    "                images_ir[i] += fn.makeGaussian(256,1,1,[x,y])\n",
    "#                     images_ir[i] += fn.makeGaussian(256,1,(npix**.5)/1.5,[x,y])\n",
    "\n",
    "print 'Took %.1f secs'%(time.time()-now)\n"
   ]
  },
  {
   "cell_type": "code",
   "execution_count": null,
   "metadata": {
    "collapsed": false
   },
   "outputs": [],
   "source": [
    "DisplayImage(np.rot90(images_ir[0],3), cmap='gray', vmax=np.percentile(images_ir[0],99.9), savefig='/Users/mfisherlevine/Desktop/usaf_allpix_gaus.pdf')#, vmax=150)"
   ]
  },
  {
   "cell_type": "code",
   "execution_count": null,
   "metadata": {
    "collapsed": true
   },
   "outputs": [],
   "source": [
    "def DisplayImage(image, vmin=None, vmax=None, cmap='jet', title = '', savefig=''):\n",
    "    import numpy as np\n",
    "    fig = pl.figure()#figsize = [10,10])\n",
    "    ax = fig.add_subplot(111)\n",
    "#     xsize, ysize = image.shape\n",
    "#     ax.set_xlim([0,YMAX])\n",
    "#     ax.set_ylim([0,XMAX])\n",
    "\n",
    "    if vmax == 'auto':\n",
    "        element = (256*256) - 200\n",
    "        tmp = image.flatten()\n",
    "        tmp.sort()\n",
    "        vmax = tmp[element]\n",
    "        vmin = tmp[200]\n",
    "        print 'Auto vmax = %s, real max = %s'%(vmax, np.max(image))\n",
    "\n",
    "    if vmin == 'auto':\n",
    "        tmp = image.flatten()\n",
    "        vmin = min(_ for _ in tmp if _ > 0)\n",
    "        print 'Auto vmin = %s'%vmin\n",
    "\n",
    "    im = ax.imshow(image, vmin=vmin, vmax=vmax, cmap=cmap, interpolation='nearest')\n",
    "    ax.set_title(title)\n",
    "    fig.colorbar(im)\n",
    "    if savefig: fig.savefig(savefig)\n",
    "    return im"
   ]
  },
  {
   "cell_type": "code",
   "execution_count": null,
   "metadata": {
    "collapsed": false
   },
   "outputs": [],
   "source": [
    "#probably don't need to rerun this, and it takes ages, so don't do it by accident:\n",
    "bands = []\n",
    "bands.append([1760,1820])\n",
    "\n",
    "import time\n",
    "now = time.time()\n",
    "n_bunches = 999999999999\n",
    "\n",
    "rebin_factor = 1.\n",
    "outlist = []\n",
    "\n",
    "images_ir = [np.zeros((256*rebin_factor,256*rebin_factor), dtype = np.float64) for _ in bands]\n",
    "for i, t_range in enumerate(bands):\n",
    "    print 'Processing band %s of %s'%(i+1, len(bands))\n",
    "    for bunchID in sorted(tp_data_ir.keys())[:min(n_bunches,tp_data_ir.keys())]:\n",
    "        for x,y,t,npix in zip(tp_data_ir[bunchID]['xs'],\n",
    "                              tp_data_ir[bunchID]['ys'],\n",
    "                              tp_data_ir[bunchID]['ts'],\n",
    "                              tp_data_ir[bunchID]['npixs']):\n",
    "            if npix <= 3: continue\n",
    "            if t >= t_range[0] and t<t_range[1]:\n",
    "                line = str(x) + '\\t' + str(y) + '\\t' + str(t) + '\\n'\n",
    "                outlist.append(line)\n",
    "                images_ir[i][np.floor(y)][np.floor(x)] += 1\n",
    "#             break\n",
    "\n",
    "#                 images_ir[i] += fn.makeGaussian(256,1,1,[x,y])\n",
    "#                     images_ir[i] += fn.makeGaussian(256,1,(npix**.5)/1.5,[x,y])\n",
    "\n",
    "print 'Took %.1f secs'%(time.time()-now)\n"
   ]
  },
  {
   "cell_type": "code",
   "execution_count": null,
   "metadata": {
    "collapsed": false
   },
   "outputs": [],
   "source": [
    "print len(outlist)\n",
    "\n",
    "outfile = '/Users/mfisherlevine/Desktop/outfile.txt'\n",
    "f = open(outfile, mode='w')\n",
    "\n",
    "for line in outlist:\n",
    "    f.write(line)\n",
    "f.close()"
   ]
  },
  {
   "cell_type": "code",
   "execution_count": null,
   "metadata": {
    "collapsed": true
   },
   "outputs": [],
   "source": []
  },
  {
   "cell_type": "code",
   "execution_count": null,
   "metadata": {
    "collapsed": false
   },
   "outputs": [],
   "source": [
    "DisplayImage(np.rot90(images_ir[0],3), cmap='gray', vmax=np.percentile(images_ir[0],97), savefig='/Users/mfisherlevine/Desktop/usaf_rebin_2.pdf')#, vmax=150)"
   ]
  },
  {
   "cell_type": "code",
   "execution_count": null,
   "metadata": {
    "collapsed": true
   },
   "outputs": [],
   "source": []
  },
  {
   "cell_type": "code",
   "execution_count": null,
   "metadata": {
    "collapsed": false
   },
   "outputs": [],
   "source": [
    "images_ir_raw = np.zeros((256,256), dtype = np.float64)\n",
    "\n",
    "import time\n",
    "now = time.time()\n",
    "n_bunches = 9999999\n",
    "\n",
    "for filenum, filename in enumerate(tp_datafiles_ir[:min(n_bunches,tp_data_ir.keys())]):\n",
    "    if filenum%1000==0: print filenum; sys.stdout.flush()\n",
    "    xs, ys, ts = fn.GetXYTarray_SingleFile(filename)\n",
    "    for x,y in zip(xs, ys):\n",
    "        images_ir_raw[x][y] += 1\n",
    "#     break\n",
    "print 'Took %.1f secs'%(time.time()-now)\n",
    "\n",
    "\n",
    "\n",
    "\n",
    "\n",
    "#     for bunchID in sorted(tp_data_ir.keys())[:min(n_bunches,tp_data_ir.keys())]:\n",
    "#         for x,y,t,npix in zip(tp_data_ir[bunchID]['xs'],\n",
    "#                               tp_data_ir[bunchID]['ys'],\n",
    "#                               tp_data_ir[bunchID]['ts'],\n",
    "#                               tp_data_ir[bunchID]['npixs']):\n",
    "#             if npix <= 3: continue\n",
    "#             if t >= t_range[0] and t<t_range[1]:\n",
    "#                 images_ir[i][y*rebin_factor][x*rebin_factor] += 1\n",
    "\n",
    "# #                 images_ir[i] += fn.makeGaussian(256,1,1,[x,y])\n",
    "# #                     images_ir[i] += fn.makeGaussian(256,1,(npix**.5)/1.5,[x,y])\n",
    "\n",
    "# print 'Took %.1f secs'%(time.time()-now)\n"
   ]
  },
  {
   "cell_type": "code",
   "execution_count": null,
   "metadata": {
    "collapsed": false
   },
   "outputs": [],
   "source": [
    "DisplayImage(np.rot90(images_ir_raw,3), cmap='gray', vmax=np.percentile(images_ir_raw,99.), savefig='/Users/mfisherlevine/Desktop/usaf_raw.pdf')#, vmax=150)"
   ]
  },
  {
   "cell_type": "code",
   "execution_count": null,
   "metadata": {
    "collapsed": true
   },
   "outputs": [],
   "source": []
  },
  {
   "cell_type": "code",
   "execution_count": null,
   "metadata": {
    "collapsed": true
   },
   "outputs": [],
   "source": []
  },
  {
   "cell_type": "code",
   "execution_count": null,
   "metadata": {
    "collapsed": true
   },
   "outputs": [],
   "source": []
  },
  {
   "cell_type": "code",
   "execution_count": null,
   "metadata": {
    "collapsed": false
   },
   "outputs": [],
   "source": [
    "#### pickle the bands and their images\n",
    "pickle_filename = '/Users/mfisherlevine/Desktop/desy/pickles/run'+run_id+'_VMIs.pickle'\n",
    "\n",
    "if False: #C areful, this will overwrite the good pickles if you accidentally run it!\n",
    "    pickle_file = open(pickle_filename, 'wb')\n",
    "    pickle.dump([bands, images], pickle_file)\n",
    "    pickle_file.close()\n",
    "\n",
    "\n",
    "#### Load the bands and their images from the pickle:\n",
    "if True:\n",
    "    print 'Unpickling...'; sys.stdout.flush()\n",
    "    pickle_file = open(pickle_filename, 'rb')\n",
    "    [bands, images] = pickle.load(pickle_file)\n",
    "    pickle_file.close()\n",
    "    print 'Loaded bands and images'"
   ]
  },
  {
   "cell_type": "raw",
   "metadata": {},
   "source": [
    "Plot all the VMI images and give them an appropraite title."
   ]
  },
  {
   "cell_type": "code",
   "execution_count": null,
   "metadata": {
    "collapsed": true
   },
   "outputs": [],
   "source": [
    "from collections import defaultdict\n",
    "time_matrix = defaultdict(lambda  : defaultdict(list))\n",
    "time_matrix[0][0].append('s1')\n"
   ]
  },
  {
   "cell_type": "code",
   "execution_count": null,
   "metadata": {
    "collapsed": false
   },
   "outputs": [],
   "source": [
    "thr = 0.001\n",
    "n_bunches = 10000\n",
    "\n",
    "from collections import defaultdict\n",
    "time_matrix = defaultdict(lambda  : defaultdict(list))\n",
    "\n",
    "now = time.time()\n",
    "tmp_img = np.zeros((256,256), dtype = np.float64)\n",
    "for bunchID in sorted(tp_data_ir.keys())[:min(n_bunches,tp_data_ir.keys())]:\n",
    "    for x,y,t,npix in zip(tp_data_ir[bunchID]['xs'],\n",
    "                          tp_data_ir[bunchID]['ys'],\n",
    "                          tp_data_ir[bunchID]['ts'],\n",
    "                          tp_data_ir[bunchID]['npixs']):\n",
    "        tmp_img = fn.makeGaussian(256,1,1,[x,y])\n",
    "#         tmp_img = fn.makeGaussian(256,1,(npix**.5)/1.5,[x,y])\n",
    "        pixels = np.where(tmp_img>=thr)\n",
    "        for (x,y) in zip(pixels[0],pixels[1]):\n",
    "            time_matrix[x][y].append((t, tmp_img[x][y]))\n",
    "\n",
    "            \n",
    "print 'Took %.1f secs'%(time.time()-now)\n"
   ]
  },
  {
   "cell_type": "code",
   "execution_count": null,
   "metadata": {
    "collapsed": false
   },
   "outputs": [],
   "source": [
    "print time_matrix[100][150]\n"
   ]
  },
  {
   "cell_type": "code",
   "execution_count": null,
   "metadata": {
    "collapsed": false
   },
   "outputs": [],
   "source": [
    "# def time_from_tuple_list(data):\n",
    "#     multiplier = 100\n",
    "#     temp = np.asarray(data)\n",
    "#     xs = temp[:,0]\n",
    "#     ys = temp[:,1]\n",
    "#     tmp = []\n",
    "#     for i in xrange(len(xs)):\n",
    "#         weight = int(ys[i]*multiplier)\n",
    "#         for _ in xrange(weight):\n",
    "#             tmp.append(xs[i])\n",
    "#     return np.mean(np.asarray(tmp)), np.std(np.asarray(tmp))\n",
    "\n",
    "def std_custom(data, t_zero=917):\n",
    "    multiplier = 100\n",
    "    temp = np.asarray(data)\n",
    "    xs = temp[:,0]\n",
    "    ys = temp[:,1]\n",
    "    del temp\n",
    "    npts = 0.\n",
    "    sum_2 = 0.\n",
    "    for i in xrange(len(xs)):\n",
    "        if xs[i] > t_zero + 500: continue\n",
    "        weight = int(ys[i]*multiplier)\n",
    "        for _ in xrange(weight):\n",
    "#             print xs[i]\n",
    "#             break\n",
    "            sum_2 += (xs[i] - t_zero)**2\n",
    "            npts += 1.\n",
    "    if npts ==0: return 0\n",
    "    return (float(sum_2) / float(npts))**.5\n",
    "\n",
    "test = time_matrix[150][101]\n",
    "# print test\n",
    "std = std_custom(test)\n",
    "print std"
   ]
  },
  {
   "cell_type": "code",
   "execution_count": null,
   "metadata": {
    "collapsed": false
   },
   "outputs": [],
   "source": [
    "print len(time_matrix[100][100])"
   ]
  },
  {
   "cell_type": "code",
   "execution_count": null,
   "metadata": {
    "collapsed": false
   },
   "outputs": [],
   "source": [
    "fn.DisplayImage(time_matrix_npts_image_std, vmax=150)"
   ]
  },
  {
   "cell_type": "code",
   "execution_count": null,
   "metadata": {
    "collapsed": false,
    "scrolled": true
   },
   "outputs": [],
   "source": [
    "time_matrix_npts_image_mean = np.zeros((256,256), dtype = np.float64)\n",
    "time_matrix_npts_image_std = np.zeros((256,256), dtype = np.float64)\n",
    "\n",
    "for x in xrange(256):\n",
    "    print x\n",
    "    for y in xrange(256):\n",
    "        if len(time_matrix[x][y])<=5: continue\n",
    "        if time_matrix[x][y]:\n",
    "#             mean, std = time_from_tuple_list(time_matrix[x][y])\n",
    "#             time_matrix_npts_image_mean[x][y] = mean\n",
    "#             time_matrix_npts_image_std[x][y] = std\n",
    "\n",
    "            std = std_custom(time_matrix[x][y])\n",
    "            time_matrix_npts_image_std[x][y] = std\n",
    "\n",
    "        else:\n",
    "            time_matrix_npts_image[x][y] = np.nan\n",
    "\n",
    "        \n",
    "# fn.DisplayImage(time_matrix_npts_image_mean)#, vmax='auto')\n",
    "fn.DisplayImage(time_matrix_npts_image_std)#, vmax='auto')"
   ]
  },
  {
   "cell_type": "code",
   "execution_count": null,
   "metadata": {
    "collapsed": false
   },
   "outputs": [],
   "source": [
    "print len(time_matrix[155][155])"
   ]
  },
  {
   "cell_type": "code",
   "execution_count": null,
   "metadata": {
    "collapsed": true
   },
   "outputs": [],
   "source": []
  },
  {
   "cell_type": "code",
   "execution_count": null,
   "metadata": {
    "collapsed": false
   },
   "outputs": [],
   "source": [
    "xs, ys = [], []\n",
    "# for (x,y) in time_matrix[155][100]:\n",
    "for (x,y) in time_matrix[100][150]:\n",
    "#     if x<700: continue\n",
    "#     if x >1200:continue\n",
    "    xs.append(x)\n",
    "    ys.append(y)\n",
    "pl.plot(xs,ys,'o')\n",
    "# a,b,c = pl.hist(xs, np.append(np.arange(min(xs), min(xs) + 200, 1),np.arange(min(xs)+200, max(xs) +50, 50)))\n",
    "# a,b,c = pl.hist(xs,10)\n",
    "# print np.append(np.arange(min(xs), min(xs) + 200, 1),np.arange(min(xs)+200, max(xs) +50, 50))"
   ]
  },
  {
   "cell_type": "code",
   "execution_count": null,
   "metadata": {
    "collapsed": false
   },
   "outputs": [],
   "source": [
    "# def func(x, a, t0, tc1, tc2):\n",
    "def func(x, a, t0):\n",
    "\n",
    "    # amplitude, t0, tc1, tc2\n",
    "#     return a * (np.exp((t0 - x)/tc1) - np.exp((t0 - x)/tc2))\n",
    "    return a * np.exp(-x/t0)\n",
    "\n",
    "# popt, pcov = curve_fit(func, xdata, ydata)\n",
    "p0 = [2,900]#,0.0001,0.0002]\n",
    "params, pcov = curve_fit(func, xs, ys, p0=p0)\n",
    "print params\n",
    "\n",
    "pl.plot(xs,ys,'o')\n",
    "pl.plot(np.linspace(0, 12000, 100),\n",
    "        [func(_,params[0],params[1]) for _ in np.linspace(0,12000,100)],\n",
    "#         [func(_,params[0],params[1],params[2],params[3]) for _ in np.linspace(0,12000,100)],\n",
    "        'o')\n",
    "\n",
    "\n"
   ]
  },
  {
   "cell_type": "code",
   "execution_count": null,
   "metadata": {
    "collapsed": false
   },
   "outputs": [],
   "source": [
    "pl.plot(xs,ys,'o')\n",
    "pl.plot(np.linspace(0, 12000, 100),[func(_,params[0],params[1],params[2],params[3]) for _ in np.linspace(0,12000,100)], 'o')"
   ]
  },
  {
   "cell_type": "code",
   "execution_count": null,
   "metadata": {
    "collapsed": false
   },
   "outputs": [],
   "source": [
    "def func(x, a, b, c):\n",
    "    return a * np.exp(-b * x) + c\n",
    "\n",
    "\n",
    "xdata = np.linspace(0, 4, 50)\n",
    "y = func(xdata, 2.5, 1.3, 0.5)\n",
    "ydata = y + 0.2 * np.random.normal(size=len(xdata))\n",
    "\n",
    "popt, pcov = curve_fit(func, xdata, ydata)\n",
    "\n",
    "pl.plot(np.linspace(0, 5, 50),ydata, 'o')\n",
    "pl.plot(np.linspace(0, 5, 50),[func(_,popt[0],popt[1],popt[2]) for _ in np.linspace(0,5,50)], 'o')\n",
    "pl.show()"
   ]
  },
  {
   "cell_type": "code",
   "execution_count": null,
   "metadata": {
    "collapsed": true
   },
   "outputs": [],
   "source": []
  },
  {
   "cell_type": "code",
   "execution_count": null,
   "metadata": {
    "collapsed": true
   },
   "outputs": [],
   "source": []
  },
  {
   "cell_type": "code",
   "execution_count": null,
   "metadata": {
    "collapsed": true
   },
   "outputs": [],
   "source": []
  },
  {
   "cell_type": "code",
   "execution_count": null,
   "metadata": {
    "collapsed": false
   },
   "outputs": [],
   "source": [
    "from scipy.optimize import curve_fit"
   ]
  },
  {
   "cell_type": "code",
   "execution_count": null,
   "metadata": {
    "collapsed": false,
    "scrolled": false
   },
   "outputs": [],
   "source": [
    "fn = reload(fn)\n",
    "cmap = 'gray' ### beware using the de facto standard 'jet',\n",
    "\n",
    "### but it's also replotted below for people who can't live without it\n",
    "for i, image in enumerate(images_ir):\n",
    "    title = 'IR image for times %s to %s ns(band #%s)'%(bands[i][0],bands[i][1], i)\n",
    "    fn.DisplayImage(image, cmap=cmap, title=title,vmax='auto',savefig='/Users/mfisherlevine/Desktop/new_USAF_IR_'+str(i)+'.pdf')\n",
    "    pl.show()\n",
    "\n",
    "    "
   ]
  },
  {
   "cell_type": "code",
   "execution_count": null,
   "metadata": {
    "collapsed": false,
    "scrolled": false
   },
   "outputs": [],
   "source": [
    "fn = reload(fn)\n",
    "cmap = 'jet'\n",
    "for i, image in enumerate(images):\n",
    "    title = 'VMI for times %s to %s (band %s)'%(bands[i][0],bands[i][1], i)\n",
    "    fn.DisplayImage(image, cmap=cmap, title=title,vmax='auto')\n",
    "    pl.show()"
   ]
  },
  {
   "cell_type": "code",
   "execution_count": null,
   "metadata": {
    "collapsed": false
   },
   "outputs": [],
   "source": [
    "cmap = 'jet'\n",
    "image = images[27].copy()\n",
    "fn.DisplayImage(image, cmap=cmap, title=title,vmax='auto')\n",
    "pl.show()\n",
    "\n",
    "import scipy.ndimage as im_process\n",
    "from scipy.ndimage.filters import gaussian_filter\n",
    "\n",
    "\n",
    "deriv = im_process.sobel(gaussian_filter(image,3), mode='constant')\n",
    "fn.DisplayImage(deriv, cmap=cmap, title=title,vmax='auto')\n",
    "pl.show()\n",
    "\n",
    "deriv[abs(deriv)<10]=0\n",
    "fn.DisplayImage(deriv, cmap=cmap, title=title,vmax='auto')\n",
    "pl.show()\n",
    "\n",
    "deriv=abs(deriv/abs(deriv))\n",
    "fn.DisplayImage(deriv, cmap=cmap, title=title)\n",
    "pl.show()\n",
    "\n"
   ]
  },
  {
   "cell_type": "code",
   "execution_count": null,
   "metadata": {
    "collapsed": false
   },
   "outputs": [],
   "source": [
    "from skimage import feature\n",
    "\n",
    "fn = reload(fn)\n",
    "cmap = 'jet'\n",
    "for i, image in enumerate(images):\n",
    "    image = image.copy()\n",
    "    if i!=27: continue\n",
    "#     title = 'Fit to VMI for times %s to %s (band %s)'%(bands[i][0],bands[i][1], i)\n",
    "    title = 'Band %s'%i\n",
    "\n",
    "    fn.DisplayImage(image, cmap=cmap, title=title,vmax='auto')\n",
    "#     image[image < 0.8*np.max(image)] = 0\n",
    "    image[image < np.percentile(image,97)] = 0\n",
    "\n",
    "    pl.show()\n",
    "    \n",
    "#     edges = feature.canny(image, sigma=3)\n",
    "\n",
    "    edges = feature.blob_dog(image)\n",
    "    fn.DisplayImage(edges, cmap=cmap, title=title)\n",
    "    pl.show()\n",
    "\n",
    "#     feature.\n",
    "#     x,y,r = FitCircle(deriv)\n",
    "#     DisplayImageWithFit(deriv,x,y,r,title=title)\n",
    "    \n",
    "#     pl.show()"
   ]
  },
  {
   "cell_type": "code",
   "execution_count": null,
   "metadata": {
    "collapsed": true
   },
   "outputs": [],
   "source": []
  },
  {
   "cell_type": "code",
   "execution_count": null,
   "metadata": {
    "collapsed": false
   },
   "outputs": [],
   "source": [
    "fn = reload(fn)\n",
    "cmap = 'jet'\n",
    "for i, image in enumerate(images):\n",
    "#     if i!=3: continue\n",
    "#     title = 'Fit to VMI for times %s to %s (band %s)'%(bands[i][0],bands[i][1], i)\n",
    "    title = 'Band %s'%i\n",
    "\n",
    "    fn.DisplayImage(image, cmap=cmap, title=title,vmax='auto')\n",
    "    import scipy.ndimage as im_process\n",
    "    from scipy.ndimage.filters import gaussian_filter\n",
    "\n",
    "    deriv = im_process.laplace(gaussian_filter(image,2), mode='constant')\n",
    "#     title += ' gaus, laplace'\n",
    "#     fn.DisplayImage(deriv, cmap=cmap, title=title)\n",
    "#     pl.show()\n",
    "\n",
    "    deriv[deriv < np.percentile(deriv,99.7)] = 0\n",
    "\n",
    "    title += ' 99.7th percentile cut'\n",
    "    fn.DisplayImage(deriv, cmap=cmap, title=title)\n",
    "    pl.show()\n",
    "\n",
    "    deriv=abs(deriv/abs(deriv))\n",
    "#     title += ', normed'\n",
    "#     fn.DisplayImage(deriv, cmap=cmap, title=title)\n",
    "#     pl.show()\n",
    "\n",
    "    x,y,r = FitCircle(deriv)\n",
    "    DisplayImageWithFit(deriv,x,y,r,title=title)\n",
    "    \n",
    "    pl.show()"
   ]
  },
  {
   "cell_type": "code",
   "execution_count": null,
   "metadata": {
    "collapsed": true
   },
   "outputs": [],
   "source": []
  },
  {
   "cell_type": "code",
   "execution_count": null,
   "metadata": {
    "collapsed": true
   },
   "outputs": [],
   "source": [
    "x,y,r = FitCircle(deriv)\n",
    "x_circ, y_circ = MakeCirlePointsFromXYR(x,y,r)"
   ]
  },
  {
   "cell_type": "code",
   "execution_count": null,
   "metadata": {
    "collapsed": true
   },
   "outputs": [],
   "source": [
    "def MakeCirlePointsFromXYR(x, y, r, npts=180):\n",
    "    theta_fit = np.linspace(-np.pi, np.pi, npts)\n",
    "    xs = x + r*np.cos(theta_fit)\n",
    "    ys = y + r*np.sin(theta_fit)\n",
    "    return xs, ys"
   ]
  },
  {
   "cell_type": "code",
   "execution_count": null,
   "metadata": {
    "collapsed": false
   },
   "outputs": [],
   "source": []
  },
  {
   "cell_type": "code",
   "execution_count": null,
   "metadata": {
    "collapsed": false
   },
   "outputs": [],
   "source": [
    "fig = pl.figure(figsize = [10,10])\n",
    "ax = fig.add_subplot(111)\n",
    "# ax.set_xlim([YMIN,YMAX])\n",
    "# ax.set_ylim([XMIN,XMAX])\n",
    "\n",
    "# if vmax == 'auto':\n",
    "#     element = (256*256) - 200\n",
    "#     tmp = image.flatten()\n",
    "#     tmp.sort()\n",
    "#     vmax = tmp[element]\n",
    "#     vmin = tmp[200]\n",
    "#     print 'Auto vmax = %s, real max = %s'%(vmax, np.max(image))\n",
    "\n",
    "# if vmin == 'auto':\n",
    "#     tmp = image.flatten()\n",
    "#     vmin = min(_ for _ in tmp if _ > 0)\n",
    "#     print 'Auto vmin = %s'%vmin\n",
    "\n",
    "im = ax.imshow(deriv)#, vmin=vmin, vmax=vmax, cmap=cmap)\n",
    "pl.plot(y,x, 'x', ms=15)\n",
    "pl.plot(y_circ, x_circ, 'r-.')#, label=method_3, lw=2)\n",
    "ax.set_title(title)\n",
    "fig.colorbar(im)\n"
   ]
  },
  {
   "cell_type": "code",
   "execution_count": null,
   "metadata": {
    "collapsed": false
   },
   "outputs": [],
   "source": [
    "def DisplayImageWithFit(image, x, y, r, vmin=None, vmax=None, cmap='jet', title = ''):\n",
    "    import numpy as np\n",
    "    fig = pl.figure(figsize = [10,10])\n",
    "    ax = fig.add_subplot(111)\n",
    "    ax.set_xlim([0,255])\n",
    "    ax.set_ylim([0,255])\n",
    "\n",
    "    if vmax == 'auto':\n",
    "        element = (256*256) - 200\n",
    "        tmp = image.flatten()\n",
    "        tmp.sort()\n",
    "        vmax = tmp[element]\n",
    "        vmin = tmp[200]\n",
    "        print 'Auto vmax = %s, real max = %s'%(vmax, np.max(image))\n",
    "\n",
    "    if vmin == 'auto':\n",
    "        tmp = image.flatten()\n",
    "        vmin = min(_ for _ in tmp if _ > 0)\n",
    "        print 'Auto vmin = %s'%vmin\n",
    "\n",
    "    im = ax.imshow(image, vmin=vmin, vmax=vmax, cmap=cmap)\n",
    "    \n",
    "    pl.plot(y,x, 'xb', ms=15) # x on the centre\n",
    "    x_circ, y_circ = MakeCirlePointsFromXYR(x,y,r) #generate circle points\n",
    "    pl.plot(y_circ, x_circ, 'r-.', lw=4) #plot circle\n",
    "    ax.set_title(title)\n",
    "    fig.colorbar(im)\n",
    "    return im"
   ]
  },
  {
   "cell_type": "code",
   "execution_count": null,
   "metadata": {
    "collapsed": true
   },
   "outputs": [],
   "source": []
  },
  {
   "cell_type": "code",
   "execution_count": null,
   "metadata": {
    "collapsed": true
   },
   "outputs": [],
   "source": []
  },
  {
   "cell_type": "code",
   "execution_count": null,
   "metadata": {
    "collapsed": true
   },
   "outputs": [],
   "source": []
  },
  {
   "cell_type": "code",
   "execution_count": null,
   "metadata": {
    "collapsed": false
   },
   "outputs": [],
   "source": []
  },
  {
   "cell_type": "raw",
   "metadata": {},
   "source": []
  },
  {
   "cell_type": "code",
   "execution_count": null,
   "metadata": {
    "collapsed": false
   },
   "outputs": [],
   "source": []
  },
  {
   "cell_type": "code",
   "execution_count": null,
   "metadata": {
    "collapsed": false
   },
   "outputs": [],
   "source": []
  },
  {
   "cell_type": "code",
   "execution_count": null,
   "metadata": {
    "collapsed": true
   },
   "outputs": [],
   "source": []
  },
  {
   "cell_type": "code",
   "execution_count": null,
   "metadata": {
    "collapsed": true
   },
   "outputs": [],
   "source": []
  },
  {
   "cell_type": "code",
   "execution_count": null,
   "metadata": {
    "collapsed": true
   },
   "outputs": [],
   "source": []
  },
  {
   "cell_type": "code",
   "execution_count": null,
   "metadata": {
    "collapsed": true
   },
   "outputs": [],
   "source": []
  },
  {
   "cell_type": "code",
   "execution_count": null,
   "metadata": {
    "collapsed": true
   },
   "outputs": [],
   "source": []
  },
  {
   "cell_type": "code",
   "execution_count": null,
   "metadata": {
    "collapsed": true
   },
   "outputs": [],
   "source": []
  },
  {
   "cell_type": "code",
   "execution_count": null,
   "metadata": {
    "collapsed": false
   },
   "outputs": [],
   "source": []
  },
  {
   "cell_type": "code",
   "execution_count": null,
   "metadata": {
    "collapsed": false
   },
   "outputs": [],
   "source": []
  },
  {
   "cell_type": "code",
   "execution_count": null,
   "metadata": {
    "collapsed": false
   },
   "outputs": [],
   "source": []
  },
  {
   "cell_type": "code",
   "execution_count": null,
   "metadata": {
    "collapsed": false
   },
   "outputs": [],
   "source": []
  },
  {
   "cell_type": "code",
   "execution_count": null,
   "metadata": {
    "collapsed": false
   },
   "outputs": [],
   "source": []
  },
  {
   "cell_type": "code",
   "execution_count": null,
   "metadata": {
    "collapsed": true
   },
   "outputs": [],
   "source": []
  },
  {
   "cell_type": "code",
   "execution_count": null,
   "metadata": {
    "collapsed": false
   },
   "outputs": [],
   "source": []
  },
  {
   "cell_type": "code",
   "execution_count": null,
   "metadata": {
    "collapsed": false
   },
   "outputs": [],
   "source": []
  },
  {
   "cell_type": "code",
   "execution_count": null,
   "metadata": {
    "collapsed": true
   },
   "outputs": [],
   "source": []
  },
  {
   "cell_type": "code",
   "execution_count": null,
   "metadata": {
    "collapsed": false
   },
   "outputs": [],
   "source": [
    "def FitCircle(data):\n",
    "    import numpy as np\n",
    "    from scipy import odr\n",
    "\n",
    "    x,y = np.where(data>=0)\n",
    "#     x = np.r_[  9, 35, -13,  10,  23,   0]\n",
    "#     y = np.r_[ 34, 10,   6, -14,  27, -10]\n",
    "    \n",
    "    x_m = np.mean(x)\n",
    "    y_m = np.mean(y)\n",
    "    \n",
    "    method_3  = \"odr\"\n",
    "\n",
    "    import functools\n",
    "    def countcalls(fn):\n",
    "        \"decorator function count function calls \"\n",
    "\n",
    "        @functools.wraps(fn)\n",
    "        def wrapped(*args):\n",
    "            wrapped.ncalls +=1\n",
    "            return fn(*args)\n",
    "\n",
    "        wrapped.ncalls = 0\n",
    "        return wrapped\n",
    "    \n",
    "    @countcalls\n",
    "    def calc_R(xc, yc):\n",
    "        \"\"\" calculate the distance of each 2D points from the center (xc, yc) \"\"\"\n",
    "        return np.sqrt((x-xc)**2 + (y-yc)**2)\n",
    "\n",
    "    @countcalls\n",
    "    def f_3(beta, x):\n",
    "        \"\"\" implicit definition of the circle \"\"\"\n",
    "        return (x[0]-beta[0])**2 + (x[1]-beta[1])**2 -beta[2]**2\n",
    "\n",
    "    # initial guess for parameters\n",
    "    R_m = calc_R(x_m, y_m).mean()\n",
    "    beta0 = [ x_m, y_m, R_m]\n",
    "\n",
    "    # for implicit function :\n",
    "    #       data.x contains both coordinates of the points\n",
    "    #       data.y is the dimensionality of the response\n",
    "    lsc_data   = odr.Data(np.row_stack([x, y]), y=1)\n",
    "    lsc_model  = odr.Model(f_3, implicit=True)\n",
    "    lsc_odr    = odr.ODR(lsc_data, lsc_model, beta0)\n",
    "    lsc_out    = lsc_odr.run()\n",
    "\n",
    "    xc_3, yc_3, R_3 = lsc_out.beta\n",
    "    Ri_3       = calc_R(xc_3, yc_3)\n",
    "    residu_3   = sum((Ri_3 - R_3)**2)\n",
    "    residu2_3  = sum((Ri_3**2-R_3**2)**2)\n",
    "    ncalls_3   = f_3.ncalls\n",
    "\n",
    "    # == METHOD 3b ==\n",
    "    # Advanced usage, with jacobian\n",
    "    method_3b  = \"odr with jacobian\"\n",
    "    print \"\\nMethod 3b : \", method_3b\n",
    "\n",
    "    @countcalls\n",
    "    def f_3b(beta, x):\n",
    "        \"\"\" implicit definition of the circle \"\"\"\n",
    "        return (x[0]-beta[0])**2 + (x[1]-beta[1])**2 -beta[2]**2\n",
    "\n",
    "    @countcalls\n",
    "    def jacb(beta, x):\n",
    "        \"\"\" Jacobian function with respect to the parameters beta.\n",
    "        return df_3b/dbeta\n",
    "        \"\"\"\n",
    "        xc, yc, r = beta\n",
    "        xi, yi    = x\n",
    "\n",
    "        df_db    = np.empty((beta.size, x.shape[1]))\n",
    "        df_db[0] =  2*(xc-xi)                     # d_f/dxc\n",
    "        df_db[1] =  2*(yc-yi)                     # d_f/dyc\n",
    "        df_db[2] = -2*r                           # d_f/dr\n",
    "\n",
    "        return df_db\n",
    "\n",
    "    @countcalls\n",
    "    def jacd(beta, x):\n",
    "        \"\"\" Jacobian function with respect to the input x.\n",
    "        return df_3b/dx\n",
    "        \"\"\"\n",
    "        xc, yc, r = beta\n",
    "        xi, yi    = x\n",
    "\n",
    "        df_dx    = np.empty_like(x)\n",
    "        df_dx[0] =  2*(xi-xc)                     # d_f/dxi\n",
    "        df_dx[1] =  2*(yi-yc)                     # d_f/dyi\n",
    "\n",
    "        return df_dx\n",
    "\n",
    "\n",
    "    def calc_estimate(data):\n",
    "        \"\"\" Return a first estimation on the parameter from the data  \"\"\"\n",
    "        xc0, yc0 = data.x.mean(axis=1)\n",
    "        r0 = np.sqrt((data.x[0]-xc0)**2 +(data.x[1] -yc0)**2).mean()\n",
    "        return xc0, yc0, r0\n",
    "\n",
    "    # for implicit function :\n",
    "    #       data.x contains both coordinates of the points\n",
    "    #       data.y is the dimensionality of the response\n",
    "    lsc_data  = odr.Data(np.row_stack([x, y]), y=1)\n",
    "    lsc_model = odr.Model(f_3b, implicit=True, estimate=calc_estimate, fjacd=jacd, fjacb=jacb)\n",
    "    lsc_odr   = odr.ODR(lsc_data, lsc_model)    # beta0 has been replaced by an estimate function\n",
    "    lsc_odr.set_job(deriv=3)                    # use user derivatives function without checking\n",
    "    lsc_odr.set_iprint(iter=1, iter_step=1)     # print details for each iteration\n",
    "    lsc_out   = lsc_odr.run()\n",
    "\n",
    "    xc_3, yc_3, R_3 = lsc_out.beta\n",
    "    Ri_3       = calc_R(xc_3, yc_3)\n",
    "    residu_3   = sum((Ri_3 - R_3)**2)\n",
    "    residu2_3  = sum((Ri_3**2-R_3**2)**2)\n",
    "    ncalls_3   = f_3.ncalls\n",
    "\n",
    "    print \"\\nFunctions calls : f_3b=%d jacb=%d jacd=%d\" % (f_3b.ncalls, jacb.ncalls, jacd.ncalls)\n",
    "\n",
    "    \n",
    "#     def PlotAll():\n",
    "#         f = pl.figure( facecolor='white')  #figsize=(7, 5.4), dpi=72,\n",
    "#         pl.axis('equal')\n",
    "\n",
    "#         theta_fit = np.linspace(-np.pi, np.pi, 180)\n",
    "\n",
    "#         x_fit3 = xc_3 + R_3*np.cos(theta_fit)\n",
    "#         y_fit3 = yc_3 + R_3*np.sin(theta_fit)\n",
    "#         pl.plot(x_fit3, y_fit3, 'r-.', label=method_3, lw=2)\n",
    "\n",
    "#         pl.plot(xc_3, yc_3, 'x', ms=10)\n",
    "        \n",
    "#         pl.plot(x, y, 'o', label='data', ms=3)#, mec='b', mew=1)\n",
    "#         pl.show()\n",
    "    \n",
    "#     PlotAll()\n",
    "\n",
    "    return xc_3, yc_3, R_3\n",
    "\n",
    "        \n",
    "FitCircle(deriv)\n"
   ]
  },
  {
   "cell_type": "code",
   "execution_count": null,
   "metadata": {
    "collapsed": true
   },
   "outputs": [],
   "source": []
  },
  {
   "cell_type": "code",
   "execution_count": null,
   "metadata": {
    "collapsed": true
   },
   "outputs": [],
   "source": []
  },
  {
   "cell_type": "code",
   "execution_count": null,
   "metadata": {
    "collapsed": false
   },
   "outputs": [],
   "source": [
    "# Snippet for examples of annotating images (not mine):\n",
    "\n",
    "# -*- coding: utf-8 -*-\n",
    "import matplotlib.pyplot as plt\n",
    "\n",
    "fig = plt.figure()\n",
    "fig.suptitle('bold figure suptitle', fontsize=14, fontweight='bold')\n",
    "\n",
    "ax = fig.add_subplot(111)\n",
    "fig.subplots_adjust(top=0.85)\n",
    "ax.set_title('axes title')\n",
    "\n",
    "ax.set_xlabel('xlabel')\n",
    "ax.set_ylabel('ylabel')\n",
    "\n",
    "ax.text(3, 8, 'boxed italics text in data coords', style='italic',\n",
    "        bbox={'facecolor':'red', 'alpha':0.5, 'pad':10})\n",
    "\n",
    "ax.text(2, 6, r'an equation: $E=mc^2$', fontsize=15)\n",
    "\n",
    "# ax.text(3, 2, u'unicode: Institut f\\374r Festk\\366rperphysik')\n",
    "\n",
    "ax.text(0.95, 0.01, 'colored text in axes coords',\n",
    "        verticalalignment='bottom', horizontalalignment='right',\n",
    "        transform=ax.transAxes,\n",
    "        color='green', fontsize=15)\n",
    "\n",
    "\n",
    "ax.plot([2], [1], 'o')\n",
    "ax.annotate('annotate', xy=(2, 1), xytext=(3, 4),\n",
    "            arrowprops=dict(facecolor='black', shrink=0.05))\n",
    "\n",
    "ax.axis([0, 10, 0, 10])\n",
    "\n",
    "plt.show()"
   ]
  },
  {
   "cell_type": "code",
   "execution_count": null,
   "metadata": {
    "collapsed": true
   },
   "outputs": [],
   "source": [
    "# Snippet to text out luminance balancing of colour maps:\n",
    "image = np.zeros((256,256), dtype = np.float)\n",
    "a = fn.makeGaussian(256,1500,50,[100,100])\n",
    "image += a\n",
    "print np.max(a)\n",
    "fn.DisplayImage(image, cmap='jet')\n",
    "fn.DisplayImage(image, cmap='gray')\n",
    "fn.DisplayImage(image, cmap='winter')\n",
    "fn.DisplayImage(image, cmap='cubehelix')"
   ]
  },
  {
   "cell_type": "code",
   "execution_count": null,
   "metadata": {
    "collapsed": true
   },
   "outputs": [],
   "source": [
    "#     PEAK_SETTINGS_CENTROIDED = {}\n",
    "#     PEAK_SETTINGS_CENTROIDED['vector'] = global_TOF_centroided\n",
    "#     PEAK_SETTINGS_CENTROIDED['widths'] = np.asarray([3])\n",
    "#     PEAK_SETTINGS_CENTROIDED['min_snr']    = [0.015]\n",
    "#     PEAK_SETTINGS_CENTROIDED['noise_perc'] = [0.0001]\n",
    "\n",
    "#     peaks_centroided = findpeaks( **PEAK_SETTINGS_CENTROIDED)\n",
    "\n",
    "#     if fig is None:\n",
    "#         print 'declared new fig'\n",
    "#         fig = pl.figure(figsize=[16,8])\n",
    "#     ax_cent = pl.subplot(212)\n",
    "#     ax_raw  = pl.subplot(211, sharex=ax_cent)\n",
    "#     tof1 = ax_cent.plot(range(11810),global_TOF_centroided)\n",
    "#     tof2 =  ax_raw.plot(range(11810),global_TOF)\n",
    "#     ax_cent.set_ylim([0,max(global_TOF_centroided[TOF_TMIN:TOF_TMAX])])\n",
    "#     ax_raw.set_ylim([0,max(global_TOF[TOF_TMIN:TOF_TMAX])])\n",
    "#     ax_cent.set_xlim([TOF_TMIN,TOF_TMAX])\n",
    "#     ax_raw.set_xlim([TOF_TMIN,TOF_TMAX])\n",
    "#     if flip:\n",
    "#         ax_cent.set_xlim(ax_cent.get_xlim()[::-1])\n",
    "#     ax_cent.set_title('ToF Centroided')\n",
    "\n",
    "#     FilterPeaks()\n",
    "#     print 'Centroided peaks found at %s'%peaks_centroided[::-1]\n",
    "#     print '       Raw peaks found at %s'%peaks_raw[::-1]\n",
    "\n",
    "#     if ax_cent is not None:\n",
    "#         for peak in peaks_centroided:\n",
    "#             ax_cent.plot([peak, peak], [0, ax_cent.get_ylim()[1]], color='k', linestyle='--', linewidth=1)\n",
    "\n",
    "#     for peak in peaks_raw:\n",
    "#         ax_raw.plot([peak, peak], [0, ax_raw.get_ylim()[1]], color='k', linestyle='--', linewidth=1)\n",
    "\n",
    "#     ax_raw.set_title('ToF RAW')\n",
    "\n",
    "# #     f.savefig(out_path + 'ToF.png')\n",
    "#     pl.show()\n",
    "\n",
    "#     return ax_raw, ax_cent\n",
    "\n",
    "\n",
    "# def FilterPeaks():\n",
    "#     import operator\n",
    "#     search_range = 5\n",
    "#     cent_threshold = len(tp_data) / 10\n",
    "#     raw_threshold = len(loaded_fileNAMES) * 2\n",
    "#     global peaks_centroided\n",
    "#     global peaks_raw\n",
    "#     new_peaks_centroided = []\n",
    "#     new_peaks_raw = []\n",
    "\n",
    "#     for peak in peaks_centroided:\n",
    "#         _min = max(peak - search_range, 0)\n",
    "#         _max = min(peak + search_range, len(global_TOF_centroided))\n",
    "#         index, maxval = max(enumerate(global_TOF_centroided[_min:_max]), key=operator.itemgetter(1))\n",
    "#         if maxval >= cent_threshold:\n",
    "#             new_peaks_centroided.append(_min+index)\n",
    "\n",
    "#     for peak in peaks_raw:\n",
    "#         _min = max(peak - search_range, 0)\n",
    "#         _max = min(peak + search_range, len(global_TOF))\n",
    "#         index, maxval = max(enumerate(global_TOF[_min:_max]), key=operator.itemgetter(1))\n",
    "#         if maxval >= raw_threshold:\n",
    "#             new_peaks_raw.append(_min+index)\n",
    "\n",
    "#     peaks_centroided = new_peaks_centroided\n",
    "#     peaks_raw = new_peaks_raw"
   ]
  }
 ],
 "metadata": {
  "anaconda-cloud": {},
  "kernelspec": {
   "display_name": "Python [Root]",
   "language": "python",
   "name": "Python [Root]"
  },
  "language_info": {
   "codemirror_mode": {
    "name": "ipython",
    "version": 2
   },
   "file_extension": ".py",
   "mimetype": "text/x-python",
   "name": "python",
   "nbconvert_exporter": "python",
   "pygments_lexer": "ipython2",
   "version": "2.7.11"
  }
 },
 "nbformat": 4,
 "nbformat_minor": 0
}
