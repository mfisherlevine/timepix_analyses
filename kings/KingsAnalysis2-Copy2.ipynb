{
 "cells": [
  {
   "cell_type": "code",
   "execution_count": 1,
   "metadata": {
    "collapsed": false
   },
   "outputs": [
    {
     "data": {
      "text/html": [
       "<style>.container { width:90% !important; }</style>"
      ],
      "text/plain": [
       "<IPython.core.display.HTML object>"
      ]
     },
     "execution_count": 1,
     "metadata": {},
     "output_type": "execute_result"
    }
   ],
   "source": [
    "# magic incantation to make the notebook wider\n",
    "from IPython.core.display import HTML\n",
    "HTML(\"<style>.container { width:90% !important; }</style>\")"
   ]
  },
  {
   "cell_type": "code",
   "execution_count": 2,
   "metadata": {
    "collapsed": true
   },
   "outputs": [],
   "source": [
    "#magic incantation to make all text in LaTeX font:\n",
    "from matplotlib import rc\n",
    "# rc('font',**{'family':'serif','serif':['Computer Modern Roman']})\n",
    "rc('font',**{'family':'sans-serif','sans-serif':['Helvetica']})\n",
    "rc('text', usetex=True)"
   ]
  },
  {
   "cell_type": "code",
   "execution_count": 3,
   "metadata": {
    "collapsed": false
   },
   "outputs": [
    {
     "name": "stderr",
     "output_type": "stream",
     "text": [
      "/Users/mfisherlevine/anaconda/lib/python2.7/site-packages/matplotlib/font_manager.py:273: UserWarning: Matplotlib is building the font cache using fc-list. This may take a moment.\n",
      "  warnings.warn('Matplotlib is building the font cache using fc-list. This may take a moment.')\n"
     ]
    }
   ],
   "source": [
    "import numpy as np\n",
    "import pylab as pl\n",
    "import os, sys\n",
    "%matplotlib inline\n",
    "\n",
    "import new_functions as fn\n",
    "fn = reload(fn)\n",
    "\n",
    "# XMAX = 200\n",
    "# XMIN = 50\n",
    "# YMAX = 200\n",
    "# YMIN = 50\n",
    "\n",
    "XMAX = 256\n",
    "XMIN = 0\n",
    "YMAX = 256\n",
    "YMIN = 0"
   ]
  },
  {
   "cell_type": "code",
   "execution_count": 4,
   "metadata": {
    "collapsed": false
   },
   "outputs": [
    {
     "name": "stdout",
     "output_type": "stream",
     "text": [
      "Found 200000 datafiles in run /Users/mfisherlevine/Downloads/160808_usaf1/\n"
     ]
    }
   ],
   "source": [
    "timepix_data_dir_ir = '/Users/mfisherlevine/Downloads/160808_usaf1/'\n",
    "\n",
    "\n",
    "dirs = [timepix_data_dir_ir + _ for _ in os.listdir(timepix_data_dir_ir) if _.find('.DS')==-1]\n",
    "tp_datafiles_ir = []\n",
    "for this_dir in dirs:\n",
    "    tp_datafiles_ir.extend([os.path.join(this_dir, _) for _ in os.listdir(this_dir) if _.find('.DS')==-1])\n",
    "print 'Found %s datafiles in run %s'%(len(tp_datafiles_ir), timepix_data_dir_ir)\n"
   ]
  },
  {
   "cell_type": "code",
   "execution_count": 5,
   "metadata": {
    "collapsed": true
   },
   "outputs": [],
   "source": [
    "tp_data_ir = dict.fromkeys(tp_datafiles_ir)\n"
   ]
  },
  {
   "cell_type": "code",
   "execution_count": 7,
   "metadata": {
    "collapsed": false,
    "scrolled": true
   },
   "outputs": [
    {
     "name": "stdout",
     "output_type": "stream",
     "text": [
      "Processed 0 files\n",
      "Processed 1000 files\n",
      "Processed 2000 files\n",
      "Processed 3000 files\n",
      "Processed 4000 files\n",
      "Processed 5000 files\n",
      "Processed 6000 files\n",
      "Processed 7000 files\n",
      "Processed 8000 files\n",
      "Processed 9000 files\n",
      "Processed 10000 files\n",
      "Processed 11000 files\n",
      "Processed 12000 files\n",
      "Processed 13000 files\n",
      "Processed 14000 files\n",
      "Processed 15000 files\n",
      "Processed 16000 files\n",
      "Processed 17000 files\n",
      "Processed 18000 files\n",
      "Processed 19000 files\n",
      "Processed 20000 files\n",
      "Processed 21000 files\n",
      "Processed 22000 files\n",
      "Processed 23000 files\n",
      "Processed 24000 files\n",
      "Processed 25000 files\n",
      "Processed 26000 files\n",
      "Processed 27000 files\n",
      "Processed 28000 files\n",
      "Processed 29000 files\n",
      "Processed 30000 files\n",
      "Processed 31000 files\n",
      "Processed 32000 files\n",
      "Processed 33000 files\n",
      "Processed 34000 files\n",
      "Processed 35000 files\n",
      "Processed 36000 files\n",
      "Processed 37000 files\n",
      "Processed 38000 files\n",
      "Processed 39000 files\n",
      "Processed 40000 files\n",
      "Processed 41000 files\n",
      "Processed 42000 files\n",
      "Processed 43000 files\n",
      "Processed 44000 files\n",
      "Processed 45000 files\n",
      "Processed 46000 files\n",
      "Processed 47000 files\n",
      "Processed 48000 files\n",
      "Processed 49000 files\n",
      "Processed 50000 files\n",
      "Processed 51000 files\n",
      "Processed 52000 files\n",
      "Processed 53000 files\n",
      "Processed 54000 files\n",
      "Processed 55000 files\n",
      "Processed 56000 files\n",
      "Processed 57000 files\n",
      "Processed 58000 files\n",
      "Processed 59000 files\n",
      "Processed 60000 files\n",
      "Processed 61000 files\n",
      "Processed 62000 files\n",
      "Processed 63000 files\n",
      "Processed 64000 files\n",
      "Processed 65000 files\n",
      "Processed 66000 files\n",
      "Processed 67000 files\n",
      "Processed 68000 files\n",
      "Processed 69000 files\n",
      "Processed 70000 files\n",
      "Processed 71000 files\n",
      "Processed 72000 files\n",
      "Processed 73000 files\n",
      "Processed 74000 files\n",
      "Processed 75000 files\n",
      "Processed 76000 files\n",
      "Processed 77000 files\n",
      "Processed 78000 files\n",
      "Processed 79000 files\n",
      "Processed 80000 files\n",
      "Processed 81000 files\n",
      "Processed 82000 files\n",
      "Processed 83000 files\n",
      "Processed 84000 files\n",
      "Processed 85000 files\n",
      "Processed 86000 files\n",
      "Processed 87000 files\n",
      "Processed 88000 files\n",
      "Processed 89000 files\n",
      "Processed 90000 files\n",
      "Processed 91000 files\n",
      "Processed 92000 files\n",
      "Processed 93000 files\n",
      "Processed 94000 files\n",
      "Processed 95000 files\n",
      "Processed 96000 files\n",
      "Processed 97000 files\n",
      "Processed 98000 files\n",
      "Processed 99000 files\n",
      "Processed 100000 files\n",
      "Processed 101000 files\n",
      "Processed 102000 files\n",
      "Processed 103000 files\n",
      "Processed 104000 files\n",
      "Processed 105000 files\n",
      "Processed 106000 files\n",
      "Processed 107000 files\n",
      "Processed 108000 files\n",
      "Processed 109000 files\n",
      "Processed 110000 files\n",
      "Processed 111000 files\n",
      "Processed 112000 files\n",
      "Processed 113000 files\n",
      "Processed 114000 files\n",
      "Processed 115000 files\n",
      "Processed 116000 files\n",
      "Processed 117000 files\n",
      "Processed 118000 files\n",
      "Processed 119000 files\n",
      "Processed 120000 files\n",
      "Processed 121000 files\n",
      "Processed 122000 files\n",
      "Processed 123000 files\n",
      "Processed 124000 files\n",
      "Processed 125000 files\n",
      "Processed 126000 files\n",
      "Processed 127000 files\n",
      "Processed 128000 files\n",
      "Processed 129000 files\n",
      "Processed 130000 files\n",
      "Processed 131000 files\n",
      "Processed 132000 files\n",
      "Processed 133000 files\n",
      "Processed 134000 files\n",
      "Processed 135000 files\n",
      "Processed 136000 files\n",
      "Processed 137000 files\n",
      "Processed 138000 files\n",
      "Processed 139000 files\n",
      "Processed 140000 files\n",
      "Processed 141000 files\n",
      "Processed 142000 files\n",
      "Processed 143000 files\n",
      "Processed 144000 files\n",
      "Processed 145000 files\n",
      "Processed 146000 files\n",
      "Processed 147000 files\n",
      "Processed 148000 files\n",
      "Processed 149000 files\n",
      "Processed 150000 files\n",
      "Processed 151000 files\n",
      "Processed 152000 files\n",
      "Processed 153000 files\n",
      "Processed 154000 files\n",
      "Processed 155000 files\n",
      "Processed 156000 files\n",
      "Processed 157000 files\n",
      "Processed 158000 files\n",
      "Processed 159000 files\n",
      "Processed 160000 files\n",
      "Processed 161000 files\n",
      "Processed 162000 files\n",
      "Processed 163000 files\n",
      "Processed 164000 files\n",
      "Processed 165000 files\n",
      "Processed 166000 files\n",
      "Processed 167000 files\n",
      "Processed 168000 files\n",
      "Processed 169000 files\n",
      "Processed 170000 files\n",
      "Processed 171000 files\n",
      "Processed 172000 files\n",
      "Processed 173000 files\n",
      "Processed 174000 files\n",
      "Processed 175000 files\n",
      "Processed 176000 files\n",
      "Processed 177000 files\n",
      "Processed 178000 files\n",
      "Processed 179000 files\n",
      "Processed 180000 files\n",
      "Processed 181000 files\n",
      "Processed 182000 files\n",
      "Processed 183000 files\n",
      "Processed 184000 files\n",
      "Processed 185000 files\n",
      "Processed 186000 files\n",
      "Processed 187000 files\n",
      "Processed 188000 files\n",
      "Processed 189000 files\n",
      "Processed 190000 files\n",
      "Processed 191000 files\n",
      "Processed 192000 files\n",
      "Processed 193000 files\n",
      "Processed 194000 files\n",
      "Processed 195000 files\n",
      "Processed 196000 files\n",
      "Processed 197000 files\n",
      "Processed 198000 files\n",
      "Processed 199000 files\n",
      "*****\n",
      "Loaded 200000 files\n"
     ]
    }
   ],
   "source": [
    "\n",
    "\n",
    "\n",
    "n_files_loaded = 0\n",
    "for filename in tp_datafiles_ir:\n",
    "    if n_files_loaded%1000==0: print 'Processed %s files'%n_files_loaded; sys.stdout.flush()\n",
    "    n_codes = fn.Get_n_timecodesFromFile(filename)\n",
    "#     if not filename in tp_data_ir.keys():\n",
    "    tp_data_ir[filename] = {}\n",
    "    tp_data_ir[filename]['n_codes'] = n_codes\n",
    "    tp_data_ir[filename]['filename'] = filename\n",
    "#     else:\n",
    "#         print 'Would have overwritten bunchID %s'%bunchID\n",
    "    n_files_loaded += 1\n",
    "\n",
    "print '*****\\nLoaded %s files' %n_files_loaded\n",
    "\n"
   ]
  },
  {
   "cell_type": "code",
   "execution_count": null,
   "metadata": {
    "collapsed": false
   },
   "outputs": [],
   "source": [
    "fn = reload(fn)\n",
    "\n",
    "# fn.ShowClusteredImage('/Users/mfisherlevine/Downloads/160721_voltages1/160721_v9/160721_v9_0250.txt',257)\n",
    "fn.ShowClusteredImage(tp_datafiles_ir[0],257,skiplines=1)"
   ]
  },
  {
   "cell_type": "code",
   "execution_count": null,
   "metadata": {
    "collapsed": true
   },
   "outputs": [],
   "source": []
  },
  {
   "cell_type": "code",
   "execution_count": 8,
   "metadata": {
    "collapsed": false,
    "scrolled": true
   },
   "outputs": [
    {
     "name": "stdout",
     "output_type": "stream",
     "text": [
      "Centroided 0 frames\n"
     ]
    },
    {
     "name": "stderr",
     "output_type": "stream",
     "text": [
      "/Users/mfisherlevine/anaconda/lib/python2.7/site-packages/numpy/lib/npyio.py:893: UserWarning: loadtxt: Empty input file: \"/Users/mfisherlevine/Downloads/160808_usaf1/05/usaf1_2016_08_08_11_37_27_552.txt\"\n",
      "  warnings.warn('loadtxt: Empty input file: \"%s\"' % fname)\n",
      "/Users/mfisherlevine/anaconda/lib/python2.7/site-packages/numpy/lib/npyio.py:893: UserWarning: loadtxt: Empty input file: \"/Users/mfisherlevine/Downloads/160808_usaf1/02/usaf1_2016_08_08_09_44_42_220.txt\"\n",
      "  warnings.warn('loadtxt: Empty input file: \"%s\"' % fname)\n"
     ]
    },
    {
     "name": "stdout",
     "output_type": "stream",
     "text": [
      "Found 1 clusters in /Users/mfisherlevine/Downloads/160808_usaf1/06/usaf1_2016_08_08_12_40_15_515.txt - TCUT = 257\n"
     ]
    },
    {
     "name": "stderr",
     "output_type": "stream",
     "text": [
      "/Users/mfisherlevine/anaconda/lib/python2.7/site-packages/numpy/lib/npyio.py:893: UserWarning: loadtxt: Empty input file: \"/Users/mfisherlevine/Downloads/160808_usaf1/01/usaf1_2016_08_08_08_25_48_169.txt\"\n",
      "  warnings.warn('loadtxt: Empty input file: \"%s\"' % fname)\n"
     ]
    },
    {
     "name": "stdout",
     "output_type": "stream",
     "text": [
      "Centroided 500 frames\n",
      "Found 1 clusters in /Users/mfisherlevine/Downloads/160808_usaf1/06/usaf1_2016_08_08_12_11_01_366.txt - TCUT = 257\n",
      "Found 1 clusters in /Users/mfisherlevine/Downloads/160808_usaf1/06/usaf1_2016_08_08_12_23_35_222.txt - TCUT = 257\n",
      "Found 1 clusters in /Users/mfisherlevine/Downloads/160808_usaf1/01/usaf1_2016_08_08_08_41_17_189.txt - TCUT = 257\n",
      "Centroided 1000 frames\n",
      "Found 1 clusters in /Users/mfisherlevine/Downloads/160808_usaf1/07/usaf1_2016_08_08_13_16_25_455.txt - TCUT = 257\n"
     ]
    },
    {
     "name": "stderr",
     "output_type": "stream",
     "text": [
      "/Users/mfisherlevine/anaconda/lib/python2.7/site-packages/numpy/lib/npyio.py:893: UserWarning: loadtxt: Empty input file: \"/Users/mfisherlevine/Downloads/160808_usaf1/01/usaf1_2016_08_08_08_39_25_035.txt\"\n",
      "  warnings.warn('loadtxt: Empty input file: \"%s\"' % fname)\n",
      "/Users/mfisherlevine/anaconda/lib/python2.7/site-packages/numpy/lib/npyio.py:893: UserWarning: loadtxt: Empty input file: \"/Users/mfisherlevine/Downloads/160808_usaf1/04/usaf1_2016_08_08_11_08_42_022.txt\"\n",
      "  warnings.warn('loadtxt: Empty input file: \"%s\"' % fname)\n"
     ]
    },
    {
     "name": "stdout",
     "output_type": "stream",
     "text": [
      "Centroided 1500 frames\n"
     ]
    },
    {
     "name": "stderr",
     "output_type": "stream",
     "text": [
      "/Users/mfisherlevine/anaconda/lib/python2.7/site-packages/numpy/lib/npyio.py:893: UserWarning: loadtxt: Empty input file: \"/Users/mfisherlevine/Downloads/160808_usaf1/03/usaf1_2016_08_08_10_06_17_818.txt\"\n",
      "  warnings.warn('loadtxt: Empty input file: \"%s\"' % fname)\n"
     ]
    },
    {
     "name": "stdout",
     "output_type": "stream",
     "text": [
      "Found 1 clusters in /Users/mfisherlevine/Downloads/160808_usaf1/07/usaf1_2016_08_08_12_54_04_775.txt - TCUT = 257\n",
      "Found 1 clusters in /Users/mfisherlevine/Downloads/160808_usaf1/04/usaf1_2016_08_08_10_47_23_680.txt - TCUT = 257\n",
      "Found 1 clusters in /Users/mfisherlevine/Downloads/160808_usaf1/06/usaf1_2016_08_08_12_05_50_230.txt - TCUT = 257\n",
      "Found 1 clusters in /Users/mfisherlevine/Downloads/160808_usaf1/02/usaf1_2016_08_08_09_29_31_727.txt - TCUT = 257\n"
     ]
    },
    {
     "name": "stderr",
     "output_type": "stream",
     "text": [
      "/Users/mfisherlevine/anaconda/lib/python2.7/site-packages/numpy/lib/npyio.py:893: UserWarning: loadtxt: Empty input file: \"/Users/mfisherlevine/Downloads/160808_usaf1/02/usaf1_2016_08_08_09_09_58_997.txt\"\n",
      "  warnings.warn('loadtxt: Empty input file: \"%s\"' % fname)\n"
     ]
    },
    {
     "name": "stdout",
     "output_type": "stream",
     "text": [
      "Found 1 clusters in /Users/mfisherlevine/Downloads/160808_usaf1/02/usaf1_2016_08_08_09_12_45_745.txt - TCUT = 257\n",
      "Centroided 2000 frames\n"
     ]
    },
    {
     "name": "stderr",
     "output_type": "stream",
     "text": [
      "/Users/mfisherlevine/anaconda/lib/python2.7/site-packages/numpy/lib/npyio.py:893: UserWarning: loadtxt: Empty input file: \"/Users/mfisherlevine/Downloads/160808_usaf1/00/usaf1_2016_08_08_07_54_08_973.txt\"\n",
      "  warnings.warn('loadtxt: Empty input file: \"%s\"' % fname)\n"
     ]
    },
    {
     "name": "stdout",
     "output_type": "stream",
     "text": [
      "Found 1 clusters in /Users/mfisherlevine/Downloads/160808_usaf1/07/usaf1_2016_08_08_13_20_16_877.txt - TCUT = 257\n"
     ]
    },
    {
     "name": "stderr",
     "output_type": "stream",
     "text": [
      "/Users/mfisherlevine/anaconda/lib/python2.7/site-packages/numpy/lib/npyio.py:893: UserWarning: loadtxt: Empty input file: \"/Users/mfisherlevine/Downloads/160808_usaf1/00/usaf1_2016_08_08_08_10_04_207.txt\"\n",
      "  warnings.warn('loadtxt: Empty input file: \"%s\"' % fname)\n"
     ]
    },
    {
     "name": "stdout",
     "output_type": "stream",
     "text": [
      "Centroided 2500 frames\n",
      "Found 1 clusters in /Users/mfisherlevine/Downloads/160808_usaf1/06/usaf1_2016_08_08_12_32_02_955.txt - TCUT = 257\n",
      "Found 1 clusters in /Users/mfisherlevine/Downloads/160808_usaf1/07/usaf1_2016_08_08_13_00_30_566.txt - TCUT = 257\n",
      "Found 1 clusters in /Users/mfisherlevine/Downloads/160808_usaf1/00/usaf1_2016_08_08_07_59_11_664.txt - TCUT = 257\n",
      "Centroided 3000 frames\n"
     ]
    },
    {
     "name": "stderr",
     "output_type": "stream",
     "text": [
      "/Users/mfisherlevine/anaconda/lib/python2.7/site-packages/numpy/lib/npyio.py:893: UserWarning: loadtxt: Empty input file: \"/Users/mfisherlevine/Downloads/160808_usaf1/01/usaf1_2016_08_08_08_54_42_932.txt\"\n",
      "  warnings.warn('loadtxt: Empty input file: \"%s\"' % fname)\n"
     ]
    },
    {
     "name": "stdout",
     "output_type": "stream",
     "text": [
      "Found 1 clusters in /Users/mfisherlevine/Downloads/160808_usaf1/06/usaf1_2016_08_08_12_44_35_545.txt - TCUT = 257\n",
      "Found 1 clusters in /Users/mfisherlevine/Downloads/160808_usaf1/01/usaf1_2016_08_08_08_34_00_415.txt - TCUT = 257\n",
      "Found 1 clusters in /Users/mfisherlevine/Downloads/160808_usaf1/06/usaf1_2016_08_08_12_22_13_923.txt - TCUT = 257\n",
      "Found 1 clusters in /Users/mfisherlevine/Downloads/160808_usaf1/02/usaf1_2016_08_08_09_45_31_184.txt - TCUT = 257\n",
      "Found 1 clusters in /Users/mfisherlevine/Downloads/160808_usaf1/06/usaf1_2016_08_08_12_37_40_487.txt - TCUT = 257\n",
      "Centroided 3500 frames\n"
     ]
    },
    {
     "name": "stderr",
     "output_type": "stream",
     "text": [
      "/Users/mfisherlevine/anaconda/lib/python2.7/site-packages/numpy/lib/npyio.py:893: UserWarning: loadtxt: Empty input file: \"/Users/mfisherlevine/Downloads/160808_usaf1/05/usaf1_2016_08_08_11_36_17_036.txt\"\n",
      "  warnings.warn('loadtxt: Empty input file: \"%s\"' % fname)\n"
     ]
    },
    {
     "name": "stdout",
     "output_type": "stream",
     "text": [
      "Found 1 clusters in /Users/mfisherlevine/Downloads/160808_usaf1/00/usaf1_2016_08_08_08_03_12_753.txt - TCUT = 257\n",
      "Centroided 4000 frames\n",
      "Found 1 clusters in /Users/mfisherlevine/Downloads/160808_usaf1/04/usaf1_2016_08_08_10_59_48_135.txt - TCUT = 257\n"
     ]
    },
    {
     "name": "stderr",
     "output_type": "stream",
     "text": [
      "/Users/mfisherlevine/anaconda/lib/python2.7/site-packages/numpy/lib/npyio.py:893: UserWarning: loadtxt: Empty input file: \"/Users/mfisherlevine/Downloads/160808_usaf1/02/usaf1_2016_08_08_09_26_35_233.txt\"\n",
      "  warnings.warn('loadtxt: Empty input file: \"%s\"' % fname)\n",
      "/Users/mfisherlevine/anaconda/lib/python2.7/site-packages/numpy/lib/npyio.py:893: UserWarning: loadtxt: Empty input file: \"/Users/mfisherlevine/Downloads/160808_usaf1/06/usaf1_2016_08_08_12_17_18_033.txt\"\n",
      "  warnings.warn('loadtxt: Empty input file: \"%s\"' % fname)\n"
     ]
    },
    {
     "name": "stdout",
     "output_type": "stream",
     "text": [
      "Centroided 4500 frames\n"
     ]
    },
    {
     "name": "stderr",
     "output_type": "stream",
     "text": [
      "/Users/mfisherlevine/anaconda/lib/python2.7/site-packages/numpy/lib/npyio.py:893: UserWarning: loadtxt: Empty input file: \"/Users/mfisherlevine/Downloads/160808_usaf1/03/usaf1_2016_08_08_10_32_51_166.txt\"\n",
      "  warnings.warn('loadtxt: Empty input file: \"%s\"' % fname)\n",
      "/Users/mfisherlevine/anaconda/lib/python2.7/site-packages/numpy/lib/npyio.py:893: UserWarning: loadtxt: Empty input file: \"/Users/mfisherlevine/Downloads/160808_usaf1/05/usaf1_2016_08_08_11_47_48_165.txt\"\n",
      "  warnings.warn('loadtxt: Empty input file: \"%s\"' % fname)\n"
     ]
    },
    {
     "name": "stdout",
     "output_type": "stream",
     "text": [
      "Found 1 clusters in /Users/mfisherlevine/Downloads/160808_usaf1/07/usaf1_2016_08_08_12_54_41_910.txt - TCUT = 257\n",
      "Found 1 clusters in /Users/mfisherlevine/Downloads/160808_usaf1/00/usaf1_2016_08_08_07_48_40_836.txt - TCUT = 257\n",
      "Found 1 clusters in /Users/mfisherlevine/Downloads/160808_usaf1/05/usaf1_2016_08_08_11_44_18_627.txt - TCUT = 257\n",
      "Centroided 5000 frames\n",
      "Found 1 clusters in /Users/mfisherlevine/Downloads/160808_usaf1/02/usaf1_2016_08_08_09_31_33_288.txt - TCUT = 257\n",
      "Found 1 clusters in /Users/mfisherlevine/Downloads/160808_usaf1/04/usaf1_2016_08_08_10_57_27_683.txt - TCUT = 257\n",
      "Found 1 clusters in /Users/mfisherlevine/Downloads/160808_usaf1/07/usaf1_2016_08_08_13_15_01_169.txt - TCUT = 257\n",
      "Found 1 clusters in /Users/mfisherlevine/Downloads/160808_usaf1/04/usaf1_2016_08_08_11_19_14_479.txt - TCUT = 257\n",
      "Found 1 clusters in /Users/mfisherlevine/Downloads/160808_usaf1/03/usaf1_2016_08_08_09_54_46_714.txt - TCUT = 257\n",
      "Found 1 clusters in /Users/mfisherlevine/Downloads/160808_usaf1/06/usaf1_2016_08_08_12_09_14_653.txt - TCUT = 257\n",
      "Centroided 5500 frames\n",
      "Found 1 clusters in /Users/mfisherlevine/Downloads/160808_usaf1/07/usaf1_2016_08_08_13_06_08_746.txt - TCUT = 257\n",
      "Found 1 clusters in /Users/mfisherlevine/Downloads/160808_usaf1/00/usaf1_2016_08_08_08_03_05_471.txt - TCUT = 257\n",
      "Centroided 6000 frames\n",
      "Found 1 clusters in /Users/mfisherlevine/Downloads/160808_usaf1/02/usaf1_2016_08_08_09_43_16_764.txt - TCUT = 257\n",
      "Centroided 6500 frames\n",
      "Found 1 clusters in /Users/mfisherlevine/Downloads/160808_usaf1/07/usaf1_2016_08_08_13_08_12_664.txt - TCUT = 257\n",
      "Found 1 clusters in /Users/mfisherlevine/Downloads/160808_usaf1/05/usaf1_2016_08_08_11_52_37_553.txt - TCUT = 257\n",
      "Found 1 clusters in /Users/mfisherlevine/Downloads/160808_usaf1/06/usaf1_2016_08_08_12_28_43_855.txt - TCUT = 257\n",
      "Centroided 7000 frames\n",
      "Found 1 clusters in /Users/mfisherlevine/Downloads/160808_usaf1/07/usaf1_2016_08_08_12_49_12_941.txt - TCUT = 257\n",
      "Found 1 clusters in /Users/mfisherlevine/Downloads/160808_usaf1/05/usaf1_2016_08_08_11_47_21_988.txt - TCUT = 257\n"
     ]
    },
    {
     "name": "stderr",
     "output_type": "stream",
     "text": [
      "/Users/mfisherlevine/anaconda/lib/python2.7/site-packages/numpy/lib/npyio.py:893: UserWarning: loadtxt: Empty input file: \"/Users/mfisherlevine/Downloads/160808_usaf1/00/usaf1_2016_08_08_08_11_01_737.txt\"\n",
      "  warnings.warn('loadtxt: Empty input file: \"%s\"' % fname)\n"
     ]
    },
    {
     "name": "stdout",
     "output_type": "stream",
     "text": [
      "Found 1 clusters in /Users/mfisherlevine/Downloads/160808_usaf1/03/usaf1_2016_08_08_10_04_15_452.txt - TCUT = 257\n",
      "Centroided 7500 frames\n"
     ]
    },
    {
     "name": "stderr",
     "output_type": "stream",
     "text": [
      "/Users/mfisherlevine/anaconda/lib/python2.7/site-packages/numpy/lib/npyio.py:893: UserWarning: loadtxt: Empty input file: \"/Users/mfisherlevine/Downloads/160808_usaf1/02/usaf1_2016_08_08_09_20_21_998.txt\"\n",
      "  warnings.warn('loadtxt: Empty input file: \"%s\"' % fname)\n",
      "/Users/mfisherlevine/anaconda/lib/python2.7/site-packages/numpy/lib/npyio.py:893: UserWarning: loadtxt: Empty input file: \"/Users/mfisherlevine/Downloads/160808_usaf1/04/usaf1_2016_08_08_10_41_56_043.txt\"\n",
      "  warnings.warn('loadtxt: Empty input file: \"%s\"' % fname)\n",
      "/Users/mfisherlevine/anaconda/lib/python2.7/site-packages/numpy/lib/npyio.py:893: UserWarning: loadtxt: Empty input file: \"/Users/mfisherlevine/Downloads/160808_usaf1/02/usaf1_2016_08_08_09_41_59_276.txt\"\n",
      "  warnings.warn('loadtxt: Empty input file: \"%s\"' % fname)\n"
     ]
    },
    {
     "name": "stdout",
     "output_type": "stream",
     "text": [
      "Centroided 8000 frames\n",
      "Found 1 clusters in /Users/mfisherlevine/Downloads/160808_usaf1/03/usaf1_2016_08_08_10_28_02_965.txt - TCUT = 257\n"
     ]
    },
    {
     "name": "stderr",
     "output_type": "stream",
     "text": [
      "/Users/mfisherlevine/anaconda/lib/python2.7/site-packages/numpy/lib/npyio.py:893: UserWarning: loadtxt: Empty input file: \"/Users/mfisherlevine/Downloads/160808_usaf1/03/usaf1_2016_08_08_10_20_38_988.txt\"\n",
      "  warnings.warn('loadtxt: Empty input file: \"%s\"' % fname)\n"
     ]
    },
    {
     "name": "stdout",
     "output_type": "stream",
     "text": [
      "Found 1 clusters in /Users/mfisherlevine/Downloads/160808_usaf1/07/usaf1_2016_08_08_12_50_44_327.txt - TCUT = 257\n",
      "Found 1 clusters in /Users/mfisherlevine/Downloads/160808_usaf1/05/usaf1_2016_08_08_11_26_26_637.txt - TCUT = 257\n",
      "Centroided 8500 frames\n"
     ]
    },
    {
     "name": "stderr",
     "output_type": "stream",
     "text": [
      "/Users/mfisherlevine/anaconda/lib/python2.7/site-packages/numpy/lib/npyio.py:893: UserWarning: loadtxt: Empty input file: \"/Users/mfisherlevine/Downloads/160808_usaf1/06/usaf1_2016_08_08_12_05_17_459.txt\"\n",
      "  warnings.warn('loadtxt: Empty input file: \"%s\"' % fname)\n"
     ]
    },
    {
     "name": "stdout",
     "output_type": "stream",
     "text": [
      "Centroided 9000 frames\n",
      "Found 1 clusters in /Users/mfisherlevine/Downloads/160808_usaf1/01/usaf1_2016_08_08_08_51_37_907.txt - TCUT = 257\n",
      "Found 1 clusters in /Users/mfisherlevine/Downloads/160808_usaf1/00/usaf1_2016_08_08_08_18_49_313.txt - TCUT = 257\n",
      "Centroided 9500 frames\n",
      "Found 1 clusters in /Users/mfisherlevine/Downloads/160808_usaf1/03/usaf1_2016_08_08_10_07_05_389.txt - TCUT = 257\n"
     ]
    },
    {
     "name": "stderr",
     "output_type": "stream",
     "text": [
      "/Users/mfisherlevine/anaconda/lib/python2.7/site-packages/numpy/lib/npyio.py:893: UserWarning: loadtxt: Empty input file: \"/Users/mfisherlevine/Downloads/160808_usaf1/02/usaf1_2016_08_08_09_16_35_800.txt\"\n",
      "  warnings.warn('loadtxt: Empty input file: \"%s\"' % fname)\n"
     ]
    },
    {
     "name": "stdout",
     "output_type": "stream",
     "text": [
      "Found 1 clusters in /Users/mfisherlevine/Downloads/160808_usaf1/06/usaf1_2016_08_08_12_34_33_711.txt - TCUT = 257\n",
      "Found 1 clusters in /Users/mfisherlevine/Downloads/160808_usaf1/06/usaf1_2016_08_08_12_11_51_679.txt - TCUT = 257\n",
      "Centroided 10000 frames\n",
      "Found 1 clusters in /Users/mfisherlevine/Downloads/160808_usaf1/01/usaf1_2016_08_08_08_37_09_756.txt - TCUT = 257\n"
     ]
    },
    {
     "name": "stderr",
     "output_type": "stream",
     "text": [
      "/Users/mfisherlevine/anaconda/lib/python2.7/site-packages/numpy/lib/npyio.py:893: UserWarning: loadtxt: Empty input file: \"/Users/mfisherlevine/Downloads/160808_usaf1/07/usaf1_2016_08_08_13_00_33_932.txt\"\n",
      "  warnings.warn('loadtxt: Empty input file: \"%s\"' % fname)\n"
     ]
    },
    {
     "name": "stdout",
     "output_type": "stream",
     "text": [
      "Found 1 clusters in /Users/mfisherlevine/Downloads/160808_usaf1/02/usaf1_2016_08_08_09_22_24_688.txt - TCUT = 257\n",
      "Centroided 10500 frames\n",
      "Found 1 clusters in /Users/mfisherlevine/Downloads/160808_usaf1/05/usaf1_2016_08_08_11_33_50_841.txt - TCUT = 257\n"
     ]
    },
    {
     "name": "stderr",
     "output_type": "stream",
     "text": [
      "/Users/mfisherlevine/anaconda/lib/python2.7/site-packages/numpy/lib/npyio.py:893: UserWarning: loadtxt: Empty input file: \"/Users/mfisherlevine/Downloads/160808_usaf1/02/usaf1_2016_08_08_09_06_41_008.txt\"\n",
      "  warnings.warn('loadtxt: Empty input file: \"%s\"' % fname)\n"
     ]
    },
    {
     "name": "stdout",
     "output_type": "stream",
     "text": [
      "Found 1 clusters in /Users/mfisherlevine/Downloads/160808_usaf1/01/usaf1_2016_08_08_08_56_34_950.txt - TCUT = 257\n"
     ]
    },
    {
     "name": "stderr",
     "output_type": "stream",
     "text": [
      "/Users/mfisherlevine/anaconda/lib/python2.7/site-packages/numpy/lib/npyio.py:893: UserWarning: loadtxt: Empty input file: \"/Users/mfisherlevine/Downloads/160808_usaf1/05/usaf1_2016_08_08_11_59_05_942.txt\"\n",
      "  warnings.warn('loadtxt: Empty input file: \"%s\"' % fname)\n"
     ]
    },
    {
     "name": "stdout",
     "output_type": "stream",
     "text": [
      "Found 1 clusters in /Users/mfisherlevine/Downloads/160808_usaf1/02/usaf1_2016_08_08_09_34_45_098.txt - TCUT = 257\n",
      "Found 1 clusters in /Users/mfisherlevine/Downloads/160808_usaf1/05/usaf1_2016_08_08_11_44_18_046.txt - TCUT = 257\n",
      "Centroided 11000 frames\n",
      "Found 1 clusters in /Users/mfisherlevine/Downloads/160808_usaf1/01/usaf1_2016_08_08_08_39_43_267.txt - TCUT = 257\n",
      "Found 1 clusters in /Users/mfisherlevine/Downloads/160808_usaf1/02/usaf1_2016_08_08_09_41_24_520.txt - TCUT = 257\n",
      "Centroided 11500 frames\n"
     ]
    },
    {
     "name": "stderr",
     "output_type": "stream",
     "text": [
      "/Users/mfisherlevine/anaconda/lib/python2.7/site-packages/numpy/lib/npyio.py:893: UserWarning: loadtxt: Empty input file: \"/Users/mfisherlevine/Downloads/160808_usaf1/04/usaf1_2016_08_08_10_50_33_093.txt\"\n",
      "  warnings.warn('loadtxt: Empty input file: \"%s\"' % fname)\n",
      "/Users/mfisherlevine/anaconda/lib/python2.7/site-packages/numpy/lib/npyio.py:893: UserWarning: loadtxt: Empty input file: \"/Users/mfisherlevine/Downloads/160808_usaf1/01/usaf1_2016_08_08_08_41_26_665.txt\"\n",
      "  warnings.warn('loadtxt: Empty input file: \"%s\"' % fname)\n"
     ]
    },
    {
     "name": "stdout",
     "output_type": "stream",
     "text": [
      "Found 1 clusters in /Users/mfisherlevine/Downloads/160808_usaf1/06/usaf1_2016_08_08_12_26_59_588.txt - TCUT = 257\n",
      "Found 1 clusters in /Users/mfisherlevine/Downloads/160808_usaf1/01/usaf1_2016_08_08_09_05_12_642.txt - TCUT = 257\n",
      "Found 1 clusters in /Users/mfisherlevine/Downloads/160808_usaf1/02/usaf1_2016_08_08_09_25_04_405.txt - TCUT = 257\n"
     ]
    },
    {
     "name": "stderr",
     "output_type": "stream",
     "text": [
      "/Users/mfisherlevine/anaconda/lib/python2.7/site-packages/numpy/lib/npyio.py:893: UserWarning: loadtxt: Empty input file: \"/Users/mfisherlevine/Downloads/160808_usaf1/06/usaf1_2016_08_08_12_36_52_751.txt\"\n",
      "  warnings.warn('loadtxt: Empty input file: \"%s\"' % fname)\n",
      "/Users/mfisherlevine/anaconda/lib/python2.7/site-packages/numpy/lib/npyio.py:893: UserWarning: loadtxt: Empty input file: \"/Users/mfisherlevine/Downloads/160808_usaf1/01/usaf1_2016_08_08_08_44_57_944.txt\"\n",
      "  warnings.warn('loadtxt: Empty input file: \"%s\"' % fname)\n"
     ]
    },
    {
     "name": "stdout",
     "output_type": "stream",
     "text": [
      "Centroided 12000 frames\n",
      "Found 1 clusters in /Users/mfisherlevine/Downloads/160808_usaf1/05/usaf1_2016_08_08_11_56_17_074.txt - TCUT = 257\n",
      "Found 1 clusters in /Users/mfisherlevine/Downloads/160808_usaf1/04/usaf1_2016_08_08_11_15_34_073.txt - TCUT = 257\n"
     ]
    },
    {
     "name": "stderr",
     "output_type": "stream",
     "text": [
      "/Users/mfisherlevine/anaconda/lib/python2.7/site-packages/numpy/lib/npyio.py:893: UserWarning: loadtxt: Empty input file: \"/Users/mfisherlevine/Downloads/160808_usaf1/02/usaf1_2016_08_08_09_21_01_723.txt\"\n",
      "  warnings.warn('loadtxt: Empty input file: \"%s\"' % fname)\n"
     ]
    },
    {
     "name": "stdout",
     "output_type": "stream",
     "text": [
      "Found 1 clusters in /Users/mfisherlevine/Downloads/160808_usaf1/04/usaf1_2016_08_08_11_20_36_333.txt - TCUT = 257\n",
      "Centroided 12500 frames\n",
      "Found 1 clusters in /Users/mfisherlevine/Downloads/160808_usaf1/01/usaf1_2016_08_08_08_50_09_435.txt - TCUT = 257\n",
      "Found 1 clusters in /Users/mfisherlevine/Downloads/160808_usaf1/03/usaf1_2016_08_08_10_20_41_329.txt - TCUT = 257\n",
      "Found 1 clusters in /Users/mfisherlevine/Downloads/160808_usaf1/01/usaf1_2016_08_08_08_28_45_227.txt - TCUT = 257\n",
      "Found 1 clusters in /Users/mfisherlevine/Downloads/160808_usaf1/05/usaf1_2016_08_08_11_43_18_470.txt - TCUT = 257\n",
      "Found 1 clusters in /Users/mfisherlevine/Downloads/160808_usaf1/03/usaf1_2016_08_08_10_03_06_148.txt - TCUT = 257\n",
      "Centroided 13000 frames\n",
      "Found 1 clusters in /Users/mfisherlevine/Downloads/160808_usaf1/07/usaf1_2016_08_08_13_18_54_619.txt - TCUT = 257\n",
      "Found 1 clusters in /Users/mfisherlevine/Downloads/160808_usaf1/03/usaf1_2016_08_08_10_13_04_949.txt - TCUT = 257\n",
      "Found 1 clusters in /Users/mfisherlevine/Downloads/160808_usaf1/01/usaf1_2016_08_08_08_49_01_897.txt - TCUT = 257\n",
      "Found 1 clusters in /Users/mfisherlevine/Downloads/160808_usaf1/04/usaf1_2016_08_08_11_13_49_966.txt - TCUT = 257\n",
      "Found 1 clusters in /Users/mfisherlevine/Downloads/160808_usaf1/07/usaf1_2016_08_08_13_05_02_004.txt - TCUT = 257\n"
     ]
    },
    {
     "name": "stderr",
     "output_type": "stream",
     "text": [
      "/Users/mfisherlevine/anaconda/lib/python2.7/site-packages/numpy/lib/npyio.py:893: UserWarning: loadtxt: Empty input file: \"/Users/mfisherlevine/Downloads/160808_usaf1/04/usaf1_2016_08_08_10_59_11_857.txt\"\n",
      "  warnings.warn('loadtxt: Empty input file: \"%s\"' % fname)\n",
      "/Users/mfisherlevine/anaconda/lib/python2.7/site-packages/numpy/lib/npyio.py:893: UserWarning: loadtxt: Empty input file: \"/Users/mfisherlevine/Downloads/160808_usaf1/05/usaf1_2016_08_08_11_27_00_802.txt\"\n",
      "  warnings.warn('loadtxt: Empty input file: \"%s\"' % fname)\n"
     ]
    },
    {
     "name": "stdout",
     "output_type": "stream",
     "text": [
      "Found 1 clusters in /Users/mfisherlevine/Downloads/160808_usaf1/02/usaf1_2016_08_08_09_19_21_241.txt - TCUT = 257\n",
      "Centroided 13500 frames\n",
      "Found 1 clusters in /Users/mfisherlevine/Downloads/160808_usaf1/05/usaf1_2016_08_08_11_52_32_618.txt - TCUT = 257\n",
      "Found 1 clusters in /Users/mfisherlevine/Downloads/160808_usaf1/05/usaf1_2016_08_08_11_34_02_901.txt - TCUT = 257\n",
      "Centroided 14000 frames\n"
     ]
    },
    {
     "name": "stderr",
     "output_type": "stream",
     "text": [
      "/Users/mfisherlevine/anaconda/lib/python2.7/site-packages/numpy/lib/npyio.py:893: UserWarning: loadtxt: Empty input file: \"/Users/mfisherlevine/Downloads/160808_usaf1/04/usaf1_2016_08_08_11_15_08_133.txt\"\n",
      "  warnings.warn('loadtxt: Empty input file: \"%s\"' % fname)\n"
     ]
    },
    {
     "name": "stdout",
     "output_type": "stream",
     "text": [
      "Found 1 clusters in /Users/mfisherlevine/Downloads/160808_usaf1/05/usaf1_2016_08_08_11_46_48_376.txt - TCUT = 257\n"
     ]
    },
    {
     "name": "stderr",
     "output_type": "stream",
     "text": [
      "/Users/mfisherlevine/anaconda/lib/python2.7/site-packages/numpy/lib/npyio.py:893: UserWarning: loadtxt: Empty input file: \"/Users/mfisherlevine/Downloads/160808_usaf1/00/usaf1_2016_08_08_08_12_30_720.txt\"\n",
      "  warnings.warn('loadtxt: Empty input file: \"%s\"' % fname)\n"
     ]
    },
    {
     "name": "stdout",
     "output_type": "stream",
     "text": [
      "Found 1 clusters in /Users/mfisherlevine/Downloads/160808_usaf1/03/usaf1_2016_08_08_10_20_09_888.txt - TCUT = 257\n",
      "Found 1 clusters in /Users/mfisherlevine/Downloads/160808_usaf1/06/usaf1_2016_08_08_12_06_45_460.txt - TCUT = 257\n",
      "Found 1 clusters in /Users/mfisherlevine/Downloads/160808_usaf1/00/usaf1_2016_08_08_08_06_54_743.txt - TCUT = 257\n",
      "Found 1 clusters in /Users/mfisherlevine/Downloads/160808_usaf1/03/usaf1_2016_08_08_10_09_04_916.txt - TCUT = 257\n",
      "Centroided 14500 frames\n",
      "Found 1 clusters in /Users/mfisherlevine/Downloads/160808_usaf1/02/usaf1_2016_08_08_09_30_42_056.txt - TCUT = 257\n",
      "Found 1 clusters in /Users/mfisherlevine/Downloads/160808_usaf1/04/usaf1_2016_08_08_10_49_18_669.txt - TCUT = 257\n",
      "Centroided 15000 frames\n",
      "Found 1 clusters in /Users/mfisherlevine/Downloads/160808_usaf1/04/usaf1_2016_08_08_10_50_02_347.txt - TCUT = 257\n",
      "Found 1 clusters in /Users/mfisherlevine/Downloads/160808_usaf1/01/usaf1_2016_08_08_08_55_46_801.txt - TCUT = 257\n"
     ]
    },
    {
     "name": "stderr",
     "output_type": "stream",
     "text": [
      "/Users/mfisherlevine/anaconda/lib/python2.7/site-packages/numpy/lib/npyio.py:893: UserWarning: loadtxt: Empty input file: \"/Users/mfisherlevine/Downloads/160808_usaf1/05/usaf1_2016_08_08_11_46_53_918.txt\"\n",
      "  warnings.warn('loadtxt: Empty input file: \"%s\"' % fname)\n",
      "/Users/mfisherlevine/anaconda/lib/python2.7/site-packages/numpy/lib/npyio.py:893: UserWarning: loadtxt: Empty input file: \"/Users/mfisherlevine/Downloads/160808_usaf1/07/usaf1_2016_08_08_13_20_39_415.txt\"\n",
      "  warnings.warn('loadtxt: Empty input file: \"%s\"' % fname)\n"
     ]
    },
    {
     "name": "stdout",
     "output_type": "stream",
     "text": [
      "Found 1 clusters in /Users/mfisherlevine/Downloads/160808_usaf1/02/usaf1_2016_08_08_09_26_15_933.txt - TCUT = 257\n",
      "Centroided 15500 frames\n",
      "Found 1 clusters in /Users/mfisherlevine/Downloads/160808_usaf1/01/usaf1_2016_08_08_08_35_33_924.txt - TCUT = 257\n",
      "Found 1 clusters in /Users/mfisherlevine/Downloads/160808_usaf1/01/usaf1_2016_08_08_08_44_45_898.txt - TCUT = 257\n",
      "Found 1 clusters in /Users/mfisherlevine/Downloads/160808_usaf1/04/usaf1_2016_08_08_11_19_33_875.txt - TCUT = 257\n",
      "Centroided 16000 frames\n"
     ]
    },
    {
     "name": "stderr",
     "output_type": "stream",
     "text": [
      "/Users/mfisherlevine/anaconda/lib/python2.7/site-packages/numpy/lib/npyio.py:893: UserWarning: loadtxt: Empty input file: \"/Users/mfisherlevine/Downloads/160808_usaf1/07/usaf1_2016_08_08_13_09_04_425.txt\"\n",
      "  warnings.warn('loadtxt: Empty input file: \"%s\"' % fname)\n"
     ]
    },
    {
     "name": "stdout",
     "output_type": "stream",
     "text": [
      "Found 1 clusters in /Users/mfisherlevine/Downloads/160808_usaf1/06/usaf1_2016_08_08_12_13_26_300.txt - TCUT = 257\n",
      "Centroided 16500 frames\n",
      "Found 1 clusters in /Users/mfisherlevine/Downloads/160808_usaf1/07/usaf1_2016_08_08_12_55_59_430.txt - TCUT = 257\n",
      "Found 1 clusters in /Users/mfisherlevine/Downloads/160808_usaf1/05/usaf1_2016_08_08_11_47_29_687.txt - TCUT = 257\n",
      "Centroided 17000 frames\n",
      "Found 1 clusters in /Users/mfisherlevine/Downloads/160808_usaf1/05/usaf1_2016_08_08_11_34_44_390.txt - TCUT = 257\n",
      "Found 1 clusters in /Users/mfisherlevine/Downloads/160808_usaf1/05/usaf1_2016_08_08_11_48_10_462.txt - TCUT = 257\n",
      "Found 1 clusters in /Users/mfisherlevine/Downloads/160808_usaf1/04/usaf1_2016_08_08_11_10_00_900.txt - TCUT = 257\n",
      "Found 1 clusters in /Users/mfisherlevine/Downloads/160808_usaf1/05/usaf1_2016_08_08_11_36_14_547.txt - TCUT = 257\n",
      "Found 1 clusters in /Users/mfisherlevine/Downloads/160808_usaf1/03/usaf1_2016_08_08_09_58_45_279.txt - TCUT = 257\n",
      "Centroided 17500 frames\n",
      "Found 1 clusters in /Users/mfisherlevine/Downloads/160808_usaf1/04/usaf1_2016_08_08_10_44_32_629.txt - TCUT = 257\n"
     ]
    },
    {
     "name": "stderr",
     "output_type": "stream",
     "text": [
      "/Users/mfisherlevine/anaconda/lib/python2.7/site-packages/numpy/lib/npyio.py:893: UserWarning: loadtxt: Empty input file: \"/Users/mfisherlevine/Downloads/160808_usaf1/02/usaf1_2016_08_08_09_25_55_456.txt\"\n",
      "  warnings.warn('loadtxt: Empty input file: \"%s\"' % fname)\n"
     ]
    },
    {
     "name": "stdout",
     "output_type": "stream",
     "text": [
      "Found 1 clusters in /Users/mfisherlevine/Downloads/160808_usaf1/04/usaf1_2016_08_08_11_02_29_306.txt - TCUT = 257\n",
      "Centroided 18000 frames\n"
     ]
    },
    {
     "name": "stderr",
     "output_type": "stream",
     "text": [
      "/Users/mfisherlevine/anaconda/lib/python2.7/site-packages/numpy/lib/npyio.py:893: UserWarning: loadtxt: Empty input file: \"/Users/mfisherlevine/Downloads/160808_usaf1/06/usaf1_2016_08_08_12_39_37_522.txt\"\n",
      "  warnings.warn('loadtxt: Empty input file: \"%s\"' % fname)\n"
     ]
    },
    {
     "name": "stdout",
     "output_type": "stream",
     "text": [
      "Found 1 clusters in /Users/mfisherlevine/Downloads/160808_usaf1/07/usaf1_2016_08_08_13_11_14_473.txt - TCUT = 257\n",
      "Centroided 18500 frames\n"
     ]
    },
    {
     "name": "stderr",
     "output_type": "stream",
     "text": [
      "/Users/mfisherlevine/anaconda/lib/python2.7/site-packages/numpy/lib/npyio.py:893: UserWarning: loadtxt: Empty input file: \"/Users/mfisherlevine/Downloads/160808_usaf1/00/usaf1_2016_08_08_07_49_11_172.txt\"\n",
      "  warnings.warn('loadtxt: Empty input file: \"%s\"' % fname)\n"
     ]
    },
    {
     "name": "stdout",
     "output_type": "stream",
     "text": [
      "Found 1 clusters in /Users/mfisherlevine/Downloads/160808_usaf1/02/usaf1_2016_08_08_09_19_20_398.txt - TCUT = 257\n",
      "Found 1 clusters in /Users/mfisherlevine/Downloads/160808_usaf1/00/usaf1_2016_08_08_07_57_26_456.txt - TCUT = 257\n",
      "Centroided 19000 frames\n",
      "Found 1 clusters in /Users/mfisherlevine/Downloads/160808_usaf1/02/usaf1_2016_08_08_09_22_36_908.txt - TCUT = 257\n",
      "Found 1 clusters in /Users/mfisherlevine/Downloads/160808_usaf1/04/usaf1_2016_08_08_11_01_05_632.txt - TCUT = 257\n",
      "Centroided 19500 frames\n",
      "Found 1 clusters in /Users/mfisherlevine/Downloads/160808_usaf1/02/usaf1_2016_08_08_09_17_02_671.txt - TCUT = 257\n"
     ]
    },
    {
     "name": "stderr",
     "output_type": "stream",
     "text": [
      "/Users/mfisherlevine/anaconda/lib/python2.7/site-packages/numpy/lib/npyio.py:893: UserWarning: loadtxt: Empty input file: \"/Users/mfisherlevine/Downloads/160808_usaf1/02/usaf1_2016_08_08_09_47_39_353.txt\"\n",
      "  warnings.warn('loadtxt: Empty input file: \"%s\"' % fname)\n",
      "/Users/mfisherlevine/anaconda/lib/python2.7/site-packages/numpy/lib/npyio.py:893: UserWarning: loadtxt: Empty input file: \"/Users/mfisherlevine/Downloads/160808_usaf1/07/usaf1_2016_08_08_13_26_48_017.txt\"\n",
      "  warnings.warn('loadtxt: Empty input file: \"%s\"' % fname)\n"
     ]
    },
    {
     "name": "stdout",
     "output_type": "stream",
     "text": [
      "Found 1 clusters in /Users/mfisherlevine/Downloads/160808_usaf1/07/usaf1_2016_08_08_13_02_26_525.txt - TCUT = 257\n",
      "Found 1 clusters in /Users/mfisherlevine/Downloads/160808_usaf1/06/usaf1_2016_08_08_12_34_00_109.txt - TCUT = 257\n",
      "Centroided 20000 frames\n",
      "Found 1 clusters in /Users/mfisherlevine/Downloads/160808_usaf1/05/usaf1_2016_08_08_11_50_04_404.txt - TCUT = 257\n",
      "Found 1 clusters in /Users/mfisherlevine/Downloads/160808_usaf1/01/usaf1_2016_08_08_08_59_22_351.txt - TCUT = 257\n",
      "Found 1 clusters in /Users/mfisherlevine/Downloads/160808_usaf1/05/usaf1_2016_08_08_11_42_14_392.txt - TCUT = 257\n"
     ]
    },
    {
     "name": "stderr",
     "output_type": "stream",
     "text": [
      "/Users/mfisherlevine/anaconda/lib/python2.7/site-packages/numpy/lib/npyio.py:893: UserWarning: loadtxt: Empty input file: \"/Users/mfisherlevine/Downloads/160808_usaf1/00/usaf1_2016_08_08_08_21_10_892.txt\"\n",
      "  warnings.warn('loadtxt: Empty input file: \"%s\"' % fname)\n"
     ]
    },
    {
     "name": "stdout",
     "output_type": "stream",
     "text": [
      "Centroided 20500 frames\n",
      "Found 1 clusters in /Users/mfisherlevine/Downloads/160808_usaf1/07/usaf1_2016_08_08_13_10_50_972.txt - TCUT = 257\n",
      "Found 1 clusters in /Users/mfisherlevine/Downloads/160808_usaf1/00/usaf1_2016_08_08_07_57_23_574.txt - TCUT = 257\n",
      "Found 1 clusters in /Users/mfisherlevine/Downloads/160808_usaf1/06/usaf1_2016_08_08_12_28_09_110.txt - TCUT = 257\n",
      "Centroided 21000 frames\n",
      "Found 1 clusters in /Users/mfisherlevine/Downloads/160808_usaf1/01/usaf1_2016_08_08_08_44_32_098.txt - TCUT = 257\n",
      "Centroided 21500 frames\n",
      "Found 1 clusters in /Users/mfisherlevine/Downloads/160808_usaf1/04/usaf1_2016_08_08_11_18_21_071.txt - TCUT = 257\n"
     ]
    },
    {
     "name": "stderr",
     "output_type": "stream",
     "text": [
      "/Users/mfisherlevine/anaconda/lib/python2.7/site-packages/numpy/lib/npyio.py:893: UserWarning: loadtxt: Empty input file: \"/Users/mfisherlevine/Downloads/160808_usaf1/05/usaf1_2016_08_08_11_38_50_452.txt\"\n",
      "  warnings.warn('loadtxt: Empty input file: \"%s\"' % fname)\n"
     ]
    },
    {
     "name": "stdout",
     "output_type": "stream",
     "text": [
      "Centroided 22000 frames\n",
      "Found 1 clusters in /Users/mfisherlevine/Downloads/160808_usaf1/03/usaf1_2016_08_08_10_04_03_007.txt - TCUT = 257\n",
      "Found 1 clusters in /Users/mfisherlevine/Downloads/160808_usaf1/06/usaf1_2016_08_08_12_18_41_880.txt - TCUT = 257\n",
      "Centroided 22500 frames\n"
     ]
    },
    {
     "name": "stderr",
     "output_type": "stream",
     "text": [
      "/Users/mfisherlevine/anaconda/lib/python2.7/site-packages/numpy/lib/npyio.py:893: UserWarning: loadtxt: Empty input file: \"/Users/mfisherlevine/Downloads/160808_usaf1/07/usaf1_2016_08_08_12_58_06_753.txt\"\n",
      "  warnings.warn('loadtxt: Empty input file: \"%s\"' % fname)\n"
     ]
    },
    {
     "name": "stdout",
     "output_type": "stream",
     "text": [
      "Found 1 clusters in /Users/mfisherlevine/Downloads/160808_usaf1/04/usaf1_2016_08_08_11_19_55_227.txt - TCUT = 257\n",
      "Found 1 clusters in /Users/mfisherlevine/Downloads/160808_usaf1/07/usaf1_2016_08_08_12_50_34_211.txt - TCUT = 257\n"
     ]
    },
    {
     "name": "stderr",
     "output_type": "stream",
     "text": [
      "/Users/mfisherlevine/anaconda/lib/python2.7/site-packages/numpy/lib/npyio.py:893: UserWarning: loadtxt: Empty input file: \"/Users/mfisherlevine/Downloads/160808_usaf1/02/usaf1_2016_08_08_09_39_12_892.txt\"\n",
      "  warnings.warn('loadtxt: Empty input file: \"%s\"' % fname)\n"
     ]
    },
    {
     "name": "stdout",
     "output_type": "stream",
     "text": [
      "Centroided 23000 frames\n",
      "Found 1 clusters in /Users/mfisherlevine/Downloads/160808_usaf1/00/usaf1_2016_08_08_08_16_29_966.txt - TCUT = 257\n",
      "Found 1 clusters in /Users/mfisherlevine/Downloads/160808_usaf1/06/usaf1_2016_08_08_12_34_01_821.txt - TCUT = 257\n"
     ]
    },
    {
     "name": "stderr",
     "output_type": "stream",
     "text": [
      "/Users/mfisherlevine/anaconda/lib/python2.7/site-packages/numpy/lib/npyio.py:893: UserWarning: loadtxt: Empty input file: \"/Users/mfisherlevine/Downloads/160808_usaf1/04/usaf1_2016_08_08_11_02_54_231.txt\"\n",
      "  warnings.warn('loadtxt: Empty input file: \"%s\"' % fname)\n"
     ]
    },
    {
     "name": "stdout",
     "output_type": "stream",
     "text": [
      "Found 1 clusters in /Users/mfisherlevine/Downloads/160808_usaf1/04/usaf1_2016_08_08_11_02_20_419.txt - TCUT = 257\n",
      "Centroided 23500 frames\n",
      "Found 1 clusters in /Users/mfisherlevine/Downloads/160808_usaf1/07/usaf1_2016_08_08_13_12_02_071.txt - TCUT = 257\n",
      "Found 1 clusters in /Users/mfisherlevine/Downloads/160808_usaf1/07/usaf1_2016_08_08_13_05_56_389.txt - TCUT = 257\n",
      "Found 1 clusters in /Users/mfisherlevine/Downloads/160808_usaf1/00/usaf1_2016_08_08_08_13_29_071.txt - TCUT = 257\n",
      "Found 1 clusters in /Users/mfisherlevine/Downloads/160808_usaf1/01/usaf1_2016_08_08_08_31_44_171.txt - TCUT = 257\n",
      "Centroided 24000 frames\n",
      "Found 1 clusters in /Users/mfisherlevine/Downloads/160808_usaf1/02/usaf1_2016_08_08_09_42_53_458.txt - TCUT = 257\n"
     ]
    },
    {
     "name": "stderr",
     "output_type": "stream",
     "text": [
      "/Users/mfisherlevine/anaconda/lib/python2.7/site-packages/numpy/lib/npyio.py:893: UserWarning: loadtxt: Empty input file: \"/Users/mfisherlevine/Downloads/160808_usaf1/01/usaf1_2016_08_08_08_59_14_336.txt\"\n",
      "  warnings.warn('loadtxt: Empty input file: \"%s\"' % fname)\n"
     ]
    },
    {
     "name": "stdout",
     "output_type": "stream",
     "text": [
      "Centroided 24500 frames\n",
      "Found 1 clusters in /Users/mfisherlevine/Downloads/160808_usaf1/00/usaf1_2016_08_08_07_53_56_513.txt - TCUT = 257\n",
      "Found 1 clusters in /Users/mfisherlevine/Downloads/160808_usaf1/02/usaf1_2016_08_08_09_17_57_956.txt - TCUT = 257\n",
      "Found 1 clusters in /Users/mfisherlevine/Downloads/160808_usaf1/02/usaf1_2016_08_08_09_17_24_422.txt - TCUT = 257\n",
      "Found 1 clusters in /Users/mfisherlevine/Downloads/160808_usaf1/04/usaf1_2016_08_08_10_55_11_844.txt - TCUT = 257\n"
     ]
    },
    {
     "name": "stderr",
     "output_type": "stream",
     "text": [
      "/Users/mfisherlevine/anaconda/lib/python2.7/site-packages/numpy/lib/npyio.py:893: UserWarning: loadtxt: Empty input file: \"/Users/mfisherlevine/Downloads/160808_usaf1/00/usaf1_2016_08_08_07_56_51_818.txt\"\n",
      "  warnings.warn('loadtxt: Empty input file: \"%s\"' % fname)\n"
     ]
    },
    {
     "name": "stdout",
     "output_type": "stream",
     "text": [
      "Centroided 25000 frames\n",
      "Found 1 clusters in /Users/mfisherlevine/Downloads/160808_usaf1/05/usaf1_2016_08_08_11_57_08_097.txt - TCUT = 257\n",
      "Found 1 clusters in /Users/mfisherlevine/Downloads/160808_usaf1/03/usaf1_2016_08_08_10_14_32_722.txt - TCUT = 257\n",
      "Centroided 25500 frames\n",
      "Found 1 clusters in /Users/mfisherlevine/Downloads/160808_usaf1/00/usaf1_2016_08_08_08_15_19_681.txt - TCUT = 257\n",
      "Found 1 clusters in /Users/mfisherlevine/Downloads/160808_usaf1/05/usaf1_2016_08_08_11_52_54_399.txt - TCUT = 257\n"
     ]
    },
    {
     "name": "stderr",
     "output_type": "stream",
     "text": [
      "/Users/mfisherlevine/anaconda/lib/python2.7/site-packages/numpy/lib/npyio.py:893: UserWarning: loadtxt: Empty input file: \"/Users/mfisherlevine/Downloads/160808_usaf1/00/usaf1_2016_08_08_07_51_25_657.txt\"\n",
      "  warnings.warn('loadtxt: Empty input file: \"%s\"' % fname)\n"
     ]
    },
    {
     "name": "stdout",
     "output_type": "stream",
     "text": [
      "Found 1 clusters in /Users/mfisherlevine/Downloads/160808_usaf1/00/usaf1_2016_08_08_08_14_59_533.txt - TCUT = 257\n",
      "Centroided 26000 frames\n",
      "Found 1 clusters in /Users/mfisherlevine/Downloads/160808_usaf1/00/usaf1_2016_08_08_07_56_59_348.txt - TCUT = 257\n",
      "Found 1 clusters in /Users/mfisherlevine/Downloads/160808_usaf1/01/usaf1_2016_08_08_08_27_11_691.txt - TCUT = 257\n"
     ]
    },
    {
     "name": "stderr",
     "output_type": "stream",
     "text": [
      "/Users/mfisherlevine/anaconda/lib/python2.7/site-packages/numpy/lib/npyio.py:893: UserWarning: loadtxt: Empty input file: \"/Users/mfisherlevine/Downloads/160808_usaf1/04/usaf1_2016_08_08_11_00_44_264.txt\"\n",
      "  warnings.warn('loadtxt: Empty input file: \"%s\"' % fname)\n"
     ]
    },
    {
     "name": "stdout",
     "output_type": "stream",
     "text": [
      "Found 1 clusters in /Users/mfisherlevine/Downloads/160808_usaf1/06/usaf1_2016_08_08_12_22_14_702.txt - TCUT = 257\n",
      "Centroided 26500 frames\n",
      "Found 1 clusters in /Users/mfisherlevine/Downloads/160808_usaf1/05/usaf1_2016_08_08_11_25_35_598.txt - TCUT = 257\n",
      "Found 1 clusters in /Users/mfisherlevine/Downloads/160808_usaf1/03/usaf1_2016_08_08_09_55_14_653.txt - TCUT = 257\n",
      "Found 1 clusters in /Users/mfisherlevine/Downloads/160808_usaf1/07/usaf1_2016_08_08_13_01_37_739.txt - TCUT = 257\n",
      "Found 1 clusters in /Users/mfisherlevine/Downloads/160808_usaf1/01/usaf1_2016_08_08_08_44_30_089.txt - TCUT = 257\n",
      "Centroided 27000 frames\n",
      "Found 1 clusters in /Users/mfisherlevine/Downloads/160808_usaf1/05/usaf1_2016_08_08_11_30_17_086.txt - TCUT = 257\n",
      "Found 1 clusters in /Users/mfisherlevine/Downloads/160808_usaf1/01/usaf1_2016_08_08_08_46_40_969.txt - TCUT = 257\n",
      "Found 1 clusters in /Users/mfisherlevine/Downloads/160808_usaf1/04/usaf1_2016_08_08_10_59_51_825.txt - TCUT = 257\n",
      "Found 1 clusters in /Users/mfisherlevine/Downloads/160808_usaf1/07/usaf1_2016_08_08_12_54_26_882.txt - TCUT = 257\n",
      "Centroided 27500 frames\n",
      "Found 1 clusters in /Users/mfisherlevine/Downloads/160808_usaf1/07/usaf1_2016_08_08_13_24_08_750.txt - TCUT = 257\n",
      "Found 1 clusters in /Users/mfisherlevine/Downloads/160808_usaf1/04/usaf1_2016_08_08_11_02_44_078.txt - TCUT = 257\n",
      "Found 1 clusters in /Users/mfisherlevine/Downloads/160808_usaf1/01/usaf1_2016_08_08_08_54_39_017.txt - TCUT = 257\n",
      "Found 1 clusters in /Users/mfisherlevine/Downloads/160808_usaf1/05/usaf1_2016_08_08_11_53_04_669.txt - TCUT = 257\n",
      "Found 1 clusters in /Users/mfisherlevine/Downloads/160808_usaf1/07/usaf1_2016_08_08_13_27_24_519.txt - TCUT = 257\n",
      "Found 1 clusters in /Users/mfisherlevine/Downloads/160808_usaf1/02/usaf1_2016_08_08_09_24_00_775.txt - TCUT = 257\n",
      "Centroided 28000 frames\n",
      "Found 1 clusters in /Users/mfisherlevine/Downloads/160808_usaf1/02/usaf1_2016_08_08_09_21_07_537.txt - TCUT = 257\n",
      "Found 1 clusters in /Users/mfisherlevine/Downloads/160808_usaf1/00/usaf1_2016_08_08_08_07_20_649.txt - TCUT = 257\n"
     ]
    },
    {
     "name": "stderr",
     "output_type": "stream",
     "text": [
      "/Users/mfisherlevine/anaconda/lib/python2.7/site-packages/numpy/lib/npyio.py:893: UserWarning: loadtxt: Empty input file: \"/Users/mfisherlevine/Downloads/160808_usaf1/06/usaf1_2016_08_08_12_34_50_422.txt\"\n",
      "  warnings.warn('loadtxt: Empty input file: \"%s\"' % fname)\n"
     ]
    },
    {
     "name": "stdout",
     "output_type": "stream",
     "text": [
      "Found 1 clusters in /Users/mfisherlevine/Downloads/160808_usaf1/05/usaf1_2016_08_08_11_28_14_630.txt - TCUT = 257\n"
     ]
    },
    {
     "name": "stderr",
     "output_type": "stream",
     "text": [
      "/Users/mfisherlevine/anaconda/lib/python2.7/site-packages/numpy/lib/npyio.py:893: UserWarning: loadtxt: Empty input file: \"/Users/mfisherlevine/Downloads/160808_usaf1/06/usaf1_2016_08_08_12_33_39_833.txt\"\n",
      "  warnings.warn('loadtxt: Empty input file: \"%s\"' % fname)\n"
     ]
    },
    {
     "name": "stdout",
     "output_type": "stream",
     "text": [
      "Found 1 clusters in /Users/mfisherlevine/Downloads/160808_usaf1/02/usaf1_2016_08_08_09_33_37_019.txt - TCUT = 257\n",
      "Found 1 clusters in /Users/mfisherlevine/Downloads/160808_usaf1/02/usaf1_2016_08_08_09_13_21_767.txt - TCUT = 257\n",
      "Found 1 clusters in /Users/mfisherlevine/Downloads/160808_usaf1/04/usaf1_2016_08_08_10_53_06_888.txt - TCUT = 257\n",
      "Found 1 clusters in /Users/mfisherlevine/Downloads/160808_usaf1/01/usaf1_2016_08_08_08_51_12_927.txt - TCUT = 257\n"
     ]
    },
    {
     "name": "stderr",
     "output_type": "stream",
     "text": [
      "/Users/mfisherlevine/anaconda/lib/python2.7/site-packages/numpy/lib/npyio.py:893: UserWarning: loadtxt: Empty input file: \"/Users/mfisherlevine/Downloads/160808_usaf1/02/usaf1_2016_08_08_09_11_49_478.txt\"\n",
      "  warnings.warn('loadtxt: Empty input file: \"%s\"' % fname)\n"
     ]
    },
    {
     "name": "stdout",
     "output_type": "stream",
     "text": [
      "Found 1 clusters in /Users/mfisherlevine/Downloads/160808_usaf1/07/usaf1_2016_08_08_12_48_38_588.txt - TCUT = 257\n",
      "Centroided 28500 frames\n",
      "Found 1 clusters in /Users/mfisherlevine/Downloads/160808_usaf1/03/usaf1_2016_08_08_09_52_56_055.txt - TCUT = 257\n"
     ]
    },
    {
     "name": "stderr",
     "output_type": "stream",
     "text": [
      "/Users/mfisherlevine/anaconda/lib/python2.7/site-packages/numpy/lib/npyio.py:893: UserWarning: loadtxt: Empty input file: \"/Users/mfisherlevine/Downloads/160808_usaf1/01/usaf1_2016_08_08_08_41_15_301.txt\"\n",
      "  warnings.warn('loadtxt: Empty input file: \"%s\"' % fname)\n"
     ]
    },
    {
     "name": "stdout",
     "output_type": "stream",
     "text": [
      "Found 1 clusters in /Users/mfisherlevine/Downloads/160808_usaf1/01/usaf1_2016_08_08_09_03_08_320.txt - TCUT = 257\n",
      "Found 1 clusters in /Users/mfisherlevine/Downloads/160808_usaf1/07/usaf1_2016_08_08_13_09_55_328.txt - TCUT = 257\n",
      "Found 1 clusters in /Users/mfisherlevine/Downloads/160808_usaf1/07/usaf1_2016_08_08_13_22_53_424.txt - TCUT = 257\n",
      "Found 1 clusters in /Users/mfisherlevine/Downloads/160808_usaf1/07/usaf1_2016_08_08_12_57_38_513.txt - TCUT = 257\n",
      "Found 1 clusters in /Users/mfisherlevine/Downloads/160808_usaf1/04/usaf1_2016_08_08_10_45_01_169.txt - TCUT = 257\n",
      "Found 1 clusters in /Users/mfisherlevine/Downloads/160808_usaf1/04/usaf1_2016_08_08_10_58_17_923.txt - TCUT = 257\n",
      "Centroided 29000 frames\n",
      "Found 1 clusters in /Users/mfisherlevine/Downloads/160808_usaf1/04/usaf1_2016_08_08_11_15_20_087.txt - TCUT = 257\n",
      "Found 1 clusters in /Users/mfisherlevine/Downloads/160808_usaf1/00/usaf1_2016_08_08_08_14_29_036.txt - TCUT = 257\n"
     ]
    },
    {
     "name": "stderr",
     "output_type": "stream",
     "text": [
      "/Users/mfisherlevine/anaconda/lib/python2.7/site-packages/numpy/lib/npyio.py:893: UserWarning: loadtxt: Empty input file: \"/Users/mfisherlevine/Downloads/160808_usaf1/02/usaf1_2016_08_08_09_37_15_213.txt\"\n",
      "  warnings.warn('loadtxt: Empty input file: \"%s\"' % fname)\n"
     ]
    },
    {
     "name": "stdout",
     "output_type": "stream",
     "text": [
      "Centroided 29500 frames\n",
      "Found 1 clusters in /Users/mfisherlevine/Downloads/160808_usaf1/01/usaf1_2016_08_08_08_35_48_045.txt - TCUT = 257\n",
      "Found 1 clusters in /Users/mfisherlevine/Downloads/160808_usaf1/06/usaf1_2016_08_08_12_14_56_229.txt - TCUT = 257\n",
      "Found 1 clusters in /Users/mfisherlevine/Downloads/160808_usaf1/03/usaf1_2016_08_08_10_17_56_942.txt - TCUT = 257\n",
      "Found 1 clusters in /Users/mfisherlevine/Downloads/160808_usaf1/01/usaf1_2016_08_08_08_32_18_604.txt - TCUT = 257\n",
      "Found 1 clusters in /Users/mfisherlevine/Downloads/160808_usaf1/06/usaf1_2016_08_08_12_12_32_356.txt - TCUT = 257\n",
      "Centroided 30000 frames\n",
      "Found 1 clusters in /Users/mfisherlevine/Downloads/160808_usaf1/06/usaf1_2016_08_08_12_23_00_187.txt - TCUT = 257\n"
     ]
    },
    {
     "name": "stderr",
     "output_type": "stream",
     "text": [
      "/Users/mfisherlevine/anaconda/lib/python2.7/site-packages/numpy/lib/npyio.py:893: UserWarning: loadtxt: Empty input file: \"/Users/mfisherlevine/Downloads/160808_usaf1/05/usaf1_2016_08_08_11_25_07_540.txt\"\n",
      "  warnings.warn('loadtxt: Empty input file: \"%s\"' % fname)\n"
     ]
    },
    {
     "name": "stdout",
     "output_type": "stream",
     "text": [
      "Found 1 clusters in /Users/mfisherlevine/Downloads/160808_usaf1/03/usaf1_2016_08_08_10_29_53_443.txt - TCUT = 257\n",
      "Centroided 30500 frames\n",
      "Found 1 clusters in /Users/mfisherlevine/Downloads/160808_usaf1/01/usaf1_2016_08_08_08_50_06_415.txt - TCUT = 257\n",
      "Found 1 clusters in /Users/mfisherlevine/Downloads/160808_usaf1/01/usaf1_2016_08_08_08_50_38_615.txt - TCUT = 257\n",
      "Found 1 clusters in /Users/mfisherlevine/Downloads/160808_usaf1/04/usaf1_2016_08_08_10_46_44_501.txt - TCUT = 257\n"
     ]
    },
    {
     "name": "stderr",
     "output_type": "stream",
     "text": [
      "/Users/mfisherlevine/anaconda/lib/python2.7/site-packages/numpy/lib/npyio.py:893: UserWarning: loadtxt: Empty input file: \"/Users/mfisherlevine/Downloads/160808_usaf1/07/usaf1_2016_08_08_13_15_44_342.txt\"\n",
      "  warnings.warn('loadtxt: Empty input file: \"%s\"' % fname)\n"
     ]
    },
    {
     "name": "stdout",
     "output_type": "stream",
     "text": [
      "Found 1 clusters in /Users/mfisherlevine/Downloads/160808_usaf1/01/usaf1_2016_08_08_08_55_20_911.txt - TCUT = 257\n"
     ]
    },
    {
     "name": "stderr",
     "output_type": "stream",
     "text": [
      "/Users/mfisherlevine/anaconda/lib/python2.7/site-packages/numpy/lib/npyio.py:893: UserWarning: loadtxt: Empty input file: \"/Users/mfisherlevine/Downloads/160808_usaf1/07/usaf1_2016_08_08_13_08_17_286.txt\"\n",
      "  warnings.warn('loadtxt: Empty input file: \"%s\"' % fname)\n"
     ]
    },
    {
     "name": "stdout",
     "output_type": "stream",
     "text": [
      "Centroided 31000 frames\n",
      "Found 1 clusters in /Users/mfisherlevine/Downloads/160808_usaf1/02/usaf1_2016_08_08_09_07_00_420.txt - TCUT = 257\n",
      "Found 1 clusters in /Users/mfisherlevine/Downloads/160808_usaf1/03/usaf1_2016_08_08_10_28_52_968.txt - TCUT = 257\n"
     ]
    },
    {
     "name": "stderr",
     "output_type": "stream",
     "text": [
      "/Users/mfisherlevine/anaconda/lib/python2.7/site-packages/numpy/lib/npyio.py:893: UserWarning: loadtxt: Empty input file: \"/Users/mfisherlevine/Downloads/160808_usaf1/00/usaf1_2016_08_08_07_47_43_723.txt\"\n",
      "  warnings.warn('loadtxt: Empty input file: \"%s\"' % fname)\n"
     ]
    },
    {
     "name": "stdout",
     "output_type": "stream",
     "text": [
      "Found 1 clusters in /Users/mfisherlevine/Downloads/160808_usaf1/05/usaf1_2016_08_08_11_45_54_885.txt - TCUT = 257\n",
      "Found 1 clusters in /Users/mfisherlevine/Downloads/160808_usaf1/07/usaf1_2016_08_08_13_19_14_751.txt - TCUT = 257\n"
     ]
    },
    {
     "name": "stderr",
     "output_type": "stream",
     "text": [
      "/Users/mfisherlevine/anaconda/lib/python2.7/site-packages/numpy/lib/npyio.py:893: UserWarning: loadtxt: Empty input file: \"/Users/mfisherlevine/Downloads/160808_usaf1/02/usaf1_2016_08_08_09_27_34_374.txt\"\n",
      "  warnings.warn('loadtxt: Empty input file: \"%s\"' % fname)\n"
     ]
    },
    {
     "name": "stdout",
     "output_type": "stream",
     "text": [
      "Centroided 31500 frames\n",
      "Found 1 clusters in /Users/mfisherlevine/Downloads/160808_usaf1/05/usaf1_2016_08_08_12_03_03_123.txt - TCUT = 257\n",
      "Found 1 clusters in /Users/mfisherlevine/Downloads/160808_usaf1/06/usaf1_2016_08_08_12_27_11_023.txt - TCUT = 257\n"
     ]
    },
    {
     "name": "stderr",
     "output_type": "stream",
     "text": [
      "/Users/mfisherlevine/anaconda/lib/python2.7/site-packages/numpy/lib/npyio.py:893: UserWarning: loadtxt: Empty input file: \"/Users/mfisherlevine/Downloads/160808_usaf1/06/usaf1_2016_08_08_12_25_54_706.txt\"\n",
      "  warnings.warn('loadtxt: Empty input file: \"%s\"' % fname)\n"
     ]
    },
    {
     "name": "stdout",
     "output_type": "stream",
     "text": [
      "Centroided 32000 frames\n",
      "Found 1 clusters in /Users/mfisherlevine/Downloads/160808_usaf1/01/usaf1_2016_08_08_08_32_26_524.txt - TCUT = 257\n"
     ]
    },
    {
     "name": "stderr",
     "output_type": "stream",
     "text": [
      "/Users/mfisherlevine/anaconda/lib/python2.7/site-packages/numpy/lib/npyio.py:893: UserWarning: loadtxt: Empty input file: \"/Users/mfisherlevine/Downloads/160808_usaf1/00/usaf1_2016_08_08_08_18_49_473.txt\"\n",
      "  warnings.warn('loadtxt: Empty input file: \"%s\"' % fname)\n"
     ]
    },
    {
     "name": "stdout",
     "output_type": "stream",
     "text": [
      "Centroided 32500 frames\n"
     ]
    },
    {
     "name": "stderr",
     "output_type": "stream",
     "text": [
      "/Users/mfisherlevine/anaconda/lib/python2.7/site-packages/numpy/lib/npyio.py:893: UserWarning: loadtxt: Empty input file: \"/Users/mfisherlevine/Downloads/160808_usaf1/04/usaf1_2016_08_08_11_20_01_781.txt\"\n",
      "  warnings.warn('loadtxt: Empty input file: \"%s\"' % fname)\n"
     ]
    },
    {
     "name": "stdout",
     "output_type": "stream",
     "text": [
      "Found 1 clusters in /Users/mfisherlevine/Downloads/160808_usaf1/04/usaf1_2016_08_08_11_12_28_212.txt - TCUT = 257\n",
      "Found 1 clusters in /Users/mfisherlevine/Downloads/160808_usaf1/07/usaf1_2016_08_08_12_57_20_335.txt - TCUT = 257\n",
      "Centroided 33000 frames\n",
      "Found 1 clusters in /Users/mfisherlevine/Downloads/160808_usaf1/02/usaf1_2016_08_08_09_37_56_576.txt - TCUT = 257\n"
     ]
    },
    {
     "name": "stderr",
     "output_type": "stream",
     "text": [
      "/Users/mfisherlevine/anaconda/lib/python2.7/site-packages/numpy/lib/npyio.py:893: UserWarning: loadtxt: Empty input file: \"/Users/mfisherlevine/Downloads/160808_usaf1/03/usaf1_2016_08_08_09_59_06_654.txt\"\n",
      "  warnings.warn('loadtxt: Empty input file: \"%s\"' % fname)\n"
     ]
    },
    {
     "name": "stdout",
     "output_type": "stream",
     "text": [
      "Found 1 clusters in /Users/mfisherlevine/Downloads/160808_usaf1/00/usaf1_2016_08_08_07_43_38_333.txt - TCUT = 257\n",
      "Centroided 33500 frames\n"
     ]
    },
    {
     "name": "stderr",
     "output_type": "stream",
     "text": [
      "/Users/mfisherlevine/anaconda/lib/python2.7/site-packages/numpy/lib/npyio.py:893: UserWarning: loadtxt: Empty input file: \"/Users/mfisherlevine/Downloads/160808_usaf1/01/usaf1_2016_08_08_08_54_32_435.txt\"\n",
      "  warnings.warn('loadtxt: Empty input file: \"%s\"' % fname)\n"
     ]
    },
    {
     "name": "stdout",
     "output_type": "stream",
     "text": [
      "Found 1 clusters in /Users/mfisherlevine/Downloads/160808_usaf1/03/usaf1_2016_08_08_10_06_23_229.txt - TCUT = 257\n"
     ]
    },
    {
     "name": "stderr",
     "output_type": "stream",
     "text": [
      "/Users/mfisherlevine/anaconda/lib/python2.7/site-packages/numpy/lib/npyio.py:893: UserWarning: loadtxt: Empty input file: \"/Users/mfisherlevine/Downloads/160808_usaf1/06/usaf1_2016_08_08_12_05_21_101.txt\"\n",
      "  warnings.warn('loadtxt: Empty input file: \"%s\"' % fname)\n"
     ]
    },
    {
     "name": "stdout",
     "output_type": "stream",
     "text": [
      "Centroided 34000 frames\n",
      "Found 1 clusters in /Users/mfisherlevine/Downloads/160808_usaf1/00/usaf1_2016_08_08_07_57_46_650.txt - TCUT = 257\n",
      "Found 1 clusters in /Users/mfisherlevine/Downloads/160808_usaf1/02/usaf1_2016_08_08_09_26_01_831.txt - TCUT = 257\n",
      "Found 1 clusters in /Users/mfisherlevine/Downloads/160808_usaf1/01/usaf1_2016_08_08_08_41_02_246.txt - TCUT = 257\n",
      "Centroided 34500 frames\n",
      "Found 1 clusters in /Users/mfisherlevine/Downloads/160808_usaf1/01/usaf1_2016_08_08_08_59_14_230.txt - TCUT = 257\n"
     ]
    },
    {
     "name": "stderr",
     "output_type": "stream",
     "text": [
      "/Users/mfisherlevine/anaconda/lib/python2.7/site-packages/numpy/lib/npyio.py:893: UserWarning: loadtxt: Empty input file: \"/Users/mfisherlevine/Downloads/160808_usaf1/06/usaf1_2016_08_08_12_45_14_722.txt\"\n",
      "  warnings.warn('loadtxt: Empty input file: \"%s\"' % fname)\n",
      "/Users/mfisherlevine/anaconda/lib/python2.7/site-packages/numpy/lib/npyio.py:893: UserWarning: loadtxt: Empty input file: \"/Users/mfisherlevine/Downloads/160808_usaf1/05/usaf1_2016_08_08_11_53_49_103.txt\"\n",
      "  warnings.warn('loadtxt: Empty input file: \"%s\"' % fname)\n"
     ]
    },
    {
     "name": "stdout",
     "output_type": "stream",
     "text": [
      "Found 1 clusters in /Users/mfisherlevine/Downloads/160808_usaf1/00/usaf1_2016_08_08_07_51_16_230.txt - TCUT = 257\n",
      "Found 1 clusters in /Users/mfisherlevine/Downloads/160808_usaf1/02/usaf1_2016_08_08_09_23_49_043.txt - TCUT = 257\n",
      "Centroided 35000 frames\n",
      "Found 1 clusters in /Users/mfisherlevine/Downloads/160808_usaf1/07/usaf1_2016_08_08_13_17_55_982.txt - TCUT = 257\n",
      "Found 1 clusters in /Users/mfisherlevine/Downloads/160808_usaf1/02/usaf1_2016_08_08_09_14_39_983.txt - TCUT = 257\n"
     ]
    },
    {
     "name": "stderr",
     "output_type": "stream",
     "text": [
      "/Users/mfisherlevine/anaconda/lib/python2.7/site-packages/numpy/lib/npyio.py:893: UserWarning: loadtxt: Empty input file: \"/Users/mfisherlevine/Downloads/160808_usaf1/03/usaf1_2016_08_08_09_53_22_621.txt\"\n",
      "  warnings.warn('loadtxt: Empty input file: \"%s\"' % fname)\n"
     ]
    },
    {
     "name": "stdout",
     "output_type": "stream",
     "text": [
      "Centroided 35500 frames\n"
     ]
    },
    {
     "name": "stderr",
     "output_type": "stream",
     "text": [
      "/Users/mfisherlevine/anaconda/lib/python2.7/site-packages/numpy/lib/npyio.py:893: UserWarning: loadtxt: Empty input file: \"/Users/mfisherlevine/Downloads/160808_usaf1/02/usaf1_2016_08_08_09_21_47_745.txt\"\n",
      "  warnings.warn('loadtxt: Empty input file: \"%s\"' % fname)\n"
     ]
    },
    {
     "name": "stdout",
     "output_type": "stream",
     "text": [
      "Found 1 clusters in /Users/mfisherlevine/Downloads/160808_usaf1/02/usaf1_2016_08_08_09_19_54_180.txt - TCUT = 257\n",
      "Found 1 clusters in /Users/mfisherlevine/Downloads/160808_usaf1/01/usaf1_2016_08_08_09_02_49_701.txt - TCUT = 257\n",
      "Found 1 clusters in /Users/mfisherlevine/Downloads/160808_usaf1/05/usaf1_2016_08_08_11_26_01_613.txt - TCUT = 257\n",
      "Centroided 36000 frames\n"
     ]
    },
    {
     "name": "stderr",
     "output_type": "stream",
     "text": [
      "/Users/mfisherlevine/anaconda/lib/python2.7/site-packages/numpy/lib/npyio.py:893: UserWarning: loadtxt: Empty input file: \"/Users/mfisherlevine/Downloads/160808_usaf1/07/usaf1_2016_08_08_13_26_35_045.txt\"\n",
      "  warnings.warn('loadtxt: Empty input file: \"%s\"' % fname)\n"
     ]
    },
    {
     "name": "stdout",
     "output_type": "stream",
     "text": [
      "Found 1 clusters in /Users/mfisherlevine/Downloads/160808_usaf1/01/usaf1_2016_08_08_08_47_54_689.txt - TCUT = 257\n",
      "Centroided 36500 frames\n",
      "Found 1 clusters in /Users/mfisherlevine/Downloads/160808_usaf1/01/usaf1_2016_08_08_08_39_45_223.txt - TCUT = 257\n"
     ]
    },
    {
     "name": "stderr",
     "output_type": "stream",
     "text": [
      "/Users/mfisherlevine/anaconda/lib/python2.7/site-packages/numpy/lib/npyio.py:893: UserWarning: loadtxt: Empty input file: \"/Users/mfisherlevine/Downloads/160808_usaf1/05/usaf1_2016_08_08_12_03_39_687.txt\"\n",
      "  warnings.warn('loadtxt: Empty input file: \"%s\"' % fname)\n",
      "/Users/mfisherlevine/anaconda/lib/python2.7/site-packages/numpy/lib/npyio.py:893: UserWarning: loadtxt: Empty input file: \"/Users/mfisherlevine/Downloads/160808_usaf1/03/usaf1_2016_08_08_10_23_18_948.txt\"\n",
      "  warnings.warn('loadtxt: Empty input file: \"%s\"' % fname)\n"
     ]
    },
    {
     "name": "stdout",
     "output_type": "stream",
     "text": [
      "Found 1 clusters in /Users/mfisherlevine/Downloads/160808_usaf1/03/usaf1_2016_08_08_10_04_31_014.txt - TCUT = 257\n",
      "Found 1 clusters in /Users/mfisherlevine/Downloads/160808_usaf1/05/usaf1_2016_08_08_11_39_42_786.txt - TCUT = 257\n"
     ]
    },
    {
     "name": "stderr",
     "output_type": "stream",
     "text": [
      "/Users/mfisherlevine/anaconda/lib/python2.7/site-packages/numpy/lib/npyio.py:893: UserWarning: loadtxt: Empty input file: \"/Users/mfisherlevine/Downloads/160808_usaf1/02/usaf1_2016_08_08_09_36_24_398.txt\"\n",
      "  warnings.warn('loadtxt: Empty input file: \"%s\"' % fname)\n"
     ]
    },
    {
     "name": "stdout",
     "output_type": "stream",
     "text": [
      "Found 1 clusters in /Users/mfisherlevine/Downloads/160808_usaf1/05/usaf1_2016_08_08_11_53_22_474.txt - TCUT = 257\n"
     ]
    },
    {
     "name": "stderr",
     "output_type": "stream",
     "text": [
      "/Users/mfisherlevine/anaconda/lib/python2.7/site-packages/numpy/lib/npyio.py:893: UserWarning: loadtxt: Empty input file: \"/Users/mfisherlevine/Downloads/160808_usaf1/01/usaf1_2016_08_08_08_38_25_202.txt\"\n",
      "  warnings.warn('loadtxt: Empty input file: \"%s\"' % fname)\n"
     ]
    },
    {
     "name": "stdout",
     "output_type": "stream",
     "text": [
      "Centroided 37000 frames\n"
     ]
    },
    {
     "name": "stderr",
     "output_type": "stream",
     "text": [
      "/Users/mfisherlevine/anaconda/lib/python2.7/site-packages/numpy/lib/npyio.py:893: UserWarning: loadtxt: Empty input file: \"/Users/mfisherlevine/Downloads/160808_usaf1/04/usaf1_2016_08_08_11_03_05_975.txt\"\n",
      "  warnings.warn('loadtxt: Empty input file: \"%s\"' % fname)\n"
     ]
    },
    {
     "name": "stdout",
     "output_type": "stream",
     "text": [
      "Found 1 clusters in /Users/mfisherlevine/Downloads/160808_usaf1/06/usaf1_2016_08_08_12_10_34_125.txt - TCUT = 257\n"
     ]
    },
    {
     "name": "stderr",
     "output_type": "stream",
     "text": [
      "/Users/mfisherlevine/anaconda/lib/python2.7/site-packages/numpy/lib/npyio.py:893: UserWarning: loadtxt: Empty input file: \"/Users/mfisherlevine/Downloads/160808_usaf1/06/usaf1_2016_08_08_12_21_27_944.txt\"\n",
      "  warnings.warn('loadtxt: Empty input file: \"%s\"' % fname)\n",
      "/Users/mfisherlevine/anaconda/lib/python2.7/site-packages/numpy/lib/npyio.py:893: UserWarning: loadtxt: Empty input file: \"/Users/mfisherlevine/Downloads/160808_usaf1/07/usaf1_2016_08_08_13_10_26_537.txt\"\n",
      "  warnings.warn('loadtxt: Empty input file: \"%s\"' % fname)\n"
     ]
    },
    {
     "name": "stdout",
     "output_type": "stream",
     "text": [
      "Found 1 clusters in /Users/mfisherlevine/Downloads/160808_usaf1/02/usaf1_2016_08_08_09_32_04_807.txt - TCUT = 257\n",
      "Found 1 clusters in /Users/mfisherlevine/Downloads/160808_usaf1/07/usaf1_2016_08_08_13_24_10_394.txt - TCUT = 257\n",
      "Centroided 37500 frames\n",
      "Found 1 clusters in /Users/mfisherlevine/Downloads/160808_usaf1/05/usaf1_2016_08_08_11_59_47_973.txt - TCUT = 257\n",
      "Found 1 clusters in /Users/mfisherlevine/Downloads/160808_usaf1/01/usaf1_2016_08_08_08_25_00_769.txt - TCUT = 257\n",
      "Found 1 clusters in /Users/mfisherlevine/Downloads/160808_usaf1/05/usaf1_2016_08_08_11_34_10_085.txt - TCUT = 257\n",
      "Found 1 clusters in /Users/mfisherlevine/Downloads/160808_usaf1/06/usaf1_2016_08_08_12_22_29_665.txt - TCUT = 257\n",
      "Found 1 clusters in /Users/mfisherlevine/Downloads/160808_usaf1/05/usaf1_2016_08_08_11_34_41_053.txt - TCUT = 257\n",
      "Centroided 38000 frames\n"
     ]
    },
    {
     "name": "stderr",
     "output_type": "stream",
     "text": [
      "/Users/mfisherlevine/anaconda/lib/python2.7/site-packages/numpy/lib/npyio.py:893: UserWarning: loadtxt: Empty input file: \"/Users/mfisherlevine/Downloads/160808_usaf1/05/usaf1_2016_08_08_11_49_11_907.txt\"\n",
      "  warnings.warn('loadtxt: Empty input file: \"%s\"' % fname)\n",
      "/Users/mfisherlevine/anaconda/lib/python2.7/site-packages/numpy/lib/npyio.py:893: UserWarning: loadtxt: Empty input file: \"/Users/mfisherlevine/Downloads/160808_usaf1/02/usaf1_2016_08_08_09_41_55_498.txt\"\n",
      "  warnings.warn('loadtxt: Empty input file: \"%s\"' % fname)\n"
     ]
    },
    {
     "name": "stdout",
     "output_type": "stream",
     "text": [
      "Found 1 clusters in /Users/mfisherlevine/Downloads/160808_usaf1/03/usaf1_2016_08_08_09_55_14_955.txt - TCUT = 257\n"
     ]
    },
    {
     "name": "stderr",
     "output_type": "stream",
     "text": [
      "/Users/mfisherlevine/anaconda/lib/python2.7/site-packages/numpy/lib/npyio.py:893: UserWarning: loadtxt: Empty input file: \"/Users/mfisherlevine/Downloads/160808_usaf1/01/usaf1_2016_08_08_08_40_57_011.txt\"\n",
      "  warnings.warn('loadtxt: Empty input file: \"%s\"' % fname)\n"
     ]
    },
    {
     "name": "stdout",
     "output_type": "stream",
     "text": [
      "Found 1 clusters in /Users/mfisherlevine/Downloads/160808_usaf1/05/usaf1_2016_08_08_12_00_17_644.txt - TCUT = 257\n"
     ]
    },
    {
     "name": "stderr",
     "output_type": "stream",
     "text": [
      "/Users/mfisherlevine/anaconda/lib/python2.7/site-packages/numpy/lib/npyio.py:893: UserWarning: loadtxt: Empty input file: \"/Users/mfisherlevine/Downloads/160808_usaf1/02/usaf1_2016_08_08_09_16_21_816.txt\"\n",
      "  warnings.warn('loadtxt: Empty input file: \"%s\"' % fname)\n",
      "/Users/mfisherlevine/anaconda/lib/python2.7/site-packages/numpy/lib/npyio.py:893: UserWarning: loadtxt: Empty input file: \"/Users/mfisherlevine/Downloads/160808_usaf1/02/usaf1_2016_08_08_09_42_08_581.txt\"\n",
      "  warnings.warn('loadtxt: Empty input file: \"%s\"' % fname)\n"
     ]
    },
    {
     "name": "stdout",
     "output_type": "stream",
     "text": [
      "Centroided 38500 frames\n",
      "Found 1 clusters in /Users/mfisherlevine/Downloads/160808_usaf1/02/usaf1_2016_08_08_09_45_53_381.txt - TCUT = 257\n"
     ]
    },
    {
     "name": "stderr",
     "output_type": "stream",
     "text": [
      "/Users/mfisherlevine/anaconda/lib/python2.7/site-packages/numpy/lib/npyio.py:893: UserWarning: loadtxt: Empty input file: \"/Users/mfisherlevine/Downloads/160808_usaf1/06/usaf1_2016_08_08_12_05_50_321.txt\"\n",
      "  warnings.warn('loadtxt: Empty input file: \"%s\"' % fname)\n"
     ]
    },
    {
     "name": "stdout",
     "output_type": "stream",
     "text": [
      "Centroided 39000 frames\n",
      "Found 1 clusters in /Users/mfisherlevine/Downloads/160808_usaf1/04/usaf1_2016_08_08_10_57_02_639.txt - TCUT = 257\n",
      "Found 1 clusters in /Users/mfisherlevine/Downloads/160808_usaf1/06/usaf1_2016_08_08_12_14_55_613.txt - TCUT = 257\n"
     ]
    },
    {
     "name": "stderr",
     "output_type": "stream",
     "text": [
      "/Users/mfisherlevine/anaconda/lib/python2.7/site-packages/numpy/lib/npyio.py:893: UserWarning: loadtxt: Empty input file: \"/Users/mfisherlevine/Downloads/160808_usaf1/02/usaf1_2016_08_08_09_46_57_374.txt\"\n",
      "  warnings.warn('loadtxt: Empty input file: \"%s\"' % fname)\n"
     ]
    },
    {
     "name": "stdout",
     "output_type": "stream",
     "text": [
      "Centroided 39500 frames\n",
      "Found 1 clusters in /Users/mfisherlevine/Downloads/160808_usaf1/04/usaf1_2016_08_08_11_11_56_976.txt - TCUT = 257\n"
     ]
    },
    {
     "name": "stderr",
     "output_type": "stream",
     "text": [
      "/Users/mfisherlevine/anaconda/lib/python2.7/site-packages/numpy/lib/npyio.py:893: UserWarning: loadtxt: Empty input file: \"/Users/mfisherlevine/Downloads/160808_usaf1/05/usaf1_2016_08_08_11_47_55_475.txt\"\n",
      "  warnings.warn('loadtxt: Empty input file: \"%s\"' % fname)\n"
     ]
    },
    {
     "name": "stdout",
     "output_type": "stream",
     "text": [
      "Found 1 clusters in /Users/mfisherlevine/Downloads/160808_usaf1/03/usaf1_2016_08_08_09_53_43_987.txt - TCUT = 257\n",
      "Centroided 40000 frames\n"
     ]
    },
    {
     "name": "stderr",
     "output_type": "stream",
     "text": [
      "/Users/mfisherlevine/anaconda/lib/python2.7/site-packages/numpy/lib/npyio.py:893: UserWarning: loadtxt: Empty input file: \"/Users/mfisherlevine/Downloads/160808_usaf1/00/usaf1_2016_08_08_08_08_32_815.txt\"\n",
      "  warnings.warn('loadtxt: Empty input file: \"%s\"' % fname)\n"
     ]
    },
    {
     "name": "stdout",
     "output_type": "stream",
     "text": [
      "Found 1 clusters in /Users/mfisherlevine/Downloads/160808_usaf1/07/usaf1_2016_08_08_13_16_26_691.txt - TCUT = 257\n",
      "Centroided 40500 frames\n",
      "Found 1 clusters in /Users/mfisherlevine/Downloads/160808_usaf1/04/usaf1_2016_08_08_10_59_30_444.txt - TCUT = 257\n"
     ]
    },
    {
     "name": "stderr",
     "output_type": "stream",
     "text": [
      "/Users/mfisherlevine/anaconda/lib/python2.7/site-packages/numpy/lib/npyio.py:893: UserWarning: loadtxt: Empty input file: \"/Users/mfisherlevine/Downloads/160808_usaf1/03/usaf1_2016_08_08_10_13_32_703.txt\"\n",
      "  warnings.warn('loadtxt: Empty input file: \"%s\"' % fname)\n"
     ]
    },
    {
     "name": "stdout",
     "output_type": "stream",
     "text": [
      "Found 1 clusters in /Users/mfisherlevine/Downloads/160808_usaf1/01/usaf1_2016_08_08_08_54_29_984.txt - TCUT = 257\n",
      "Centroided 41000 frames\n",
      "Found 1 clusters in /Users/mfisherlevine/Downloads/160808_usaf1/05/usaf1_2016_08_08_11_55_38_945.txt - TCUT = 257\n",
      "Found 1 clusters in /Users/mfisherlevine/Downloads/160808_usaf1/02/usaf1_2016_08_08_09_43_24_263.txt - TCUT = 257\n",
      "Found 1 clusters in /Users/mfisherlevine/Downloads/160808_usaf1/05/usaf1_2016_08_08_11_57_12_684.txt - TCUT = 257\n",
      "Found 1 clusters in /Users/mfisherlevine/Downloads/160808_usaf1/06/usaf1_2016_08_08_12_06_35_101.txt - TCUT = 257\n"
     ]
    },
    {
     "name": "stderr",
     "output_type": "stream",
     "text": [
      "/Users/mfisherlevine/anaconda/lib/python2.7/site-packages/numpy/lib/npyio.py:893: UserWarning: loadtxt: Empty input file: \"/Users/mfisherlevine/Downloads/160808_usaf1/05/usaf1_2016_08_08_11_56_48_215.txt\"\n",
      "  warnings.warn('loadtxt: Empty input file: \"%s\"' % fname)\n"
     ]
    },
    {
     "name": "stdout",
     "output_type": "stream",
     "text": [
      "Centroided 41500 frames\n"
     ]
    },
    {
     "name": "stderr",
     "output_type": "stream",
     "text": [
      "/Users/mfisherlevine/anaconda/lib/python2.7/site-packages/numpy/lib/npyio.py:893: UserWarning: loadtxt: Empty input file: \"/Users/mfisherlevine/Downloads/160808_usaf1/07/usaf1_2016_08_08_13_22_30_919.txt\"\n",
      "  warnings.warn('loadtxt: Empty input file: \"%s\"' % fname)\n",
      "/Users/mfisherlevine/anaconda/lib/python2.7/site-packages/numpy/lib/npyio.py:893: UserWarning: loadtxt: Empty input file: \"/Users/mfisherlevine/Downloads/160808_usaf1/04/usaf1_2016_08_08_11_09_43_782.txt\"\n",
      "  warnings.warn('loadtxt: Empty input file: \"%s\"' % fname)\n",
      "/Users/mfisherlevine/anaconda/lib/python2.7/site-packages/numpy/lib/npyio.py:893: UserWarning: loadtxt: Empty input file: \"/Users/mfisherlevine/Downloads/160808_usaf1/02/usaf1_2016_08_08_09_26_52_354.txt\"\n",
      "  warnings.warn('loadtxt: Empty input file: \"%s\"' % fname)\n"
     ]
    },
    {
     "name": "stdout",
     "output_type": "stream",
     "text": [
      "Found 1 clusters in /Users/mfisherlevine/Downloads/160808_usaf1/00/usaf1_2016_08_08_08_16_02_602.txt - TCUT = 257\n",
      "Found 1 clusters in /Users/mfisherlevine/Downloads/160808_usaf1/06/usaf1_2016_08_08_12_37_05_652.txt - TCUT = 257\n",
      "Centroided 42000 frames\n",
      "Found 1 clusters in /Users/mfisherlevine/Downloads/160808_usaf1/03/usaf1_2016_08_08_10_13_20_966.txt - TCUT = 257\n",
      "Found 1 clusters in /Users/mfisherlevine/Downloads/160808_usaf1/02/usaf1_2016_08_08_09_07_30_203.txt - TCUT = 257\n",
      "Found 1 clusters in /Users/mfisherlevine/Downloads/160808_usaf1/02/usaf1_2016_08_08_09_31_29_539.txt - TCUT = 257\n",
      "Found 1 clusters in /Users/mfisherlevine/Downloads/160808_usaf1/02/usaf1_2016_08_08_09_30_16_821.txt - TCUT = 257\n",
      "Found 1 clusters in /Users/mfisherlevine/Downloads/160808_usaf1/04/usaf1_2016_08_08_10_49_53_435.txt - TCUT = 257\n",
      "Centroided 42500 frames\n",
      "Found 1 clusters in /Users/mfisherlevine/Downloads/160808_usaf1/01/usaf1_2016_08_08_08_24_37_980.txt - TCUT = 257\n"
     ]
    },
    {
     "name": "stderr",
     "output_type": "stream",
     "text": [
      "/Users/mfisherlevine/anaconda/lib/python2.7/site-packages/numpy/lib/npyio.py:893: UserWarning: loadtxt: Empty input file: \"/Users/mfisherlevine/Downloads/160808_usaf1/00/usaf1_2016_08_08_08_03_26_192.txt\"\n",
      "  warnings.warn('loadtxt: Empty input file: \"%s\"' % fname)\n",
      "/Users/mfisherlevine/anaconda/lib/python2.7/site-packages/numpy/lib/npyio.py:893: UserWarning: loadtxt: Empty input file: \"/Users/mfisherlevine/Downloads/160808_usaf1/03/usaf1_2016_08_08_10_19_19_985.txt\"\n",
      "  warnings.warn('loadtxt: Empty input file: \"%s\"' % fname)\n"
     ]
    },
    {
     "name": "stdout",
     "output_type": "stream",
     "text": [
      "Centroided 43000 frames\n"
     ]
    },
    {
     "name": "stderr",
     "output_type": "stream",
     "text": [
      "/Users/mfisherlevine/anaconda/lib/python2.7/site-packages/numpy/lib/npyio.py:893: UserWarning: loadtxt: Empty input file: \"/Users/mfisherlevine/Downloads/160808_usaf1/06/usaf1_2016_08_08_12_06_14_394.txt\"\n",
      "  warnings.warn('loadtxt: Empty input file: \"%s\"' % fname)\n",
      "/Users/mfisherlevine/anaconda/lib/python2.7/site-packages/numpy/lib/npyio.py:893: UserWarning: loadtxt: Empty input file: \"/Users/mfisherlevine/Downloads/160808_usaf1/02/usaf1_2016_08_08_09_23_09_143.txt\"\n",
      "  warnings.warn('loadtxt: Empty input file: \"%s\"' % fname)\n"
     ]
    },
    {
     "name": "stdout",
     "output_type": "stream",
     "text": [
      "Found 1 clusters in /Users/mfisherlevine/Downloads/160808_usaf1/05/usaf1_2016_08_08_11_25_24_893.txt - TCUT = 257\n",
      "Centroided 43500 frames\n",
      "Found 1 clusters in /Users/mfisherlevine/Downloads/160808_usaf1/06/usaf1_2016_08_08_12_42_22_348.txt - TCUT = 257\n"
     ]
    },
    {
     "name": "stderr",
     "output_type": "stream",
     "text": [
      "/Users/mfisherlevine/anaconda/lib/python2.7/site-packages/numpy/lib/npyio.py:893: UserWarning: loadtxt: Empty input file: \"/Users/mfisherlevine/Downloads/160808_usaf1/06/usaf1_2016_08_08_12_24_31_997.txt\"\n",
      "  warnings.warn('loadtxt: Empty input file: \"%s\"' % fname)\n"
     ]
    },
    {
     "name": "stdout",
     "output_type": "stream",
     "text": [
      "Found 1 clusters in /Users/mfisherlevine/Downloads/160808_usaf1/04/usaf1_2016_08_08_10_49_42_256.txt - TCUT = 257\n",
      "Found 1 clusters in /Users/mfisherlevine/Downloads/160808_usaf1/06/usaf1_2016_08_08_12_40_09_802.txt - TCUT = 257\n",
      "Centroided 44000 frames\n"
     ]
    },
    {
     "name": "stderr",
     "output_type": "stream",
     "text": [
      "/Users/mfisherlevine/anaconda/lib/python2.7/site-packages/numpy/lib/npyio.py:893: UserWarning: loadtxt: Empty input file: \"/Users/mfisherlevine/Downloads/160808_usaf1/00/usaf1_2016_08_08_08_18_24_769.txt\"\n",
      "  warnings.warn('loadtxt: Empty input file: \"%s\"' % fname)\n",
      "/Users/mfisherlevine/anaconda/lib/python2.7/site-packages/numpy/lib/npyio.py:893: UserWarning: loadtxt: Empty input file: \"/Users/mfisherlevine/Downloads/160808_usaf1/06/usaf1_2016_08_08_12_37_40_184.txt\"\n",
      "  warnings.warn('loadtxt: Empty input file: \"%s\"' % fname)\n"
     ]
    },
    {
     "name": "stdout",
     "output_type": "stream",
     "text": [
      "Centroided 44500 frames\n",
      "Found 1 clusters in /Users/mfisherlevine/Downloads/160808_usaf1/05/usaf1_2016_08_08_11_58_10_443.txt - TCUT = 257\n",
      "Found 1 clusters in /Users/mfisherlevine/Downloads/160808_usaf1/04/usaf1_2016_08_08_11_02_31_935.txt - TCUT = 257\n",
      "Found 1 clusters in /Users/mfisherlevine/Downloads/160808_usaf1/02/usaf1_2016_08_08_09_24_24_862.txt - TCUT = 257\n"
     ]
    },
    {
     "name": "stderr",
     "output_type": "stream",
     "text": [
      "/Users/mfisherlevine/anaconda/lib/python2.7/site-packages/numpy/lib/npyio.py:893: UserWarning: loadtxt: Empty input file: \"/Users/mfisherlevine/Downloads/160808_usaf1/07/usaf1_2016_08_08_12_55_56_364.txt\"\n",
      "  warnings.warn('loadtxt: Empty input file: \"%s\"' % fname)\n"
     ]
    },
    {
     "name": "stdout",
     "output_type": "stream",
     "text": [
      "Centroided 45000 frames\n",
      "Found 1 clusters in /Users/mfisherlevine/Downloads/160808_usaf1/05/usaf1_2016_08_08_11_27_15_342.txt - TCUT = 257\n"
     ]
    },
    {
     "name": "stderr",
     "output_type": "stream",
     "text": [
      "/Users/mfisherlevine/anaconda/lib/python2.7/site-packages/numpy/lib/npyio.py:893: UserWarning: loadtxt: Empty input file: \"/Users/mfisherlevine/Downloads/160808_usaf1/02/usaf1_2016_08_08_09_07_34_041.txt\"\n",
      "  warnings.warn('loadtxt: Empty input file: \"%s\"' % fname)\n"
     ]
    },
    {
     "name": "stdout",
     "output_type": "stream",
     "text": [
      "Found 1 clusters in /Users/mfisherlevine/Downloads/160808_usaf1/03/usaf1_2016_08_08_10_02_41_875.txt - TCUT = 257\n",
      "Found 1 clusters in /Users/mfisherlevine/Downloads/160808_usaf1/04/usaf1_2016_08_08_10_59_59_111.txt - TCUT = 257\n",
      "Found 1 clusters in /Users/mfisherlevine/Downloads/160808_usaf1/06/usaf1_2016_08_08_12_06_02_713.txt - TCUT = 257\n",
      "Centroided 45500 frames\n",
      "Found 1 clusters in /Users/mfisherlevine/Downloads/160808_usaf1/06/usaf1_2016_08_08_12_05_05_446.txt - TCUT = 257\n",
      "Found 1 clusters in /Users/mfisherlevine/Downloads/160808_usaf1/05/usaf1_2016_08_08_11_22_47_730.txt - TCUT = 257\n",
      "Found 1 clusters in /Users/mfisherlevine/Downloads/160808_usaf1/03/usaf1_2016_08_08_10_16_15_259.txt - TCUT = 257\n",
      "Found 1 clusters in /Users/mfisherlevine/Downloads/160808_usaf1/03/usaf1_2016_08_08_10_32_54_715.txt - TCUT = 257\n",
      "Centroided 46000 frames\n",
      "Found 1 clusters in /Users/mfisherlevine/Downloads/160808_usaf1/04/usaf1_2016_08_08_10_48_57_559.txt - TCUT = 257\n",
      "Found 1 clusters in /Users/mfisherlevine/Downloads/160808_usaf1/01/usaf1_2016_08_08_08_54_55_941.txt - TCUT = 257\n",
      "Centroided 46500 frames\n",
      "Found 1 clusters in /Users/mfisherlevine/Downloads/160808_usaf1/06/usaf1_2016_08_08_12_23_12_917.txt - TCUT = 257\n",
      "Found 1 clusters in /Users/mfisherlevine/Downloads/160808_usaf1/00/usaf1_2016_08_08_08_20_36_084.txt - TCUT = 257\n",
      "Found 1 clusters in /Users/mfisherlevine/Downloads/160808_usaf1/02/usaf1_2016_08_08_09_12_45_660.txt - TCUT = 257\n",
      "Found 1 clusters in /Users/mfisherlevine/Downloads/160808_usaf1/07/usaf1_2016_08_08_13_20_38_886.txt - TCUT = 257\n",
      "Found 1 clusters in /Users/mfisherlevine/Downloads/160808_usaf1/04/usaf1_2016_08_08_10_48_49_245.txt - TCUT = 257\n",
      "Centroided 47000 frames\n",
      "Found 1 clusters in /Users/mfisherlevine/Downloads/160808_usaf1/03/usaf1_2016_08_08_10_05_05_521.txt - TCUT = 257\n",
      "Centroided 47500 frames\n",
      "Found 1 clusters in /Users/mfisherlevine/Downloads/160808_usaf1/02/usaf1_2016_08_08_09_07_42_809.txt - TCUT = 257\n",
      "Found 1 clusters in /Users/mfisherlevine/Downloads/160808_usaf1/03/usaf1_2016_08_08_10_01_02_275.txt - TCUT = 257\n",
      "Found 1 clusters in /Users/mfisherlevine/Downloads/160808_usaf1/00/usaf1_2016_08_08_08_18_06_067.txt - TCUT = 257\n",
      "Found 1 clusters in /Users/mfisherlevine/Downloads/160808_usaf1/01/usaf1_2016_08_08_08_39_57_431.txt - TCUT = 257\n",
      "Found 1 clusters in /Users/mfisherlevine/Downloads/160808_usaf1/02/usaf1_2016_08_08_09_46_57_758.txt - TCUT = 257\n",
      "Found 1 clusters in /Users/mfisherlevine/Downloads/160808_usaf1/03/usaf1_2016_08_08_10_31_35_278.txt - TCUT = 257\n",
      "Centroided 48000 frames\n",
      "Found 1 clusters in /Users/mfisherlevine/Downloads/160808_usaf1/05/usaf1_2016_08_08_11_57_29_915.txt - TCUT = 257\n"
     ]
    },
    {
     "name": "stderr",
     "output_type": "stream",
     "text": [
      "/Users/mfisherlevine/anaconda/lib/python2.7/site-packages/numpy/lib/npyio.py:893: UserWarning: loadtxt: Empty input file: \"/Users/mfisherlevine/Downloads/160808_usaf1/00/usaf1_2016_08_08_07_44_18_549.txt\"\n",
      "  warnings.warn('loadtxt: Empty input file: \"%s\"' % fname)\n"
     ]
    },
    {
     "name": "stdout",
     "output_type": "stream",
     "text": [
      "Found 1 clusters in /Users/mfisherlevine/Downloads/160808_usaf1/00/usaf1_2016_08_08_08_19_03_307.txt - TCUT = 257\n",
      "Found 1 clusters in /Users/mfisherlevine/Downloads/160808_usaf1/01/usaf1_2016_08_08_09_03_41_106.txt - TCUT = 257\n",
      "Centroided 48500 frames\n",
      "Found 1 clusters in /Users/mfisherlevine/Downloads/160808_usaf1/01/usaf1_2016_08_08_08_39_11_304.txt - TCUT = 257\n"
     ]
    },
    {
     "name": "stderr",
     "output_type": "stream",
     "text": [
      "/Users/mfisherlevine/anaconda/lib/python2.7/site-packages/numpy/lib/npyio.py:893: UserWarning: loadtxt: Empty input file: \"/Users/mfisherlevine/Downloads/160808_usaf1/02/usaf1_2016_08_08_09_39_11_334.txt\"\n",
      "  warnings.warn('loadtxt: Empty input file: \"%s\"' % fname)\n"
     ]
    },
    {
     "name": "stdout",
     "output_type": "stream",
     "text": [
      "Centroided 49000 frames\n",
      "Found 1 clusters in /Users/mfisherlevine/Downloads/160808_usaf1/03/usaf1_2016_08_08_09_57_00_250.txt - TCUT = 257\n",
      "Found 1 clusters in /Users/mfisherlevine/Downloads/160808_usaf1/02/usaf1_2016_08_08_09_10_31_496.txt - TCUT = 257\n",
      "Centroided 49500 frames\n",
      "Found 1 clusters in /Users/mfisherlevine/Downloads/160808_usaf1/02/usaf1_2016_08_08_09_42_51_022.txt - TCUT = 257\n",
      "Found 1 clusters in /Users/mfisherlevine/Downloads/160808_usaf1/03/usaf1_2016_08_08_10_22_02_235.txt - TCUT = 257\n"
     ]
    },
    {
     "name": "stderr",
     "output_type": "stream",
     "text": [
      "/Users/mfisherlevine/anaconda/lib/python2.7/site-packages/numpy/lib/npyio.py:893: UserWarning: loadtxt: Empty input file: \"/Users/mfisherlevine/Downloads/160808_usaf1/02/usaf1_2016_08_08_09_07_19_550.txt\"\n",
      "  warnings.warn('loadtxt: Empty input file: \"%s\"' % fname)\n",
      "/Users/mfisherlevine/anaconda/lib/python2.7/site-packages/numpy/lib/npyio.py:893: UserWarning: loadtxt: Empty input file: \"/Users/mfisherlevine/Downloads/160808_usaf1/03/usaf1_2016_08_08_10_16_14_765.txt\"\n",
      "  warnings.warn('loadtxt: Empty input file: \"%s\"' % fname)\n"
     ]
    },
    {
     "name": "stdout",
     "output_type": "stream",
     "text": [
      "Found 1 clusters in /Users/mfisherlevine/Downloads/160808_usaf1/02/usaf1_2016_08_08_09_07_32_828.txt - TCUT = 257\n",
      "Centroided 50000 frames\n",
      "Found 1 clusters in /Users/mfisherlevine/Downloads/160808_usaf1/06/usaf1_2016_08_08_12_41_38_024.txt - TCUT = 257\n",
      "Centroided 50500 frames\n",
      "Found 1 clusters in /Users/mfisherlevine/Downloads/160808_usaf1/07/usaf1_2016_08_08_13_15_02_698.txt - TCUT = 257\n"
     ]
    },
    {
     "name": "stderr",
     "output_type": "stream",
     "text": [
      "/Users/mfisherlevine/anaconda/lib/python2.7/site-packages/numpy/lib/npyio.py:893: UserWarning: loadtxt: Empty input file: \"/Users/mfisherlevine/Downloads/160808_usaf1/03/usaf1_2016_08_08_10_19_16_336.txt\"\n",
      "  warnings.warn('loadtxt: Empty input file: \"%s\"' % fname)\n"
     ]
    },
    {
     "name": "stdout",
     "output_type": "stream",
     "text": [
      "Centroided 51000 frames\n"
     ]
    },
    {
     "name": "stderr",
     "output_type": "stream",
     "text": [
      "/Users/mfisherlevine/anaconda/lib/python2.7/site-packages/numpy/lib/npyio.py:893: UserWarning: loadtxt: Empty input file: \"/Users/mfisherlevine/Downloads/160808_usaf1/07/usaf1_2016_08_08_12_55_20_631.txt\"\n",
      "  warnings.warn('loadtxt: Empty input file: \"%s\"' % fname)\n",
      "/Users/mfisherlevine/anaconda/lib/python2.7/site-packages/numpy/lib/npyio.py:893: UserWarning: loadtxt: Empty input file: \"/Users/mfisherlevine/Downloads/160808_usaf1/07/usaf1_2016_08_08_13_08_52_792.txt\"\n",
      "  warnings.warn('loadtxt: Empty input file: \"%s\"' % fname)\n"
     ]
    },
    {
     "name": "stdout",
     "output_type": "stream",
     "text": [
      "Found 1 clusters in /Users/mfisherlevine/Downloads/160808_usaf1/01/usaf1_2016_08_08_08_41_06_180.txt - TCUT = 257\n",
      "Centroided 51500 frames\n",
      "Found 1 clusters in /Users/mfisherlevine/Downloads/160808_usaf1/03/usaf1_2016_08_08_10_13_47_277.txt - TCUT = 257\n"
     ]
    },
    {
     "name": "stderr",
     "output_type": "stream",
     "text": [
      "/Users/mfisherlevine/anaconda/lib/python2.7/site-packages/numpy/lib/npyio.py:893: UserWarning: loadtxt: Empty input file: \"/Users/mfisherlevine/Downloads/160808_usaf1/02/usaf1_2016_08_08_09_42_50_553.txt\"\n",
      "  warnings.warn('loadtxt: Empty input file: \"%s\"' % fname)\n"
     ]
    },
    {
     "name": "stdout",
     "output_type": "stream",
     "text": [
      "Found 1 clusters in /Users/mfisherlevine/Downloads/160808_usaf1/02/usaf1_2016_08_08_09_20_16_886.txt - TCUT = 257\n",
      "Centroided 52000 frames\n"
     ]
    },
    {
     "name": "stderr",
     "output_type": "stream",
     "text": [
      "/Users/mfisherlevine/anaconda/lib/python2.7/site-packages/numpy/lib/npyio.py:893: UserWarning: loadtxt: Empty input file: \"/Users/mfisherlevine/Downloads/160808_usaf1/06/usaf1_2016_08_08_12_14_32_713.txt\"\n",
      "  warnings.warn('loadtxt: Empty input file: \"%s\"' % fname)\n"
     ]
    },
    {
     "name": "stdout",
     "output_type": "stream",
     "text": [
      "Found 1 clusters in /Users/mfisherlevine/Downloads/160808_usaf1/04/usaf1_2016_08_08_11_06_38_812.txt - TCUT = 257\n",
      "Found 1 clusters in /Users/mfisherlevine/Downloads/160808_usaf1/03/usaf1_2016_08_08_10_19_05_765.txt - TCUT = 257\n",
      "Centroided 52500 frames\n"
     ]
    },
    {
     "name": "stderr",
     "output_type": "stream",
     "text": [
      "/Users/mfisherlevine/anaconda/lib/python2.7/site-packages/numpy/lib/npyio.py:893: UserWarning: loadtxt: Empty input file: \"/Users/mfisherlevine/Downloads/160808_usaf1/07/usaf1_2016_08_08_13_04_42_445.txt\"\n",
      "  warnings.warn('loadtxt: Empty input file: \"%s\"' % fname)\n"
     ]
    },
    {
     "name": "stdout",
     "output_type": "stream",
     "text": [
      "Found 1 clusters in /Users/mfisherlevine/Downloads/160808_usaf1/03/usaf1_2016_08_08_10_17_38_704.txt - TCUT = 257\n",
      "Found 1 clusters in /Users/mfisherlevine/Downloads/160808_usaf1/04/usaf1_2016_08_08_11_08_34_720.txt - TCUT = 257\n",
      "Centroided 53000 frames\n",
      "Found 1 clusters in /Users/mfisherlevine/Downloads/160808_usaf1/07/usaf1_2016_08_08_13_09_47_780.txt - TCUT = 257\n",
      "Found 1 clusters in /Users/mfisherlevine/Downloads/160808_usaf1/04/usaf1_2016_08_08_10_56_27_854.txt - TCUT = 257\n",
      "Found 1 clusters in /Users/mfisherlevine/Downloads/160808_usaf1/04/usaf1_2016_08_08_10_48_16_721.txt - TCUT = 257\n",
      "Found 1 clusters in /Users/mfisherlevine/Downloads/160808_usaf1/04/usaf1_2016_08_08_11_20_34_686.txt - TCUT = 257\n",
      "Found 1 clusters in /Users/mfisherlevine/Downloads/160808_usaf1/06/usaf1_2016_08_08_12_18_30_606.txt - TCUT = 257\n",
      "Found 1 clusters in /Users/mfisherlevine/Downloads/160808_usaf1/04/usaf1_2016_08_08_11_17_50_328.txt - TCUT = 257\n"
     ]
    },
    {
     "name": "stderr",
     "output_type": "stream",
     "text": [
      "/Users/mfisherlevine/anaconda/lib/python2.7/site-packages/numpy/lib/npyio.py:893: UserWarning: loadtxt: Empty input file: \"/Users/mfisherlevine/Downloads/160808_usaf1/00/usaf1_2016_08_08_08_19_56_421.txt\"\n",
      "  warnings.warn('loadtxt: Empty input file: \"%s\"' % fname)\n",
      "/Users/mfisherlevine/anaconda/lib/python2.7/site-packages/numpy/lib/npyio.py:893: UserWarning: loadtxt: Empty input file: \"/Users/mfisherlevine/Downloads/160808_usaf1/01/usaf1_2016_08_08_08_38_42_678.txt\"\n",
      "  warnings.warn('loadtxt: Empty input file: \"%s\"' % fname)\n"
     ]
    },
    {
     "name": "stdout",
     "output_type": "stream",
     "text": [
      "Centroided 53500 frames\n",
      "Found 1 clusters in /Users/mfisherlevine/Downloads/160808_usaf1/01/usaf1_2016_08_08_08_45_19_645.txt - TCUT = 257\n",
      "Found 1 clusters in /Users/mfisherlevine/Downloads/160808_usaf1/06/usaf1_2016_08_08_12_06_48_100.txt - TCUT = 257\n"
     ]
    },
    {
     "name": "stderr",
     "output_type": "stream",
     "text": [
      "/Users/mfisherlevine/anaconda/lib/python2.7/site-packages/numpy/lib/npyio.py:893: UserWarning: loadtxt: Empty input file: \"/Users/mfisherlevine/Downloads/160808_usaf1/05/usaf1_2016_08_08_11_33_09_574.txt\"\n",
      "  warnings.warn('loadtxt: Empty input file: \"%s\"' % fname)\n"
     ]
    },
    {
     "name": "stdout",
     "output_type": "stream",
     "text": [
      "Centroided 54000 frames\n",
      "Found 1 clusters in /Users/mfisherlevine/Downloads/160808_usaf1/04/usaf1_2016_08_08_11_17_26_341.txt - TCUT = 257\n",
      "Found 1 clusters in /Users/mfisherlevine/Downloads/160808_usaf1/01/usaf1_2016_08_08_09_01_03_235.txt - TCUT = 257\n"
     ]
    },
    {
     "name": "stderr",
     "output_type": "stream",
     "text": [
      "/Users/mfisherlevine/anaconda/lib/python2.7/site-packages/numpy/lib/npyio.py:893: UserWarning: loadtxt: Empty input file: \"/Users/mfisherlevine/Downloads/160808_usaf1/07/usaf1_2016_08_08_13_16_01_207.txt\"\n",
      "  warnings.warn('loadtxt: Empty input file: \"%s\"' % fname)\n"
     ]
    },
    {
     "name": "stdout",
     "output_type": "stream",
     "text": [
      "Found 1 clusters in /Users/mfisherlevine/Downloads/160808_usaf1/06/usaf1_2016_08_08_12_09_04_299.txt - TCUT = 257\n",
      "Centroided 54500 frames\n",
      "Found 1 clusters in /Users/mfisherlevine/Downloads/160808_usaf1/02/usaf1_2016_08_08_09_18_24_595.txt - TCUT = 257\n"
     ]
    },
    {
     "name": "stderr",
     "output_type": "stream",
     "text": [
      "/Users/mfisherlevine/anaconda/lib/python2.7/site-packages/numpy/lib/npyio.py:893: UserWarning: loadtxt: Empty input file: \"/Users/mfisherlevine/Downloads/160808_usaf1/06/usaf1_2016_08_08_12_11_26_933.txt\"\n",
      "  warnings.warn('loadtxt: Empty input file: \"%s\"' % fname)\n"
     ]
    },
    {
     "name": "stdout",
     "output_type": "stream",
     "text": [
      "Found 1 clusters in /Users/mfisherlevine/Downloads/160808_usaf1/02/usaf1_2016_08_08_09_28_20_793.txt - TCUT = 257\n",
      "Found 1 clusters in /Users/mfisherlevine/Downloads/160808_usaf1/02/usaf1_2016_08_08_09_22_46_553.txt - TCUT = 257\n",
      "Found 1 clusters in /Users/mfisherlevine/Downloads/160808_usaf1/01/usaf1_2016_08_08_08_59_57_811.txt - TCUT = 257\n",
      "Found 1 clusters in /Users/mfisherlevine/Downloads/160808_usaf1/02/usaf1_2016_08_08_09_34_32_577.txt - TCUT = 257\n",
      "Centroided 55000 frames\n"
     ]
    },
    {
     "name": "stderr",
     "output_type": "stream",
     "text": [
      "/Users/mfisherlevine/anaconda/lib/python2.7/site-packages/numpy/lib/npyio.py:893: UserWarning: loadtxt: Empty input file: \"/Users/mfisherlevine/Downloads/160808_usaf1/03/usaf1_2016_08_08_10_30_17_329.txt\"\n",
      "  warnings.warn('loadtxt: Empty input file: \"%s\"' % fname)\n"
     ]
    },
    {
     "name": "stdout",
     "output_type": "stream",
     "text": [
      "Found 1 clusters in /Users/mfisherlevine/Downloads/160808_usaf1/07/usaf1_2016_08_08_13_22_44_936.txt - TCUT = 257\n",
      "Found 1 clusters in /Users/mfisherlevine/Downloads/160808_usaf1/07/usaf1_2016_08_08_13_15_59_581.txt - TCUT = 257\n",
      "Centroided 55500 frames\n",
      "Found 1 clusters in /Users/mfisherlevine/Downloads/160808_usaf1/05/usaf1_2016_08_08_11_41_19_684.txt - TCUT = 257\n",
      "Found 1 clusters in /Users/mfisherlevine/Downloads/160808_usaf1/07/usaf1_2016_08_08_13_13_36_366.txt - TCUT = 257\n"
     ]
    },
    {
     "name": "stderr",
     "output_type": "stream",
     "text": [
      "/Users/mfisherlevine/anaconda/lib/python2.7/site-packages/numpy/lib/npyio.py:893: UserWarning: loadtxt: Empty input file: \"/Users/mfisherlevine/Downloads/160808_usaf1/00/usaf1_2016_08_08_07_46_11_302.txt\"\n",
      "  warnings.warn('loadtxt: Empty input file: \"%s\"' % fname)\n"
     ]
    },
    {
     "name": "stdout",
     "output_type": "stream",
     "text": [
      "Found 1 clusters in /Users/mfisherlevine/Downloads/160808_usaf1/06/usaf1_2016_08_08_12_25_17_115.txt - TCUT = 257\n",
      "Found 1 clusters in /Users/mfisherlevine/Downloads/160808_usaf1/02/usaf1_2016_08_08_09_40_33_873.txt - TCUT = 257\n"
     ]
    },
    {
     "name": "stderr",
     "output_type": "stream",
     "text": [
      "/Users/mfisherlevine/anaconda/lib/python2.7/site-packages/numpy/lib/npyio.py:893: UserWarning: loadtxt: Empty input file: \"/Users/mfisherlevine/Downloads/160808_usaf1/05/usaf1_2016_08_08_12_01_43_952.txt\"\n",
      "  warnings.warn('loadtxt: Empty input file: \"%s\"' % fname)\n"
     ]
    },
    {
     "name": "stdout",
     "output_type": "stream",
     "text": [
      "Centroided 56000 frames\n"
     ]
    },
    {
     "name": "stderr",
     "output_type": "stream",
     "text": [
      "/Users/mfisherlevine/anaconda/lib/python2.7/site-packages/numpy/lib/npyio.py:893: UserWarning: loadtxt: Empty input file: \"/Users/mfisherlevine/Downloads/160808_usaf1/05/usaf1_2016_08_08_11_28_35_753.txt\"\n",
      "  warnings.warn('loadtxt: Empty input file: \"%s\"' % fname)\n"
     ]
    },
    {
     "name": "stdout",
     "output_type": "stream",
     "text": [
      "Found 1 clusters in /Users/mfisherlevine/Downloads/160808_usaf1/04/usaf1_2016_08_08_10_59_15_102.txt - TCUT = 257\n"
     ]
    },
    {
     "name": "stderr",
     "output_type": "stream",
     "text": [
      "/Users/mfisherlevine/anaconda/lib/python2.7/site-packages/numpy/lib/npyio.py:893: UserWarning: loadtxt: Empty input file: \"/Users/mfisherlevine/Downloads/160808_usaf1/00/usaf1_2016_08_08_08_04_45_408.txt\"\n",
      "  warnings.warn('loadtxt: Empty input file: \"%s\"' % fname)\n",
      "/Users/mfisherlevine/anaconda/lib/python2.7/site-packages/numpy/lib/npyio.py:893: UserWarning: loadtxt: Empty input file: \"/Users/mfisherlevine/Downloads/160808_usaf1/04/usaf1_2016_08_08_10_48_37_965.txt\"\n",
      "  warnings.warn('loadtxt: Empty input file: \"%s\"' % fname)\n"
     ]
    },
    {
     "name": "stdout",
     "output_type": "stream",
     "text": [
      "Found 1 clusters in /Users/mfisherlevine/Downloads/160808_usaf1/03/usaf1_2016_08_08_10_23_19_122.txt - TCUT = 257\n"
     ]
    },
    {
     "name": "stderr",
     "output_type": "stream",
     "text": [
      "/Users/mfisherlevine/anaconda/lib/python2.7/site-packages/numpy/lib/npyio.py:893: UserWarning: loadtxt: Empty input file: \"/Users/mfisherlevine/Downloads/160808_usaf1/01/usaf1_2016_08_08_08_33_52_621.txt\"\n",
      "  warnings.warn('loadtxt: Empty input file: \"%s\"' % fname)\n"
     ]
    },
    {
     "name": "stdout",
     "output_type": "stream",
     "text": [
      "Found 1 clusters in /Users/mfisherlevine/Downloads/160808_usaf1/04/usaf1_2016_08_08_10_51_07_432.txt - TCUT = 257\n",
      "Found 1 clusters in /Users/mfisherlevine/Downloads/160808_usaf1/00/usaf1_2016_08_08_07_43_51_027.txt - TCUT = 257\n",
      "Centroided 56500 frames\n",
      "Found 1 clusters in /Users/mfisherlevine/Downloads/160808_usaf1/03/usaf1_2016_08_08_09_56_27_395.txt - TCUT = 257\n",
      "Found 1 clusters in /Users/mfisherlevine/Downloads/160808_usaf1/00/usaf1_2016_08_08_07_51_59_118.txt - TCUT = 257\n",
      "Found 1 clusters in /Users/mfisherlevine/Downloads/160808_usaf1/06/usaf1_2016_08_08_12_14_15_984.txt - TCUT = 257\n",
      "Found 1 clusters in /Users/mfisherlevine/Downloads/160808_usaf1/02/usaf1_2016_08_08_09_44_42_031.txt - TCUT = 257\n",
      "Centroided 57000 frames\n",
      "Found 1 clusters in /Users/mfisherlevine/Downloads/160808_usaf1/05/usaf1_2016_08_08_11_42_20_033.txt - TCUT = 257\n"
     ]
    },
    {
     "name": "stderr",
     "output_type": "stream",
     "text": [
      "/Users/mfisherlevine/anaconda/lib/python2.7/site-packages/numpy/lib/npyio.py:893: UserWarning: loadtxt: Empty input file: \"/Users/mfisherlevine/Downloads/160808_usaf1/04/usaf1_2016_08_08_11_16_56_078.txt\"\n",
      "  warnings.warn('loadtxt: Empty input file: \"%s\"' % fname)\n",
      "/Users/mfisherlevine/anaconda/lib/python2.7/site-packages/numpy/lib/npyio.py:893: UserWarning: loadtxt: Empty input file: \"/Users/mfisherlevine/Downloads/160808_usaf1/05/usaf1_2016_08_08_11_49_35_871.txt\"\n",
      "  warnings.warn('loadtxt: Empty input file: \"%s\"' % fname)\n"
     ]
    },
    {
     "name": "stdout",
     "output_type": "stream",
     "text": [
      "Found 1 clusters in /Users/mfisherlevine/Downloads/160808_usaf1/04/usaf1_2016_08_08_11_16_13_214.txt - TCUT = 257\n",
      "Found 1 clusters in /Users/mfisherlevine/Downloads/160808_usaf1/05/usaf1_2016_08_08_11_49_33_195.txt - TCUT = 257\n",
      "Centroided 57500 frames\n"
     ]
    },
    {
     "name": "stderr",
     "output_type": "stream",
     "text": [
      "/Users/mfisherlevine/anaconda/lib/python2.7/site-packages/numpy/lib/npyio.py:893: UserWarning: loadtxt: Empty input file: \"/Users/mfisherlevine/Downloads/160808_usaf1/07/usaf1_2016_08_08_12_47_57_444.txt\"\n",
      "  warnings.warn('loadtxt: Empty input file: \"%s\"' % fname)\n"
     ]
    },
    {
     "name": "stdout",
     "output_type": "stream",
     "text": [
      "Found 1 clusters in /Users/mfisherlevine/Downloads/160808_usaf1/07/usaf1_2016_08_08_12_56_45_325.txt - TCUT = 257\n"
     ]
    },
    {
     "name": "stderr",
     "output_type": "stream",
     "text": [
      "/Users/mfisherlevine/anaconda/lib/python2.7/site-packages/numpy/lib/npyio.py:893: UserWarning: loadtxt: Empty input file: \"/Users/mfisherlevine/Downloads/160808_usaf1/01/usaf1_2016_08_08_08_44_19_612.txt\"\n",
      "  warnings.warn('loadtxt: Empty input file: \"%s\"' % fname)\n",
      "/Users/mfisherlevine/anaconda/lib/python2.7/site-packages/numpy/lib/npyio.py:893: UserWarning: loadtxt: Empty input file: \"/Users/mfisherlevine/Downloads/160808_usaf1/01/usaf1_2016_08_08_08_33_23_913.txt\"\n",
      "  warnings.warn('loadtxt: Empty input file: \"%s\"' % fname)\n"
     ]
    },
    {
     "name": "stdout",
     "output_type": "stream",
     "text": [
      "Centroided 58000 frames\n",
      "Found 1 clusters in /Users/mfisherlevine/Downloads/160808_usaf1/01/usaf1_2016_08_08_08_27_29_940.txt - TCUT = 257\n",
      "Found 1 clusters in /Users/mfisherlevine/Downloads/160808_usaf1/05/usaf1_2016_08_08_11_53_16_578.txt - TCUT = 257\n"
     ]
    },
    {
     "name": "stderr",
     "output_type": "stream",
     "text": [
      "/Users/mfisherlevine/anaconda/lib/python2.7/site-packages/numpy/lib/npyio.py:893: UserWarning: loadtxt: Empty input file: \"/Users/mfisherlevine/Downloads/160808_usaf1/00/usaf1_2016_08_08_08_17_39_443.txt\"\n",
      "  warnings.warn('loadtxt: Empty input file: \"%s\"' % fname)\n"
     ]
    },
    {
     "name": "stdout",
     "output_type": "stream",
     "text": [
      "Found 1 clusters in /Users/mfisherlevine/Downloads/160808_usaf1/01/usaf1_2016_08_08_08_24_21_789.txt - TCUT = 257\n",
      "Centroided 58500 frames\n"
     ]
    },
    {
     "name": "stderr",
     "output_type": "stream",
     "text": [
      "/Users/mfisherlevine/anaconda/lib/python2.7/site-packages/numpy/lib/npyio.py:893: UserWarning: loadtxt: Empty input file: \"/Users/mfisherlevine/Downloads/160808_usaf1/03/usaf1_2016_08_08_10_32_36_587.txt\"\n",
      "  warnings.warn('loadtxt: Empty input file: \"%s\"' % fname)\n",
      "/Users/mfisherlevine/anaconda/lib/python2.7/site-packages/numpy/lib/npyio.py:893: UserWarning: loadtxt: Empty input file: \"/Users/mfisherlevine/Downloads/160808_usaf1/01/usaf1_2016_08_08_08_55_08_542.txt\"\n",
      "  warnings.warn('loadtxt: Empty input file: \"%s\"' % fname)\n"
     ]
    },
    {
     "name": "stdout",
     "output_type": "stream",
     "text": [
      "Found 1 clusters in /Users/mfisherlevine/Downloads/160808_usaf1/07/usaf1_2016_08_08_13_13_54_030.txt - TCUT = 257\n",
      "Centroided 59000 frames\n",
      "Found 1 clusters in /Users/mfisherlevine/Downloads/160808_usaf1/01/usaf1_2016_08_08_08_46_18_094.txt - TCUT = 257\n",
      "Found 1 clusters in /Users/mfisherlevine/Downloads/160808_usaf1/06/usaf1_2016_08_08_12_38_07_959.txt - TCUT = 257\n"
     ]
    },
    {
     "name": "stderr",
     "output_type": "stream",
     "text": [
      "/Users/mfisherlevine/anaconda/lib/python2.7/site-packages/numpy/lib/npyio.py:893: UserWarning: loadtxt: Empty input file: \"/Users/mfisherlevine/Downloads/160808_usaf1/00/usaf1_2016_08_08_08_22_56_141.txt\"\n",
      "  warnings.warn('loadtxt: Empty input file: \"%s\"' % fname)\n"
     ]
    },
    {
     "name": "stdout",
     "output_type": "stream",
     "text": [
      "Centroided 59500 frames\n",
      "Found 1 clusters in /Users/mfisherlevine/Downloads/160808_usaf1/01/usaf1_2016_08_08_08_46_05_426.txt - TCUT = 257\n"
     ]
    },
    {
     "name": "stderr",
     "output_type": "stream",
     "text": [
      "/Users/mfisherlevine/anaconda/lib/python2.7/site-packages/numpy/lib/npyio.py:893: UserWarning: loadtxt: Empty input file: \"/Users/mfisherlevine/Downloads/160808_usaf1/05/usaf1_2016_08_08_11_50_16_655.txt\"\n",
      "  warnings.warn('loadtxt: Empty input file: \"%s\"' % fname)\n"
     ]
    },
    {
     "name": "stdout",
     "output_type": "stream",
     "text": [
      "Found 1 clusters in /Users/mfisherlevine/Downloads/160808_usaf1/03/usaf1_2016_08_08_10_17_12_197.txt - TCUT = 257\n"
     ]
    },
    {
     "name": "stderr",
     "output_type": "stream",
     "text": [
      "/Users/mfisherlevine/anaconda/lib/python2.7/site-packages/numpy/lib/npyio.py:893: UserWarning: loadtxt: Empty input file: \"/Users/mfisherlevine/Downloads/160808_usaf1/05/usaf1_2016_08_08_11_47_59_812.txt\"\n",
      "  warnings.warn('loadtxt: Empty input file: \"%s\"' % fname)\n"
     ]
    },
    {
     "name": "stdout",
     "output_type": "stream",
     "text": [
      "Centroided 60000 frames\n",
      "Found 1 clusters in /Users/mfisherlevine/Downloads/160808_usaf1/02/usaf1_2016_08_08_09_10_26_514.txt - TCUT = 257\n",
      "Found 1 clusters in /Users/mfisherlevine/Downloads/160808_usaf1/06/usaf1_2016_08_08_12_37_17_883.txt - TCUT = 257\n",
      "Found 1 clusters in /Users/mfisherlevine/Downloads/160808_usaf1/05/usaf1_2016_08_08_11_32_38_107.txt - TCUT = 257\n",
      "Found 1 clusters in /Users/mfisherlevine/Downloads/160808_usaf1/03/usaf1_2016_08_08_10_17_59_671.txt - TCUT = 257\n",
      "Centroided 60500 frames\n"
     ]
    },
    {
     "name": "stderr",
     "output_type": "stream",
     "text": [
      "/Users/mfisherlevine/anaconda/lib/python2.7/site-packages/numpy/lib/npyio.py:893: UserWarning: loadtxt: Empty input file: \"/Users/mfisherlevine/Downloads/160808_usaf1/07/usaf1_2016_08_08_13_12_54_885.txt\"\n",
      "  warnings.warn('loadtxt: Empty input file: \"%s\"' % fname)\n"
     ]
    },
    {
     "name": "stdout",
     "output_type": "stream",
     "text": [
      "Found 1 clusters in /Users/mfisherlevine/Downloads/160808_usaf1/04/usaf1_2016_08_08_11_11_08_645.txt - TCUT = 257\n",
      "Found 1 clusters in /Users/mfisherlevine/Downloads/160808_usaf1/05/usaf1_2016_08_08_11_30_08_835.txt - TCUT = 257\n",
      "Found 1 clusters in /Users/mfisherlevine/Downloads/160808_usaf1/05/usaf1_2016_08_08_11_31_06_952.txt - TCUT = 257\n",
      "Centroided 61000 frames\n",
      "Found 1 clusters in /Users/mfisherlevine/Downloads/160808_usaf1/07/usaf1_2016_08_08_12_59_40_712.txt - TCUT = 257\n",
      "Found 1 clusters in /Users/mfisherlevine/Downloads/160808_usaf1/05/usaf1_2016_08_08_11_36_32_730.txt - TCUT = 257\n"
     ]
    },
    {
     "name": "stderr",
     "output_type": "stream",
     "text": [
      "/Users/mfisherlevine/anaconda/lib/python2.7/site-packages/numpy/lib/npyio.py:893: UserWarning: loadtxt: Empty input file: \"/Users/mfisherlevine/Downloads/160808_usaf1/03/usaf1_2016_08_08_10_28_59_481.txt\"\n",
      "  warnings.warn('loadtxt: Empty input file: \"%s\"' % fname)\n"
     ]
    },
    {
     "name": "stdout",
     "output_type": "stream",
     "text": [
      "Found 1 clusters in /Users/mfisherlevine/Downloads/160808_usaf1/04/usaf1_2016_08_08_10_46_22_004.txt - TCUT = 257\n",
      "Found 1 clusters in /Users/mfisherlevine/Downloads/160808_usaf1/03/usaf1_2016_08_08_10_04_39_244.txt - TCUT = 257\n",
      "Found 1 clusters in /Users/mfisherlevine/Downloads/160808_usaf1/03/usaf1_2016_08_08_10_06_46_398.txt - TCUT = 257\n",
      "Centroided 61500 frames\n",
      "Found 1 clusters in /Users/mfisherlevine/Downloads/160808_usaf1/04/usaf1_2016_08_08_11_08_11_304.txt - TCUT = 257\n",
      "Centroided 62000 frames\n",
      "Found 1 clusters in /Users/mfisherlevine/Downloads/160808_usaf1/05/usaf1_2016_08_08_11_52_31_545.txt - TCUT = 257\n",
      "Found 1 clusters in /Users/mfisherlevine/Downloads/160808_usaf1/00/usaf1_2016_08_08_07_45_50_211.txt - TCUT = 257\n"
     ]
    },
    {
     "name": "stderr",
     "output_type": "stream",
     "text": [
      "/Users/mfisherlevine/anaconda/lib/python2.7/site-packages/numpy/lib/npyio.py:893: UserWarning: loadtxt: Empty input file: \"/Users/mfisherlevine/Downloads/160808_usaf1/03/usaf1_2016_08_08_10_13_08_699.txt\"\n",
      "  warnings.warn('loadtxt: Empty input file: \"%s\"' % fname)\n"
     ]
    },
    {
     "name": "stdout",
     "output_type": "stream",
     "text": [
      "Centroided 62500 frames\n",
      "Found 1 clusters in /Users/mfisherlevine/Downloads/160808_usaf1/06/usaf1_2016_08_08_12_16_14_291.txt - TCUT = 257\n",
      "Found 1 clusters in /Users/mfisherlevine/Downloads/160808_usaf1/03/usaf1_2016_08_08_10_32_37_584.txt - TCUT = 257\n"
     ]
    },
    {
     "name": "stderr",
     "output_type": "stream",
     "text": [
      "/Users/mfisherlevine/anaconda/lib/python2.7/site-packages/numpy/lib/npyio.py:893: UserWarning: loadtxt: Empty input file: \"/Users/mfisherlevine/Downloads/160808_usaf1/07/usaf1_2016_08_08_12_59_42_057.txt\"\n",
      "  warnings.warn('loadtxt: Empty input file: \"%s\"' % fname)\n"
     ]
    },
    {
     "name": "stdout",
     "output_type": "stream",
     "text": [
      "Found 1 clusters in /Users/mfisherlevine/Downloads/160808_usaf1/07/usaf1_2016_08_08_13_11_32_498.txt - TCUT = 257\n",
      "Centroided 63000 frames\n",
      "Found 1 clusters in /Users/mfisherlevine/Downloads/160808_usaf1/01/usaf1_2016_08_08_09_02_00_721.txt - TCUT = 257\n",
      "Found 1 clusters in /Users/mfisherlevine/Downloads/160808_usaf1/02/usaf1_2016_08_08_09_46_31_034.txt - TCUT = 257\n",
      "Found 1 clusters in /Users/mfisherlevine/Downloads/160808_usaf1/03/usaf1_2016_08_08_10_09_11_175.txt - TCUT = 257\n",
      "Found 1 clusters in /Users/mfisherlevine/Downloads/160808_usaf1/05/usaf1_2016_08_08_11_58_38_903.txt - TCUT = 257\n",
      "Centroided 63500 frames\n",
      "Found 1 clusters in /Users/mfisherlevine/Downloads/160808_usaf1/05/usaf1_2016_08_08_11_39_12_094.txt - TCUT = 257\n",
      "Centroided 64000 frames\n",
      "Found 1 clusters in /Users/mfisherlevine/Downloads/160808_usaf1/02/usaf1_2016_08_08_09_16_02_684.txt - TCUT = 257\n",
      "Found 1 clusters in /Users/mfisherlevine/Downloads/160808_usaf1/05/usaf1_2016_08_08_11_40_29_572.txt - TCUT = 257\n",
      "Found 1 clusters in /Users/mfisherlevine/Downloads/160808_usaf1/00/usaf1_2016_08_08_08_22_07_167.txt - TCUT = 257\n",
      "Centroided 64500 frames\n",
      "Found 1 clusters in /Users/mfisherlevine/Downloads/160808_usaf1/06/usaf1_2016_08_08_12_29_14_251.txt - TCUT = 257\n"
     ]
    },
    {
     "name": "stderr",
     "output_type": "stream",
     "text": [
      "/Users/mfisherlevine/anaconda/lib/python2.7/site-packages/numpy/lib/npyio.py:893: UserWarning: loadtxt: Empty input file: \"/Users/mfisherlevine/Downloads/160808_usaf1/03/usaf1_2016_08_08_09_59_29_593.txt\"\n",
      "  warnings.warn('loadtxt: Empty input file: \"%s\"' % fname)\n"
     ]
    },
    {
     "name": "stdout",
     "output_type": "stream",
     "text": [
      "Found 1 clusters in /Users/mfisherlevine/Downloads/160808_usaf1/02/usaf1_2016_08_08_09_29_36_293.txt - TCUT = 257\n"
     ]
    },
    {
     "name": "stderr",
     "output_type": "stream",
     "text": [
      "/Users/mfisherlevine/anaconda/lib/python2.7/site-packages/numpy/lib/npyio.py:893: UserWarning: loadtxt: Empty input file: \"/Users/mfisherlevine/Downloads/160808_usaf1/06/usaf1_2016_08_08_12_28_56_307.txt\"\n",
      "  warnings.warn('loadtxt: Empty input file: \"%s\"' % fname)\n"
     ]
    },
    {
     "name": "stdout",
     "output_type": "stream",
     "text": [
      "Found 1 clusters in /Users/mfisherlevine/Downloads/160808_usaf1/04/usaf1_2016_08_08_11_05_33_010.txt - TCUT = 257\n",
      "Found 1 clusters in /Users/mfisherlevine/Downloads/160808_usaf1/00/usaf1_2016_08_08_08_11_06_967.txt - TCUT = 257\n",
      "Centroided 65000 frames\n",
      "Found 1 clusters in /Users/mfisherlevine/Downloads/160808_usaf1/04/usaf1_2016_08_08_11_00_09_030.txt - TCUT = 257\n",
      "Centroided 65500 frames\n",
      "Found 1 clusters in /Users/mfisherlevine/Downloads/160808_usaf1/06/usaf1_2016_08_08_12_21_08_172.txt - TCUT = 257\n"
     ]
    },
    {
     "name": "stderr",
     "output_type": "stream",
     "text": [
      "/Users/mfisherlevine/anaconda/lib/python2.7/site-packages/numpy/lib/npyio.py:893: UserWarning: loadtxt: Empty input file: \"/Users/mfisherlevine/Downloads/160808_usaf1/01/usaf1_2016_08_08_08_35_43_461.txt\"\n",
      "  warnings.warn('loadtxt: Empty input file: \"%s\"' % fname)\n",
      "/Users/mfisherlevine/anaconda/lib/python2.7/site-packages/numpy/lib/npyio.py:893: UserWarning: loadtxt: Empty input file: \"/Users/mfisherlevine/Downloads/160808_usaf1/07/usaf1_2016_08_08_13_15_47_562.txt\"\n",
      "  warnings.warn('loadtxt: Empty input file: \"%s\"' % fname)\n"
     ]
    },
    {
     "name": "stdout",
     "output_type": "stream",
     "text": [
      "Found 1 clusters in /Users/mfisherlevine/Downloads/160808_usaf1/02/usaf1_2016_08_08_09_24_28_817.txt - TCUT = 257\n",
      "Found 1 clusters in /Users/mfisherlevine/Downloads/160808_usaf1/00/usaf1_2016_08_08_07_48_09_549.txt - TCUT = 257\n",
      "Found 1 clusters in /Users/mfisherlevine/Downloads/160808_usaf1/06/usaf1_2016_08_08_12_05_38_973.txt - TCUT = 257\n",
      "Centroided 66000 frames\n",
      "Found 1 clusters in /Users/mfisherlevine/Downloads/160808_usaf1/06/usaf1_2016_08_08_12_14_08_515.txt - TCUT = 257\n",
      "Centroided 66500 frames\n",
      "Found 1 clusters in /Users/mfisherlevine/Downloads/160808_usaf1/04/usaf1_2016_08_08_11_02_06_457.txt - TCUT = 257\n"
     ]
    },
    {
     "name": "stderr",
     "output_type": "stream",
     "text": [
      "/Users/mfisherlevine/anaconda/lib/python2.7/site-packages/numpy/lib/npyio.py:893: UserWarning: loadtxt: Empty input file: \"/Users/mfisherlevine/Downloads/160808_usaf1/06/usaf1_2016_08_08_12_26_03_928.txt\"\n",
      "  warnings.warn('loadtxt: Empty input file: \"%s\"' % fname)\n",
      "/Users/mfisherlevine/anaconda/lib/python2.7/site-packages/numpy/lib/npyio.py:893: UserWarning: loadtxt: Empty input file: \"/Users/mfisherlevine/Downloads/160808_usaf1/03/usaf1_2016_08_08_10_16_53_341.txt\"\n",
      "  warnings.warn('loadtxt: Empty input file: \"%s\"' % fname)\n"
     ]
    },
    {
     "name": "stdout",
     "output_type": "stream",
     "text": [
      "Found 1 clusters in /Users/mfisherlevine/Downloads/160808_usaf1/07/usaf1_2016_08_08_13_06_02_840.txt - TCUT = 257\n",
      "Centroided 67000 frames\n"
     ]
    },
    {
     "name": "stderr",
     "output_type": "stream",
     "text": [
      "/Users/mfisherlevine/anaconda/lib/python2.7/site-packages/numpy/lib/npyio.py:893: UserWarning: loadtxt: Empty input file: \"/Users/mfisherlevine/Downloads/160808_usaf1/01/usaf1_2016_08_08_08_35_53_153.txt\"\n",
      "  warnings.warn('loadtxt: Empty input file: \"%s\"' % fname)\n"
     ]
    },
    {
     "name": "stdout",
     "output_type": "stream",
     "text": [
      "Found 1 clusters in /Users/mfisherlevine/Downloads/160808_usaf1/00/usaf1_2016_08_08_08_22_36_374.txt - TCUT = 257\n",
      "Found 1 clusters in /Users/mfisherlevine/Downloads/160808_usaf1/05/usaf1_2016_08_08_12_02_49_494.txt - TCUT = 257\n",
      "Centroided 67500 frames\n"
     ]
    },
    {
     "name": "stderr",
     "output_type": "stream",
     "text": [
      "/Users/mfisherlevine/anaconda/lib/python2.7/site-packages/numpy/lib/npyio.py:893: UserWarning: loadtxt: Empty input file: \"/Users/mfisherlevine/Downloads/160808_usaf1/06/usaf1_2016_08_08_12_41_17_441.txt\"\n",
      "  warnings.warn('loadtxt: Empty input file: \"%s\"' % fname)\n"
     ]
    },
    {
     "name": "stdout",
     "output_type": "stream",
     "text": [
      "Found 1 clusters in /Users/mfisherlevine/Downloads/160808_usaf1/07/usaf1_2016_08_08_13_06_01_422.txt - TCUT = 257\n"
     ]
    },
    {
     "name": "stderr",
     "output_type": "stream",
     "text": [
      "/Users/mfisherlevine/anaconda/lib/python2.7/site-packages/numpy/lib/npyio.py:893: UserWarning: loadtxt: Empty input file: \"/Users/mfisherlevine/Downloads/160808_usaf1/07/usaf1_2016_08_08_13_18_42_806.txt\"\n",
      "  warnings.warn('loadtxt: Empty input file: \"%s\"' % fname)\n"
     ]
    },
    {
     "name": "stdout",
     "output_type": "stream",
     "text": [
      "Centroided 68000 frames\n",
      "Found 1 clusters in /Users/mfisherlevine/Downloads/160808_usaf1/05/usaf1_2016_08_08_11_35_06_593.txt - TCUT = 257\n",
      "Found 1 clusters in /Users/mfisherlevine/Downloads/160808_usaf1/01/usaf1_2016_08_08_08_43_50_593.txt - TCUT = 257\n",
      "Centroided 68500 frames\n",
      "Found 1 clusters in /Users/mfisherlevine/Downloads/160808_usaf1/02/usaf1_2016_08_08_09_10_06_597.txt - TCUT = 257\n",
      "Found 1 clusters in /Users/mfisherlevine/Downloads/160808_usaf1/03/usaf1_2016_08_08_10_23_44_363.txt - TCUT = 257\n",
      "Found 1 clusters in /Users/mfisherlevine/Downloads/160808_usaf1/07/usaf1_2016_08_08_13_10_31_065.txt - TCUT = 257\n",
      "Centroided 69000 frames\n",
      "Found 1 clusters in /Users/mfisherlevine/Downloads/160808_usaf1/04/usaf1_2016_08_08_10_50_33_173.txt - TCUT = 257\n",
      "Found 1 clusters in /Users/mfisherlevine/Downloads/160808_usaf1/04/usaf1_2016_08_08_10_52_28_234.txt - TCUT = 257\n",
      "Found 1 clusters in /Users/mfisherlevine/Downloads/160808_usaf1/04/usaf1_2016_08_08_11_00_37_144.txt - TCUT = 257\n",
      "Found 1 clusters in /Users/mfisherlevine/Downloads/160808_usaf1/07/usaf1_2016_08_08_13_02_11_841.txt - TCUT = 257\n",
      "Found 1 clusters in /Users/mfisherlevine/Downloads/160808_usaf1/05/usaf1_2016_08_08_11_59_16_967.txt - TCUT = 257\n",
      "Centroided 69500 frames\n"
     ]
    },
    {
     "name": "stderr",
     "output_type": "stream",
     "text": [
      "/Users/mfisherlevine/anaconda/lib/python2.7/site-packages/numpy/lib/npyio.py:893: UserWarning: loadtxt: Empty input file: \"/Users/mfisherlevine/Downloads/160808_usaf1/06/usaf1_2016_08_08_12_14_45_113.txt\"\n",
      "  warnings.warn('loadtxt: Empty input file: \"%s\"' % fname)\n"
     ]
    },
    {
     "name": "stdout",
     "output_type": "stream",
     "text": [
      "Found 1 clusters in /Users/mfisherlevine/Downloads/160808_usaf1/01/usaf1_2016_08_08_09_01_27_336.txt - TCUT = 257\n",
      "Found 1 clusters in /Users/mfisherlevine/Downloads/160808_usaf1/01/usaf1_2016_08_08_08_42_26_564.txt - TCUT = 257\n",
      "Found 1 clusters in /Users/mfisherlevine/Downloads/160808_usaf1/03/usaf1_2016_08_08_10_28_09_294.txt - TCUT = 257\n",
      "Found 1 clusters in /Users/mfisherlevine/Downloads/160808_usaf1/04/usaf1_2016_08_08_10_51_44_244.txt - TCUT = 257\n",
      "Centroided 70000 frames\n"
     ]
    },
    {
     "name": "stderr",
     "output_type": "stream",
     "text": [
      "/Users/mfisherlevine/anaconda/lib/python2.7/site-packages/numpy/lib/npyio.py:893: UserWarning: loadtxt: Empty input file: \"/Users/mfisherlevine/Downloads/160808_usaf1/04/usaf1_2016_08_08_11_13_23_447.txt\"\n",
      "  warnings.warn('loadtxt: Empty input file: \"%s\"' % fname)\n"
     ]
    },
    {
     "name": "stdout",
     "output_type": "stream",
     "text": [
      "Found 1 clusters in /Users/mfisherlevine/Downloads/160808_usaf1/02/usaf1_2016_08_08_09_47_08_120.txt - TCUT = 257\n"
     ]
    },
    {
     "name": "stderr",
     "output_type": "stream",
     "text": [
      "/Users/mfisherlevine/anaconda/lib/python2.7/site-packages/numpy/lib/npyio.py:893: UserWarning: loadtxt: Empty input file: \"/Users/mfisherlevine/Downloads/160808_usaf1/00/usaf1_2016_08_08_08_07_40_154.txt\"\n",
      "  warnings.warn('loadtxt: Empty input file: \"%s\"' % fname)\n"
     ]
    },
    {
     "name": "stdout",
     "output_type": "stream",
     "text": [
      "Found 1 clusters in /Users/mfisherlevine/Downloads/160808_usaf1/02/usaf1_2016_08_08_09_11_40_574.txt - TCUT = 257\n"
     ]
    },
    {
     "name": "stderr",
     "output_type": "stream",
     "text": [
      "/Users/mfisherlevine/anaconda/lib/python2.7/site-packages/numpy/lib/npyio.py:893: UserWarning: loadtxt: Empty input file: \"/Users/mfisherlevine/Downloads/160808_usaf1/02/usaf1_2016_08_08_09_35_28_392.txt\"\n",
      "  warnings.warn('loadtxt: Empty input file: \"%s\"' % fname)\n",
      "/Users/mfisherlevine/anaconda/lib/python2.7/site-packages/numpy/lib/npyio.py:893: UserWarning: loadtxt: Empty input file: \"/Users/mfisherlevine/Downloads/160808_usaf1/02/usaf1_2016_08_08_09_36_51_910.txt\"\n",
      "  warnings.warn('loadtxt: Empty input file: \"%s\"' % fname)\n"
     ]
    },
    {
     "name": "stdout",
     "output_type": "stream",
     "text": [
      "Centroided 70500 frames\n"
     ]
    },
    {
     "name": "stderr",
     "output_type": "stream",
     "text": [
      "/Users/mfisherlevine/anaconda/lib/python2.7/site-packages/numpy/lib/npyio.py:893: UserWarning: loadtxt: Empty input file: \"/Users/mfisherlevine/Downloads/160808_usaf1/00/usaf1_2016_08_08_07_43_56_360.txt\"\n",
      "  warnings.warn('loadtxt: Empty input file: \"%s\"' % fname)\n"
     ]
    },
    {
     "name": "stdout",
     "output_type": "stream",
     "text": [
      "Found 1 clusters in /Users/mfisherlevine/Downloads/160808_usaf1/06/usaf1_2016_08_08_12_18_05_647.txt - TCUT = 257\n"
     ]
    },
    {
     "name": "stderr",
     "output_type": "stream",
     "text": [
      "/Users/mfisherlevine/anaconda/lib/python2.7/site-packages/numpy/lib/npyio.py:893: UserWarning: loadtxt: Empty input file: \"/Users/mfisherlevine/Downloads/160808_usaf1/07/usaf1_2016_08_08_13_16_14_945.txt\"\n",
      "  warnings.warn('loadtxt: Empty input file: \"%s\"' % fname)\n"
     ]
    },
    {
     "name": "stdout",
     "output_type": "stream",
     "text": [
      "Found 1 clusters in /Users/mfisherlevine/Downloads/160808_usaf1/02/usaf1_2016_08_08_09_13_57_288.txt - TCUT = 257\n",
      "Centroided 71000 frames\n",
      "Found 1 clusters in /Users/mfisherlevine/Downloads/160808_usaf1/00/usaf1_2016_08_08_07_57_05_828.txt - TCUT = 257\n",
      "Centroided 71500 frames\n",
      "Found 1 clusters in /Users/mfisherlevine/Downloads/160808_usaf1/06/usaf1_2016_08_08_12_37_52_773.txt - TCUT = 257\n"
     ]
    },
    {
     "name": "stderr",
     "output_type": "stream",
     "text": [
      "/Users/mfisherlevine/anaconda/lib/python2.7/site-packages/numpy/lib/npyio.py:893: UserWarning: loadtxt: Empty input file: \"/Users/mfisherlevine/Downloads/160808_usaf1/04/usaf1_2016_08_08_10_46_25_098.txt\"\n",
      "  warnings.warn('loadtxt: Empty input file: \"%s\"' % fname)\n",
      "/Users/mfisherlevine/anaconda/lib/python2.7/site-packages/numpy/lib/npyio.py:893: UserWarning: loadtxt: Empty input file: \"/Users/mfisherlevine/Downloads/160808_usaf1/03/usaf1_2016_08_08_10_11_05_880.txt\"\n",
      "  warnings.warn('loadtxt: Empty input file: \"%s\"' % fname)\n",
      "/Users/mfisherlevine/anaconda/lib/python2.7/site-packages/numpy/lib/npyio.py:893: UserWarning: loadtxt: Empty input file: \"/Users/mfisherlevine/Downloads/160808_usaf1/00/usaf1_2016_08_08_08_19_21_159.txt\"\n",
      "  warnings.warn('loadtxt: Empty input file: \"%s\"' % fname)\n",
      "/Users/mfisherlevine/anaconda/lib/python2.7/site-packages/numpy/lib/npyio.py:893: UserWarning: loadtxt: Empty input file: \"/Users/mfisherlevine/Downloads/160808_usaf1/02/usaf1_2016_08_08_09_37_47_904.txt\"\n",
      "  warnings.warn('loadtxt: Empty input file: \"%s\"' % fname)\n"
     ]
    },
    {
     "name": "stdout",
     "output_type": "stream",
     "text": [
      "Centroided 72000 frames\n",
      "Found 1 clusters in /Users/mfisherlevine/Downloads/160808_usaf1/02/usaf1_2016_08_08_09_45_35_867.txt - TCUT = 257\n",
      "Found 1 clusters in /Users/mfisherlevine/Downloads/160808_usaf1/04/usaf1_2016_08_08_11_16_46_909.txt - TCUT = 257\n",
      "Centroided 72500 frames\n",
      "Found 1 clusters in /Users/mfisherlevine/Downloads/160808_usaf1/03/usaf1_2016_08_08_10_19_03_592.txt - TCUT = 257\n"
     ]
    },
    {
     "name": "stderr",
     "output_type": "stream",
     "text": [
      "/Users/mfisherlevine/anaconda/lib/python2.7/site-packages/numpy/lib/npyio.py:893: UserWarning: loadtxt: Empty input file: \"/Users/mfisherlevine/Downloads/160808_usaf1/06/usaf1_2016_08_08_12_20_33_028.txt\"\n",
      "  warnings.warn('loadtxt: Empty input file: \"%s\"' % fname)\n"
     ]
    },
    {
     "name": "stdout",
     "output_type": "stream",
     "text": [
      "Centroided 73000 frames\n",
      "Found 1 clusters in /Users/mfisherlevine/Downloads/160808_usaf1/00/usaf1_2016_08_08_07_59_21_392.txt - TCUT = 257\n",
      "Centroided 73500 frames\n",
      "Found 1 clusters in /Users/mfisherlevine/Downloads/160808_usaf1/00/usaf1_2016_08_08_08_05_31_295.txt - TCUT = 257\n",
      "Found 1 clusters in /Users/mfisherlevine/Downloads/160808_usaf1/03/usaf1_2016_08_08_10_27_23_481.txt - TCUT = 257\n",
      "Found 1 clusters in /Users/mfisherlevine/Downloads/160808_usaf1/01/usaf1_2016_08_08_08_45_09_655.txt - TCUT = 257\n",
      "Found 1 clusters in /Users/mfisherlevine/Downloads/160808_usaf1/02/usaf1_2016_08_08_09_10_04_676.txt - TCUT = 257\n"
     ]
    },
    {
     "name": "stderr",
     "output_type": "stream",
     "text": [
      "/Users/mfisherlevine/anaconda/lib/python2.7/site-packages/numpy/lib/npyio.py:893: UserWarning: loadtxt: Empty input file: \"/Users/mfisherlevine/Downloads/160808_usaf1/01/usaf1_2016_08_08_08_47_18_943.txt\"\n",
      "  warnings.warn('loadtxt: Empty input file: \"%s\"' % fname)\n"
     ]
    },
    {
     "name": "stdout",
     "output_type": "stream",
     "text": [
      "Centroided 74000 frames\n"
     ]
    },
    {
     "name": "stderr",
     "output_type": "stream",
     "text": [
      "/Users/mfisherlevine/anaconda/lib/python2.7/site-packages/numpy/lib/npyio.py:893: UserWarning: loadtxt: Empty input file: \"/Users/mfisherlevine/Downloads/160808_usaf1/05/usaf1_2016_08_08_11_41_26_203.txt\"\n",
      "  warnings.warn('loadtxt: Empty input file: \"%s\"' % fname)\n",
      "/Users/mfisherlevine/anaconda/lib/python2.7/site-packages/numpy/lib/npyio.py:893: UserWarning: loadtxt: Empty input file: \"/Users/mfisherlevine/Downloads/160808_usaf1/03/usaf1_2016_08_08_10_20_41_419.txt\"\n",
      "  warnings.warn('loadtxt: Empty input file: \"%s\"' % fname)\n"
     ]
    },
    {
     "name": "stdout",
     "output_type": "stream",
     "text": [
      "Centroided 74500 frames\n",
      "Found 1 clusters in /Users/mfisherlevine/Downloads/160808_usaf1/04/usaf1_2016_08_08_10_48_23_680.txt - TCUT = 257\n",
      "Found 1 clusters in /Users/mfisherlevine/Downloads/160808_usaf1/00/usaf1_2016_08_08_07_54_43_954.txt - TCUT = 257\n",
      "Centroided 75000 frames\n",
      "Found 1 clusters in /Users/mfisherlevine/Downloads/160808_usaf1/01/usaf1_2016_08_08_08_48_03_036.txt - TCUT = 257\n",
      "Found 1 clusters in /Users/mfisherlevine/Downloads/160808_usaf1/02/usaf1_2016_08_08_09_15_25_869.txt - TCUT = 257\n",
      "Centroided 75500 frames\n"
     ]
    },
    {
     "name": "stderr",
     "output_type": "stream",
     "text": [
      "/Users/mfisherlevine/anaconda/lib/python2.7/site-packages/numpy/lib/npyio.py:893: UserWarning: loadtxt: Empty input file: \"/Users/mfisherlevine/Downloads/160808_usaf1/02/usaf1_2016_08_08_09_37_18_991.txt\"\n",
      "  warnings.warn('loadtxt: Empty input file: \"%s\"' % fname)\n"
     ]
    },
    {
     "name": "stdout",
     "output_type": "stream",
     "text": [
      "Found 1 clusters in /Users/mfisherlevine/Downloads/160808_usaf1/00/usaf1_2016_08_08_07_44_32_119.txt - TCUT = 257\n",
      "Centroided 76000 frames\n"
     ]
    },
    {
     "name": "stderr",
     "output_type": "stream",
     "text": [
      "/Users/mfisherlevine/anaconda/lib/python2.7/site-packages/numpy/lib/npyio.py:893: UserWarning: loadtxt: Empty input file: \"/Users/mfisherlevine/Downloads/160808_usaf1/02/usaf1_2016_08_08_09_40_39_653.txt\"\n",
      "  warnings.warn('loadtxt: Empty input file: \"%s\"' % fname)\n"
     ]
    },
    {
     "name": "stdout",
     "output_type": "stream",
     "text": [
      "Found 1 clusters in /Users/mfisherlevine/Downloads/160808_usaf1/05/usaf1_2016_08_08_11_32_50_617.txt - TCUT = 257\n"
     ]
    },
    {
     "name": "stderr",
     "output_type": "stream",
     "text": [
      "/Users/mfisherlevine/anaconda/lib/python2.7/site-packages/numpy/lib/npyio.py:893: UserWarning: loadtxt: Empty input file: \"/Users/mfisherlevine/Downloads/160808_usaf1/03/usaf1_2016_08_08_10_24_25_371.txt\"\n",
      "  warnings.warn('loadtxt: Empty input file: \"%s\"' % fname)\n"
     ]
    },
    {
     "name": "stdout",
     "output_type": "stream",
     "text": [
      "Centroided 76500 frames\n"
     ]
    },
    {
     "name": "stderr",
     "output_type": "stream",
     "text": [
      "/Users/mfisherlevine/anaconda/lib/python2.7/site-packages/numpy/lib/npyio.py:893: UserWarning: loadtxt: Empty input file: \"/Users/mfisherlevine/Downloads/160808_usaf1/04/usaf1_2016_08_08_10_52_58_745.txt\"\n",
      "  warnings.warn('loadtxt: Empty input file: \"%s\"' % fname)\n",
      "/Users/mfisherlevine/anaconda/lib/python2.7/site-packages/numpy/lib/npyio.py:893: UserWarning: loadtxt: Empty input file: \"/Users/mfisherlevine/Downloads/160808_usaf1/00/usaf1_2016_08_08_07_45_31_165.txt\"\n",
      "  warnings.warn('loadtxt: Empty input file: \"%s\"' % fname)\n"
     ]
    },
    {
     "name": "stdout",
     "output_type": "stream",
     "text": [
      "Found 1 clusters in /Users/mfisherlevine/Downloads/160808_usaf1/02/usaf1_2016_08_08_09_38_23_631.txt - TCUT = 257\n"
     ]
    },
    {
     "name": "stderr",
     "output_type": "stream",
     "text": [
      "/Users/mfisherlevine/anaconda/lib/python2.7/site-packages/numpy/lib/npyio.py:893: UserWarning: loadtxt: Empty input file: \"/Users/mfisherlevine/Downloads/160808_usaf1/04/usaf1_2016_08_08_10_51_55_013.txt\"\n",
      "  warnings.warn('loadtxt: Empty input file: \"%s\"' % fname)\n"
     ]
    },
    {
     "name": "stdout",
     "output_type": "stream",
     "text": [
      "Centroided 77000 frames\n",
      "Found 1 clusters in /Users/mfisherlevine/Downloads/160808_usaf1/00/usaf1_2016_08_08_07_57_08_239.txt - TCUT = 257\n",
      "Centroided 77500 frames\n",
      "Found 1 clusters in /Users/mfisherlevine/Downloads/160808_usaf1/02/usaf1_2016_08_08_09_19_32_708.txt - TCUT = 257\n",
      "Found 1 clusters in /Users/mfisherlevine/Downloads/160808_usaf1/06/usaf1_2016_08_08_12_09_47_041.txt - TCUT = 257\n",
      "Found 1 clusters in /Users/mfisherlevine/Downloads/160808_usaf1/00/usaf1_2016_08_08_08_03_57_691.txt - TCUT = 257\n"
     ]
    },
    {
     "name": "stderr",
     "output_type": "stream",
     "text": [
      "/Users/mfisherlevine/anaconda/lib/python2.7/site-packages/numpy/lib/npyio.py:893: UserWarning: loadtxt: Empty input file: \"/Users/mfisherlevine/Downloads/160808_usaf1/07/usaf1_2016_08_08_12_48_48_083.txt\"\n",
      "  warnings.warn('loadtxt: Empty input file: \"%s\"' % fname)\n"
     ]
    },
    {
     "name": "stdout",
     "output_type": "stream",
     "text": [
      "Found 1 clusters in /Users/mfisherlevine/Downloads/160808_usaf1/07/usaf1_2016_08_08_13_17_12_565.txt - TCUT = 257\n",
      "Found 1 clusters in /Users/mfisherlevine/Downloads/160808_usaf1/03/usaf1_2016_08_08_10_32_44_887.txt - TCUT = 257\n",
      "Centroided 78000 frames\n",
      "Found 1 clusters in /Users/mfisherlevine/Downloads/160808_usaf1/05/usaf1_2016_08_08_12_01_11_028.txt - TCUT = 257\n",
      "Found 1 clusters in /Users/mfisherlevine/Downloads/160808_usaf1/03/usaf1_2016_08_08_10_08_16_491.txt - TCUT = 257\n",
      "Found 1 clusters in /Users/mfisherlevine/Downloads/160808_usaf1/06/usaf1_2016_08_08_12_35_40_959.txt - TCUT = 257\n",
      "Centroided 78500 frames\n",
      "Found 1 clusters in /Users/mfisherlevine/Downloads/160808_usaf1/06/usaf1_2016_08_08_12_36_20_184.txt - TCUT = 257\n"
     ]
    },
    {
     "name": "stderr",
     "output_type": "stream",
     "text": [
      "/Users/mfisherlevine/anaconda/lib/python2.7/site-packages/numpy/lib/npyio.py:893: UserWarning: loadtxt: Empty input file: \"/Users/mfisherlevine/Downloads/160808_usaf1/05/usaf1_2016_08_08_12_01_20_130.txt\"\n",
      "  warnings.warn('loadtxt: Empty input file: \"%s\"' % fname)\n"
     ]
    },
    {
     "name": "stdout",
     "output_type": "stream",
     "text": [
      "Found 1 clusters in /Users/mfisherlevine/Downloads/160808_usaf1/07/usaf1_2016_08_08_13_00_52_648.txt - TCUT = 257\n",
      "Found 1 clusters in /Users/mfisherlevine/Downloads/160808_usaf1/06/usaf1_2016_08_08_12_21_10_100.txt - TCUT = 257\n"
     ]
    },
    {
     "name": "stderr",
     "output_type": "stream",
     "text": [
      "/Users/mfisherlevine/anaconda/lib/python2.7/site-packages/numpy/lib/npyio.py:893: UserWarning: loadtxt: Empty input file: \"/Users/mfisherlevine/Downloads/160808_usaf1/07/usaf1_2016_08_08_13_02_17_473.txt\"\n",
      "  warnings.warn('loadtxt: Empty input file: \"%s\"' % fname)\n"
     ]
    },
    {
     "name": "stdout",
     "output_type": "stream",
     "text": [
      "Centroided 79000 frames\n"
     ]
    },
    {
     "name": "stderr",
     "output_type": "stream",
     "text": [
      "/Users/mfisherlevine/anaconda/lib/python2.7/site-packages/numpy/lib/npyio.py:893: UserWarning: loadtxt: Empty input file: \"/Users/mfisherlevine/Downloads/160808_usaf1/01/usaf1_2016_08_08_09_02_02_473.txt\"\n",
      "  warnings.warn('loadtxt: Empty input file: \"%s\"' % fname)\n",
      "/Users/mfisherlevine/anaconda/lib/python2.7/site-packages/numpy/lib/npyio.py:893: UserWarning: loadtxt: Empty input file: \"/Users/mfisherlevine/Downloads/160808_usaf1/07/usaf1_2016_08_08_13_06_47_467.txt\"\n",
      "  warnings.warn('loadtxt: Empty input file: \"%s\"' % fname)\n",
      "/Users/mfisherlevine/anaconda/lib/python2.7/site-packages/numpy/lib/npyio.py:893: UserWarning: loadtxt: Empty input file: \"/Users/mfisherlevine/Downloads/160808_usaf1/05/usaf1_2016_08_08_11_30_27_700.txt\"\n",
      "  warnings.warn('loadtxt: Empty input file: \"%s\"' % fname)\n",
      "/Users/mfisherlevine/anaconda/lib/python2.7/site-packages/numpy/lib/npyio.py:893: UserWarning: loadtxt: Empty input file: \"/Users/mfisherlevine/Downloads/160808_usaf1/02/usaf1_2016_08_08_09_41_06_172.txt\"\n",
      "  warnings.warn('loadtxt: Empty input file: \"%s\"' % fname)\n",
      "/Users/mfisherlevine/anaconda/lib/python2.7/site-packages/numpy/lib/npyio.py:893: UserWarning: loadtxt: Empty input file: \"/Users/mfisherlevine/Downloads/160808_usaf1/01/usaf1_2016_08_08_08_36_34_644.txt\"\n",
      "  warnings.warn('loadtxt: Empty input file: \"%s\"' % fname)\n"
     ]
    },
    {
     "name": "stdout",
     "output_type": "stream",
     "text": [
      "Found 1 clusters in /Users/mfisherlevine/Downloads/160808_usaf1/06/usaf1_2016_08_08_12_33_52_703.txt - TCUT = 257\n",
      "Centroided 79500 frames\n"
     ]
    },
    {
     "name": "stderr",
     "output_type": "stream",
     "text": [
      "/Users/mfisherlevine/anaconda/lib/python2.7/site-packages/numpy/lib/npyio.py:893: UserWarning: loadtxt: Empty input file: \"/Users/mfisherlevine/Downloads/160808_usaf1/04/usaf1_2016_08_08_10_43_12_481.txt\"\n",
      "  warnings.warn('loadtxt: Empty input file: \"%s\"' % fname)\n"
     ]
    },
    {
     "name": "stdout",
     "output_type": "stream",
     "text": [
      "Centroided 80000 frames\n",
      "Found 1 clusters in /Users/mfisherlevine/Downloads/160808_usaf1/05/usaf1_2016_08_08_11_40_53_432.txt - TCUT = 257\n",
      "Found 1 clusters in /Users/mfisherlevine/Downloads/160808_usaf1/04/usaf1_2016_08_08_11_21_46_916.txt - TCUT = 257\n"
     ]
    },
    {
     "name": "stderr",
     "output_type": "stream",
     "text": [
      "/Users/mfisherlevine/anaconda/lib/python2.7/site-packages/numpy/lib/npyio.py:893: UserWarning: loadtxt: Empty input file: \"/Users/mfisherlevine/Downloads/160808_usaf1/07/usaf1_2016_08_08_13_07_42_888.txt\"\n",
      "  warnings.warn('loadtxt: Empty input file: \"%s\"' % fname)\n",
      "/Users/mfisherlevine/anaconda/lib/python2.7/site-packages/numpy/lib/npyio.py:893: UserWarning: loadtxt: Empty input file: \"/Users/mfisherlevine/Downloads/160808_usaf1/05/usaf1_2016_08_08_11_22_51_411.txt\"\n",
      "  warnings.warn('loadtxt: Empty input file: \"%s\"' % fname)\n",
      "/Users/mfisherlevine/anaconda/lib/python2.7/site-packages/numpy/lib/npyio.py:893: UserWarning: loadtxt: Empty input file: \"/Users/mfisherlevine/Downloads/160808_usaf1/05/usaf1_2016_08_08_11_46_56_281.txt\"\n",
      "  warnings.warn('loadtxt: Empty input file: \"%s\"' % fname)\n"
     ]
    },
    {
     "name": "stdout",
     "output_type": "stream",
     "text": [
      "Found 1 clusters in /Users/mfisherlevine/Downloads/160808_usaf1/05/usaf1_2016_08_08_12_00_19_144.txt - TCUT = 257\n",
      "Centroided 80500 frames\n",
      "Found 1 clusters in /Users/mfisherlevine/Downloads/160808_usaf1/03/usaf1_2016_08_08_10_00_50_791.txt - TCUT = 257\n",
      "Found 1 clusters in /Users/mfisherlevine/Downloads/160808_usaf1/05/usaf1_2016_08_08_11_27_10_453.txt - TCUT = 257\n",
      "Found 1 clusters in /Users/mfisherlevine/Downloads/160808_usaf1/02/usaf1_2016_08_08_09_42_52_015.txt - TCUT = 257\n",
      "Found 1 clusters in /Users/mfisherlevine/Downloads/160808_usaf1/07/usaf1_2016_08_08_13_13_26_075.txt - TCUT = 257\n",
      "Centroided 81000 frames\n",
      "Found 1 clusters in /Users/mfisherlevine/Downloads/160808_usaf1/07/usaf1_2016_08_08_12_48_19_360.txt - TCUT = 257\n"
     ]
    },
    {
     "name": "stderr",
     "output_type": "stream",
     "text": [
      "/Users/mfisherlevine/anaconda/lib/python2.7/site-packages/numpy/lib/npyio.py:893: UserWarning: loadtxt: Empty input file: \"/Users/mfisherlevine/Downloads/160808_usaf1/01/usaf1_2016_08_08_08_50_30_484.txt\"\n",
      "  warnings.warn('loadtxt: Empty input file: \"%s\"' % fname)\n"
     ]
    },
    {
     "name": "stdout",
     "output_type": "stream",
     "text": [
      "Found 1 clusters in /Users/mfisherlevine/Downloads/160808_usaf1/06/usaf1_2016_08_08_12_37_13_100.txt - TCUT = 257\n",
      "Centroided 81500 frames\n",
      "Found 1 clusters in /Users/mfisherlevine/Downloads/160808_usaf1/05/usaf1_2016_08_08_11_41_27_441.txt - TCUT = 257\n"
     ]
    },
    {
     "name": "stderr",
     "output_type": "stream",
     "text": [
      "/Users/mfisherlevine/anaconda/lib/python2.7/site-packages/numpy/lib/npyio.py:893: UserWarning: loadtxt: Empty input file: \"/Users/mfisherlevine/Downloads/160808_usaf1/04/usaf1_2016_08_08_10_45_29_926.txt\"\n",
      "  warnings.warn('loadtxt: Empty input file: \"%s\"' % fname)\n",
      "/Users/mfisherlevine/anaconda/lib/python2.7/site-packages/numpy/lib/npyio.py:893: UserWarning: loadtxt: Empty input file: \"/Users/mfisherlevine/Downloads/160808_usaf1/03/usaf1_2016_08_08_10_14_05_735.txt\"\n",
      "  warnings.warn('loadtxt: Empty input file: \"%s\"' % fname)\n"
     ]
    },
    {
     "name": "stdout",
     "output_type": "stream",
     "text": [
      "Found 1 clusters in /Users/mfisherlevine/Downloads/160808_usaf1/03/usaf1_2016_08_08_10_23_31_965.txt - TCUT = 257\n"
     ]
    },
    {
     "name": "stderr",
     "output_type": "stream",
     "text": [
      "/Users/mfisherlevine/anaconda/lib/python2.7/site-packages/numpy/lib/npyio.py:893: UserWarning: loadtxt: Empty input file: \"/Users/mfisherlevine/Downloads/160808_usaf1/05/usaf1_2016_08_08_11_30_35_875.txt\"\n",
      "  warnings.warn('loadtxt: Empty input file: \"%s\"' % fname)\n",
      "/Users/mfisherlevine/anaconda/lib/python2.7/site-packages/numpy/lib/npyio.py:893: UserWarning: loadtxt: Empty input file: \"/Users/mfisherlevine/Downloads/160808_usaf1/01/usaf1_2016_08_08_08_49_52_354.txt\"\n",
      "  warnings.warn('loadtxt: Empty input file: \"%s\"' % fname)\n"
     ]
    },
    {
     "name": "stdout",
     "output_type": "stream",
     "text": [
      "Found 1 clusters in /Users/mfisherlevine/Downloads/160808_usaf1/06/usaf1_2016_08_08_12_10_34_799.txt - TCUT = 257\n",
      "Found 1 clusters in /Users/mfisherlevine/Downloads/160808_usaf1/05/usaf1_2016_08_08_11_33_16_726.txt - TCUT = 257\n"
     ]
    },
    {
     "name": "stderr",
     "output_type": "stream",
     "text": [
      "/Users/mfisherlevine/anaconda/lib/python2.7/site-packages/numpy/lib/npyio.py:893: UserWarning: loadtxt: Empty input file: \"/Users/mfisherlevine/Downloads/160808_usaf1/04/usaf1_2016_08_08_10_46_45_942.txt\"\n",
      "  warnings.warn('loadtxt: Empty input file: \"%s\"' % fname)\n"
     ]
    },
    {
     "name": "stdout",
     "output_type": "stream",
     "text": [
      "Centroided 82000 frames\n"
     ]
    },
    {
     "name": "stderr",
     "output_type": "stream",
     "text": [
      "/Users/mfisherlevine/anaconda/lib/python2.7/site-packages/numpy/lib/npyio.py:893: UserWarning: loadtxt: Empty input file: \"/Users/mfisherlevine/Downloads/160808_usaf1/06/usaf1_2016_08_08_12_30_48_171.txt\"\n",
      "  warnings.warn('loadtxt: Empty input file: \"%s\"' % fname)\n"
     ]
    },
    {
     "name": "stdout",
     "output_type": "stream",
     "text": [
      "Found 1 clusters in /Users/mfisherlevine/Downloads/160808_usaf1/04/usaf1_2016_08_08_10_42_49_886.txt - TCUT = 257\n",
      "Found 1 clusters in /Users/mfisherlevine/Downloads/160808_usaf1/00/usaf1_2016_08_08_08_05_30_165.txt - TCUT = 257\n"
     ]
    },
    {
     "name": "stderr",
     "output_type": "stream",
     "text": [
      "/Users/mfisherlevine/anaconda/lib/python2.7/site-packages/numpy/lib/npyio.py:893: UserWarning: loadtxt: Empty input file: \"/Users/mfisherlevine/Downloads/160808_usaf1/07/usaf1_2016_08_08_12_58_42_056.txt\"\n",
      "  warnings.warn('loadtxt: Empty input file: \"%s\"' % fname)\n"
     ]
    },
    {
     "name": "stdout",
     "output_type": "stream",
     "text": [
      "Centroided 82500 frames\n",
      "Found 1 clusters in /Users/mfisherlevine/Downloads/160808_usaf1/01/usaf1_2016_08_08_08_54_43_128.txt - TCUT = 257\n"
     ]
    },
    {
     "name": "stderr",
     "output_type": "stream",
     "text": [
      "/Users/mfisherlevine/anaconda/lib/python2.7/site-packages/numpy/lib/npyio.py:893: UserWarning: loadtxt: Empty input file: \"/Users/mfisherlevine/Downloads/160808_usaf1/02/usaf1_2016_08_08_09_13_44_692.txt\"\n",
      "  warnings.warn('loadtxt: Empty input file: \"%s\"' % fname)\n"
     ]
    },
    {
     "name": "stdout",
     "output_type": "stream",
     "text": [
      "Found 1 clusters in /Users/mfisherlevine/Downloads/160808_usaf1/04/usaf1_2016_08_08_11_19_34_354.txt - TCUT = 257\n",
      "Centroided 83000 frames\n"
     ]
    },
    {
     "name": "stderr",
     "output_type": "stream",
     "text": [
      "/Users/mfisherlevine/anaconda/lib/python2.7/site-packages/numpy/lib/npyio.py:893: UserWarning: loadtxt: Empty input file: \"/Users/mfisherlevine/Downloads/160808_usaf1/04/usaf1_2016_08_08_11_03_45_514.txt\"\n",
      "  warnings.warn('loadtxt: Empty input file: \"%s\"' % fname)\n",
      "/Users/mfisherlevine/anaconda/lib/python2.7/site-packages/numpy/lib/npyio.py:893: UserWarning: loadtxt: Empty input file: \"/Users/mfisherlevine/Downloads/160808_usaf1/07/usaf1_2016_08_08_13_23_03_041.txt\"\n",
      "  warnings.warn('loadtxt: Empty input file: \"%s\"' % fname)\n"
     ]
    },
    {
     "name": "stdout",
     "output_type": "stream",
     "text": [
      "Found 1 clusters in /Users/mfisherlevine/Downloads/160808_usaf1/02/usaf1_2016_08_08_09_23_49_856.txt - TCUT = 257\n",
      "Found 1 clusters in /Users/mfisherlevine/Downloads/160808_usaf1/06/usaf1_2016_08_08_12_41_37_248.txt - TCUT = 257\n",
      "Centroided 83500 frames\n"
     ]
    },
    {
     "name": "stderr",
     "output_type": "stream",
     "text": [
      "/Users/mfisherlevine/anaconda/lib/python2.7/site-packages/numpy/lib/npyio.py:893: UserWarning: loadtxt: Empty input file: \"/Users/mfisherlevine/Downloads/160808_usaf1/04/usaf1_2016_08_08_10_52_47_568.txt\"\n",
      "  warnings.warn('loadtxt: Empty input file: \"%s\"' % fname)\n"
     ]
    },
    {
     "name": "stdout",
     "output_type": "stream",
     "text": [
      "Found 1 clusters in /Users/mfisherlevine/Downloads/160808_usaf1/00/usaf1_2016_08_08_07_48_28_019.txt - TCUT = 257\n"
     ]
    },
    {
     "name": "stderr",
     "output_type": "stream",
     "text": [
      "/Users/mfisherlevine/anaconda/lib/python2.7/site-packages/numpy/lib/npyio.py:893: UserWarning: loadtxt: Empty input file: \"/Users/mfisherlevine/Downloads/160808_usaf1/04/usaf1_2016_08_08_11_03_42_636.txt\"\n",
      "  warnings.warn('loadtxt: Empty input file: \"%s\"' % fname)\n"
     ]
    },
    {
     "name": "stdout",
     "output_type": "stream",
     "text": [
      "Centroided 84000 frames\n",
      "Found 1 clusters in /Users/mfisherlevine/Downloads/160808_usaf1/03/usaf1_2016_08_08_10_31_11_741.txt - TCUT = 257\n",
      "Found 1 clusters in /Users/mfisherlevine/Downloads/160808_usaf1/02/usaf1_2016_08_08_09_12_04_183.txt - TCUT = 257\n",
      "Found 1 clusters in /Users/mfisherlevine/Downloads/160808_usaf1/01/usaf1_2016_08_08_08_33_41_519.txt - TCUT = 257\n",
      "Centroided 84500 frames\n"
     ]
    },
    {
     "name": "stderr",
     "output_type": "stream",
     "text": [
      "/Users/mfisherlevine/anaconda/lib/python2.7/site-packages/numpy/lib/npyio.py:893: UserWarning: loadtxt: Empty input file: \"/Users/mfisherlevine/Downloads/160808_usaf1/02/usaf1_2016_08_08_09_24_35_143.txt\"\n",
      "  warnings.warn('loadtxt: Empty input file: \"%s\"' % fname)\n"
     ]
    },
    {
     "name": "stdout",
     "output_type": "stream",
     "text": [
      "Centroided 85000 frames\n"
     ]
    },
    {
     "name": "stderr",
     "output_type": "stream",
     "text": [
      "/Users/mfisherlevine/anaconda/lib/python2.7/site-packages/numpy/lib/npyio.py:893: UserWarning: loadtxt: Empty input file: \"/Users/mfisherlevine/Downloads/160808_usaf1/06/usaf1_2016_08_08_12_32_07_007.txt\"\n",
      "  warnings.warn('loadtxt: Empty input file: \"%s\"' % fname)\n"
     ]
    },
    {
     "name": "stdout",
     "output_type": "stream",
     "text": [
      "Found 1 clusters in /Users/mfisherlevine/Downloads/160808_usaf1/02/usaf1_2016_08_08_09_42_04_920.txt - TCUT = 257\n",
      "Found 1 clusters in /Users/mfisherlevine/Downloads/160808_usaf1/01/usaf1_2016_08_08_08_37_04_964.txt - TCUT = 257\n",
      "Centroided 85500 frames\n",
      "Found 1 clusters in /Users/mfisherlevine/Downloads/160808_usaf1/05/usaf1_2016_08_08_11_39_43_158.txt - TCUT = 257\n"
     ]
    },
    {
     "name": "stderr",
     "output_type": "stream",
     "text": [
      "/Users/mfisherlevine/anaconda/lib/python2.7/site-packages/numpy/lib/npyio.py:893: UserWarning: loadtxt: Empty input file: \"/Users/mfisherlevine/Downloads/160808_usaf1/06/usaf1_2016_08_08_12_26_57_465.txt\"\n",
      "  warnings.warn('loadtxt: Empty input file: \"%s\"' % fname)\n",
      "/Users/mfisherlevine/anaconda/lib/python2.7/site-packages/numpy/lib/npyio.py:893: UserWarning: loadtxt: Empty input file: \"/Users/mfisherlevine/Downloads/160808_usaf1/01/usaf1_2016_08_08_09_03_21_271.txt\"\n",
      "  warnings.warn('loadtxt: Empty input file: \"%s\"' % fname)\n",
      "/Users/mfisherlevine/anaconda/lib/python2.7/site-packages/numpy/lib/npyio.py:893: UserWarning: loadtxt: Empty input file: \"/Users/mfisherlevine/Downloads/160808_usaf1/05/usaf1_2016_08_08_12_01_05_976.txt\"\n",
      "  warnings.warn('loadtxt: Empty input file: \"%s\"' % fname)\n"
     ]
    },
    {
     "name": "stdout",
     "output_type": "stream",
     "text": [
      "Centroided 86000 frames\n",
      "Found 1 clusters in /Users/mfisherlevine/Downloads/160808_usaf1/04/usaf1_2016_08_08_11_07_32_779.txt - TCUT = 257\n",
      "Found 1 clusters in /Users/mfisherlevine/Downloads/160808_usaf1/07/usaf1_2016_08_08_12_53_18_839.txt - TCUT = 257\n",
      "Centroided 86500 frames\n"
     ]
    },
    {
     "name": "stderr",
     "output_type": "stream",
     "text": [
      "/Users/mfisherlevine/anaconda/lib/python2.7/site-packages/numpy/lib/npyio.py:893: UserWarning: loadtxt: Empty input file: \"/Users/mfisherlevine/Downloads/160808_usaf1/00/usaf1_2016_08_08_07_48_39_626.txt\"\n",
      "  warnings.warn('loadtxt: Empty input file: \"%s\"' % fname)\n",
      "/Users/mfisherlevine/anaconda/lib/python2.7/site-packages/numpy/lib/npyio.py:893: UserWarning: loadtxt: Empty input file: \"/Users/mfisherlevine/Downloads/160808_usaf1/00/usaf1_2016_08_08_08_08_36_866.txt\"\n",
      "  warnings.warn('loadtxt: Empty input file: \"%s\"' % fname)\n"
     ]
    },
    {
     "name": "stdout",
     "output_type": "stream",
     "text": [
      "Found 1 clusters in /Users/mfisherlevine/Downloads/160808_usaf1/02/usaf1_2016_08_08_09_39_15_995.txt - TCUT = 257\n",
      "Centroided 87000 frames\n",
      "Found 1 clusters in /Users/mfisherlevine/Downloads/160808_usaf1/06/usaf1_2016_08_08_12_15_50_712.txt - TCUT = 257\n",
      "Found 1 clusters in /Users/mfisherlevine/Downloads/160808_usaf1/04/usaf1_2016_08_08_11_18_44_176.txt - TCUT = 257\n"
     ]
    },
    {
     "name": "stderr",
     "output_type": "stream",
     "text": [
      "/Users/mfisherlevine/anaconda/lib/python2.7/site-packages/numpy/lib/npyio.py:893: UserWarning: loadtxt: Empty input file: \"/Users/mfisherlevine/Downloads/160808_usaf1/06/usaf1_2016_08_08_12_41_06_727.txt\"\n",
      "  warnings.warn('loadtxt: Empty input file: \"%s\"' % fname)\n"
     ]
    },
    {
     "name": "stdout",
     "output_type": "stream",
     "text": [
      "Centroided 87500 frames\n",
      "Found 1 clusters in /Users/mfisherlevine/Downloads/160808_usaf1/06/usaf1_2016_08_08_12_32_40_489.txt - TCUT = 257\n",
      "Centroided 88000 frames\n"
     ]
    },
    {
     "name": "stderr",
     "output_type": "stream",
     "text": [
      "/Users/mfisherlevine/anaconda/lib/python2.7/site-packages/numpy/lib/npyio.py:893: UserWarning: loadtxt: Empty input file: \"/Users/mfisherlevine/Downloads/160808_usaf1/07/usaf1_2016_08_08_13_08_18_126.txt\"\n",
      "  warnings.warn('loadtxt: Empty input file: \"%s\"' % fname)\n"
     ]
    },
    {
     "name": "stdout",
     "output_type": "stream",
     "text": [
      "Found 1 clusters in /Users/mfisherlevine/Downloads/160808_usaf1/00/usaf1_2016_08_08_08_14_12_245.txt - TCUT = 257\n",
      "Centroided 88500 frames\n",
      "Found 1 clusters in /Users/mfisherlevine/Downloads/160808_usaf1/05/usaf1_2016_08_08_11_27_18_582.txt - TCUT = 257\n",
      "Found 1 clusters in /Users/mfisherlevine/Downloads/160808_usaf1/00/usaf1_2016_08_08_07_51_07_953.txt - TCUT = 257\n",
      "Centroided 89000 frames\n",
      "Centroided 89500 frames\n",
      "Found 1 clusters in /Users/mfisherlevine/Downloads/160808_usaf1/01/usaf1_2016_08_08_09_03_14_215.txt - TCUT = 257\n",
      "Found 1 clusters in /Users/mfisherlevine/Downloads/160808_usaf1/05/usaf1_2016_08_08_11_40_19_493.txt - TCUT = 257\n"
     ]
    },
    {
     "name": "stderr",
     "output_type": "stream",
     "text": [
      "/Users/mfisherlevine/anaconda/lib/python2.7/site-packages/numpy/lib/npyio.py:893: UserWarning: loadtxt: Empty input file: \"/Users/mfisherlevine/Downloads/160808_usaf1/07/usaf1_2016_08_08_13_23_20_855.txt\"\n",
      "  warnings.warn('loadtxt: Empty input file: \"%s\"' % fname)\n"
     ]
    },
    {
     "name": "stdout",
     "output_type": "stream",
     "text": [
      "Found 1 clusters in /Users/mfisherlevine/Downloads/160808_usaf1/04/usaf1_2016_08_08_10_45_11_091.txt - TCUT = 257\n",
      "Centroided 90000 frames\n"
     ]
    },
    {
     "name": "stderr",
     "output_type": "stream",
     "text": [
      "/Users/mfisherlevine/anaconda/lib/python2.7/site-packages/numpy/lib/npyio.py:893: UserWarning: loadtxt: Empty input file: \"/Users/mfisherlevine/Downloads/160808_usaf1/03/usaf1_2016_08_08_09_55_07_641.txt\"\n",
      "  warnings.warn('loadtxt: Empty input file: \"%s\"' % fname)\n",
      "/Users/mfisherlevine/anaconda/lib/python2.7/site-packages/numpy/lib/npyio.py:893: UserWarning: loadtxt: Empty input file: \"/Users/mfisherlevine/Downloads/160808_usaf1/01/usaf1_2016_08_08_08_25_42_183.txt\"\n",
      "  warnings.warn('loadtxt: Empty input file: \"%s\"' % fname)\n"
     ]
    },
    {
     "name": "stdout",
     "output_type": "stream",
     "text": [
      "Found 1 clusters in /Users/mfisherlevine/Downloads/160808_usaf1/01/usaf1_2016_08_08_08_59_01_436.txt - TCUT = 257\n",
      "Found 1 clusters in /Users/mfisherlevine/Downloads/160808_usaf1/07/usaf1_2016_08_08_12_55_22_750.txt - TCUT = 257\n",
      "Found 1 clusters in /Users/mfisherlevine/Downloads/160808_usaf1/05/usaf1_2016_08_08_11_47_32_611.txt - TCUT = 257\n",
      "Found 1 clusters in /Users/mfisherlevine/Downloads/160808_usaf1/02/usaf1_2016_08_08_09_32_16_381.txt - TCUT = 257\n"
     ]
    },
    {
     "name": "stderr",
     "output_type": "stream",
     "text": [
      "/Users/mfisherlevine/anaconda/lib/python2.7/site-packages/numpy/lib/npyio.py:893: UserWarning: loadtxt: Empty input file: \"/Users/mfisherlevine/Downloads/160808_usaf1/00/usaf1_2016_08_08_07_52_55_563.txt\"\n",
      "  warnings.warn('loadtxt: Empty input file: \"%s\"' % fname)\n"
     ]
    },
    {
     "name": "stdout",
     "output_type": "stream",
     "text": [
      "Found 1 clusters in /Users/mfisherlevine/Downloads/160808_usaf1/05/usaf1_2016_08_08_11_27_01_753.txt - TCUT = 257\n",
      "Centroided 90500 frames\n",
      "Found 1 clusters in /Users/mfisherlevine/Downloads/160808_usaf1/07/usaf1_2016_08_08_13_09_35_769.txt - TCUT = 257\n",
      "Found 1 clusters in /Users/mfisherlevine/Downloads/160808_usaf1/02/usaf1_2016_08_08_09_12_37_657.txt - TCUT = 257\n",
      "Found 1 clusters in /Users/mfisherlevine/Downloads/160808_usaf1/05/usaf1_2016_08_08_11_31_04_530.txt - TCUT = 257\n"
     ]
    },
    {
     "name": "stderr",
     "output_type": "stream",
     "text": [
      "/Users/mfisherlevine/anaconda/lib/python2.7/site-packages/numpy/lib/npyio.py:893: UserWarning: loadtxt: Empty input file: \"/Users/mfisherlevine/Downloads/160808_usaf1/04/usaf1_2016_08_08_11_09_31_981.txt\"\n",
      "  warnings.warn('loadtxt: Empty input file: \"%s\"' % fname)\n"
     ]
    },
    {
     "name": "stdout",
     "output_type": "stream",
     "text": [
      "Found 1 clusters in /Users/mfisherlevine/Downloads/160808_usaf1/04/usaf1_2016_08_08_10_44_19_724.txt - TCUT = 257\n",
      "Centroided 91000 frames\n",
      "Found 1 clusters in /Users/mfisherlevine/Downloads/160808_usaf1/06/usaf1_2016_08_08_12_10_03_299.txt - TCUT = 257\n",
      "Found 1 clusters in /Users/mfisherlevine/Downloads/160808_usaf1/05/usaf1_2016_08_08_11_41_06_821.txt - TCUT = 257\n",
      "Found 1 clusters in /Users/mfisherlevine/Downloads/160808_usaf1/07/usaf1_2016_08_08_13_11_38_588.txt - TCUT = 257\n",
      "Centroided 91500 frames\n",
      "Found 1 clusters in /Users/mfisherlevine/Downloads/160808_usaf1/04/usaf1_2016_08_08_10_53_23_941.txt - TCUT = 257\n",
      "Found 1 clusters in /Users/mfisherlevine/Downloads/160808_usaf1/04/usaf1_2016_08_08_11_09_18_486.txt - TCUT = 257\n"
     ]
    },
    {
     "name": "stderr",
     "output_type": "stream",
     "text": [
      "/Users/mfisherlevine/anaconda/lib/python2.7/site-packages/numpy/lib/npyio.py:893: UserWarning: loadtxt: Empty input file: \"/Users/mfisherlevine/Downloads/160808_usaf1/04/usaf1_2016_08_08_10_51_25_452.txt\"\n",
      "  warnings.warn('loadtxt: Empty input file: \"%s\"' % fname)\n"
     ]
    },
    {
     "name": "stdout",
     "output_type": "stream",
     "text": [
      "Found 1 clusters in /Users/mfisherlevine/Downloads/160808_usaf1/05/usaf1_2016_08_08_11_50_05_083.txt - TCUT = 257\n",
      "Found 1 clusters in /Users/mfisherlevine/Downloads/160808_usaf1/07/usaf1_2016_08_08_13_07_11_560.txt - TCUT = 257\n",
      "Found 1 clusters in /Users/mfisherlevine/Downloads/160808_usaf1/00/usaf1_2016_08_08_08_07_45_660.txt - TCUT = 257\n",
      "Centroided 92000 frames\n",
      "Found 1 clusters in /Users/mfisherlevine/Downloads/160808_usaf1/03/usaf1_2016_08_08_10_05_08_529.txt - TCUT = 257\n"
     ]
    },
    {
     "name": "stderr",
     "output_type": "stream",
     "text": [
      "/Users/mfisherlevine/anaconda/lib/python2.7/site-packages/numpy/lib/npyio.py:893: UserWarning: loadtxt: Empty input file: \"/Users/mfisherlevine/Downloads/160808_usaf1/03/usaf1_2016_08_08_10_17_32_790.txt\"\n",
      "  warnings.warn('loadtxt: Empty input file: \"%s\"' % fname)\n"
     ]
    },
    {
     "name": "stdout",
     "output_type": "stream",
     "text": [
      "Found 1 clusters in /Users/mfisherlevine/Downloads/160808_usaf1/04/usaf1_2016_08_08_11_20_53_818.txt - TCUT = 257\n",
      "Found 1 clusters in /Users/mfisherlevine/Downloads/160808_usaf1/05/usaf1_2016_08_08_11_50_44_601.txt - TCUT = 257\n"
     ]
    },
    {
     "name": "stderr",
     "output_type": "stream",
     "text": [
      "/Users/mfisherlevine/anaconda/lib/python2.7/site-packages/numpy/lib/npyio.py:893: UserWarning: loadtxt: Empty input file: \"/Users/mfisherlevine/Downloads/160808_usaf1/06/usaf1_2016_08_08_12_38_24_175.txt\"\n",
      "  warnings.warn('loadtxt: Empty input file: \"%s\"' % fname)\n"
     ]
    },
    {
     "name": "stdout",
     "output_type": "stream",
     "text": [
      "Found 1 clusters in /Users/mfisherlevine/Downloads/160808_usaf1/02/usaf1_2016_08_08_09_31_49_428.txt - TCUT = 257\n"
     ]
    },
    {
     "name": "stderr",
     "output_type": "stream",
     "text": [
      "/Users/mfisherlevine/anaconda/lib/python2.7/site-packages/numpy/lib/npyio.py:893: UserWarning: loadtxt: Empty input file: \"/Users/mfisherlevine/Downloads/160808_usaf1/00/usaf1_2016_08_08_07_49_26_949.txt\"\n",
      "  warnings.warn('loadtxt: Empty input file: \"%s\"' % fname)\n"
     ]
    },
    {
     "name": "stdout",
     "output_type": "stream",
     "text": [
      "Centroided 92500 frames\n",
      "Found 1 clusters in /Users/mfisherlevine/Downloads/160808_usaf1/07/usaf1_2016_08_08_12_49_38_002.txt - TCUT = 257\n",
      "Centroided 93000 frames\n",
      "Found 1 clusters in /Users/mfisherlevine/Downloads/160808_usaf1/01/usaf1_2016_08_08_08_52_18_104.txt - TCUT = 257\n",
      "Found 1 clusters in /Users/mfisherlevine/Downloads/160808_usaf1/02/usaf1_2016_08_08_09_13_42_038.txt - TCUT = 257\n"
     ]
    },
    {
     "name": "stderr",
     "output_type": "stream",
     "text": [
      "/Users/mfisherlevine/anaconda/lib/python2.7/site-packages/numpy/lib/npyio.py:893: UserWarning: loadtxt: Empty input file: \"/Users/mfisherlevine/Downloads/160808_usaf1/01/usaf1_2016_08_08_08_49_14_752.txt\"\n",
      "  warnings.warn('loadtxt: Empty input file: \"%s\"' % fname)\n"
     ]
    },
    {
     "name": "stdout",
     "output_type": "stream",
     "text": [
      "Centroided 93500 frames\n",
      "Found 1 clusters in /Users/mfisherlevine/Downloads/160808_usaf1/04/usaf1_2016_08_08_10_49_03_485.txt - TCUT = 257\n",
      "Found 1 clusters in /Users/mfisherlevine/Downloads/160808_usaf1/05/usaf1_2016_08_08_11_50_03_041.txt - TCUT = 257\n",
      "Found 1 clusters in /Users/mfisherlevine/Downloads/160808_usaf1/06/usaf1_2016_08_08_12_36_44_892.txt - TCUT = 257\n",
      "Found 1 clusters in /Users/mfisherlevine/Downloads/160808_usaf1/05/usaf1_2016_08_08_11_32_47_274.txt - TCUT = 257\n",
      "Centroided 94000 frames\n"
     ]
    },
    {
     "name": "stderr",
     "output_type": "stream",
     "text": [
      "/Users/mfisherlevine/anaconda/lib/python2.7/site-packages/numpy/lib/npyio.py:893: UserWarning: loadtxt: Empty input file: \"/Users/mfisherlevine/Downloads/160808_usaf1/00/usaf1_2016_08_08_08_21_36_636.txt\"\n",
      "  warnings.warn('loadtxt: Empty input file: \"%s\"' % fname)\n"
     ]
    },
    {
     "name": "stdout",
     "output_type": "stream",
     "text": [
      "Found 1 clusters in /Users/mfisherlevine/Downloads/160808_usaf1/05/usaf1_2016_08_08_11_30_49_417.txt - TCUT = 257\n",
      "Centroided 94500 frames\n"
     ]
    },
    {
     "name": "stderr",
     "output_type": "stream",
     "text": [
      "/Users/mfisherlevine/anaconda/lib/python2.7/site-packages/numpy/lib/npyio.py:893: UserWarning: loadtxt: Empty input file: \"/Users/mfisherlevine/Downloads/160808_usaf1/07/usaf1_2016_08_08_13_22_32_509.txt\"\n",
      "  warnings.warn('loadtxt: Empty input file: \"%s\"' % fname)\n"
     ]
    },
    {
     "name": "stdout",
     "output_type": "stream",
     "text": [
      "Found 1 clusters in /Users/mfisherlevine/Downloads/160808_usaf1/05/usaf1_2016_08_08_12_00_04_290.txt - TCUT = 257\n",
      "Found 1 clusters in /Users/mfisherlevine/Downloads/160808_usaf1/07/usaf1_2016_08_08_12_53_18_265.txt - TCUT = 257\n",
      "Found 1 clusters in /Users/mfisherlevine/Downloads/160808_usaf1/00/usaf1_2016_08_08_08_01_42_779.txt - TCUT = 257\n",
      "Centroided 95000 frames\n",
      "Found 1 clusters in /Users/mfisherlevine/Downloads/160808_usaf1/01/usaf1_2016_08_08_08_49_34_579.txt - TCUT = 257\n",
      "Found 1 clusters in /Users/mfisherlevine/Downloads/160808_usaf1/00/usaf1_2016_08_08_07_44_20_632.txt - TCUT = 257\n"
     ]
    },
    {
     "name": "stderr",
     "output_type": "stream",
     "text": [
      "/Users/mfisherlevine/anaconda/lib/python2.7/site-packages/numpy/lib/npyio.py:893: UserWarning: loadtxt: Empty input file: \"/Users/mfisherlevine/Downloads/160808_usaf1/06/usaf1_2016_08_08_12_23_59_999.txt\"\n",
      "  warnings.warn('loadtxt: Empty input file: \"%s\"' % fname)\n"
     ]
    },
    {
     "name": "stdout",
     "output_type": "stream",
     "text": [
      "Found 1 clusters in /Users/mfisherlevine/Downloads/160808_usaf1/02/usaf1_2016_08_08_09_38_23_274.txt - TCUT = 257\n",
      "Found 1 clusters in /Users/mfisherlevine/Downloads/160808_usaf1/06/usaf1_2016_08_08_12_13_29_188.txt - TCUT = 257\n"
     ]
    },
    {
     "name": "stderr",
     "output_type": "stream",
     "text": [
      "/Users/mfisherlevine/anaconda/lib/python2.7/site-packages/numpy/lib/npyio.py:893: UserWarning: loadtxt: Empty input file: \"/Users/mfisherlevine/Downloads/160808_usaf1/00/usaf1_2016_08_08_07_53_05_078.txt\"\n",
      "  warnings.warn('loadtxt: Empty input file: \"%s\"' % fname)\n",
      "/Users/mfisherlevine/anaconda/lib/python2.7/site-packages/numpy/lib/npyio.py:893: UserWarning: loadtxt: Empty input file: \"/Users/mfisherlevine/Downloads/160808_usaf1/02/usaf1_2016_08_08_09_27_49_402.txt\"\n",
      "  warnings.warn('loadtxt: Empty input file: \"%s\"' % fname)\n"
     ]
    },
    {
     "name": "stdout",
     "output_type": "stream",
     "text": [
      "Found 1 clusters in /Users/mfisherlevine/Downloads/160808_usaf1/02/usaf1_2016_08_08_09_34_49_234.txt - TCUT = 257\n",
      "Found 1 clusters in /Users/mfisherlevine/Downloads/160808_usaf1/02/usaf1_2016_08_08_09_19_22_446.txt - TCUT = 257\n",
      "Centroided 95500 frames\n",
      "Found 1 clusters in /Users/mfisherlevine/Downloads/160808_usaf1/05/usaf1_2016_08_08_11_31_00_478.txt - TCUT = 257\n",
      "Found 1 clusters in /Users/mfisherlevine/Downloads/160808_usaf1/01/usaf1_2016_08_08_08_37_58_100.txt - TCUT = 257\n",
      "Found 1 clusters in /Users/mfisherlevine/Downloads/160808_usaf1/02/usaf1_2016_08_08_09_23_47_628.txt - TCUT = 257\n",
      "Found 1 clusters in /Users/mfisherlevine/Downloads/160808_usaf1/06/usaf1_2016_08_08_12_34_09_892.txt - TCUT = 257\n",
      "Found 1 clusters in /Users/mfisherlevine/Downloads/160808_usaf1/03/usaf1_2016_08_08_10_33_28_844.txt - TCUT = 257\n",
      "Found 1 clusters in /Users/mfisherlevine/Downloads/160808_usaf1/07/usaf1_2016_08_08_13_25_49_757.txt - TCUT = 257\n"
     ]
    },
    {
     "name": "stderr",
     "output_type": "stream",
     "text": [
      "/Users/mfisherlevine/anaconda/lib/python2.7/site-packages/numpy/lib/npyio.py:893: UserWarning: loadtxt: Empty input file: \"/Users/mfisherlevine/Downloads/160808_usaf1/03/usaf1_2016_08_08_10_27_27_356.txt\"\n",
      "  warnings.warn('loadtxt: Empty input file: \"%s\"' % fname)\n"
     ]
    },
    {
     "name": "stdout",
     "output_type": "stream",
     "text": [
      "Found 1 clusters in /Users/mfisherlevine/Downloads/160808_usaf1/06/usaf1_2016_08_08_12_08_42_784.txt - TCUT = 257\n",
      "Centroided 96000 frames\n",
      "Found 1 clusters in /Users/mfisherlevine/Downloads/160808_usaf1/04/usaf1_2016_08_08_10_51_49_238.txt - TCUT = 257\n",
      "Centroided 96500 frames\n",
      "Found 1 clusters in /Users/mfisherlevine/Downloads/160808_usaf1/04/usaf1_2016_08_08_10_51_15_045.txt - TCUT = 257\n",
      "Found 1 clusters in /Users/mfisherlevine/Downloads/160808_usaf1/06/usaf1_2016_08_08_12_23_25_717.txt - TCUT = 257\n",
      "Found 1 clusters in /Users/mfisherlevine/Downloads/160808_usaf1/00/usaf1_2016_08_08_08_16_17_209.txt - TCUT = 257\n",
      "Found 1 clusters in /Users/mfisherlevine/Downloads/160808_usaf1/04/usaf1_2016_08_08_10_41_00_501.txt - TCUT = 257\n"
     ]
    },
    {
     "name": "stderr",
     "output_type": "stream",
     "text": [
      "/Users/mfisherlevine/anaconda/lib/python2.7/site-packages/numpy/lib/npyio.py:893: UserWarning: loadtxt: Empty input file: \"/Users/mfisherlevine/Downloads/160808_usaf1/07/usaf1_2016_08_08_13_06_51_013.txt\"\n",
      "  warnings.warn('loadtxt: Empty input file: \"%s\"' % fname)\n"
     ]
    },
    {
     "name": "stdout",
     "output_type": "stream",
     "text": [
      "Found 1 clusters in /Users/mfisherlevine/Downloads/160808_usaf1/07/usaf1_2016_08_08_13_00_09_035.txt - TCUT = 257\n",
      "Found 1 clusters in /Users/mfisherlevine/Downloads/160808_usaf1/04/usaf1_2016_08_08_10_45_49_667.txt - TCUT = 257\n",
      "Centroided 97000 frames\n"
     ]
    },
    {
     "name": "stderr",
     "output_type": "stream",
     "text": [
      "/Users/mfisherlevine/anaconda/lib/python2.7/site-packages/numpy/lib/npyio.py:893: UserWarning: loadtxt: Empty input file: \"/Users/mfisherlevine/Downloads/160808_usaf1/00/usaf1_2016_08_08_08_07_43_970.txt\"\n",
      "  warnings.warn('loadtxt: Empty input file: \"%s\"' % fname)\n"
     ]
    },
    {
     "name": "stdout",
     "output_type": "stream",
     "text": [
      "Found 1 clusters in /Users/mfisherlevine/Downloads/160808_usaf1/00/usaf1_2016_08_08_08_07_50_764.txt - TCUT = 257\n",
      "Found 1 clusters in /Users/mfisherlevine/Downloads/160808_usaf1/02/usaf1_2016_08_08_09_35_38_528.txt - TCUT = 257\n",
      "Centroided 97500 frames\n",
      "Found 1 clusters in /Users/mfisherlevine/Downloads/160808_usaf1/07/usaf1_2016_08_08_13_21_02_818.txt - TCUT = 257\n",
      "Found 1 clusters in /Users/mfisherlevine/Downloads/160808_usaf1/02/usaf1_2016_08_08_09_44_25_280.txt - TCUT = 257\n"
     ]
    },
    {
     "name": "stderr",
     "output_type": "stream",
     "text": [
      "/Users/mfisherlevine/anaconda/lib/python2.7/site-packages/numpy/lib/npyio.py:893: UserWarning: loadtxt: Empty input file: \"/Users/mfisherlevine/Downloads/160808_usaf1/02/usaf1_2016_08_08_09_15_02_751.txt\"\n",
      "  warnings.warn('loadtxt: Empty input file: \"%s\"' % fname)\n"
     ]
    },
    {
     "name": "stdout",
     "output_type": "stream",
     "text": [
      "Found 1 clusters in /Users/mfisherlevine/Downloads/160808_usaf1/03/usaf1_2016_08_08_09_52_59_138.txt - TCUT = 257\n",
      "Centroided 98000 frames\n",
      "Found 1 clusters in /Users/mfisherlevine/Downloads/160808_usaf1/03/usaf1_2016_08_08_10_13_10_770.txt - TCUT = 257\n",
      "Found 1 clusters in /Users/mfisherlevine/Downloads/160808_usaf1/07/usaf1_2016_08_08_12_54_24_424.txt - TCUT = 257\n",
      "Found 1 clusters in /Users/mfisherlevine/Downloads/160808_usaf1/00/usaf1_2016_08_08_08_15_01_393.txt - TCUT = 257\n"
     ]
    },
    {
     "name": "stderr",
     "output_type": "stream",
     "text": [
      "/Users/mfisherlevine/anaconda/lib/python2.7/site-packages/numpy/lib/npyio.py:893: UserWarning: loadtxt: Empty input file: \"/Users/mfisherlevine/Downloads/160808_usaf1/06/usaf1_2016_08_08_12_34_42_986.txt\"\n",
      "  warnings.warn('loadtxt: Empty input file: \"%s\"' % fname)\n"
     ]
    },
    {
     "name": "stdout",
     "output_type": "stream",
     "text": [
      "Centroided 98500 frames\n",
      "Found 1 clusters in /Users/mfisherlevine/Downloads/160808_usaf1/03/usaf1_2016_08_08_10_13_43_168.txt - TCUT = 257\n",
      "Found 1 clusters in /Users/mfisherlevine/Downloads/160808_usaf1/02/usaf1_2016_08_08_09_06_45_902.txt - TCUT = 257\n"
     ]
    },
    {
     "name": "stderr",
     "output_type": "stream",
     "text": [
      "/Users/mfisherlevine/anaconda/lib/python2.7/site-packages/numpy/lib/npyio.py:893: UserWarning: loadtxt: Empty input file: \"/Users/mfisherlevine/Downloads/160808_usaf1/05/usaf1_2016_08_08_11_42_40_445.txt\"\n",
      "  warnings.warn('loadtxt: Empty input file: \"%s\"' % fname)\n"
     ]
    },
    {
     "name": "stdout",
     "output_type": "stream",
     "text": [
      "Centroided 99000 frames\n",
      "Found 1 clusters in /Users/mfisherlevine/Downloads/160808_usaf1/01/usaf1_2016_08_08_08_58_55_147.txt - TCUT = 257\n"
     ]
    },
    {
     "name": "stderr",
     "output_type": "stream",
     "text": [
      "/Users/mfisherlevine/anaconda/lib/python2.7/site-packages/numpy/lib/npyio.py:893: UserWarning: loadtxt: Empty input file: \"/Users/mfisherlevine/Downloads/160808_usaf1/03/usaf1_2016_08_08_10_01_24_428.txt\"\n",
      "  warnings.warn('loadtxt: Empty input file: \"%s\"' % fname)\n"
     ]
    },
    {
     "name": "stdout",
     "output_type": "stream",
     "text": [
      "Found 1 clusters in /Users/mfisherlevine/Downloads/160808_usaf1/06/usaf1_2016_08_08_12_11_28_816.txt - TCUT = 257\n",
      "Found 1 clusters in /Users/mfisherlevine/Downloads/160808_usaf1/07/usaf1_2016_08_08_13_05_37_665.txt - TCUT = 257\n",
      "Centroided 99500 frames\n"
     ]
    },
    {
     "name": "stderr",
     "output_type": "stream",
     "text": [
      "/Users/mfisherlevine/anaconda/lib/python2.7/site-packages/numpy/lib/npyio.py:893: UserWarning: loadtxt: Empty input file: \"/Users/mfisherlevine/Downloads/160808_usaf1/04/usaf1_2016_08_08_10_56_12_922.txt\"\n",
      "  warnings.warn('loadtxt: Empty input file: \"%s\"' % fname)\n",
      "/Users/mfisherlevine/anaconda/lib/python2.7/site-packages/numpy/lib/npyio.py:893: UserWarning: loadtxt: Empty input file: \"/Users/mfisherlevine/Downloads/160808_usaf1/05/usaf1_2016_08_08_12_00_56_254.txt\"\n",
      "  warnings.warn('loadtxt: Empty input file: \"%s\"' % fname)\n"
     ]
    },
    {
     "name": "stdout",
     "output_type": "stream",
     "text": [
      "Found 1 clusters in /Users/mfisherlevine/Downloads/160808_usaf1/05/usaf1_2016_08_08_11_39_38_417.txt - TCUT = 257\n"
     ]
    },
    {
     "name": "stderr",
     "output_type": "stream",
     "text": [
      "/Users/mfisherlevine/anaconda/lib/python2.7/site-packages/numpy/lib/npyio.py:893: UserWarning: loadtxt: Empty input file: \"/Users/mfisherlevine/Downloads/160808_usaf1/06/usaf1_2016_08_08_12_42_46_490.txt\"\n",
      "  warnings.warn('loadtxt: Empty input file: \"%s\"' % fname)\n"
     ]
    },
    {
     "name": "stdout",
     "output_type": "stream",
     "text": [
      "Centroided 100000 frames\n"
     ]
    },
    {
     "name": "stderr",
     "output_type": "stream",
     "text": [
      "/Users/mfisherlevine/anaconda/lib/python2.7/site-packages/numpy/lib/npyio.py:893: UserWarning: loadtxt: Empty input file: \"/Users/mfisherlevine/Downloads/160808_usaf1/04/usaf1_2016_08_08_10_52_24_659.txt\"\n",
      "  warnings.warn('loadtxt: Empty input file: \"%s\"' % fname)\n"
     ]
    },
    {
     "name": "stdout",
     "output_type": "stream",
     "text": [
      "Found 1 clusters in /Users/mfisherlevine/Downloads/160808_usaf1/03/usaf1_2016_08_08_10_08_03_697.txt - TCUT = 257\n",
      "Found 1 clusters in /Users/mfisherlevine/Downloads/160808_usaf1/02/usaf1_2016_08_08_09_29_40_136.txt - TCUT = 257\n",
      "Centroided 100500 frames\n",
      "Found 1 clusters in /Users/mfisherlevine/Downloads/160808_usaf1/03/usaf1_2016_08_08_10_13_16_886.txt - TCUT = 257\n"
     ]
    },
    {
     "name": "stderr",
     "output_type": "stream",
     "text": [
      "/Users/mfisherlevine/anaconda/lib/python2.7/site-packages/numpy/lib/npyio.py:893: UserWarning: loadtxt: Empty input file: \"/Users/mfisherlevine/Downloads/160808_usaf1/07/usaf1_2016_08_08_12_58_11_898.txt\"\n",
      "  warnings.warn('loadtxt: Empty input file: \"%s\"' % fname)\n",
      "/Users/mfisherlevine/anaconda/lib/python2.7/site-packages/numpy/lib/npyio.py:893: UserWarning: loadtxt: Empty input file: \"/Users/mfisherlevine/Downloads/160808_usaf1/03/usaf1_2016_08_08_10_05_10_767.txt\"\n",
      "  warnings.warn('loadtxt: Empty input file: \"%s\"' % fname)\n"
     ]
    },
    {
     "name": "stdout",
     "output_type": "stream",
     "text": [
      "Centroided 101000 frames\n"
     ]
    },
    {
     "name": "stderr",
     "output_type": "stream",
     "text": [
      "/Users/mfisherlevine/anaconda/lib/python2.7/site-packages/numpy/lib/npyio.py:893: UserWarning: loadtxt: Empty input file: \"/Users/mfisherlevine/Downloads/160808_usaf1/02/usaf1_2016_08_08_09_41_38_514.txt\"\n",
      "  warnings.warn('loadtxt: Empty input file: \"%s\"' % fname)\n"
     ]
    },
    {
     "name": "stdout",
     "output_type": "stream",
     "text": [
      "Centroided 101500 frames\n",
      "Found 1 clusters in /Users/mfisherlevine/Downloads/160808_usaf1/06/usaf1_2016_08_08_12_26_41_784.txt - TCUT = 257\n",
      "Found 1 clusters in /Users/mfisherlevine/Downloads/160808_usaf1/05/usaf1_2016_08_08_11_58_32_390.txt - TCUT = 257\n"
     ]
    },
    {
     "name": "stderr",
     "output_type": "stream",
     "text": [
      "/Users/mfisherlevine/anaconda/lib/python2.7/site-packages/numpy/lib/npyio.py:893: UserWarning: loadtxt: Empty input file: \"/Users/mfisherlevine/Downloads/160808_usaf1/06/usaf1_2016_08_08_12_43_35_257.txt\"\n",
      "  warnings.warn('loadtxt: Empty input file: \"%s\"' % fname)\n",
      "/Users/mfisherlevine/anaconda/lib/python2.7/site-packages/numpy/lib/npyio.py:893: UserWarning: loadtxt: Empty input file: \"/Users/mfisherlevine/Downloads/160808_usaf1/06/usaf1_2016_08_08_12_05_41_903.txt\"\n",
      "  warnings.warn('loadtxt: Empty input file: \"%s\"' % fname)\n"
     ]
    },
    {
     "name": "stdout",
     "output_type": "stream",
     "text": [
      "Found 1 clusters in /Users/mfisherlevine/Downloads/160808_usaf1/01/usaf1_2016_08_08_08_31_10_834.txt - TCUT = 257\n",
      "Found 1 clusters in /Users/mfisherlevine/Downloads/160808_usaf1/00/usaf1_2016_08_08_08_05_50_184.txt - TCUT = 257\n",
      "Found 1 clusters in /Users/mfisherlevine/Downloads/160808_usaf1/07/usaf1_2016_08_08_13_27_05_801.txt - TCUT = 257\n"
     ]
    },
    {
     "name": "stderr",
     "output_type": "stream",
     "text": [
      "/Users/mfisherlevine/anaconda/lib/python2.7/site-packages/numpy/lib/npyio.py:893: UserWarning: loadtxt: Empty input file: \"/Users/mfisherlevine/Downloads/160808_usaf1/02/usaf1_2016_08_08_09_37_35_551.txt\"\n",
      "  warnings.warn('loadtxt: Empty input file: \"%s\"' % fname)\n",
      "/Users/mfisherlevine/anaconda/lib/python2.7/site-packages/numpy/lib/npyio.py:893: UserWarning: loadtxt: Empty input file: \"/Users/mfisherlevine/Downloads/160808_usaf1/01/usaf1_2016_08_08_08_26_06_981.txt\"\n",
      "  warnings.warn('loadtxt: Empty input file: \"%s\"' % fname)\n"
     ]
    },
    {
     "name": "stdout",
     "output_type": "stream",
     "text": [
      "Centroided 102000 frames\n",
      "Found 1 clusters in /Users/mfisherlevine/Downloads/160808_usaf1/02/usaf1_2016_08_08_09_13_40_690.txt - TCUT = 257\n"
     ]
    },
    {
     "name": "stderr",
     "output_type": "stream",
     "text": [
      "/Users/mfisherlevine/anaconda/lib/python2.7/site-packages/numpy/lib/npyio.py:893: UserWarning: loadtxt: Empty input file: \"/Users/mfisherlevine/Downloads/160808_usaf1/00/usaf1_2016_08_08_07_54_36_143.txt\"\n",
      "  warnings.warn('loadtxt: Empty input file: \"%s\"' % fname)\n"
     ]
    },
    {
     "name": "stdout",
     "output_type": "stream",
     "text": [
      "Centroided 102500 frames\n",
      "Found 1 clusters in /Users/mfisherlevine/Downloads/160808_usaf1/03/usaf1_2016_08_08_10_27_36_479.txt - TCUT = 257\n",
      "Found 1 clusters in /Users/mfisherlevine/Downloads/160808_usaf1/02/usaf1_2016_08_08_09_46_16_757.txt - TCUT = 257\n",
      "Found 1 clusters in /Users/mfisherlevine/Downloads/160808_usaf1/03/usaf1_2016_08_08_10_16_50_285.txt - TCUT = 257\n"
     ]
    },
    {
     "name": "stderr",
     "output_type": "stream",
     "text": [
      "/Users/mfisherlevine/anaconda/lib/python2.7/site-packages/numpy/lib/npyio.py:893: UserWarning: loadtxt: Empty input file: \"/Users/mfisherlevine/Downloads/160808_usaf1/07/usaf1_2016_08_08_13_09_27_157.txt\"\n",
      "  warnings.warn('loadtxt: Empty input file: \"%s\"' % fname)\n"
     ]
    },
    {
     "name": "stdout",
     "output_type": "stream",
     "text": [
      "Centroided 103000 frames\n",
      "Found 1 clusters in /Users/mfisherlevine/Downloads/160808_usaf1/04/usaf1_2016_08_08_11_13_01_895.txt - TCUT = 257\n",
      "Found 1 clusters in /Users/mfisherlevine/Downloads/160808_usaf1/07/usaf1_2016_08_08_13_14_42_026.txt - TCUT = 257\n",
      "Found 1 clusters in /Users/mfisherlevine/Downloads/160808_usaf1/05/usaf1_2016_08_08_11_28_50_058.txt - TCUT = 257\n",
      "Found 1 clusters in /Users/mfisherlevine/Downloads/160808_usaf1/00/usaf1_2016_08_08_07_46_21_683.txt - TCUT = 257\n",
      "Centroided 103500 frames\n",
      "Found 1 clusters in /Users/mfisherlevine/Downloads/160808_usaf1/00/usaf1_2016_08_08_07_55_09_082.txt - TCUT = 257\n",
      "Found 1 clusters in /Users/mfisherlevine/Downloads/160808_usaf1/07/usaf1_2016_08_08_13_04_51_142.txt - TCUT = 257\n",
      "Centroided 104000 frames\n",
      "Found 1 clusters in /Users/mfisherlevine/Downloads/160808_usaf1/00/usaf1_2016_08_08_07_56_20_176.txt - TCUT = 257\n",
      "Found 1 clusters in /Users/mfisherlevine/Downloads/160808_usaf1/01/usaf1_2016_08_08_08_28_51_663.txt - TCUT = 257\n"
     ]
    },
    {
     "name": "stderr",
     "output_type": "stream",
     "text": [
      "/Users/mfisherlevine/anaconda/lib/python2.7/site-packages/numpy/lib/npyio.py:893: UserWarning: loadtxt: Empty input file: \"/Users/mfisherlevine/Downloads/160808_usaf1/02/usaf1_2016_08_08_09_24_26_361.txt\"\n",
      "  warnings.warn('loadtxt: Empty input file: \"%s\"' % fname)\n",
      "/Users/mfisherlevine/anaconda/lib/python2.7/site-packages/numpy/lib/npyio.py:893: UserWarning: loadtxt: Empty input file: \"/Users/mfisherlevine/Downloads/160808_usaf1/07/usaf1_2016_08_08_13_01_21_280.txt\"\n",
      "  warnings.warn('loadtxt: Empty input file: \"%s\"' % fname)\n",
      "/Users/mfisherlevine/anaconda/lib/python2.7/site-packages/numpy/lib/npyio.py:893: UserWarning: loadtxt: Empty input file: \"/Users/mfisherlevine/Downloads/160808_usaf1/00/usaf1_2016_08_08_08_15_51_413.txt\"\n",
      "  warnings.warn('loadtxt: Empty input file: \"%s\"' % fname)\n"
     ]
    },
    {
     "name": "stdout",
     "output_type": "stream",
     "text": [
      "Centroided 104500 frames\n"
     ]
    },
    {
     "name": "stderr",
     "output_type": "stream",
     "text": [
      "/Users/mfisherlevine/anaconda/lib/python2.7/site-packages/numpy/lib/npyio.py:893: UserWarning: loadtxt: Empty input file: \"/Users/mfisherlevine/Downloads/160808_usaf1/04/usaf1_2016_08_08_10_55_24_841.txt\"\n",
      "  warnings.warn('loadtxt: Empty input file: \"%s\"' % fname)\n"
     ]
    },
    {
     "name": "stdout",
     "output_type": "stream",
     "text": [
      "Found 1 clusters in /Users/mfisherlevine/Downloads/160808_usaf1/07/usaf1_2016_08_08_13_18_14_032.txt - TCUT = 257\n",
      "Found 1 clusters in /Users/mfisherlevine/Downloads/160808_usaf1/07/usaf1_2016_08_08_13_16_42_798.txt - TCUT = 257\n",
      "Centroided 105000 frames\n"
     ]
    },
    {
     "name": "stderr",
     "output_type": "stream",
     "text": [
      "/Users/mfisherlevine/anaconda/lib/python2.7/site-packages/numpy/lib/npyio.py:893: UserWarning: loadtxt: Empty input file: \"/Users/mfisherlevine/Downloads/160808_usaf1/04/usaf1_2016_08_08_11_12_06_678.txt\"\n",
      "  warnings.warn('loadtxt: Empty input file: \"%s\"' % fname)\n"
     ]
    },
    {
     "name": "stdout",
     "output_type": "stream",
     "text": [
      "Found 1 clusters in /Users/mfisherlevine/Downloads/160808_usaf1/07/usaf1_2016_08_08_12_53_06_783.txt - TCUT = 257\n"
     ]
    },
    {
     "name": "stderr",
     "output_type": "stream",
     "text": [
      "/Users/mfisherlevine/anaconda/lib/python2.7/site-packages/numpy/lib/npyio.py:893: UserWarning: loadtxt: Empty input file: \"/Users/mfisherlevine/Downloads/160808_usaf1/00/usaf1_2016_08_08_07_55_37_095.txt\"\n",
      "  warnings.warn('loadtxt: Empty input file: \"%s\"' % fname)\n"
     ]
    },
    {
     "name": "stdout",
     "output_type": "stream",
     "text": [
      "Found 1 clusters in /Users/mfisherlevine/Downloads/160808_usaf1/01/usaf1_2016_08_08_08_26_36_776.txt - TCUT = 257\n",
      "Found 1 clusters in /Users/mfisherlevine/Downloads/160808_usaf1/04/usaf1_2016_08_08_10_59_41_804.txt - TCUT = 257\n",
      "Centroided 105500 frames\n",
      "Found 1 clusters in /Users/mfisherlevine/Downloads/160808_usaf1/04/usaf1_2016_08_08_11_18_39_602.txt - TCUT = 257\n"
     ]
    },
    {
     "name": "stderr",
     "output_type": "stream",
     "text": [
      "/Users/mfisherlevine/anaconda/lib/python2.7/site-packages/numpy/lib/npyio.py:893: UserWarning: loadtxt: Empty input file: \"/Users/mfisherlevine/Downloads/160808_usaf1/07/usaf1_2016_08_08_12_50_21_005.txt\"\n",
      "  warnings.warn('loadtxt: Empty input file: \"%s\"' % fname)\n"
     ]
    },
    {
     "name": "stdout",
     "output_type": "stream",
     "text": [
      "Found 1 clusters in /Users/mfisherlevine/Downloads/160808_usaf1/01/usaf1_2016_08_08_08_33_55_523.txt - TCUT = 257\n",
      "Found 1 clusters in /Users/mfisherlevine/Downloads/160808_usaf1/00/usaf1_2016_08_08_08_00_24_976.txt - TCUT = 257\n",
      "Centroided 106000 frames\n",
      "Found 1 clusters in /Users/mfisherlevine/Downloads/160808_usaf1/00/usaf1_2016_08_08_08_00_50_380.txt - TCUT = 257\n",
      "Found 1 clusters in /Users/mfisherlevine/Downloads/160808_usaf1/03/usaf1_2016_08_08_10_32_50_894.txt - TCUT = 257\n",
      "Found 1 clusters in /Users/mfisherlevine/Downloads/160808_usaf1/00/usaf1_2016_08_08_07_45_38_059.txt - TCUT = 257\n",
      "Centroided 106500 frames\n",
      "Found 1 clusters in /Users/mfisherlevine/Downloads/160808_usaf1/06/usaf1_2016_08_08_12_30_09_712.txt - TCUT = 257\n",
      "Centroided 107000 frames\n",
      "Found 1 clusters in /Users/mfisherlevine/Downloads/160808_usaf1/04/usaf1_2016_08_08_11_00_48_855.txt - TCUT = 257\n",
      "Found 1 clusters in /Users/mfisherlevine/Downloads/160808_usaf1/07/usaf1_2016_08_08_13_00_56_993.txt - TCUT = 257\n"
     ]
    },
    {
     "name": "stderr",
     "output_type": "stream",
     "text": [
      "/Users/mfisherlevine/anaconda/lib/python2.7/site-packages/numpy/lib/npyio.py:893: UserWarning: loadtxt: Empty input file: \"/Users/mfisherlevine/Downloads/160808_usaf1/04/usaf1_2016_08_08_10_41_54_763.txt\"\n",
      "  warnings.warn('loadtxt: Empty input file: \"%s\"' % fname)\n",
      "/Users/mfisherlevine/anaconda/lib/python2.7/site-packages/numpy/lib/npyio.py:893: UserWarning: loadtxt: Empty input file: \"/Users/mfisherlevine/Downloads/160808_usaf1/07/usaf1_2016_08_08_12_47_51_874.txt\"\n",
      "  warnings.warn('loadtxt: Empty input file: \"%s\"' % fname)\n",
      "/Users/mfisherlevine/anaconda/lib/python2.7/site-packages/numpy/lib/npyio.py:893: UserWarning: loadtxt: Empty input file: \"/Users/mfisherlevine/Downloads/160808_usaf1/04/usaf1_2016_08_08_11_10_22_701.txt\"\n",
      "  warnings.warn('loadtxt: Empty input file: \"%s\"' % fname)\n"
     ]
    },
    {
     "name": "stdout",
     "output_type": "stream",
     "text": [
      "Found 1 clusters in /Users/mfisherlevine/Downloads/160808_usaf1/05/usaf1_2016_08_08_12_01_02_661.txt - TCUT = 257\n",
      "Found 1 clusters in /Users/mfisherlevine/Downloads/160808_usaf1/04/usaf1_2016_08_08_10_44_04_166.txt - TCUT = 257\n",
      "Centroided 107500 frames\n",
      "Found 1 clusters in /Users/mfisherlevine/Downloads/160808_usaf1/00/usaf1_2016_08_08_07_54_57_738.txt - TCUT = 257\n",
      "Found 1 clusters in /Users/mfisherlevine/Downloads/160808_usaf1/05/usaf1_2016_08_08_11_46_00_956.txt - TCUT = 257\n",
      "Found 1 clusters in /Users/mfisherlevine/Downloads/160808_usaf1/04/usaf1_2016_08_08_11_02_08_430.txt - TCUT = 257\n"
     ]
    },
    {
     "name": "stderr",
     "output_type": "stream",
     "text": [
      "/Users/mfisherlevine/anaconda/lib/python2.7/site-packages/numpy/lib/npyio.py:893: UserWarning: loadtxt: Empty input file: \"/Users/mfisherlevine/Downloads/160808_usaf1/05/usaf1_2016_08_08_11_56_03_997.txt\"\n",
      "  warnings.warn('loadtxt: Empty input file: \"%s\"' % fname)\n"
     ]
    },
    {
     "name": "stdout",
     "output_type": "stream",
     "text": [
      "Found 1 clusters in /Users/mfisherlevine/Downloads/160808_usaf1/03/usaf1_2016_08_08_10_08_40_671.txt - TCUT = 257\n",
      "Centroided 108000 frames\n",
      "Found 1 clusters in /Users/mfisherlevine/Downloads/160808_usaf1/03/usaf1_2016_08_08_10_24_58_096.txt - TCUT = 257\n",
      "Centroided 108500 frames\n",
      "Found 1 clusters in /Users/mfisherlevine/Downloads/160808_usaf1/02/usaf1_2016_08_08_09_15_01_957.txt - TCUT = 257\n",
      "Found 1 clusters in /Users/mfisherlevine/Downloads/160808_usaf1/04/usaf1_2016_08_08_11_19_00_111.txt - TCUT = 257\n"
     ]
    },
    {
     "name": "stderr",
     "output_type": "stream",
     "text": [
      "/Users/mfisherlevine/anaconda/lib/python2.7/site-packages/numpy/lib/npyio.py:893: UserWarning: loadtxt: Empty input file: \"/Users/mfisherlevine/Downloads/160808_usaf1/04/usaf1_2016_08_08_10_59_00_627.txt\"\n",
      "  warnings.warn('loadtxt: Empty input file: \"%s\"' % fname)\n"
     ]
    },
    {
     "name": "stdout",
     "output_type": "stream",
     "text": [
      "Centroided 109000 frames\n"
     ]
    },
    {
     "name": "stderr",
     "output_type": "stream",
     "text": [
      "/Users/mfisherlevine/anaconda/lib/python2.7/site-packages/numpy/lib/npyio.py:893: UserWarning: loadtxt: Empty input file: \"/Users/mfisherlevine/Downloads/160808_usaf1/07/usaf1_2016_08_08_13_11_52_482.txt\"\n",
      "  warnings.warn('loadtxt: Empty input file: \"%s\"' % fname)\n",
      "/Users/mfisherlevine/anaconda/lib/python2.7/site-packages/numpy/lib/npyio.py:893: UserWarning: loadtxt: Empty input file: \"/Users/mfisherlevine/Downloads/160808_usaf1/03/usaf1_2016_08_08_09_56_13_858.txt\"\n",
      "  warnings.warn('loadtxt: Empty input file: \"%s\"' % fname)\n"
     ]
    },
    {
     "name": "stdout",
     "output_type": "stream",
     "text": [
      "Found 1 clusters in /Users/mfisherlevine/Downloads/160808_usaf1/06/usaf1_2016_08_08_12_38_22_238.txt - TCUT = 257\n",
      "Found 1 clusters in /Users/mfisherlevine/Downloads/160808_usaf1/07/usaf1_2016_08_08_13_19_10_217.txt - TCUT = 257\n",
      "Centroided 109500 frames\n"
     ]
    },
    {
     "name": "stderr",
     "output_type": "stream",
     "text": [
      "/Users/mfisherlevine/anaconda/lib/python2.7/site-packages/numpy/lib/npyio.py:893: UserWarning: loadtxt: Empty input file: \"/Users/mfisherlevine/Downloads/160808_usaf1/02/usaf1_2016_08_08_09_20_42_546.txt\"\n",
      "  warnings.warn('loadtxt: Empty input file: \"%s\"' % fname)\n"
     ]
    },
    {
     "name": "stdout",
     "output_type": "stream",
     "text": [
      "Centroided 110000 frames\n"
     ]
    },
    {
     "name": "stderr",
     "output_type": "stream",
     "text": [
      "/Users/mfisherlevine/anaconda/lib/python2.7/site-packages/numpy/lib/npyio.py:893: UserWarning: loadtxt: Empty input file: \"/Users/mfisherlevine/Downloads/160808_usaf1/05/usaf1_2016_08_08_12_02_08_908.txt\"\n",
      "  warnings.warn('loadtxt: Empty input file: \"%s\"' % fname)\n",
      "/Users/mfisherlevine/anaconda/lib/python2.7/site-packages/numpy/lib/npyio.py:893: UserWarning: loadtxt: Empty input file: \"/Users/mfisherlevine/Downloads/160808_usaf1/02/usaf1_2016_08_08_09_42_50_845.txt\"\n",
      "  warnings.warn('loadtxt: Empty input file: \"%s\"' % fname)\n"
     ]
    },
    {
     "name": "stdout",
     "output_type": "stream",
     "text": [
      "Found 1 clusters in /Users/mfisherlevine/Downloads/160808_usaf1/02/usaf1_2016_08_08_09_12_49_287.txt - TCUT = 257\n"
     ]
    },
    {
     "name": "stderr",
     "output_type": "stream",
     "text": [
      "/Users/mfisherlevine/anaconda/lib/python2.7/site-packages/numpy/lib/npyio.py:893: UserWarning: loadtxt: Empty input file: \"/Users/mfisherlevine/Downloads/160808_usaf1/06/usaf1_2016_08_08_12_44_38_726.txt\"\n",
      "  warnings.warn('loadtxt: Empty input file: \"%s\"' % fname)\n"
     ]
    },
    {
     "name": "stdout",
     "output_type": "stream",
     "text": [
      "Centroided 110500 frames\n",
      "Found 1 clusters in /Users/mfisherlevine/Downloads/160808_usaf1/01/usaf1_2016_08_08_08_31_34_272.txt - TCUT = 257\n"
     ]
    },
    {
     "name": "stderr",
     "output_type": "stream",
     "text": [
      "/Users/mfisherlevine/anaconda/lib/python2.7/site-packages/numpy/lib/npyio.py:893: UserWarning: loadtxt: Empty input file: \"/Users/mfisherlevine/Downloads/160808_usaf1/03/usaf1_2016_08_08_10_25_11_181.txt\"\n",
      "  warnings.warn('loadtxt: Empty input file: \"%s\"' % fname)\n"
     ]
    },
    {
     "name": "stdout",
     "output_type": "stream",
     "text": [
      "Found 1 clusters in /Users/mfisherlevine/Downloads/160808_usaf1/02/usaf1_2016_08_08_09_07_45_109.txt - TCUT = 257\n",
      "Found 1 clusters in /Users/mfisherlevine/Downloads/160808_usaf1/01/usaf1_2016_08_08_08_33_30_683.txt - TCUT = 257\n",
      "Found 1 clusters in /Users/mfisherlevine/Downloads/160808_usaf1/01/usaf1_2016_08_08_09_00_57_496.txt - TCUT = 257\n"
     ]
    },
    {
     "name": "stderr",
     "output_type": "stream",
     "text": [
      "/Users/mfisherlevine/anaconda/lib/python2.7/site-packages/numpy/lib/npyio.py:893: UserWarning: loadtxt: Empty input file: \"/Users/mfisherlevine/Downloads/160808_usaf1/00/usaf1_2016_08_08_08_19_49_823.txt\"\n",
      "  warnings.warn('loadtxt: Empty input file: \"%s\"' % fname)\n"
     ]
    },
    {
     "name": "stdout",
     "output_type": "stream",
     "text": [
      "Centroided 111000 frames\n",
      "Found 1 clusters in /Users/mfisherlevine/Downloads/160808_usaf1/05/usaf1_2016_08_08_11_47_37_776.txt - TCUT = 257\n",
      "Found 1 clusters in /Users/mfisherlevine/Downloads/160808_usaf1/06/usaf1_2016_08_08_12_04_57_050.txt - TCUT = 257\n",
      "Centroided 111500 frames\n",
      "Found 1 clusters in /Users/mfisherlevine/Downloads/160808_usaf1/07/usaf1_2016_08_08_13_05_04_272.txt - TCUT = 257\n",
      "Found 1 clusters in /Users/mfisherlevine/Downloads/160808_usaf1/05/usaf1_2016_08_08_11_54_19_614.txt - TCUT = 257\n"
     ]
    },
    {
     "name": "stderr",
     "output_type": "stream",
     "text": [
      "/Users/mfisherlevine/anaconda/lib/python2.7/site-packages/numpy/lib/npyio.py:893: UserWarning: loadtxt: Empty input file: \"/Users/mfisherlevine/Downloads/160808_usaf1/07/usaf1_2016_08_08_13_03_16_566.txt\"\n",
      "  warnings.warn('loadtxt: Empty input file: \"%s\"' % fname)\n",
      "/Users/mfisherlevine/anaconda/lib/python2.7/site-packages/numpy/lib/npyio.py:893: UserWarning: loadtxt: Empty input file: \"/Users/mfisherlevine/Downloads/160808_usaf1/02/usaf1_2016_08_08_09_28_20_977.txt\"\n",
      "  warnings.warn('loadtxt: Empty input file: \"%s\"' % fname)\n"
     ]
    },
    {
     "name": "stdout",
     "output_type": "stream",
     "text": [
      "Found 1 clusters in /Users/mfisherlevine/Downloads/160808_usaf1/02/usaf1_2016_08_08_09_10_29_453.txt - TCUT = 257\n"
     ]
    },
    {
     "name": "stderr",
     "output_type": "stream",
     "text": [
      "/Users/mfisherlevine/anaconda/lib/python2.7/site-packages/numpy/lib/npyio.py:893: UserWarning: loadtxt: Empty input file: \"/Users/mfisherlevine/Downloads/160808_usaf1/00/usaf1_2016_08_08_07_49_23_250.txt\"\n",
      "  warnings.warn('loadtxt: Empty input file: \"%s\"' % fname)\n",
      "/Users/mfisherlevine/anaconda/lib/python2.7/site-packages/numpy/lib/npyio.py:893: UserWarning: loadtxt: Empty input file: \"/Users/mfisherlevine/Downloads/160808_usaf1/06/usaf1_2016_08_08_12_18_22_066.txt\"\n",
      "  warnings.warn('loadtxt: Empty input file: \"%s\"' % fname)\n",
      "/Users/mfisherlevine/anaconda/lib/python2.7/site-packages/numpy/lib/npyio.py:893: UserWarning: loadtxt: Empty input file: \"/Users/mfisherlevine/Downloads/160808_usaf1/05/usaf1_2016_08_08_11_45_33_112.txt\"\n",
      "  warnings.warn('loadtxt: Empty input file: \"%s\"' % fname)\n"
     ]
    },
    {
     "name": "stdout",
     "output_type": "stream",
     "text": [
      "Centroided 112000 frames\n"
     ]
    },
    {
     "name": "stderr",
     "output_type": "stream",
     "text": [
      "/Users/mfisherlevine/anaconda/lib/python2.7/site-packages/numpy/lib/npyio.py:893: UserWarning: loadtxt: Empty input file: \"/Users/mfisherlevine/Downloads/160808_usaf1/07/usaf1_2016_08_08_13_00_40_672.txt\"\n",
      "  warnings.warn('loadtxt: Empty input file: \"%s\"' % fname)\n"
     ]
    },
    {
     "name": "stdout",
     "output_type": "stream",
     "text": [
      "Found 1 clusters in /Users/mfisherlevine/Downloads/160808_usaf1/07/usaf1_2016_08_08_13_21_17_273.txt - TCUT = 257\n"
     ]
    },
    {
     "name": "stderr",
     "output_type": "stream",
     "text": [
      "/Users/mfisherlevine/anaconda/lib/python2.7/site-packages/numpy/lib/npyio.py:893: UserWarning: loadtxt: Empty input file: \"/Users/mfisherlevine/Downloads/160808_usaf1/01/usaf1_2016_08_08_08_24_12_564.txt\"\n",
      "  warnings.warn('loadtxt: Empty input file: \"%s\"' % fname)\n"
     ]
    },
    {
     "name": "stdout",
     "output_type": "stream",
     "text": [
      "Centroided 112500 frames\n",
      "Found 1 clusters in /Users/mfisherlevine/Downloads/160808_usaf1/02/usaf1_2016_08_08_09_14_59_046.txt - TCUT = 257\n"
     ]
    },
    {
     "name": "stderr",
     "output_type": "stream",
     "text": [
      "/Users/mfisherlevine/anaconda/lib/python2.7/site-packages/numpy/lib/npyio.py:893: UserWarning: loadtxt: Empty input file: \"/Users/mfisherlevine/Downloads/160808_usaf1/05/usaf1_2016_08_08_11_30_51_099.txt\"\n",
      "  warnings.warn('loadtxt: Empty input file: \"%s\"' % fname)\n"
     ]
    },
    {
     "name": "stdout",
     "output_type": "stream",
     "text": [
      "Found 1 clusters in /Users/mfisherlevine/Downloads/160808_usaf1/01/usaf1_2016_08_08_08_58_35_820.txt - TCUT = 257\n",
      "Found 1 clusters in /Users/mfisherlevine/Downloads/160808_usaf1/05/usaf1_2016_08_08_11_45_43_011.txt - TCUT = 257\n",
      "Found 1 clusters in /Users/mfisherlevine/Downloads/160808_usaf1/06/usaf1_2016_08_08_12_35_17_282.txt - TCUT = 257\n",
      "Centroided 113000 frames\n"
     ]
    },
    {
     "name": "stderr",
     "output_type": "stream",
     "text": [
      "/Users/mfisherlevine/anaconda/lib/python2.7/site-packages/numpy/lib/npyio.py:893: UserWarning: loadtxt: Empty input file: \"/Users/mfisherlevine/Downloads/160808_usaf1/03/usaf1_2016_08_08_10_07_29_829.txt\"\n",
      "  warnings.warn('loadtxt: Empty input file: \"%s\"' % fname)\n"
     ]
    },
    {
     "name": "stdout",
     "output_type": "stream",
     "text": [
      "Found 1 clusters in /Users/mfisherlevine/Downloads/160808_usaf1/06/usaf1_2016_08_08_12_15_30_827.txt - TCUT = 257\n"
     ]
    },
    {
     "name": "stderr",
     "output_type": "stream",
     "text": [
      "/Users/mfisherlevine/anaconda/lib/python2.7/site-packages/numpy/lib/npyio.py:893: UserWarning: loadtxt: Empty input file: \"/Users/mfisherlevine/Downloads/160808_usaf1/02/usaf1_2016_08_08_09_22_15_924.txt\"\n",
      "  warnings.warn('loadtxt: Empty input file: \"%s\"' % fname)\n",
      "/Users/mfisherlevine/anaconda/lib/python2.7/site-packages/numpy/lib/npyio.py:893: UserWarning: loadtxt: Empty input file: \"/Users/mfisherlevine/Downloads/160808_usaf1/04/usaf1_2016_08_08_10_52_21_906.txt\"\n",
      "  warnings.warn('loadtxt: Empty input file: \"%s\"' % fname)\n"
     ]
    },
    {
     "name": "stdout",
     "output_type": "stream",
     "text": [
      "Centroided 113500 frames\n",
      "Found 1 clusters in /Users/mfisherlevine/Downloads/160808_usaf1/01/usaf1_2016_08_08_08_54_36_693.txt - TCUT = 257\n"
     ]
    },
    {
     "name": "stderr",
     "output_type": "stream",
     "text": [
      "/Users/mfisherlevine/anaconda/lib/python2.7/site-packages/numpy/lib/npyio.py:893: UserWarning: loadtxt: Empty input file: \"/Users/mfisherlevine/Downloads/160808_usaf1/07/usaf1_2016_08_08_13_21_33_244.txt\"\n",
      "  warnings.warn('loadtxt: Empty input file: \"%s\"' % fname)\n",
      "/Users/mfisherlevine/anaconda/lib/python2.7/site-packages/numpy/lib/npyio.py:893: UserWarning: loadtxt: Empty input file: \"/Users/mfisherlevine/Downloads/160808_usaf1/02/usaf1_2016_08_08_09_22_40_309.txt\"\n",
      "  warnings.warn('loadtxt: Empty input file: \"%s\"' % fname)\n"
     ]
    },
    {
     "name": "stdout",
     "output_type": "stream",
     "text": [
      "Found 1 clusters in /Users/mfisherlevine/Downloads/160808_usaf1/02/usaf1_2016_08_08_09_32_38_727.txt - TCUT = 257\n"
     ]
    },
    {
     "name": "stderr",
     "output_type": "stream",
     "text": [
      "/Users/mfisherlevine/anaconda/lib/python2.7/site-packages/numpy/lib/npyio.py:893: UserWarning: loadtxt: Empty input file: \"/Users/mfisherlevine/Downloads/160808_usaf1/01/usaf1_2016_08_08_08_31_23_354.txt\"\n",
      "  warnings.warn('loadtxt: Empty input file: \"%s\"' % fname)\n"
     ]
    },
    {
     "name": "stdout",
     "output_type": "stream",
     "text": [
      "Centroided 114000 frames\n",
      "Found 1 clusters in /Users/mfisherlevine/Downloads/160808_usaf1/00/usaf1_2016_08_08_07_55_17_327.txt - TCUT = 257\n",
      "Centroided 114500 frames\n",
      "Found 1 clusters in /Users/mfisherlevine/Downloads/160808_usaf1/05/usaf1_2016_08_08_11_29_51_138.txt - TCUT = 257\n",
      "Found 1 clusters in /Users/mfisherlevine/Downloads/160808_usaf1/00/usaf1_2016_08_08_07_53_14_673.txt - TCUT = 257\n",
      "Centroided 115000 frames\n",
      "Found 1 clusters in /Users/mfisherlevine/Downloads/160808_usaf1/04/usaf1_2016_08_08_11_04_33_520.txt - TCUT = 257\n",
      "Centroided 115500 frames\n",
      "Found 1 clusters in /Users/mfisherlevine/Downloads/160808_usaf1/03/usaf1_2016_08_08_10_19_38_337.txt - TCUT = 257\n",
      "Found 1 clusters in /Users/mfisherlevine/Downloads/160808_usaf1/01/usaf1_2016_08_08_08_52_24_851.txt - TCUT = 257\n",
      "Found 1 clusters in /Users/mfisherlevine/Downloads/160808_usaf1/07/usaf1_2016_08_08_12_52_55_913.txt - TCUT = 257\n",
      "Found 1 clusters in /Users/mfisherlevine/Downloads/160808_usaf1/07/usaf1_2016_08_08_13_00_18_708.txt - TCUT = 257\n",
      "Found 1 clusters in /Users/mfisherlevine/Downloads/160808_usaf1/04/usaf1_2016_08_08_10_50_27_602.txt - TCUT = 257\n",
      "Centroided 116000 frames\n",
      "Centroided 116500 frames\n"
     ]
    },
    {
     "name": "stderr",
     "output_type": "stream",
     "text": [
      "/Users/mfisherlevine/anaconda/lib/python2.7/site-packages/numpy/lib/npyio.py:893: UserWarning: loadtxt: Empty input file: \"/Users/mfisherlevine/Downloads/160808_usaf1/05/usaf1_2016_08_08_11_22_47_915.txt\"\n",
      "  warnings.warn('loadtxt: Empty input file: \"%s\"' % fname)\n"
     ]
    },
    {
     "name": "stdout",
     "output_type": "stream",
     "text": [
      "Found 1 clusters in /Users/mfisherlevine/Downloads/160808_usaf1/03/usaf1_2016_08_08_10_12_48_090.txt - TCUT = 257\n"
     ]
    },
    {
     "name": "stderr",
     "output_type": "stream",
     "text": [
      "/Users/mfisherlevine/anaconda/lib/python2.7/site-packages/numpy/lib/npyio.py:893: UserWarning: loadtxt: Empty input file: \"/Users/mfisherlevine/Downloads/160808_usaf1/01/usaf1_2016_08_08_08_59_12_936.txt\"\n",
      "  warnings.warn('loadtxt: Empty input file: \"%s\"' % fname)\n"
     ]
    },
    {
     "name": "stdout",
     "output_type": "stream",
     "text": [
      "Centroided 117000 frames\n"
     ]
    },
    {
     "name": "stderr",
     "output_type": "stream",
     "text": [
      "/Users/mfisherlevine/anaconda/lib/python2.7/site-packages/numpy/lib/npyio.py:893: UserWarning: loadtxt: Empty input file: \"/Users/mfisherlevine/Downloads/160808_usaf1/05/usaf1_2016_08_08_11_53_41_324.txt\"\n",
      "  warnings.warn('loadtxt: Empty input file: \"%s\"' % fname)\n"
     ]
    },
    {
     "name": "stdout",
     "output_type": "stream",
     "text": [
      "Found 1 clusters in /Users/mfisherlevine/Downloads/160808_usaf1/07/usaf1_2016_08_08_12_56_58_173.txt - TCUT = 257\n",
      "Found 1 clusters in /Users/mfisherlevine/Downloads/160808_usaf1/07/usaf1_2016_08_08_12_53_40_681.txt - TCUT = 257\n",
      "Centroided 117500 frames\n"
     ]
    },
    {
     "name": "stderr",
     "output_type": "stream",
     "text": [
      "/Users/mfisherlevine/anaconda/lib/python2.7/site-packages/numpy/lib/npyio.py:893: UserWarning: loadtxt: Empty input file: \"/Users/mfisherlevine/Downloads/160808_usaf1/05/usaf1_2016_08_08_11_55_40_781.txt\"\n",
      "  warnings.warn('loadtxt: Empty input file: \"%s\"' % fname)\n"
     ]
    },
    {
     "name": "stdout",
     "output_type": "stream",
     "text": [
      "Found 1 clusters in /Users/mfisherlevine/Downloads/160808_usaf1/06/usaf1_2016_08_08_12_40_49_195.txt - TCUT = 257\n",
      "Found 1 clusters in /Users/mfisherlevine/Downloads/160808_usaf1/02/usaf1_2016_08_08_09_21_28_311.txt - TCUT = 257\n"
     ]
    },
    {
     "name": "stderr",
     "output_type": "stream",
     "text": [
      "/Users/mfisherlevine/anaconda/lib/python2.7/site-packages/numpy/lib/npyio.py:893: UserWarning: loadtxt: Empty input file: \"/Users/mfisherlevine/Downloads/160808_usaf1/05/usaf1_2016_08_08_11_24_48_073.txt\"\n",
      "  warnings.warn('loadtxt: Empty input file: \"%s\"' % fname)\n"
     ]
    },
    {
     "name": "stdout",
     "output_type": "stream",
     "text": [
      "Found 1 clusters in /Users/mfisherlevine/Downloads/160808_usaf1/07/usaf1_2016_08_08_13_04_29_784.txt - TCUT = 257\n",
      "Centroided 118000 frames\n",
      "Found 1 clusters in /Users/mfisherlevine/Downloads/160808_usaf1/01/usaf1_2016_08_08_08_45_01_681.txt - TCUT = 257\n"
     ]
    },
    {
     "name": "stderr",
     "output_type": "stream",
     "text": [
      "/Users/mfisherlevine/anaconda/lib/python2.7/site-packages/numpy/lib/npyio.py:893: UserWarning: loadtxt: Empty input file: \"/Users/mfisherlevine/Downloads/160808_usaf1/01/usaf1_2016_08_08_08_42_03_051.txt\"\n",
      "  warnings.warn('loadtxt: Empty input file: \"%s\"' % fname)\n"
     ]
    },
    {
     "name": "stdout",
     "output_type": "stream",
     "text": [
      "Found 1 clusters in /Users/mfisherlevine/Downloads/160808_usaf1/06/usaf1_2016_08_08_12_39_36_287.txt - TCUT = 257\n"
     ]
    },
    {
     "name": "stderr",
     "output_type": "stream",
     "text": [
      "/Users/mfisherlevine/anaconda/lib/python2.7/site-packages/numpy/lib/npyio.py:893: UserWarning: loadtxt: Empty input file: \"/Users/mfisherlevine/Downloads/160808_usaf1/00/usaf1_2016_08_08_08_16_24_928.txt\"\n",
      "  warnings.warn('loadtxt: Empty input file: \"%s\"' % fname)\n"
     ]
    },
    {
     "name": "stdout",
     "output_type": "stream",
     "text": [
      "Found 1 clusters in /Users/mfisherlevine/Downloads/160808_usaf1/02/usaf1_2016_08_08_09_14_32_791.txt - TCUT = 257\n",
      "Centroided 118500 frames\n",
      "Found 1 clusters in /Users/mfisherlevine/Downloads/160808_usaf1/00/usaf1_2016_08_08_08_05_48_511.txt - TCUT = 257\n"
     ]
    },
    {
     "name": "stderr",
     "output_type": "stream",
     "text": [
      "/Users/mfisherlevine/anaconda/lib/python2.7/site-packages/numpy/lib/npyio.py:893: UserWarning: loadtxt: Empty input file: \"/Users/mfisherlevine/Downloads/160808_usaf1/02/usaf1_2016_08_08_09_37_08_774.txt\"\n",
      "  warnings.warn('loadtxt: Empty input file: \"%s\"' % fname)\n"
     ]
    },
    {
     "name": "stdout",
     "output_type": "stream",
     "text": [
      "Found 1 clusters in /Users/mfisherlevine/Downloads/160808_usaf1/06/usaf1_2016_08_08_12_06_23_868.txt - TCUT = 257\n",
      "Found 1 clusters in /Users/mfisherlevine/Downloads/160808_usaf1/03/usaf1_2016_08_08_10_31_18_190.txt - TCUT = 257\n",
      "Centroided 119000 frames\n",
      "Found 1 clusters in /Users/mfisherlevine/Downloads/160808_usaf1/01/usaf1_2016_08_08_08_58_26_224.txt - TCUT = 257\n",
      "Found 1 clusters in /Users/mfisherlevine/Downloads/160808_usaf1/01/usaf1_2016_08_08_08_24_36_573.txt - TCUT = 257\n",
      "Found 1 clusters in /Users/mfisherlevine/Downloads/160808_usaf1/06/usaf1_2016_08_08_12_09_23_785.txt - TCUT = 257\n"
     ]
    },
    {
     "name": "stderr",
     "output_type": "stream",
     "text": [
      "/Users/mfisherlevine/anaconda/lib/python2.7/site-packages/numpy/lib/npyio.py:893: UserWarning: loadtxt: Empty input file: \"/Users/mfisherlevine/Downloads/160808_usaf1/02/usaf1_2016_08_08_09_17_03_829.txt\"\n",
      "  warnings.warn('loadtxt: Empty input file: \"%s\"' % fname)\n"
     ]
    },
    {
     "name": "stdout",
     "output_type": "stream",
     "text": [
      "Centroided 119500 frames\n"
     ]
    },
    {
     "name": "stderr",
     "output_type": "stream",
     "text": [
      "/Users/mfisherlevine/anaconda/lib/python2.7/site-packages/numpy/lib/npyio.py:893: UserWarning: loadtxt: Empty input file: \"/Users/mfisherlevine/Downloads/160808_usaf1/02/usaf1_2016_08_08_09_37_24_485.txt\"\n",
      "  warnings.warn('loadtxt: Empty input file: \"%s\"' % fname)\n"
     ]
    },
    {
     "name": "stdout",
     "output_type": "stream",
     "text": [
      "Found 1 clusters in /Users/mfisherlevine/Downloads/160808_usaf1/02/usaf1_2016_08_08_09_27_35_815.txt - TCUT = 257\n"
     ]
    },
    {
     "name": "stderr",
     "output_type": "stream",
     "text": [
      "/Users/mfisherlevine/anaconda/lib/python2.7/site-packages/numpy/lib/npyio.py:893: UserWarning: loadtxt: Empty input file: \"/Users/mfisherlevine/Downloads/160808_usaf1/04/usaf1_2016_08_08_10_53_24_132.txt\"\n",
      "  warnings.warn('loadtxt: Empty input file: \"%s\"' % fname)\n"
     ]
    },
    {
     "name": "stdout",
     "output_type": "stream",
     "text": [
      "Centroided 120000 frames\n",
      "Found 1 clusters in /Users/mfisherlevine/Downloads/160808_usaf1/03/usaf1_2016_08_08_10_06_48_523.txt - TCUT = 257\n"
     ]
    },
    {
     "name": "stderr",
     "output_type": "stream",
     "text": [
      "/Users/mfisherlevine/anaconda/lib/python2.7/site-packages/numpy/lib/npyio.py:893: UserWarning: loadtxt: Empty input file: \"/Users/mfisherlevine/Downloads/160808_usaf1/04/usaf1_2016_08_08_11_14_10_937.txt\"\n",
      "  warnings.warn('loadtxt: Empty input file: \"%s\"' % fname)\n"
     ]
    },
    {
     "name": "stdout",
     "output_type": "stream",
     "text": [
      "Found 1 clusters in /Users/mfisherlevine/Downloads/160808_usaf1/07/usaf1_2016_08_08_13_15_32_457.txt - TCUT = 257\n",
      "Found 1 clusters in /Users/mfisherlevine/Downloads/160808_usaf1/02/usaf1_2016_08_08_09_22_38_874.txt - TCUT = 257\n",
      "Centroided 120500 frames\n",
      "Found 1 clusters in /Users/mfisherlevine/Downloads/160808_usaf1/07/usaf1_2016_08_08_12_53_50_553.txt - TCUT = 257\n",
      "Found 1 clusters in /Users/mfisherlevine/Downloads/160808_usaf1/04/usaf1_2016_08_08_10_50_14_403.txt - TCUT = 257\n",
      "Centroided 121000 frames\n",
      "Found 1 clusters in /Users/mfisherlevine/Downloads/160808_usaf1/01/usaf1_2016_08_08_08_38_56_049.txt - TCUT = 257\n",
      "Centroided 121500 frames\n",
      "Centroided 122000 frames\n",
      "Found 1 clusters in /Users/mfisherlevine/Downloads/160808_usaf1/04/usaf1_2016_08_08_11_10_03_507.txt - TCUT = 257\n",
      "Found 1 clusters in /Users/mfisherlevine/Downloads/160808_usaf1/07/usaf1_2016_08_08_13_16_09_494.txt - TCUT = 257\n",
      "Centroided 122500 frames\n",
      "Found 1 clusters in /Users/mfisherlevine/Downloads/160808_usaf1/07/usaf1_2016_08_08_12_48_52_072.txt - TCUT = 257\n",
      "Found 1 clusters in /Users/mfisherlevine/Downloads/160808_usaf1/05/usaf1_2016_08_08_11_59_30_856.txt - TCUT = 257\n",
      "Found 1 clusters in /Users/mfisherlevine/Downloads/160808_usaf1/06/usaf1_2016_08_08_12_38_04_734.txt - TCUT = 257\n",
      "Centroided 123000 frames\n"
     ]
    },
    {
     "name": "stderr",
     "output_type": "stream",
     "text": [
      "/Users/mfisherlevine/anaconda/lib/python2.7/site-packages/numpy/lib/npyio.py:893: UserWarning: loadtxt: Empty input file: \"/Users/mfisherlevine/Downloads/160808_usaf1/03/usaf1_2016_08_08_09_56_07_869.txt\"\n",
      "  warnings.warn('loadtxt: Empty input file: \"%s\"' % fname)\n"
     ]
    },
    {
     "name": "stdout",
     "output_type": "stream",
     "text": [
      "Found 1 clusters in /Users/mfisherlevine/Downloads/160808_usaf1/02/usaf1_2016_08_08_09_38_02_183.txt - TCUT = 257\n"
     ]
    },
    {
     "name": "stderr",
     "output_type": "stream",
     "text": [
      "/Users/mfisherlevine/anaconda/lib/python2.7/site-packages/numpy/lib/npyio.py:893: UserWarning: loadtxt: Empty input file: \"/Users/mfisherlevine/Downloads/160808_usaf1/03/usaf1_2016_08_08_10_08_07_684.txt\"\n",
      "  warnings.warn('loadtxt: Empty input file: \"%s\"' % fname)\n"
     ]
    },
    {
     "name": "stdout",
     "output_type": "stream",
     "text": [
      "Found 1 clusters in /Users/mfisherlevine/Downloads/160808_usaf1/01/usaf1_2016_08_08_09_01_18_233.txt - TCUT = 257\n"
     ]
    },
    {
     "name": "stderr",
     "output_type": "stream",
     "text": [
      "/Users/mfisherlevine/anaconda/lib/python2.7/site-packages/numpy/lib/npyio.py:893: UserWarning: loadtxt: Empty input file: \"/Users/mfisherlevine/Downloads/160808_usaf1/06/usaf1_2016_08_08_12_21_03_480.txt\"\n",
      "  warnings.warn('loadtxt: Empty input file: \"%s\"' % fname)\n",
      "/Users/mfisherlevine/anaconda/lib/python2.7/site-packages/numpy/lib/npyio.py:893: UserWarning: loadtxt: Empty input file: \"/Users/mfisherlevine/Downloads/160808_usaf1/04/usaf1_2016_08_08_10_48_25_090.txt\"\n",
      "  warnings.warn('loadtxt: Empty input file: \"%s\"' % fname)\n"
     ]
    },
    {
     "name": "stdout",
     "output_type": "stream",
     "text": [
      "Centroided 123500 frames\n",
      "Found 1 clusters in /Users/mfisherlevine/Downloads/160808_usaf1/07/usaf1_2016_08_08_13_23_36_883.txt - TCUT = 257\n",
      "Found 1 clusters in /Users/mfisherlevine/Downloads/160808_usaf1/01/usaf1_2016_08_08_08_27_32_057.txt - TCUT = 257\n",
      "Found 1 clusters in /Users/mfisherlevine/Downloads/160808_usaf1/06/usaf1_2016_08_08_12_36_44_802.txt - TCUT = 257\n",
      "Found 1 clusters in /Users/mfisherlevine/Downloads/160808_usaf1/05/usaf1_2016_08_08_12_01_44_038.txt - TCUT = 257\n",
      "Found 1 clusters in /Users/mfisherlevine/Downloads/160808_usaf1/06/usaf1_2016_08_08_12_09_47_234.txt - TCUT = 257\n",
      "Centroided 124000 frames\n",
      "Found 1 clusters in /Users/mfisherlevine/Downloads/160808_usaf1/02/usaf1_2016_08_08_09_35_54_181.txt - TCUT = 257\n",
      "Found 1 clusters in /Users/mfisherlevine/Downloads/160808_usaf1/07/usaf1_2016_08_08_12_53_17_592.txt - TCUT = 257\n"
     ]
    },
    {
     "name": "stderr",
     "output_type": "stream",
     "text": [
      "/Users/mfisherlevine/anaconda/lib/python2.7/site-packages/numpy/lib/npyio.py:893: UserWarning: loadtxt: Empty input file: \"/Users/mfisherlevine/Downloads/160808_usaf1/03/usaf1_2016_08_08_10_06_59_779.txt\"\n",
      "  warnings.warn('loadtxt: Empty input file: \"%s\"' % fname)\n"
     ]
    },
    {
     "name": "stdout",
     "output_type": "stream",
     "text": [
      "Centroided 124500 frames\n"
     ]
    },
    {
     "name": "stderr",
     "output_type": "stream",
     "text": [
      "/Users/mfisherlevine/anaconda/lib/python2.7/site-packages/numpy/lib/npyio.py:893: UserWarning: loadtxt: Empty input file: \"/Users/mfisherlevine/Downloads/160808_usaf1/07/usaf1_2016_08_08_13_10_53_652.txt\"\n",
      "  warnings.warn('loadtxt: Empty input file: \"%s\"' % fname)\n"
     ]
    },
    {
     "name": "stdout",
     "output_type": "stream",
     "text": [
      "Found 1 clusters in /Users/mfisherlevine/Downloads/160808_usaf1/07/usaf1_2016_08_08_12_58_22_712.txt - TCUT = 257\n",
      "Centroided 125000 frames\n"
     ]
    },
    {
     "name": "stderr",
     "output_type": "stream",
     "text": [
      "/Users/mfisherlevine/anaconda/lib/python2.7/site-packages/numpy/lib/npyio.py:893: UserWarning: loadtxt: Empty input file: \"/Users/mfisherlevine/Downloads/160808_usaf1/04/usaf1_2016_08_08_11_10_36_408.txt\"\n",
      "  warnings.warn('loadtxt: Empty input file: \"%s\"' % fname)\n"
     ]
    },
    {
     "name": "stdout",
     "output_type": "stream",
     "text": [
      "Found 1 clusters in /Users/mfisherlevine/Downloads/160808_usaf1/06/usaf1_2016_08_08_12_43_18_835.txt - TCUT = 257\n",
      "Found 1 clusters in /Users/mfisherlevine/Downloads/160808_usaf1/01/usaf1_2016_08_08_09_00_12_787.txt - TCUT = 257\n",
      "Found 1 clusters in /Users/mfisherlevine/Downloads/160808_usaf1/00/usaf1_2016_08_08_07_55_16_857.txt - TCUT = 257\n",
      "Centroided 125500 frames\n",
      "Found 1 clusters in /Users/mfisherlevine/Downloads/160808_usaf1/07/usaf1_2016_08_08_13_03_25_653.txt - TCUT = 257\n",
      "Centroided 126000 frames\n"
     ]
    },
    {
     "name": "stderr",
     "output_type": "stream",
     "text": [
      "/Users/mfisherlevine/anaconda/lib/python2.7/site-packages/numpy/lib/npyio.py:893: UserWarning: loadtxt: Empty input file: \"/Users/mfisherlevine/Downloads/160808_usaf1/05/usaf1_2016_08_08_12_00_06_840.txt\"\n",
      "  warnings.warn('loadtxt: Empty input file: \"%s\"' % fname)\n"
     ]
    },
    {
     "name": "stdout",
     "output_type": "stream",
     "text": [
      "Centroided 126500 frames\n"
     ]
    },
    {
     "name": "stderr",
     "output_type": "stream",
     "text": [
      "/Users/mfisherlevine/anaconda/lib/python2.7/site-packages/numpy/lib/npyio.py:893: UserWarning: loadtxt: Empty input file: \"/Users/mfisherlevine/Downloads/160808_usaf1/05/usaf1_2016_08_08_11_33_33_537.txt\"\n",
      "  warnings.warn('loadtxt: Empty input file: \"%s\"' % fname)\n"
     ]
    },
    {
     "name": "stdout",
     "output_type": "stream",
     "text": [
      "Found 1 clusters in /Users/mfisherlevine/Downloads/160808_usaf1/00/usaf1_2016_08_08_08_09_51_181.txt - TCUT = 257\n"
     ]
    },
    {
     "name": "stderr",
     "output_type": "stream",
     "text": [
      "/Users/mfisherlevine/anaconda/lib/python2.7/site-packages/numpy/lib/npyio.py:893: UserWarning: loadtxt: Empty input file: \"/Users/mfisherlevine/Downloads/160808_usaf1/01/usaf1_2016_08_08_08_56_35_136.txt\"\n",
      "  warnings.warn('loadtxt: Empty input file: \"%s\"' % fname)\n",
      "/Users/mfisherlevine/anaconda/lib/python2.7/site-packages/numpy/lib/npyio.py:893: UserWarning: loadtxt: Empty input file: \"/Users/mfisherlevine/Downloads/160808_usaf1/04/usaf1_2016_08_08_11_03_38_397.txt\"\n",
      "  warnings.warn('loadtxt: Empty input file: \"%s\"' % fname)\n"
     ]
    },
    {
     "name": "stdout",
     "output_type": "stream",
     "text": [
      "Found 1 clusters in /Users/mfisherlevine/Downloads/160808_usaf1/06/usaf1_2016_08_08_12_23_21_339.txt - TCUT = 257\n",
      "Found 1 clusters in /Users/mfisherlevine/Downloads/160808_usaf1/01/usaf1_2016_08_08_09_01_31_778.txt - TCUT = 257\n",
      "Centroided 127000 frames\n"
     ]
    },
    {
     "name": "stderr",
     "output_type": "stream",
     "text": [
      "/Users/mfisherlevine/anaconda/lib/python2.7/site-packages/numpy/lib/npyio.py:893: UserWarning: loadtxt: Empty input file: \"/Users/mfisherlevine/Downloads/160808_usaf1/04/usaf1_2016_08_08_11_17_35_288.txt\"\n",
      "  warnings.warn('loadtxt: Empty input file: \"%s\"' % fname)\n"
     ]
    },
    {
     "name": "stdout",
     "output_type": "stream",
     "text": [
      "Centroided 127500 frames\n"
     ]
    },
    {
     "name": "stderr",
     "output_type": "stream",
     "text": [
      "/Users/mfisherlevine/anaconda/lib/python2.7/site-packages/numpy/lib/npyio.py:893: UserWarning: loadtxt: Empty input file: \"/Users/mfisherlevine/Downloads/160808_usaf1/00/usaf1_2016_08_08_08_08_22_343.txt\"\n",
      "  warnings.warn('loadtxt: Empty input file: \"%s\"' % fname)\n",
      "/Users/mfisherlevine/anaconda/lib/python2.7/site-packages/numpy/lib/npyio.py:893: UserWarning: loadtxt: Empty input file: \"/Users/mfisherlevine/Downloads/160808_usaf1/07/usaf1_2016_08_08_13_10_09_999.txt\"\n",
      "  warnings.warn('loadtxt: Empty input file: \"%s\"' % fname)\n"
     ]
    },
    {
     "name": "stdout",
     "output_type": "stream",
     "text": [
      "Found 1 clusters in /Users/mfisherlevine/Downloads/160808_usaf1/06/usaf1_2016_08_08_12_07_25_449.txt - TCUT = 257\n"
     ]
    },
    {
     "name": "stderr",
     "output_type": "stream",
     "text": [
      "/Users/mfisherlevine/anaconda/lib/python2.7/site-packages/numpy/lib/npyio.py:893: UserWarning: loadtxt: Empty input file: \"/Users/mfisherlevine/Downloads/160808_usaf1/03/usaf1_2016_08_08_10_04_17_565.txt\"\n",
      "  warnings.warn('loadtxt: Empty input file: \"%s\"' % fname)\n"
     ]
    },
    {
     "name": "stdout",
     "output_type": "stream",
     "text": [
      "Centroided 128000 frames\n"
     ]
    },
    {
     "name": "stderr",
     "output_type": "stream",
     "text": [
      "/Users/mfisherlevine/anaconda/lib/python2.7/site-packages/numpy/lib/npyio.py:893: UserWarning: loadtxt: Empty input file: \"/Users/mfisherlevine/Downloads/160808_usaf1/07/usaf1_2016_08_08_13_14_19_288.txt\"\n",
      "  warnings.warn('loadtxt: Empty input file: \"%s\"' % fname)\n"
     ]
    },
    {
     "name": "stdout",
     "output_type": "stream",
     "text": [
      "Found 1 clusters in /Users/mfisherlevine/Downloads/160808_usaf1/02/usaf1_2016_08_08_09_07_38_757.txt - TCUT = 257\n"
     ]
    },
    {
     "name": "stderr",
     "output_type": "stream",
     "text": [
      "/Users/mfisherlevine/anaconda/lib/python2.7/site-packages/numpy/lib/npyio.py:893: UserWarning: loadtxt: Empty input file: \"/Users/mfisherlevine/Downloads/160808_usaf1/06/usaf1_2016_08_08_12_20_20_630.txt\"\n",
      "  warnings.warn('loadtxt: Empty input file: \"%s\"' % fname)\n"
     ]
    },
    {
     "name": "stdout",
     "output_type": "stream",
     "text": [
      "Centroided 128500 frames\n"
     ]
    },
    {
     "name": "stderr",
     "output_type": "stream",
     "text": [
      "/Users/mfisherlevine/anaconda/lib/python2.7/site-packages/numpy/lib/npyio.py:893: UserWarning: loadtxt: Empty input file: \"/Users/mfisherlevine/Downloads/160808_usaf1/01/usaf1_2016_08_08_08_35_56_619.txt\"\n",
      "  warnings.warn('loadtxt: Empty input file: \"%s\"' % fname)\n"
     ]
    },
    {
     "name": "stdout",
     "output_type": "stream",
     "text": [
      "Found 1 clusters in /Users/mfisherlevine/Downloads/160808_usaf1/03/usaf1_2016_08_08_10_14_58_900.txt - TCUT = 257\n"
     ]
    },
    {
     "name": "stderr",
     "output_type": "stream",
     "text": [
      "/Users/mfisherlevine/anaconda/lib/python2.7/site-packages/numpy/lib/npyio.py:893: UserWarning: loadtxt: Empty input file: \"/Users/mfisherlevine/Downloads/160808_usaf1/07/usaf1_2016_08_08_13_07_44_083.txt\"\n",
      "  warnings.warn('loadtxt: Empty input file: \"%s\"' % fname)\n"
     ]
    },
    {
     "name": "stdout",
     "output_type": "stream",
     "text": [
      "Found 1 clusters in /Users/mfisherlevine/Downloads/160808_usaf1/07/usaf1_2016_08_08_13_22_07_942.txt - TCUT = 257\n",
      "Found 1 clusters in /Users/mfisherlevine/Downloads/160808_usaf1/00/usaf1_2016_08_08_08_02_40_737.txt - TCUT = 257\n",
      "Found 1 clusters in /Users/mfisherlevine/Downloads/160808_usaf1/02/usaf1_2016_08_08_09_10_40_080.txt - TCUT = 257\n",
      "Centroided 129000 frames\n",
      "Found 1 clusters in /Users/mfisherlevine/Downloads/160808_usaf1/02/usaf1_2016_08_08_09_36_33_783.txt - TCUT = 257\n",
      "Found 1 clusters in /Users/mfisherlevine/Downloads/160808_usaf1/00/usaf1_2016_08_08_07_45_07_784.txt - TCUT = 257\n"
     ]
    },
    {
     "name": "stderr",
     "output_type": "stream",
     "text": [
      "/Users/mfisherlevine/anaconda/lib/python2.7/site-packages/numpy/lib/npyio.py:893: UserWarning: loadtxt: Empty input file: \"/Users/mfisherlevine/Downloads/160808_usaf1/06/usaf1_2016_08_08_12_29_48_496.txt\"\n",
      "  warnings.warn('loadtxt: Empty input file: \"%s\"' % fname)\n",
      "/Users/mfisherlevine/anaconda/lib/python2.7/site-packages/numpy/lib/npyio.py:893: UserWarning: loadtxt: Empty input file: \"/Users/mfisherlevine/Downloads/160808_usaf1/03/usaf1_2016_08_08_09_53_28_970.txt\"\n",
      "  warnings.warn('loadtxt: Empty input file: \"%s\"' % fname)\n"
     ]
    },
    {
     "name": "stdout",
     "output_type": "stream",
     "text": [
      "Centroided 129500 frames\n",
      "Found 1 clusters in /Users/mfisherlevine/Downloads/160808_usaf1/00/usaf1_2016_08_08_07_51_48_972.txt - TCUT = 257\n",
      "Found 1 clusters in /Users/mfisherlevine/Downloads/160808_usaf1/03/usaf1_2016_08_08_10_14_41_341.txt - TCUT = 257\n"
     ]
    },
    {
     "name": "stderr",
     "output_type": "stream",
     "text": [
      "/Users/mfisherlevine/anaconda/lib/python2.7/site-packages/numpy/lib/npyio.py:893: UserWarning: loadtxt: Empty input file: \"/Users/mfisherlevine/Downloads/160808_usaf1/01/usaf1_2016_08_08_08_43_53_567.txt\"\n",
      "  warnings.warn('loadtxt: Empty input file: \"%s\"' % fname)\n"
     ]
    },
    {
     "name": "stdout",
     "output_type": "stream",
     "text": [
      "Found 1 clusters in /Users/mfisherlevine/Downloads/160808_usaf1/03/usaf1_2016_08_08_10_17_35_930.txt - TCUT = 257\n"
     ]
    },
    {
     "name": "stderr",
     "output_type": "stream",
     "text": [
      "/Users/mfisherlevine/anaconda/lib/python2.7/site-packages/numpy/lib/npyio.py:893: UserWarning: loadtxt: Empty input file: \"/Users/mfisherlevine/Downloads/160808_usaf1/06/usaf1_2016_08_08_12_23_57_861.txt\"\n",
      "  warnings.warn('loadtxt: Empty input file: \"%s\"' % fname)\n",
      "/Users/mfisherlevine/anaconda/lib/python2.7/site-packages/numpy/lib/npyio.py:893: UserWarning: loadtxt: Empty input file: \"/Users/mfisherlevine/Downloads/160808_usaf1/00/usaf1_2016_08_08_07_58_53_917.txt\"\n",
      "  warnings.warn('loadtxt: Empty input file: \"%s\"' % fname)\n"
     ]
    },
    {
     "name": "stdout",
     "output_type": "stream",
     "text": [
      "Found 1 clusters in /Users/mfisherlevine/Downloads/160808_usaf1/03/usaf1_2016_08_08_10_30_10_909.txt - TCUT = 257\n",
      "Found 1 clusters in /Users/mfisherlevine/Downloads/160808_usaf1/02/usaf1_2016_08_08_09_25_33_208.txt - TCUT = 257\n",
      "Centroided 130000 frames\n",
      "Found 1 clusters in /Users/mfisherlevine/Downloads/160808_usaf1/01/usaf1_2016_08_08_09_04_05_079.txt - TCUT = 257\n"
     ]
    },
    {
     "name": "stderr",
     "output_type": "stream",
     "text": [
      "/Users/mfisherlevine/anaconda/lib/python2.7/site-packages/numpy/lib/npyio.py:893: UserWarning: loadtxt: Empty input file: \"/Users/mfisherlevine/Downloads/160808_usaf1/05/usaf1_2016_08_08_11_55_34_123.txt\"\n",
      "  warnings.warn('loadtxt: Empty input file: \"%s\"' % fname)\n"
     ]
    },
    {
     "name": "stdout",
     "output_type": "stream",
     "text": [
      "Found 1 clusters in /Users/mfisherlevine/Downloads/160808_usaf1/02/usaf1_2016_08_08_09_20_26_576.txt - TCUT = 257\n",
      "Found 1 clusters in /Users/mfisherlevine/Downloads/160808_usaf1/06/usaf1_2016_08_08_12_41_08_101.txt - TCUT = 257\n"
     ]
    },
    {
     "name": "stderr",
     "output_type": "stream",
     "text": [
      "/Users/mfisherlevine/anaconda/lib/python2.7/site-packages/numpy/lib/npyio.py:893: UserWarning: loadtxt: Empty input file: \"/Users/mfisherlevine/Downloads/160808_usaf1/05/usaf1_2016_08_08_12_01_51_751.txt\"\n",
      "  warnings.warn('loadtxt: Empty input file: \"%s\"' % fname)\n"
     ]
    },
    {
     "name": "stdout",
     "output_type": "stream",
     "text": [
      "Centroided 130500 frames\n",
      "Found 1 clusters in /Users/mfisherlevine/Downloads/160808_usaf1/01/usaf1_2016_08_08_08_42_43_935.txt - TCUT = 257\n",
      "Found 1 clusters in /Users/mfisherlevine/Downloads/160808_usaf1/01/usaf1_2016_08_08_09_02_43_261.txt - TCUT = 257\n",
      "Centroided 131000 frames\n",
      "Found 1 clusters in /Users/mfisherlevine/Downloads/160808_usaf1/03/usaf1_2016_08_08_10_19_45_355.txt - TCUT = 257\n"
     ]
    },
    {
     "name": "stderr",
     "output_type": "stream",
     "text": [
      "/Users/mfisherlevine/anaconda/lib/python2.7/site-packages/numpy/lib/npyio.py:893: UserWarning: loadtxt: Empty input file: \"/Users/mfisherlevine/Downloads/160808_usaf1/04/usaf1_2016_08_08_11_08_23_063.txt\"\n",
      "  warnings.warn('loadtxt: Empty input file: \"%s\"' % fname)\n",
      "/Users/mfisherlevine/anaconda/lib/python2.7/site-packages/numpy/lib/npyio.py:893: UserWarning: loadtxt: Empty input file: \"/Users/mfisherlevine/Downloads/160808_usaf1/01/usaf1_2016_08_08_08_31_52_802.txt\"\n",
      "  warnings.warn('loadtxt: Empty input file: \"%s\"' % fname)\n",
      "/Users/mfisherlevine/anaconda/lib/python2.7/site-packages/numpy/lib/npyio.py:893: UserWarning: loadtxt: Empty input file: \"/Users/mfisherlevine/Downloads/160808_usaf1/01/usaf1_2016_08_08_09_00_08_285.txt\"\n",
      "  warnings.warn('loadtxt: Empty input file: \"%s\"' % fname)\n"
     ]
    },
    {
     "name": "stdout",
     "output_type": "stream",
     "text": [
      "Found 1 clusters in /Users/mfisherlevine/Downloads/160808_usaf1/03/usaf1_2016_08_08_09_56_25_237.txt - TCUT = 257\n",
      "Centroided 131500 frames\n"
     ]
    },
    {
     "name": "stderr",
     "output_type": "stream",
     "text": [
      "/Users/mfisherlevine/anaconda/lib/python2.7/site-packages/numpy/lib/npyio.py:893: UserWarning: loadtxt: Empty input file: \"/Users/mfisherlevine/Downloads/160808_usaf1/03/usaf1_2016_08_08_10_31_05_361.txt\"\n",
      "  warnings.warn('loadtxt: Empty input file: \"%s\"' % fname)\n"
     ]
    },
    {
     "name": "stdout",
     "output_type": "stream",
     "text": [
      "Found 1 clusters in /Users/mfisherlevine/Downloads/160808_usaf1/02/usaf1_2016_08_08_09_25_34_862.txt - TCUT = 257\n",
      "Centroided 132000 frames\n",
      "Found 1 clusters in /Users/mfisherlevine/Downloads/160808_usaf1/00/usaf1_2016_08_08_07_47_02_643.txt - TCUT = 257\n",
      "Found 1 clusters in /Users/mfisherlevine/Downloads/160808_usaf1/06/usaf1_2016_08_08_12_31_36_562.txt - TCUT = 257\n",
      "Centroided 132500 frames\n",
      "Found 1 clusters in /Users/mfisherlevine/Downloads/160808_usaf1/00/usaf1_2016_08_08_07_53_07_410.txt - TCUT = 257\n",
      "Found 1 clusters in /Users/mfisherlevine/Downloads/160808_usaf1/07/usaf1_2016_08_08_12_52_37_391.txt - TCUT = 257\n",
      "Found 1 clusters in /Users/mfisherlevine/Downloads/160808_usaf1/00/usaf1_2016_08_08_08_20_50_759.txt - TCUT = 257\n",
      "Centroided 133000 frames\n",
      "Found 1 clusters in /Users/mfisherlevine/Downloads/160808_usaf1/03/usaf1_2016_08_08_10_10_46_705.txt - TCUT = 257\n",
      "Found 1 clusters in /Users/mfisherlevine/Downloads/160808_usaf1/03/usaf1_2016_08_08_09_54_00_705.txt - TCUT = 257\n",
      "Centroided 133500 frames\n",
      "Found 1 clusters in /Users/mfisherlevine/Downloads/160808_usaf1/00/usaf1_2016_08_08_07_58_34_558.txt - TCUT = 257\n",
      "Centroided 134000 frames\n",
      "Found 1 clusters in /Users/mfisherlevine/Downloads/160808_usaf1/04/usaf1_2016_08_08_11_06_52_105.txt - TCUT = 257\n",
      "Centroided 134500 frames\n",
      "Found 1 clusters in /Users/mfisherlevine/Downloads/160808_usaf1/00/usaf1_2016_08_08_08_14_50_064.txt - TCUT = 257\n",
      "Found 1 clusters in /Users/mfisherlevine/Downloads/160808_usaf1/03/usaf1_2016_08_08_10_32_17_710.txt - TCUT = 257\n",
      "Found 1 clusters in /Users/mfisherlevine/Downloads/160808_usaf1/07/usaf1_2016_08_08_13_19_14_666.txt - TCUT = 257\n",
      "Found 1 clusters in /Users/mfisherlevine/Downloads/160808_usaf1/06/usaf1_2016_08_08_12_42_16_360.txt - TCUT = 257\n"
     ]
    },
    {
     "name": "stderr",
     "output_type": "stream",
     "text": [
      "/Users/mfisherlevine/anaconda/lib/python2.7/site-packages/numpy/lib/npyio.py:893: UserWarning: loadtxt: Empty input file: \"/Users/mfisherlevine/Downloads/160808_usaf1/05/usaf1_2016_08_08_11_29_22_970.txt\"\n",
      "  warnings.warn('loadtxt: Empty input file: \"%s\"' % fname)\n"
     ]
    },
    {
     "name": "stdout",
     "output_type": "stream",
     "text": [
      "Centroided 135000 frames\n",
      "Found 1 clusters in /Users/mfisherlevine/Downloads/160808_usaf1/03/usaf1_2016_08_08_10_19_39_117.txt - TCUT = 257\n",
      "Found 1 clusters in /Users/mfisherlevine/Downloads/160808_usaf1/00/usaf1_2016_08_08_07_45_29_997.txt - TCUT = 257\n",
      "Found 1 clusters in /Users/mfisherlevine/Downloads/160808_usaf1/01/usaf1_2016_08_08_08_29_30_699.txt - TCUT = 257\n",
      "Centroided 135500 frames\n",
      "Found 1 clusters in /Users/mfisherlevine/Downloads/160808_usaf1/05/usaf1_2016_08_08_11_37_36_211.txt - TCUT = 257\n"
     ]
    },
    {
     "name": "stderr",
     "output_type": "stream",
     "text": [
      "/Users/mfisherlevine/anaconda/lib/python2.7/site-packages/numpy/lib/npyio.py:893: UserWarning: loadtxt: Empty input file: \"/Users/mfisherlevine/Downloads/160808_usaf1/07/usaf1_2016_08_08_13_19_22_470.txt\"\n",
      "  warnings.warn('loadtxt: Empty input file: \"%s\"' % fname)\n",
      "/Users/mfisherlevine/anaconda/lib/python2.7/site-packages/numpy/lib/npyio.py:893: UserWarning: loadtxt: Empty input file: \"/Users/mfisherlevine/Downloads/160808_usaf1/05/usaf1_2016_08_08_11_37_06_448.txt\"\n",
      "  warnings.warn('loadtxt: Empty input file: \"%s\"' % fname)\n"
     ]
    },
    {
     "name": "stdout",
     "output_type": "stream",
     "text": [
      "Centroided 136000 frames\n",
      "Found 1 clusters in /Users/mfisherlevine/Downloads/160808_usaf1/01/usaf1_2016_08_08_08_45_55_859.txt - TCUT = 257\n",
      "Found 1 clusters in /Users/mfisherlevine/Downloads/160808_usaf1/03/usaf1_2016_08_08_10_14_06_956.txt - TCUT = 257\n",
      "Found 1 clusters in /Users/mfisherlevine/Downloads/160808_usaf1/06/usaf1_2016_08_08_12_08_11_583.txt - TCUT = 257\n",
      "Centroided 136500 frames\n",
      "Found 1 clusters in /Users/mfisherlevine/Downloads/160808_usaf1/07/usaf1_2016_08_08_13_04_16_896.txt - TCUT = 257\n"
     ]
    },
    {
     "name": "stderr",
     "output_type": "stream",
     "text": [
      "/Users/mfisherlevine/anaconda/lib/python2.7/site-packages/numpy/lib/npyio.py:893: UserWarning: loadtxt: Empty input file: \"/Users/mfisherlevine/Downloads/160808_usaf1/07/usaf1_2016_08_08_13_00_52_469.txt\"\n",
      "  warnings.warn('loadtxt: Empty input file: \"%s\"' % fname)\n"
     ]
    },
    {
     "name": "stdout",
     "output_type": "stream",
     "text": [
      "Found 1 clusters in /Users/mfisherlevine/Downloads/160808_usaf1/07/usaf1_2016_08_08_12_53_24_814.txt - TCUT = 257\n",
      "Centroided 137000 frames\n",
      "Found 1 clusters in /Users/mfisherlevine/Downloads/160808_usaf1/00/usaf1_2016_08_08_08_08_23_633.txt - TCUT = 257\n",
      "Found 1 clusters in /Users/mfisherlevine/Downloads/160808_usaf1/07/usaf1_2016_08_08_13_08_12_247.txt - TCUT = 257\n",
      "Found 1 clusters in /Users/mfisherlevine/Downloads/160808_usaf1/04/usaf1_2016_08_08_10_48_16_183.txt - TCUT = 257\n",
      "Found 1 clusters in /Users/mfisherlevine/Downloads/160808_usaf1/04/usaf1_2016_08_08_11_04_44_923.txt - TCUT = 257\n"
     ]
    },
    {
     "name": "stderr",
     "output_type": "stream",
     "text": [
      "/Users/mfisherlevine/anaconda/lib/python2.7/site-packages/numpy/lib/npyio.py:893: UserWarning: loadtxt: Empty input file: \"/Users/mfisherlevine/Downloads/160808_usaf1/01/usaf1_2016_08_08_08_45_40_521.txt\"\n",
      "  warnings.warn('loadtxt: Empty input file: \"%s\"' % fname)\n"
     ]
    },
    {
     "name": "stdout",
     "output_type": "stream",
     "text": [
      "Found 1 clusters in /Users/mfisherlevine/Downloads/160808_usaf1/03/usaf1_2016_08_08_10_16_04_792.txt - TCUT = 257\n",
      "Centroided 137500 frames\n",
      "Found 1 clusters in /Users/mfisherlevine/Downloads/160808_usaf1/01/usaf1_2016_08_08_09_05_06_137.txt - TCUT = 257\n",
      "Found 1 clusters in /Users/mfisherlevine/Downloads/160808_usaf1/06/usaf1_2016_08_08_12_27_16_887.txt - TCUT = 257\n",
      "Found 1 clusters in /Users/mfisherlevine/Downloads/160808_usaf1/02/usaf1_2016_08_08_09_08_30_100.txt - TCUT = 257\n",
      "Centroided 138000 frames\n"
     ]
    },
    {
     "name": "stderr",
     "output_type": "stream",
     "text": [
      "/Users/mfisherlevine/anaconda/lib/python2.7/site-packages/numpy/lib/npyio.py:893: UserWarning: loadtxt: Empty input file: \"/Users/mfisherlevine/Downloads/160808_usaf1/03/usaf1_2016_08_08_10_16_14_382.txt\"\n",
      "  warnings.warn('loadtxt: Empty input file: \"%s\"' % fname)\n"
     ]
    },
    {
     "name": "stdout",
     "output_type": "stream",
     "text": [
      "Centroided 138500 frames\n"
     ]
    },
    {
     "name": "stderr",
     "output_type": "stream",
     "text": [
      "/Users/mfisherlevine/anaconda/lib/python2.7/site-packages/numpy/lib/npyio.py:893: UserWarning: loadtxt: Empty input file: \"/Users/mfisherlevine/Downloads/160808_usaf1/00/usaf1_2016_08_08_08_13_03_731.txt\"\n",
      "  warnings.warn('loadtxt: Empty input file: \"%s\"' % fname)\n",
      "/Users/mfisherlevine/anaconda/lib/python2.7/site-packages/numpy/lib/npyio.py:893: UserWarning: loadtxt: Empty input file: \"/Users/mfisherlevine/Downloads/160808_usaf1/03/usaf1_2016_08_08_10_15_36_264.txt\"\n",
      "  warnings.warn('loadtxt: Empty input file: \"%s\"' % fname)\n"
     ]
    },
    {
     "name": "stdout",
     "output_type": "stream",
     "text": [
      "Centroided 139000 frames\n"
     ]
    },
    {
     "name": "stderr",
     "output_type": "stream",
     "text": [
      "/Users/mfisherlevine/anaconda/lib/python2.7/site-packages/numpy/lib/npyio.py:893: UserWarning: loadtxt: Empty input file: \"/Users/mfisherlevine/Downloads/160808_usaf1/03/usaf1_2016_08_08_10_04_41_189.txt\"\n",
      "  warnings.warn('loadtxt: Empty input file: \"%s\"' % fname)\n"
     ]
    },
    {
     "name": "stdout",
     "output_type": "stream",
     "text": [
      "Found 1 clusters in /Users/mfisherlevine/Downloads/160808_usaf1/06/usaf1_2016_08_08_12_38_14_536.txt - TCUT = 257\n",
      "Found 1 clusters in /Users/mfisherlevine/Downloads/160808_usaf1/02/usaf1_2016_08_08_09_46_40_976.txt - TCUT = 257\n",
      "Centroided 139500 frames\n",
      "Found 1 clusters in /Users/mfisherlevine/Downloads/160808_usaf1/03/usaf1_2016_08_08_10_18_00_390.txt - TCUT = 257\n"
     ]
    },
    {
     "name": "stderr",
     "output_type": "stream",
     "text": [
      "/Users/mfisherlevine/anaconda/lib/python2.7/site-packages/numpy/lib/npyio.py:893: UserWarning: loadtxt: Empty input file: \"/Users/mfisherlevine/Downloads/160808_usaf1/06/usaf1_2016_08_08_12_17_08_203.txt\"\n",
      "  warnings.warn('loadtxt: Empty input file: \"%s\"' % fname)\n"
     ]
    },
    {
     "name": "stdout",
     "output_type": "stream",
     "text": [
      "Found 1 clusters in /Users/mfisherlevine/Downloads/160808_usaf1/03/usaf1_2016_08_08_09_53_22_445.txt - TCUT = 257\n",
      "Centroided 140000 frames\n",
      "Found 1 clusters in /Users/mfisherlevine/Downloads/160808_usaf1/07/usaf1_2016_08_08_13_26_52_031.txt - TCUT = 257\n",
      "Found 1 clusters in /Users/mfisherlevine/Downloads/160808_usaf1/06/usaf1_2016_08_08_12_23_46_682.txt - TCUT = 257\n",
      "Found 1 clusters in /Users/mfisherlevine/Downloads/160808_usaf1/05/usaf1_2016_08_08_11_45_31_814.txt - TCUT = 257\n",
      "Centroided 140500 frames\n"
     ]
    },
    {
     "name": "stderr",
     "output_type": "stream",
     "text": [
      "/Users/mfisherlevine/anaconda/lib/python2.7/site-packages/numpy/lib/npyio.py:893: UserWarning: loadtxt: Empty input file: \"/Users/mfisherlevine/Downloads/160808_usaf1/01/usaf1_2016_08_08_08_51_13_420.txt\"\n",
      "  warnings.warn('loadtxt: Empty input file: \"%s\"' % fname)\n",
      "/Users/mfisherlevine/anaconda/lib/python2.7/site-packages/numpy/lib/npyio.py:893: UserWarning: loadtxt: Empty input file: \"/Users/mfisherlevine/Downloads/160808_usaf1/00/usaf1_2016_08_08_07_52_51_493.txt\"\n",
      "  warnings.warn('loadtxt: Empty input file: \"%s\"' % fname)\n"
     ]
    },
    {
     "name": "stdout",
     "output_type": "stream",
     "text": [
      "Found 1 clusters in /Users/mfisherlevine/Downloads/160808_usaf1/04/usaf1_2016_08_08_11_10_55_594.txt - TCUT = 257\n"
     ]
    },
    {
     "name": "stderr",
     "output_type": "stream",
     "text": [
      "/Users/mfisherlevine/anaconda/lib/python2.7/site-packages/numpy/lib/npyio.py:893: UserWarning: loadtxt: Empty input file: \"/Users/mfisherlevine/Downloads/160808_usaf1/07/usaf1_2016_08_08_13_25_33_976.txt\"\n",
      "  warnings.warn('loadtxt: Empty input file: \"%s\"' % fname)\n"
     ]
    },
    {
     "name": "stdout",
     "output_type": "stream",
     "text": [
      "Found 1 clusters in /Users/mfisherlevine/Downloads/160808_usaf1/04/usaf1_2016_08_08_11_21_36_770.txt - TCUT = 257\n",
      "Centroided 141000 frames\n"
     ]
    },
    {
     "name": "stderr",
     "output_type": "stream",
     "text": [
      "/Users/mfisherlevine/anaconda/lib/python2.7/site-packages/numpy/lib/npyio.py:893: UserWarning: loadtxt: Empty input file: \"/Users/mfisherlevine/Downloads/160808_usaf1/03/usaf1_2016_08_08_10_25_52_583.txt\"\n",
      "  warnings.warn('loadtxt: Empty input file: \"%s\"' % fname)\n",
      "/Users/mfisherlevine/anaconda/lib/python2.7/site-packages/numpy/lib/npyio.py:893: UserWarning: loadtxt: Empty input file: \"/Users/mfisherlevine/Downloads/160808_usaf1/07/usaf1_2016_08_08_13_09_13_982.txt\"\n",
      "  warnings.warn('loadtxt: Empty input file: \"%s\"' % fname)\n",
      "/Users/mfisherlevine/anaconda/lib/python2.7/site-packages/numpy/lib/npyio.py:893: UserWarning: loadtxt: Empty input file: \"/Users/mfisherlevine/Downloads/160808_usaf1/07/usaf1_2016_08_08_12_47_42_839.txt\"\n",
      "  warnings.warn('loadtxt: Empty input file: \"%s\"' % fname)\n"
     ]
    },
    {
     "name": "stdout",
     "output_type": "stream",
     "text": [
      "Found 1 clusters in /Users/mfisherlevine/Downloads/160808_usaf1/01/usaf1_2016_08_08_08_26_46_065.txt - TCUT = 257\n"
     ]
    },
    {
     "name": "stderr",
     "output_type": "stream",
     "text": [
      "/Users/mfisherlevine/anaconda/lib/python2.7/site-packages/numpy/lib/npyio.py:893: UserWarning: loadtxt: Empty input file: \"/Users/mfisherlevine/Downloads/160808_usaf1/06/usaf1_2016_08_08_12_36_19_411.txt\"\n",
      "  warnings.warn('loadtxt: Empty input file: \"%s\"' % fname)\n"
     ]
    },
    {
     "name": "stdout",
     "output_type": "stream",
     "text": [
      "Centroided 141500 frames\n"
     ]
    },
    {
     "name": "stderr",
     "output_type": "stream",
     "text": [
      "/Users/mfisherlevine/anaconda/lib/python2.7/site-packages/numpy/lib/npyio.py:893: UserWarning: loadtxt: Empty input file: \"/Users/mfisherlevine/Downloads/160808_usaf1/05/usaf1_2016_08_08_11_47_27_376.txt\"\n",
      "  warnings.warn('loadtxt: Empty input file: \"%s\"' % fname)\n"
     ]
    },
    {
     "name": "stdout",
     "output_type": "stream",
     "text": [
      "Found 1 clusters in /Users/mfisherlevine/Downloads/160808_usaf1/04/usaf1_2016_08_08_10_57_50_755.txt - TCUT = 257\n",
      "Found 1 clusters in /Users/mfisherlevine/Downloads/160808_usaf1/06/usaf1_2016_08_08_12_38_30_164.txt - TCUT = 257\n"
     ]
    },
    {
     "name": "stderr",
     "output_type": "stream",
     "text": [
      "/Users/mfisherlevine/anaconda/lib/python2.7/site-packages/numpy/lib/npyio.py:893: UserWarning: loadtxt: Empty input file: \"/Users/mfisherlevine/Downloads/160808_usaf1/02/usaf1_2016_08_08_09_27_26_273.txt\"\n",
      "  warnings.warn('loadtxt: Empty input file: \"%s\"' % fname)\n"
     ]
    },
    {
     "name": "stdout",
     "output_type": "stream",
     "text": [
      "Centroided 142000 frames\n",
      "Found 1 clusters in /Users/mfisherlevine/Downloads/160808_usaf1/03/usaf1_2016_08_08_09_59_39_417.txt - TCUT = 257\n",
      "Found 1 clusters in /Users/mfisherlevine/Downloads/160808_usaf1/05/usaf1_2016_08_08_11_41_26_304.txt - TCUT = 257\n",
      "Found 1 clusters in /Users/mfisherlevine/Downloads/160808_usaf1/02/usaf1_2016_08_08_09_27_43_892.txt - TCUT = 257\n",
      "Found 1 clusters in /Users/mfisherlevine/Downloads/160808_usaf1/00/usaf1_2016_08_08_07_45_35_779.txt - TCUT = 257\n",
      "Found 1 clusters in /Users/mfisherlevine/Downloads/160808_usaf1/03/usaf1_2016_08_08_10_27_59_811.txt - TCUT = 257\n",
      "Found 1 clusters in /Users/mfisherlevine/Downloads/160808_usaf1/05/usaf1_2016_08_08_11_25_45_585.txt - TCUT = 257\n",
      "Centroided 142500 frames\n",
      "Found 1 clusters in /Users/mfisherlevine/Downloads/160808_usaf1/00/usaf1_2016_08_08_08_16_15_779.txt - TCUT = 257\n",
      "Found 1 clusters in /Users/mfisherlevine/Downloads/160808_usaf1/07/usaf1_2016_08_08_13_17_05_763.txt - TCUT = 257\n",
      "Found 1 clusters in /Users/mfisherlevine/Downloads/160808_usaf1/07/usaf1_2016_08_08_12_58_39_286.txt - TCUT = 257\n",
      "Found 1 clusters in /Users/mfisherlevine/Downloads/160808_usaf1/07/usaf1_2016_08_08_13_27_23_259.txt - TCUT = 257\n",
      "Found 1 clusters in /Users/mfisherlevine/Downloads/160808_usaf1/05/usaf1_2016_08_08_11_47_01_614.txt - TCUT = 257\n",
      "Centroided 143000 frames\n",
      "Found 1 clusters in /Users/mfisherlevine/Downloads/160808_usaf1/07/usaf1_2016_08_08_13_10_29_578.txt - TCUT = 257\n",
      "Found 1 clusters in /Users/mfisherlevine/Downloads/160808_usaf1/00/usaf1_2016_08_08_08_18_54_794.txt - TCUT = 257\n",
      "Found 1 clusters in /Users/mfisherlevine/Downloads/160808_usaf1/07/usaf1_2016_08_08_12_50_28_565.txt - TCUT = 257\n",
      "Centroided 143500 frames\n",
      "Found 1 clusters in /Users/mfisherlevine/Downloads/160808_usaf1/07/usaf1_2016_08_08_12_58_30_832.txt - TCUT = 257\n",
      "Found 1 clusters in /Users/mfisherlevine/Downloads/160808_usaf1/06/usaf1_2016_08_08_12_33_59_062.txt - TCUT = 257\n",
      "Found 1 clusters in /Users/mfisherlevine/Downloads/160808_usaf1/05/usaf1_2016_08_08_11_53_44_607.txt - TCUT = 257\n",
      "Found 1 clusters in /Users/mfisherlevine/Downloads/160808_usaf1/00/usaf1_2016_08_08_07_58_03_523.txt - TCUT = 257\n",
      "Centroided 144000 frames\n"
     ]
    },
    {
     "name": "stderr",
     "output_type": "stream",
     "text": [
      "/Users/mfisherlevine/anaconda/lib/python2.7/site-packages/numpy/lib/npyio.py:893: UserWarning: loadtxt: Empty input file: \"/Users/mfisherlevine/Downloads/160808_usaf1/02/usaf1_2016_08_08_09_38_14_541.txt\"\n",
      "  warnings.warn('loadtxt: Empty input file: \"%s\"' % fname)\n"
     ]
    },
    {
     "name": "stdout",
     "output_type": "stream",
     "text": [
      "Centroided 144500 frames\n"
     ]
    },
    {
     "name": "stderr",
     "output_type": "stream",
     "text": [
      "/Users/mfisherlevine/anaconda/lib/python2.7/site-packages/numpy/lib/npyio.py:893: UserWarning: loadtxt: Empty input file: \"/Users/mfisherlevine/Downloads/160808_usaf1/03/usaf1_2016_08_08_10_12_38_040.txt\"\n",
      "  warnings.warn('loadtxt: Empty input file: \"%s\"' % fname)\n"
     ]
    },
    {
     "name": "stdout",
     "output_type": "stream",
     "text": [
      "Found 1 clusters in /Users/mfisherlevine/Downloads/160808_usaf1/07/usaf1_2016_08_08_13_04_21_990.txt - TCUT = 257\n",
      "Found 1 clusters in /Users/mfisherlevine/Downloads/160808_usaf1/01/usaf1_2016_08_08_08_35_01_976.txt - TCUT = 257\n",
      "Centroided 145000 frames\n",
      "Found 1 clusters in /Users/mfisherlevine/Downloads/160808_usaf1/00/usaf1_2016_08_08_08_14_40_484.txt - TCUT = 257\n",
      "Found 1 clusters in /Users/mfisherlevine/Downloads/160808_usaf1/03/usaf1_2016_08_08_10_30_08_369.txt - TCUT = 257\n",
      "Found 1 clusters in /Users/mfisherlevine/Downloads/160808_usaf1/02/usaf1_2016_08_08_09_14_55_042.txt - TCUT = 257\n",
      "Found 1 clusters in /Users/mfisherlevine/Downloads/160808_usaf1/01/usaf1_2016_08_08_08_48_57_764.txt - TCUT = 257\n",
      "Centroided 145500 frames\n",
      "Found 1 clusters in /Users/mfisherlevine/Downloads/160808_usaf1/02/usaf1_2016_08_08_09_37_36_300.txt - TCUT = 257\n",
      "Found 1 clusters in /Users/mfisherlevine/Downloads/160808_usaf1/03/usaf1_2016_08_08_09_56_14_248.txt - TCUT = 257\n",
      "Centroided 146000 frames\n"
     ]
    },
    {
     "name": "stderr",
     "output_type": "stream",
     "text": [
      "/Users/mfisherlevine/anaconda/lib/python2.7/site-packages/numpy/lib/npyio.py:893: UserWarning: loadtxt: Empty input file: \"/Users/mfisherlevine/Downloads/160808_usaf1/06/usaf1_2016_08_08_12_28_58_022.txt\"\n",
      "  warnings.warn('loadtxt: Empty input file: \"%s\"' % fname)\n"
     ]
    },
    {
     "name": "stdout",
     "output_type": "stream",
     "text": [
      "Found 1 clusters in /Users/mfisherlevine/Downloads/160808_usaf1/04/usaf1_2016_08_08_11_00_14_025.txt - TCUT = 257\n",
      "Found 1 clusters in /Users/mfisherlevine/Downloads/160808_usaf1/06/usaf1_2016_08_08_12_13_15_285.txt - TCUT = 257\n",
      "Found 1 clusters in /Users/mfisherlevine/Downloads/160808_usaf1/01/usaf1_2016_08_08_08_24_17_594.txt - TCUT = 257\n"
     ]
    },
    {
     "name": "stderr",
     "output_type": "stream",
     "text": [
      "/Users/mfisherlevine/anaconda/lib/python2.7/site-packages/numpy/lib/npyio.py:893: UserWarning: loadtxt: Empty input file: \"/Users/mfisherlevine/Downloads/160808_usaf1/00/usaf1_2016_08_08_08_18_04_500.txt\"\n",
      "  warnings.warn('loadtxt: Empty input file: \"%s\"' % fname)\n"
     ]
    },
    {
     "name": "stdout",
     "output_type": "stream",
     "text": [
      "Centroided 146500 frames\n",
      "Found 1 clusters in /Users/mfisherlevine/Downloads/160808_usaf1/05/usaf1_2016_08_08_11_51_45_113.txt - TCUT = 257\n",
      "Found 1 clusters in /Users/mfisherlevine/Downloads/160808_usaf1/02/usaf1_2016_08_08_09_35_57_651.txt - TCUT = 257\n",
      "Found 1 clusters in /Users/mfisherlevine/Downloads/160808_usaf1/04/usaf1_2016_08_08_10_47_14_455.txt - TCUT = 257\n",
      "Found 1 clusters in /Users/mfisherlevine/Downloads/160808_usaf1/07/usaf1_2016_08_08_12_57_44_423.txt - TCUT = 257\n"
     ]
    },
    {
     "name": "stderr",
     "output_type": "stream",
     "text": [
      "/Users/mfisherlevine/anaconda/lib/python2.7/site-packages/numpy/lib/npyio.py:893: UserWarning: loadtxt: Empty input file: \"/Users/mfisherlevine/Downloads/160808_usaf1/07/usaf1_2016_08_08_13_08_51_849.txt\"\n",
      "  warnings.warn('loadtxt: Empty input file: \"%s\"' % fname)\n"
     ]
    },
    {
     "name": "stdout",
     "output_type": "stream",
     "text": [
      "Centroided 147000 frames\n",
      "Found 1 clusters in /Users/mfisherlevine/Downloads/160808_usaf1/07/usaf1_2016_08_08_13_05_26_173.txt - TCUT = 257\n"
     ]
    },
    {
     "name": "stderr",
     "output_type": "stream",
     "text": [
      "/Users/mfisherlevine/anaconda/lib/python2.7/site-packages/numpy/lib/npyio.py:893: UserWarning: loadtxt: Empty input file: \"/Users/mfisherlevine/Downloads/160808_usaf1/00/usaf1_2016_08_08_08_04_18_822.txt\"\n",
      "  warnings.warn('loadtxt: Empty input file: \"%s\"' % fname)\n"
     ]
    },
    {
     "name": "stdout",
     "output_type": "stream",
     "text": [
      "Found 1 clusters in /Users/mfisherlevine/Downloads/160808_usaf1/01/usaf1_2016_08_08_08_24_47_265.txt - TCUT = 257\n"
     ]
    },
    {
     "name": "stderr",
     "output_type": "stream",
     "text": [
      "/Users/mfisherlevine/anaconda/lib/python2.7/site-packages/numpy/lib/npyio.py:893: UserWarning: loadtxt: Empty input file: \"/Users/mfisherlevine/Downloads/160808_usaf1/07/usaf1_2016_08_08_13_11_56_484.txt\"\n",
      "  warnings.warn('loadtxt: Empty input file: \"%s\"' % fname)\n"
     ]
    },
    {
     "name": "stdout",
     "output_type": "stream",
     "text": [
      "Found 1 clusters in /Users/mfisherlevine/Downloads/160808_usaf1/01/usaf1_2016_08_08_08_25_07_974.txt - TCUT = 257\n",
      "Found 1 clusters in /Users/mfisherlevine/Downloads/160808_usaf1/05/usaf1_2016_08_08_11_38_47_184.txt - TCUT = 257\n",
      "Centroided 147500 frames\n"
     ]
    },
    {
     "name": "stderr",
     "output_type": "stream",
     "text": [
      "/Users/mfisherlevine/anaconda/lib/python2.7/site-packages/numpy/lib/npyio.py:893: UserWarning: loadtxt: Empty input file: \"/Users/mfisherlevine/Downloads/160808_usaf1/06/usaf1_2016_08_08_12_16_41_950.txt\"\n",
      "  warnings.warn('loadtxt: Empty input file: \"%s\"' % fname)\n"
     ]
    },
    {
     "name": "stdout",
     "output_type": "stream",
     "text": [
      "Found 1 clusters in /Users/mfisherlevine/Downloads/160808_usaf1/07/usaf1_2016_08_08_13_26_17_827.txt - TCUT = 257\n",
      "Centroided 148000 frames\n",
      "Found 1 clusters in /Users/mfisherlevine/Downloads/160808_usaf1/05/usaf1_2016_08_08_11_39_57_123.txt - TCUT = 257\n",
      "Found 1 clusters in /Users/mfisherlevine/Downloads/160808_usaf1/07/usaf1_2016_08_08_13_00_30_188.txt - TCUT = 257\n",
      "Found 1 clusters in /Users/mfisherlevine/Downloads/160808_usaf1/05/usaf1_2016_08_08_11_42_18_537.txt - TCUT = 257\n",
      "Found 1 clusters in /Users/mfisherlevine/Downloads/160808_usaf1/01/usaf1_2016_08_08_08_46_57_507.txt - TCUT = 257\n"
     ]
    },
    {
     "name": "stderr",
     "output_type": "stream",
     "text": [
      "/Users/mfisherlevine/anaconda/lib/python2.7/site-packages/numpy/lib/npyio.py:893: UserWarning: loadtxt: Empty input file: \"/Users/mfisherlevine/Downloads/160808_usaf1/06/usaf1_2016_08_08_12_09_46_843.txt\"\n",
      "  warnings.warn('loadtxt: Empty input file: \"%s\"' % fname)\n"
     ]
    },
    {
     "name": "stdout",
     "output_type": "stream",
     "text": [
      "Found 1 clusters in /Users/mfisherlevine/Downloads/160808_usaf1/07/usaf1_2016_08_08_13_15_59_842.txt - TCUT = 257\n",
      "Found 1 clusters in /Users/mfisherlevine/Downloads/160808_usaf1/07/usaf1_2016_08_08_12_50_03_045.txt - TCUT = 257\n",
      "Found 1 clusters in /Users/mfisherlevine/Downloads/160808_usaf1/05/usaf1_2016_08_08_11_29_40_239.txt - TCUT = 257\n",
      "Centroided 148500 frames\n"
     ]
    },
    {
     "name": "stderr",
     "output_type": "stream",
     "text": [
      "/Users/mfisherlevine/anaconda/lib/python2.7/site-packages/numpy/lib/npyio.py:893: UserWarning: loadtxt: Empty input file: \"/Users/mfisherlevine/Downloads/160808_usaf1/07/usaf1_2016_08_08_13_17_32_348.txt\"\n",
      "  warnings.warn('loadtxt: Empty input file: \"%s\"' % fname)\n"
     ]
    },
    {
     "name": "stdout",
     "output_type": "stream",
     "text": [
      "Found 1 clusters in /Users/mfisherlevine/Downloads/160808_usaf1/00/usaf1_2016_08_08_07_47_27_546.txt - TCUT = 257\n",
      "Found 1 clusters in /Users/mfisherlevine/Downloads/160808_usaf1/05/usaf1_2016_08_08_12_03_16_832.txt - TCUT = 257\n"
     ]
    },
    {
     "name": "stderr",
     "output_type": "stream",
     "text": [
      "/Users/mfisherlevine/anaconda/lib/python2.7/site-packages/numpy/lib/npyio.py:893: UserWarning: loadtxt: Empty input file: \"/Users/mfisherlevine/Downloads/160808_usaf1/03/usaf1_2016_08_08_10_16_01_316.txt\"\n",
      "  warnings.warn('loadtxt: Empty input file: \"%s\"' % fname)\n"
     ]
    },
    {
     "name": "stdout",
     "output_type": "stream",
     "text": [
      "Found 1 clusters in /Users/mfisherlevine/Downloads/160808_usaf1/04/usaf1_2016_08_08_10_46_01_822.txt - TCUT = 257\n",
      "Found 1 clusters in /Users/mfisherlevine/Downloads/160808_usaf1/04/usaf1_2016_08_08_10_45_18_082.txt - TCUT = 257\n",
      "Centroided 149000 frames\n"
     ]
    },
    {
     "name": "stderr",
     "output_type": "stream",
     "text": [
      "/Users/mfisherlevine/anaconda/lib/python2.7/site-packages/numpy/lib/npyio.py:893: UserWarning: loadtxt: Empty input file: \"/Users/mfisherlevine/Downloads/160808_usaf1/07/usaf1_2016_08_08_13_09_44_205.txt\"\n",
      "  warnings.warn('loadtxt: Empty input file: \"%s\"' % fname)\n"
     ]
    },
    {
     "name": "stdout",
     "output_type": "stream",
     "text": [
      "Found 1 clusters in /Users/mfisherlevine/Downloads/160808_usaf1/05/usaf1_2016_08_08_11_56_32_853.txt - TCUT = 257\n",
      "Found 1 clusters in /Users/mfisherlevine/Downloads/160808_usaf1/02/usaf1_2016_08_08_09_32_40_379.txt - TCUT = 257\n",
      "Found 1 clusters in /Users/mfisherlevine/Downloads/160808_usaf1/03/usaf1_2016_08_08_10_14_25_526.txt - TCUT = 257\n",
      "Centroided 149500 frames\n",
      "Found 1 clusters in /Users/mfisherlevine/Downloads/160808_usaf1/00/usaf1_2016_08_08_08_12_15_280.txt - TCUT = 257\n",
      "Found 1 clusters in /Users/mfisherlevine/Downloads/160808_usaf1/01/usaf1_2016_08_08_08_46_36_298.txt - TCUT = 257\n"
     ]
    },
    {
     "name": "stderr",
     "output_type": "stream",
     "text": [
      "/Users/mfisherlevine/anaconda/lib/python2.7/site-packages/numpy/lib/npyio.py:893: UserWarning: loadtxt: Empty input file: \"/Users/mfisherlevine/Downloads/160808_usaf1/03/usaf1_2016_08_08_10_15_45_362.txt\"\n",
      "  warnings.warn('loadtxt: Empty input file: \"%s\"' % fname)\n",
      "/Users/mfisherlevine/anaconda/lib/python2.7/site-packages/numpy/lib/npyio.py:893: UserWarning: loadtxt: Empty input file: \"/Users/mfisherlevine/Downloads/160808_usaf1/01/usaf1_2016_08_08_08_59_51_268.txt\"\n",
      "  warnings.warn('loadtxt: Empty input file: \"%s\"' % fname)\n"
     ]
    },
    {
     "name": "stdout",
     "output_type": "stream",
     "text": [
      "Centroided 150000 frames\n"
     ]
    },
    {
     "name": "stderr",
     "output_type": "stream",
     "text": [
      "/Users/mfisherlevine/anaconda/lib/python2.7/site-packages/numpy/lib/npyio.py:893: UserWarning: loadtxt: Empty input file: \"/Users/mfisherlevine/Downloads/160808_usaf1/04/usaf1_2016_08_08_10_49_25_411.txt\"\n",
      "  warnings.warn('loadtxt: Empty input file: \"%s\"' % fname)\n",
      "/Users/mfisherlevine/anaconda/lib/python2.7/site-packages/numpy/lib/npyio.py:893: UserWarning: loadtxt: Empty input file: \"/Users/mfisherlevine/Downloads/160808_usaf1/07/usaf1_2016_08_08_13_19_44_734.txt\"\n",
      "  warnings.warn('loadtxt: Empty input file: \"%s\"' % fname)\n"
     ]
    },
    {
     "name": "stdout",
     "output_type": "stream",
     "text": [
      "Found 1 clusters in /Users/mfisherlevine/Downloads/160808_usaf1/04/usaf1_2016_08_08_10_44_41_559.txt - TCUT = 257\n",
      "Centroided 150500 frames\n",
      "Found 1 clusters in /Users/mfisherlevine/Downloads/160808_usaf1/03/usaf1_2016_08_08_10_24_18_145.txt - TCUT = 257\n"
     ]
    },
    {
     "name": "stderr",
     "output_type": "stream",
     "text": [
      "/Users/mfisherlevine/anaconda/lib/python2.7/site-packages/numpy/lib/npyio.py:893: UserWarning: loadtxt: Empty input file: \"/Users/mfisherlevine/Downloads/160808_usaf1/02/usaf1_2016_08_08_09_07_05_869.txt\"\n",
      "  warnings.warn('loadtxt: Empty input file: \"%s\"' % fname)\n"
     ]
    },
    {
     "name": "stdout",
     "output_type": "stream",
     "text": [
      "Found 1 clusters in /Users/mfisherlevine/Downloads/160808_usaf1/01/usaf1_2016_08_08_08_57_44_159.txt - TCUT = 257\n",
      "Centroided 151000 frames\n",
      "Found 1 clusters in /Users/mfisherlevine/Downloads/160808_usaf1/05/usaf1_2016_08_08_11_57_36_931.txt - TCUT = 257\n",
      "Found 1 clusters in /Users/mfisherlevine/Downloads/160808_usaf1/06/usaf1_2016_08_08_12_07_26_357.txt - TCUT = 257\n",
      "Centroided 151500 frames\n",
      "Found 1 clusters in /Users/mfisherlevine/Downloads/160808_usaf1/05/usaf1_2016_08_08_11_51_59_832.txt - TCUT = 257\n"
     ]
    },
    {
     "name": "stderr",
     "output_type": "stream",
     "text": [
      "/Users/mfisherlevine/anaconda/lib/python2.7/site-packages/numpy/lib/npyio.py:893: UserWarning: loadtxt: Empty input file: \"/Users/mfisherlevine/Downloads/160808_usaf1/04/usaf1_2016_08_08_11_07_29_421.txt\"\n",
      "  warnings.warn('loadtxt: Empty input file: \"%s\"' % fname)\n"
     ]
    },
    {
     "name": "stdout",
     "output_type": "stream",
     "text": [
      "Found 1 clusters in /Users/mfisherlevine/Downloads/160808_usaf1/03/usaf1_2016_08_08_10_17_26_432.txt - TCUT = 257\n",
      "Found 1 clusters in /Users/mfisherlevine/Downloads/160808_usaf1/00/usaf1_2016_08_08_07_53_03_811.txt - TCUT = 257\n",
      "Centroided 152000 frames\n"
     ]
    },
    {
     "name": "stderr",
     "output_type": "stream",
     "text": [
      "/Users/mfisherlevine/anaconda/lib/python2.7/site-packages/numpy/lib/npyio.py:893: UserWarning: loadtxt: Empty input file: \"/Users/mfisherlevine/Downloads/160808_usaf1/01/usaf1_2016_08_08_08_40_46_946.txt\"\n",
      "  warnings.warn('loadtxt: Empty input file: \"%s\"' % fname)\n",
      "/Users/mfisherlevine/anaconda/lib/python2.7/site-packages/numpy/lib/npyio.py:893: UserWarning: loadtxt: Empty input file: \"/Users/mfisherlevine/Downloads/160808_usaf1/00/usaf1_2016_08_08_08_12_49_100.txt\"\n",
      "  warnings.warn('loadtxt: Empty input file: \"%s\"' % fname)\n"
     ]
    },
    {
     "name": "stdout",
     "output_type": "stream",
     "text": [
      "Centroided 152500 frames\n",
      "Found 1 clusters in /Users/mfisherlevine/Downloads/160808_usaf1/04/usaf1_2016_08_08_11_01_02_854.txt - TCUT = 257\n",
      "Found 1 clusters in /Users/mfisherlevine/Downloads/160808_usaf1/03/usaf1_2016_08_08_10_20_08_349.txt - TCUT = 257\n",
      "Found 1 clusters in /Users/mfisherlevine/Downloads/160808_usaf1/02/usaf1_2016_08_08_09_41_01_853.txt - TCUT = 257\n",
      "Centroided 153000 frames\n"
     ]
    },
    {
     "name": "stderr",
     "output_type": "stream",
     "text": [
      "/Users/mfisherlevine/anaconda/lib/python2.7/site-packages/numpy/lib/npyio.py:893: UserWarning: loadtxt: Empty input file: \"/Users/mfisherlevine/Downloads/160808_usaf1/04/usaf1_2016_08_08_11_17_34_812.txt\"\n",
      "  warnings.warn('loadtxt: Empty input file: \"%s\"' % fname)\n"
     ]
    },
    {
     "name": "stdout",
     "output_type": "stream",
     "text": [
      "Found 1 clusters in /Users/mfisherlevine/Downloads/160808_usaf1/03/usaf1_2016_08_08_10_21_47_900.txt - TCUT = 257\n"
     ]
    },
    {
     "name": "stderr",
     "output_type": "stream",
     "text": [
      "/Users/mfisherlevine/anaconda/lib/python2.7/site-packages/numpy/lib/npyio.py:893: UserWarning: loadtxt: Empty input file: \"/Users/mfisherlevine/Downloads/160808_usaf1/00/usaf1_2016_08_08_08_17_17_400.txt\"\n",
      "  warnings.warn('loadtxt: Empty input file: \"%s\"' % fname)\n"
     ]
    },
    {
     "name": "stdout",
     "output_type": "stream",
     "text": [
      "Centroided 153500 frames\n"
     ]
    },
    {
     "name": "stderr",
     "output_type": "stream",
     "text": [
      "/Users/mfisherlevine/anaconda/lib/python2.7/site-packages/numpy/lib/npyio.py:893: UserWarning: loadtxt: Empty input file: \"/Users/mfisherlevine/Downloads/160808_usaf1/07/usaf1_2016_08_08_13_17_53_336.txt\"\n",
      "  warnings.warn('loadtxt: Empty input file: \"%s\"' % fname)\n"
     ]
    },
    {
     "name": "stdout",
     "output_type": "stream",
     "text": [
      "Centroided 154000 frames\n",
      "Found 1 clusters in /Users/mfisherlevine/Downloads/160808_usaf1/02/usaf1_2016_08_08_09_32_59_709.txt - TCUT = 257\n",
      "Centroided 154500 frames\n"
     ]
    },
    {
     "name": "stderr",
     "output_type": "stream",
     "text": [
      "/Users/mfisherlevine/anaconda/lib/python2.7/site-packages/numpy/lib/npyio.py:893: UserWarning: loadtxt: Empty input file: \"/Users/mfisherlevine/Downloads/160808_usaf1/05/usaf1_2016_08_08_11_32_25_704.txt\"\n",
      "  warnings.warn('loadtxt: Empty input file: \"%s\"' % fname)\n"
     ]
    },
    {
     "name": "stdout",
     "output_type": "stream",
     "text": [
      "Found 1 clusters in /Users/mfisherlevine/Downloads/160808_usaf1/00/usaf1_2016_08_08_07_59_05_428.txt - TCUT = 257\n",
      "Found 1 clusters in /Users/mfisherlevine/Downloads/160808_usaf1/01/usaf1_2016_08_08_08_34_54_790.txt - TCUT = 257\n",
      "Found 1 clusters in /Users/mfisherlevine/Downloads/160808_usaf1/05/usaf1_2016_08_08_12_00_48_996.txt - TCUT = 257\n"
     ]
    },
    {
     "name": "stderr",
     "output_type": "stream",
     "text": [
      "/Users/mfisherlevine/anaconda/lib/python2.7/site-packages/numpy/lib/npyio.py:893: UserWarning: loadtxt: Empty input file: \"/Users/mfisherlevine/Downloads/160808_usaf1/03/usaf1_2016_08_08_09_54_00_186.txt\"\n",
      "  warnings.warn('loadtxt: Empty input file: \"%s\"' % fname)\n"
     ]
    },
    {
     "name": "stdout",
     "output_type": "stream",
     "text": [
      "Centroided 155000 frames\n",
      "Found 1 clusters in /Users/mfisherlevine/Downloads/160808_usaf1/01/usaf1_2016_08_08_08_54_15_753.txt - TCUT = 257\n",
      "Found 1 clusters in /Users/mfisherlevine/Downloads/160808_usaf1/02/usaf1_2016_08_08_09_45_38_090.txt - TCUT = 257\n",
      "Centroided 155500 frames\n"
     ]
    },
    {
     "name": "stderr",
     "output_type": "stream",
     "text": [
      "/Users/mfisherlevine/anaconda/lib/python2.7/site-packages/numpy/lib/npyio.py:893: UserWarning: loadtxt: Empty input file: \"/Users/mfisherlevine/Downloads/160808_usaf1/03/usaf1_2016_08_08_10_17_34_576.txt\"\n",
      "  warnings.warn('loadtxt: Empty input file: \"%s\"' % fname)\n"
     ]
    },
    {
     "name": "stdout",
     "output_type": "stream",
     "text": [
      "Found 1 clusters in /Users/mfisherlevine/Downloads/160808_usaf1/01/usaf1_2016_08_08_08_55_37_611.txt - TCUT = 257\n"
     ]
    },
    {
     "name": "stderr",
     "output_type": "stream",
     "text": [
      "/Users/mfisherlevine/anaconda/lib/python2.7/site-packages/numpy/lib/npyio.py:893: UserWarning: loadtxt: Empty input file: \"/Users/mfisherlevine/Downloads/160808_usaf1/06/usaf1_2016_08_08_12_37_30_348.txt\"\n",
      "  warnings.warn('loadtxt: Empty input file: \"%s\"' % fname)\n"
     ]
    },
    {
     "name": "stdout",
     "output_type": "stream",
     "text": [
      "Centroided 156000 frames\n",
      "Found 1 clusters in /Users/mfisherlevine/Downloads/160808_usaf1/03/usaf1_2016_08_08_10_05_30_865.txt - TCUT = 257\n",
      "Found 1 clusters in /Users/mfisherlevine/Downloads/160808_usaf1/01/usaf1_2016_08_08_08_58_16_984.txt - TCUT = 257\n",
      "Centroided 156500 frames\n",
      "Found 1 clusters in /Users/mfisherlevine/Downloads/160808_usaf1/07/usaf1_2016_08_08_13_25_22_563.txt - TCUT = 257\n"
     ]
    },
    {
     "name": "stderr",
     "output_type": "stream",
     "text": [
      "/Users/mfisherlevine/anaconda/lib/python2.7/site-packages/numpy/lib/npyio.py:893: UserWarning: loadtxt: Empty input file: \"/Users/mfisherlevine/Downloads/160808_usaf1/04/usaf1_2016_08_08_11_02_37_110.txt\"\n",
      "  warnings.warn('loadtxt: Empty input file: \"%s\"' % fname)\n"
     ]
    },
    {
     "name": "stdout",
     "output_type": "stream",
     "text": [
      "Found 1 clusters in /Users/mfisherlevine/Downloads/160808_usaf1/05/usaf1_2016_08_08_11_41_59_969.txt - TCUT = 257\n",
      "Found 1 clusters in /Users/mfisherlevine/Downloads/160808_usaf1/03/usaf1_2016_08_08_10_26_52_878.txt - TCUT = 257\n",
      "Centroided 157000 frames\n",
      "Found 1 clusters in /Users/mfisherlevine/Downloads/160808_usaf1/03/usaf1_2016_08_08_10_31_07_072.txt - TCUT = 257\n",
      "Found 1 clusters in /Users/mfisherlevine/Downloads/160808_usaf1/04/usaf1_2016_08_08_10_52_59_382.txt - TCUT = 257\n",
      "Found 1 clusters in /Users/mfisherlevine/Downloads/160808_usaf1/03/usaf1_2016_08_08_10_27_19_950.txt - TCUT = 257\n",
      "Centroided 157500 frames\n",
      "Found 1 clusters in /Users/mfisherlevine/Downloads/160808_usaf1/01/usaf1_2016_08_08_08_37_58_874.txt - TCUT = 257\n",
      "Centroided 158000 frames\n"
     ]
    },
    {
     "name": "stderr",
     "output_type": "stream",
     "text": [
      "/Users/mfisherlevine/anaconda/lib/python2.7/site-packages/numpy/lib/npyio.py:893: UserWarning: loadtxt: Empty input file: \"/Users/mfisherlevine/Downloads/160808_usaf1/00/usaf1_2016_08_08_07_48_14_339.txt\"\n",
      "  warnings.warn('loadtxt: Empty input file: \"%s\"' % fname)\n"
     ]
    },
    {
     "name": "stdout",
     "output_type": "stream",
     "text": [
      "Found 1 clusters in /Users/mfisherlevine/Downloads/160808_usaf1/05/usaf1_2016_08_08_11_35_41_722.txt - TCUT = 257\n",
      "Found 1 clusters in /Users/mfisherlevine/Downloads/160808_usaf1/03/usaf1_2016_08_08_10_07_26_532.txt - TCUT = 257\n"
     ]
    },
    {
     "name": "stderr",
     "output_type": "stream",
     "text": [
      "/Users/mfisherlevine/anaconda/lib/python2.7/site-packages/numpy/lib/npyio.py:893: UserWarning: loadtxt: Empty input file: \"/Users/mfisherlevine/Downloads/160808_usaf1/03/usaf1_2016_08_08_10_11_20_812.txt\"\n",
      "  warnings.warn('loadtxt: Empty input file: \"%s\"' % fname)\n"
     ]
    },
    {
     "name": "stdout",
     "output_type": "stream",
     "text": [
      "Centroided 158500 frames\n",
      "Found 1 clusters in /Users/mfisherlevine/Downloads/160808_usaf1/02/usaf1_2016_08_08_09_23_56_245.txt - TCUT = 257\n"
     ]
    },
    {
     "name": "stderr",
     "output_type": "stream",
     "text": [
      "/Users/mfisherlevine/anaconda/lib/python2.7/site-packages/numpy/lib/npyio.py:893: UserWarning: loadtxt: Empty input file: \"/Users/mfisherlevine/Downloads/160808_usaf1/05/usaf1_2016_08_08_11_25_52_524.txt\"\n",
      "  warnings.warn('loadtxt: Empty input file: \"%s\"' % fname)\n"
     ]
    },
    {
     "name": "stdout",
     "output_type": "stream",
     "text": [
      "Found 1 clusters in /Users/mfisherlevine/Downloads/160808_usaf1/06/usaf1_2016_08_08_12_08_32_159.txt - TCUT = 257\n",
      "Found 1 clusters in /Users/mfisherlevine/Downloads/160808_usaf1/06/usaf1_2016_08_08_12_25_00_099.txt - TCUT = 257\n",
      "Centroided 159000 frames\n"
     ]
    },
    {
     "name": "stderr",
     "output_type": "stream",
     "text": [
      "/Users/mfisherlevine/anaconda/lib/python2.7/site-packages/numpy/lib/npyio.py:893: UserWarning: loadtxt: Empty input file: \"/Users/mfisherlevine/Downloads/160808_usaf1/01/usaf1_2016_08_08_08_42_56_524.txt\"\n",
      "  warnings.warn('loadtxt: Empty input file: \"%s\"' % fname)\n",
      "/Users/mfisherlevine/anaconda/lib/python2.7/site-packages/numpy/lib/npyio.py:893: UserWarning: loadtxt: Empty input file: \"/Users/mfisherlevine/Downloads/160808_usaf1/03/usaf1_2016_08_08_10_28_14_180.txt\"\n",
      "  warnings.warn('loadtxt: Empty input file: \"%s\"' % fname)\n"
     ]
    },
    {
     "name": "stdout",
     "output_type": "stream",
     "text": [
      "Found 1 clusters in /Users/mfisherlevine/Downloads/160808_usaf1/02/usaf1_2016_08_08_09_27_52_601.txt - TCUT = 257\n",
      "Centroided 159500 frames\n"
     ]
    },
    {
     "name": "stderr",
     "output_type": "stream",
     "text": [
      "/Users/mfisherlevine/anaconda/lib/python2.7/site-packages/numpy/lib/npyio.py:893: UserWarning: loadtxt: Empty input file: \"/Users/mfisherlevine/Downloads/160808_usaf1/02/usaf1_2016_08_08_09_39_03_611.txt\"\n",
      "  warnings.warn('loadtxt: Empty input file: \"%s\"' % fname)\n",
      "/Users/mfisherlevine/anaconda/lib/python2.7/site-packages/numpy/lib/npyio.py:893: UserWarning: loadtxt: Empty input file: \"/Users/mfisherlevine/Downloads/160808_usaf1/03/usaf1_2016_08_08_10_09_48_444.txt\"\n",
      "  warnings.warn('loadtxt: Empty input file: \"%s\"' % fname)\n"
     ]
    },
    {
     "name": "stdout",
     "output_type": "stream",
     "text": [
      "Found 1 clusters in /Users/mfisherlevine/Downloads/160808_usaf1/00/usaf1_2016_08_08_07_59_12_664.txt - TCUT = 257\n",
      "Found 1 clusters in /Users/mfisherlevine/Downloads/160808_usaf1/05/usaf1_2016_08_08_11_39_26_889.txt - TCUT = 257\n"
     ]
    },
    {
     "name": "stderr",
     "output_type": "stream",
     "text": [
      "/Users/mfisherlevine/anaconda/lib/python2.7/site-packages/numpy/lib/npyio.py:893: UserWarning: loadtxt: Empty input file: \"/Users/mfisherlevine/Downloads/160808_usaf1/01/usaf1_2016_08_08_08_55_07_930.txt\"\n",
      "  warnings.warn('loadtxt: Empty input file: \"%s\"' % fname)\n"
     ]
    },
    {
     "name": "stdout",
     "output_type": "stream",
     "text": [
      "Centroided 160000 frames\n",
      "Found 1 clusters in /Users/mfisherlevine/Downloads/160808_usaf1/07/usaf1_2016_08_08_13_15_38_418.txt - TCUT = 257\n",
      "Found 1 clusters in /Users/mfisherlevine/Downloads/160808_usaf1/06/usaf1_2016_08_08_12_35_09_820.txt - TCUT = 257\n"
     ]
    },
    {
     "name": "stderr",
     "output_type": "stream",
     "text": [
      "/Users/mfisherlevine/anaconda/lib/python2.7/site-packages/numpy/lib/npyio.py:893: UserWarning: loadtxt: Empty input file: \"/Users/mfisherlevine/Downloads/160808_usaf1/07/usaf1_2016_08_08_13_19_50_398.txt\"\n",
      "  warnings.warn('loadtxt: Empty input file: \"%s\"' % fname)\n"
     ]
    },
    {
     "name": "stdout",
     "output_type": "stream",
     "text": [
      "Found 1 clusters in /Users/mfisherlevine/Downloads/160808_usaf1/02/usaf1_2016_08_08_09_43_29_925.txt - TCUT = 257\n",
      "Centroided 160500 frames\n"
     ]
    },
    {
     "name": "stderr",
     "output_type": "stream",
     "text": [
      "/Users/mfisherlevine/anaconda/lib/python2.7/site-packages/numpy/lib/npyio.py:893: UserWarning: loadtxt: Empty input file: \"/Users/mfisherlevine/Downloads/160808_usaf1/04/usaf1_2016_08_08_11_18_23_940.txt\"\n",
      "  warnings.warn('loadtxt: Empty input file: \"%s\"' % fname)\n"
     ]
    },
    {
     "name": "stdout",
     "output_type": "stream",
     "text": [
      "Found 1 clusters in /Users/mfisherlevine/Downloads/160808_usaf1/01/usaf1_2016_08_08_08_24_30_569.txt - TCUT = 257\n",
      "Found 1 clusters in /Users/mfisherlevine/Downloads/160808_usaf1/03/usaf1_2016_08_08_10_18_06_922.txt - TCUT = 257\n",
      "Found 1 clusters in /Users/mfisherlevine/Downloads/160808_usaf1/03/usaf1_2016_08_08_10_09_56_372.txt - TCUT = 257\n",
      "Found 1 clusters in /Users/mfisherlevine/Downloads/160808_usaf1/04/usaf1_2016_08_08_11_04_27_214.txt - TCUT = 257\n",
      "Found 1 clusters in /Users/mfisherlevine/Downloads/160808_usaf1/01/usaf1_2016_08_08_08_43_06_761.txt - TCUT = 257\n",
      "Found 1 clusters in /Users/mfisherlevine/Downloads/160808_usaf1/06/usaf1_2016_08_08_12_07_56_734.txt - TCUT = 257\n",
      "Centroided 161000 frames\n",
      "Found 1 clusters in /Users/mfisherlevine/Downloads/160808_usaf1/06/usaf1_2016_08_08_12_12_11_899.txt - TCUT = 257\n",
      "Centroided 161500 frames\n",
      "Found 1 clusters in /Users/mfisherlevine/Downloads/160808_usaf1/00/usaf1_2016_08_08_08_09_51_791.txt - TCUT = 257\n",
      "Found 1 clusters in /Users/mfisherlevine/Downloads/160808_usaf1/05/usaf1_2016_08_08_12_01_57_379.txt - TCUT = 257\n"
     ]
    },
    {
     "name": "stderr",
     "output_type": "stream",
     "text": [
      "/Users/mfisherlevine/anaconda/lib/python2.7/site-packages/numpy/lib/npyio.py:893: UserWarning: loadtxt: Empty input file: \"/Users/mfisherlevine/Downloads/160808_usaf1/04/usaf1_2016_08_08_10_56_46_060.txt\"\n",
      "  warnings.warn('loadtxt: Empty input file: \"%s\"' % fname)\n",
      "/Users/mfisherlevine/anaconda/lib/python2.7/site-packages/numpy/lib/npyio.py:893: UserWarning: loadtxt: Empty input file: \"/Users/mfisherlevine/Downloads/160808_usaf1/07/usaf1_2016_08_08_13_15_18_507.txt\"\n",
      "  warnings.warn('loadtxt: Empty input file: \"%s\"' % fname)\n",
      "/Users/mfisherlevine/anaconda/lib/python2.7/site-packages/numpy/lib/npyio.py:893: UserWarning: loadtxt: Empty input file: \"/Users/mfisherlevine/Downloads/160808_usaf1/04/usaf1_2016_08_08_11_10_38_926.txt\"\n",
      "  warnings.warn('loadtxt: Empty input file: \"%s\"' % fname)\n"
     ]
    },
    {
     "name": "stdout",
     "output_type": "stream",
     "text": [
      "Found 1 clusters in /Users/mfisherlevine/Downloads/160808_usaf1/02/usaf1_2016_08_08_09_20_08_285.txt - TCUT = 257\n",
      "Centroided 162000 frames\n"
     ]
    },
    {
     "name": "stderr",
     "output_type": "stream",
     "text": [
      "/Users/mfisherlevine/anaconda/lib/python2.7/site-packages/numpy/lib/npyio.py:893: UserWarning: loadtxt: Empty input file: \"/Users/mfisherlevine/Downloads/160808_usaf1/05/usaf1_2016_08_08_11_30_47_276.txt\"\n",
      "  warnings.warn('loadtxt: Empty input file: \"%s\"' % fname)\n"
     ]
    },
    {
     "name": "stdout",
     "output_type": "stream",
     "text": [
      "Found 1 clusters in /Users/mfisherlevine/Downloads/160808_usaf1/03/usaf1_2016_08_08_10_19_16_250.txt - TCUT = 257\n",
      "Found 1 clusters in /Users/mfisherlevine/Downloads/160808_usaf1/01/usaf1_2016_08_08_08_59_37_681.txt - TCUT = 257\n"
     ]
    },
    {
     "name": "stderr",
     "output_type": "stream",
     "text": [
      "/Users/mfisherlevine/anaconda/lib/python2.7/site-packages/numpy/lib/npyio.py:893: UserWarning: loadtxt: Empty input file: \"/Users/mfisherlevine/Downloads/160808_usaf1/03/usaf1_2016_08_08_10_03_01_699.txt\"\n",
      "  warnings.warn('loadtxt: Empty input file: \"%s\"' % fname)\n"
     ]
    },
    {
     "name": "stdout",
     "output_type": "stream",
     "text": [
      "Centroided 162500 frames\n",
      "Found 1 clusters in /Users/mfisherlevine/Downloads/160808_usaf1/04/usaf1_2016_08_08_10_47_25_202.txt - TCUT = 257\n",
      "Found 1 clusters in /Users/mfisherlevine/Downloads/160808_usaf1/01/usaf1_2016_08_08_08_37_04_792.txt - TCUT = 257\n",
      "Found 1 clusters in /Users/mfisherlevine/Downloads/160808_usaf1/06/usaf1_2016_08_08_12_19_46_605.txt - TCUT = 257\n",
      "Centroided 163000 frames\n",
      "Found 1 clusters in /Users/mfisherlevine/Downloads/160808_usaf1/02/usaf1_2016_08_08_09_10_30_033.txt - TCUT = 257\n",
      "Found 1 clusters in /Users/mfisherlevine/Downloads/160808_usaf1/03/usaf1_2016_08_08_10_12_14_333.txt - TCUT = 257\n",
      "Found 1 clusters in /Users/mfisherlevine/Downloads/160808_usaf1/05/usaf1_2016_08_08_11_26_20_746.txt - TCUT = 257\n",
      "Centroided 163500 frames\n",
      "Found 1 clusters in /Users/mfisherlevine/Downloads/160808_usaf1/00/usaf1_2016_08_08_07_54_17_265.txt - TCUT = 257\n",
      "Centroided 164000 frames\n",
      "Found 1 clusters in /Users/mfisherlevine/Downloads/160808_usaf1/05/usaf1_2016_08_08_11_54_35_620.txt - TCUT = 257\n",
      "Found 1 clusters in /Users/mfisherlevine/Downloads/160808_usaf1/04/usaf1_2016_08_08_10_48_38_639.txt - TCUT = 257\n",
      "Centroided 164500 frames\n",
      "Found 1 clusters in /Users/mfisherlevine/Downloads/160808_usaf1/02/usaf1_2016_08_08_09_44_38_443.txt - TCUT = 257\n",
      "Found 1 clusters in /Users/mfisherlevine/Downloads/160808_usaf1/04/usaf1_2016_08_08_10_42_08_768.txt - TCUT = 257\n",
      "Found 1 clusters in /Users/mfisherlevine/Downloads/160808_usaf1/05/usaf1_2016_08_08_11_40_54_505.txt - TCUT = 257\n"
     ]
    },
    {
     "name": "stderr",
     "output_type": "stream",
     "text": [
      "/Users/mfisherlevine/anaconda/lib/python2.7/site-packages/numpy/lib/npyio.py:893: UserWarning: loadtxt: Empty input file: \"/Users/mfisherlevine/Downloads/160808_usaf1/01/usaf1_2016_08_08_08_30_40_226.txt\"\n",
      "  warnings.warn('loadtxt: Empty input file: \"%s\"' % fname)\n"
     ]
    },
    {
     "name": "stdout",
     "output_type": "stream",
     "text": [
      "Found 1 clusters in /Users/mfisherlevine/Downloads/160808_usaf1/05/usaf1_2016_08_08_11_41_36_926.txt - TCUT = 257\n",
      "Found 1 clusters in /Users/mfisherlevine/Downloads/160808_usaf1/00/usaf1_2016_08_08_08_06_29_784.txt - TCUT = 257\n",
      "Centroided 165000 frames\n",
      "Found 1 clusters in /Users/mfisherlevine/Downloads/160808_usaf1/02/usaf1_2016_08_08_09_37_38_927.txt - TCUT = 257\n"
     ]
    },
    {
     "name": "stderr",
     "output_type": "stream",
     "text": [
      "/Users/mfisherlevine/anaconda/lib/python2.7/site-packages/numpy/lib/npyio.py:893: UserWarning: loadtxt: Empty input file: \"/Users/mfisherlevine/Downloads/160808_usaf1/03/usaf1_2016_08_08_10_05_41_270.txt\"\n",
      "  warnings.warn('loadtxt: Empty input file: \"%s\"' % fname)\n"
     ]
    },
    {
     "name": "stdout",
     "output_type": "stream",
     "text": [
      "Centroided 165500 frames\n",
      "Found 1 clusters in /Users/mfisherlevine/Downloads/160808_usaf1/06/usaf1_2016_08_08_12_10_06_990.txt - TCUT = 257\n",
      "Found 1 clusters in /Users/mfisherlevine/Downloads/160808_usaf1/06/usaf1_2016_08_08_12_37_20_235.txt - TCUT = 257\n",
      "Found 1 clusters in /Users/mfisherlevine/Downloads/160808_usaf1/05/usaf1_2016_08_08_11_32_48_606.txt - TCUT = 257\n",
      "Found 1 clusters in /Users/mfisherlevine/Downloads/160808_usaf1/00/usaf1_2016_08_08_08_08_48_328.txt - TCUT = 257\n",
      "Found 1 clusters in /Users/mfisherlevine/Downloads/160808_usaf1/02/usaf1_2016_08_08_09_17_50_787.txt - TCUT = 257\n",
      "Found 1 clusters in /Users/mfisherlevine/Downloads/160808_usaf1/05/usaf1_2016_08_08_12_00_49_713.txt - TCUT = 257\n",
      "Centroided 166000 frames\n",
      "Found 1 clusters in /Users/mfisherlevine/Downloads/160808_usaf1/00/usaf1_2016_08_08_08_20_24_251.txt - TCUT = 257\n",
      "Found 1 clusters in /Users/mfisherlevine/Downloads/160808_usaf1/04/usaf1_2016_08_08_11_17_50_789.txt - TCUT = 257\n"
     ]
    },
    {
     "name": "stderr",
     "output_type": "stream",
     "text": [
      "/Users/mfisherlevine/anaconda/lib/python2.7/site-packages/numpy/lib/npyio.py:893: UserWarning: loadtxt: Empty input file: \"/Users/mfisherlevine/Downloads/160808_usaf1/06/usaf1_2016_08_08_12_08_21_648.txt\"\n",
      "  warnings.warn('loadtxt: Empty input file: \"%s\"' % fname)\n",
      "/Users/mfisherlevine/anaconda/lib/python2.7/site-packages/numpy/lib/npyio.py:893: UserWarning: loadtxt: Empty input file: \"/Users/mfisherlevine/Downloads/160808_usaf1/03/usaf1_2016_08_08_10_05_24_339.txt\"\n",
      "  warnings.warn('loadtxt: Empty input file: \"%s\"' % fname)\n"
     ]
    },
    {
     "name": "stdout",
     "output_type": "stream",
     "text": [
      "Found 1 clusters in /Users/mfisherlevine/Downloads/160808_usaf1/03/usaf1_2016_08_08_10_14_19_245.txt - TCUT = 257\n",
      "Found 1 clusters in /Users/mfisherlevine/Downloads/160808_usaf1/05/usaf1_2016_08_08_11_48_19_339.txt - TCUT = 257\n",
      "Found 1 clusters in /Users/mfisherlevine/Downloads/160808_usaf1/04/usaf1_2016_08_08_11_10_16_395.txt - TCUT = 257\n",
      "Centroided 166500 frames\n",
      "Found 1 clusters in /Users/mfisherlevine/Downloads/160808_usaf1/00/usaf1_2016_08_08_08_18_03_640.txt - TCUT = 257\n",
      "Found 1 clusters in /Users/mfisherlevine/Downloads/160808_usaf1/03/usaf1_2016_08_08_10_13_54_567.txt - TCUT = 257\n",
      "Centroided 167000 frames\n"
     ]
    },
    {
     "name": "stderr",
     "output_type": "stream",
     "text": [
      "/Users/mfisherlevine/anaconda/lib/python2.7/site-packages/numpy/lib/npyio.py:893: UserWarning: loadtxt: Empty input file: \"/Users/mfisherlevine/Downloads/160808_usaf1/06/usaf1_2016_08_08_12_13_03_379.txt\"\n",
      "  warnings.warn('loadtxt: Empty input file: \"%s\"' % fname)\n"
     ]
    },
    {
     "name": "stdout",
     "output_type": "stream",
     "text": [
      "Found 1 clusters in /Users/mfisherlevine/Downloads/160808_usaf1/04/usaf1_2016_08_08_11_16_23_378.txt - TCUT = 257\n",
      "Found 1 clusters in /Users/mfisherlevine/Downloads/160808_usaf1/01/usaf1_2016_08_08_08_24_37_122.txt - TCUT = 257\n"
     ]
    },
    {
     "name": "stderr",
     "output_type": "stream",
     "text": [
      "/Users/mfisherlevine/anaconda/lib/python2.7/site-packages/numpy/lib/npyio.py:893: UserWarning: loadtxt: Empty input file: \"/Users/mfisherlevine/Downloads/160808_usaf1/05/usaf1_2016_08_08_11_29_43_704.txt\"\n",
      "  warnings.warn('loadtxt: Empty input file: \"%s\"' % fname)\n"
     ]
    },
    {
     "name": "stdout",
     "output_type": "stream",
     "text": [
      "Centroided 167500 frames\n",
      "Found 1 clusters in /Users/mfisherlevine/Downloads/160808_usaf1/05/usaf1_2016_08_08_11_45_43_833.txt - TCUT = 257\n",
      "Centroided 168000 frames\n"
     ]
    },
    {
     "name": "stderr",
     "output_type": "stream",
     "text": [
      "/Users/mfisherlevine/anaconda/lib/python2.7/site-packages/numpy/lib/npyio.py:893: UserWarning: loadtxt: Empty input file: \"/Users/mfisherlevine/Downloads/160808_usaf1/01/usaf1_2016_08_08_08_36_58_479.txt\"\n",
      "  warnings.warn('loadtxt: Empty input file: \"%s\"' % fname)\n"
     ]
    },
    {
     "name": "stdout",
     "output_type": "stream",
     "text": [
      "Found 1 clusters in /Users/mfisherlevine/Downloads/160808_usaf1/03/usaf1_2016_08_08_10_14_54_805.txt - TCUT = 257\n"
     ]
    },
    {
     "name": "stderr",
     "output_type": "stream",
     "text": [
      "/Users/mfisherlevine/anaconda/lib/python2.7/site-packages/numpy/lib/npyio.py:893: UserWarning: loadtxt: Empty input file: \"/Users/mfisherlevine/Downloads/160808_usaf1/05/usaf1_2016_08_08_12_00_47_676.txt\"\n",
      "  warnings.warn('loadtxt: Empty input file: \"%s\"' % fname)\n"
     ]
    },
    {
     "name": "stdout",
     "output_type": "stream",
     "text": [
      "Found 1 clusters in /Users/mfisherlevine/Downloads/160808_usaf1/07/usaf1_2016_08_08_13_10_05_438.txt - TCUT = 257\n"
     ]
    },
    {
     "name": "stderr",
     "output_type": "stream",
     "text": [
      "/Users/mfisherlevine/anaconda/lib/python2.7/site-packages/numpy/lib/npyio.py:893: UserWarning: loadtxt: Empty input file: \"/Users/mfisherlevine/Downloads/160808_usaf1/07/usaf1_2016_08_08_13_21_40_733.txt\"\n",
      "  warnings.warn('loadtxt: Empty input file: \"%s\"' % fname)\n"
     ]
    },
    {
     "name": "stdout",
     "output_type": "stream",
     "text": [
      "Centroided 168500 frames\n",
      "Found 1 clusters in /Users/mfisherlevine/Downloads/160808_usaf1/02/usaf1_2016_08_08_09_13_50_263.txt - TCUT = 257\n",
      "Found 1 clusters in /Users/mfisherlevine/Downloads/160808_usaf1/05/usaf1_2016_08_08_11_55_39_048.txt - TCUT = 257\n",
      "Found 1 clusters in /Users/mfisherlevine/Downloads/160808_usaf1/07/usaf1_2016_08_08_13_12_07_941.txt - TCUT = 257\n",
      "Found 1 clusters in /Users/mfisherlevine/Downloads/160808_usaf1/00/usaf1_2016_08_08_08_15_42_536.txt - TCUT = 257\n",
      "Found 1 clusters in /Users/mfisherlevine/Downloads/160808_usaf1/02/usaf1_2016_08_08_09_36_23_513.txt - TCUT = 257\n",
      "Found 1 clusters in /Users/mfisherlevine/Downloads/160808_usaf1/00/usaf1_2016_08_08_07_45_24_674.txt - TCUT = 257\n",
      "Found 1 clusters in /Users/mfisherlevine/Downloads/160808_usaf1/05/usaf1_2016_08_08_11_42_09_512.txt - TCUT = 257\n",
      "Centroided 169000 frames\n",
      "Found 1 clusters in /Users/mfisherlevine/Downloads/160808_usaf1/05/usaf1_2016_08_08_11_25_08_015.txt - TCUT = 257\n"
     ]
    },
    {
     "name": "stderr",
     "output_type": "stream",
     "text": [
      "/Users/mfisherlevine/anaconda/lib/python2.7/site-packages/numpy/lib/npyio.py:893: UserWarning: loadtxt: Empty input file: \"/Users/mfisherlevine/Downloads/160808_usaf1/03/usaf1_2016_08_08_10_18_48_798.txt\"\n",
      "  warnings.warn('loadtxt: Empty input file: \"%s\"' % fname)\n"
     ]
    },
    {
     "name": "stdout",
     "output_type": "stream",
     "text": [
      "Centroided 169500 frames\n",
      "Found 1 clusters in /Users/mfisherlevine/Downloads/160808_usaf1/06/usaf1_2016_08_08_12_26_24_337.txt - TCUT = 257\n",
      "Found 1 clusters in /Users/mfisherlevine/Downloads/160808_usaf1/07/usaf1_2016_08_08_13_24_24_832.txt - TCUT = 257\n"
     ]
    },
    {
     "name": "stderr",
     "output_type": "stream",
     "text": [
      "/Users/mfisherlevine/anaconda/lib/python2.7/site-packages/numpy/lib/npyio.py:893: UserWarning: loadtxt: Empty input file: \"/Users/mfisherlevine/Downloads/160808_usaf1/07/usaf1_2016_08_08_13_05_56_868.txt\"\n",
      "  warnings.warn('loadtxt: Empty input file: \"%s\"' % fname)\n"
     ]
    },
    {
     "name": "stdout",
     "output_type": "stream",
     "text": [
      "Found 1 clusters in /Users/mfisherlevine/Downloads/160808_usaf1/02/usaf1_2016_08_08_09_08_32_846.txt - TCUT = 257\n"
     ]
    },
    {
     "name": "stderr",
     "output_type": "stream",
     "text": [
      "/Users/mfisherlevine/anaconda/lib/python2.7/site-packages/numpy/lib/npyio.py:893: UserWarning: loadtxt: Empty input file: \"/Users/mfisherlevine/Downloads/160808_usaf1/03/usaf1_2016_08_08_10_22_59_805.txt\"\n",
      "  warnings.warn('loadtxt: Empty input file: \"%s\"' % fname)\n"
     ]
    },
    {
     "name": "stdout",
     "output_type": "stream",
     "text": [
      "Centroided 170000 frames\n",
      "Found 1 clusters in /Users/mfisherlevine/Downloads/160808_usaf1/07/usaf1_2016_08_08_12_59_00_535.txt - TCUT = 257\n",
      "Found 1 clusters in /Users/mfisherlevine/Downloads/160808_usaf1/03/usaf1_2016_08_08_09_53_44_087.txt - TCUT = 257\n",
      "Found 1 clusters in /Users/mfisherlevine/Downloads/160808_usaf1/00/usaf1_2016_08_08_08_05_05_776.txt - TCUT = 257\n",
      "Found 1 clusters in /Users/mfisherlevine/Downloads/160808_usaf1/01/usaf1_2016_08_08_08_27_14_683.txt - TCUT = 257\n",
      "Centroided 170500 frames\n",
      "Found 1 clusters in /Users/mfisherlevine/Downloads/160808_usaf1/00/usaf1_2016_08_08_07_57_16_203.txt - TCUT = 257\n",
      "Found 1 clusters in /Users/mfisherlevine/Downloads/160808_usaf1/04/usaf1_2016_08_08_11_02_55_938.txt - TCUT = 257\n",
      "Found 1 clusters in /Users/mfisherlevine/Downloads/160808_usaf1/04/usaf1_2016_08_08_10_56_59_843.txt - TCUT = 257\n",
      "Found 1 clusters in /Users/mfisherlevine/Downloads/160808_usaf1/06/usaf1_2016_08_08_12_13_49_768.txt - TCUT = 257\n",
      "Centroided 171000 frames\n",
      "Found 1 clusters in /Users/mfisherlevine/Downloads/160808_usaf1/07/usaf1_2016_08_08_12_47_43_545.txt - TCUT = 257\n",
      "Found 1 clusters in /Users/mfisherlevine/Downloads/160808_usaf1/06/usaf1_2016_08_08_12_23_26_581.txt - TCUT = 257\n",
      "Found 1 clusters in /Users/mfisherlevine/Downloads/160808_usaf1/04/usaf1_2016_08_08_10_47_56_850.txt - TCUT = 257\n",
      "Found 1 clusters in /Users/mfisherlevine/Downloads/160808_usaf1/07/usaf1_2016_08_08_13_08_49_289.txt - TCUT = 257\n",
      "Centroided 171500 frames\n",
      "Found 1 clusters in /Users/mfisherlevine/Downloads/160808_usaf1/01/usaf1_2016_08_08_08_44_37_376.txt - TCUT = 257\n"
     ]
    },
    {
     "name": "stderr",
     "output_type": "stream",
     "text": [
      "/Users/mfisherlevine/anaconda/lib/python2.7/site-packages/numpy/lib/npyio.py:893: UserWarning: loadtxt: Empty input file: \"/Users/mfisherlevine/Downloads/160808_usaf1/06/usaf1_2016_08_08_12_21_45_162.txt\"\n",
      "  warnings.warn('loadtxt: Empty input file: \"%s\"' % fname)\n"
     ]
    },
    {
     "name": "stdout",
     "output_type": "stream",
     "text": [
      "Found 1 clusters in /Users/mfisherlevine/Downloads/160808_usaf1/03/usaf1_2016_08_08_10_04_58_097.txt - TCUT = 257\n",
      "Found 1 clusters in /Users/mfisherlevine/Downloads/160808_usaf1/04/usaf1_2016_08_08_10_48_19_096.txt - TCUT = 257\n",
      "Centroided 172000 frames\n",
      "Found 1 clusters in /Users/mfisherlevine/Downloads/160808_usaf1/02/usaf1_2016_08_08_09_34_49_946.txt - TCUT = 257\n",
      "Found 1 clusters in /Users/mfisherlevine/Downloads/160808_usaf1/01/usaf1_2016_08_08_08_34_21_872.txt - TCUT = 257\n"
     ]
    },
    {
     "name": "stderr",
     "output_type": "stream",
     "text": [
      "/Users/mfisherlevine/anaconda/lib/python2.7/site-packages/numpy/lib/npyio.py:893: UserWarning: loadtxt: Empty input file: \"/Users/mfisherlevine/Downloads/160808_usaf1/07/usaf1_2016_08_08_13_25_15_379.txt\"\n",
      "  warnings.warn('loadtxt: Empty input file: \"%s\"' % fname)\n"
     ]
    },
    {
     "name": "stdout",
     "output_type": "stream",
     "text": [
      "Centroided 172500 frames\n",
      "Found 1 clusters in /Users/mfisherlevine/Downloads/160808_usaf1/03/usaf1_2016_08_08_10_13_53_404.txt - TCUT = 257\n",
      "Centroided 173000 frames\n",
      "Found 1 clusters in /Users/mfisherlevine/Downloads/160808_usaf1/03/usaf1_2016_08_08_10_08_41_487.txt - TCUT = 257\n",
      "Found 1 clusters in /Users/mfisherlevine/Downloads/160808_usaf1/04/usaf1_2016_08_08_10_43_51_031.txt - TCUT = 257\n",
      "Found 1 clusters in /Users/mfisherlevine/Downloads/160808_usaf1/01/usaf1_2016_08_08_08_26_37_286.txt - TCUT = 257\n",
      "Found 1 clusters in /Users/mfisherlevine/Downloads/160808_usaf1/03/usaf1_2016_08_08_10_07_46_558.txt - TCUT = 257\n",
      "Found 1 clusters in /Users/mfisherlevine/Downloads/160808_usaf1/02/usaf1_2016_08_08_09_25_08_522.txt - TCUT = 257\n",
      "Found 1 clusters in /Users/mfisherlevine/Downloads/160808_usaf1/05/usaf1_2016_08_08_11_27_41_713.txt - TCUT = 257\n",
      "Centroided 173500 frames\n",
      "Found 1 clusters in /Users/mfisherlevine/Downloads/160808_usaf1/04/usaf1_2016_08_08_11_15_51_674.txt - TCUT = 257\n",
      "Found 1 clusters in /Users/mfisherlevine/Downloads/160808_usaf1/06/usaf1_2016_08_08_12_32_47_124.txt - TCUT = 257\n"
     ]
    },
    {
     "name": "stderr",
     "output_type": "stream",
     "text": [
      "/Users/mfisherlevine/anaconda/lib/python2.7/site-packages/numpy/lib/npyio.py:893: UserWarning: loadtxt: Empty input file: \"/Users/mfisherlevine/Downloads/160808_usaf1/03/usaf1_2016_08_08_10_20_05_855.txt\"\n",
      "  warnings.warn('loadtxt: Empty input file: \"%s\"' % fname)\n"
     ]
    },
    {
     "name": "stdout",
     "output_type": "stream",
     "text": [
      "Found 1 clusters in /Users/mfisherlevine/Downloads/160808_usaf1/06/usaf1_2016_08_08_12_20_55_776.txt - TCUT = 257\n"
     ]
    },
    {
     "name": "stderr",
     "output_type": "stream",
     "text": [
      "/Users/mfisherlevine/anaconda/lib/python2.7/site-packages/numpy/lib/npyio.py:893: UserWarning: loadtxt: Empty input file: \"/Users/mfisherlevine/Downloads/160808_usaf1/04/usaf1_2016_08_08_10_53_20_459.txt\"\n",
      "  warnings.warn('loadtxt: Empty input file: \"%s\"' % fname)\n"
     ]
    },
    {
     "name": "stdout",
     "output_type": "stream",
     "text": [
      "Found 1 clusters in /Users/mfisherlevine/Downloads/160808_usaf1/05/usaf1_2016_08_08_12_00_55_248.txt - TCUT = 257\n",
      "Centroided 174000 frames\n",
      "Found 1 clusters in /Users/mfisherlevine/Downloads/160808_usaf1/02/usaf1_2016_08_08_09_20_30_730.txt - TCUT = 257\n",
      "Found 1 clusters in /Users/mfisherlevine/Downloads/160808_usaf1/05/usaf1_2016_08_08_11_31_09_449.txt - TCUT = 257\n",
      "Centroided 174500 frames\n"
     ]
    },
    {
     "name": "stderr",
     "output_type": "stream",
     "text": [
      "/Users/mfisherlevine/anaconda/lib/python2.7/site-packages/numpy/lib/npyio.py:893: UserWarning: loadtxt: Empty input file: \"/Users/mfisherlevine/Downloads/160808_usaf1/02/usaf1_2016_08_08_09_39_32_776.txt\"\n",
      "  warnings.warn('loadtxt: Empty input file: \"%s\"' % fname)\n"
     ]
    },
    {
     "name": "stdout",
     "output_type": "stream",
     "text": [
      "Found 1 clusters in /Users/mfisherlevine/Downloads/160808_usaf1/00/usaf1_2016_08_08_07_52_04_246.txt - TCUT = 257\n",
      "Found 1 clusters in /Users/mfisherlevine/Downloads/160808_usaf1/06/usaf1_2016_08_08_12_26_31_557.txt - TCUT = 257\n",
      "Centroided 175000 frames\n"
     ]
    },
    {
     "name": "stderr",
     "output_type": "stream",
     "text": [
      "/Users/mfisherlevine/anaconda/lib/python2.7/site-packages/numpy/lib/npyio.py:893: UserWarning: loadtxt: Empty input file: \"/Users/mfisherlevine/Downloads/160808_usaf1/05/usaf1_2016_08_08_12_02_32_610.txt\"\n",
      "  warnings.warn('loadtxt: Empty input file: \"%s\"' % fname)\n",
      "/Users/mfisherlevine/anaconda/lib/python2.7/site-packages/numpy/lib/npyio.py:893: UserWarning: loadtxt: Empty input file: \"/Users/mfisherlevine/Downloads/160808_usaf1/00/usaf1_2016_08_08_08_02_21_283.txt\"\n",
      "  warnings.warn('loadtxt: Empty input file: \"%s\"' % fname)\n"
     ]
    },
    {
     "name": "stdout",
     "output_type": "stream",
     "text": [
      "Centroided 175500 frames\n"
     ]
    },
    {
     "name": "stderr",
     "output_type": "stream",
     "text": [
      "/Users/mfisherlevine/anaconda/lib/python2.7/site-packages/numpy/lib/npyio.py:893: UserWarning: loadtxt: Empty input file: \"/Users/mfisherlevine/Downloads/160808_usaf1/03/usaf1_2016_08_08_10_05_42_113.txt\"\n",
      "  warnings.warn('loadtxt: Empty input file: \"%s\"' % fname)\n",
      "/Users/mfisherlevine/anaconda/lib/python2.7/site-packages/numpy/lib/npyio.py:893: UserWarning: loadtxt: Empty input file: \"/Users/mfisherlevine/Downloads/160808_usaf1/00/usaf1_2016_08_08_07_50_55_033.txt\"\n",
      "  warnings.warn('loadtxt: Empty input file: \"%s\"' % fname)\n"
     ]
    },
    {
     "name": "stdout",
     "output_type": "stream",
     "text": [
      "Found 1 clusters in /Users/mfisherlevine/Downloads/160808_usaf1/06/usaf1_2016_08_08_12_36_09_258.txt - TCUT = 257\n",
      "Found 1 clusters in /Users/mfisherlevine/Downloads/160808_usaf1/04/usaf1_2016_08_08_11_19_18_484.txt - TCUT = 257\n",
      "Found 1 clusters in /Users/mfisherlevine/Downloads/160808_usaf1/02/usaf1_2016_08_08_09_22_42_549.txt - TCUT = 257\n",
      "Found 1 clusters in /Users/mfisherlevine/Downloads/160808_usaf1/03/usaf1_2016_08_08_09_56_35_440.txt - TCUT = 257\n",
      "Centroided 176000 frames\n",
      "Found 1 clusters in /Users/mfisherlevine/Downloads/160808_usaf1/07/usaf1_2016_08_08_12_52_33_804.txt - TCUT = 257\n",
      "Found 1 clusters in /Users/mfisherlevine/Downloads/160808_usaf1/01/usaf1_2016_08_08_08_44_53_638.txt - TCUT = 257\n",
      "Centroided 176500 frames\n"
     ]
    },
    {
     "name": "stderr",
     "output_type": "stream",
     "text": [
      "/Users/mfisherlevine/anaconda/lib/python2.7/site-packages/numpy/lib/npyio.py:893: UserWarning: loadtxt: Empty input file: \"/Users/mfisherlevine/Downloads/160808_usaf1/00/usaf1_2016_08_08_08_04_51_319.txt\"\n",
      "  warnings.warn('loadtxt: Empty input file: \"%s\"' % fname)\n",
      "/Users/mfisherlevine/anaconda/lib/python2.7/site-packages/numpy/lib/npyio.py:893: UserWarning: loadtxt: Empty input file: \"/Users/mfisherlevine/Downloads/160808_usaf1/06/usaf1_2016_08_08_12_33_07_998.txt\"\n",
      "  warnings.warn('loadtxt: Empty input file: \"%s\"' % fname)\n"
     ]
    },
    {
     "name": "stdout",
     "output_type": "stream",
     "text": [
      "Centroided 177000 frames\n"
     ]
    },
    {
     "name": "stderr",
     "output_type": "stream",
     "text": [
      "/Users/mfisherlevine/anaconda/lib/python2.7/site-packages/numpy/lib/npyio.py:893: UserWarning: loadtxt: Empty input file: \"/Users/mfisherlevine/Downloads/160808_usaf1/07/usaf1_2016_08_08_12_48_42_108.txt\"\n",
      "  warnings.warn('loadtxt: Empty input file: \"%s\"' % fname)\n",
      "/Users/mfisherlevine/anaconda/lib/python2.7/site-packages/numpy/lib/npyio.py:893: UserWarning: loadtxt: Empty input file: \"/Users/mfisherlevine/Downloads/160808_usaf1/05/usaf1_2016_08_08_11_55_11_321.txt\"\n",
      "  warnings.warn('loadtxt: Empty input file: \"%s\"' % fname)\n"
     ]
    },
    {
     "name": "stdout",
     "output_type": "stream",
     "text": [
      "Centroided 177500 frames\n",
      "Found 1 clusters in /Users/mfisherlevine/Downloads/160808_usaf1/07/usaf1_2016_08_08_13_11_24_297.txt - TCUT = 257\n",
      "Found 1 clusters in /Users/mfisherlevine/Downloads/160808_usaf1/04/usaf1_2016_08_08_11_14_24_158.txt - TCUT = 257\n"
     ]
    },
    {
     "name": "stderr",
     "output_type": "stream",
     "text": [
      "/Users/mfisherlevine/anaconda/lib/python2.7/site-packages/numpy/lib/npyio.py:893: UserWarning: loadtxt: Empty input file: \"/Users/mfisherlevine/Downloads/160808_usaf1/07/usaf1_2016_08_08_13_17_04_627.txt\"\n",
      "  warnings.warn('loadtxt: Empty input file: \"%s\"' % fname)\n",
      "/Users/mfisherlevine/anaconda/lib/python2.7/site-packages/numpy/lib/npyio.py:893: UserWarning: loadtxt: Empty input file: \"/Users/mfisherlevine/Downloads/160808_usaf1/05/usaf1_2016_08_08_11_51_03_055.txt\"\n",
      "  warnings.warn('loadtxt: Empty input file: \"%s\"' % fname)\n",
      "/Users/mfisherlevine/anaconda/lib/python2.7/site-packages/numpy/lib/npyio.py:893: UserWarning: loadtxt: Empty input file: \"/Users/mfisherlevine/Downloads/160808_usaf1/03/usaf1_2016_08_08_10_05_06_756.txt\"\n",
      "  warnings.warn('loadtxt: Empty input file: \"%s\"' % fname)\n"
     ]
    },
    {
     "name": "stdout",
     "output_type": "stream",
     "text": [
      "Found 1 clusters in /Users/mfisherlevine/Downloads/160808_usaf1/07/usaf1_2016_08_08_12_51_47_349.txt - TCUT = 257\n",
      "Centroided 178000 frames\n",
      "Found 1 clusters in /Users/mfisherlevine/Downloads/160808_usaf1/06/usaf1_2016_08_08_12_13_37_668.txt - TCUT = 257\n"
     ]
    },
    {
     "name": "stderr",
     "output_type": "stream",
     "text": [
      "/Users/mfisherlevine/anaconda/lib/python2.7/site-packages/numpy/lib/npyio.py:893: UserWarning: loadtxt: Empty input file: \"/Users/mfisherlevine/Downloads/160808_usaf1/00/usaf1_2016_08_08_08_12_21_721.txt\"\n",
      "  warnings.warn('loadtxt: Empty input file: \"%s\"' % fname)\n"
     ]
    },
    {
     "name": "stdout",
     "output_type": "stream",
     "text": [
      "Found 1 clusters in /Users/mfisherlevine/Downloads/160808_usaf1/00/usaf1_2016_08_08_07_59_05_158.txt - TCUT = 257\n",
      "Centroided 178500 frames\n",
      "Found 1 clusters in /Users/mfisherlevine/Downloads/160808_usaf1/04/usaf1_2016_08_08_10_57_13_005.txt - TCUT = 257\n",
      "Found 1 clusters in /Users/mfisherlevine/Downloads/160808_usaf1/03/usaf1_2016_08_08_10_14_36_608.txt - TCUT = 257\n",
      "Found 1 clusters in /Users/mfisherlevine/Downloads/160808_usaf1/05/usaf1_2016_08_08_11_31_14_543.txt - TCUT = 257\n"
     ]
    },
    {
     "name": "stderr",
     "output_type": "stream",
     "text": [
      "/Users/mfisherlevine/anaconda/lib/python2.7/site-packages/numpy/lib/npyio.py:893: UserWarning: loadtxt: Empty input file: \"/Users/mfisherlevine/Downloads/160808_usaf1/03/usaf1_2016_08_08_10_20_30_434.txt\"\n",
      "  warnings.warn('loadtxt: Empty input file: \"%s\"' % fname)\n"
     ]
    },
    {
     "name": "stdout",
     "output_type": "stream",
     "text": [
      "Centroided 179000 frames\n",
      "Found 1 clusters in /Users/mfisherlevine/Downloads/160808_usaf1/06/usaf1_2016_08_08_12_09_01_081.txt - TCUT = 257\n",
      "Found 1 clusters in /Users/mfisherlevine/Downloads/160808_usaf1/07/usaf1_2016_08_08_13_04_47_796.txt - TCUT = 257\n",
      "Found 1 clusters in /Users/mfisherlevine/Downloads/160808_usaf1/03/usaf1_2016_08_08_10_25_09_659.txt - TCUT = 257\n",
      "Found 1 clusters in /Users/mfisherlevine/Downloads/160808_usaf1/04/usaf1_2016_08_08_10_54_00_893.txt - TCUT = 257\n"
     ]
    },
    {
     "name": "stderr",
     "output_type": "stream",
     "text": [
      "/Users/mfisherlevine/anaconda/lib/python2.7/site-packages/numpy/lib/npyio.py:893: UserWarning: loadtxt: Empty input file: \"/Users/mfisherlevine/Downloads/160808_usaf1/03/usaf1_2016_08_08_10_01_01_395.txt\"\n",
      "  warnings.warn('loadtxt: Empty input file: \"%s\"' % fname)\n",
      "/Users/mfisherlevine/anaconda/lib/python2.7/site-packages/numpy/lib/npyio.py:893: UserWarning: loadtxt: Empty input file: \"/Users/mfisherlevine/Downloads/160808_usaf1/00/usaf1_2016_08_08_07_44_45_699.txt\"\n",
      "  warnings.warn('loadtxt: Empty input file: \"%s\"' % fname)\n"
     ]
    },
    {
     "name": "stdout",
     "output_type": "stream",
     "text": [
      "Found 1 clusters in /Users/mfisherlevine/Downloads/160808_usaf1/01/usaf1_2016_08_08_08_58_39_604.txt - TCUT = 257\n"
     ]
    },
    {
     "name": "stderr",
     "output_type": "stream",
     "text": [
      "/Users/mfisherlevine/anaconda/lib/python2.7/site-packages/numpy/lib/npyio.py:893: UserWarning: loadtxt: Empty input file: \"/Users/mfisherlevine/Downloads/160808_usaf1/06/usaf1_2016_08_08_12_29_42_200.txt\"\n",
      "  warnings.warn('loadtxt: Empty input file: \"%s\"' % fname)\n"
     ]
    },
    {
     "name": "stdout",
     "output_type": "stream",
     "text": [
      "Found 1 clusters in /Users/mfisherlevine/Downloads/160808_usaf1/00/usaf1_2016_08_08_08_02_26_764.txt - TCUT = 257\n",
      "Centroided 179500 frames\n"
     ]
    },
    {
     "name": "stderr",
     "output_type": "stream",
     "text": [
      "/Users/mfisherlevine/anaconda/lib/python2.7/site-packages/numpy/lib/npyio.py:893: UserWarning: loadtxt: Empty input file: \"/Users/mfisherlevine/Downloads/160808_usaf1/03/usaf1_2016_08_08_10_09_34_804.txt\"\n",
      "  warnings.warn('loadtxt: Empty input file: \"%s\"' % fname)\n"
     ]
    },
    {
     "name": "stdout",
     "output_type": "stream",
     "text": [
      "Found 1 clusters in /Users/mfisherlevine/Downloads/160808_usaf1/06/usaf1_2016_08_08_12_07_05_103.txt - TCUT = 257\n"
     ]
    },
    {
     "name": "stderr",
     "output_type": "stream",
     "text": [
      "/Users/mfisherlevine/anaconda/lib/python2.7/site-packages/numpy/lib/npyio.py:893: UserWarning: loadtxt: Empty input file: \"/Users/mfisherlevine/Downloads/160808_usaf1/05/usaf1_2016_08_08_11_22_56_366.txt\"\n",
      "  warnings.warn('loadtxt: Empty input file: \"%s\"' % fname)\n",
      "/Users/mfisherlevine/anaconda/lib/python2.7/site-packages/numpy/lib/npyio.py:893: UserWarning: loadtxt: Empty input file: \"/Users/mfisherlevine/Downloads/160808_usaf1/06/usaf1_2016_08_08_12_34_33_530.txt\"\n",
      "  warnings.warn('loadtxt: Empty input file: \"%s\"' % fname)\n"
     ]
    },
    {
     "name": "stdout",
     "output_type": "stream",
     "text": [
      "Centroided 180000 frames\n"
     ]
    },
    {
     "name": "stderr",
     "output_type": "stream",
     "text": [
      "/Users/mfisherlevine/anaconda/lib/python2.7/site-packages/numpy/lib/npyio.py:893: UserWarning: loadtxt: Empty input file: \"/Users/mfisherlevine/Downloads/160808_usaf1/00/usaf1_2016_08_08_08_14_23_838.txt\"\n",
      "  warnings.warn('loadtxt: Empty input file: \"%s\"' % fname)\n"
     ]
    },
    {
     "name": "stdout",
     "output_type": "stream",
     "text": [
      "Found 1 clusters in /Users/mfisherlevine/Downloads/160808_usaf1/02/usaf1_2016_08_08_09_33_04_703.txt - TCUT = 257\n",
      "Found 1 clusters in /Users/mfisherlevine/Downloads/160808_usaf1/04/usaf1_2016_08_08_11_06_59_027.txt - TCUT = 257\n",
      "Found 1 clusters in /Users/mfisherlevine/Downloads/160808_usaf1/02/usaf1_2016_08_08_09_21_45_240.txt - TCUT = 257\n",
      "Found 1 clusters in /Users/mfisherlevine/Downloads/160808_usaf1/04/usaf1_2016_08_08_11_00_24_228.txt - TCUT = 257\n",
      "Centroided 180500 frames\n"
     ]
    },
    {
     "name": "stderr",
     "output_type": "stream",
     "text": [
      "/Users/mfisherlevine/anaconda/lib/python2.7/site-packages/numpy/lib/npyio.py:893: UserWarning: loadtxt: Empty input file: \"/Users/mfisherlevine/Downloads/160808_usaf1/01/usaf1_2016_08_08_08_25_55_340.txt\"\n",
      "  warnings.warn('loadtxt: Empty input file: \"%s\"' % fname)\n"
     ]
    },
    {
     "name": "stdout",
     "output_type": "stream",
     "text": [
      "Found 1 clusters in /Users/mfisherlevine/Downloads/160808_usaf1/00/usaf1_2016_08_08_07_55_02_754.txt - TCUT = 257\n",
      "Centroided 181000 frames\n"
     ]
    },
    {
     "name": "stderr",
     "output_type": "stream",
     "text": [
      "/Users/mfisherlevine/anaconda/lib/python2.7/site-packages/numpy/lib/npyio.py:893: UserWarning: loadtxt: Empty input file: \"/Users/mfisherlevine/Downloads/160808_usaf1/04/usaf1_2016_08_08_11_05_07_710.txt\"\n",
      "  warnings.warn('loadtxt: Empty input file: \"%s\"' % fname)\n"
     ]
    },
    {
     "name": "stdout",
     "output_type": "stream",
     "text": [
      "Found 1 clusters in /Users/mfisherlevine/Downloads/160808_usaf1/03/usaf1_2016_08_08_09_58_21_875.txt - TCUT = 257\n"
     ]
    },
    {
     "name": "stderr",
     "output_type": "stream",
     "text": [
      "/Users/mfisherlevine/anaconda/lib/python2.7/site-packages/numpy/lib/npyio.py:893: UserWarning: loadtxt: Empty input file: \"/Users/mfisherlevine/Downloads/160808_usaf1/05/usaf1_2016_08_08_11_23_57_382.txt\"\n",
      "  warnings.warn('loadtxt: Empty input file: \"%s\"' % fname)\n"
     ]
    },
    {
     "name": "stdout",
     "output_type": "stream",
     "text": [
      "Found 1 clusters in /Users/mfisherlevine/Downloads/160808_usaf1/04/usaf1_2016_08_08_11_07_40_091.txt - TCUT = 257\n",
      "Found 1 clusters in /Users/mfisherlevine/Downloads/160808_usaf1/00/usaf1_2016_08_08_08_11_56_307.txt - TCUT = 257\n",
      "Found 1 clusters in /Users/mfisherlevine/Downloads/160808_usaf1/03/usaf1_2016_08_08_10_31_17_530.txt - TCUT = 257\n",
      "Centroided 181500 frames\n"
     ]
    },
    {
     "name": "stderr",
     "output_type": "stream",
     "text": [
      "/Users/mfisherlevine/anaconda/lib/python2.7/site-packages/numpy/lib/npyio.py:893: UserWarning: loadtxt: Empty input file: \"/Users/mfisherlevine/Downloads/160808_usaf1/00/usaf1_2016_08_08_08_15_12_948.txt\"\n",
      "  warnings.warn('loadtxt: Empty input file: \"%s\"' % fname)\n",
      "/Users/mfisherlevine/anaconda/lib/python2.7/site-packages/numpy/lib/npyio.py:893: UserWarning: loadtxt: Empty input file: \"/Users/mfisherlevine/Downloads/160808_usaf1/04/usaf1_2016_08_08_10_51_39_336.txt\"\n",
      "  warnings.warn('loadtxt: Empty input file: \"%s\"' % fname)\n"
     ]
    },
    {
     "name": "stdout",
     "output_type": "stream",
     "text": [
      "Centroided 182000 frames\n",
      "Found 1 clusters in /Users/mfisherlevine/Downloads/160808_usaf1/06/usaf1_2016_08_08_12_42_36_451.txt - TCUT = 257\n"
     ]
    },
    {
     "name": "stderr",
     "output_type": "stream",
     "text": [
      "/Users/mfisherlevine/anaconda/lib/python2.7/site-packages/numpy/lib/npyio.py:893: UserWarning: loadtxt: Empty input file: \"/Users/mfisherlevine/Downloads/160808_usaf1/02/usaf1_2016_08_08_09_40_46_848.txt\"\n",
      "  warnings.warn('loadtxt: Empty input file: \"%s\"' % fname)\n",
      "/Users/mfisherlevine/anaconda/lib/python2.7/site-packages/numpy/lib/npyio.py:893: UserWarning: loadtxt: Empty input file: \"/Users/mfisherlevine/Downloads/160808_usaf1/04/usaf1_2016_08_08_10_41_23_320.txt\"\n",
      "  warnings.warn('loadtxt: Empty input file: \"%s\"' % fname)\n",
      "/Users/mfisherlevine/anaconda/lib/python2.7/site-packages/numpy/lib/npyio.py:893: UserWarning: loadtxt: Empty input file: \"/Users/mfisherlevine/Downloads/160808_usaf1/01/usaf1_2016_08_08_08_30_36_241.txt\"\n",
      "  warnings.warn('loadtxt: Empty input file: \"%s\"' % fname)\n",
      "/Users/mfisherlevine/anaconda/lib/python2.7/site-packages/numpy/lib/npyio.py:893: UserWarning: loadtxt: Empty input file: \"/Users/mfisherlevine/Downloads/160808_usaf1/00/usaf1_2016_08_08_08_23_17_463.txt\"\n",
      "  warnings.warn('loadtxt: Empty input file: \"%s\"' % fname)\n",
      "/Users/mfisherlevine/anaconda/lib/python2.7/site-packages/numpy/lib/npyio.py:893: UserWarning: loadtxt: Empty input file: \"/Users/mfisherlevine/Downloads/160808_usaf1/07/usaf1_2016_08_08_12_46_39_687.txt\"\n",
      "  warnings.warn('loadtxt: Empty input file: \"%s\"' % fname)\n"
     ]
    },
    {
     "name": "stdout",
     "output_type": "stream",
     "text": [
      "Found 1 clusters in /Users/mfisherlevine/Downloads/160808_usaf1/07/usaf1_2016_08_08_13_19_39_912.txt - TCUT = 257\n",
      "Centroided 182500 frames\n"
     ]
    },
    {
     "name": "stderr",
     "output_type": "stream",
     "text": [
      "/Users/mfisherlevine/anaconda/lib/python2.7/site-packages/numpy/lib/npyio.py:893: UserWarning: loadtxt: Empty input file: \"/Users/mfisherlevine/Downloads/160808_usaf1/01/usaf1_2016_08_08_08_49_58_063.txt\"\n",
      "  warnings.warn('loadtxt: Empty input file: \"%s\"' % fname)\n",
      "/Users/mfisherlevine/anaconda/lib/python2.7/site-packages/numpy/lib/npyio.py:893: UserWarning: loadtxt: Empty input file: \"/Users/mfisherlevine/Downloads/160808_usaf1/01/usaf1_2016_08_08_08_24_58_360.txt\"\n",
      "  warnings.warn('loadtxt: Empty input file: \"%s\"' % fname)\n",
      "/Users/mfisherlevine/anaconda/lib/python2.7/site-packages/numpy/lib/npyio.py:893: UserWarning: loadtxt: Empty input file: \"/Users/mfisherlevine/Downloads/160808_usaf1/01/usaf1_2016_08_08_08_55_11_926.txt\"\n",
      "  warnings.warn('loadtxt: Empty input file: \"%s\"' % fname)\n"
     ]
    },
    {
     "name": "stdout",
     "output_type": "stream",
     "text": [
      "Centroided 183000 frames\n",
      "Found 1 clusters in /Users/mfisherlevine/Downloads/160808_usaf1/04/usaf1_2016_08_08_10_55_01_647.txt - TCUT = 257\n"
     ]
    },
    {
     "name": "stderr",
     "output_type": "stream",
     "text": [
      "/Users/mfisherlevine/anaconda/lib/python2.7/site-packages/numpy/lib/npyio.py:893: UserWarning: loadtxt: Empty input file: \"/Users/mfisherlevine/Downloads/160808_usaf1/05/usaf1_2016_08_08_11_27_27_216.txt\"\n",
      "  warnings.warn('loadtxt: Empty input file: \"%s\"' % fname)\n"
     ]
    },
    {
     "name": "stdout",
     "output_type": "stream",
     "text": [
      "Found 1 clusters in /Users/mfisherlevine/Downloads/160808_usaf1/07/usaf1_2016_08_08_13_17_30_591.txt - TCUT = 257\n",
      "Centroided 183500 frames\n",
      "Found 1 clusters in /Users/mfisherlevine/Downloads/160808_usaf1/05/usaf1_2016_08_08_11_55_33_831.txt - TCUT = 257\n"
     ]
    },
    {
     "name": "stderr",
     "output_type": "stream",
     "text": [
      "/Users/mfisherlevine/anaconda/lib/python2.7/site-packages/numpy/lib/npyio.py:893: UserWarning: loadtxt: Empty input file: \"/Users/mfisherlevine/Downloads/160808_usaf1/06/usaf1_2016_08_08_12_13_17_120.txt\"\n",
      "  warnings.warn('loadtxt: Empty input file: \"%s\"' % fname)\n"
     ]
    },
    {
     "name": "stdout",
     "output_type": "stream",
     "text": [
      "Found 1 clusters in /Users/mfisherlevine/Downloads/160808_usaf1/03/usaf1_2016_08_08_10_29_43_154.txt - TCUT = 257\n",
      "Centroided 184000 frames\n",
      "Found 1 clusters in /Users/mfisherlevine/Downloads/160808_usaf1/04/usaf1_2016_08_08_11_14_11_407.txt - TCUT = 257\n"
     ]
    },
    {
     "name": "stderr",
     "output_type": "stream",
     "text": [
      "/Users/mfisherlevine/anaconda/lib/python2.7/site-packages/numpy/lib/npyio.py:893: UserWarning: loadtxt: Empty input file: \"/Users/mfisherlevine/Downloads/160808_usaf1/05/usaf1_2016_08_08_12_02_27_686.txt\"\n",
      "  warnings.warn('loadtxt: Empty input file: \"%s\"' % fname)\n"
     ]
    },
    {
     "name": "stdout",
     "output_type": "stream",
     "text": [
      "Found 1 clusters in /Users/mfisherlevine/Downloads/160808_usaf1/06/usaf1_2016_08_08_12_12_37_157.txt - TCUT = 257\n"
     ]
    },
    {
     "name": "stderr",
     "output_type": "stream",
     "text": [
      "/Users/mfisherlevine/anaconda/lib/python2.7/site-packages/numpy/lib/npyio.py:893: UserWarning: loadtxt: Empty input file: \"/Users/mfisherlevine/Downloads/160808_usaf1/05/usaf1_2016_08_08_11_34_29_573.txt\"\n",
      "  warnings.warn('loadtxt: Empty input file: \"%s\"' % fname)\n",
      "/Users/mfisherlevine/anaconda/lib/python2.7/site-packages/numpy/lib/npyio.py:893: UserWarning: loadtxt: Empty input file: \"/Users/mfisherlevine/Downloads/160808_usaf1/03/usaf1_2016_08_08_10_09_53_963.txt\"\n",
      "  warnings.warn('loadtxt: Empty input file: \"%s\"' % fname)\n",
      "/Users/mfisherlevine/anaconda/lib/python2.7/site-packages/numpy/lib/npyio.py:893: UserWarning: loadtxt: Empty input file: \"/Users/mfisherlevine/Downloads/160808_usaf1/07/usaf1_2016_08_08_13_10_53_562.txt\"\n",
      "  warnings.warn('loadtxt: Empty input file: \"%s\"' % fname)\n"
     ]
    },
    {
     "name": "stdout",
     "output_type": "stream",
     "text": [
      "Found 1 clusters in /Users/mfisherlevine/Downloads/160808_usaf1/03/usaf1_2016_08_08_10_22_18_190.txt - TCUT = 257\n",
      "Centroided 184500 frames\n",
      "Found 1 clusters in /Users/mfisherlevine/Downloads/160808_usaf1/07/usaf1_2016_08_08_13_15_33_370.txt - TCUT = 257\n"
     ]
    },
    {
     "name": "stderr",
     "output_type": "stream",
     "text": [
      "/Users/mfisherlevine/anaconda/lib/python2.7/site-packages/numpy/lib/npyio.py:893: UserWarning: loadtxt: Empty input file: \"/Users/mfisherlevine/Downloads/160808_usaf1/00/usaf1_2016_08_08_07_51_54_212.txt\"\n",
      "  warnings.warn('loadtxt: Empty input file: \"%s\"' % fname)\n",
      "/Users/mfisherlevine/anaconda/lib/python2.7/site-packages/numpy/lib/npyio.py:893: UserWarning: loadtxt: Empty input file: \"/Users/mfisherlevine/Downloads/160808_usaf1/02/usaf1_2016_08_08_09_34_11_926.txt\"\n",
      "  warnings.warn('loadtxt: Empty input file: \"%s\"' % fname)\n",
      "/Users/mfisherlevine/anaconda/lib/python2.7/site-packages/numpy/lib/npyio.py:893: UserWarning: loadtxt: Empty input file: \"/Users/mfisherlevine/Downloads/160808_usaf1/04/usaf1_2016_08_08_11_21_09_350.txt\"\n",
      "  warnings.warn('loadtxt: Empty input file: \"%s\"' % fname)\n"
     ]
    },
    {
     "name": "stdout",
     "output_type": "stream",
     "text": [
      "Found 1 clusters in /Users/mfisherlevine/Downloads/160808_usaf1/01/usaf1_2016_08_08_08_37_30_617.txt - TCUT = 257\n",
      "Found 1 clusters in /Users/mfisherlevine/Downloads/160808_usaf1/04/usaf1_2016_08_08_10_46_45_671.txt - TCUT = 257\n",
      "Centroided 185000 frames\n"
     ]
    },
    {
     "name": "stderr",
     "output_type": "stream",
     "text": [
      "/Users/mfisherlevine/anaconda/lib/python2.7/site-packages/numpy/lib/npyio.py:893: UserWarning: loadtxt: Empty input file: \"/Users/mfisherlevine/Downloads/160808_usaf1/00/usaf1_2016_08_08_07_50_51_739.txt\"\n",
      "  warnings.warn('loadtxt: Empty input file: \"%s\"' % fname)\n",
      "/Users/mfisherlevine/anaconda/lib/python2.7/site-packages/numpy/lib/npyio.py:893: UserWarning: loadtxt: Empty input file: \"/Users/mfisherlevine/Downloads/160808_usaf1/02/usaf1_2016_08_08_09_19_51_526.txt\"\n",
      "  warnings.warn('loadtxt: Empty input file: \"%s\"' % fname)\n"
     ]
    },
    {
     "name": "stdout",
     "output_type": "stream",
     "text": [
      "Found 1 clusters in /Users/mfisherlevine/Downloads/160808_usaf1/00/usaf1_2016_08_08_08_11_55_175.txt - TCUT = 257\n"
     ]
    },
    {
     "name": "stderr",
     "output_type": "stream",
     "text": [
      "/Users/mfisherlevine/anaconda/lib/python2.7/site-packages/numpy/lib/npyio.py:893: UserWarning: loadtxt: Empty input file: \"/Users/mfisherlevine/Downloads/160808_usaf1/07/usaf1_2016_08_08_13_25_24_931.txt\"\n",
      "  warnings.warn('loadtxt: Empty input file: \"%s\"' % fname)\n"
     ]
    },
    {
     "name": "stdout",
     "output_type": "stream",
     "text": [
      "Centroided 185500 frames\n",
      "Found 1 clusters in /Users/mfisherlevine/Downloads/160808_usaf1/07/usaf1_2016_08_08_12_49_46_683.txt - TCUT = 257\n",
      "Found 1 clusters in /Users/mfisherlevine/Downloads/160808_usaf1/04/usaf1_2016_08_08_11_18_14_975.txt - TCUT = 257\n",
      "Found 1 clusters in /Users/mfisherlevine/Downloads/160808_usaf1/03/usaf1_2016_08_08_10_14_39_626.txt - TCUT = 257\n",
      "Found 1 clusters in /Users/mfisherlevine/Downloads/160808_usaf1/05/usaf1_2016_08_08_11_51_25_083.txt - TCUT = 257\n",
      "Centroided 186000 frames\n",
      "Found 1 clusters in /Users/mfisherlevine/Downloads/160808_usaf1/02/usaf1_2016_08_08_09_18_09_215.txt - TCUT = 257\n",
      "Found 1 clusters in /Users/mfisherlevine/Downloads/160808_usaf1/04/usaf1_2016_08_08_10_47_43_235.txt - TCUT = 257\n",
      "Found 1 clusters in /Users/mfisherlevine/Downloads/160808_usaf1/07/usaf1_2016_08_08_12_56_57_016.txt - TCUT = 257\n",
      "Centroided 186500 frames\n",
      "Found 1 clusters in /Users/mfisherlevine/Downloads/160808_usaf1/03/usaf1_2016_08_08_10_13_54_368.txt - TCUT = 257\n",
      "Found 1 clusters in /Users/mfisherlevine/Downloads/160808_usaf1/05/usaf1_2016_08_08_11_51_45_763.txt - TCUT = 257\n",
      "Centroided 187000 frames\n",
      "Found 1 clusters in /Users/mfisherlevine/Downloads/160808_usaf1/07/usaf1_2016_08_08_13_22_36_230.txt - TCUT = 257\n",
      "Found 1 clusters in /Users/mfisherlevine/Downloads/160808_usaf1/02/usaf1_2016_08_08_09_28_44_164.txt - TCUT = 257\n"
     ]
    },
    {
     "name": "stderr",
     "output_type": "stream",
     "text": [
      "/Users/mfisherlevine/anaconda/lib/python2.7/site-packages/numpy/lib/npyio.py:893: UserWarning: loadtxt: Empty input file: \"/Users/mfisherlevine/Downloads/160808_usaf1/07/usaf1_2016_08_08_13_10_04_161.txt\"\n",
      "  warnings.warn('loadtxt: Empty input file: \"%s\"' % fname)\n",
      "/Users/mfisherlevine/anaconda/lib/python2.7/site-packages/numpy/lib/npyio.py:893: UserWarning: loadtxt: Empty input file: \"/Users/mfisherlevine/Downloads/160808_usaf1/01/usaf1_2016_08_08_09_02_37_299.txt\"\n",
      "  warnings.warn('loadtxt: Empty input file: \"%s\"' % fname)\n"
     ]
    },
    {
     "name": "stdout",
     "output_type": "stream",
     "text": [
      "Found 1 clusters in /Users/mfisherlevine/Downloads/160808_usaf1/04/usaf1_2016_08_08_11_10_27_099.txt - TCUT = 257\n",
      "Found 1 clusters in /Users/mfisherlevine/Downloads/160808_usaf1/01/usaf1_2016_08_08_08_27_03_415.txt - TCUT = 257\n",
      "Found 1 clusters in /Users/mfisherlevine/Downloads/160808_usaf1/06/usaf1_2016_08_08_12_25_53_868.txt - TCUT = 257\n",
      "Found 1 clusters in /Users/mfisherlevine/Downloads/160808_usaf1/04/usaf1_2016_08_08_11_10_58_274.txt - TCUT = 257\n",
      "Found 1 clusters in /Users/mfisherlevine/Downloads/160808_usaf1/04/usaf1_2016_08_08_11_06_40_896.txt - TCUT = 257\n",
      "Centroided 187500 frames\n",
      "Found 1 clusters in /Users/mfisherlevine/Downloads/160808_usaf1/06/usaf1_2016_08_08_12_42_11_671.txt - TCUT = 257\n",
      "Found 1 clusters in /Users/mfisherlevine/Downloads/160808_usaf1/03/usaf1_2016_08_08_10_33_14_156.txt - TCUT = 257\n",
      "Centroided 188000 frames\n",
      "Found 1 clusters in /Users/mfisherlevine/Downloads/160808_usaf1/07/usaf1_2016_08_08_13_27_34_246.txt - TCUT = 257\n",
      "Found 1 clusters in /Users/mfisherlevine/Downloads/160808_usaf1/01/usaf1_2016_08_08_08_38_10_592.txt - TCUT = 257\n"
     ]
    },
    {
     "name": "stderr",
     "output_type": "stream",
     "text": [
      "/Users/mfisherlevine/anaconda/lib/python2.7/site-packages/numpy/lib/npyio.py:893: UserWarning: loadtxt: Empty input file: \"/Users/mfisherlevine/Downloads/160808_usaf1/03/usaf1_2016_08_08_10_00_08_255.txt\"\n",
      "  warnings.warn('loadtxt: Empty input file: \"%s\"' % fname)\n"
     ]
    },
    {
     "name": "stdout",
     "output_type": "stream",
     "text": [
      "Found 1 clusters in /Users/mfisherlevine/Downloads/160808_usaf1/07/usaf1_2016_08_08_13_17_25_060.txt - TCUT = 257\n",
      "Found 1 clusters in /Users/mfisherlevine/Downloads/160808_usaf1/04/usaf1_2016_08_08_11_18_10_001.txt - TCUT = 257\n",
      "Centroided 188500 frames\n",
      "Found 1 clusters in /Users/mfisherlevine/Downloads/160808_usaf1/07/usaf1_2016_08_08_12_50_46_898.txt - TCUT = 257\n",
      "Centroided 189000 frames\n",
      "Found 1 clusters in /Users/mfisherlevine/Downloads/160808_usaf1/05/usaf1_2016_08_08_11_49_59_773.txt - TCUT = 257\n",
      "Found 1 clusters in /Users/mfisherlevine/Downloads/160808_usaf1/05/usaf1_2016_08_08_11_43_36_310.txt - TCUT = 257\n",
      "Centroided 189500 frames\n",
      "Found 1 clusters in /Users/mfisherlevine/Downloads/160808_usaf1/06/usaf1_2016_08_08_12_40_10_828.txt - TCUT = 257\n",
      "Found 1 clusters in /Users/mfisherlevine/Downloads/160808_usaf1/04/usaf1_2016_08_08_10_51_34_608.txt - TCUT = 257\n"
     ]
    },
    {
     "name": "stderr",
     "output_type": "stream",
     "text": [
      "/Users/mfisherlevine/anaconda/lib/python2.7/site-packages/numpy/lib/npyio.py:893: UserWarning: loadtxt: Empty input file: \"/Users/mfisherlevine/Downloads/160808_usaf1/04/usaf1_2016_08_08_10_45_09_281.txt\"\n",
      "  warnings.warn('loadtxt: Empty input file: \"%s\"' % fname)\n"
     ]
    },
    {
     "name": "stdout",
     "output_type": "stream",
     "text": [
      "Centroided 190000 frames\n"
     ]
    },
    {
     "name": "stderr",
     "output_type": "stream",
     "text": [
      "/Users/mfisherlevine/anaconda/lib/python2.7/site-packages/numpy/lib/npyio.py:893: UserWarning: loadtxt: Empty input file: \"/Users/mfisherlevine/Downloads/160808_usaf1/03/usaf1_2016_08_08_10_15_37_428.txt\"\n",
      "  warnings.warn('loadtxt: Empty input file: \"%s\"' % fname)\n"
     ]
    },
    {
     "name": "stdout",
     "output_type": "stream",
     "text": [
      "Found 1 clusters in /Users/mfisherlevine/Downloads/160808_usaf1/01/usaf1_2016_08_08_08_59_39_151.txt - TCUT = 257\n"
     ]
    },
    {
     "name": "stderr",
     "output_type": "stream",
     "text": [
      "/Users/mfisherlevine/anaconda/lib/python2.7/site-packages/numpy/lib/npyio.py:893: UserWarning: loadtxt: Empty input file: \"/Users/mfisherlevine/Downloads/160808_usaf1/05/usaf1_2016_08_08_11_46_12_718.txt\"\n",
      "  warnings.warn('loadtxt: Empty input file: \"%s\"' % fname)\n"
     ]
    },
    {
     "name": "stdout",
     "output_type": "stream",
     "text": [
      "Found 1 clusters in /Users/mfisherlevine/Downloads/160808_usaf1/05/usaf1_2016_08_08_11_38_57_439.txt - TCUT = 257\n",
      "Centroided 190500 frames\n",
      "Centroided 191000 frames\n"
     ]
    },
    {
     "name": "stderr",
     "output_type": "stream",
     "text": [
      "/Users/mfisherlevine/anaconda/lib/python2.7/site-packages/numpy/lib/npyio.py:893: UserWarning: loadtxt: Empty input file: \"/Users/mfisherlevine/Downloads/160808_usaf1/06/usaf1_2016_08_08_12_44_25_916.txt\"\n",
      "  warnings.warn('loadtxt: Empty input file: \"%s\"' % fname)\n",
      "/Users/mfisherlevine/anaconda/lib/python2.7/site-packages/numpy/lib/npyio.py:893: UserWarning: loadtxt: Empty input file: \"/Users/mfisherlevine/Downloads/160808_usaf1/04/usaf1_2016_08_08_10_49_13_964.txt\"\n",
      "  warnings.warn('loadtxt: Empty input file: \"%s\"' % fname)\n"
     ]
    },
    {
     "name": "stdout",
     "output_type": "stream",
     "text": [
      "Found 1 clusters in /Users/mfisherlevine/Downloads/160808_usaf1/03/usaf1_2016_08_08_10_15_29_529.txt - TCUT = 257\n",
      "Found 1 clusters in /Users/mfisherlevine/Downloads/160808_usaf1/01/usaf1_2016_08_08_08_29_52_761.txt - TCUT = 257\n",
      "Found 1 clusters in /Users/mfisherlevine/Downloads/160808_usaf1/05/usaf1_2016_08_08_11_23_06_748.txt - TCUT = 257\n",
      "Found 1 clusters in /Users/mfisherlevine/Downloads/160808_usaf1/01/usaf1_2016_08_08_08_28_36_049.txt - TCUT = 257\n",
      "Found 1 clusters in /Users/mfisherlevine/Downloads/160808_usaf1/03/usaf1_2016_08_08_10_23_37_842.txt - TCUT = 257\n",
      "Centroided 191500 frames\n",
      "Found 1 clusters in /Users/mfisherlevine/Downloads/160808_usaf1/07/usaf1_2016_08_08_13_13_42_327.txt - TCUT = 257\n",
      "Found 1 clusters in /Users/mfisherlevine/Downloads/160808_usaf1/07/usaf1_2016_08_08_13_17_24_282.txt - TCUT = 257\n",
      "Found 1 clusters in /Users/mfisherlevine/Downloads/160808_usaf1/01/usaf1_2016_08_08_08_31_00_084.txt - TCUT = 257\n",
      "Centroided 192000 frames\n",
      "Found 1 clusters in /Users/mfisherlevine/Downloads/160808_usaf1/06/usaf1_2016_08_08_12_13_04_488.txt - TCUT = 257\n"
     ]
    },
    {
     "name": "stderr",
     "output_type": "stream",
     "text": [
      "/Users/mfisherlevine/anaconda/lib/python2.7/site-packages/numpy/lib/npyio.py:893: UserWarning: loadtxt: Empty input file: \"/Users/mfisherlevine/Downloads/160808_usaf1/07/usaf1_2016_08_08_13_12_21_463.txt\"\n",
      "  warnings.warn('loadtxt: Empty input file: \"%s\"' % fname)\n"
     ]
    },
    {
     "name": "stdout",
     "output_type": "stream",
     "text": [
      "Found 1 clusters in /Users/mfisherlevine/Downloads/160808_usaf1/02/usaf1_2016_08_08_09_31_56_071.txt - TCUT = 257\n",
      "Found 1 clusters in /Users/mfisherlevine/Downloads/160808_usaf1/07/usaf1_2016_08_08_12_48_55_329.txt - TCUT = 257\n"
     ]
    },
    {
     "name": "stderr",
     "output_type": "stream",
     "text": [
      "/Users/mfisherlevine/anaconda/lib/python2.7/site-packages/numpy/lib/npyio.py:893: UserWarning: loadtxt: Empty input file: \"/Users/mfisherlevine/Downloads/160808_usaf1/01/usaf1_2016_08_08_08_48_17_404.txt\"\n",
      "  warnings.warn('loadtxt: Empty input file: \"%s\"' % fname)\n"
     ]
    },
    {
     "name": "stdout",
     "output_type": "stream",
     "text": [
      "Centroided 192500 frames\n",
      "Found 1 clusters in /Users/mfisherlevine/Downloads/160808_usaf1/05/usaf1_2016_08_08_11_48_23_297.txt - TCUT = 257\n",
      "Found 1 clusters in /Users/mfisherlevine/Downloads/160808_usaf1/03/usaf1_2016_08_08_09_57_56_314.txt - TCUT = 257\n",
      "Centroided 193000 frames\n",
      "Found 1 clusters in /Users/mfisherlevine/Downloads/160808_usaf1/02/usaf1_2016_08_08_09_35_01_273.txt - TCUT = 257\n",
      "Found 1 clusters in /Users/mfisherlevine/Downloads/160808_usaf1/02/usaf1_2016_08_08_09_45_25_065.txt - TCUT = 257\n",
      "Found 1 clusters in /Users/mfisherlevine/Downloads/160808_usaf1/07/usaf1_2016_08_08_12_54_18_655.txt - TCUT = 257\n",
      "Centroided 193500 frames\n"
     ]
    },
    {
     "name": "stderr",
     "output_type": "stream",
     "text": [
      "/Users/mfisherlevine/anaconda/lib/python2.7/site-packages/numpy/lib/npyio.py:893: UserWarning: loadtxt: Empty input file: \"/Users/mfisherlevine/Downloads/160808_usaf1/04/usaf1_2016_08_08_11_14_53_068.txt\"\n",
      "  warnings.warn('loadtxt: Empty input file: \"%s\"' % fname)\n"
     ]
    },
    {
     "name": "stdout",
     "output_type": "stream",
     "text": [
      "Found 1 clusters in /Users/mfisherlevine/Downloads/160808_usaf1/02/usaf1_2016_08_08_09_21_23_173.txt - TCUT = 257\n"
     ]
    },
    {
     "name": "stderr",
     "output_type": "stream",
     "text": [
      "/Users/mfisherlevine/anaconda/lib/python2.7/site-packages/numpy/lib/npyio.py:893: UserWarning: loadtxt: Empty input file: \"/Users/mfisherlevine/Downloads/160808_usaf1/03/usaf1_2016_08_08_10_04_14_982.txt\"\n",
      "  warnings.warn('loadtxt: Empty input file: \"%s\"' % fname)\n"
     ]
    },
    {
     "name": "stdout",
     "output_type": "stream",
     "text": [
      "Found 1 clusters in /Users/mfisherlevine/Downloads/160808_usaf1/06/usaf1_2016_08_08_12_23_28_749.txt - TCUT = 257\n",
      "Centroided 194000 frames\n"
     ]
    },
    {
     "name": "stderr",
     "output_type": "stream",
     "text": [
      "/Users/mfisherlevine/anaconda/lib/python2.7/site-packages/numpy/lib/npyio.py:893: UserWarning: loadtxt: Empty input file: \"/Users/mfisherlevine/Downloads/160808_usaf1/03/usaf1_2016_08_08_10_11_33_273.txt\"\n",
      "  warnings.warn('loadtxt: Empty input file: \"%s\"' % fname)\n"
     ]
    },
    {
     "name": "stdout",
     "output_type": "stream",
     "text": [
      "Found 1 clusters in /Users/mfisherlevine/Downloads/160808_usaf1/02/usaf1_2016_08_08_09_15_28_917.txt - TCUT = 257\n"
     ]
    },
    {
     "name": "stderr",
     "output_type": "stream",
     "text": [
      "/Users/mfisherlevine/anaconda/lib/python2.7/site-packages/numpy/lib/npyio.py:893: UserWarning: loadtxt: Empty input file: \"/Users/mfisherlevine/Downloads/160808_usaf1/00/usaf1_2016_08_08_08_04_37_623.txt\"\n",
      "  warnings.warn('loadtxt: Empty input file: \"%s\"' % fname)\n",
      "/Users/mfisherlevine/anaconda/lib/python2.7/site-packages/numpy/lib/npyio.py:893: UserWarning: loadtxt: Empty input file: \"/Users/mfisherlevine/Downloads/160808_usaf1/06/usaf1_2016_08_08_12_45_42_721.txt\"\n",
      "  warnings.warn('loadtxt: Empty input file: \"%s\"' % fname)\n",
      "/Users/mfisherlevine/anaconda/lib/python2.7/site-packages/numpy/lib/npyio.py:893: UserWarning: loadtxt: Empty input file: \"/Users/mfisherlevine/Downloads/160808_usaf1/02/usaf1_2016_08_08_09_47_26_086.txt\"\n",
      "  warnings.warn('loadtxt: Empty input file: \"%s\"' % fname)\n"
     ]
    },
    {
     "name": "stdout",
     "output_type": "stream",
     "text": [
      "Centroided 194500 frames\n",
      "Found 1 clusters in /Users/mfisherlevine/Downloads/160808_usaf1/03/usaf1_2016_08_08_10_32_29_148.txt - TCUT = 257\n",
      "Found 1 clusters in /Users/mfisherlevine/Downloads/160808_usaf1/06/usaf1_2016_08_08_12_16_09_193.txt - TCUT = 257\n",
      "Centroided 195000 frames\n",
      "Found 1 clusters in /Users/mfisherlevine/Downloads/160808_usaf1/05/usaf1_2016_08_08_11_44_39_588.txt - TCUT = 257\n",
      "Centroided 195500 frames\n",
      "Found 1 clusters in /Users/mfisherlevine/Downloads/160808_usaf1/01/usaf1_2016_08_08_08_33_29_190.txt - TCUT = 257\n",
      "Found 1 clusters in /Users/mfisherlevine/Downloads/160808_usaf1/06/usaf1_2016_08_08_12_12_14_602.txt - TCUT = 257\n",
      "Found 1 clusters in /Users/mfisherlevine/Downloads/160808_usaf1/04/usaf1_2016_08_08_11_06_26_244.txt - TCUT = 257\n",
      "Found 1 clusters in /Users/mfisherlevine/Downloads/160808_usaf1/06/usaf1_2016_08_08_12_11_19_373.txt - TCUT = 257\n",
      "Found 1 clusters in /Users/mfisherlevine/Downloads/160808_usaf1/01/usaf1_2016_08_08_09_04_49_354.txt - TCUT = 257\n",
      "Centroided 196000 frames\n",
      "Found 1 clusters in /Users/mfisherlevine/Downloads/160808_usaf1/03/usaf1_2016_08_08_09_56_46_012.txt - TCUT = 257\n",
      "Found 1 clusters in /Users/mfisherlevine/Downloads/160808_usaf1/06/usaf1_2016_08_08_12_33_30_809.txt - TCUT = 257\n"
     ]
    },
    {
     "name": "stderr",
     "output_type": "stream",
     "text": [
      "/Users/mfisherlevine/anaconda/lib/python2.7/site-packages/numpy/lib/npyio.py:893: UserWarning: loadtxt: Empty input file: \"/Users/mfisherlevine/Downloads/160808_usaf1/03/usaf1_2016_08_08_10_09_07_372.txt\"\n",
      "  warnings.warn('loadtxt: Empty input file: \"%s\"' % fname)\n"
     ]
    },
    {
     "name": "stdout",
     "output_type": "stream",
     "text": [
      "Centroided 196500 frames\n",
      "Found 1 clusters in /Users/mfisherlevine/Downloads/160808_usaf1/04/usaf1_2016_08_08_10_50_08_741.txt - TCUT = 257\n"
     ]
    },
    {
     "name": "stderr",
     "output_type": "stream",
     "text": [
      "/Users/mfisherlevine/anaconda/lib/python2.7/site-packages/numpy/lib/npyio.py:893: UserWarning: loadtxt: Empty input file: \"/Users/mfisherlevine/Downloads/160808_usaf1/06/usaf1_2016_08_08_12_42_07_096.txt\"\n",
      "  warnings.warn('loadtxt: Empty input file: \"%s\"' % fname)\n"
     ]
    },
    {
     "name": "stdout",
     "output_type": "stream",
     "text": [
      "Found 1 clusters in /Users/mfisherlevine/Downloads/160808_usaf1/04/usaf1_2016_08_08_11_15_22_772.txt - TCUT = 257\n",
      "Centroided 197000 frames\n",
      "Found 1 clusters in /Users/mfisherlevine/Downloads/160808_usaf1/04/usaf1_2016_08_08_10_57_11_103.txt - TCUT = 257\n",
      "Found 1 clusters in /Users/mfisherlevine/Downloads/160808_usaf1/03/usaf1_2016_08_08_10_08_56_884.txt - TCUT = 257\n",
      "Found 1 clusters in /Users/mfisherlevine/Downloads/160808_usaf1/06/usaf1_2016_08_08_12_09_44_025.txt - TCUT = 257\n"
     ]
    },
    {
     "name": "stderr",
     "output_type": "stream",
     "text": [
      "/Users/mfisherlevine/anaconda/lib/python2.7/site-packages/numpy/lib/npyio.py:893: UserWarning: loadtxt: Empty input file: \"/Users/mfisherlevine/Downloads/160808_usaf1/04/usaf1_2016_08_08_10_57_48_568.txt\"\n",
      "  warnings.warn('loadtxt: Empty input file: \"%s\"' % fname)\n"
     ]
    },
    {
     "name": "stdout",
     "output_type": "stream",
     "text": [
      "Found 1 clusters in /Users/mfisherlevine/Downloads/160808_usaf1/05/usaf1_2016_08_08_11_22_59_267.txt - TCUT = 257\n"
     ]
    },
    {
     "name": "stderr",
     "output_type": "stream",
     "text": [
      "/Users/mfisherlevine/anaconda/lib/python2.7/site-packages/numpy/lib/npyio.py:893: UserWarning: loadtxt: Empty input file: \"/Users/mfisherlevine/Downloads/160808_usaf1/06/usaf1_2016_08_08_12_44_16_067.txt\"\n",
      "  warnings.warn('loadtxt: Empty input file: \"%s\"' % fname)\n"
     ]
    },
    {
     "name": "stdout",
     "output_type": "stream",
     "text": [
      "Centroided 197500 frames\n",
      "Found 1 clusters in /Users/mfisherlevine/Downloads/160808_usaf1/07/usaf1_2016_08_08_13_16_23_047.txt - TCUT = 257\n"
     ]
    },
    {
     "name": "stderr",
     "output_type": "stream",
     "text": [
      "/Users/mfisherlevine/anaconda/lib/python2.7/site-packages/numpy/lib/npyio.py:893: UserWarning: loadtxt: Empty input file: \"/Users/mfisherlevine/Downloads/160808_usaf1/02/usaf1_2016_08_08_09_27_31_965.txt\"\n",
      "  warnings.warn('loadtxt: Empty input file: \"%s\"' % fname)\n",
      "/Users/mfisherlevine/anaconda/lib/python2.7/site-packages/numpy/lib/npyio.py:893: UserWarning: loadtxt: Empty input file: \"/Users/mfisherlevine/Downloads/160808_usaf1/05/usaf1_2016_08_08_11_47_20_202.txt\"\n",
      "  warnings.warn('loadtxt: Empty input file: \"%s\"' % fname)\n",
      "/Users/mfisherlevine/anaconda/lib/python2.7/site-packages/numpy/lib/npyio.py:893: UserWarning: loadtxt: Empty input file: \"/Users/mfisherlevine/Downloads/160808_usaf1/03/usaf1_2016_08_08_10_13_19_022.txt\"\n",
      "  warnings.warn('loadtxt: Empty input file: \"%s\"' % fname)\n"
     ]
    },
    {
     "name": "stdout",
     "output_type": "stream",
     "text": [
      "Centroided 198000 frames\n"
     ]
    },
    {
     "name": "stderr",
     "output_type": "stream",
     "text": [
      "/Users/mfisherlevine/anaconda/lib/python2.7/site-packages/numpy/lib/npyio.py:893: UserWarning: loadtxt: Empty input file: \"/Users/mfisherlevine/Downloads/160808_usaf1/05/usaf1_2016_08_08_12_01_35_700.txt\"\n",
      "  warnings.warn('loadtxt: Empty input file: \"%s\"' % fname)\n"
     ]
    },
    {
     "name": "stdout",
     "output_type": "stream",
     "text": [
      "Centroided 198500 frames\n",
      "Found 1 clusters in /Users/mfisherlevine/Downloads/160808_usaf1/06/usaf1_2016_08_08_12_37_18_697.txt - TCUT = 257\n",
      "Found 1 clusters in /Users/mfisherlevine/Downloads/160808_usaf1/04/usaf1_2016_08_08_11_09_42_085.txt - TCUT = 257\n",
      "Centroided 199000 frames\n",
      "Found 1 clusters in /Users/mfisherlevine/Downloads/160808_usaf1/04/usaf1_2016_08_08_10_43_33_105.txt - TCUT = 257\n",
      "Found 1 clusters in /Users/mfisherlevine/Downloads/160808_usaf1/03/usaf1_2016_08_08_10_16_15_657.txt - TCUT = 257\n",
      "Centroided 199500 frames\n"
     ]
    },
    {
     "name": "stderr",
     "output_type": "stream",
     "text": [
      "/Users/mfisherlevine/anaconda/lib/python2.7/site-packages/numpy/lib/npyio.py:893: UserWarning: loadtxt: Empty input file: \"/Users/mfisherlevine/Downloads/160808_usaf1/00/usaf1_2016_08_08_07_57_29_631.txt\"\n",
      "  warnings.warn('loadtxt: Empty input file: \"%s\"' % fname)\n"
     ]
    },
    {
     "name": "stdout",
     "output_type": "stream",
     "text": [
      "Found 1 clusters in /Users/mfisherlevine/Downloads/160808_usaf1/03/usaf1_2016_08_08_10_31_34_632.txt - TCUT = 257\n"
     ]
    },
    {
     "name": "stderr",
     "output_type": "stream",
     "text": [
      "/Users/mfisherlevine/anaconda/lib/python2.7/site-packages/numpy/lib/npyio.py:893: UserWarning: loadtxt: Empty input file: \"/Users/mfisherlevine/Downloads/160808_usaf1/06/usaf1_2016_08_08_12_09_44_120.txt\"\n",
      "  warnings.warn('loadtxt: Empty input file: \"%s\"' % fname)\n"
     ]
    },
    {
     "name": "stdout",
     "output_type": "stream",
     "text": [
      "Found 1 clusters in /Users/mfisherlevine/Downloads/160808_usaf1/05/usaf1_2016_08_08_11_34_06_973.txt - TCUT = 257\n",
      "Found 1 clusters in /Users/mfisherlevine/Downloads/160808_usaf1/00/usaf1_2016_08_08_08_14_02_213.txt - TCUT = 257\n",
      "Found 1 clusters in /Users/mfisherlevine/Downloads/160808_usaf1/06/usaf1_2016_08_08_12_13_10_384.txt - TCUT = 257\n",
      "Finished IR\n"
     ]
    }
   ],
   "source": [
    "fn = reload(fn)\n",
    "import time\n",
    "\n",
    "# NB These are different units!\n",
    "TCUT = 257 #Raw timecode cut for centroiding\n",
    "# TZERO = 1700 #Time, in ns, after inversion and conversion, to set as t0\n",
    "TZERO = 0 #Time, in ns, after inversion and conversion, to set as t0\n",
    "\n",
    "run_id = 'tcut%s_tzero%s'%(TCUT, TZERO)\n",
    "\n",
    "now = time.time()\n",
    "for i, filename in enumerate(tp_data_ir.keys()):\n",
    "    if i%500==0:print 'Centroided %s frames'%i; sys.stdout.flush()\n",
    "\n",
    "    filename = tp_data_ir[filename]['filename']\n",
    "    dummy, xs, ys, ts, npixs = fn.GetCentroidsXYTFromFile(filename, TCUT,winow_xmax=XMAX,winow_xmin=XMIN,winow_ymax=YMAX,winow_ymin=YMIN,skiplines=1)#, gating=[8400,8])\n",
    "    tp_data_ir[filename]['xs'] = xs\n",
    "    tp_data_ir[filename]['ys'] = ys\n",
    "#         tp_data[filename]['ts'] = [(_-TZERO)*20 for _ in ts]#already inverted, just translate to ns\n",
    "    tp_data_ir[filename]['ts'] = [(_-TZERO) for _ in ts]#already inverted, just translate to ns\n",
    "    tp_data_ir[filename]['npixs'] = npixs\n",
    "    tp_data_ir[filename]['n_ions'] = len(xs)\n",
    "print 'Finished IR'\n"
   ]
  },
  {
   "cell_type": "code",
   "execution_count": 9,
   "metadata": {
    "collapsed": false
   },
   "outputs": [
    {
     "name": "stdout",
     "output_type": "stream",
     "text": [
      "IR: Collated centroided timecodes from 200000 shots\n",
      "IR: 5877295 times in total\n"
     ]
    }
   ],
   "source": [
    "# Put all the centroided timecodes in a single list for convenience\n",
    "all_ts_ir = []\n",
    "n_loaded = 0\n",
    "for bunchID in tp_data_ir.keys():\n",
    "    if 'ts' in tp_data_ir[bunchID].keys():\n",
    "        all_ts_ir.extend(tp_data_ir[bunchID]['ts'])\n",
    "        n_loaded += 1\n",
    "print 'IR: Collated centroided timecodes from %s shots'%n_loaded\n",
    "print 'IR: %s times in total'%len(all_ts_ir)\n"
   ]
  },
  {
   "cell_type": "code",
   "execution_count": 10,
   "metadata": {
    "collapsed": false
   },
   "outputs": [
    {
     "name": "stdout",
     "output_type": "stream",
     "text": [
      "IR: 5147204 times in total\n"
     ]
    }
   ],
   "source": [
    "# Put all the centroided timecodes in a single list for convenience\n",
    "all_ts_4pix_ir = []\n",
    "n_loaded = 0\n",
    "for bunchID in tp_data_ir.keys():\n",
    "    if 'ts' in tp_data_ir[bunchID].keys():\n",
    "        for npix, t in zip(tp_data_ir[bunchID]['npixs'],tp_data_ir[bunchID]['ts']):\n",
    "            if npix>=4:\n",
    "                all_ts_4pix_ir.append(t)\n",
    "                n_loaded += 1\n",
    "print 'IR: %s times in total'%len(all_ts_4pix_ir)\n",
    "    "
   ]
  },
  {
   "cell_type": "code",
   "execution_count": 11,
   "metadata": {
    "collapsed": false
   },
   "outputs": [
    {
     "name": "stdout",
     "output_type": "stream",
     "text": [
      "5877295\n"
     ]
    }
   ],
   "source": [
    "count = 0\n",
    "for bunchID in tp_data_ir.keys():\n",
    "    count += len(tp_data_ir[bunchID]['ts'])\n",
    "print count"
   ]
  },
  {
   "cell_type": "raw",
   "metadata": {},
   "source": [
    "Make the same plot as before, but plotting the number of ions, rather than the number of timecodes. After that, we'll look at the correlation for single ion species (just because it's easy)."
   ]
  },
  {
   "cell_type": "raw",
   "metadata": {},
   "source": [
    "Let's look at the TOF spectrum, including the raw spectrum:"
   ]
  },
  {
   "cell_type": "code",
   "execution_count": 12,
   "metadata": {
    "collapsed": false,
    "scrolled": true
   },
   "outputs": [
    {
     "name": "stdout",
     "output_type": "stream",
     "text": [
      "Loaded 0 files\n",
      "Loaded 1000 files\n",
      "Loaded 2000 files\n",
      "Loaded 3000 files\n",
      "Loaded 4000 files\n",
      "Loaded 5000 files\n",
      "Loaded 6000 files\n",
      "Loaded 7000 files\n",
      "Loaded 8000 files\n",
      "Loaded 9000 files\n",
      "Loaded 10000 files\n",
      "Loaded 11000 files\n",
      "Loaded 12000 files\n",
      "Loaded 13000 files\n",
      "Loaded 14000 files\n",
      "Loaded 15000 files\n",
      "Loaded 16000 files\n",
      "Loaded 17000 files\n",
      "Loaded 18000 files\n",
      "Loaded 19000 files\n",
      "Loaded 20000 files\n",
      "Loaded 21000 files\n",
      "Loaded 22000 files\n",
      "Loaded 23000 files\n",
      "Loaded 24000 files\n",
      "Loaded 25000 files\n",
      "Loaded 26000 files\n",
      "Loaded 27000 files\n",
      "Loaded 28000 files\n",
      "Loaded 29000 files\n",
      "Loaded 30000 files\n",
      "Loaded 31000 files\n",
      "Loaded 32000 files\n",
      "Loaded 33000 files\n",
      "Loaded 34000 files\n",
      "Loaded 35000 files\n",
      "Loaded 36000 files\n",
      "Loaded 37000 files\n",
      "Loaded 38000 files\n",
      "Loaded 39000 files\n",
      "Loaded 40000 files\n",
      "Loaded 41000 files\n",
      "Loaded 42000 files\n",
      "Loaded 43000 files\n",
      "Loaded 44000 files\n",
      "Loaded 45000 files\n",
      "Loaded 46000 files\n",
      "Loaded 47000 files\n",
      "Loaded 48000 files\n",
      "Loaded 49000 files\n",
      "Loaded 50000 files\n",
      "Loaded 51000 files\n",
      "Loaded 52000 files\n",
      "Loaded 53000 files\n",
      "Loaded 54000 files\n",
      "Loaded 55000 files\n",
      "Loaded 56000 files\n",
      "Loaded 57000 files\n",
      "Loaded 58000 files\n",
      "Loaded 59000 files\n",
      "Loaded 60000 files\n",
      "Loaded 61000 files\n",
      "Loaded 62000 files\n",
      "Loaded 63000 files\n",
      "Loaded 64000 files\n",
      "Loaded 65000 files\n",
      "Loaded 66000 files\n",
      "Loaded 67000 files\n",
      "Loaded 68000 files\n",
      "Loaded 69000 files\n",
      "Loaded 70000 files\n",
      "Loaded 71000 files\n",
      "Loaded 72000 files\n",
      "Loaded 73000 files\n",
      "Loaded 74000 files\n",
      "Loaded 75000 files\n",
      "Loaded 76000 files\n",
      "Loaded 77000 files\n",
      "Loaded 78000 files\n",
      "Loaded 79000 files\n",
      "Loaded 80000 files\n",
      "Loaded 81000 files\n",
      "Loaded 82000 files\n",
      "Loaded 83000 files\n",
      "Loaded 84000 files\n",
      "Loaded 85000 files\n",
      "Loaded 86000 files\n",
      "Loaded 87000 files\n",
      "Loaded 88000 files\n",
      "Loaded 89000 files\n",
      "Loaded 90000 files\n",
      "Loaded 91000 files\n",
      "Loaded 92000 files\n",
      "Loaded 93000 files\n",
      "Loaded 94000 files\n",
      "Loaded 95000 files\n",
      "Loaded 96000 files\n",
      "Loaded 97000 files\n",
      "Loaded 98000 files\n",
      "Loaded 99000 files\n",
      "Loaded 100000 files\n",
      "Loaded 101000 files\n",
      "Loaded 102000 files\n",
      "Loaded 103000 files\n",
      "Loaded 104000 files\n",
      "Loaded 105000 files\n",
      "Loaded 106000 files\n",
      "Loaded 107000 files\n",
      "Loaded 108000 files\n",
      "Loaded 109000 files\n",
      "Loaded 110000 files\n",
      "Loaded 111000 files\n",
      "Loaded 112000 files\n",
      "Loaded 113000 files\n",
      "Loaded 114000 files\n",
      "Loaded 115000 files\n",
      "Loaded 116000 files\n",
      "Loaded 117000 files\n",
      "Loaded 118000 files\n",
      "Loaded 119000 files\n",
      "Loaded 120000 files\n",
      "Loaded 121000 files\n",
      "Loaded 122000 files\n",
      "Loaded 123000 files\n",
      "Loaded 124000 files\n",
      "Loaded 125000 files\n",
      "Loaded 126000 files\n",
      "Loaded 127000 files\n",
      "Loaded 128000 files\n",
      "Loaded 129000 files\n",
      "Loaded 130000 files\n",
      "Loaded 131000 files\n",
      "Loaded 132000 files\n",
      "Loaded 133000 files\n",
      "Loaded 134000 files\n",
      "Loaded 135000 files\n",
      "Loaded 136000 files\n",
      "Loaded 137000 files\n",
      "Loaded 138000 files\n",
      "Loaded 139000 files\n",
      "Loaded 140000 files\n",
      "Loaded 141000 files\n",
      "Loaded 142000 files\n",
      "Loaded 143000 files\n",
      "Loaded 144000 files\n",
      "Loaded 145000 files\n",
      "Loaded 146000 files\n",
      "Loaded 147000 files\n",
      "Loaded 148000 files\n",
      "Loaded 149000 files\n",
      "Loaded 150000 files\n",
      "Loaded 151000 files\n",
      "Loaded 152000 files\n",
      "Loaded 153000 files\n",
      "Loaded 154000 files\n",
      "Loaded 155000 files\n",
      "Loaded 156000 files\n",
      "Loaded 157000 files\n",
      "Loaded 158000 files\n",
      "Loaded 159000 files\n",
      "Loaded 160000 files\n",
      "Loaded 161000 files\n",
      "Loaded 162000 files\n",
      "Loaded 163000 files\n",
      "Loaded 164000 files\n",
      "Loaded 165000 files\n",
      "Loaded 166000 files\n",
      "Loaded 167000 files\n",
      "Loaded 168000 files\n",
      "Loaded 169000 files\n",
      "Loaded 170000 files\n",
      "Loaded 171000 files\n",
      "Loaded 172000 files\n",
      "Loaded 173000 files\n",
      "Loaded 174000 files\n",
      "Loaded 175000 files\n",
      "Loaded 176000 files\n",
      "Loaded 177000 files\n",
      "Loaded 178000 files\n",
      "Loaded 179000 files\n",
      "Loaded 180000 files\n",
      "Loaded 181000 files\n",
      "Loaded 182000 files\n",
      "Loaded 183000 files\n",
      "Loaded 184000 files\n",
      "Loaded 185000 files\n",
      "Loaded 186000 files\n",
      "Loaded 187000 files\n",
      "Loaded 188000 files\n",
      "Loaded 189000 files\n",
      "Loaded 190000 files\n",
      "Loaded 191000 files\n",
      "Loaded 192000 files\n",
      "Loaded 193000 files\n",
      "Loaded 194000 files\n",
      "Loaded 195000 files\n",
      "Loaded 196000 files\n",
      "Loaded 197000 files\n",
      "Loaded 198000 files\n",
      "Loaded 199000 files\n",
      "IR: Loaded 57818258 raw timecodes\n"
     ]
    }
   ],
   "source": [
    "# Load the raw timecodes, converting the same way as the others\n",
    "fn = reload(fn)\n",
    "\n",
    "raw_timecodes_ir = []\n",
    "for i, filename in enumerate(tp_datafiles_ir):\n",
    "    if i%1000==0: print 'Loaded %s files'%i; sys.stdout.flush()\n",
    "#     raw_timecodes_ir.extend(((11810-_)-TZERO) for _ in fn.GetTimecodes_SingleFile(filename, skiplines=0))\n",
    "    raw_timecodes_ir.extend(((11810-_)-TZERO) for _ in fn.GetTimecodes_SingleFile(filename, skiplines=1,winow_xmax=XMAX,winow_xmin=XMIN,winow_ymax=YMAX,winow_ymin=YMIN))\n",
    "print 'IR: Loaded %s raw timecodes'%len(raw_timecodes_ir)\n"
   ]
  },
  {
   "cell_type": "code",
   "execution_count": null,
   "metadata": {
    "collapsed": false
   },
   "outputs": [],
   "source": [
    "print len(tp_datafiles_ir)"
   ]
  },
  {
   "cell_type": "code",
   "execution_count": 15,
   "metadata": {
    "collapsed": false
   },
   "outputs": [
    {
     "name": "stdout",
     "output_type": "stream",
     "text": [
      "Raw timecodes a histogram:\n"
     ]
    },
    {
     "data": {
      "image/png": "[encoded data removed]",
      "text/plain": [
       "<matplotlib.figure.Figure at 0x1adf91890>"
      ]
     },
     "metadata": {},
     "output_type": "display_data"
    },
    {
     "name": "stdout",
     "output_type": "stream",
     "text": [
      "As a histogram:\n"
     ]
    },
    {
     "data": {
      "image/png": "[encoded data removed]",
      "text/plain": [
       "<matplotlib.figure.Figure at 0x1ae0b0890>"
      ]
     },
     "metadata": {},
     "output_type": "display_data"
    },
    {
     "name": "stdout",
     "output_type": "stream",
     "text": [
      "With 4 pixel threshold:\n"
     ]
    },
    {
     "data": {
      "image/png": "[encoded data removed]",
      "text/plain": [
       "<matplotlib.figure.Figure at 0x1b1610150>"
      ]
     },
     "metadata": {},
     "output_type": "display_data"
    }
   ],
   "source": [
    "# range = [0,11810]\n",
    "range = [1700,1850]\n",
    "\n",
    "############\n",
    "# for the raw spectrum:\n",
    "\n",
    "y_rescale = 1.1 # big peak is too big, so clip y-axis by rescaling to this fraction of max\n",
    "bins = min(int((max(raw_timecodes_ir)-min(raw_timecodes_ir)+1)),(range[1]-range[0]+1))\n",
    "# print bins\n",
    "fig = pl.figure(figsize=[16,4])\n",
    "ax = pl.subplot(111)\n",
    "\n",
    "# as a hist\n",
    "print 'Raw timecodes a histogram:'\n",
    "ys_ir, binEdges_ir, dummy1 = pl.hist(raw_timecodes_ir, bins=bins, range=range, histtype = 'step')\n",
    "# bincenters = 0.5*(binEdges[1:]+binEdges[:-1])\n",
    "lims = pl.ylim()\n",
    "pl.ylim([lims[0], y_rescale*max(ys_ir)])\n",
    "# ax.set_xticks(ticks, minor=False)\n",
    "# turn_raw, stat_raw, troughs_raw, peaks_raw = fn.GetTurningPoints(ys, bincenters, noise=20)\n",
    "# ax.set_xticks(troughs_raw, minor=False)\n",
    "ax.xaxis.grid(True, which='major')\n",
    "pl.xlim(range[0],range[1])\n",
    "pl.show()\n",
    "\n",
    "\n",
    "############\n",
    "# for the centroided spectrum:\n",
    "\n",
    "y_rescale = 1.1 # big peak is too big, so clip y-axis by rescaling to this fraction of max\n",
    "# bins = min(int((max(all_ts)-min(all_ts)+1)),(range[1]-range[0]+1))\n",
    "\n",
    "fig = pl.figure(figsize=[16,4])\n",
    "ax = pl.subplot(111)\n",
    "\n",
    "# as a hist\n",
    "print 'As a histogram:'\n",
    "ys_ir, binEdges_ir, dummy1 = pl.hist(all_ts_ir, bins=bins, range=range, histtype = 'step')\n",
    "\n",
    "# bincenters = 0.5*(binEdges[1:]+binEdges[:-1])\n",
    "# turn_cent, stat_cent, troughs_cent, peaks_cent = fn.GetTurningPoints(ys, bincenters, noise=1)\n",
    "lims = pl.ylim()\n",
    "pl.xlim(range[0],range[1])\n",
    "pl.ylim([lims[0], y_rescale*max(ys_ir)])\n",
    "# ax.set_xticks(troughs_cent, minor=False)\n",
    "ax.xaxis.grid(True, which='major')\n",
    "pl.show()\n",
    "\n",
    "# as a hist\n",
    "fig = pl.figure(figsize=[16,4])\n",
    "ax = pl.subplot(111)\n",
    "print 'With 4 pixel threshold:'\n",
    "ys_ir, binEdges_ir, dummy1 = pl.hist(all_ts_4pix_ir, bins=bins, range=range, histtype = 'step')\n",
    "\n",
    "# bincenters = 0.5*(binEdges[1:]+binEdges[:-1])\n",
    "# turn_cent, stat_cent, troughs_cent, peaks_cent = fn.GetTurningPoints(ys, bincenters, noise=0)\n",
    "lims = pl.ylim()\n",
    "pl.xlim(range[0],range[1])\n",
    "pl.ylim([lims[0], y_rescale*max(ys_ir)])\n",
    "# ax.set_xticks(troughs_cent, minor=False)\n",
    "ax.xaxis.grid(True, which='major')\n",
    "pl.show()\n"
   ]
  },
  {
   "cell_type": "code",
   "execution_count": null,
   "metadata": {
    "collapsed": false,
    "scrolled": true
   },
   "outputs": [],
   "source": [
    "for t, y in zip(binEdges_ir,ys_ir):\n",
    "    print t, y"
   ]
  },
  {
   "cell_type": "raw",
   "metadata": {},
   "source": [
    "Make a VMI image for each band. Whilst it looks like the loop is nested backward, I wrote it the other way around too and it's actually no faster as python's tpye checking during the band finding is so slow, and it's easier to understand and debug this way around."
   ]
  },
  {
   "cell_type": "code",
   "execution_count": null,
   "metadata": {
    "collapsed": false
   },
   "outputs": [],
   "source": [
    "bands = []\n",
    "# # for i in xrange(len(troughs_cent)-1):\n",
    "# #     bands.append((troughs_cent[i],troughs_cent[i+1]))\n",
    "# # print bands\n",
    "# bands.append([0,250])\n",
    "\n",
    "# bands.append([900,910])\n",
    "# bands.append([910,920])\n",
    "# bands.append([920,930])\n",
    "# bands.append([930,940])\n",
    "# bands.append([940,950])\n",
    "# bands.append([950,1000])\n",
    "# bands.append([1000,1200])\n",
    "\n",
    "bands.append([1820,1860])\n"
   ]
  },
  {
   "cell_type": "code",
   "execution_count": null,
   "metadata": {
    "collapsed": false
   },
   "outputs": [],
   "source": [
    "#probably don't need to rerun this, and it takes ages, so don't do it by accident:\n",
    "if True: \n",
    "    import time\n",
    "    now = time.time()\n",
    "    n_bunches = 999999\n",
    "\n",
    "    images_ir = [np.zeros((256,256), dtype = np.float64) for _ in bands]\n",
    "    for i, t_range in enumerate(bands):\n",
    "        print 'Processing band %s of %s'%(i+1, len(bands))\n",
    "        for bunchID in sorted(tp_data_ir.keys())[:min(n_bunches,tp_data_ir.keys())]:\n",
    "            for x,y,t,npix in zip(tp_data_ir[bunchID]['xs'],\n",
    "                                  tp_data_ir[bunchID]['ys'],\n",
    "                                  tp_data_ir[bunchID]['ts'],\n",
    "                                  tp_data_ir[bunchID]['npixs']):\n",
    "                if t >= t_range[0] and t<t_range[1]:\n",
    "                    images_ir[i] += fn.makeGaussian(256,1,1,[x,y])\n",
    "#                     images_ir[i] += fn.makeGaussian(256,1,(npix**.5)/1.5,[x,y])\n",
    "\n",
    "    print 'Took %.1f secs'%(time.time()-now)\n"
   ]
  },
  {
   "cell_type": "code",
   "execution_count": 97,
   "metadata": {
    "collapsed": false
   },
   "outputs": [
    {
     "name": "stdout",
     "output_type": "stream",
     "text": [
      "200000\n"
     ]
    }
   ],
   "source": [
    "print len(tp_data_ir.keys())"
   ]
  },
  {
   "cell_type": "code",
   "execution_count": 103,
   "metadata": {
    "collapsed": false,
    "scrolled": true
   },
   "outputs": [
    {
     "name": "stdout",
     "output_type": "stream",
     "text": [
      "Processing band 1 of 1\n",
      "0\n",
      "1000\n",
      "2000\n",
      "3000\n",
      "4000\n",
      "5000\n",
      "6000\n",
      "7000\n",
      "8000\n",
      "9000\n",
      "10000\n",
      "11000\n",
      "12000\n",
      "13000\n",
      "14000\n",
      "15000\n",
      "16000\n",
      "17000\n",
      "18000\n",
      "19000\n",
      "20000\n",
      "21000\n",
      "22000\n",
      "23000\n",
      "24000\n",
      "25000\n",
      "26000\n",
      "27000\n",
      "28000\n",
      "29000\n",
      "30000\n",
      "31000\n",
      "32000\n",
      "33000\n",
      "34000\n",
      "35000\n",
      "36000\n",
      "37000\n",
      "38000\n",
      "39000\n",
      "40000\n",
      "41000\n",
      "42000\n",
      "43000\n",
      "44000\n",
      "45000\n",
      "46000\n",
      "47000\n",
      "48000\n",
      "49000\n",
      "50000\n",
      "51000\n",
      "52000\n",
      "53000\n",
      "54000\n",
      "55000\n",
      "56000\n",
      "57000\n",
      "58000\n",
      "59000\n",
      "60000\n",
      "61000\n",
      "62000\n",
      "63000\n",
      "64000\n",
      "65000\n",
      "66000\n",
      "67000\n",
      "68000\n",
      "69000\n",
      "70000\n",
      "71000\n",
      "72000\n",
      "73000\n",
      "74000\n",
      "75000\n",
      "76000\n",
      "77000\n",
      "78000\n",
      "79000\n",
      "80000\n",
      "81000\n",
      "82000\n",
      "83000\n",
      "84000\n",
      "85000\n",
      "86000\n",
      "87000\n",
      "88000\n",
      "89000\n",
      "90000\n",
      "91000\n",
      "92000\n",
      "93000\n",
      "94000\n",
      "95000\n",
      "96000\n",
      "97000\n",
      "98000\n",
      "99000\n",
      "100000\n",
      "101000\n",
      "102000\n",
      "103000\n",
      "104000\n",
      "105000\n",
      "106000\n",
      "107000\n",
      "108000\n",
      "109000\n",
      "110000\n",
      "111000\n",
      "112000\n",
      "113000\n",
      "114000\n",
      "115000\n",
      "116000\n",
      "117000\n",
      "118000\n",
      "119000\n",
      "120000\n",
      "121000\n",
      "122000\n",
      "123000\n",
      "124000\n",
      "125000\n",
      "126000\n",
      "127000\n",
      "128000\n",
      "129000\n",
      "130000\n",
      "131000\n",
      "132000\n",
      "133000\n",
      "134000\n",
      "135000\n",
      "136000\n",
      "137000\n",
      "138000\n",
      "139000\n",
      "140000\n",
      "141000\n",
      "142000\n",
      "143000\n",
      "144000\n",
      "145000\n",
      "146000\n",
      "147000\n",
      "148000\n",
      "149000\n",
      "150000\n",
      "151000\n",
      "152000\n",
      "153000\n",
      "154000\n",
      "155000\n",
      "156000\n",
      "157000\n",
      "158000\n",
      "159000\n",
      "160000\n",
      "161000\n",
      "162000\n",
      "163000\n",
      "164000\n",
      "165000\n",
      "166000\n",
      "167000\n",
      "168000\n",
      "169000\n",
      "170000\n",
      "171000\n",
      "172000\n",
      "173000\n",
      "174000\n",
      "175000\n",
      "176000\n",
      "177000\n",
      "178000\n",
      "179000\n",
      "180000\n",
      "181000\n",
      "182000\n",
      "183000\n",
      "184000\n",
      "185000\n",
      "186000\n",
      "187000\n",
      "188000\n",
      "189000\n",
      "190000\n",
      "191000\n",
      "192000\n",
      "193000\n",
      "194000\n",
      "195000\n",
      "196000\n",
      "197000\n",
      "198000\n",
      "199000\n",
      "Took 2098.1 secs\n"
     ]
    }
   ],
   "source": [
    "#probably don't need to rerun this, and it takes ages, so don't do it by accident:\n",
    "bands = []\n",
    "bands.append([1760,1820])\n",
    "\n",
    "import time\n",
    "now = time.time()\n",
    "n_bunches = 9999999\n",
    "\n",
    "images_ir = [np.zeros((256,256), dtype = np.float64) for _ in bands]\n",
    "for i, t_range in enumerate(bands):\n",
    "    print 'Processing band %s of %s'%(i+1, len(bands))\n",
    "    for bunchnum, bunchID in enumerate(sorted(tp_data_ir.keys())[:min(n_bunches,tp_data_ir.keys())]):\n",
    "        if bunchnum%1000==0: print bunchnum; sys.stdout.flush()\n",
    "        for x,y,t,npix in zip(tp_data_ir[bunchID]['xs'],\n",
    "                              tp_data_ir[bunchID]['ys'],\n",
    "                              tp_data_ir[bunchID]['ts'],\n",
    "                              tp_data_ir[bunchID]['npixs']):\n",
    "#             if npix <= 3: continue\n",
    "            if t >= t_range[0] and t<t_range[1]:\n",
    "#                 images_ir[i][y][x] += 1\n",
    "                images_ir[i] += fn.makeGaussian(256,1,1,[x,y])\n",
    "#                     images_ir[i] += fn.makeGaussian(256,1,(npix**.5)/1.5,[x,y])\n",
    "\n",
    "print 'Took %.1f secs'%(time.time()-now)\n"
   ]
  },
  {
   "cell_type": "code",
   "execution_count": 104,
   "metadata": {
    "collapsed": false
   },
   "outputs": [
    {
     "data": {
      "text/plain": [
       "<matplotlib.image.AxesImage at 0x1f3143450>"
      ]
     },
     "execution_count": 104,
     "metadata": {},
     "output_type": "execute_result"
    },
    {
     "data": {
      "image/png": "[encoded data removed]",
      "text/plain": [
       "<matplotlib.figure.Figure at 0x1e470ba10>"
      ]
     },
     "metadata": {},
     "output_type": "display_data"
    }
   ],
   "source": [
    "DisplayImage(np.rot90(images_ir[0],3), cmap='gray', vmax=np.percentile(images_ir[0],99.9), savefig='/Users/mfisherlevine/Desktop/usaf_allpix_gaus.pdf')#, vmax=150)"
   ]
  },
  {
   "cell_type": "code",
   "execution_count": 64,
   "metadata": {
    "collapsed": true
   },
   "outputs": [],
   "source": [
    "def DisplayImage(image, vmin=None, vmax=None, cmap='jet', title = '', savefig=''):\n",
    "    import numpy as np\n",
    "    fig = pl.figure()#figsize = [10,10])\n",
    "    ax = fig.add_subplot(111)\n",
    "#     xsize, ysize = image.shape\n",
    "#     ax.set_xlim([0,YMAX])\n",
    "#     ax.set_ylim([0,XMAX])\n",
    "\n",
    "    if vmax == 'auto':\n",
    "        element = (256*256) - 200\n",
    "        tmp = image.flatten()\n",
    "        tmp.sort()\n",
    "        vmax = tmp[element]\n",
    "        vmin = tmp[200]\n",
    "        print 'Auto vmax = %s, real max = %s'%(vmax, np.max(image))\n",
    "\n",
    "    if vmin == 'auto':\n",
    "        tmp = image.flatten()\n",
    "        vmin = min(_ for _ in tmp if _ > 0)\n",
    "        print 'Auto vmin = %s'%vmin\n",
    "\n",
    "    im = ax.imshow(image, vmin=vmin, vmax=vmax, cmap=cmap, interpolation='nearest')\n",
    "    ax.set_title(title)\n",
    "    fig.colorbar(im)\n",
    "    if savefig: fig.savefig(savefig)\n",
    "    return im"
   ]
  },
  {
   "cell_type": "code",
   "execution_count": 152,
   "metadata": {
    "collapsed": false
   },
   "outputs": [
    {
     "name": "stderr",
     "output_type": "stream",
     "text": [
      "/Users/mfisherlevine/anaconda/lib/python2.7/site-packages/ipykernel/__main__.py:12: VisibleDeprecationWarning: using a non-integer number instead of an integer will result in an error in the future\n",
      "/Users/mfisherlevine/anaconda/lib/python2.7/site-packages/ipykernel/__main__.py:24: VisibleDeprecationWarning: using a non-integer number instead of an integer will result in an error in the future\n"
     ]
    },
    {
     "name": "stdout",
     "output_type": "stream",
     "text": [
      "Processing band 1 of 1\n",
      "Took 36.8 secs\n"
     ]
    }
   ],
   "source": [
    "#probably don't need to rerun this, and it takes ages, so don't do it by accident:\n",
    "bands = []\n",
    "bands.append([1760,1820])\n",
    "\n",
    "import time\n",
    "now = time.time()\n",
    "n_bunches = 999999999999\n",
    "\n",
    "rebin_factor = 1.\n",
    "outlist = []\n",
    "\n",
    "images_ir = [np.zeros((256*rebin_factor,256*rebin_factor), dtype = np.float64) for _ in bands]\n",
    "for i, t_range in enumerate(bands):\n",
    "    print 'Processing band %s of %s'%(i+1, len(bands))\n",
    "    for bunchID in sorted(tp_data_ir.keys())[:min(n_bunches,tp_data_ir.keys())]:\n",
    "        for x,y,t,npix in zip(tp_data_ir[bunchID]['xs'],\n",
    "                              tp_data_ir[bunchID]['ys'],\n",
    "                              tp_data_ir[bunchID]['ts'],\n",
    "                              tp_data_ir[bunchID]['npixs']):\n",
    "            if npix <= 3: continue\n",
    "            if t >= t_range[0] and t<t_range[1]:\n",
    "                line = str(x) + '\\t' + str(y) + '\\t' + str(t) + '\\n'\n",
    "                outlist.append(line)\n",
    "                images_ir[i][np.floor(y)][np.floor(x)] += 1\n",
    "#             break\n",
    "\n",
    "#                 images_ir[i] += fn.makeGaussian(256,1,1,[x,y])\n",
    "#                     images_ir[i] += fn.makeGaussian(256,1,(npix**.5)/1.5,[x,y])\n",
    "\n",
    "print 'Took %.1f secs'%(time.time()-now)\n"
   ]
  },
  {
   "cell_type": "code",
   "execution_count": 155,
   "metadata": {
    "collapsed": false
   },
   "outputs": [
    {
     "name": "stdout",
     "output_type": "stream",
     "text": [
      "3688165\n"
     ]
    }
   ],
   "source": [
    "print len(outlist)\n",
    "\n",
    "outfile = '/Users/mfisherlevine/Desktop/outfile.txt'\n",
    "f = open(outfile, mode='w')\n",
    "\n",
    "for line in outlist:\n",
    "    f.write(line)\n",
    "f.close()"
   ]
  },
  {
   "cell_type": "code",
   "execution_count": null,
   "metadata": {
    "collapsed": true
   },
   "outputs": [],
   "source": []
  },
  {
   "cell_type": "code",
   "execution_count": 139,
   "metadata": {
    "collapsed": false
   },
   "outputs": [
    {
     "data": {
      "text/plain": [
       "<matplotlib.image.AxesImage at 0x1e8229ad0>"
      ]
     },
     "execution_count": 139,
     "metadata": {},
     "output_type": "execute_result"
    },
    {
     "data": {
      "image/png": "[encoded data removed]",
      "text/plain": [
       "<matplotlib.figure.Figure at 0x1e471e610>"
      ]
     },
     "metadata": {},
     "output_type": "display_data"
    }
   ],
   "source": [
    "DisplayImage(np.rot90(images_ir[0],3), cmap='gray', vmax=np.percentile(images_ir[0],97), savefig='/Users/mfisherlevine/Desktop/usaf_rebin_2.pdf')#, vmax=150)"
   ]
  },
  {
   "cell_type": "code",
   "execution_count": null,
   "metadata": {
    "collapsed": true
   },
   "outputs": [],
   "source": []
  },
  {
   "cell_type": "code",
   "execution_count": 130,
   "metadata": {
    "collapsed": false
   },
   "outputs": [
    {
     "name": "stdout",
     "output_type": "stream",
     "text": [
      "0\n",
      "1000\n",
      "2000\n",
      "3000\n",
      "4000\n",
      "5000\n",
      "6000\n",
      "7000\n",
      "8000\n",
      "9000\n",
      "10000\n",
      "11000\n",
      "12000\n",
      "13000\n",
      "14000\n",
      "15000\n",
      "16000\n",
      "17000\n",
      "18000\n",
      "19000\n",
      "20000\n",
      "21000\n",
      "22000\n",
      "23000\n",
      "24000\n",
      "25000\n",
      "26000\n",
      "27000\n",
      "28000\n",
      "29000\n",
      "30000\n",
      "31000\n",
      "32000\n",
      "33000\n",
      "34000\n",
      "35000\n",
      "36000\n",
      "37000\n",
      "38000\n",
      "39000\n",
      "40000\n",
      "41000\n",
      "42000\n",
      "43000\n",
      "44000\n",
      "45000\n",
      "46000\n",
      "47000\n",
      "48000\n",
      "49000\n",
      "50000\n",
      "51000\n",
      "52000\n",
      "53000\n",
      "54000\n",
      "55000\n",
      "56000\n",
      "57000\n",
      "58000\n",
      "59000\n",
      "60000\n",
      "61000\n",
      "62000\n",
      "63000\n",
      "64000\n",
      "65000\n",
      "66000\n",
      "67000\n",
      "68000\n",
      "69000\n",
      "70000\n",
      "71000\n",
      "72000\n",
      "73000\n",
      "74000\n",
      "75000\n",
      "76000\n",
      "77000\n",
      "78000\n",
      "79000\n",
      "80000\n",
      "81000\n",
      "82000\n",
      "83000\n",
      "84000\n",
      "85000\n",
      "86000\n",
      "87000\n",
      "88000\n",
      "89000\n",
      "90000\n",
      "91000\n",
      "92000\n",
      "93000\n",
      "94000\n",
      "95000\n",
      "96000\n",
      "97000\n",
      "98000\n",
      "99000\n",
      "100000\n",
      "101000\n",
      "102000\n",
      "103000\n",
      "104000\n",
      "105000\n",
      "106000\n",
      "107000\n",
      "108000\n",
      "109000\n",
      "110000\n",
      "111000\n",
      "112000\n",
      "113000\n",
      "114000\n",
      "115000\n",
      "116000\n",
      "117000\n",
      "118000\n",
      "119000\n",
      "120000\n",
      "121000\n",
      "122000\n",
      "123000\n",
      "124000\n",
      "125000\n",
      "126000\n",
      "127000\n",
      "128000\n",
      "129000\n",
      "130000\n",
      "131000\n",
      "132000\n",
      "133000\n",
      "134000\n",
      "135000\n",
      "136000\n",
      "137000\n",
      "138000\n",
      "139000\n",
      "140000\n",
      "141000\n",
      "142000\n",
      "143000\n",
      "144000\n",
      "145000\n",
      "146000\n",
      "147000\n",
      "148000\n",
      "149000\n",
      "150000\n",
      "151000\n",
      "152000\n",
      "153000\n",
      "154000\n",
      "155000\n",
      "156000\n",
      "157000\n",
      "158000\n",
      "159000\n",
      "160000\n",
      "161000\n",
      "162000\n",
      "163000\n",
      "164000\n",
      "165000\n",
      "166000\n",
      "167000\n",
      "168000\n",
      "169000\n",
      "170000\n",
      "171000\n",
      "172000\n",
      "173000\n",
      "174000\n",
      "175000\n",
      "176000\n",
      "177000\n",
      "178000\n",
      "179000\n",
      "180000\n",
      "181000\n",
      "182000\n",
      "183000\n",
      "184000\n",
      "185000\n",
      "186000\n",
      "187000\n",
      "188000\n",
      "189000\n",
      "190000\n",
      "191000\n",
      "192000\n",
      "193000\n",
      "194000\n",
      "195000\n",
      "196000\n",
      "197000\n",
      "198000\n",
      "199000\n",
      "Took 814.5 secs\n"
     ]
    }
   ],
   "source": [
    "images_ir_raw = np.zeros((256,256), dtype = np.float64)\n",
    "\n",
    "import time\n",
    "now = time.time()\n",
    "n_bunches = 9999999\n",
    "\n",
    "for filenum, filename in enumerate(tp_datafiles_ir[:min(n_bunches,tp_data_ir.keys())]):\n",
    "    if filenum%1000==0: print filenum; sys.stdout.flush()\n",
    "    xs, ys, ts = fn.GetXYTarray_SingleFile(filename)\n",
    "    for x,y in zip(xs, ys):\n",
    "        images_ir_raw[x][y] += 1\n",
    "#     break\n",
    "print 'Took %.1f secs'%(time.time()-now)\n",
    "\n",
    "\n",
    "\n",
    "\n",
    "\n",
    "#     for bunchID in sorted(tp_data_ir.keys())[:min(n_bunches,tp_data_ir.keys())]:\n",
    "#         for x,y,t,npix in zip(tp_data_ir[bunchID]['xs'],\n",
    "#                               tp_data_ir[bunchID]['ys'],\n",
    "#                               tp_data_ir[bunchID]['ts'],\n",
    "#                               tp_data_ir[bunchID]['npixs']):\n",
    "#             if npix <= 3: continue\n",
    "#             if t >= t_range[0] and t<t_range[1]:\n",
    "#                 images_ir[i][y*rebin_factor][x*rebin_factor] += 1\n",
    "\n",
    "# #                 images_ir[i] += fn.makeGaussian(256,1,1,[x,y])\n",
    "# #                     images_ir[i] += fn.makeGaussian(256,1,(npix**.5)/1.5,[x,y])\n",
    "\n",
    "# print 'Took %.1f secs'%(time.time()-now)\n"
   ]
  },
  {
   "cell_type": "code",
   "execution_count": 132,
   "metadata": {
    "collapsed": false
   },
   "outputs": [
    {
     "data": {
      "text/plain": [
       "<matplotlib.image.AxesImage at 0x1e37e8e10>"
      ]
     },
     "execution_count": 132,
     "metadata": {},
     "output_type": "execute_result"
    },
    {
     "data": {
      "image/png": "[encoded data removed]",
      "text/plain": [
       "<matplotlib.figure.Figure at 0x1f23d6190>"
      ]
     },
     "metadata": {},
     "output_type": "display_data"
    }
   ],
   "source": [
    "DisplayImage(np.rot90(images_ir_raw,3), cmap='gray', vmax=np.percentile(images_ir_raw,99.), savefig='/Users/mfisherlevine/Desktop/usaf_raw.pdf')#, vmax=150)"
   ]
  },
  {
   "cell_type": "code",
   "execution_count": null,
   "metadata": {
    "collapsed": true
   },
   "outputs": [],
   "source": []
  },
  {
   "cell_type": "code",
   "execution_count": null,
   "metadata": {
    "collapsed": true
   },
   "outputs": [],
   "source": []
  },
  {
   "cell_type": "code",
   "execution_count": null,
   "metadata": {
    "collapsed": true
   },
   "outputs": [],
   "source": []
  },
  {
   "cell_type": "code",
   "execution_count": null,
   "metadata": {
    "collapsed": false
   },
   "outputs": [],
   "source": [
    "#### pickle the bands and their images\n",
    "pickle_filename = '/Users/mfisherlevine/Desktop/desy/pickles/run'+run_id+'_VMIs.pickle'\n",
    "\n",
    "if False: #C areful, this will overwrite the good pickles if you accidentally run it!\n",
    "    pickle_file = open(pickle_filename, 'wb')\n",
    "    pickle.dump([bands, images], pickle_file)\n",
    "    pickle_file.close()\n",
    "\n",
    "\n",
    "#### Load the bands and their images from the pickle:\n",
    "if True:\n",
    "    print 'Unpickling...'; sys.stdout.flush()\n",
    "    pickle_file = open(pickle_filename, 'rb')\n",
    "    [bands, images] = pickle.load(pickle_file)\n",
    "    pickle_file.close()\n",
    "    print 'Loaded bands and images'"
   ]
  },
  {
   "cell_type": "raw",
   "metadata": {},
   "source": [
    "Plot all the VMI images and give them an appropraite title."
   ]
  },
  {
   "cell_type": "code",
   "execution_count": null,
   "metadata": {
    "collapsed": true
   },
   "outputs": [],
   "source": [
    "from collections import defaultdict\n",
    "time_matrix = defaultdict(lambda  : defaultdict(list))\n",
    "time_matrix[0][0].append('s1')\n"
   ]
  },
  {
   "cell_type": "code",
   "execution_count": null,
   "metadata": {
    "collapsed": false
   },
   "outputs": [],
   "source": [
    "thr = 0.001\n",
    "n_bunches = 10000\n",
    "\n",
    "from collections import defaultdict\n",
    "time_matrix = defaultdict(lambda  : defaultdict(list))\n",
    "\n",
    "now = time.time()\n",
    "tmp_img = np.zeros((256,256), dtype = np.float64)\n",
    "for bunchID in sorted(tp_data_ir.keys())[:min(n_bunches,tp_data_ir.keys())]:\n",
    "    for x,y,t,npix in zip(tp_data_ir[bunchID]['xs'],\n",
    "                          tp_data_ir[bunchID]['ys'],\n",
    "                          tp_data_ir[bunchID]['ts'],\n",
    "                          tp_data_ir[bunchID]['npixs']):\n",
    "        tmp_img = fn.makeGaussian(256,1,1,[x,y])\n",
    "#         tmp_img = fn.makeGaussian(256,1,(npix**.5)/1.5,[x,y])\n",
    "        pixels = np.where(tmp_img>=thr)\n",
    "        for (x,y) in zip(pixels[0],pixels[1]):\n",
    "            time_matrix[x][y].append((t, tmp_img[x][y]))\n",
    "\n",
    "            \n",
    "print 'Took %.1f secs'%(time.time()-now)\n"
   ]
  },
  {
   "cell_type": "code",
   "execution_count": null,
   "metadata": {
    "collapsed": false
   },
   "outputs": [],
   "source": [
    "print time_matrix[100][150]\n"
   ]
  },
  {
   "cell_type": "code",
   "execution_count": null,
   "metadata": {
    "collapsed": false
   },
   "outputs": [],
   "source": [
    "# def time_from_tuple_list(data):\n",
    "#     multiplier = 100\n",
    "#     temp = np.asarray(data)\n",
    "#     xs = temp[:,0]\n",
    "#     ys = temp[:,1]\n",
    "#     tmp = []\n",
    "#     for i in xrange(len(xs)):\n",
    "#         weight = int(ys[i]*multiplier)\n",
    "#         for _ in xrange(weight):\n",
    "#             tmp.append(xs[i])\n",
    "#     return np.mean(np.asarray(tmp)), np.std(np.asarray(tmp))\n",
    "\n",
    "def std_custom(data, t_zero=917):\n",
    "    multiplier = 100\n",
    "    temp = np.asarray(data)\n",
    "    xs = temp[:,0]\n",
    "    ys = temp[:,1]\n",
    "    del temp\n",
    "    npts = 0.\n",
    "    sum_2 = 0.\n",
    "    for i in xrange(len(xs)):\n",
    "        if xs[i] > t_zero + 500: continue\n",
    "        weight = int(ys[i]*multiplier)\n",
    "        for _ in xrange(weight):\n",
    "#             print xs[i]\n",
    "#             break\n",
    "            sum_2 += (xs[i] - t_zero)**2\n",
    "            npts += 1.\n",
    "    if npts ==0: return 0\n",
    "    return (float(sum_2) / float(npts))**.5\n",
    "\n",
    "test = time_matrix[150][101]\n",
    "# print test\n",
    "std = std_custom(test)\n",
    "print std"
   ]
  },
  {
   "cell_type": "code",
   "execution_count": null,
   "metadata": {
    "collapsed": false
   },
   "outputs": [],
   "source": [
    "print len(time_matrix[100][100])"
   ]
  },
  {
   "cell_type": "code",
   "execution_count": null,
   "metadata": {
    "collapsed": false
   },
   "outputs": [],
   "source": [
    "fn.DisplayImage(time_matrix_npts_image_std, vmax=150)"
   ]
  },
  {
   "cell_type": "code",
   "execution_count": null,
   "metadata": {
    "collapsed": false,
    "scrolled": true
   },
   "outputs": [],
   "source": [
    "time_matrix_npts_image_mean = np.zeros((256,256), dtype = np.float64)\n",
    "time_matrix_npts_image_std = np.zeros((256,256), dtype = np.float64)\n",
    "\n",
    "for x in xrange(256):\n",
    "    print x\n",
    "    for y in xrange(256):\n",
    "        if len(time_matrix[x][y])<=5: continue\n",
    "        if time_matrix[x][y]:\n",
    "#             mean, std = time_from_tuple_list(time_matrix[x][y])\n",
    "#             time_matrix_npts_image_mean[x][y] = mean\n",
    "#             time_matrix_npts_image_std[x][y] = std\n",
    "\n",
    "            std = std_custom(time_matrix[x][y])\n",
    "            time_matrix_npts_image_std[x][y] = std\n",
    "\n",
    "        else:\n",
    "            time_matrix_npts_image[x][y] = np.nan\n",
    "\n",
    "        \n",
    "# fn.DisplayImage(time_matrix_npts_image_mean)#, vmax='auto')\n",
    "fn.DisplayImage(time_matrix_npts_image_std)#, vmax='auto')"
   ]
  },
  {
   "cell_type": "code",
   "execution_count": null,
   "metadata": {
    "collapsed": false
   },
   "outputs": [],
   "source": [
    "print len(time_matrix[155][155])"
   ]
  },
  {
   "cell_type": "code",
   "execution_count": null,
   "metadata": {
    "collapsed": true
   },
   "outputs": [],
   "source": []
  },
  {
   "cell_type": "code",
   "execution_count": null,
   "metadata": {
    "collapsed": false
   },
   "outputs": [],
   "source": [
    "xs, ys = [], []\n",
    "# for (x,y) in time_matrix[155][100]:\n",
    "for (x,y) in time_matrix[100][150]:\n",
    "#     if x<700: continue\n",
    "#     if x >1200:continue\n",
    "    xs.append(x)\n",
    "    ys.append(y)\n",
    "pl.plot(xs,ys,'o')\n",
    "# a,b,c = pl.hist(xs, np.append(np.arange(min(xs), min(xs) + 200, 1),np.arange(min(xs)+200, max(xs) +50, 50)))\n",
    "# a,b,c = pl.hist(xs,10)\n",
    "# print np.append(np.arange(min(xs), min(xs) + 200, 1),np.arange(min(xs)+200, max(xs) +50, 50))"
   ]
  },
  {
   "cell_type": "code",
   "execution_count": null,
   "metadata": {
    "collapsed": false
   },
   "outputs": [],
   "source": [
    "# def func(x, a, t0, tc1, tc2):\n",
    "def func(x, a, t0):\n",
    "\n",
    "    # amplitude, t0, tc1, tc2\n",
    "#     return a * (np.exp((t0 - x)/tc1) - np.exp((t0 - x)/tc2))\n",
    "    return a * np.exp(-x/t0)\n",
    "\n",
    "# popt, pcov = curve_fit(func, xdata, ydata)\n",
    "p0 = [2,900]#,0.0001,0.0002]\n",
    "params, pcov = curve_fit(func, xs, ys, p0=p0)\n",
    "print params\n",
    "\n",
    "pl.plot(xs,ys,'o')\n",
    "pl.plot(np.linspace(0, 12000, 100),\n",
    "        [func(_,params[0],params[1]) for _ in np.linspace(0,12000,100)],\n",
    "#         [func(_,params[0],params[1],params[2],params[3]) for _ in np.linspace(0,12000,100)],\n",
    "        'o')\n",
    "\n",
    "\n"
   ]
  },
  {
   "cell_type": "code",
   "execution_count": null,
   "metadata": {
    "collapsed": false
   },
   "outputs": [],
   "source": [
    "pl.plot(xs,ys,'o')\n",
    "pl.plot(np.linspace(0, 12000, 100),[func(_,params[0],params[1],params[2],params[3]) for _ in np.linspace(0,12000,100)], 'o')"
   ]
  },
  {
   "cell_type": "code",
   "execution_count": null,
   "metadata": {
    "collapsed": false
   },
   "outputs": [],
   "source": [
    "def func(x, a, b, c):\n",
    "    return a * np.exp(-b * x) + c\n",
    "\n",
    "\n",
    "xdata = np.linspace(0, 4, 50)\n",
    "y = func(xdata, 2.5, 1.3, 0.5)\n",
    "ydata = y + 0.2 * np.random.normal(size=len(xdata))\n",
    "\n",
    "popt, pcov = curve_fit(func, xdata, ydata)\n",
    "\n",
    "pl.plot(np.linspace(0, 5, 50),ydata, 'o')\n",
    "pl.plot(np.linspace(0, 5, 50),[func(_,popt[0],popt[1],popt[2]) for _ in np.linspace(0,5,50)], 'o')\n",
    "pl.show()"
   ]
  },
  {
   "cell_type": "code",
   "execution_count": null,
   "metadata": {
    "collapsed": true
   },
   "outputs": [],
   "source": []
  },
  {
   "cell_type": "code",
   "execution_count": null,
   "metadata": {
    "collapsed": true
   },
   "outputs": [],
   "source": []
  },
  {
   "cell_type": "code",
   "execution_count": null,
   "metadata": {
    "collapsed": true
   },
   "outputs": [],
   "source": []
  },
  {
   "cell_type": "code",
   "execution_count": null,
   "metadata": {
    "collapsed": false
   },
   "outputs": [],
   "source": [
    "from scipy.optimize import curve_fit"
   ]
  },
  {
   "cell_type": "code",
   "execution_count": null,
   "metadata": {
    "collapsed": false,
    "scrolled": false
   },
   "outputs": [],
   "source": [
    "fn = reload(fn)\n",
    "cmap = 'gray' ### beware using the de facto standard 'jet',\n",
    "\n",
    "### but it's also replotted below for people who can't live without it\n",
    "for i, image in enumerate(images_ir):\n",
    "    title = 'IR image for times %s to %s ns(band #%s)'%(bands[i][0],bands[i][1], i)\n",
    "    fn.DisplayImage(image, cmap=cmap, title=title,vmax='auto',savefig='/Users/mfisherlevine/Desktop/new_USAF_IR_'+str(i)+'.pdf')\n",
    "    pl.show()\n",
    "\n",
    "    "
   ]
  },
  {
   "cell_type": "code",
   "execution_count": null,
   "metadata": {
    "collapsed": false,
    "scrolled": false
   },
   "outputs": [],
   "source": [
    "fn = reload(fn)\n",
    "cmap = 'jet'\n",
    "for i, image in enumerate(images):\n",
    "    title = 'VMI for times %s to %s (band %s)'%(bands[i][0],bands[i][1], i)\n",
    "    fn.DisplayImage(image, cmap=cmap, title=title,vmax='auto')\n",
    "    pl.show()"
   ]
  },
  {
   "cell_type": "code",
   "execution_count": null,
   "metadata": {
    "collapsed": false
   },
   "outputs": [],
   "source": [
    "cmap = 'jet'\n",
    "image = images[27].copy()\n",
    "fn.DisplayImage(image, cmap=cmap, title=title,vmax='auto')\n",
    "pl.show()\n",
    "\n",
    "import scipy.ndimage as im_process\n",
    "from scipy.ndimage.filters import gaussian_filter\n",
    "\n",
    "\n",
    "deriv = im_process.sobel(gaussian_filter(image,3), mode='constant')\n",
    "fn.DisplayImage(deriv, cmap=cmap, title=title,vmax='auto')\n",
    "pl.show()\n",
    "\n",
    "deriv[abs(deriv)<10]=0\n",
    "fn.DisplayImage(deriv, cmap=cmap, title=title,vmax='auto')\n",
    "pl.show()\n",
    "\n",
    "deriv=abs(deriv/abs(deriv))\n",
    "fn.DisplayImage(deriv, cmap=cmap, title=title)\n",
    "pl.show()\n",
    "\n"
   ]
  },
  {
   "cell_type": "code",
   "execution_count": null,
   "metadata": {
    "collapsed": false
   },
   "outputs": [],
   "source": [
    "from skimage import feature\n",
    "\n",
    "fn = reload(fn)\n",
    "cmap = 'jet'\n",
    "for i, image in enumerate(images):\n",
    "    image = image.copy()\n",
    "    if i!=27: continue\n",
    "#     title = 'Fit to VMI for times %s to %s (band %s)'%(bands[i][0],bands[i][1], i)\n",
    "    title = 'Band %s'%i\n",
    "\n",
    "    fn.DisplayImage(image, cmap=cmap, title=title,vmax='auto')\n",
    "#     image[image < 0.8*np.max(image)] = 0\n",
    "    image[image < np.percentile(image,97)] = 0\n",
    "\n",
    "    pl.show()\n",
    "    \n",
    "#     edges = feature.canny(image, sigma=3)\n",
    "\n",
    "    edges = feature.blob_dog(image)\n",
    "    fn.DisplayImage(edges, cmap=cmap, title=title)\n",
    "    pl.show()\n",
    "\n",
    "#     feature.\n",
    "#     x,y,r = FitCircle(deriv)\n",
    "#     DisplayImageWithFit(deriv,x,y,r,title=title)\n",
    "    \n",
    "#     pl.show()"
   ]
  },
  {
   "cell_type": "code",
   "execution_count": null,
   "metadata": {
    "collapsed": true
   },
   "outputs": [],
   "source": []
  },
  {
   "cell_type": "code",
   "execution_count": null,
   "metadata": {
    "collapsed": false
   },
   "outputs": [],
   "source": [
    "fn = reload(fn)\n",
    "cmap = 'jet'\n",
    "for i, image in enumerate(images):\n",
    "#     if i!=3: continue\n",
    "#     title = 'Fit to VMI for times %s to %s (band %s)'%(bands[i][0],bands[i][1], i)\n",
    "    title = 'Band %s'%i\n",
    "\n",
    "    fn.DisplayImage(image, cmap=cmap, title=title,vmax='auto')\n",
    "    import scipy.ndimage as im_process\n",
    "    from scipy.ndimage.filters import gaussian_filter\n",
    "\n",
    "    deriv = im_process.laplace(gaussian_filter(image,2), mode='constant')\n",
    "#     title += ' gaus, laplace'\n",
    "#     fn.DisplayImage(deriv, cmap=cmap, title=title)\n",
    "#     pl.show()\n",
    "\n",
    "    deriv[deriv < np.percentile(deriv,99.7)] = 0\n",
    "\n",
    "    title += ' 99.7th percentile cut'\n",
    "    fn.DisplayImage(deriv, cmap=cmap, title=title)\n",
    "    pl.show()\n",
    "\n",
    "    deriv=abs(deriv/abs(deriv))\n",
    "#     title += ', normed'\n",
    "#     fn.DisplayImage(deriv, cmap=cmap, title=title)\n",
    "#     pl.show()\n",
    "\n",
    "    x,y,r = FitCircle(deriv)\n",
    "    DisplayImageWithFit(deriv,x,y,r,title=title)\n",
    "    \n",
    "    pl.show()"
   ]
  },
  {
   "cell_type": "code",
   "execution_count": null,
   "metadata": {
    "collapsed": true
   },
   "outputs": [],
   "source": []
  },
  {
   "cell_type": "code",
   "execution_count": null,
   "metadata": {
    "collapsed": true
   },
   "outputs": [],
   "source": [
    "x,y,r = FitCircle(deriv)\n",
    "x_circ, y_circ = MakeCirlePointsFromXYR(x,y,r)"
   ]
  },
  {
   "cell_type": "code",
   "execution_count": null,
   "metadata": {
    "collapsed": true
   },
   "outputs": [],
   "source": [
    "def MakeCirlePointsFromXYR(x, y, r, npts=180):\n",
    "    theta_fit = np.linspace(-np.pi, np.pi, npts)\n",
    "    xs = x + r*np.cos(theta_fit)\n",
    "    ys = y + r*np.sin(theta_fit)\n",
    "    return xs, ys"
   ]
  },
  {
   "cell_type": "code",
   "execution_count": null,
   "metadata": {
    "collapsed": false
   },
   "outputs": [],
   "source": []
  },
  {
   "cell_type": "code",
   "execution_count": null,
   "metadata": {
    "collapsed": false
   },
   "outputs": [],
   "source": [
    "fig = pl.figure(figsize = [10,10])\n",
    "ax = fig.add_subplot(111)\n",
    "# ax.set_xlim([YMIN,YMAX])\n",
    "# ax.set_ylim([XMIN,XMAX])\n",
    "\n",
    "# if vmax == 'auto':\n",
    "#     element = (256*256) - 200\n",
    "#     tmp = image.flatten()\n",
    "#     tmp.sort()\n",
    "#     vmax = tmp[element]\n",
    "#     vmin = tmp[200]\n",
    "#     print 'Auto vmax = %s, real max = %s'%(vmax, np.max(image))\n",
    "\n",
    "# if vmin == 'auto':\n",
    "#     tmp = image.flatten()\n",
    "#     vmin = min(_ for _ in tmp if _ > 0)\n",
    "#     print 'Auto vmin = %s'%vmin\n",
    "\n",
    "im = ax.imshow(deriv)#, vmin=vmin, vmax=vmax, cmap=cmap)\n",
    "pl.plot(y,x, 'x', ms=15)\n",
    "pl.plot(y_circ, x_circ, 'r-.')#, label=method_3, lw=2)\n",
    "ax.set_title(title)\n",
    "fig.colorbar(im)\n"
   ]
  },
  {
   "cell_type": "code",
   "execution_count": null,
   "metadata": {
    "collapsed": false
   },
   "outputs": [],
   "source": [
    "def DisplayImageWithFit(image, x, y, r, vmin=None, vmax=None, cmap='jet', title = ''):\n",
    "    import numpy as np\n",
    "    fig = pl.figure(figsize = [10,10])\n",
    "    ax = fig.add_subplot(111)\n",
    "    ax.set_xlim([0,255])\n",
    "    ax.set_ylim([0,255])\n",
    "\n",
    "    if vmax == 'auto':\n",
    "        element = (256*256) - 200\n",
    "        tmp = image.flatten()\n",
    "        tmp.sort()\n",
    "        vmax = tmp[element]\n",
    "        vmin = tmp[200]\n",
    "        print 'Auto vmax = %s, real max = %s'%(vmax, np.max(image))\n",
    "\n",
    "    if vmin == 'auto':\n",
    "        tmp = image.flatten()\n",
    "        vmin = min(_ for _ in tmp if _ > 0)\n",
    "        print 'Auto vmin = %s'%vmin\n",
    "\n",
    "    im = ax.imshow(image, vmin=vmin, vmax=vmax, cmap=cmap)\n",
    "    \n",
    "    pl.plot(y,x, 'xb', ms=15) # x on the centre\n",
    "    x_circ, y_circ = MakeCirlePointsFromXYR(x,y,r) #generate circle points\n",
    "    pl.plot(y_circ, x_circ, 'r-.', lw=4) #plot circle\n",
    "    ax.set_title(title)\n",
    "    fig.colorbar(im)\n",
    "    return im"
   ]
  },
  {
   "cell_type": "code",
   "execution_count": null,
   "metadata": {
    "collapsed": true
   },
   "outputs": [],
   "source": []
  },
  {
   "cell_type": "code",
   "execution_count": null,
   "metadata": {
    "collapsed": true
   },
   "outputs": [],
   "source": []
  },
  {
   "cell_type": "code",
   "execution_count": null,
   "metadata": {
    "collapsed": true
   },
   "outputs": [],
   "source": []
  },
  {
   "cell_type": "code",
   "execution_count": null,
   "metadata": {
    "collapsed": false
   },
   "outputs": [],
   "source": []
  },
  {
   "cell_type": "raw",
   "metadata": {},
   "source": []
  },
  {
   "cell_type": "code",
   "execution_count": null,
   "metadata": {
    "collapsed": false
   },
   "outputs": [],
   "source": []
  },
  {
   "cell_type": "code",
   "execution_count": null,
   "metadata": {
    "collapsed": false
   },
   "outputs": [],
   "source": []
  },
  {
   "cell_type": "code",
   "execution_count": null,
   "metadata": {
    "collapsed": true
   },
   "outputs": [],
   "source": []
  },
  {
   "cell_type": "code",
   "execution_count": null,
   "metadata": {
    "collapsed": true
   },
   "outputs": [],
   "source": []
  },
  {
   "cell_type": "code",
   "execution_count": null,
   "metadata": {
    "collapsed": true
   },
   "outputs": [],
   "source": []
  },
  {
   "cell_type": "code",
   "execution_count": null,
   "metadata": {
    "collapsed": true
   },
   "outputs": [],
   "source": []
  },
  {
   "cell_type": "code",
   "execution_count": null,
   "metadata": {
    "collapsed": true
   },
   "outputs": [],
   "source": []
  },
  {
   "cell_type": "code",
   "execution_count": null,
   "metadata": {
    "collapsed": true
   },
   "outputs": [],
   "source": []
  },
  {
   "cell_type": "code",
   "execution_count": null,
   "metadata": {
    "collapsed": false
   },
   "outputs": [],
   "source": []
  },
  {
   "cell_type": "code",
   "execution_count": null,
   "metadata": {
    "collapsed": false
   },
   "outputs": [],
   "source": []
  },
  {
   "cell_type": "code",
   "execution_count": null,
   "metadata": {
    "collapsed": false
   },
   "outputs": [],
   "source": []
  },
  {
   "cell_type": "code",
   "execution_count": null,
   "metadata": {
    "collapsed": false
   },
   "outputs": [],
   "source": []
  },
  {
   "cell_type": "code",
   "execution_count": null,
   "metadata": {
    "collapsed": false
   },
   "outputs": [],
   "source": []
  },
  {
   "cell_type": "code",
   "execution_count": null,
   "metadata": {
    "collapsed": true
   },
   "outputs": [],
   "source": []
  },
  {
   "cell_type": "code",
   "execution_count": null,
   "metadata": {
    "collapsed": false
   },
   "outputs": [],
   "source": []
  },
  {
   "cell_type": "code",
   "execution_count": null,
   "metadata": {
    "collapsed": false
   },
   "outputs": [],
   "source": []
  },
  {
   "cell_type": "code",
   "execution_count": null,
   "metadata": {
    "collapsed": true
   },
   "outputs": [],
   "source": []
  },
  {
   "cell_type": "code",
   "execution_count": null,
   "metadata": {
    "collapsed": false
   },
   "outputs": [],
   "source": [
    "def FitCircle(data):\n",
    "    import numpy as np\n",
    "    from scipy import odr\n",
    "\n",
    "    x,y = np.where(data>=0)\n",
    "#     x = np.r_[  9, 35, -13,  10,  23,   0]\n",
    "#     y = np.r_[ 34, 10,   6, -14,  27, -10]\n",
    "    \n",
    "    x_m = np.mean(x)\n",
    "    y_m = np.mean(y)\n",
    "    \n",
    "    method_3  = \"odr\"\n",
    "\n",
    "    import functools\n",
    "    def countcalls(fn):\n",
    "        \"decorator function count function calls \"\n",
    "\n",
    "        @functools.wraps(fn)\n",
    "        def wrapped(*args):\n",
    "            wrapped.ncalls +=1\n",
    "            return fn(*args)\n",
    "\n",
    "        wrapped.ncalls = 0\n",
    "        return wrapped\n",
    "    \n",
    "    @countcalls\n",
    "    def calc_R(xc, yc):\n",
    "        \"\"\" calculate the distance of each 2D points from the center (xc, yc) \"\"\"\n",
    "        return np.sqrt((x-xc)**2 + (y-yc)**2)\n",
    "\n",
    "    @countcalls\n",
    "    def f_3(beta, x):\n",
    "        \"\"\" implicit definition of the circle \"\"\"\n",
    "        return (x[0]-beta[0])**2 + (x[1]-beta[1])**2 -beta[2]**2\n",
    "\n",
    "    # initial guess for parameters\n",
    "    R_m = calc_R(x_m, y_m).mean()\n",
    "    beta0 = [ x_m, y_m, R_m]\n",
    "\n",
    "    # for implicit function :\n",
    "    #       data.x contains both coordinates of the points\n",
    "    #       data.y is the dimensionality of the response\n",
    "    lsc_data   = odr.Data(np.row_stack([x, y]), y=1)\n",
    "    lsc_model  = odr.Model(f_3, implicit=True)\n",
    "    lsc_odr    = odr.ODR(lsc_data, lsc_model, beta0)\n",
    "    lsc_out    = lsc_odr.run()\n",
    "\n",
    "    xc_3, yc_3, R_3 = lsc_out.beta\n",
    "    Ri_3       = calc_R(xc_3, yc_3)\n",
    "    residu_3   = sum((Ri_3 - R_3)**2)\n",
    "    residu2_3  = sum((Ri_3**2-R_3**2)**2)\n",
    "    ncalls_3   = f_3.ncalls\n",
    "\n",
    "    # == METHOD 3b ==\n",
    "    # Advanced usage, with jacobian\n",
    "    method_3b  = \"odr with jacobian\"\n",
    "    print \"\\nMethod 3b : \", method_3b\n",
    "\n",
    "    @countcalls\n",
    "    def f_3b(beta, x):\n",
    "        \"\"\" implicit definition of the circle \"\"\"\n",
    "        return (x[0]-beta[0])**2 + (x[1]-beta[1])**2 -beta[2]**2\n",
    "\n",
    "    @countcalls\n",
    "    def jacb(beta, x):\n",
    "        \"\"\" Jacobian function with respect to the parameters beta.\n",
    "        return df_3b/dbeta\n",
    "        \"\"\"\n",
    "        xc, yc, r = beta\n",
    "        xi, yi    = x\n",
    "\n",
    "        df_db    = np.empty((beta.size, x.shape[1]))\n",
    "        df_db[0] =  2*(xc-xi)                     # d_f/dxc\n",
    "        df_db[1] =  2*(yc-yi)                     # d_f/dyc\n",
    "        df_db[2] = -2*r                           # d_f/dr\n",
    "\n",
    "        return df_db\n",
    "\n",
    "    @countcalls\n",
    "    def jacd(beta, x):\n",
    "        \"\"\" Jacobian function with respect to the input x.\n",
    "        return df_3b/dx\n",
    "        \"\"\"\n",
    "        xc, yc, r = beta\n",
    "        xi, yi    = x\n",
    "\n",
    "        df_dx    = np.empty_like(x)\n",
    "        df_dx[0] =  2*(xi-xc)                     # d_f/dxi\n",
    "        df_dx[1] =  2*(yi-yc)                     # d_f/dyi\n",
    "\n",
    "        return df_dx\n",
    "\n",
    "\n",
    "    def calc_estimate(data):\n",
    "        \"\"\" Return a first estimation on the parameter from the data  \"\"\"\n",
    "        xc0, yc0 = data.x.mean(axis=1)\n",
    "        r0 = np.sqrt((data.x[0]-xc0)**2 +(data.x[1] -yc0)**2).mean()\n",
    "        return xc0, yc0, r0\n",
    "\n",
    "    # for implicit function :\n",
    "    #       data.x contains both coordinates of the points\n",
    "    #       data.y is the dimensionality of the response\n",
    "    lsc_data  = odr.Data(np.row_stack([x, y]), y=1)\n",
    "    lsc_model = odr.Model(f_3b, implicit=True, estimate=calc_estimate, fjacd=jacd, fjacb=jacb)\n",
    "    lsc_odr   = odr.ODR(lsc_data, lsc_model)    # beta0 has been replaced by an estimate function\n",
    "    lsc_odr.set_job(deriv=3)                    # use user derivatives function without checking\n",
    "    lsc_odr.set_iprint(iter=1, iter_step=1)     # print details for each iteration\n",
    "    lsc_out   = lsc_odr.run()\n",
    "\n",
    "    xc_3, yc_3, R_3 = lsc_out.beta\n",
    "    Ri_3       = calc_R(xc_3, yc_3)\n",
    "    residu_3   = sum((Ri_3 - R_3)**2)\n",
    "    residu2_3  = sum((Ri_3**2-R_3**2)**2)\n",
    "    ncalls_3   = f_3.ncalls\n",
    "\n",
    "    print \"\\nFunctions calls : f_3b=%d jacb=%d jacd=%d\" % (f_3b.ncalls, jacb.ncalls, jacd.ncalls)\n",
    "\n",
    "    \n",
    "#     def PlotAll():\n",
    "#         f = pl.figure( facecolor='white')  #figsize=(7, 5.4), dpi=72,\n",
    "#         pl.axis('equal')\n",
    "\n",
    "#         theta_fit = np.linspace(-np.pi, np.pi, 180)\n",
    "\n",
    "#         x_fit3 = xc_3 + R_3*np.cos(theta_fit)\n",
    "#         y_fit3 = yc_3 + R_3*np.sin(theta_fit)\n",
    "#         pl.plot(x_fit3, y_fit3, 'r-.', label=method_3, lw=2)\n",
    "\n",
    "#         pl.plot(xc_3, yc_3, 'x', ms=10)\n",
    "        \n",
    "#         pl.plot(x, y, 'o', label='data', ms=3)#, mec='b', mew=1)\n",
    "#         pl.show()\n",
    "    \n",
    "#     PlotAll()\n",
    "\n",
    "    return xc_3, yc_3, R_3\n",
    "\n",
    "        \n",
    "FitCircle(deriv)\n"
   ]
  },
  {
   "cell_type": "code",
   "execution_count": null,
   "metadata": {
    "collapsed": true
   },
   "outputs": [],
   "source": []
  },
  {
   "cell_type": "code",
   "execution_count": null,
   "metadata": {
    "collapsed": true
   },
   "outputs": [],
   "source": []
  },
  {
   "cell_type": "code",
   "execution_count": null,
   "metadata": {
    "collapsed": false
   },
   "outputs": [],
   "source": [
    "# Snippet for examples of annotating images (not mine):\n",
    "\n",
    "# -*- coding: utf-8 -*-\n",
    "import matplotlib.pyplot as plt\n",
    "\n",
    "fig = plt.figure()\n",
    "fig.suptitle('bold figure suptitle', fontsize=14, fontweight='bold')\n",
    "\n",
    "ax = fig.add_subplot(111)\n",
    "fig.subplots_adjust(top=0.85)\n",
    "ax.set_title('axes title')\n",
    "\n",
    "ax.set_xlabel('xlabel')\n",
    "ax.set_ylabel('ylabel')\n",
    "\n",
    "ax.text(3, 8, 'boxed italics text in data coords', style='italic',\n",
    "        bbox={'facecolor':'red', 'alpha':0.5, 'pad':10})\n",
    "\n",
    "ax.text(2, 6, r'an equation: $E=mc^2$', fontsize=15)\n",
    "\n",
    "# ax.text(3, 2, u'unicode: Institut f\\374r Festk\\366rperphysik')\n",
    "\n",
    "ax.text(0.95, 0.01, 'colored text in axes coords',\n",
    "        verticalalignment='bottom', horizontalalignment='right',\n",
    "        transform=ax.transAxes,\n",
    "        color='green', fontsize=15)\n",
    "\n",
    "\n",
    "ax.plot([2], [1], 'o')\n",
    "ax.annotate('annotate', xy=(2, 1), xytext=(3, 4),\n",
    "            arrowprops=dict(facecolor='black', shrink=0.05))\n",
    "\n",
    "ax.axis([0, 10, 0, 10])\n",
    "\n",
    "plt.show()"
   ]
  },
  {
   "cell_type": "code",
   "execution_count": null,
   "metadata": {
    "collapsed": true
   },
   "outputs": [],
   "source": [
    "# Snippet to text out luminance balancing of colour maps:\n",
    "image = np.zeros((256,256), dtype = np.float)\n",
    "a = fn.makeGaussian(256,1500,50,[100,100])\n",
    "image += a\n",
    "print np.max(a)\n",
    "fn.DisplayImage(image, cmap='jet')\n",
    "fn.DisplayImage(image, cmap='gray')\n",
    "fn.DisplayImage(image, cmap='winter')\n",
    "fn.DisplayImage(image, cmap='cubehelix')"
   ]
  },
  {
   "cell_type": "code",
   "execution_count": null,
   "metadata": {
    "collapsed": true
   },
   "outputs": [],
   "source": [
    "#     PEAK_SETTINGS_CENTROIDED = {}\n",
    "#     PEAK_SETTINGS_CENTROIDED['vector'] = global_TOF_centroided\n",
    "#     PEAK_SETTINGS_CENTROIDED['widths'] = np.asarray([3])\n",
    "#     PEAK_SETTINGS_CENTROIDED['min_snr']    = [0.015]\n",
    "#     PEAK_SETTINGS_CENTROIDED['noise_perc'] = [0.0001]\n",
    "\n",
    "#     peaks_centroided = findpeaks( **PEAK_SETTINGS_CENTROIDED)\n",
    "\n",
    "#     if fig is None:\n",
    "#         print 'declared new fig'\n",
    "#         fig = pl.figure(figsize=[16,8])\n",
    "#     ax_cent = pl.subplot(212)\n",
    "#     ax_raw  = pl.subplot(211, sharex=ax_cent)\n",
    "#     tof1 = ax_cent.plot(range(11810),global_TOF_centroided)\n",
    "#     tof2 =  ax_raw.plot(range(11810),global_TOF)\n",
    "#     ax_cent.set_ylim([0,max(global_TOF_centroided[TOF_TMIN:TOF_TMAX])])\n",
    "#     ax_raw.set_ylim([0,max(global_TOF[TOF_TMIN:TOF_TMAX])])\n",
    "#     ax_cent.set_xlim([TOF_TMIN,TOF_TMAX])\n",
    "#     ax_raw.set_xlim([TOF_TMIN,TOF_TMAX])\n",
    "#     if flip:\n",
    "#         ax_cent.set_xlim(ax_cent.get_xlim()[::-1])\n",
    "#     ax_cent.set_title('ToF Centroided')\n",
    "\n",
    "#     FilterPeaks()\n",
    "#     print 'Centroided peaks found at %s'%peaks_centroided[::-1]\n",
    "#     print '       Raw peaks found at %s'%peaks_raw[::-1]\n",
    "\n",
    "#     if ax_cent is not None:\n",
    "#         for peak in peaks_centroided:\n",
    "#             ax_cent.plot([peak, peak], [0, ax_cent.get_ylim()[1]], color='k', linestyle='--', linewidth=1)\n",
    "\n",
    "#     for peak in peaks_raw:\n",
    "#         ax_raw.plot([peak, peak], [0, ax_raw.get_ylim()[1]], color='k', linestyle='--', linewidth=1)\n",
    "\n",
    "#     ax_raw.set_title('ToF RAW')\n",
    "\n",
    "# #     f.savefig(out_path + 'ToF.png')\n",
    "#     pl.show()\n",
    "\n",
    "#     return ax_raw, ax_cent\n",
    "\n",
    "\n",
    "# def FilterPeaks():\n",
    "#     import operator\n",
    "#     search_range = 5\n",
    "#     cent_threshold = len(tp_data) / 10\n",
    "#     raw_threshold = len(loaded_fileNAMES) * 2\n",
    "#     global peaks_centroided\n",
    "#     global peaks_raw\n",
    "#     new_peaks_centroided = []\n",
    "#     new_peaks_raw = []\n",
    "\n",
    "#     for peak in peaks_centroided:\n",
    "#         _min = max(peak - search_range, 0)\n",
    "#         _max = min(peak + search_range, len(global_TOF_centroided))\n",
    "#         index, maxval = max(enumerate(global_TOF_centroided[_min:_max]), key=operator.itemgetter(1))\n",
    "#         if maxval >= cent_threshold:\n",
    "#             new_peaks_centroided.append(_min+index)\n",
    "\n",
    "#     for peak in peaks_raw:\n",
    "#         _min = max(peak - search_range, 0)\n",
    "#         _max = min(peak + search_range, len(global_TOF))\n",
    "#         index, maxval = max(enumerate(global_TOF[_min:_max]), key=operator.itemgetter(1))\n",
    "#         if maxval >= raw_threshold:\n",
    "#             new_peaks_raw.append(_min+index)\n",
    "\n",
    "#     peaks_centroided = new_peaks_centroided\n",
    "#     peaks_raw = new_peaks_raw"
   ]
  }
 ],
 "metadata": {
  "anaconda-cloud": {},
  "kernelspec": {
   "display_name": "Python [Root]",
   "language": "python",
   "name": "Python [Root]"
  },
  "language_info": {
   "codemirror_mode": {
    "name": "ipython",
    "version": 2
   },
   "file_extension": ".py",
   "mimetype": "text/x-python",
   "name": "python",
   "nbconvert_exporter": "python",
   "pygments_lexer": "ipython2",
   "version": "2.7.11"
  }
 },
 "nbformat": 4,
 "nbformat_minor": 0
}
