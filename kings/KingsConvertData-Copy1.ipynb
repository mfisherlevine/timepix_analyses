{
 "cells": [
  {
   "cell_type": "code",
   "execution_count": 8,
   "metadata": {
    "collapsed": false
   },
   "outputs": [
    {
     "data": {
      "text/html": [
       "<style>.container { width:90% !important; }</style>"
      ],
      "text/plain": [
       "<IPython.core.display.HTML object>"
      ]
     },
     "execution_count": 8,
     "metadata": {},
     "output_type": "execute_result"
    }
   ],
   "source": [
    "# magic incantation to make the notebook wider\n",
    "from IPython.core.display import HTML\n",
    "HTML(\"<style>.container { width:90% !important; }</style>\")"
   ]
  },
  {
   "cell_type": "code",
   "execution_count": 2,
   "metadata": {
    "collapsed": true
   },
   "outputs": [],
   "source": [
    "#magic incantation to make all text in LaTeX font:\n",
    "from matplotlib import rc\n",
    "# rc('font',**{'family':'serif','serif':['Computer Modern Roman']})\n",
    "rc('font',**{'family':'sans-serif','sans-serif':['Helvetica']})\n",
    "rc('text', usetex=True)"
   ]
  },
  {
   "cell_type": "code",
   "execution_count": 3,
   "metadata": {
    "collapsed": false
   },
   "outputs": [
    {
     "name": "stderr",
     "output_type": "stream",
     "text": [
      "/Users/mfisherlevine/anaconda/lib/python2.7/site-packages/matplotlib/font_manager.py:273: UserWarning: Matplotlib is building the font cache using fc-list. This may take a moment.\n",
      "  warnings.warn('Matplotlib is building the font cache using fc-list. This may take a moment.')\n"
     ]
    }
   ],
   "source": [
    "import numpy as np\n",
    "import pylab as pl\n",
    "import os, sys\n",
    "%matplotlib inline\n",
    "\n",
    "import new_functions as fn\n",
    "fn = reload(fn)\n",
    "\n",
    "# XMAX = 200\n",
    "# XMIN = 50\n",
    "# YMAX = 200\n",
    "# YMIN = 50\n",
    "\n",
    "XMAX = 256\n",
    "XMIN = 0\n",
    "YMAX = 256\n",
    "YMIN = 0"
   ]
  },
  {
   "cell_type": "code",
   "execution_count": 4,
   "metadata": {
    "collapsed": false
   },
   "outputs": [
    {
     "name": "stdout",
     "output_type": "stream",
     "text": [
      "Found 100000 datafiles in run /Users/mfisherlevine/Downloads/160802_beads1/\n"
     ]
    }
   ],
   "source": [
    "timepix_data_dir_ir = '/Users/mfisherlevine/Downloads/160802_beads1/'\n",
    "# timepix_data_dir_ir = '/Users/mfisherlevine/Downloads/test/'\n",
    "\n",
    "\n",
    "dirs = [timepix_data_dir_ir + _ for _ in os.listdir(timepix_data_dir_ir) if _.find('.DS')==-1]\n",
    "tp_datafiles_ir = []\n",
    "for this_dir in dirs:\n",
    "    tp_datafiles_ir.extend([os.path.join(this_dir, _) for _ in os.listdir(this_dir) if _.find('.DS')==-1])\n",
    "print 'Found %s datafiles in run %s'%(len(tp_datafiles_ir), timepix_data_dir_ir)\n"
   ]
  },
  {
   "cell_type": "code",
   "execution_count": null,
   "metadata": {
    "collapsed": false,
    "scrolled": true
   },
   "outputs": [],
   "source": [
    "tp_data_ir = {}\n",
    "n_files_loaded = 0\n",
    "for i, filename in enumerate(tp_datafiles_ir):\n",
    "    if i%1000==0: print 'Processed %s files'%i; sys.stdout.flush()\n",
    "    n_codes = fn.Get_n_timecodesFromFile(filename)\n",
    "    if not filename in tp_data_ir.keys():\n",
    "        tp_data_ir[filename] = {}\n",
    "        tp_data_ir[filename]['n_codes'] = n_codes\n",
    "        tp_data_ir[filename]['filename'] = filename\n",
    "    else:\n",
    "        print 'Would have overwritten bunchID %s'%bunchID\n",
    "    n_files_loaded += 1\n",
    "\n",
    "print '*****\\nLoaded %s files' %n_files_loaded\n",
    "\n"
   ]
  },
  {
   "cell_type": "code",
   "execution_count": 5,
   "metadata": {
    "collapsed": false,
    "scrolled": true
   },
   "outputs": [
    {
     "name": "stdout",
     "output_type": "stream",
     "text": [
      "Centroided 0 of 100000 files\n"
     ]
    },
    {
     "name": "stderr",
     "output_type": "stream",
     "text": [
      "/Users/mfisherlevine/anaconda/lib/python2.7/site-packages/numpy/lib/npyio.py:893: UserWarning: loadtxt: Empty input file: \"/Users/mfisherlevine/Downloads/160802_beads1/00/beads1_2016_08_02_09_31_08_199.txt\"\n",
      "  warnings.warn('loadtxt: Empty input file: \"%s\"' % fname)\n",
      "/Users/mfisherlevine/anaconda/lib/python2.7/site-packages/numpy/lib/npyio.py:893: UserWarning: loadtxt: Empty input file: \"/Users/mfisherlevine/Downloads/160802_beads1/00/beads1_2016_08_02_09_31_22_899.txt\"\n",
      "  warnings.warn('loadtxt: Empty input file: \"%s\"' % fname)\n",
      "/Users/mfisherlevine/anaconda/lib/python2.7/site-packages/numpy/lib/npyio.py:893: UserWarning: loadtxt: Empty input file: \"/Users/mfisherlevine/Downloads/160802_beads1/00/beads1_2016_08_02_09_31_34_913.txt\"\n",
      "  warnings.warn('loadtxt: Empty input file: \"%s\"' % fname)\n"
     ]
    },
    {
     "name": "stdout",
     "output_type": "stream",
     "text": [
      "Centroided 1000 of 100000 files\n"
     ]
    },
    {
     "name": "stderr",
     "output_type": "stream",
     "text": [
      "/Users/mfisherlevine/anaconda/lib/python2.7/site-packages/numpy/lib/npyio.py:893: UserWarning: loadtxt: Empty input file: \"/Users/mfisherlevine/Downloads/160802_beads1/00/beads1_2016_08_02_09_31_55_557.txt\"\n",
      "  warnings.warn('loadtxt: Empty input file: \"%s\"' % fname)\n",
      "/Users/mfisherlevine/anaconda/lib/python2.7/site-packages/numpy/lib/npyio.py:893: UserWarning: loadtxt: Empty input file: \"/Users/mfisherlevine/Downloads/160802_beads1/00/beads1_2016_08_02_09_32_17_481.txt\"\n",
      "  warnings.warn('loadtxt: Empty input file: \"%s\"' % fname)\n",
      "/Users/mfisherlevine/anaconda/lib/python2.7/site-packages/numpy/lib/npyio.py:893: UserWarning: loadtxt: Empty input file: \"/Users/mfisherlevine/Downloads/160802_beads1/00/beads1_2016_08_02_09_32_43_247.txt\"\n",
      "  warnings.warn('loadtxt: Empty input file: \"%s\"' % fname)\n",
      "/Users/mfisherlevine/anaconda/lib/python2.7/site-packages/numpy/lib/npyio.py:893: UserWarning: loadtxt: Empty input file: \"/Users/mfisherlevine/Downloads/160802_beads1/00/beads1_2016_08_02_09_32_49_645.txt\"\n",
      "  warnings.warn('loadtxt: Empty input file: \"%s\"' % fname)\n"
     ]
    },
    {
     "name": "stdout",
     "output_type": "stream",
     "text": [
      "Centroided 2000 of 100000 files\n"
     ]
    },
    {
     "name": "stderr",
     "output_type": "stream",
     "text": [
      "/Users/mfisherlevine/anaconda/lib/python2.7/site-packages/numpy/lib/npyio.py:893: UserWarning: loadtxt: Empty input file: \"/Users/mfisherlevine/Downloads/160802_beads1/00/beads1_2016_08_02_09_33_23_015.txt\"\n",
      "  warnings.warn('loadtxt: Empty input file: \"%s\"' % fname)\n"
     ]
    },
    {
     "name": "stdout",
     "output_type": "stream",
     "text": [
      "Centroided 3000 of 100000 files\n",
      "Centroided 4000 of 100000 files\n"
     ]
    },
    {
     "name": "stderr",
     "output_type": "stream",
     "text": [
      "/Users/mfisherlevine/anaconda/lib/python2.7/site-packages/numpy/lib/npyio.py:893: UserWarning: loadtxt: Empty input file: \"/Users/mfisherlevine/Downloads/160802_beads1/00/beads1_2016_08_02_09_37_48_593.txt\"\n",
      "  warnings.warn('loadtxt: Empty input file: \"%s\"' % fname)\n"
     ]
    },
    {
     "name": "stdout",
     "output_type": "stream",
     "text": [
      "Centroided 5000 of 100000 files\n"
     ]
    },
    {
     "name": "stderr",
     "output_type": "stream",
     "text": [
      "/Users/mfisherlevine/anaconda/lib/python2.7/site-packages/numpy/lib/npyio.py:893: UserWarning: loadtxt: Empty input file: \"/Users/mfisherlevine/Downloads/160802_beads1/00/beads1_2016_08_02_09_38_00_685.txt\"\n",
      "  warnings.warn('loadtxt: Empty input file: \"%s\"' % fname)\n",
      "/Users/mfisherlevine/anaconda/lib/python2.7/site-packages/numpy/lib/npyio.py:893: UserWarning: loadtxt: Empty input file: \"/Users/mfisherlevine/Downloads/160802_beads1/00/beads1_2016_08_02_09_38_33_360.txt\"\n",
      "  warnings.warn('loadtxt: Empty input file: \"%s\"' % fname)\n"
     ]
    },
    {
     "name": "stdout",
     "output_type": "stream",
     "text": [
      "Centroided 6000 of 100000 files\n"
     ]
    },
    {
     "name": "stderr",
     "output_type": "stream",
     "text": [
      "/Users/mfisherlevine/anaconda/lib/python2.7/site-packages/numpy/lib/npyio.py:893: UserWarning: loadtxt: Empty input file: \"/Users/mfisherlevine/Downloads/160802_beads1/00/beads1_2016_08_02_09_40_07_739.txt\"\n",
      "  warnings.warn('loadtxt: Empty input file: \"%s\"' % fname)\n",
      "/Users/mfisherlevine/anaconda/lib/python2.7/site-packages/numpy/lib/npyio.py:893: UserWarning: loadtxt: Empty input file: \"/Users/mfisherlevine/Downloads/160802_beads1/00/beads1_2016_08_02_09_40_12_303.txt\"\n",
      "  warnings.warn('loadtxt: Empty input file: \"%s\"' % fname)\n",
      "/Users/mfisherlevine/anaconda/lib/python2.7/site-packages/numpy/lib/npyio.py:893: UserWarning: loadtxt: Empty input file: \"/Users/mfisherlevine/Downloads/160802_beads1/00/beads1_2016_08_02_09_40_14_525.txt\"\n",
      "  warnings.warn('loadtxt: Empty input file: \"%s\"' % fname)\n",
      "/Users/mfisherlevine/anaconda/lib/python2.7/site-packages/numpy/lib/npyio.py:893: UserWarning: loadtxt: Empty input file: \"/Users/mfisherlevine/Downloads/160802_beads1/00/beads1_2016_08_02_09_40_20_685.txt\"\n",
      "  warnings.warn('loadtxt: Empty input file: \"%s\"' % fname)\n",
      "/Users/mfisherlevine/anaconda/lib/python2.7/site-packages/numpy/lib/npyio.py:893: UserWarning: loadtxt: Empty input file: \"/Users/mfisherlevine/Downloads/160802_beads1/00/beads1_2016_08_02_09_40_57_412.txt\"\n",
      "  warnings.warn('loadtxt: Empty input file: \"%s\"' % fname)\n",
      "/Users/mfisherlevine/anaconda/lib/python2.7/site-packages/numpy/lib/npyio.py:893: UserWarning: loadtxt: Empty input file: \"/Users/mfisherlevine/Downloads/160802_beads1/00/beads1_2016_08_02_09_41_00_614.txt\"\n",
      "  warnings.warn('loadtxt: Empty input file: \"%s\"' % fname)\n"
     ]
    },
    {
     "name": "stdout",
     "output_type": "stream",
     "text": [
      "Centroided 7000 of 100000 files\n"
     ]
    },
    {
     "name": "stderr",
     "output_type": "stream",
     "text": [
      "/Users/mfisherlevine/anaconda/lib/python2.7/site-packages/numpy/lib/npyio.py:893: UserWarning: loadtxt: Empty input file: \"/Users/mfisherlevine/Downloads/160802_beads1/00/beads1_2016_08_02_09_41_45_057.txt\"\n",
      "  warnings.warn('loadtxt: Empty input file: \"%s\"' % fname)\n"
     ]
    },
    {
     "name": "stdout",
     "output_type": "stream",
     "text": [
      "Centroided 8000 of 100000 files\n"
     ]
    },
    {
     "name": "stderr",
     "output_type": "stream",
     "text": [
      "/Users/mfisherlevine/anaconda/lib/python2.7/site-packages/numpy/lib/npyio.py:893: UserWarning: loadtxt: Empty input file: \"/Users/mfisherlevine/Downloads/160802_beads1/00/beads1_2016_08_02_09_42_54_073.txt\"\n",
      "  warnings.warn('loadtxt: Empty input file: \"%s\"' % fname)\n",
      "/Users/mfisherlevine/anaconda/lib/python2.7/site-packages/numpy/lib/npyio.py:893: UserWarning: loadtxt: Empty input file: \"/Users/mfisherlevine/Downloads/160802_beads1/00/beads1_2016_08_02_09_43_19_001.txt\"\n",
      "  warnings.warn('loadtxt: Empty input file: \"%s\"' % fname)\n",
      "/Users/mfisherlevine/anaconda/lib/python2.7/site-packages/numpy/lib/npyio.py:893: UserWarning: loadtxt: Empty input file: \"/Users/mfisherlevine/Downloads/160802_beads1/00/beads1_2016_08_02_09_43_39_396.txt\"\n",
      "  warnings.warn('loadtxt: Empty input file: \"%s\"' % fname)\n",
      "/Users/mfisherlevine/anaconda/lib/python2.7/site-packages/numpy/lib/npyio.py:893: UserWarning: loadtxt: Empty input file: \"/Users/mfisherlevine/Downloads/160802_beads1/00/beads1_2016_08_02_09_44_10_540.txt\"\n",
      "  warnings.warn('loadtxt: Empty input file: \"%s\"' % fname)\n"
     ]
    },
    {
     "name": "stdout",
     "output_type": "stream",
     "text": [
      "Centroided 9000 of 100000 files\n"
     ]
    },
    {
     "name": "stderr",
     "output_type": "stream",
     "text": [
      "/Users/mfisherlevine/anaconda/lib/python2.7/site-packages/numpy/lib/npyio.py:893: UserWarning: loadtxt: Empty input file: \"/Users/mfisherlevine/Downloads/160802_beads1/00/beads1_2016_08_02_09_44_24_809.txt\"\n",
      "  warnings.warn('loadtxt: Empty input file: \"%s\"' % fname)\n",
      "/Users/mfisherlevine/anaconda/lib/python2.7/site-packages/numpy/lib/npyio.py:893: UserWarning: loadtxt: Empty input file: \"/Users/mfisherlevine/Downloads/160802_beads1/00/beads1_2016_08_02_09_44_39_036.txt\"\n",
      "  warnings.warn('loadtxt: Empty input file: \"%s\"' % fname)\n",
      "/Users/mfisherlevine/anaconda/lib/python2.7/site-packages/numpy/lib/npyio.py:893: UserWarning: loadtxt: Empty input file: \"/Users/mfisherlevine/Downloads/160802_beads1/00/beads1_2016_08_02_09_45_21_053.txt\"\n",
      "  warnings.warn('loadtxt: Empty input file: \"%s\"' % fname)\n"
     ]
    },
    {
     "name": "stdout",
     "output_type": "stream",
     "text": [
      "Centroided 10000 of 100000 files\n"
     ]
    },
    {
     "name": "stderr",
     "output_type": "stream",
     "text": [
      "/Users/mfisherlevine/anaconda/lib/python2.7/site-packages/numpy/lib/npyio.py:893: UserWarning: loadtxt: Empty input file: \"/Users/mfisherlevine/Downloads/160802_beads1/01/beads1_2016_08_02_09_51_33_126.txt\"\n",
      "  warnings.warn('loadtxt: Empty input file: \"%s\"' % fname)\n",
      "/Users/mfisherlevine/anaconda/lib/python2.7/site-packages/numpy/lib/npyio.py:893: UserWarning: loadtxt: Empty input file: \"/Users/mfisherlevine/Downloads/160802_beads1/01/beads1_2016_08_02_09_51_34_096.txt\"\n",
      "  warnings.warn('loadtxt: Empty input file: \"%s\"' % fname)\n"
     ]
    },
    {
     "name": "stdout",
     "output_type": "stream",
     "text": [
      "Centroided 11000 of 100000 files\n"
     ]
    },
    {
     "name": "stderr",
     "output_type": "stream",
     "text": [
      "/Users/mfisherlevine/anaconda/lib/python2.7/site-packages/numpy/lib/npyio.py:893: UserWarning: loadtxt: Empty input file: \"/Users/mfisherlevine/Downloads/160802_beads1/01/beads1_2016_08_02_09_51_52_744.txt\"\n",
      "  warnings.warn('loadtxt: Empty input file: \"%s\"' % fname)\n",
      "/Users/mfisherlevine/anaconda/lib/python2.7/site-packages/numpy/lib/npyio.py:893: UserWarning: loadtxt: Empty input file: \"/Users/mfisherlevine/Downloads/160802_beads1/01/beads1_2016_08_02_09_51_53_629.txt\"\n",
      "  warnings.warn('loadtxt: Empty input file: \"%s\"' % fname)\n",
      "/Users/mfisherlevine/anaconda/lib/python2.7/site-packages/numpy/lib/npyio.py:893: UserWarning: loadtxt: Empty input file: \"/Users/mfisherlevine/Downloads/160802_beads1/01/beads1_2016_08_02_09_53_07_515.txt\"\n",
      "  warnings.warn('loadtxt: Empty input file: \"%s\"' % fname)\n"
     ]
    },
    {
     "name": "stdout",
     "output_type": "stream",
     "text": [
      "Centroided 12000 of 100000 files\n"
     ]
    },
    {
     "name": "stderr",
     "output_type": "stream",
     "text": [
      "/Users/mfisherlevine/anaconda/lib/python2.7/site-packages/numpy/lib/npyio.py:893: UserWarning: loadtxt: Empty input file: \"/Users/mfisherlevine/Downloads/160802_beads1/01/beads1_2016_08_02_09_53_30_935.txt\"\n",
      "  warnings.warn('loadtxt: Empty input file: \"%s\"' % fname)\n"
     ]
    },
    {
     "name": "stdout",
     "output_type": "stream",
     "text": [
      "Centroided 13000 of 100000 files\n"
     ]
    },
    {
     "name": "stderr",
     "output_type": "stream",
     "text": [
      "/Users/mfisherlevine/anaconda/lib/python2.7/site-packages/numpy/lib/npyio.py:893: UserWarning: loadtxt: Empty input file: \"/Users/mfisherlevine/Downloads/160802_beads1/01/beads1_2016_08_02_09_55_00_036.txt\"\n",
      "  warnings.warn('loadtxt: Empty input file: \"%s\"' % fname)\n",
      "/Users/mfisherlevine/anaconda/lib/python2.7/site-packages/numpy/lib/npyio.py:893: UserWarning: loadtxt: Empty input file: \"/Users/mfisherlevine/Downloads/160802_beads1/01/beads1_2016_08_02_09_55_46_516.txt\"\n",
      "  warnings.warn('loadtxt: Empty input file: \"%s\"' % fname)\n",
      "/Users/mfisherlevine/anaconda/lib/python2.7/site-packages/numpy/lib/npyio.py:893: UserWarning: loadtxt: Empty input file: \"/Users/mfisherlevine/Downloads/160802_beads1/01/beads1_2016_08_02_09_55_59_109.txt\"\n",
      "  warnings.warn('loadtxt: Empty input file: \"%s\"' % fname)\n"
     ]
    },
    {
     "name": "stdout",
     "output_type": "stream",
     "text": [
      "Centroided 14000 of 100000 files\n",
      "Centroided 15000 of 100000 files\n"
     ]
    },
    {
     "name": "stderr",
     "output_type": "stream",
     "text": [
      "/Users/mfisherlevine/anaconda/lib/python2.7/site-packages/numpy/lib/npyio.py:893: UserWarning: loadtxt: Empty input file: \"/Users/mfisherlevine/Downloads/160802_beads1/01/beads1_2016_08_02_09_58_08_449.txt\"\n",
      "  warnings.warn('loadtxt: Empty input file: \"%s\"' % fname)\n",
      "/Users/mfisherlevine/anaconda/lib/python2.7/site-packages/numpy/lib/npyio.py:893: UserWarning: loadtxt: Empty input file: \"/Users/mfisherlevine/Downloads/160802_beads1/01/beads1_2016_08_02_09_58_21_227.txt\"\n",
      "  warnings.warn('loadtxt: Empty input file: \"%s\"' % fname)\n",
      "/Users/mfisherlevine/anaconda/lib/python2.7/site-packages/numpy/lib/npyio.py:893: UserWarning: loadtxt: Empty input file: \"/Users/mfisherlevine/Downloads/160802_beads1/01/beads1_2016_08_02_09_58_30_707.txt\"\n",
      "  warnings.warn('loadtxt: Empty input file: \"%s\"' % fname)\n",
      "/Users/mfisherlevine/anaconda/lib/python2.7/site-packages/numpy/lib/npyio.py:893: UserWarning: loadtxt: Empty input file: \"/Users/mfisherlevine/Downloads/160802_beads1/01/beads1_2016_08_02_09_58_48_884.txt\"\n",
      "  warnings.warn('loadtxt: Empty input file: \"%s\"' % fname)\n"
     ]
    },
    {
     "name": "stdout",
     "output_type": "stream",
     "text": [
      "Centroided 16000 of 100000 files\n"
     ]
    },
    {
     "name": "stderr",
     "output_type": "stream",
     "text": [
      "/Users/mfisherlevine/anaconda/lib/python2.7/site-packages/numpy/lib/npyio.py:893: UserWarning: loadtxt: Empty input file: \"/Users/mfisherlevine/Downloads/160802_beads1/01/beads1_2016_08_02_10_00_50_633.txt\"\n",
      "  warnings.warn('loadtxt: Empty input file: \"%s\"' % fname)\n"
     ]
    },
    {
     "name": "stdout",
     "output_type": "stream",
     "text": [
      "Centroided 17000 of 100000 files\n"
     ]
    },
    {
     "name": "stderr",
     "output_type": "stream",
     "text": [
      "/Users/mfisherlevine/anaconda/lib/python2.7/site-packages/numpy/lib/npyio.py:893: UserWarning: loadtxt: Empty input file: \"/Users/mfisherlevine/Downloads/160802_beads1/01/beads1_2016_08_02_10_01_34_617.txt\"\n",
      "  warnings.warn('loadtxt: Empty input file: \"%s\"' % fname)\n",
      "/Users/mfisherlevine/anaconda/lib/python2.7/site-packages/numpy/lib/npyio.py:893: UserWarning: loadtxt: Empty input file: \"/Users/mfisherlevine/Downloads/160802_beads1/01/beads1_2016_08_02_10_02_35_417.txt\"\n",
      "  warnings.warn('loadtxt: Empty input file: \"%s\"' % fname)\n",
      "/Users/mfisherlevine/anaconda/lib/python2.7/site-packages/numpy/lib/npyio.py:893: UserWarning: loadtxt: Empty input file: \"/Users/mfisherlevine/Downloads/160802_beads1/01/beads1_2016_08_02_10_02_43_994.txt\"\n",
      "  warnings.warn('loadtxt: Empty input file: \"%s\"' % fname)\n"
     ]
    },
    {
     "name": "stdout",
     "output_type": "stream",
     "text": [
      "Centroided 18000 of 100000 files\n"
     ]
    },
    {
     "name": "stderr",
     "output_type": "stream",
     "text": [
      "/Users/mfisherlevine/anaconda/lib/python2.7/site-packages/numpy/lib/npyio.py:893: UserWarning: loadtxt: Empty input file: \"/Users/mfisherlevine/Downloads/160802_beads1/01/beads1_2016_08_02_10_02_58_439.txt\"\n",
      "  warnings.warn('loadtxt: Empty input file: \"%s\"' % fname)\n",
      "/Users/mfisherlevine/anaconda/lib/python2.7/site-packages/numpy/lib/npyio.py:893: UserWarning: loadtxt: Empty input file: \"/Users/mfisherlevine/Downloads/160802_beads1/01/beads1_2016_08_02_10_02_59_632.txt\"\n",
      "  warnings.warn('loadtxt: Empty input file: \"%s\"' % fname)\n",
      "/Users/mfisherlevine/anaconda/lib/python2.7/site-packages/numpy/lib/npyio.py:893: UserWarning: loadtxt: Empty input file: \"/Users/mfisherlevine/Downloads/160802_beads1/01/beads1_2016_08_02_10_03_03_086.txt\"\n",
      "  warnings.warn('loadtxt: Empty input file: \"%s\"' % fname)\n",
      "/Users/mfisherlevine/anaconda/lib/python2.7/site-packages/numpy/lib/npyio.py:893: UserWarning: loadtxt: Empty input file: \"/Users/mfisherlevine/Downloads/160802_beads1/01/beads1_2016_08_02_10_03_24_283.txt\"\n",
      "  warnings.warn('loadtxt: Empty input file: \"%s\"' % fname)\n",
      "/Users/mfisherlevine/anaconda/lib/python2.7/site-packages/numpy/lib/npyio.py:893: UserWarning: loadtxt: Empty input file: \"/Users/mfisherlevine/Downloads/160802_beads1/01/beads1_2016_08_02_10_03_26_884.txt\"\n",
      "  warnings.warn('loadtxt: Empty input file: \"%s\"' % fname)\n",
      "/Users/mfisherlevine/anaconda/lib/python2.7/site-packages/numpy/lib/npyio.py:893: UserWarning: loadtxt: Empty input file: \"/Users/mfisherlevine/Downloads/160802_beads1/01/beads1_2016_08_02_10_03_37_161.txt\"\n",
      "  warnings.warn('loadtxt: Empty input file: \"%s\"' % fname)\n",
      "/Users/mfisherlevine/anaconda/lib/python2.7/site-packages/numpy/lib/npyio.py:893: UserWarning: loadtxt: Empty input file: \"/Users/mfisherlevine/Downloads/160802_beads1/01/beads1_2016_08_02_10_03_42_730.txt\"\n",
      "  warnings.warn('loadtxt: Empty input file: \"%s\"' % fname)\n",
      "/Users/mfisherlevine/anaconda/lib/python2.7/site-packages/numpy/lib/npyio.py:893: UserWarning: loadtxt: Empty input file: \"/Users/mfisherlevine/Downloads/160802_beads1/01/beads1_2016_08_02_10_03_48_883.txt\"\n",
      "  warnings.warn('loadtxt: Empty input file: \"%s\"' % fname)\n"
     ]
    },
    {
     "name": "stdout",
     "output_type": "stream",
     "text": [
      "Centroided 19000 of 100000 files\n",
      "Centroided 20000 of 100000 files\n"
     ]
    },
    {
     "name": "stderr",
     "output_type": "stream",
     "text": [
      "/Users/mfisherlevine/anaconda/lib/python2.7/site-packages/numpy/lib/npyio.py:893: UserWarning: loadtxt: Empty input file: \"/Users/mfisherlevine/Downloads/160802_beads1/01/beads1_2016_08_02_10_06_38_320.txt\"\n",
      "  warnings.warn('loadtxt: Empty input file: \"%s\"' % fname)\n",
      "/Users/mfisherlevine/anaconda/lib/python2.7/site-packages/numpy/lib/npyio.py:893: UserWarning: loadtxt: Empty input file: \"/Users/mfisherlevine/Downloads/160802_beads1/01/beads1_2016_08_02_10_06_51_950.txt\"\n",
      "  warnings.warn('loadtxt: Empty input file: \"%s\"' % fname)\n",
      "/Users/mfisherlevine/anaconda/lib/python2.7/site-packages/numpy/lib/npyio.py:893: UserWarning: loadtxt: Empty input file: \"/Users/mfisherlevine/Downloads/160802_beads1/01/beads1_2016_08_02_10_07_17_495.txt\"\n",
      "  warnings.warn('loadtxt: Empty input file: \"%s\"' % fname)\n"
     ]
    },
    {
     "name": "stdout",
     "output_type": "stream",
     "text": [
      "Centroided 21000 of 100000 files\n"
     ]
    },
    {
     "name": "stderr",
     "output_type": "stream",
     "text": [
      "/Users/mfisherlevine/anaconda/lib/python2.7/site-packages/numpy/lib/npyio.py:893: UserWarning: loadtxt: Empty input file: \"/Users/mfisherlevine/Downloads/160802_beads1/01/beads1_2016_08_02_10_09_07_556.txt\"\n",
      "  warnings.warn('loadtxt: Empty input file: \"%s\"' % fname)\n",
      "/Users/mfisherlevine/anaconda/lib/python2.7/site-packages/numpy/lib/npyio.py:893: UserWarning: loadtxt: Empty input file: \"/Users/mfisherlevine/Downloads/160802_beads1/01/beads1_2016_08_02_10_09_28_944.txt\"\n",
      "  warnings.warn('loadtxt: Empty input file: \"%s\"' % fname)\n"
     ]
    },
    {
     "name": "stdout",
     "output_type": "stream",
     "text": [
      "Centroided 22000 of 100000 files\n"
     ]
    },
    {
     "name": "stderr",
     "output_type": "stream",
     "text": [
      "/Users/mfisherlevine/anaconda/lib/python2.7/site-packages/numpy/lib/npyio.py:893: UserWarning: loadtxt: Empty input file: \"/Users/mfisherlevine/Downloads/160802_beads1/01/beads1_2016_08_02_10_09_58_992.txt\"\n",
      "  warnings.warn('loadtxt: Empty input file: \"%s\"' % fname)\n"
     ]
    },
    {
     "name": "stdout",
     "output_type": "stream",
     "text": [
      "Centroided 23000 of 100000 files\n"
     ]
    },
    {
     "name": "stderr",
     "output_type": "stream",
     "text": [
      "/Users/mfisherlevine/anaconda/lib/python2.7/site-packages/numpy/lib/npyio.py:893: UserWarning: loadtxt: Empty input file: \"/Users/mfisherlevine/Downloads/160802_beads1/01/beads1_2016_08_02_10_12_14_055.txt\"\n",
      "  warnings.warn('loadtxt: Empty input file: \"%s\"' % fname)\n"
     ]
    },
    {
     "name": "stdout",
     "output_type": "stream",
     "text": [
      "Centroided 24000 of 100000 files\n"
     ]
    },
    {
     "name": "stderr",
     "output_type": "stream",
     "text": [
      "/Users/mfisherlevine/anaconda/lib/python2.7/site-packages/numpy/lib/npyio.py:893: UserWarning: loadtxt: Empty input file: \"/Users/mfisherlevine/Downloads/160802_beads1/01/beads1_2016_08_02_10_12_59_663.txt\"\n",
      "  warnings.warn('loadtxt: Empty input file: \"%s\"' % fname)\n",
      "/Users/mfisherlevine/anaconda/lib/python2.7/site-packages/numpy/lib/npyio.py:893: UserWarning: loadtxt: Empty input file: \"/Users/mfisherlevine/Downloads/160802_beads1/01/beads1_2016_08_02_10_13_12_196.txt\"\n",
      "  warnings.warn('loadtxt: Empty input file: \"%s\"' % fname)\n"
     ]
    },
    {
     "name": "stdout",
     "output_type": "stream",
     "text": [
      "Centroided 25000 of 100000 files\n"
     ]
    },
    {
     "name": "stderr",
     "output_type": "stream",
     "text": [
      "/Users/mfisherlevine/anaconda/lib/python2.7/site-packages/numpy/lib/npyio.py:893: UserWarning: loadtxt: Empty input file: \"/Users/mfisherlevine/Downloads/160802_beads1/01/beads1_2016_08_02_10_15_12_205.txt\"\n",
      "  warnings.warn('loadtxt: Empty input file: \"%s\"' % fname)\n"
     ]
    },
    {
     "name": "stdout",
     "output_type": "stream",
     "text": [
      "Centroided 26000 of 100000 files\n"
     ]
    },
    {
     "name": "stderr",
     "output_type": "stream",
     "text": [
      "/Users/mfisherlevine/anaconda/lib/python2.7/site-packages/numpy/lib/npyio.py:893: UserWarning: loadtxt: Empty input file: \"/Users/mfisherlevine/Downloads/160802_beads1/01/beads1_2016_08_02_10_16_45_344.txt\"\n",
      "  warnings.warn('loadtxt: Empty input file: \"%s\"' % fname)\n",
      "/Users/mfisherlevine/anaconda/lib/python2.7/site-packages/numpy/lib/npyio.py:893: UserWarning: loadtxt: Empty input file: \"/Users/mfisherlevine/Downloads/160802_beads1/01/beads1_2016_08_02_10_17_22_990.txt\"\n",
      "  warnings.warn('loadtxt: Empty input file: \"%s\"' % fname)\n"
     ]
    },
    {
     "name": "stdout",
     "output_type": "stream",
     "text": [
      "Centroided 27000 of 100000 files\n"
     ]
    },
    {
     "name": "stderr",
     "output_type": "stream",
     "text": [
      "/Users/mfisherlevine/anaconda/lib/python2.7/site-packages/numpy/lib/npyio.py:893: UserWarning: loadtxt: Empty input file: \"/Users/mfisherlevine/Downloads/160802_beads1/01/beads1_2016_08_02_10_17_55_557.txt\"\n",
      "  warnings.warn('loadtxt: Empty input file: \"%s\"' % fname)\n",
      "/Users/mfisherlevine/anaconda/lib/python2.7/site-packages/numpy/lib/npyio.py:893: UserWarning: loadtxt: Empty input file: \"/Users/mfisherlevine/Downloads/160802_beads1/01/beads1_2016_08_02_10_18_10_161.txt\"\n",
      "  warnings.warn('loadtxt: Empty input file: \"%s\"' % fname)\n",
      "/Users/mfisherlevine/anaconda/lib/python2.7/site-packages/numpy/lib/npyio.py:893: UserWarning: loadtxt: Empty input file: \"/Users/mfisherlevine/Downloads/160802_beads1/01/beads1_2016_08_02_10_19_04_098.txt\"\n",
      "  warnings.warn('loadtxt: Empty input file: \"%s\"' % fname)\n"
     ]
    },
    {
     "name": "stdout",
     "output_type": "stream",
     "text": [
      "Centroided 28000 of 100000 files\n"
     ]
    },
    {
     "name": "stderr",
     "output_type": "stream",
     "text": [
      "/Users/mfisherlevine/anaconda/lib/python2.7/site-packages/numpy/lib/npyio.py:893: UserWarning: loadtxt: Empty input file: \"/Users/mfisherlevine/Downloads/160802_beads1/01/beads1_2016_08_02_10_19_35_441.txt\"\n",
      "  warnings.warn('loadtxt: Empty input file: \"%s\"' % fname)\n",
      "/Users/mfisherlevine/anaconda/lib/python2.7/site-packages/numpy/lib/npyio.py:893: UserWarning: loadtxt: Empty input file: \"/Users/mfisherlevine/Downloads/160802_beads1/01/beads1_2016_08_02_10_20_03_396.txt\"\n",
      "  warnings.warn('loadtxt: Empty input file: \"%s\"' % fname)\n",
      "/Users/mfisherlevine/anaconda/lib/python2.7/site-packages/numpy/lib/npyio.py:893: UserWarning: loadtxt: Empty input file: \"/Users/mfisherlevine/Downloads/160802_beads1/01/beads1_2016_08_02_10_20_40_711.txt\"\n",
      "  warnings.warn('loadtxt: Empty input file: \"%s\"' % fname)\n",
      "/Users/mfisherlevine/anaconda/lib/python2.7/site-packages/numpy/lib/npyio.py:893: UserWarning: loadtxt: Empty input file: \"/Users/mfisherlevine/Downloads/160802_beads1/01/beads1_2016_08_02_10_20_49_783.txt\"\n",
      "  warnings.warn('loadtxt: Empty input file: \"%s\"' % fname)\n"
     ]
    },
    {
     "name": "stdout",
     "output_type": "stream",
     "text": [
      "Centroided 29000 of 100000 files\n"
     ]
    },
    {
     "name": "stderr",
     "output_type": "stream",
     "text": [
      "/Users/mfisherlevine/anaconda/lib/python2.7/site-packages/numpy/lib/npyio.py:893: UserWarning: loadtxt: Empty input file: \"/Users/mfisherlevine/Downloads/160802_beads1/01/beads1_2016_08_02_10_21_32_412.txt\"\n",
      "  warnings.warn('loadtxt: Empty input file: \"%s\"' % fname)\n",
      "/Users/mfisherlevine/anaconda/lib/python2.7/site-packages/numpy/lib/npyio.py:893: UserWarning: loadtxt: Empty input file: \"/Users/mfisherlevine/Downloads/160802_beads1/01/beads1_2016_08_02_10_22_23_539.txt\"\n",
      "  warnings.warn('loadtxt: Empty input file: \"%s\"' % fname)\n"
     ]
    },
    {
     "name": "stdout",
     "output_type": "stream",
     "text": [
      "Centroided 30000 of 100000 files\n"
     ]
    },
    {
     "name": "stderr",
     "output_type": "stream",
     "text": [
      "/Users/mfisherlevine/anaconda/lib/python2.7/site-packages/numpy/lib/npyio.py:893: UserWarning: loadtxt: Empty input file: \"/Users/mfisherlevine/Downloads/160802_beads1/01/beads1_2016_08_02_10_23_43_615.txt\"\n",
      "  warnings.warn('loadtxt: Empty input file: \"%s\"' % fname)\n",
      "/Users/mfisherlevine/anaconda/lib/python2.7/site-packages/numpy/lib/npyio.py:893: UserWarning: loadtxt: Empty input file: \"/Users/mfisherlevine/Downloads/160802_beads1/01/beads1_2016_08_02_10_24_25_944.txt\"\n",
      "  warnings.warn('loadtxt: Empty input file: \"%s\"' % fname)\n"
     ]
    },
    {
     "name": "stdout",
     "output_type": "stream",
     "text": [
      "Centroided 31000 of 100000 files\n"
     ]
    },
    {
     "name": "stderr",
     "output_type": "stream",
     "text": [
      "/Users/mfisherlevine/anaconda/lib/python2.7/site-packages/numpy/lib/npyio.py:893: UserWarning: loadtxt: Empty input file: \"/Users/mfisherlevine/Downloads/160802_beads1/01/beads1_2016_08_02_10_25_12_280.txt\"\n",
      "  warnings.warn('loadtxt: Empty input file: \"%s\"' % fname)\n",
      "/Users/mfisherlevine/anaconda/lib/python2.7/site-packages/numpy/lib/npyio.py:893: UserWarning: loadtxt: Empty input file: \"/Users/mfisherlevine/Downloads/160802_beads1/01/beads1_2016_08_02_10_25_31_349.txt\"\n",
      "  warnings.warn('loadtxt: Empty input file: \"%s\"' % fname)\n",
      "/Users/mfisherlevine/anaconda/lib/python2.7/site-packages/numpy/lib/npyio.py:893: UserWarning: loadtxt: Empty input file: \"/Users/mfisherlevine/Downloads/160802_beads1/01/beads1_2016_08_02_10_26_00_262.txt\"\n",
      "  warnings.warn('loadtxt: Empty input file: \"%s\"' % fname)\n",
      "/Users/mfisherlevine/anaconda/lib/python2.7/site-packages/numpy/lib/npyio.py:893: UserWarning: loadtxt: Empty input file: \"/Users/mfisherlevine/Downloads/160802_beads1/01/beads1_2016_08_02_10_26_15_620.txt\"\n",
      "  warnings.warn('loadtxt: Empty input file: \"%s\"' % fname)\n"
     ]
    },
    {
     "name": "stdout",
     "output_type": "stream",
     "text": [
      "Centroided 32000 of 100000 files\n"
     ]
    },
    {
     "name": "stderr",
     "output_type": "stream",
     "text": [
      "/Users/mfisherlevine/anaconda/lib/python2.7/site-packages/numpy/lib/npyio.py:893: UserWarning: loadtxt: Empty input file: \"/Users/mfisherlevine/Downloads/160802_beads1/01/beads1_2016_08_02_10_27_38_324.txt\"\n",
      "  warnings.warn('loadtxt: Empty input file: \"%s\"' % fname)\n",
      "/Users/mfisherlevine/anaconda/lib/python2.7/site-packages/numpy/lib/npyio.py:893: UserWarning: loadtxt: Empty input file: \"/Users/mfisherlevine/Downloads/160802_beads1/01/beads1_2016_08_02_10_27_43_133.txt\"\n",
      "  warnings.warn('loadtxt: Empty input file: \"%s\"' % fname)\n"
     ]
    },
    {
     "name": "stdout",
     "output_type": "stream",
     "text": [
      "Centroided 33000 of 100000 files\n"
     ]
    },
    {
     "name": "stderr",
     "output_type": "stream",
     "text": [
      "/Users/mfisherlevine/anaconda/lib/python2.7/site-packages/numpy/lib/npyio.py:893: UserWarning: loadtxt: Empty input file: \"/Users/mfisherlevine/Downloads/160802_beads1/01/beads1_2016_08_02_10_28_13_156.txt\"\n",
      "  warnings.warn('loadtxt: Empty input file: \"%s\"' % fname)\n",
      "/Users/mfisherlevine/anaconda/lib/python2.7/site-packages/numpy/lib/npyio.py:893: UserWarning: loadtxt: Empty input file: \"/Users/mfisherlevine/Downloads/160802_beads1/01/beads1_2016_08_02_10_28_30_033.txt\"\n",
      "  warnings.warn('loadtxt: Empty input file: \"%s\"' % fname)\n"
     ]
    },
    {
     "name": "stdout",
     "output_type": "stream",
     "text": [
      "Centroided 34000 of 100000 files\n"
     ]
    },
    {
     "name": "stderr",
     "output_type": "stream",
     "text": [
      "/Users/mfisherlevine/anaconda/lib/python2.7/site-packages/numpy/lib/npyio.py:893: UserWarning: loadtxt: Empty input file: \"/Users/mfisherlevine/Downloads/160802_beads1/01/beads1_2016_08_02_10_29_42_043.txt\"\n",
      "  warnings.warn('loadtxt: Empty input file: \"%s\"' % fname)\n",
      "/Users/mfisherlevine/anaconda/lib/python2.7/site-packages/numpy/lib/npyio.py:893: UserWarning: loadtxt: Empty input file: \"/Users/mfisherlevine/Downloads/160802_beads1/01/beads1_2016_08_02_10_30_22_550.txt\"\n",
      "  warnings.warn('loadtxt: Empty input file: \"%s\"' % fname)\n",
      "/Users/mfisherlevine/anaconda/lib/python2.7/site-packages/numpy/lib/npyio.py:893: UserWarning: loadtxt: Empty input file: \"/Users/mfisherlevine/Downloads/160802_beads1/01/beads1_2016_08_02_10_30_47_925.txt\"\n",
      "  warnings.warn('loadtxt: Empty input file: \"%s\"' % fname)\n",
      "/Users/mfisherlevine/anaconda/lib/python2.7/site-packages/numpy/lib/npyio.py:893: UserWarning: loadtxt: Empty input file: \"/Users/mfisherlevine/Downloads/160802_beads1/01/beads1_2016_08_02_10_30_50_290.txt\"\n",
      "  warnings.warn('loadtxt: Empty input file: \"%s\"' % fname)\n"
     ]
    },
    {
     "name": "stdout",
     "output_type": "stream",
     "text": [
      "Centroided 35000 of 100000 files\n"
     ]
    },
    {
     "name": "stderr",
     "output_type": "stream",
     "text": [
      "/Users/mfisherlevine/anaconda/lib/python2.7/site-packages/numpy/lib/npyio.py:893: UserWarning: loadtxt: Empty input file: \"/Users/mfisherlevine/Downloads/160802_beads1/01/beads1_2016_08_02_10_31_57_254.txt\"\n",
      "  warnings.warn('loadtxt: Empty input file: \"%s\"' % fname)\n"
     ]
    },
    {
     "name": "stdout",
     "output_type": "stream",
     "text": [
      "Centroided 36000 of 100000 files\n"
     ]
    },
    {
     "name": "stderr",
     "output_type": "stream",
     "text": [
      "/Users/mfisherlevine/anaconda/lib/python2.7/site-packages/numpy/lib/npyio.py:893: UserWarning: loadtxt: Empty input file: \"/Users/mfisherlevine/Downloads/160802_beads1/01/beads1_2016_08_02_10_33_29_689.txt\"\n",
      "  warnings.warn('loadtxt: Empty input file: \"%s\"' % fname)\n",
      "/Users/mfisherlevine/anaconda/lib/python2.7/site-packages/numpy/lib/npyio.py:893: UserWarning: loadtxt: Empty input file: \"/Users/mfisherlevine/Downloads/160802_beads1/01/beads1_2016_08_02_10_33_44_553.txt\"\n",
      "  warnings.warn('loadtxt: Empty input file: \"%s\"' % fname)\n",
      "/Users/mfisherlevine/anaconda/lib/python2.7/site-packages/numpy/lib/npyio.py:893: UserWarning: loadtxt: Empty input file: \"/Users/mfisherlevine/Downloads/160802_beads1/01/beads1_2016_08_02_10_33_45_392.txt\"\n",
      "  warnings.warn('loadtxt: Empty input file: \"%s\"' % fname)\n",
      "/Users/mfisherlevine/anaconda/lib/python2.7/site-packages/numpy/lib/npyio.py:893: UserWarning: loadtxt: Empty input file: \"/Users/mfisherlevine/Downloads/160802_beads1/01/beads1_2016_08_02_10_33_48_835.txt\"\n",
      "  warnings.warn('loadtxt: Empty input file: \"%s\"' % fname)\n",
      "/Users/mfisherlevine/anaconda/lib/python2.7/site-packages/numpy/lib/npyio.py:893: UserWarning: loadtxt: Empty input file: \"/Users/mfisherlevine/Downloads/160802_beads1/01/beads1_2016_08_02_10_33_50_904.txt\"\n",
      "  warnings.warn('loadtxt: Empty input file: \"%s\"' % fname)\n",
      "/Users/mfisherlevine/anaconda/lib/python2.7/site-packages/numpy/lib/npyio.py:893: UserWarning: loadtxt: Empty input file: \"/Users/mfisherlevine/Downloads/160802_beads1/01/beads1_2016_08_02_10_34_23_224.txt\"\n",
      "  warnings.warn('loadtxt: Empty input file: \"%s\"' % fname)\n"
     ]
    },
    {
     "name": "stdout",
     "output_type": "stream",
     "text": [
      "Centroided 37000 of 100000 files\n"
     ]
    },
    {
     "name": "stderr",
     "output_type": "stream",
     "text": [
      "/Users/mfisherlevine/anaconda/lib/python2.7/site-packages/numpy/lib/npyio.py:893: UserWarning: loadtxt: Empty input file: \"/Users/mfisherlevine/Downloads/160802_beads1/01/beads1_2016_08_02_10_35_08_690.txt\"\n",
      "  warnings.warn('loadtxt: Empty input file: \"%s\"' % fname)\n",
      "/Users/mfisherlevine/anaconda/lib/python2.7/site-packages/numpy/lib/npyio.py:893: UserWarning: loadtxt: Empty input file: \"/Users/mfisherlevine/Downloads/160802_beads1/01/beads1_2016_08_02_10_35_15_658.txt\"\n",
      "  warnings.warn('loadtxt: Empty input file: \"%s\"' % fname)\n",
      "/Users/mfisherlevine/anaconda/lib/python2.7/site-packages/numpy/lib/npyio.py:893: UserWarning: loadtxt: Empty input file: \"/Users/mfisherlevine/Downloads/160802_beads1/01/beads1_2016_08_02_10_35_53_989.txt\"\n",
      "  warnings.warn('loadtxt: Empty input file: \"%s\"' % fname)\n"
     ]
    },
    {
     "name": "stdout",
     "output_type": "stream",
     "text": [
      "Centroided 38000 of 100000 files\n"
     ]
    },
    {
     "name": "stderr",
     "output_type": "stream",
     "text": [
      "/Users/mfisherlevine/anaconda/lib/python2.7/site-packages/numpy/lib/npyio.py:893: UserWarning: loadtxt: Empty input file: \"/Users/mfisherlevine/Downloads/160802_beads1/01/beads1_2016_08_02_10_36_28_575.txt\"\n",
      "  warnings.warn('loadtxt: Empty input file: \"%s\"' % fname)\n",
      "/Users/mfisherlevine/anaconda/lib/python2.7/site-packages/numpy/lib/npyio.py:893: UserWarning: loadtxt: Empty input file: \"/Users/mfisherlevine/Downloads/160802_beads1/01/beads1_2016_08_02_10_36_34_337.txt\"\n",
      "  warnings.warn('loadtxt: Empty input file: \"%s\"' % fname)\n"
     ]
    },
    {
     "name": "stdout",
     "output_type": "stream",
     "text": [
      "Centroided 39000 of 100000 files\n"
     ]
    },
    {
     "name": "stderr",
     "output_type": "stream",
     "text": [
      "/Users/mfisherlevine/anaconda/lib/python2.7/site-packages/numpy/lib/npyio.py:893: UserWarning: loadtxt: Empty input file: \"/Users/mfisherlevine/Downloads/160802_beads1/01/beads1_2016_08_02_10_38_29_252.txt\"\n",
      "  warnings.warn('loadtxt: Empty input file: \"%s\"' % fname)\n",
      "/Users/mfisherlevine/anaconda/lib/python2.7/site-packages/numpy/lib/npyio.py:893: UserWarning: loadtxt: Empty input file: \"/Users/mfisherlevine/Downloads/160802_beads1/01/beads1_2016_08_02_10_38_44_965.txt\"\n",
      "  warnings.warn('loadtxt: Empty input file: \"%s\"' % fname)\n",
      "/Users/mfisherlevine/anaconda/lib/python2.7/site-packages/numpy/lib/npyio.py:893: UserWarning: loadtxt: Empty input file: \"/Users/mfisherlevine/Downloads/160802_beads1/01/beads1_2016_08_02_10_38_50_360.txt\"\n",
      "  warnings.warn('loadtxt: Empty input file: \"%s\"' % fname)\n"
     ]
    },
    {
     "name": "stdout",
     "output_type": "stream",
     "text": [
      "Centroided 40000 of 100000 files\n"
     ]
    },
    {
     "name": "stderr",
     "output_type": "stream",
     "text": [
      "/Users/mfisherlevine/anaconda/lib/python2.7/site-packages/numpy/lib/npyio.py:893: UserWarning: loadtxt: Empty input file: \"/Users/mfisherlevine/Downloads/160802_beads1/01/beads1_2016_08_02_10_40_04_161.txt\"\n",
      "  warnings.warn('loadtxt: Empty input file: \"%s\"' % fname)\n",
      "/Users/mfisherlevine/anaconda/lib/python2.7/site-packages/numpy/lib/npyio.py:893: UserWarning: loadtxt: Empty input file: \"/Users/mfisherlevine/Downloads/160802_beads1/01/beads1_2016_08_02_10_41_23_474.txt\"\n",
      "  warnings.warn('loadtxt: Empty input file: \"%s\"' % fname)\n"
     ]
    },
    {
     "name": "stdout",
     "output_type": "stream",
     "text": [
      "Centroided 41000 of 100000 files\n"
     ]
    },
    {
     "name": "stderr",
     "output_type": "stream",
     "text": [
      "/Users/mfisherlevine/anaconda/lib/python2.7/site-packages/numpy/lib/npyio.py:893: UserWarning: loadtxt: Empty input file: \"/Users/mfisherlevine/Downloads/160802_beads1/01/beads1_2016_08_02_10_42_01_066.txt\"\n",
      "  warnings.warn('loadtxt: Empty input file: \"%s\"' % fname)\n",
      "/Users/mfisherlevine/anaconda/lib/python2.7/site-packages/numpy/lib/npyio.py:893: UserWarning: loadtxt: Empty input file: \"/Users/mfisherlevine/Downloads/160802_beads1/01/beads1_2016_08_02_10_42_25_361.txt\"\n",
      "  warnings.warn('loadtxt: Empty input file: \"%s\"' % fname)\n"
     ]
    },
    {
     "name": "stdout",
     "output_type": "stream",
     "text": [
      "Centroided 42000 of 100000 files\n"
     ]
    },
    {
     "name": "stderr",
     "output_type": "stream",
     "text": [
      "/Users/mfisherlevine/anaconda/lib/python2.7/site-packages/numpy/lib/npyio.py:893: UserWarning: loadtxt: Empty input file: \"/Users/mfisherlevine/Downloads/160802_beads1/01/beads1_2016_08_02_10_43_21_893.txt\"\n",
      "  warnings.warn('loadtxt: Empty input file: \"%s\"' % fname)\n"
     ]
    },
    {
     "name": "stdout",
     "output_type": "stream",
     "text": [
      "Centroided 43000 of 100000 files\n"
     ]
    },
    {
     "name": "stderr",
     "output_type": "stream",
     "text": [
      "/Users/mfisherlevine/anaconda/lib/python2.7/site-packages/numpy/lib/npyio.py:893: UserWarning: loadtxt: Empty input file: \"/Users/mfisherlevine/Downloads/160802_beads1/01/beads1_2016_08_02_10_45_49_383.txt\"\n",
      "  warnings.warn('loadtxt: Empty input file: \"%s\"' % fname)\n",
      "/Users/mfisherlevine/anaconda/lib/python2.7/site-packages/numpy/lib/npyio.py:893: UserWarning: loadtxt: Empty input file: \"/Users/mfisherlevine/Downloads/160802_beads1/01/beads1_2016_08_02_10_46_17_911.txt\"\n",
      "  warnings.warn('loadtxt: Empty input file: \"%s\"' % fname)\n"
     ]
    },
    {
     "name": "stdout",
     "output_type": "stream",
     "text": [
      "Centroided 44000 of 100000 files\n"
     ]
    },
    {
     "name": "stderr",
     "output_type": "stream",
     "text": [
      "/Users/mfisherlevine/anaconda/lib/python2.7/site-packages/numpy/lib/npyio.py:893: UserWarning: loadtxt: Empty input file: \"/Users/mfisherlevine/Downloads/160802_beads1/01/beads1_2016_08_02_10_46_36_967.txt\"\n",
      "  warnings.warn('loadtxt: Empty input file: \"%s\"' % fname)\n",
      "/Users/mfisherlevine/anaconda/lib/python2.7/site-packages/numpy/lib/npyio.py:893: UserWarning: loadtxt: Empty input file: \"/Users/mfisherlevine/Downloads/160802_beads1/01/beads1_2016_08_02_10_47_16_748.txt\"\n",
      "  warnings.warn('loadtxt: Empty input file: \"%s\"' % fname)\n",
      "/Users/mfisherlevine/anaconda/lib/python2.7/site-packages/numpy/lib/npyio.py:893: UserWarning: loadtxt: Empty input file: \"/Users/mfisherlevine/Downloads/160802_beads1/01/beads1_2016_08_02_10_47_28_607.txt\"\n",
      "  warnings.warn('loadtxt: Empty input file: \"%s\"' % fname)\n",
      "/Users/mfisherlevine/anaconda/lib/python2.7/site-packages/numpy/lib/npyio.py:893: UserWarning: loadtxt: Empty input file: \"/Users/mfisherlevine/Downloads/160802_beads1/01/beads1_2016_08_02_10_47_48_333.txt\"\n",
      "  warnings.warn('loadtxt: Empty input file: \"%s\"' % fname)\n"
     ]
    },
    {
     "name": "stdout",
     "output_type": "stream",
     "text": [
      "Centroided 45000 of 100000 files\n"
     ]
    },
    {
     "name": "stderr",
     "output_type": "stream",
     "text": [
      "/Users/mfisherlevine/anaconda/lib/python2.7/site-packages/numpy/lib/npyio.py:893: UserWarning: loadtxt: Empty input file: \"/Users/mfisherlevine/Downloads/160802_beads1/01/beads1_2016_08_02_10_49_15_122.txt\"\n",
      "  warnings.warn('loadtxt: Empty input file: \"%s\"' % fname)\n"
     ]
    },
    {
     "name": "stdout",
     "output_type": "stream",
     "text": [
      "Skipped glitch\n",
      "Centroided 46000 of 100000 files\n"
     ]
    },
    {
     "name": "stderr",
     "output_type": "stream",
     "text": [
      "/Users/mfisherlevine/anaconda/lib/python2.7/site-packages/numpy/lib/npyio.py:893: UserWarning: loadtxt: Empty input file: \"/Users/mfisherlevine/Downloads/160802_beads1/01/beads1_2016_08_02_10_50_19_937.txt\"\n",
      "  warnings.warn('loadtxt: Empty input file: \"%s\"' % fname)\n",
      "/Users/mfisherlevine/anaconda/lib/python2.7/site-packages/numpy/lib/npyio.py:893: UserWarning: loadtxt: Empty input file: \"/Users/mfisherlevine/Downloads/160802_beads1/01/beads1_2016_08_02_10_50_24_859.txt\"\n",
      "  warnings.warn('loadtxt: Empty input file: \"%s\"' % fname)\n",
      "/Users/mfisherlevine/anaconda/lib/python2.7/site-packages/numpy/lib/npyio.py:893: UserWarning: loadtxt: Empty input file: \"/Users/mfisherlevine/Downloads/160802_beads1/01/beads1_2016_08_02_10_51_01_364.txt\"\n",
      "  warnings.warn('loadtxt: Empty input file: \"%s\"' % fname)\n",
      "/Users/mfisherlevine/anaconda/lib/python2.7/site-packages/numpy/lib/npyio.py:893: UserWarning: loadtxt: Empty input file: \"/Users/mfisherlevine/Downloads/160802_beads1/01/beads1_2016_08_02_10_51_15_755.txt\"\n",
      "  warnings.warn('loadtxt: Empty input file: \"%s\"' % fname)\n"
     ]
    },
    {
     "name": "stdout",
     "output_type": "stream",
     "text": [
      "Centroided 47000 of 100000 files\n",
      "Skipped glitch\n"
     ]
    },
    {
     "name": "stderr",
     "output_type": "stream",
     "text": [
      "/Users/mfisherlevine/anaconda/lib/python2.7/site-packages/numpy/lib/npyio.py:893: UserWarning: loadtxt: Empty input file: \"/Users/mfisherlevine/Downloads/160802_beads1/01/beads1_2016_08_02_10_51_53_358.txt\"\n",
      "  warnings.warn('loadtxt: Empty input file: \"%s\"' % fname)\n",
      "/Users/mfisherlevine/anaconda/lib/python2.7/site-packages/numpy/lib/npyio.py:893: UserWarning: loadtxt: Empty input file: \"/Users/mfisherlevine/Downloads/160802_beads1/01/beads1_2016_08_02_10_51_54_290.txt\"\n",
      "  warnings.warn('loadtxt: Empty input file: \"%s\"' % fname)\n"
     ]
    },
    {
     "name": "stdout",
     "output_type": "stream",
     "text": [
      "Centroided 48000 of 100000 files\n"
     ]
    },
    {
     "name": "stderr",
     "output_type": "stream",
     "text": [
      "/Users/mfisherlevine/anaconda/lib/python2.7/site-packages/numpy/lib/npyio.py:893: UserWarning: loadtxt: Empty input file: \"/Users/mfisherlevine/Downloads/160802_beads1/01/beads1_2016_08_02_10_54_04_648.txt\"\n",
      "  warnings.warn('loadtxt: Empty input file: \"%s\"' % fname)\n",
      "/Users/mfisherlevine/anaconda/lib/python2.7/site-packages/numpy/lib/npyio.py:893: UserWarning: loadtxt: Empty input file: \"/Users/mfisherlevine/Downloads/160802_beads1/01/beads1_2016_08_02_10_54_36_636.txt\"\n",
      "  warnings.warn('loadtxt: Empty input file: \"%s\"' % fname)\n"
     ]
    },
    {
     "name": "stdout",
     "output_type": "stream",
     "text": [
      "Centroided 49000 of 100000 files\n"
     ]
    },
    {
     "name": "stderr",
     "output_type": "stream",
     "text": [
      "/Users/mfisherlevine/anaconda/lib/python2.7/site-packages/numpy/lib/npyio.py:893: UserWarning: loadtxt: Empty input file: \"/Users/mfisherlevine/Downloads/160802_beads1/01/beads1_2016_08_02_10_54_54_097.txt\"\n",
      "  warnings.warn('loadtxt: Empty input file: \"%s\"' % fname)\n",
      "/Users/mfisherlevine/anaconda/lib/python2.7/site-packages/numpy/lib/npyio.py:893: UserWarning: loadtxt: Empty input file: \"/Users/mfisherlevine/Downloads/160802_beads1/01/beads1_2016_08_02_10_55_04_500.txt\"\n",
      "  warnings.warn('loadtxt: Empty input file: \"%s\"' % fname)\n",
      "/Users/mfisherlevine/anaconda/lib/python2.7/site-packages/numpy/lib/npyio.py:893: UserWarning: loadtxt: Empty input file: \"/Users/mfisherlevine/Downloads/160802_beads1/01/beads1_2016_08_02_10_55_24_058.txt\"\n",
      "  warnings.warn('loadtxt: Empty input file: \"%s\"' % fname)\n",
      "/Users/mfisherlevine/anaconda/lib/python2.7/site-packages/numpy/lib/npyio.py:893: UserWarning: loadtxt: Empty input file: \"/Users/mfisherlevine/Downloads/160802_beads1/01/beads1_2016_08_02_10_56_01_892.txt\"\n",
      "  warnings.warn('loadtxt: Empty input file: \"%s\"' % fname)\n"
     ]
    },
    {
     "name": "stdout",
     "output_type": "stream",
     "text": [
      "Centroided 50000 of 100000 files\n"
     ]
    },
    {
     "name": "stderr",
     "output_type": "stream",
     "text": [
      "/Users/mfisherlevine/anaconda/lib/python2.7/site-packages/numpy/lib/npyio.py:893: UserWarning: loadtxt: Empty input file: \"/Users/mfisherlevine/Downloads/160802_beads1/02/beads1_2016_08_02_11_25_09_693.txt\"\n",
      "  warnings.warn('loadtxt: Empty input file: \"%s\"' % fname)\n",
      "/Users/mfisherlevine/anaconda/lib/python2.7/site-packages/numpy/lib/npyio.py:893: UserWarning: loadtxt: Empty input file: \"/Users/mfisherlevine/Downloads/160802_beads1/02/beads1_2016_08_02_11_25_56_703.txt\"\n",
      "  warnings.warn('loadtxt: Empty input file: \"%s\"' % fname)\n",
      "/Users/mfisherlevine/anaconda/lib/python2.7/site-packages/numpy/lib/npyio.py:893: UserWarning: loadtxt: Empty input file: \"/Users/mfisherlevine/Downloads/160802_beads1/02/beads1_2016_08_02_11_26_12_555.txt\"\n",
      "  warnings.warn('loadtxt: Empty input file: \"%s\"' % fname)\n"
     ]
    },
    {
     "name": "stdout",
     "output_type": "stream",
     "text": [
      "Centroided 51000 of 100000 files\n"
     ]
    },
    {
     "name": "stderr",
     "output_type": "stream",
     "text": [
      "/Users/mfisherlevine/anaconda/lib/python2.7/site-packages/numpy/lib/npyio.py:893: UserWarning: loadtxt: Empty input file: \"/Users/mfisherlevine/Downloads/160802_beads1/02/beads1_2016_08_02_11_27_33_989.txt\"\n",
      "  warnings.warn('loadtxt: Empty input file: \"%s\"' % fname)\n"
     ]
    },
    {
     "name": "stdout",
     "output_type": "stream",
     "text": [
      "Centroided 52000 of 100000 files\n"
     ]
    },
    {
     "name": "stderr",
     "output_type": "stream",
     "text": [
      "/Users/mfisherlevine/anaconda/lib/python2.7/site-packages/numpy/lib/npyio.py:893: UserWarning: loadtxt: Empty input file: \"/Users/mfisherlevine/Downloads/160802_beads1/02/beads1_2016_08_02_11_29_14_831.txt\"\n",
      "  warnings.warn('loadtxt: Empty input file: \"%s\"' % fname)\n",
      "/Users/mfisherlevine/anaconda/lib/python2.7/site-packages/numpy/lib/npyio.py:893: UserWarning: loadtxt: Empty input file: \"/Users/mfisherlevine/Downloads/160802_beads1/02/beads1_2016_08_02_11_29_31_503.txt\"\n",
      "  warnings.warn('loadtxt: Empty input file: \"%s\"' % fname)\n"
     ]
    },
    {
     "name": "stdout",
     "output_type": "stream",
     "text": [
      "Centroided 53000 of 100000 files\n"
     ]
    },
    {
     "name": "stderr",
     "output_type": "stream",
     "text": [
      "/Users/mfisherlevine/anaconda/lib/python2.7/site-packages/numpy/lib/npyio.py:893: UserWarning: loadtxt: Empty input file: \"/Users/mfisherlevine/Downloads/160802_beads1/02/beads1_2016_08_02_11_30_03_853.txt\"\n",
      "  warnings.warn('loadtxt: Empty input file: \"%s\"' % fname)\n",
      "/Users/mfisherlevine/anaconda/lib/python2.7/site-packages/numpy/lib/npyio.py:893: UserWarning: loadtxt: Empty input file: \"/Users/mfisherlevine/Downloads/160802_beads1/02/beads1_2016_08_02_11_30_06_188.txt\"\n",
      "  warnings.warn('loadtxt: Empty input file: \"%s\"' % fname)\n",
      "/Users/mfisherlevine/anaconda/lib/python2.7/site-packages/numpy/lib/npyio.py:893: UserWarning: loadtxt: Empty input file: \"/Users/mfisherlevine/Downloads/160802_beads1/02/beads1_2016_08_02_11_30_18_531.txt\"\n",
      "  warnings.warn('loadtxt: Empty input file: \"%s\"' % fname)\n",
      "/Users/mfisherlevine/anaconda/lib/python2.7/site-packages/numpy/lib/npyio.py:893: UserWarning: loadtxt: Empty input file: \"/Users/mfisherlevine/Downloads/160802_beads1/02/beads1_2016_08_02_11_31_08_376.txt\"\n",
      "  warnings.warn('loadtxt: Empty input file: \"%s\"' % fname)\n"
     ]
    },
    {
     "name": "stdout",
     "output_type": "stream",
     "text": [
      "Centroided 54000 of 100000 files\n"
     ]
    },
    {
     "name": "stderr",
     "output_type": "stream",
     "text": [
      "/Users/mfisherlevine/anaconda/lib/python2.7/site-packages/numpy/lib/npyio.py:893: UserWarning: loadtxt: Empty input file: \"/Users/mfisherlevine/Downloads/160802_beads1/02/beads1_2016_08_02_11_31_34_400.txt\"\n",
      "  warnings.warn('loadtxt: Empty input file: \"%s\"' % fname)\n",
      "/Users/mfisherlevine/anaconda/lib/python2.7/site-packages/numpy/lib/npyio.py:893: UserWarning: loadtxt: Empty input file: \"/Users/mfisherlevine/Downloads/160802_beads1/02/beads1_2016_08_02_11_31_49_571.txt\"\n",
      "  warnings.warn('loadtxt: Empty input file: \"%s\"' % fname)\n",
      "/Users/mfisherlevine/anaconda/lib/python2.7/site-packages/numpy/lib/npyio.py:893: UserWarning: loadtxt: Empty input file: \"/Users/mfisherlevine/Downloads/160802_beads1/02/beads1_2016_08_02_11_32_34_214.txt\"\n",
      "  warnings.warn('loadtxt: Empty input file: \"%s\"' % fname)\n"
     ]
    },
    {
     "name": "stdout",
     "output_type": "stream",
     "text": [
      "Centroided 55000 of 100000 files\n"
     ]
    },
    {
     "name": "stderr",
     "output_type": "stream",
     "text": [
      "/Users/mfisherlevine/anaconda/lib/python2.7/site-packages/numpy/lib/npyio.py:893: UserWarning: loadtxt: Empty input file: \"/Users/mfisherlevine/Downloads/160802_beads1/02/beads1_2016_08_02_11_34_18_153.txt\"\n",
      "  warnings.warn('loadtxt: Empty input file: \"%s\"' % fname)\n"
     ]
    },
    {
     "name": "stdout",
     "output_type": "stream",
     "text": [
      "Centroided 56000 of 100000 files\n"
     ]
    },
    {
     "name": "stderr",
     "output_type": "stream",
     "text": [
      "/Users/mfisherlevine/anaconda/lib/python2.7/site-packages/numpy/lib/npyio.py:893: UserWarning: loadtxt: Empty input file: \"/Users/mfisherlevine/Downloads/160802_beads1/02/beads1_2016_08_02_11_35_10_242.txt\"\n",
      "  warnings.warn('loadtxt: Empty input file: \"%s\"' % fname)\n",
      "/Users/mfisherlevine/anaconda/lib/python2.7/site-packages/numpy/lib/npyio.py:893: UserWarning: loadtxt: Empty input file: \"/Users/mfisherlevine/Downloads/160802_beads1/02/beads1_2016_08_02_11_35_48_327.txt\"\n",
      "  warnings.warn('loadtxt: Empty input file: \"%s\"' % fname)\n"
     ]
    },
    {
     "name": "stdout",
     "output_type": "stream",
     "text": [
      "Centroided 57000 of 100000 files\n"
     ]
    },
    {
     "name": "stderr",
     "output_type": "stream",
     "text": [
      "/Users/mfisherlevine/anaconda/lib/python2.7/site-packages/numpy/lib/npyio.py:893: UserWarning: loadtxt: Empty input file: \"/Users/mfisherlevine/Downloads/160802_beads1/02/beads1_2016_08_02_11_37_22_849.txt\"\n",
      "  warnings.warn('loadtxt: Empty input file: \"%s\"' % fname)\n",
      "/Users/mfisherlevine/anaconda/lib/python2.7/site-packages/numpy/lib/npyio.py:893: UserWarning: loadtxt: Empty input file: \"/Users/mfisherlevine/Downloads/160802_beads1/02/beads1_2016_08_02_11_38_05_373.txt\"\n",
      "  warnings.warn('loadtxt: Empty input file: \"%s\"' % fname)\n"
     ]
    },
    {
     "name": "stdout",
     "output_type": "stream",
     "text": [
      "Centroided 58000 of 100000 files\n"
     ]
    },
    {
     "name": "stderr",
     "output_type": "stream",
     "text": [
      "/Users/mfisherlevine/anaconda/lib/python2.7/site-packages/numpy/lib/npyio.py:893: UserWarning: loadtxt: Empty input file: \"/Users/mfisherlevine/Downloads/160802_beads1/02/beads1_2016_08_02_11_38_29_152.txt\"\n",
      "  warnings.warn('loadtxt: Empty input file: \"%s\"' % fname)\n",
      "/Users/mfisherlevine/anaconda/lib/python2.7/site-packages/numpy/lib/npyio.py:893: UserWarning: loadtxt: Empty input file: \"/Users/mfisherlevine/Downloads/160802_beads1/02/beads1_2016_08_02_11_38_35_983.txt\"\n",
      "  warnings.warn('loadtxt: Empty input file: \"%s\"' % fname)\n",
      "/Users/mfisherlevine/anaconda/lib/python2.7/site-packages/numpy/lib/npyio.py:893: UserWarning: loadtxt: Empty input file: \"/Users/mfisherlevine/Downloads/160802_beads1/02/beads1_2016_08_02_11_38_38_811.txt\"\n",
      "  warnings.warn('loadtxt: Empty input file: \"%s\"' % fname)\n",
      "/Users/mfisherlevine/anaconda/lib/python2.7/site-packages/numpy/lib/npyio.py:893: UserWarning: loadtxt: Empty input file: \"/Users/mfisherlevine/Downloads/160802_beads1/02/beads1_2016_08_02_11_38_39_287.txt\"\n",
      "  warnings.warn('loadtxt: Empty input file: \"%s\"' % fname)\n",
      "/Users/mfisherlevine/anaconda/lib/python2.7/site-packages/numpy/lib/npyio.py:893: UserWarning: loadtxt: Empty input file: \"/Users/mfisherlevine/Downloads/160802_beads1/02/beads1_2016_08_02_11_39_02_760.txt\"\n",
      "  warnings.warn('loadtxt: Empty input file: \"%s\"' % fname)\n",
      "/Users/mfisherlevine/anaconda/lib/python2.7/site-packages/numpy/lib/npyio.py:893: UserWarning: loadtxt: Empty input file: \"/Users/mfisherlevine/Downloads/160802_beads1/02/beads1_2016_08_02_11_39_07_692.txt\"\n",
      "  warnings.warn('loadtxt: Empty input file: \"%s\"' % fname)\n",
      "/Users/mfisherlevine/anaconda/lib/python2.7/site-packages/numpy/lib/npyio.py:893: UserWarning: loadtxt: Empty input file: \"/Users/mfisherlevine/Downloads/160802_beads1/02/beads1_2016_08_02_11_39_39_974.txt\"\n",
      "  warnings.warn('loadtxt: Empty input file: \"%s\"' % fname)\n"
     ]
    },
    {
     "name": "stdout",
     "output_type": "stream",
     "text": [
      "Centroided 59000 of 100000 files\n"
     ]
    },
    {
     "name": "stderr",
     "output_type": "stream",
     "text": [
      "/Users/mfisherlevine/anaconda/lib/python2.7/site-packages/numpy/lib/npyio.py:893: UserWarning: loadtxt: Empty input file: \"/Users/mfisherlevine/Downloads/160802_beads1/02/beads1_2016_08_02_11_40_37_019.txt\"\n",
      "  warnings.warn('loadtxt: Empty input file: \"%s\"' % fname)\n",
      "/Users/mfisherlevine/anaconda/lib/python2.7/site-packages/numpy/lib/npyio.py:893: UserWarning: loadtxt: Empty input file: \"/Users/mfisherlevine/Downloads/160802_beads1/02/beads1_2016_08_02_11_40_47_504.txt\"\n",
      "  warnings.warn('loadtxt: Empty input file: \"%s\"' % fname)\n",
      "/Users/mfisherlevine/anaconda/lib/python2.7/site-packages/numpy/lib/npyio.py:893: UserWarning: loadtxt: Empty input file: \"/Users/mfisherlevine/Downloads/160802_beads1/02/beads1_2016_08_02_11_41_33_982.txt\"\n",
      "  warnings.warn('loadtxt: Empty input file: \"%s\"' % fname)\n"
     ]
    },
    {
     "name": "stdout",
     "output_type": "stream",
     "text": [
      "Centroided 60000 of 100000 files\n"
     ]
    },
    {
     "name": "stderr",
     "output_type": "stream",
     "text": [
      "/Users/mfisherlevine/anaconda/lib/python2.7/site-packages/numpy/lib/npyio.py:893: UserWarning: loadtxt: Empty input file: \"/Users/mfisherlevine/Downloads/160802_beads1/02/beads1_2016_08_02_11_42_33_663.txt\"\n",
      "  warnings.warn('loadtxt: Empty input file: \"%s\"' % fname)\n",
      "/Users/mfisherlevine/anaconda/lib/python2.7/site-packages/numpy/lib/npyio.py:893: UserWarning: loadtxt: Empty input file: \"/Users/mfisherlevine/Downloads/160802_beads1/02/beads1_2016_08_02_11_43_26_408.txt\"\n",
      "  warnings.warn('loadtxt: Empty input file: \"%s\"' % fname)\n",
      "/Users/mfisherlevine/anaconda/lib/python2.7/site-packages/numpy/lib/npyio.py:893: UserWarning: loadtxt: Empty input file: \"/Users/mfisherlevine/Downloads/160802_beads1/02/beads1_2016_08_02_11_43_28_055.txt\"\n",
      "  warnings.warn('loadtxt: Empty input file: \"%s\"' % fname)\n",
      "/Users/mfisherlevine/anaconda/lib/python2.7/site-packages/numpy/lib/npyio.py:893: UserWarning: loadtxt: Empty input file: \"/Users/mfisherlevine/Downloads/160802_beads1/02/beads1_2016_08_02_11_43_38_710.txt\"\n",
      "  warnings.warn('loadtxt: Empty input file: \"%s\"' % fname)\n"
     ]
    },
    {
     "name": "stdout",
     "output_type": "stream",
     "text": [
      "Centroided 61000 of 100000 files\n"
     ]
    },
    {
     "name": "stderr",
     "output_type": "stream",
     "text": [
      "/Users/mfisherlevine/anaconda/lib/python2.7/site-packages/numpy/lib/npyio.py:893: UserWarning: loadtxt: Empty input file: \"/Users/mfisherlevine/Downloads/160802_beads1/02/beads1_2016_08_02_11_44_37_763.txt\"\n",
      "  warnings.warn('loadtxt: Empty input file: \"%s\"' % fname)\n",
      "/Users/mfisherlevine/anaconda/lib/python2.7/site-packages/numpy/lib/npyio.py:893: UserWarning: loadtxt: Empty input file: \"/Users/mfisherlevine/Downloads/160802_beads1/02/beads1_2016_08_02_11_45_07_063.txt\"\n",
      "  warnings.warn('loadtxt: Empty input file: \"%s\"' % fname)\n"
     ]
    },
    {
     "name": "stdout",
     "output_type": "stream",
     "text": [
      "Centroided 62000 of 100000 files\n"
     ]
    },
    {
     "name": "stderr",
     "output_type": "stream",
     "text": [
      "/Users/mfisherlevine/anaconda/lib/python2.7/site-packages/numpy/lib/npyio.py:893: UserWarning: loadtxt: Empty input file: \"/Users/mfisherlevine/Downloads/160802_beads1/02/beads1_2016_08_02_11_45_54_791.txt\"\n",
      "  warnings.warn('loadtxt: Empty input file: \"%s\"' % fname)\n",
      "/Users/mfisherlevine/anaconda/lib/python2.7/site-packages/numpy/lib/npyio.py:893: UserWarning: loadtxt: Empty input file: \"/Users/mfisherlevine/Downloads/160802_beads1/02/beads1_2016_08_02_11_46_05_244.txt\"\n",
      "  warnings.warn('loadtxt: Empty input file: \"%s\"' % fname)\n",
      "/Users/mfisherlevine/anaconda/lib/python2.7/site-packages/numpy/lib/npyio.py:893: UserWarning: loadtxt: Empty input file: \"/Users/mfisherlevine/Downloads/160802_beads1/02/beads1_2016_08_02_11_46_59_411.txt\"\n",
      "  warnings.warn('loadtxt: Empty input file: \"%s\"' % fname)\n"
     ]
    },
    {
     "name": "stdout",
     "output_type": "stream",
     "text": [
      "Centroided 63000 of 100000 files\n"
     ]
    },
    {
     "name": "stderr",
     "output_type": "stream",
     "text": [
      "/Users/mfisherlevine/anaconda/lib/python2.7/site-packages/numpy/lib/npyio.py:893: UserWarning: loadtxt: Empty input file: \"/Users/mfisherlevine/Downloads/160802_beads1/02/beads1_2016_08_02_11_47_31_907.txt\"\n",
      "  warnings.warn('loadtxt: Empty input file: \"%s\"' % fname)\n",
      "/Users/mfisherlevine/anaconda/lib/python2.7/site-packages/numpy/lib/npyio.py:893: UserWarning: loadtxt: Empty input file: \"/Users/mfisherlevine/Downloads/160802_beads1/02/beads1_2016_08_02_11_47_32_177.txt\"\n",
      "  warnings.warn('loadtxt: Empty input file: \"%s\"' % fname)\n",
      "/Users/mfisherlevine/anaconda/lib/python2.7/site-packages/numpy/lib/npyio.py:893: UserWarning: loadtxt: Empty input file: \"/Users/mfisherlevine/Downloads/160802_beads1/02/beads1_2016_08_02_11_48_01_524.txt\"\n",
      "  warnings.warn('loadtxt: Empty input file: \"%s\"' % fname)\n"
     ]
    },
    {
     "name": "stdout",
     "output_type": "stream",
     "text": [
      "Centroided 64000 of 100000 files\n"
     ]
    },
    {
     "name": "stderr",
     "output_type": "stream",
     "text": [
      "/Users/mfisherlevine/anaconda/lib/python2.7/site-packages/numpy/lib/npyio.py:893: UserWarning: loadtxt: Empty input file: \"/Users/mfisherlevine/Downloads/160802_beads1/02/beads1_2016_08_02_11_50_35_301.txt\"\n",
      "  warnings.warn('loadtxt: Empty input file: \"%s\"' % fname)\n"
     ]
    },
    {
     "name": "stdout",
     "output_type": "stream",
     "text": [
      "Centroided 65000 of 100000 files\n"
     ]
    },
    {
     "name": "stderr",
     "output_type": "stream",
     "text": [
      "/Users/mfisherlevine/anaconda/lib/python2.7/site-packages/numpy/lib/npyio.py:893: UserWarning: loadtxt: Empty input file: \"/Users/mfisherlevine/Downloads/160802_beads1/02/beads1_2016_08_02_11_50_56_063.txt\"\n",
      "  warnings.warn('loadtxt: Empty input file: \"%s\"' % fname)\n",
      "/Users/mfisherlevine/anaconda/lib/python2.7/site-packages/numpy/lib/npyio.py:893: UserWarning: loadtxt: Empty input file: \"/Users/mfisherlevine/Downloads/160802_beads1/02/beads1_2016_08_02_11_50_59_400.txt\"\n",
      "  warnings.warn('loadtxt: Empty input file: \"%s\"' % fname)\n",
      "/Users/mfisherlevine/anaconda/lib/python2.7/site-packages/numpy/lib/npyio.py:893: UserWarning: loadtxt: Empty input file: \"/Users/mfisherlevine/Downloads/160802_beads1/02/beads1_2016_08_02_11_51_03_151.txt\"\n",
      "  warnings.warn('loadtxt: Empty input file: \"%s\"' % fname)\n",
      "/Users/mfisherlevine/anaconda/lib/python2.7/site-packages/numpy/lib/npyio.py:893: UserWarning: loadtxt: Empty input file: \"/Users/mfisherlevine/Downloads/160802_beads1/02/beads1_2016_08_02_11_51_40_265.txt\"\n",
      "  warnings.warn('loadtxt: Empty input file: \"%s\"' % fname)\n"
     ]
    },
    {
     "name": "stdout",
     "output_type": "stream",
     "text": [
      "Centroided 66000 of 100000 files\n"
     ]
    },
    {
     "name": "stderr",
     "output_type": "stream",
     "text": [
      "/Users/mfisherlevine/anaconda/lib/python2.7/site-packages/numpy/lib/npyio.py:893: UserWarning: loadtxt: Empty input file: \"/Users/mfisherlevine/Downloads/160802_beads1/02/beads1_2016_08_02_11_52_43_407.txt\"\n",
      "  warnings.warn('loadtxt: Empty input file: \"%s\"' % fname)\n",
      "/Users/mfisherlevine/anaconda/lib/python2.7/site-packages/numpy/lib/npyio.py:893: UserWarning: loadtxt: Empty input file: \"/Users/mfisherlevine/Downloads/160802_beads1/02/beads1_2016_08_02_11_53_04_085.txt\"\n",
      "  warnings.warn('loadtxt: Empty input file: \"%s\"' % fname)\n",
      "/Users/mfisherlevine/anaconda/lib/python2.7/site-packages/numpy/lib/npyio.py:893: UserWarning: loadtxt: Empty input file: \"/Users/mfisherlevine/Downloads/160802_beads1/02/beads1_2016_08_02_11_53_12_903.txt\"\n",
      "  warnings.warn('loadtxt: Empty input file: \"%s\"' % fname)\n",
      "/Users/mfisherlevine/anaconda/lib/python2.7/site-packages/numpy/lib/npyio.py:893: UserWarning: loadtxt: Empty input file: \"/Users/mfisherlevine/Downloads/160802_beads1/02/beads1_2016_08_02_11_53_55_013.txt\"\n",
      "  warnings.warn('loadtxt: Empty input file: \"%s\"' % fname)\n",
      "/Users/mfisherlevine/anaconda/lib/python2.7/site-packages/numpy/lib/npyio.py:893: UserWarning: loadtxt: Empty input file: \"/Users/mfisherlevine/Downloads/160802_beads1/02/beads1_2016_08_02_11_54_03_513.txt\"\n",
      "  warnings.warn('loadtxt: Empty input file: \"%s\"' % fname)\n"
     ]
    },
    {
     "name": "stdout",
     "output_type": "stream",
     "text": [
      "Centroided 67000 of 100000 files\n"
     ]
    },
    {
     "name": "stderr",
     "output_type": "stream",
     "text": [
      "/Users/mfisherlevine/anaconda/lib/python2.7/site-packages/numpy/lib/npyio.py:893: UserWarning: loadtxt: Empty input file: \"/Users/mfisherlevine/Downloads/160802_beads1/02/beads1_2016_08_02_11_54_32_174.txt\"\n",
      "  warnings.warn('loadtxt: Empty input file: \"%s\"' % fname)\n",
      "/Users/mfisherlevine/anaconda/lib/python2.7/site-packages/numpy/lib/npyio.py:893: UserWarning: loadtxt: Empty input file: \"/Users/mfisherlevine/Downloads/160802_beads1/02/beads1_2016_08_02_11_54_32_365.txt\"\n",
      "  warnings.warn('loadtxt: Empty input file: \"%s\"' % fname)\n",
      "/Users/mfisherlevine/anaconda/lib/python2.7/site-packages/numpy/lib/npyio.py:893: UserWarning: loadtxt: Empty input file: \"/Users/mfisherlevine/Downloads/160802_beads1/02/beads1_2016_08_02_11_55_43_950.txt\"\n",
      "  warnings.warn('loadtxt: Empty input file: \"%s\"' % fname)\n"
     ]
    },
    {
     "name": "stdout",
     "output_type": "stream",
     "text": [
      "Centroided 68000 of 100000 files\n"
     ]
    },
    {
     "name": "stderr",
     "output_type": "stream",
     "text": [
      "/Users/mfisherlevine/anaconda/lib/python2.7/site-packages/numpy/lib/npyio.py:893: UserWarning: loadtxt: Empty input file: \"/Users/mfisherlevine/Downloads/160802_beads1/02/beads1_2016_08_02_11_57_08_053.txt\"\n",
      "  warnings.warn('loadtxt: Empty input file: \"%s\"' % fname)\n"
     ]
    },
    {
     "name": "stdout",
     "output_type": "stream",
     "text": [
      "Centroided 69000 of 100000 files\n"
     ]
    },
    {
     "name": "stderr",
     "output_type": "stream",
     "text": [
      "/Users/mfisherlevine/anaconda/lib/python2.7/site-packages/numpy/lib/npyio.py:893: UserWarning: loadtxt: Empty input file: \"/Users/mfisherlevine/Downloads/160802_beads1/02/beads1_2016_08_02_11_57_38_451.txt\"\n",
      "  warnings.warn('loadtxt: Empty input file: \"%s\"' % fname)\n",
      "/Users/mfisherlevine/anaconda/lib/python2.7/site-packages/numpy/lib/npyio.py:893: UserWarning: loadtxt: Empty input file: \"/Users/mfisherlevine/Downloads/160802_beads1/02/beads1_2016_08_02_11_58_03_895.txt\"\n",
      "  warnings.warn('loadtxt: Empty input file: \"%s\"' % fname)\n",
      "/Users/mfisherlevine/anaconda/lib/python2.7/site-packages/numpy/lib/npyio.py:893: UserWarning: loadtxt: Empty input file: \"/Users/mfisherlevine/Downloads/160802_beads1/02/beads1_2016_08_02_11_58_55_661.txt\"\n",
      "  warnings.warn('loadtxt: Empty input file: \"%s\"' % fname)\n"
     ]
    },
    {
     "name": "stdout",
     "output_type": "stream",
     "text": [
      "Centroided 70000 of 100000 files\n"
     ]
    },
    {
     "name": "stderr",
     "output_type": "stream",
     "text": [
      "/Users/mfisherlevine/anaconda/lib/python2.7/site-packages/numpy/lib/npyio.py:893: UserWarning: loadtxt: Empty input file: \"/Users/mfisherlevine/Downloads/160802_beads1/02/beads1_2016_08_02_12_00_02_734.txt\"\n",
      "  warnings.warn('loadtxt: Empty input file: \"%s\"' % fname)\n",
      "/Users/mfisherlevine/anaconda/lib/python2.7/site-packages/numpy/lib/npyio.py:893: UserWarning: loadtxt: Empty input file: \"/Users/mfisherlevine/Downloads/160802_beads1/02/beads1_2016_08_02_12_00_11_507.txt\"\n",
      "  warnings.warn('loadtxt: Empty input file: \"%s\"' % fname)\n",
      "/Users/mfisherlevine/anaconda/lib/python2.7/site-packages/numpy/lib/npyio.py:893: UserWarning: loadtxt: Empty input file: \"/Users/mfisherlevine/Downloads/160802_beads1/02/beads1_2016_08_02_12_00_49_303.txt\"\n",
      "  warnings.warn('loadtxt: Empty input file: \"%s\"' % fname)\n"
     ]
    },
    {
     "name": "stdout",
     "output_type": "stream",
     "text": [
      "Centroided 71000 of 100000 files\n"
     ]
    },
    {
     "name": "stderr",
     "output_type": "stream",
     "text": [
      "/Users/mfisherlevine/anaconda/lib/python2.7/site-packages/numpy/lib/npyio.py:893: UserWarning: loadtxt: Empty input file: \"/Users/mfisherlevine/Downloads/160802_beads1/02/beads1_2016_08_02_12_01_51_769.txt\"\n",
      "  warnings.warn('loadtxt: Empty input file: \"%s\"' % fname)\n",
      "/Users/mfisherlevine/anaconda/lib/python2.7/site-packages/numpy/lib/npyio.py:893: UserWarning: loadtxt: Empty input file: \"/Users/mfisherlevine/Downloads/160802_beads1/02/beads1_2016_08_02_12_01_52_371.txt\"\n",
      "  warnings.warn('loadtxt: Empty input file: \"%s\"' % fname)\n",
      "/Users/mfisherlevine/anaconda/lib/python2.7/site-packages/numpy/lib/npyio.py:893: UserWarning: loadtxt: Empty input file: \"/Users/mfisherlevine/Downloads/160802_beads1/02/beads1_2016_08_02_12_01_58_929.txt\"\n",
      "  warnings.warn('loadtxt: Empty input file: \"%s\"' % fname)\n",
      "/Users/mfisherlevine/anaconda/lib/python2.7/site-packages/numpy/lib/npyio.py:893: UserWarning: loadtxt: Empty input file: \"/Users/mfisherlevine/Downloads/160802_beads1/02/beads1_2016_08_02_12_02_03_269.txt\"\n",
      "  warnings.warn('loadtxt: Empty input file: \"%s\"' % fname)\n",
      "/Users/mfisherlevine/anaconda/lib/python2.7/site-packages/numpy/lib/npyio.py:893: UserWarning: loadtxt: Empty input file: \"/Users/mfisherlevine/Downloads/160802_beads1/02/beads1_2016_08_02_12_02_34_399.txt\"\n",
      "  warnings.warn('loadtxt: Empty input file: \"%s\"' % fname)\n"
     ]
    },
    {
     "name": "stdout",
     "output_type": "stream",
     "text": [
      "Centroided 72000 of 100000 files\n"
     ]
    },
    {
     "name": "stderr",
     "output_type": "stream",
     "text": [
      "/Users/mfisherlevine/anaconda/lib/python2.7/site-packages/numpy/lib/npyio.py:893: UserWarning: loadtxt: Empty input file: \"/Users/mfisherlevine/Downloads/160802_beads1/02/beads1_2016_08_02_12_03_41_371.txt\"\n",
      "  warnings.warn('loadtxt: Empty input file: \"%s\"' % fname)\n",
      "/Users/mfisherlevine/anaconda/lib/python2.7/site-packages/numpy/lib/npyio.py:893: UserWarning: loadtxt: Empty input file: \"/Users/mfisherlevine/Downloads/160802_beads1/02/beads1_2016_08_02_12_04_27_909.txt\"\n",
      "  warnings.warn('loadtxt: Empty input file: \"%s\"' % fname)\n"
     ]
    },
    {
     "name": "stdout",
     "output_type": "stream",
     "text": [
      "Centroided 73000 of 100000 files\n"
     ]
    },
    {
     "name": "stderr",
     "output_type": "stream",
     "text": [
      "/Users/mfisherlevine/anaconda/lib/python2.7/site-packages/numpy/lib/npyio.py:893: UserWarning: loadtxt: Empty input file: \"/Users/mfisherlevine/Downloads/160802_beads1/02/beads1_2016_08_02_12_05_05_470.txt\"\n",
      "  warnings.warn('loadtxt: Empty input file: \"%s\"' % fname)\n",
      "/Users/mfisherlevine/anaconda/lib/python2.7/site-packages/numpy/lib/npyio.py:893: UserWarning: loadtxt: Empty input file: \"/Users/mfisherlevine/Downloads/160802_beads1/02/beads1_2016_08_02_12_06_06_309.txt\"\n",
      "  warnings.warn('loadtxt: Empty input file: \"%s\"' % fname)\n"
     ]
    },
    {
     "name": "stdout",
     "output_type": "stream",
     "text": [
      "Centroided 74000 of 100000 files\n"
     ]
    },
    {
     "name": "stderr",
     "output_type": "stream",
     "text": [
      "/Users/mfisherlevine/anaconda/lib/python2.7/site-packages/numpy/lib/npyio.py:893: UserWarning: loadtxt: Empty input file: \"/Users/mfisherlevine/Downloads/160802_beads1/02/beads1_2016_08_02_12_06_19_260.txt\"\n",
      "  warnings.warn('loadtxt: Empty input file: \"%s\"' % fname)\n",
      "/Users/mfisherlevine/anaconda/lib/python2.7/site-packages/numpy/lib/npyio.py:893: UserWarning: loadtxt: Empty input file: \"/Users/mfisherlevine/Downloads/160802_beads1/02/beads1_2016_08_02_12_06_35_596.txt\"\n",
      "  warnings.warn('loadtxt: Empty input file: \"%s\"' % fname)\n",
      "/Users/mfisherlevine/anaconda/lib/python2.7/site-packages/numpy/lib/npyio.py:893: UserWarning: loadtxt: Empty input file: \"/Users/mfisherlevine/Downloads/160802_beads1/02/beads1_2016_08_02_12_06_49_301.txt\"\n",
      "  warnings.warn('loadtxt: Empty input file: \"%s\"' % fname)\n"
     ]
    },
    {
     "name": "stdout",
     "output_type": "stream",
     "text": [
      "Centroided 75000 of 100000 files\n"
     ]
    },
    {
     "name": "stderr",
     "output_type": "stream",
     "text": [
      "/Users/mfisherlevine/anaconda/lib/python2.7/site-packages/numpy/lib/npyio.py:893: UserWarning: loadtxt: Empty input file: \"/Users/mfisherlevine/Downloads/160802_beads1/02/beads1_2016_08_02_12_08_57_142.txt\"\n",
      "  warnings.warn('loadtxt: Empty input file: \"%s\"' % fname)\n"
     ]
    },
    {
     "name": "stdout",
     "output_type": "stream",
     "text": [
      "Centroided 76000 of 100000 files\n"
     ]
    },
    {
     "name": "stderr",
     "output_type": "stream",
     "text": [
      "/Users/mfisherlevine/anaconda/lib/python2.7/site-packages/numpy/lib/npyio.py:893: UserWarning: loadtxt: Empty input file: \"/Users/mfisherlevine/Downloads/160802_beads1/02/beads1_2016_08_02_12_10_32_501.txt\"\n",
      "  warnings.warn('loadtxt: Empty input file: \"%s\"' % fname)\n",
      "/Users/mfisherlevine/anaconda/lib/python2.7/site-packages/numpy/lib/npyio.py:893: UserWarning: loadtxt: Empty input file: \"/Users/mfisherlevine/Downloads/160802_beads1/02/beads1_2016_08_02_12_10_50_277.txt\"\n",
      "  warnings.warn('loadtxt: Empty input file: \"%s\"' % fname)\n"
     ]
    },
    {
     "name": "stdout",
     "output_type": "stream",
     "text": [
      "Centroided 77000 of 100000 files\n"
     ]
    },
    {
     "name": "stderr",
     "output_type": "stream",
     "text": [
      "/Users/mfisherlevine/anaconda/lib/python2.7/site-packages/numpy/lib/npyio.py:893: UserWarning: loadtxt: Empty input file: \"/Users/mfisherlevine/Downloads/160802_beads1/02/beads1_2016_08_02_12_12_31_714.txt\"\n",
      "  warnings.warn('loadtxt: Empty input file: \"%s\"' % fname)\n"
     ]
    },
    {
     "name": "stdout",
     "output_type": "stream",
     "text": [
      "Centroided 78000 of 100000 files\n"
     ]
    },
    {
     "name": "stderr",
     "output_type": "stream",
     "text": [
      "/Users/mfisherlevine/anaconda/lib/python2.7/site-packages/numpy/lib/npyio.py:893: UserWarning: loadtxt: Empty input file: \"/Users/mfisherlevine/Downloads/160802_beads1/02/beads1_2016_08_02_12_13_26_496.txt\"\n",
      "  warnings.warn('loadtxt: Empty input file: \"%s\"' % fname)\n",
      "/Users/mfisherlevine/anaconda/lib/python2.7/site-packages/numpy/lib/npyio.py:893: UserWarning: loadtxt: Empty input file: \"/Users/mfisherlevine/Downloads/160802_beads1/02/beads1_2016_08_02_12_13_48_945.txt\"\n",
      "  warnings.warn('loadtxt: Empty input file: \"%s\"' % fname)\n",
      "/Users/mfisherlevine/anaconda/lib/python2.7/site-packages/numpy/lib/npyio.py:893: UserWarning: loadtxt: Empty input file: \"/Users/mfisherlevine/Downloads/160802_beads1/02/beads1_2016_08_02_12_14_44_987.txt\"\n",
      "  warnings.warn('loadtxt: Empty input file: \"%s\"' % fname)\n"
     ]
    },
    {
     "name": "stdout",
     "output_type": "stream",
     "text": [
      "Centroided 79000 of 100000 files\n"
     ]
    },
    {
     "name": "stderr",
     "output_type": "stream",
     "text": [
      "/Users/mfisherlevine/anaconda/lib/python2.7/site-packages/numpy/lib/npyio.py:893: UserWarning: loadtxt: Empty input file: \"/Users/mfisherlevine/Downloads/160802_beads1/02/beads1_2016_08_02_12_15_09_879.txt\"\n",
      "  warnings.warn('loadtxt: Empty input file: \"%s\"' % fname)\n",
      "/Users/mfisherlevine/anaconda/lib/python2.7/site-packages/numpy/lib/npyio.py:893: UserWarning: loadtxt: Empty input file: \"/Users/mfisherlevine/Downloads/160802_beads1/02/beads1_2016_08_02_12_15_23_308.txt\"\n",
      "  warnings.warn('loadtxt: Empty input file: \"%s\"' % fname)\n",
      "/Users/mfisherlevine/anaconda/lib/python2.7/site-packages/numpy/lib/npyio.py:893: UserWarning: loadtxt: Empty input file: \"/Users/mfisherlevine/Downloads/160802_beads1/02/beads1_2016_08_02_12_15_44_971.txt\"\n",
      "  warnings.warn('loadtxt: Empty input file: \"%s\"' % fname)\n",
      "/Users/mfisherlevine/anaconda/lib/python2.7/site-packages/numpy/lib/npyio.py:893: UserWarning: loadtxt: Empty input file: \"/Users/mfisherlevine/Downloads/160802_beads1/02/beads1_2016_08_02_12_16_20_603.txt\"\n",
      "  warnings.warn('loadtxt: Empty input file: \"%s\"' % fname)\n"
     ]
    },
    {
     "name": "stdout",
     "output_type": "stream",
     "text": [
      "Centroided 80000 of 100000 files\n"
     ]
    },
    {
     "name": "stderr",
     "output_type": "stream",
     "text": [
      "/Users/mfisherlevine/anaconda/lib/python2.7/site-packages/numpy/lib/npyio.py:893: UserWarning: loadtxt: Empty input file: \"/Users/mfisherlevine/Downloads/160802_beads1/02/beads1_2016_08_02_12_17_13_942.txt\"\n",
      "  warnings.warn('loadtxt: Empty input file: \"%s\"' % fname)\n",
      "/Users/mfisherlevine/anaconda/lib/python2.7/site-packages/numpy/lib/npyio.py:893: UserWarning: loadtxt: Empty input file: \"/Users/mfisherlevine/Downloads/160802_beads1/02/beads1_2016_08_02_12_17_17_824.txt\"\n",
      "  warnings.warn('loadtxt: Empty input file: \"%s\"' % fname)\n",
      "/Users/mfisherlevine/anaconda/lib/python2.7/site-packages/numpy/lib/npyio.py:893: UserWarning: loadtxt: Empty input file: \"/Users/mfisherlevine/Downloads/160802_beads1/02/beads1_2016_08_02_12_17_44_503.txt\"\n",
      "  warnings.warn('loadtxt: Empty input file: \"%s\"' % fname)\n",
      "/Users/mfisherlevine/anaconda/lib/python2.7/site-packages/numpy/lib/npyio.py:893: UserWarning: loadtxt: Empty input file: \"/Users/mfisherlevine/Downloads/160802_beads1/02/beads1_2016_08_02_12_17_46_389.txt\"\n",
      "  warnings.warn('loadtxt: Empty input file: \"%s\"' % fname)\n",
      "/Users/mfisherlevine/anaconda/lib/python2.7/site-packages/numpy/lib/npyio.py:893: UserWarning: loadtxt: Empty input file: \"/Users/mfisherlevine/Downloads/160802_beads1/02/beads1_2016_08_02_12_17_59_960.txt\"\n",
      "  warnings.warn('loadtxt: Empty input file: \"%s\"' % fname)\n",
      "/Users/mfisherlevine/anaconda/lib/python2.7/site-packages/numpy/lib/npyio.py:893: UserWarning: loadtxt: Empty input file: \"/Users/mfisherlevine/Downloads/160802_beads1/02/beads1_2016_08_02_12_18_06_144.txt\"\n",
      "  warnings.warn('loadtxt: Empty input file: \"%s\"' % fname)\n"
     ]
    },
    {
     "name": "stdout",
     "output_type": "stream",
     "text": [
      "Centroided 81000 of 100000 files\n"
     ]
    },
    {
     "name": "stderr",
     "output_type": "stream",
     "text": [
      "/Users/mfisherlevine/anaconda/lib/python2.7/site-packages/numpy/lib/npyio.py:893: UserWarning: loadtxt: Empty input file: \"/Users/mfisherlevine/Downloads/160802_beads1/02/beads1_2016_08_02_12_18_34_467.txt\"\n",
      "  warnings.warn('loadtxt: Empty input file: \"%s\"' % fname)\n",
      "/Users/mfisherlevine/anaconda/lib/python2.7/site-packages/numpy/lib/npyio.py:893: UserWarning: loadtxt: Empty input file: \"/Users/mfisherlevine/Downloads/160802_beads1/02/beads1_2016_08_02_12_19_34_990.txt\"\n",
      "  warnings.warn('loadtxt: Empty input file: \"%s\"' % fname)\n",
      "/Users/mfisherlevine/anaconda/lib/python2.7/site-packages/numpy/lib/npyio.py:893: UserWarning: loadtxt: Empty input file: \"/Users/mfisherlevine/Downloads/160802_beads1/02/beads1_2016_08_02_12_19_47_489.txt\"\n",
      "  warnings.warn('loadtxt: Empty input file: \"%s\"' % fname)\n"
     ]
    },
    {
     "name": "stdout",
     "output_type": "stream",
     "text": [
      "Centroided 82000 of 100000 files\n"
     ]
    },
    {
     "name": "stderr",
     "output_type": "stream",
     "text": [
      "/Users/mfisherlevine/anaconda/lib/python2.7/site-packages/numpy/lib/npyio.py:893: UserWarning: loadtxt: Empty input file: \"/Users/mfisherlevine/Downloads/160802_beads1/02/beads1_2016_08_02_12_20_43_349.txt\"\n",
      "  warnings.warn('loadtxt: Empty input file: \"%s\"' % fname)\n",
      "/Users/mfisherlevine/anaconda/lib/python2.7/site-packages/numpy/lib/npyio.py:893: UserWarning: loadtxt: Empty input file: \"/Users/mfisherlevine/Downloads/160802_beads1/02/beads1_2016_08_02_12_21_02_917.txt\"\n",
      "  warnings.warn('loadtxt: Empty input file: \"%s\"' % fname)\n",
      "/Users/mfisherlevine/anaconda/lib/python2.7/site-packages/numpy/lib/npyio.py:893: UserWarning: loadtxt: Empty input file: \"/Users/mfisherlevine/Downloads/160802_beads1/02/beads1_2016_08_02_12_21_50_024.txt\"\n",
      "  warnings.warn('loadtxt: Empty input file: \"%s\"' % fname)\n"
     ]
    },
    {
     "name": "stdout",
     "output_type": "stream",
     "text": [
      "Centroided 83000 of 100000 files\n"
     ]
    },
    {
     "name": "stderr",
     "output_type": "stream",
     "text": [
      "/Users/mfisherlevine/anaconda/lib/python2.7/site-packages/numpy/lib/npyio.py:893: UserWarning: loadtxt: Empty input file: \"/Users/mfisherlevine/Downloads/160802_beads1/02/beads1_2016_08_02_12_22_14_752.txt\"\n",
      "  warnings.warn('loadtxt: Empty input file: \"%s\"' % fname)\n",
      "/Users/mfisherlevine/anaconda/lib/python2.7/site-packages/numpy/lib/npyio.py:893: UserWarning: loadtxt: Empty input file: \"/Users/mfisherlevine/Downloads/160802_beads1/02/beads1_2016_08_02_12_22_52_948.txt\"\n",
      "  warnings.warn('loadtxt: Empty input file: \"%s\"' % fname)\n"
     ]
    },
    {
     "name": "stdout",
     "output_type": "stream",
     "text": [
      "Centroided 84000 of 100000 files\n"
     ]
    },
    {
     "name": "stderr",
     "output_type": "stream",
     "text": [
      "/Users/mfisherlevine/anaconda/lib/python2.7/site-packages/numpy/lib/npyio.py:893: UserWarning: loadtxt: Empty input file: \"/Users/mfisherlevine/Downloads/160802_beads1/02/beads1_2016_08_02_12_24_52_672.txt\"\n",
      "  warnings.warn('loadtxt: Empty input file: \"%s\"' % fname)\n",
      "/Users/mfisherlevine/anaconda/lib/python2.7/site-packages/numpy/lib/npyio.py:893: UserWarning: loadtxt: Empty input file: \"/Users/mfisherlevine/Downloads/160802_beads1/02/beads1_2016_08_02_12_24_58_906.txt\"\n",
      "  warnings.warn('loadtxt: Empty input file: \"%s\"' % fname)\n",
      "/Users/mfisherlevine/anaconda/lib/python2.7/site-packages/numpy/lib/npyio.py:893: UserWarning: loadtxt: Empty input file: \"/Users/mfisherlevine/Downloads/160802_beads1/02/beads1_2016_08_02_12_25_29_949.txt\"\n",
      "  warnings.warn('loadtxt: Empty input file: \"%s\"' % fname)\n"
     ]
    },
    {
     "name": "stdout",
     "output_type": "stream",
     "text": [
      "Centroided 85000 of 100000 files\n"
     ]
    },
    {
     "name": "stderr",
     "output_type": "stream",
     "text": [
      "/Users/mfisherlevine/anaconda/lib/python2.7/site-packages/numpy/lib/npyio.py:893: UserWarning: loadtxt: Empty input file: \"/Users/mfisherlevine/Downloads/160802_beads1/02/beads1_2016_08_02_12_25_34_174.txt\"\n",
      "  warnings.warn('loadtxt: Empty input file: \"%s\"' % fname)\n"
     ]
    },
    {
     "name": "stdout",
     "output_type": "stream",
     "text": [
      "Centroided 86000 of 100000 files\n"
     ]
    },
    {
     "name": "stderr",
     "output_type": "stream",
     "text": [
      "/Users/mfisherlevine/anaconda/lib/python2.7/site-packages/numpy/lib/npyio.py:893: UserWarning: loadtxt: Empty input file: \"/Users/mfisherlevine/Downloads/160802_beads1/02/beads1_2016_08_02_12_27_22_498.txt\"\n",
      "  warnings.warn('loadtxt: Empty input file: \"%s\"' % fname)\n",
      "/Users/mfisherlevine/anaconda/lib/python2.7/site-packages/numpy/lib/npyio.py:893: UserWarning: loadtxt: Empty input file: \"/Users/mfisherlevine/Downloads/160802_beads1/02/beads1_2016_08_02_12_27_41_106.txt\"\n",
      "  warnings.warn('loadtxt: Empty input file: \"%s\"' % fname)\n"
     ]
    },
    {
     "name": "stdout",
     "output_type": "stream",
     "text": [
      "Centroided 87000 of 100000 files\n"
     ]
    },
    {
     "name": "stderr",
     "output_type": "stream",
     "text": [
      "/Users/mfisherlevine/anaconda/lib/python2.7/site-packages/numpy/lib/npyio.py:893: UserWarning: loadtxt: Empty input file: \"/Users/mfisherlevine/Downloads/160802_beads1/02/beads1_2016_08_02_12_29_58_459.txt\"\n",
      "  warnings.warn('loadtxt: Empty input file: \"%s\"' % fname)\n",
      "/Users/mfisherlevine/anaconda/lib/python2.7/site-packages/numpy/lib/npyio.py:893: UserWarning: loadtxt: Empty input file: \"/Users/mfisherlevine/Downloads/160802_beads1/02/beads1_2016_08_02_12_30_25_089.txt\"\n",
      "  warnings.warn('loadtxt: Empty input file: \"%s\"' % fname)\n"
     ]
    },
    {
     "name": "stdout",
     "output_type": "stream",
     "text": [
      "Centroided 88000 of 100000 files\n"
     ]
    },
    {
     "name": "stderr",
     "output_type": "stream",
     "text": [
      "/Users/mfisherlevine/anaconda/lib/python2.7/site-packages/numpy/lib/npyio.py:893: UserWarning: loadtxt: Empty input file: \"/Users/mfisherlevine/Downloads/160802_beads1/02/beads1_2016_08_02_12_32_22_850.txt\"\n",
      "  warnings.warn('loadtxt: Empty input file: \"%s\"' % fname)\n"
     ]
    },
    {
     "name": "stdout",
     "output_type": "stream",
     "text": [
      "Centroided 89000 of 100000 files\n"
     ]
    },
    {
     "name": "stderr",
     "output_type": "stream",
     "text": [
      "/Users/mfisherlevine/anaconda/lib/python2.7/site-packages/numpy/lib/npyio.py:893: UserWarning: loadtxt: Empty input file: \"/Users/mfisherlevine/Downloads/160802_beads1/02/beads1_2016_08_02_12_33_06_588.txt\"\n",
      "  warnings.warn('loadtxt: Empty input file: \"%s\"' % fname)\n",
      "/Users/mfisherlevine/anaconda/lib/python2.7/site-packages/numpy/lib/npyio.py:893: UserWarning: loadtxt: Empty input file: \"/Users/mfisherlevine/Downloads/160802_beads1/02/beads1_2016_08_02_12_33_25_117.txt\"\n",
      "  warnings.warn('loadtxt: Empty input file: \"%s\"' % fname)\n",
      "/Users/mfisherlevine/anaconda/lib/python2.7/site-packages/numpy/lib/npyio.py:893: UserWarning: loadtxt: Empty input file: \"/Users/mfisherlevine/Downloads/160802_beads1/02/beads1_2016_08_02_12_33_35_146.txt\"\n",
      "  warnings.warn('loadtxt: Empty input file: \"%s\"' % fname)\n"
     ]
    },
    {
     "name": "stdout",
     "output_type": "stream",
     "text": [
      "Centroided 90000 of 100000 files\n"
     ]
    },
    {
     "name": "stderr",
     "output_type": "stream",
     "text": [
      "/Users/mfisherlevine/anaconda/lib/python2.7/site-packages/numpy/lib/npyio.py:893: UserWarning: loadtxt: Empty input file: \"/Users/mfisherlevine/Downloads/160802_beads1/02/beads1_2016_08_02_12_34_35_546.txt\"\n",
      "  warnings.warn('loadtxt: Empty input file: \"%s\"' % fname)\n",
      "/Users/mfisherlevine/anaconda/lib/python2.7/site-packages/numpy/lib/npyio.py:893: UserWarning: loadtxt: Empty input file: \"/Users/mfisherlevine/Downloads/160802_beads1/02/beads1_2016_08_02_12_34_56_407.txt\"\n",
      "  warnings.warn('loadtxt: Empty input file: \"%s\"' % fname)\n",
      "/Users/mfisherlevine/anaconda/lib/python2.7/site-packages/numpy/lib/npyio.py:893: UserWarning: loadtxt: Empty input file: \"/Users/mfisherlevine/Downloads/160802_beads1/02/beads1_2016_08_02_12_35_43_168.txt\"\n",
      "  warnings.warn('loadtxt: Empty input file: \"%s\"' % fname)\n"
     ]
    },
    {
     "name": "stdout",
     "output_type": "stream",
     "text": [
      "Centroided 91000 of 100000 files\n"
     ]
    },
    {
     "name": "stderr",
     "output_type": "stream",
     "text": [
      "/Users/mfisherlevine/anaconda/lib/python2.7/site-packages/numpy/lib/npyio.py:893: UserWarning: loadtxt: Empty input file: \"/Users/mfisherlevine/Downloads/160802_beads1/02/beads1_2016_08_02_12_37_12_122.txt\"\n",
      "  warnings.warn('loadtxt: Empty input file: \"%s\"' % fname)\n"
     ]
    },
    {
     "name": "stdout",
     "output_type": "stream",
     "text": [
      "Centroided 92000 of 100000 files\n"
     ]
    },
    {
     "name": "stderr",
     "output_type": "stream",
     "text": [
      "/Users/mfisherlevine/anaconda/lib/python2.7/site-packages/numpy/lib/npyio.py:893: UserWarning: loadtxt: Empty input file: \"/Users/mfisherlevine/Downloads/160802_beads1/02/beads1_2016_08_02_12_38_43_052.txt\"\n",
      "  warnings.warn('loadtxt: Empty input file: \"%s\"' % fname)\n",
      "/Users/mfisherlevine/anaconda/lib/python2.7/site-packages/numpy/lib/npyio.py:893: UserWarning: loadtxt: Empty input file: \"/Users/mfisherlevine/Downloads/160802_beads1/02/beads1_2016_08_02_12_38_49_912.txt\"\n",
      "  warnings.warn('loadtxt: Empty input file: \"%s\"' % fname)\n",
      "/Users/mfisherlevine/anaconda/lib/python2.7/site-packages/numpy/lib/npyio.py:893: UserWarning: loadtxt: Empty input file: \"/Users/mfisherlevine/Downloads/160802_beads1/02/beads1_2016_08_02_12_38_50_109.txt\"\n",
      "  warnings.warn('loadtxt: Empty input file: \"%s\"' % fname)\n",
      "/Users/mfisherlevine/anaconda/lib/python2.7/site-packages/numpy/lib/npyio.py:893: UserWarning: loadtxt: Empty input file: \"/Users/mfisherlevine/Downloads/160802_beads1/02/beads1_2016_08_02_12_39_08_668.txt\"\n",
      "  warnings.warn('loadtxt: Empty input file: \"%s\"' % fname)\n"
     ]
    },
    {
     "name": "stdout",
     "output_type": "stream",
     "text": [
      "Centroided 93000 of 100000 files\n"
     ]
    },
    {
     "name": "stderr",
     "output_type": "stream",
     "text": [
      "/Users/mfisherlevine/anaconda/lib/python2.7/site-packages/numpy/lib/npyio.py:893: UserWarning: loadtxt: Empty input file: \"/Users/mfisherlevine/Downloads/160802_beads1/02/beads1_2016_08_02_12_39_51_498.txt\"\n",
      "  warnings.warn('loadtxt: Empty input file: \"%s\"' % fname)\n",
      "/Users/mfisherlevine/anaconda/lib/python2.7/site-packages/numpy/lib/npyio.py:893: UserWarning: loadtxt: Empty input file: \"/Users/mfisherlevine/Downloads/160802_beads1/02/beads1_2016_08_02_12_39_54_896.txt\"\n",
      "  warnings.warn('loadtxt: Empty input file: \"%s\"' % fname)\n",
      "/Users/mfisherlevine/anaconda/lib/python2.7/site-packages/numpy/lib/npyio.py:893: UserWarning: loadtxt: Empty input file: \"/Users/mfisherlevine/Downloads/160802_beads1/02/beads1_2016_08_02_12_40_36_732.txt\"\n",
      "  warnings.warn('loadtxt: Empty input file: \"%s\"' % fname)\n",
      "/Users/mfisherlevine/anaconda/lib/python2.7/site-packages/numpy/lib/npyio.py:893: UserWarning: loadtxt: Empty input file: \"/Users/mfisherlevine/Downloads/160802_beads1/02/beads1_2016_08_02_12_40_41_795.txt\"\n",
      "  warnings.warn('loadtxt: Empty input file: \"%s\"' % fname)\n"
     ]
    },
    {
     "name": "stdout",
     "output_type": "stream",
     "text": [
      "Centroided 94000 of 100000 files\n"
     ]
    },
    {
     "name": "stderr",
     "output_type": "stream",
     "text": [
      "/Users/mfisherlevine/anaconda/lib/python2.7/site-packages/numpy/lib/npyio.py:893: UserWarning: loadtxt: Empty input file: \"/Users/mfisherlevine/Downloads/160802_beads1/02/beads1_2016_08_02_12_42_33_664.txt\"\n",
      "  warnings.warn('loadtxt: Empty input file: \"%s\"' % fname)\n"
     ]
    },
    {
     "name": "stdout",
     "output_type": "stream",
     "text": [
      "Centroided 95000 of 100000 files\n"
     ]
    },
    {
     "name": "stderr",
     "output_type": "stream",
     "text": [
      "/Users/mfisherlevine/anaconda/lib/python2.7/site-packages/numpy/lib/npyio.py:893: UserWarning: loadtxt: Empty input file: \"/Users/mfisherlevine/Downloads/160802_beads1/02/beads1_2016_08_02_12_43_21_489.txt\"\n",
      "  warnings.warn('loadtxt: Empty input file: \"%s\"' % fname)\n",
      "/Users/mfisherlevine/anaconda/lib/python2.7/site-packages/numpy/lib/npyio.py:893: UserWarning: loadtxt: Empty input file: \"/Users/mfisherlevine/Downloads/160802_beads1/02/beads1_2016_08_02_12_43_59_885.txt\"\n",
      "  warnings.warn('loadtxt: Empty input file: \"%s\"' % fname)\n",
      "/Users/mfisherlevine/anaconda/lib/python2.7/site-packages/numpy/lib/npyio.py:893: UserWarning: loadtxt: Empty input file: \"/Users/mfisherlevine/Downloads/160802_beads1/02/beads1_2016_08_02_12_44_35_946.txt\"\n",
      "  warnings.warn('loadtxt: Empty input file: \"%s\"' % fname)\n"
     ]
    },
    {
     "name": "stdout",
     "output_type": "stream",
     "text": [
      "Centroided 96000 of 100000 files\n"
     ]
    },
    {
     "name": "stderr",
     "output_type": "stream",
     "text": [
      "/Users/mfisherlevine/anaconda/lib/python2.7/site-packages/numpy/lib/npyio.py:893: UserWarning: loadtxt: Empty input file: \"/Users/mfisherlevine/Downloads/160802_beads1/02/beads1_2016_08_02_12_45_22_976.txt\"\n",
      "  warnings.warn('loadtxt: Empty input file: \"%s\"' % fname)\n",
      "/Users/mfisherlevine/anaconda/lib/python2.7/site-packages/numpy/lib/npyio.py:893: UserWarning: loadtxt: Empty input file: \"/Users/mfisherlevine/Downloads/160802_beads1/02/beads1_2016_08_02_12_45_40_724.txt\"\n",
      "  warnings.warn('loadtxt: Empty input file: \"%s\"' % fname)\n",
      "/Users/mfisherlevine/anaconda/lib/python2.7/site-packages/numpy/lib/npyio.py:893: UserWarning: loadtxt: Empty input file: \"/Users/mfisherlevine/Downloads/160802_beads1/02/beads1_2016_08_02_12_46_24_569.txt\"\n",
      "  warnings.warn('loadtxt: Empty input file: \"%s\"' % fname)\n"
     ]
    },
    {
     "name": "stdout",
     "output_type": "stream",
     "text": [
      "Centroided 97000 of 100000 files\n"
     ]
    },
    {
     "name": "stderr",
     "output_type": "stream",
     "text": [
      "/Users/mfisherlevine/anaconda/lib/python2.7/site-packages/numpy/lib/npyio.py:893: UserWarning: loadtxt: Empty input file: \"/Users/mfisherlevine/Downloads/160802_beads1/02/beads1_2016_08_02_12_46_35_981.txt\"\n",
      "  warnings.warn('loadtxt: Empty input file: \"%s\"' % fname)\n",
      "/Users/mfisherlevine/anaconda/lib/python2.7/site-packages/numpy/lib/npyio.py:893: UserWarning: loadtxt: Empty input file: \"/Users/mfisherlevine/Downloads/160802_beads1/02/beads1_2016_08_02_12_46_59_062.txt\"\n",
      "  warnings.warn('loadtxt: Empty input file: \"%s\"' % fname)\n"
     ]
    },
    {
     "name": "stdout",
     "output_type": "stream",
     "text": [
      "Centroided 98000 of 100000 files\n"
     ]
    },
    {
     "name": "stderr",
     "output_type": "stream",
     "text": [
      "/Users/mfisherlevine/anaconda/lib/python2.7/site-packages/numpy/lib/npyio.py:893: UserWarning: loadtxt: Empty input file: \"/Users/mfisherlevine/Downloads/160802_beads1/02/beads1_2016_08_02_12_48_20_233.txt\"\n",
      "  warnings.warn('loadtxt: Empty input file: \"%s\"' % fname)\n",
      "/Users/mfisherlevine/anaconda/lib/python2.7/site-packages/numpy/lib/npyio.py:893: UserWarning: loadtxt: Empty input file: \"/Users/mfisherlevine/Downloads/160802_beads1/02/beads1_2016_08_02_12_49_11_524.txt\"\n",
      "  warnings.warn('loadtxt: Empty input file: \"%s\"' % fname)\n",
      "/Users/mfisherlevine/anaconda/lib/python2.7/site-packages/numpy/lib/npyio.py:893: UserWarning: loadtxt: Empty input file: \"/Users/mfisherlevine/Downloads/160802_beads1/02/beads1_2016_08_02_12_49_16_928.txt\"\n",
      "  warnings.warn('loadtxt: Empty input file: \"%s\"' % fname)\n",
      "/Users/mfisherlevine/anaconda/lib/python2.7/site-packages/numpy/lib/npyio.py:893: UserWarning: loadtxt: Empty input file: \"/Users/mfisherlevine/Downloads/160802_beads1/02/beads1_2016_08_02_12_49_37_924.txt\"\n",
      "  warnings.warn('loadtxt: Empty input file: \"%s\"' % fname)\n"
     ]
    },
    {
     "name": "stdout",
     "output_type": "stream",
     "text": [
      "Centroided 99000 of 100000 files\n"
     ]
    },
    {
     "name": "stderr",
     "output_type": "stream",
     "text": [
      "/Users/mfisherlevine/anaconda/lib/python2.7/site-packages/numpy/lib/npyio.py:893: UserWarning: loadtxt: Empty input file: \"/Users/mfisherlevine/Downloads/160802_beads1/02/beads1_2016_08_02_12_50_55_707.txt\"\n",
      "  warnings.warn('loadtxt: Empty input file: \"%s\"' % fname)\n",
      "/Users/mfisherlevine/anaconda/lib/python2.7/site-packages/numpy/lib/npyio.py:893: UserWarning: loadtxt: Empty input file: \"/Users/mfisherlevine/Downloads/160802_beads1/02/beads1_2016_08_02_12_51_02_910.txt\"\n",
      "  warnings.warn('loadtxt: Empty input file: \"%s\"' % fname)\n",
      "/Users/mfisherlevine/anaconda/lib/python2.7/site-packages/numpy/lib/npyio.py:893: UserWarning: loadtxt: Empty input file: \"/Users/mfisherlevine/Downloads/160802_beads1/02/beads1_2016_08_02_12_51_13_607.txt\"\n",
      "  warnings.warn('loadtxt: Empty input file: \"%s\"' % fname)\n",
      "/Users/mfisherlevine/anaconda/lib/python2.7/site-packages/numpy/lib/npyio.py:893: UserWarning: loadtxt: Empty input file: \"/Users/mfisherlevine/Downloads/160802_beads1/02/beads1_2016_08_02_12_51_25_738.txt\"\n",
      "  warnings.warn('loadtxt: Empty input file: \"%s\"' % fname)\n"
     ]
    },
    {
     "name": "stdout",
     "output_type": "stream",
     "text": [
      "Finished centroiding 100000 files\n"
     ]
    }
   ],
   "source": [
    "def SmartCentroid(filelist, use_CoM_as_centroid=True, inc_diagnoal_joins=False, bands=None, peak_range=20, DEBUG=0, skiplines=0, files_have_bunchIDs=False, n_tof_files=50, ToF_noise_threshold=0):\n",
    "    '''Get smart x,y,t centroids from a fileset. A ToF spectrum is generated\n",
    "    using a subset of the files (evenly sampled from the set)\n",
    "    to set the band boundaries, though they can be manually specified as well.\n",
    "    If use_CoM_as_centroid==False, the earliest pixel in the cluster is used,\n",
    "    otherwise the centre of mass of the cluster is taken as the centroid.'''\n",
    "    import scipy.ndimage as ndimage\n",
    "    from scipy.ndimage.measurements import center_of_mass, maximum_position\n",
    "    from scipy.signal import argrelmax, savgol_filter\n",
    "    import sys\n",
    "    import numpy as np\n",
    "    \n",
    "    ret = {} #return structure.\n",
    "    \n",
    "    if not bands:\n",
    "        # build a set of files to use for making the ToF\n",
    "        # ToF can chage during delay scans etc, so good to pull from across the range\n",
    "        # files rather than just taking the first n files\n",
    "        n_files = len(filelist)\n",
    "        tof_fileset = []\n",
    "        if n_tof_files >= n_files: #if there fewer files that the nominal, take them all\n",
    "            tof_fileset = filelist\n",
    "        else: \n",
    "            indices = [int(np.ceil(i * n_files / n_tof_files)) for i in xrange(n_tof_files)] #evenly sample the files\n",
    "            if DEBUG >2:print 'Selecting file nums for ToF: %s'%indices\n",
    "            for i in indices:\n",
    "                tof_fileset.append(filelist[i])\n",
    "            if DEBUG >1: print 'selected %s files for ToF'%len(tof_fileset);sys.stdout.flush()\n",
    "\n",
    "        tof_imgs = []\n",
    "        for filename in tof_fileset: # load images\n",
    "            tof_imgs.append(fn.TimepixFileToImage(filename, skiplines=skiplines))\n",
    "        maxval = int(np.max(tof_imgs)) # get ranges for histogram\n",
    "        minval = int(np.min([np.min(_[_>0]) for _ in tof_imgs])) \n",
    "\n",
    "        ys = np.zeros(((maxval-minval)+1,), dtype=np.int64)\n",
    "        xs = np.linspace(minval,maxval,(maxval-minval+1)) # make x points for ToF plot\n",
    "\n",
    "#         for filename in tof_fileset: # build ToF histogram from ToF files\n",
    "        for img in tof_imgs: # histogram each imgage\n",
    "            ys += ndimage.histogram(img[img>0],minval,maxval,bins = (maxval-minval)+1) #much faster than pl.hist\n",
    "        \n",
    "        ys[ys<ToF_noise_threshold] = 0 #filter very small bins\n",
    "        # redo the ranges after filtering out the small values:\n",
    "        first_value = 0\n",
    "        point = 0\n",
    "        while ys[point]<=0:\n",
    "            point += 1\n",
    "            first_value += 1\n",
    "        \n",
    "        new_ys = savgol_filter(ys,5,3) # smooth the ToF spectrum\n",
    "        max_indexes = argrelmax(new_ys, axis=0, order=peak_range) # find local maxima, range of 5 each side\n",
    "        peaks = [xs[_] for _ in max_indexes[0]] # Get peak location from indices\n",
    "\n",
    "#         print xs\n",
    "#         return\n",
    "        \n",
    "        bands = [] # generate banks from peaks - need to take the midpoints though!\n",
    "        bands.append((minval,(peaks[0]+peaks[1])//2)) #first point to midpoint of first peaks\n",
    "        for i in xrange(1,len(peaks)-1):\n",
    "            bands.append((bands[-1][1],(peaks[i]+peaks[i+1])//2)) # loop through\n",
    "        bands.append((bands[-1][0],maxval))# add last midpoint to last value\n",
    "\n",
    "        if DEBUG>0:\n",
    "            f = pl.figure(figsize=[12,4]) # Make the figure an appropriate shape\n",
    "            ax = pl.subplot(111)\n",
    "            pl.plot(xs,ys,'b') #plot the original ToF\n",
    "            pl.plot(xs,new_ys,'r')#plot the new, smoothed ToF\n",
    "            pl.plot(peaks,[-10 for _ in max_indexes[0]],'bo') # plot peaks in blue\n",
    "            pl.plot([_[0] for _ in bands],[10 for _ in bands],'ro') # plot left band boundaries in red\n",
    "            pl.plot([_[1] for _ in bands],[10 for _ in bands],'ro') # plot right band boundaries in red too\n",
    "#             ticks = [_[0] for _ in bands[1:]]\n",
    "#             ax.set_xticks(ticks, minor=False)\n",
    "#             ax.xaxis.grid(True, which='major')\n",
    "            pl.xlim(minval,maxval) #set limits as python is weird sometimes\n",
    "\n",
    "            # TODO: add a legend saying that colours are what\n",
    "            if DEBUG >1:\n",
    "                print 'Peaks at %s'%peaks\n",
    "                print 'Bands set at %s'%bands;sys.stdout.flush()\n",
    "            pl.show()\n",
    "                  \n",
    "            \n",
    "    ################################################\n",
    "    # We have our band, now let's find the clusters:\n",
    "    if DEBUG >0: print 'Using %s band(s)...'%len(bands);sys.stdout.flush()\n",
    "\n",
    "    if inc_diagnoal_joins:\n",
    "        struct_el=[[1,1,1],[1,1,1],[1,1,1]] # for including diagonal connections as well\n",
    "    else:\n",
    "        struct_el=[[0,1,0],[1,1,1],[0,1,0]] # for vertical/horizontal connections only\n",
    "\n",
    "    for filenum,filename in enumerate(filelist):\n",
    "        if filenum%1000==0: print 'Centroided %s of %s files'%(filenum, len(filelist)); sys.stdout.flush()\n",
    "        if files_have_bunchIDs: # if we're using bunchIDs then use these as keys in return dict\n",
    "            fileID = fn.GetBunchIDFromFile(filename)\n",
    "        else: #otherwise use the filenames\n",
    "            fileID = filename\n",
    "        ret[fileID]={'xs':[],'ys':[],'ts':[],'npixs':[]}\n",
    "\n",
    "        img = fn.TimepixFileToImage(filename, skiplines=skiplines)\n",
    "\n",
    "        segmentation, segments = ndimage.label(img, struct_el) # find clusters\n",
    "        if DEBUG>2: print 'Found %s clusters without using band information'%segments;sys.stdout.flush()\n",
    "        if DEBUG>3:\n",
    "            print 'Segmented image:';sys.stdout.flush()\n",
    "            f = pl.figure(figsize=[8,8]) \n",
    "            pl.imshow(segmentation)\n",
    "            pl.show()\n",
    "\n",
    "        seg_sum = 0\n",
    "        for bandnum,(tmin, tmax) in enumerate(bands): # Process each band in turn\n",
    "            band_img = img.copy() # make a copy\n",
    "            band_img[band_img > tmax] = 0 # threshold the new image\n",
    "            band_img[band_img <= tmin] = 0\n",
    "            if DEBUG>2:\n",
    "                print 'Band %s (%s - %s) image:'%(bandnum, tmin, tmax);sys.stdout.flush()\n",
    "                f = pl.figure(figsize=[8,8]) \n",
    "                pl.imshow(band_img)\n",
    "                pl.show()\n",
    "\n",
    "            # find clusters\n",
    "            segmentation, segments = ndimage.label(band_img, struct_el) \n",
    "            seg_sum += segments\n",
    "            if DEBUG>3: print 'Found %s segs in band %s (%s - %s)'%(segments,i, tmin, tmax);sys.stdout.flush()\n",
    "            \n",
    "            # Get centroids from clusters using specified method:\n",
    "            if use_CoM_as_centroid: # use center of mass weighting\n",
    "                # TODO: check whether cluster 0 is included in CoMs\n",
    "                # TODO: check order of these, i.e. if x,y,t will be coherent\n",
    "                # NB must use segmentation image for CoM finding to avoid using timecodes as weigths (especially without first inverting!)\n",
    "                CoMs = center_of_mass(segmentation, segmentation, [_ for _ in xrange(1,segments+1)])\n",
    "                for clust_num in xrange(1,segments): # cluster 0 = background so skip it\n",
    "                    clust_pix_index = np.where(segmentation==clust_num) # find pixels associated with cluster\n",
    "                    ret[fileID]['ts'].append(np.max(img[clust_pix_index]))\n",
    "                    ret[fileID]['xs'].append(CoMs[clust_num][0])\n",
    "                    ret[fileID]['ys'].append(CoMs[clust_num][1])\n",
    "                    ret[fileID]['npixs'].append(len(clust_pix_index[0]))\n",
    "\n",
    "            else: # Take the earliest timecode in the cluster as the centroid\n",
    "                CoMs = maximum_position(band_img, segmentation, [_ for _ in xrange(1,segments+1)])\n",
    "                print 'WARNING!! Unsupported/unimplemented - what happens if multiple pixels have same timecode?!'\n",
    "                for com in CoMs: # Stepping through together, so def. coherent\n",
    "                    ret[fileID]['ts'].append(img[com])\n",
    "                    ret[fileID]['xs'].append(com[0])\n",
    "                    ret[fileID]['ys'].append(com[1])\n",
    "                    ret[fileID]['npixs'].append('????')\n",
    "\n",
    "            if DEBUG>2: print 'CoMs for band %s: %s'(bandnum, CoMs);sys.stdout.flush()\n",
    "        #     index = (np.asarray([_[0] for _ in CoMs]),np.asarray([[_[1] for _ in CoMs]]))\n",
    "        #     codes = img[CoMs]\n",
    "\n",
    "        if DEBUG>0: print 'Found %s clusters when using bands'%seg_sum;sys.stdout.flush()\n",
    "\n",
    "    print 'Finished centroiding %s files'%len(filelist)\n",
    "    ########### Finished!\n",
    "    if DEBUG>0:\n",
    "        ts = []\n",
    "        for key in ret.keys():\n",
    "            ts.extend(ret[key]['ts'])\n",
    "        print 'Centroided ToF Spectrum'\n",
    "        f = pl.figure(figsize=[12,4]) #Make the figure an appropriate shape\n",
    "        a,b,c = pl.hist(ts, max(ts)-min(ts)+1, histtype = 'step')\n",
    "        pl.xlim(minval,maxval) #set limits as python is weird sometimes\n",
    "\n",
    "    return ret\n",
    "\n",
    "fn = reload(fn)\n",
    "ret_dict = SmartCentroid(tp_datafiles_ir, DEBUG=0, n_tof_files=50, skiplines=1, files_have_bunchIDs=False, use_CoM_as_centroid=True, bands=[(0,11810)])\n",
    "# SmartCentroid(tp_datafiles[1:509],DEBUG=1, skiplines=1, files_have_bunchIDs=True)"
   ]
  },
  {
   "cell_type": "code",
   "execution_count": null,
   "metadata": {
    "collapsed": false
   },
   "outputs": [],
   "source": [
    "fn = reload(fn)\n",
    "\n",
    "# fn.ShowClusteredImage('/Users/mfisherlevine/Downloads/160721_voltages1/160721_v9/160721_v9_0250.txt',257)\n",
    "fn.ShowClusteredImage(tp_datafiles_ir[4],257,skiplines=1)"
   ]
  },
  {
   "cell_type": "code",
   "execution_count": 7,
   "metadata": {
    "collapsed": false
   },
   "outputs": [
    {
     "name": "stdout",
     "output_type": "stream",
     "text": [
      "Gaussianised 0 files\n",
      "Gaussianised 1000 files\n",
      "Gaussianised 2000 files\n",
      "Gaussianised 3000 files\n",
      "Gaussianised 4000 files\n",
      "Gaussianised 5000 files\n",
      "Gaussianised 6000 files\n",
      "Gaussianised 7000 files\n",
      "Gaussianised 8000 files\n",
      "Gaussianised 9000 files\n",
      "Gaussianised 10000 files\n",
      "Gaussianised 11000 files\n",
      "Gaussianised 12000 files\n",
      "Gaussianised 13000 files\n",
      "Gaussianised 14000 files\n",
      "Gaussianised 15000 files\n",
      "Gaussianised 16000 files\n",
      "Gaussianised 17000 files\n",
      "Gaussianised 18000 files\n",
      "Gaussianised 19000 files\n",
      "Gaussianised 20000 files\n",
      "Gaussianised 21000 files\n",
      "Gaussianised 22000 files\n",
      "Gaussianised 23000 files\n",
      "Gaussianised 24000 files\n",
      "Gaussianised 25000 files\n",
      "Gaussianised 26000 files\n",
      "Gaussianised 27000 files\n",
      "Gaussianised 28000 files\n",
      "Gaussianised 29000 files\n",
      "Gaussianised 30000 files\n",
      "Gaussianised 31000 files\n",
      "Gaussianised 32000 files\n",
      "Gaussianised 33000 files\n",
      "Gaussianised 34000 files\n",
      "Gaussianised 35000 files\n",
      "Gaussianised 36000 files\n",
      "Gaussianised 37000 files\n",
      "Gaussianised 38000 files\n",
      "Gaussianised 39000 files\n",
      "Gaussianised 40000 files\n",
      "Gaussianised 41000 files\n",
      "Gaussianised 42000 files\n",
      "Gaussianised 43000 files\n",
      "Gaussianised 44000 files\n",
      "Gaussianised 45000 files\n",
      "Gaussianised 46000 files\n",
      "Gaussianised 47000 files\n",
      "Gaussianised 48000 files\n",
      "Gaussianised 49000 files\n",
      "Gaussianised 50000 files\n",
      "Gaussianised 51000 files\n",
      "Gaussianised 52000 files\n",
      "Gaussianised 53000 files\n",
      "Gaussianised 54000 files\n",
      "Gaussianised 55000 files\n",
      "Gaussianised 56000 files\n",
      "Gaussianised 57000 files\n",
      "Gaussianised 58000 files\n",
      "Gaussianised 59000 files\n",
      "Gaussianised 60000 files\n",
      "Gaussianised 61000 files\n",
      "Gaussianised 62000 files\n",
      "Gaussianised 63000 files\n",
      "Gaussianised 64000 files\n",
      "Gaussianised 65000 files\n",
      "Gaussianised 66000 files\n",
      "Gaussianised 67000 files\n",
      "Gaussianised 68000 files\n",
      "Gaussianised 69000 files\n",
      "Gaussianised 70000 files\n",
      "Gaussianised 71000 files\n",
      "Gaussianised 72000 files\n",
      "Gaussianised 73000 files\n",
      "Gaussianised 74000 files\n",
      "Gaussianised 75000 files\n",
      "Gaussianised 76000 files\n",
      "Gaussianised 77000 files\n",
      "Gaussianised 78000 files\n",
      "Gaussianised 79000 files\n",
      "Gaussianised 80000 files\n",
      "Gaussianised 81000 files\n",
      "Gaussianised 82000 files\n",
      "Gaussianised 83000 files\n",
      "Gaussianised 84000 files\n",
      "Gaussianised 85000 files\n",
      "Gaussianised 86000 files\n",
      "Gaussianised 87000 files\n",
      "Gaussianised 88000 files\n",
      "Gaussianised 89000 files\n",
      "Gaussianised 90000 files\n",
      "Gaussianised 91000 files\n",
      "Gaussianised 92000 files\n",
      "Gaussianised 93000 files\n",
      "Gaussianised 94000 files\n",
      "Gaussianised 95000 files\n",
      "Gaussianised 96000 files\n",
      "Gaussianised 97000 files\n",
      "Gaussianised 98000 files\n",
      "Gaussianised 99000 files\n"
     ]
    }
   ],
   "source": [
    "all_ts = []\n",
    "output_list = []\n",
    "output_list_mult = []\n",
    "\n",
    "# imshow_size = 10\n",
    "multiplier = 100\n",
    "width = 2.0\n",
    "img = np.zeros((256,256), dtype=np.float64)\n",
    "for filenum, filename in enumerate(ret_dict.keys()):\n",
    "    if filenum%1000==0:\n",
    "        WriteOutput('/Users/mfisherlevine/Downloads/test/160802_beads1.txt',output_list)\n",
    "        WriteOutput('/Users/mfisherlevine/Downloads/test/160802_beads1_mult.txt',output_list_mult)\n",
    "\n",
    "        print 'Gaussianised %s files'%filenum; sys.stdout.flush()\n",
    "        output_list = []\n",
    "        output_list_mult = []\n",
    "\n",
    "    for x, y, t, npix in zip(ret_dict[filename]['xs'],ret_dict[filename]['ys'],ret_dict[filename]['ts'],ret_dict[filename]['npixs']):\n",
    "        if npix<4: continue\n",
    "#         all_ts.append(11810-t)\n",
    "#         print x,y,t\n",
    "        img = fn.makeGaussian(256,multiplier,width,[x,y])\n",
    "        indices = np.where(img>=1)\n",
    "#         print 'npix above 1: %s'%len(indices[0])\n",
    "#         print np.sum(img)\n",
    "        for xval, yval in zip(indices[0],indices[1]):\n",
    "            mult = int(np.round(img[xval,yval]))\n",
    "            _ = '%s\\t%s\\t%s\\t%s\\n'%(xval,yval,int(11810-t),mult)\n",
    "            output_list_mult.append(_)\n",
    "            _ = '%s\\t%s\\t%s\\n'%(xval,yval,int(11810-t))\n",
    "            for i in xrange(mult):\n",
    "                output_list.append(_)\n",
    "#         pl.imshow(img[y-imshow_size:y+imshow_size,x-imshow_size:x+imshow_size], interpolation='nearest')\n",
    "#         break\n",
    "#     break\n",
    "\n",
    "WriteOutput('/Users/mfisherlevine/Downloads/test/160802_beads1.txt',output_list)\n",
    "WriteOutput('/Users/mfisherlevine/Downloads/test/160802_beads1_mult.txt',output_list_mult)"
   ]
  },
  {
   "cell_type": "code",
   "execution_count": null,
   "metadata": {
    "collapsed": false
   },
   "outputs": [],
   "source": [
    "# output_list = ['a','b']\n",
    "\n",
    "WriteOutput('/Users/mfisherlevine/Downloads/test/output.txt',output_list)"
   ]
  },
  {
   "cell_type": "code",
   "execution_count": null,
   "metadata": {
    "collapsed": false
   },
   "outputs": [],
   "source": [
    "print len(output_list)"
   ]
  },
  {
   "cell_type": "code",
   "execution_count": 6,
   "metadata": {
    "collapsed": false
   },
   "outputs": [],
   "source": [
    "def WriteOutput(filename, outlist):\n",
    "    outfile = open(filename, mode='a')\n",
    "    for line in outlist:\n",
    "        outfile.write(line)\n",
    "    outfile.close()"
   ]
  },
  {
   "cell_type": "code",
   "execution_count": null,
   "metadata": {
    "collapsed": false
   },
   "outputs": [],
   "source": [
    "# range = [0,11810]\n",
    "range = [1800,1900]\n",
    "\n",
    "############\n",
    "# for the raw spectrum:\n",
    "\n",
    "# y_rescale = 1.1 # big peak is too big, so clip y-axis by rescaling to this fraction of max\n",
    "# bins = min(int((max(raw_timecodes_ir)-min(raw_timecodes_ir))),(range[1]-range[0]))\n",
    "# # print bins\n",
    "# fig = pl.figure(figsize=[16,4])\n",
    "# ax = pl.subplot(111)\n",
    "\n",
    "# # as a hist\n",
    "# print 'Raw timecodes a histogram:'\n",
    "# ys_ir, binEdges_ir, dummy1 = pl.hist(raw_timecodes_ir, bins=bins, range=range, histtype = 'step')\n",
    "# # bincenters = 0.5*(binEdges[1:]+binEdges[:-1])\n",
    "# lims = pl.ylim()\n",
    "# pl.ylim([lims[0], y_rescale*max(ys_ir)])\n",
    "# # ax.set_xticks(ticks, minor=False)\n",
    "# # turn_raw, stat_raw, troughs_raw, peaks_raw = fn.GetTurningPoints(ys, bincenters, noise=20)\n",
    "# # ax.set_xticks(troughs_raw, minor=False)\n",
    "# ax.xaxis.grid(True, which='major')\n",
    "# pl.xlim(range[0],range[1])\n",
    "# pl.show()\n",
    "\n",
    "\n",
    "############\n",
    "# for the centroided spectrum:\n",
    "\n",
    "y_rescale = 1.1 # big peak is too big, so clip y-axis by rescaling to this fraction of max\n",
    "bins = min(int((max(all_ts)-min(all_ts)+1)),(range[1]-range[0]+1))\n",
    "\n",
    "fig = pl.figure(figsize=[16,4])\n",
    "ax = pl.subplot(111)\n",
    "\n",
    "# as a hist\n",
    "print 'As a histogram:'\n",
    "ys_ir, binEdges_ir, dummy1 = pl.hist(all_ts, bins=bins, range=range, histtype = 'step')\n",
    "\n",
    "# # bincenters = 0.5*(binEdges[1:]+binEdges[:-1])\n",
    "# # turn_cent, stat_cent, troughs_cent, peaks_cent = fn.GetTurningPoints(ys, bincenters, noise=1)\n",
    "# lims = pl.ylim()\n",
    "# pl.xlim(range[0],range[1])\n",
    "# pl.ylim([lims[0], y_rescale*max(ys_ir)])\n",
    "# # ax.set_xticks(troughs_cent, minor=False)\n",
    "# ax.xaxis.grid(True, which='major')\n",
    "# pl.show()\n",
    "\n",
    "# # as a hist\n",
    "# fig = pl.figure(figsize=[16,4])\n",
    "# ax = pl.subplot(111)\n",
    "# print 'With 4 pixel threshold:'\n",
    "# ys_ir, binEdges_ir, dummy1 = pl.hist(all_ts_4pix_ir, bins=bins, range=range, histtype = 'step')\n",
    "\n",
    "# # bincenters = 0.5*(binEdges[1:]+binEdges[:-1])\n",
    "# # turn_cent, stat_cent, troughs_cent, peaks_cent = fn.GetTurningPoints(ys, bincenters, noise=0)\n",
    "# lims = pl.ylim()\n",
    "# pl.xlim(range[0],range[1])\n",
    "# pl.ylim([lims[0], y_rescale*max(ys_ir)])\n",
    "# # ax.set_xticks(troughs_cent, minor=False)\n",
    "# ax.xaxis.grid(True, which='major')\n",
    "# pl.show()\n"
   ]
  },
  {
   "cell_type": "code",
   "execution_count": null,
   "metadata": {
    "collapsed": false
   },
   "outputs": [],
   "source": [
    "# Load the raw timecodes, converting the same way as the others\n",
    "fn = reload(fn)\n",
    "\n",
    "raw_timecodes_ir = []\n",
    "for i, filename in enumerate(tp_datafiles_ir):\n",
    "    if i%1000==0: print 'Loaded %s files'%i; sys.stdout.flush()\n",
    "#     raw_timecodes_ir.extend(((11810-_)-TZERO) for _ in fn.GetTimecodes_SingleFile(filename, skiplines=0))\n",
    "    raw_timecodes_ir.extend(((11810-_)-TZERO) for _ in fn.GetTimecodes_SingleFile(filename, skiplines=1,winow_xmax=XMAX,winow_xmin=XMIN,winow_ymax=YMAX,winow_ymin=YMIN))\n",
    "print 'IR: Loaded %s raw timecodes'%len(raw_timecodes_ir)\n"
   ]
  },
  {
   "cell_type": "code",
   "execution_count": null,
   "metadata": {
    "collapsed": false,
    "scrolled": false
   },
   "outputs": [],
   "source": [
    "# range = [900,1200]\n",
    "range = [1800,1900]\n",
    "\n",
    "############\n",
    "# for the raw spectrum:\n",
    "\n",
    "y_rescale = 1.1 # big peak is too big, so clip y-axis by rescaling to this fraction of max\n",
    "bins = min(int((max(raw_timecodes_ir)-min(raw_timecodes_ir))),(range[1]-range[0]))\n",
    "# print bins\n",
    "fig = pl.figure(figsize=[16,4])\n",
    "ax = pl.subplot(111)\n",
    "\n",
    "# as a hist\n",
    "print 'Raw timecodes a histogram:'\n",
    "ys_ir, binEdges_ir, dummy1 = pl.hist(raw_timecodes_ir, bins=bins, range=range, histtype = 'step')\n",
    "# bincenters = 0.5*(binEdges[1:]+binEdges[:-1])\n",
    "lims = pl.ylim()\n",
    "pl.ylim([lims[0], y_rescale*max(ys_ir)])\n",
    "# ax.set_xticks(ticks, minor=False)\n",
    "# turn_raw, stat_raw, troughs_raw, peaks_raw = fn.GetTurningPoints(ys, bincenters, noise=20)\n",
    "# ax.set_xticks(troughs_raw, minor=False)\n",
    "ax.xaxis.grid(True, which='major')\n",
    "pl.xlim(range[0],range[1])\n",
    "pl.show()\n",
    "\n",
    "\n",
    "############\n",
    "# for the centroided spectrum:\n",
    "\n",
    "y_rescale = 1.1 # big peak is too big, so clip y-axis by rescaling to this fraction of max\n",
    "# bins = min(int((max(all_ts)-min(all_ts)+1)),(range[1]-range[0]+1))\n",
    "\n",
    "fig = pl.figure(figsize=[16,4])\n",
    "ax = pl.subplot(111)\n",
    "\n",
    "# as a hist\n",
    "print 'As a histogram:'\n",
    "ys_ir, binEdges_ir, dummy1 = pl.hist(all_ts, bins=bins, range=range, histtype = 'step')\n",
    "\n",
    "# bincenters = 0.5*(binEdges[1:]+binEdges[:-1])\n",
    "# turn_cent, stat_cent, troughs_cent, peaks_cent = fn.GetTurningPoints(ys, bincenters, noise=1)\n",
    "lims = pl.ylim()\n",
    "pl.xlim(range[0],range[1])\n",
    "pl.ylim([lims[0], y_rescale*max(ys_ir)])\n",
    "# ax.set_xticks(troughs_cent, minor=False)\n",
    "ax.xaxis.grid(True, which='major')\n",
    "pl.show()\n",
    "\n",
    "# as a hist\n",
    "fig = pl.figure(figsize=[16,4])\n",
    "ax = pl.subplot(111)\n",
    "print 'With 4 pixel threshold:'\n",
    "ys_ir, binEdges_ir, dummy1 = pl.hist(all_ts_4pix_ir, bins=bins, range=range, histtype = 'step')\n",
    "\n",
    "# bincenters = 0.5*(binEdges[1:]+binEdges[:-1])\n",
    "# turn_cent, stat_cent, troughs_cent, peaks_cent = fn.GetTurningPoints(ys, bincenters, noise=0)\n",
    "lims = pl.ylim()\n",
    "pl.xlim(range[0],range[1])\n",
    "pl.ylim([lims[0], y_rescale*max(ys_ir)])\n",
    "# ax.set_xticks(troughs_cent, minor=False)\n",
    "ax.xaxis.grid(True, which='major')\n",
    "pl.show()\n"
   ]
  },
  {
   "cell_type": "code",
   "execution_count": null,
   "metadata": {
    "collapsed": true
   },
   "outputs": [],
   "source": [
    "for t, y in zip(binEdges_ir,ys_ir):\n",
    "    print t, y"
   ]
  },
  {
   "cell_type": "raw",
   "metadata": {},
   "source": [
    "Make a VMI image for each band. Whilst it looks like the loop is nested backward, I wrote it the other way around too and it's actually no faster as python's tpye checking during the band finding is so slow, and it's easier to understand and debug this way around."
   ]
  },
  {
   "cell_type": "code",
   "execution_count": null,
   "metadata": {
    "collapsed": false
   },
   "outputs": [],
   "source": [
    "bands = []\n",
    "# # for i in xrange(len(troughs_cent)-1):\n",
    "# #     bands.append((troughs_cent[i],troughs_cent[i+1]))\n",
    "# # print bands\n",
    "# bands.append([0,250])\n",
    "\n",
    "# bands.append([900,910])\n",
    "# bands.append([910,920])\n",
    "# bands.append([920,930])\n",
    "# bands.append([930,940])\n",
    "# bands.append([940,950])\n",
    "# bands.append([950,1000])\n",
    "# bands.append([1000,1200])\n",
    "\n",
    "bands.append([1800,1820])\n",
    "bands.append([1820,1860])\n"
   ]
  },
  {
   "cell_type": "code",
   "execution_count": null,
   "metadata": {
    "collapsed": false
   },
   "outputs": [],
   "source": [
    "#probably don't need to rerun this, and it takes ages, so don't do it by accident:\n",
    "if True: \n",
    "    import time\n",
    "    now = time.time()\n",
    "    n_bunches = 999999\n",
    "\n",
    "    images_ir = [np.zeros((256,256), dtype = np.float64) for _ in bands]\n",
    "    for i, t_range in enumerate(bands):\n",
    "        print 'Processing band %s of %s'%(i+1, len(bands))\n",
    "        for bunchID in sorted(tp_data_ir.keys())[:min(n_bunches,tp_data_ir.keys())]:\n",
    "            if 'xs' not in tp_data_ir[bunchID]: continue\n",
    "            for x,y,t,npix in zip(tp_data_ir[bunchID]['xs'],\n",
    "                                  tp_data_ir[bunchID]['ys'],\n",
    "                                  tp_data_ir[bunchID]['ts'],\n",
    "                                  tp_data_ir[bunchID]['npixs']):\n",
    "                if t >= t_range[0] and t<t_range[1]:\n",
    "                    images_ir[i] += fn.makeGaussian(256,1,1,[x,y])\n",
    "#                     images_ir[i] += fn.makeGaussian(256,1,(npix**.5)/1.5,[x,y])\n",
    "\n",
    "    print 'Took %.1f secs'%(time.time()-now)\n"
   ]
  },
  {
   "cell_type": "code",
   "execution_count": null,
   "metadata": {
    "collapsed": false
   },
   "outputs": [],
   "source": [
    "#### pickle the bands and their images\n",
    "pickle_filename = '/Users/mfisherlevine/Desktop/desy/pickles/run'+run_id+'_VMIs.pickle'\n",
    "\n",
    "if False: #C areful, this will overwrite the good pickles if you accidentally run it!\n",
    "    pickle_file = open(pickle_filename, 'wb')\n",
    "    pickle.dump([bands, images], pickle_file)\n",
    "    pickle_file.close()\n",
    "\n",
    "\n",
    "#### Load the bands and their images from the pickle:\n",
    "if True:\n",
    "    print 'Unpickling...'; sys.stdout.flush()\n",
    "    pickle_file = open(pickle_filename, 'rb')\n",
    "    [bands, images] = pickle.load(pickle_file)\n",
    "    pickle_file.close()\n",
    "    print 'Loaded bands and images'"
   ]
  },
  {
   "cell_type": "raw",
   "metadata": {},
   "source": [
    "Plot all the VMI images and give them an appropraite title."
   ]
  },
  {
   "cell_type": "code",
   "execution_count": null,
   "metadata": {
    "collapsed": false,
    "scrolled": false
   },
   "outputs": [],
   "source": [
    "fn = reload(fn)\n",
    "cmap = 'gray' ### beware using the de facto standard 'jet',\n",
    "\n",
    "### but it's also replotted below for people who can't live without it\n",
    "for i, image in enumerate(images_ir):\n",
    "    title = 'IR image for times %s to %s ns(band #%s)'%(bands[i][0],bands[i][1], i)\n",
    "    fn.DisplayImage(image, cmap=cmap, title=title,vmax='auto',savefig='/Users/mfisherlevine/Desktop/new_USAF_IR_'+str(i)+'.pdf')\n",
    "    pl.show()\n",
    "\n",
    "    "
   ]
  },
  {
   "cell_type": "code",
   "execution_count": null,
   "metadata": {
    "collapsed": false,
    "scrolled": false
   },
   "outputs": [],
   "source": [
    "fn = reload(fn)\n",
    "cmap = 'jet'\n",
    "for i, image in enumerate(images_ir):\n",
    "    title = 'VMI for times %s to %s (band %s)'%(bands[i][0],bands[i][1], i)\n",
    "    fn.DisplayImage(image, cmap=cmap, title=title,vmax='auto')\n",
    "    pl.show()"
   ]
  },
  {
   "cell_type": "code",
   "execution_count": null,
   "metadata": {
    "collapsed": true
   },
   "outputs": [],
   "source": []
  },
  {
   "cell_type": "code",
   "execution_count": null,
   "metadata": {
    "collapsed": true
   },
   "outputs": [],
   "source": []
  },
  {
   "cell_type": "code",
   "execution_count": null,
   "metadata": {
    "collapsed": true
   },
   "outputs": [],
   "source": []
  },
  {
   "cell_type": "code",
   "execution_count": null,
   "metadata": {
    "collapsed": false
   },
   "outputs": [],
   "source": []
  },
  {
   "cell_type": "code",
   "execution_count": null,
   "metadata": {
    "collapsed": false
   },
   "outputs": [],
   "source": []
  },
  {
   "cell_type": "code",
   "execution_count": null,
   "metadata": {
    "collapsed": false
   },
   "outputs": [],
   "source": []
  },
  {
   "cell_type": "code",
   "execution_count": null,
   "metadata": {
    "collapsed": true
   },
   "outputs": [],
   "source": []
  },
  {
   "cell_type": "code",
   "execution_count": null,
   "metadata": {
    "collapsed": true
   },
   "outputs": [],
   "source": []
  },
  {
   "cell_type": "code",
   "execution_count": null,
   "metadata": {
    "collapsed": true
   },
   "outputs": [],
   "source": []
  },
  {
   "cell_type": "code",
   "execution_count": null,
   "metadata": {
    "collapsed": true
   },
   "outputs": [],
   "source": []
  },
  {
   "cell_type": "code",
   "execution_count": null,
   "metadata": {
    "collapsed": true
   },
   "outputs": [],
   "source": []
  },
  {
   "cell_type": "code",
   "execution_count": null,
   "metadata": {
    "collapsed": true
   },
   "outputs": [],
   "source": []
  },
  {
   "cell_type": "code",
   "execution_count": null,
   "metadata": {
    "collapsed": false
   },
   "outputs": [],
   "source": []
  },
  {
   "cell_type": "code",
   "execution_count": null,
   "metadata": {
    "collapsed": false
   },
   "outputs": [],
   "source": []
  },
  {
   "cell_type": "code",
   "execution_count": null,
   "metadata": {
    "collapsed": false
   },
   "outputs": [],
   "source": []
  },
  {
   "cell_type": "code",
   "execution_count": null,
   "metadata": {
    "collapsed": false
   },
   "outputs": [],
   "source": []
  },
  {
   "cell_type": "code",
   "execution_count": null,
   "metadata": {
    "collapsed": false
   },
   "outputs": [],
   "source": []
  },
  {
   "cell_type": "code",
   "execution_count": null,
   "metadata": {
    "collapsed": true
   },
   "outputs": [],
   "source": []
  },
  {
   "cell_type": "code",
   "execution_count": null,
   "metadata": {
    "collapsed": false
   },
   "outputs": [],
   "source": []
  },
  {
   "cell_type": "code",
   "execution_count": null,
   "metadata": {
    "collapsed": false
   },
   "outputs": [],
   "source": []
  },
  {
   "cell_type": "code",
   "execution_count": null,
   "metadata": {
    "collapsed": true
   },
   "outputs": [],
   "source": []
  },
  {
   "cell_type": "code",
   "execution_count": null,
   "metadata": {
    "collapsed": true
   },
   "outputs": [],
   "source": []
  },
  {
   "cell_type": "code",
   "execution_count": null,
   "metadata": {
    "collapsed": true
   },
   "outputs": [],
   "source": []
  }
 ],
 "metadata": {
  "anaconda-cloud": {},
  "kernelspec": {
   "display_name": "Python [Root]",
   "language": "python",
   "name": "Python [Root]"
  },
  "language_info": {
   "codemirror_mode": {
    "name": "ipython",
    "version": 2
   },
   "file_extension": ".py",
   "mimetype": "text/x-python",
   "name": "python",
   "nbconvert_exporter": "python",
   "pygments_lexer": "ipython2",
   "version": "2.7.11"
  }
 },
 "nbformat": 4,
 "nbformat_minor": 0
}
