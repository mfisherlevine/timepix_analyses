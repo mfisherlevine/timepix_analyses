{
 "cells": [
  {
   "cell_type": "code",
   "execution_count": 1,
   "metadata": {
    "collapsed": false
   },
   "outputs": [
    {
     "data": {
      "text/html": [
       "<style>.container { width:90% !important; }</style>"
      ],
      "text/plain": [
       "<IPython.core.display.HTML object>"
      ]
     },
     "execution_count": 1,
     "metadata": {},
     "output_type": "execute_result"
    }
   ],
   "source": [
    "# magic incantation to make the notebook wider\n",
    "from IPython.core.display import HTML\n",
    "HTML(\"<style>.container { width:90% !important; }</style>\")"
   ]
  },
  {
   "cell_type": "code",
   "execution_count": 2,
   "metadata": {
    "collapsed": true
   },
   "outputs": [],
   "source": [
    "#magic incantation to make all text in LaTeX font:\n",
    "from matplotlib import rc\n",
    "# rc('font',**{'family':'serif','serif':['Computer Modern Roman']})\n",
    "rc('font',**{'family':'sans-serif','sans-serif':['Helvetica']})\n",
    "rc('text', usetex=True)"
   ]
  },
  {
   "cell_type": "code",
   "execution_count": 3,
   "metadata": {
    "collapsed": false
   },
   "outputs": [
    {
     "name": "stderr",
     "output_type": "stream",
     "text": [
      "/Users/mfisherlevine/anaconda/lib/python2.7/site-packages/matplotlib/font_manager.py:273: UserWarning: Matplotlib is building the font cache using fc-list. This may take a moment.\n",
      "  warnings.warn('Matplotlib is building the font cache using fc-list. This may take a moment.')\n"
     ]
    }
   ],
   "source": [
    "import numpy as np\n",
    "import pylab as pl\n",
    "import os, sys\n",
    "%matplotlib inline\n",
    "\n",
    "import new_functions as fn\n",
    "fn = reload(fn)\n",
    "\n",
    "# XMAX = 200\n",
    "# XMIN = 50\n",
    "# YMAX = 200\n",
    "# YMIN = 50\n",
    "\n",
    "XMAX = 256\n",
    "XMIN = 0\n",
    "YMAX = 256\n",
    "YMIN = 0"
   ]
  },
  {
   "cell_type": "code",
   "execution_count": 4,
   "metadata": {
    "collapsed": false
   },
   "outputs": [
    {
     "name": "stdout",
     "output_type": "stream",
     "text": [
      "Found 100000 datafiles in run /Users/mfisherlevine/Downloads/160906_background1/\n"
     ]
    }
   ],
   "source": [
    "timepix_data_dir_ir = '/Users/mfisherlevine/Downloads/160906_background1/'\n",
    "\n",
    "\n",
    "dirs = [timepix_data_dir_ir + _ for _ in os.listdir(timepix_data_dir_ir) if _.find('.DS')==-1]\n",
    "tp_datafiles_ir = []\n",
    "for this_dir in dirs:\n",
    "    tp_datafiles_ir.extend([os.path.join(this_dir, _) for _ in os.listdir(this_dir) if _.find('.DS')==-1])\n",
    "print 'Found %s datafiles in run %s'%(len(tp_datafiles_ir), timepix_data_dir_ir)\n"
   ]
  },
  {
   "cell_type": "code",
   "execution_count": 10,
   "metadata": {
    "collapsed": true
   },
   "outputs": [],
   "source": [
    "tp_data_ir = dict.fromkeys(tp_datafiles_ir)\n"
   ]
  },
  {
   "cell_type": "code",
   "execution_count": 12,
   "metadata": {
    "collapsed": false,
    "scrolled": true
   },
   "outputs": [
    {
     "name": "stdout",
     "output_type": "stream",
     "text": [
      "Processed 0 files\n",
      "Processed 1000 files\n",
      "Processed 2000 files\n",
      "Processed 3000 files\n",
      "Processed 4000 files\n",
      "Processed 5000 files\n",
      "Processed 6000 files\n",
      "Processed 7000 files\n",
      "Processed 8000 files\n",
      "Processed 9000 files\n",
      "Processed 10000 files\n",
      "Processed 11000 files\n",
      "Processed 12000 files\n",
      "Processed 13000 files\n",
      "Processed 14000 files\n",
      "Processed 15000 files\n",
      "Processed 16000 files\n",
      "Processed 17000 files\n",
      "Processed 18000 files\n",
      "Processed 19000 files\n",
      "Processed 20000 files\n",
      "Processed 21000 files\n",
      "Processed 22000 files\n",
      "Processed 23000 files\n",
      "Processed 24000 files\n",
      "Processed 25000 files\n",
      "Processed 26000 files\n",
      "Processed 27000 files\n",
      "Processed 28000 files\n",
      "Processed 29000 files\n",
      "Processed 30000 files\n",
      "Processed 31000 files\n",
      "Processed 32000 files\n",
      "Processed 33000 files\n",
      "Processed 34000 files\n",
      "Processed 35000 files\n",
      "Processed 36000 files\n",
      "Processed 37000 files\n",
      "Processed 38000 files\n",
      "Processed 39000 files\n",
      "Processed 40000 files\n",
      "Processed 41000 files\n",
      "Processed 42000 files\n",
      "Processed 43000 files\n",
      "Processed 44000 files\n",
      "Processed 45000 files\n",
      "Processed 46000 files\n",
      "Processed 47000 files\n",
      "Processed 48000 files\n",
      "Processed 49000 files\n",
      "Processed 50000 files\n",
      "Processed 51000 files\n",
      "Processed 52000 files\n",
      "Processed 53000 files\n",
      "Processed 54000 files\n",
      "Processed 55000 files\n",
      "Processed 56000 files\n",
      "Processed 57000 files\n",
      "Processed 58000 files\n",
      "Processed 59000 files\n",
      "Processed 60000 files\n",
      "Processed 61000 files\n",
      "Processed 62000 files\n",
      "Processed 63000 files\n",
      "Processed 64000 files\n",
      "Processed 65000 files\n",
      "Processed 66000 files\n",
      "Processed 67000 files\n",
      "Processed 68000 files\n",
      "Processed 69000 files\n",
      "Processed 70000 files\n",
      "Processed 71000 files\n",
      "Processed 72000 files\n",
      "Processed 73000 files\n",
      "Processed 74000 files\n",
      "Processed 75000 files\n",
      "Processed 76000 files\n",
      "Processed 77000 files\n",
      "Processed 78000 files\n",
      "Processed 79000 files\n",
      "Processed 80000 files\n",
      "Processed 81000 files\n",
      "Processed 82000 files\n",
      "Processed 83000 files\n",
      "Processed 84000 files\n",
      "Processed 85000 files\n",
      "Processed 86000 files\n",
      "Processed 87000 files\n",
      "Processed 88000 files\n",
      "Processed 89000 files\n",
      "Processed 90000 files\n",
      "Processed 91000 files\n",
      "Processed 92000 files\n",
      "Processed 93000 files\n",
      "Processed 94000 files\n",
      "Processed 95000 files\n",
      "Processed 96000 files\n",
      "Processed 97000 files\n",
      "Processed 98000 files\n",
      "Processed 99000 files\n",
      "*****\n",
      "Loaded 100000 files\n"
     ]
    }
   ],
   "source": [
    "\n",
    "n_files_loaded = 0\n",
    "for filename in tp_datafiles_ir:\n",
    "    if n_files_loaded%1000==0: print 'Processed %s files'%n_files_loaded; sys.stdout.flush()\n",
    "    n_codes = fn.Get_n_timecodesFromFile(filename)\n",
    "#     if not filename in tp_data_ir.keys():\n",
    "    tp_data_ir[filename] = {}\n",
    "    tp_data_ir[filename]['n_codes'] = n_codes\n",
    "    tp_data_ir[filename]['filename'] = filename\n",
    "#     else:\n",
    "#         print 'Would have overwritten bunchID %s'%bunchID\n",
    "    n_files_loaded += 1\n",
    "\n",
    "print '*****\\nLoaded %s files' %n_files_loaded\n",
    "\n"
   ]
  },
  {
   "cell_type": "code",
   "execution_count": 13,
   "metadata": {
    "collapsed": false
   },
   "outputs": [
    {
     "data": {
      "image/png": "[encoded data removed]",
      "text/plain": [
       "<matplotlib.figure.Figure at 0x1154b6a90>"
      ]
     },
     "metadata": {},
     "output_type": "display_data"
    }
   ],
   "source": [
    "fn = reload(fn)\n",
    "\n",
    "# fn.ShowClusteredImage('/Users/mfisherlevine/Downloads/160721_voltages1/160721_v9/160721_v9_0250.txt',257)\n",
    "fn.ShowClusteredImage(tp_datafiles_ir[0],257,skiplines=1)"
   ]
  },
  {
   "cell_type": "markdown",
   "metadata": {
    "collapsed": true
   },
   "source": [
    "### "
   ]
  },
  {
   "cell_type": "code",
   "execution_count": 23,
   "metadata": {
    "collapsed": false,
    "scrolled": true
   },
   "outputs": [
    {
     "name": "stdout",
     "output_type": "stream",
     "text": [
      "Centroided 0 frames\n",
      "Found 1 clusters in /Users/mfisherlevine/Downloads/160906_background1/01/background_2016_09_06_10_04_54_934.txt - TCUT = 257\n",
      "Centroided 500 frames\n",
      "Centroided 1000 frames\n",
      "Centroided 1500 frames\n",
      "Found 1 clusters in /Users/mfisherlevine/Downloads/160906_background1/01/background_2016_09_06_10_13_19_420.txt - TCUT = 257\n",
      "Found 1 clusters in /Users/mfisherlevine/Downloads/160906_background1/04/background_2016_09_06_12_35_16_662.txt - TCUT = 257\n",
      "Found 1 clusters in /Users/mfisherlevine/Downloads/160906_background1/01/background_2016_09_06_09_54_10_122.txt - TCUT = 257\n",
      "Centroided 2000 frames\n",
      "Centroided 2500 frames\n",
      "Found 1 clusters in /Users/mfisherlevine/Downloads/160906_background1/03/background_2016_09_06_11_54_16_402.txt - TCUT = 257\n",
      "Centroided 3000 frames\n",
      "Centroided 3500 frames\n",
      "Found 1 clusters in /Users/mfisherlevine/Downloads/160906_background1/01/background_2016_09_06_09_50_35_890.txt - TCUT = 257\n",
      "Centroided 4000 frames\n",
      "Found 1 clusters in /Users/mfisherlevine/Downloads/160906_background1/01/background_2016_09_06_10_16_45_572.txt - TCUT = 257\n",
      "Centroided 4500 frames\n",
      "Centroided 5000 frames\n",
      "Centroided 5500 frames\n",
      "Centroided 6000 frames\n",
      "Found 1 clusters in /Users/mfisherlevine/Downloads/160906_background1/01/background_2016_09_06_10_12_44_135.txt - TCUT = 257\n",
      "Found 1 clusters in /Users/mfisherlevine/Downloads/160906_background1/02/background_2016_09_06_10_52_35_948.txt - TCUT = 257\n",
      "Found 1 clusters in /Users/mfisherlevine/Downloads/160906_background1/04/background_2016_09_06_12_38_18_641.txt - TCUT = 257\n",
      "Centroided 6500 frames\n",
      "Centroided 7000 frames\n",
      "Found 1 clusters in /Users/mfisherlevine/Downloads/160906_background1/04/background_2016_09_06_12_28_22_235.txt - TCUT = 257\n",
      "Centroided 7500 frames\n",
      "Found 1 clusters in /Users/mfisherlevine/Downloads/160906_background1/04/background_2016_09_06_12_13_23_788.txt - TCUT = 257\n",
      "Centroided 8000 frames\n",
      "Found 1 clusters in /Users/mfisherlevine/Downloads/160906_background1/04/background_2016_09_06_12_27_58_051.txt - TCUT = 257\n",
      "Found 1 clusters in /Users/mfisherlevine/Downloads/160906_background1/04/background_2016_09_06_12_06_51_196.txt - TCUT = 257\n",
      "Centroided 8500 frames\n",
      "Found 1 clusters in /Users/mfisherlevine/Downloads/160906_background1/03/background_2016_09_06_11_19_17_877.txt - TCUT = 257\n",
      "Centroided 9000 frames\n",
      "Centroided 9500 frames\n",
      "Found 1 clusters in /Users/mfisherlevine/Downloads/160906_background1/02/background_2016_09_06_11_06_04_430.txt - TCUT = 257\n",
      "Found 1 clusters in /Users/mfisherlevine/Downloads/160906_background1/03/background_2016_09_06_11_37_46_860.txt - TCUT = 257\n",
      "Centroided 10000 frames\n",
      "Found 1 clusters in /Users/mfisherlevine/Downloads/160906_background1/03/background_2016_09_06_11_31_11_076.txt - TCUT = 257\n",
      "Centroided 10500 frames\n",
      "Found 1 clusters in /Users/mfisherlevine/Downloads/160906_background1/02/background_2016_09_06_10_51_48_916.txt - TCUT = 257\n",
      "Centroided 11000 frames\n",
      "Found 1 clusters in /Users/mfisherlevine/Downloads/160906_background1/01/background_2016_09_06_10_17_50_293.txt - TCUT = 257\n",
      "Found 1 clusters in /Users/mfisherlevine/Downloads/160906_background1/02/background_2016_09_06_11_00_53_208.txt - TCUT = 257\n",
      "Centroided 11500 frames\n",
      "Centroided 12000 frames\n",
      "Centroided 12500 frames\n",
      "Found 1 clusters in /Users/mfisherlevine/Downloads/160906_background1/02/background_2016_09_06_10_36_22_971.txt - TCUT = 257\n",
      "Found 1 clusters in /Users/mfisherlevine/Downloads/160906_background1/02/background_2016_09_06_11_07_19_457.txt - TCUT = 257\n",
      "Found 1 clusters in /Users/mfisherlevine/Downloads/160906_background1/04/background_2016_09_06_12_20_26_577.txt - TCUT = 257\n",
      "Centroided 13000 frames\n",
      "Found 1 clusters in /Users/mfisherlevine/Downloads/160906_background1/04/background_2016_09_06_12_27_05_335.txt - TCUT = 257\n",
      "Found 1 clusters in /Users/mfisherlevine/Downloads/160906_background1/03/background_2016_09_06_11_32_30_716.txt - TCUT = 257\n",
      "Centroided 13500 frames\n",
      "Found 1 clusters in /Users/mfisherlevine/Downloads/160906_background1/02/background_2016_09_06_10_52_35_095.txt - TCUT = 257\n",
      "Centroided 14000 frames\n",
      "Found 1 clusters in /Users/mfisherlevine/Downloads/160906_background1/01/background_2016_09_06_10_04_10_903.txt - TCUT = 257\n",
      "Centroided 14500 frames\n",
      "Centroided 15000 frames\n",
      "Found 1 clusters in /Users/mfisherlevine/Downloads/160906_background1/02/background_2016_09_06_10_45_13_765.txt - TCUT = 257\n",
      "Centroided 15500 frames\n",
      "Centroided 16000 frames\n",
      "Found 1 clusters in /Users/mfisherlevine/Downloads/160906_background1/03/background_2016_09_06_11_32_48_817.txt - TCUT = 257\n",
      "Found 1 clusters in /Users/mfisherlevine/Downloads/160906_background1/04/background_2016_09_06_12_11_50_478.txt - TCUT = 257\n",
      "Centroided 16500 frames\n",
      "Found 1 clusters in /Users/mfisherlevine/Downloads/160906_background1/02/background_2016_09_06_10_40_44_737.txt - TCUT = 257\n",
      "Centroided 17000 frames\n",
      "Centroided 17500 frames\n",
      "Found 1 clusters in /Users/mfisherlevine/Downloads/160906_background1/03/background_2016_09_06_11_55_48_991.txt - TCUT = 257\n",
      "Centroided 18000 frames\n",
      "Found 1 clusters in /Users/mfisherlevine/Downloads/160906_background1/04/background_2016_09_06_12_08_27_247.txt - TCUT = 257\n",
      "Centroided 18500 frames\n",
      "Found 1 clusters in /Users/mfisherlevine/Downloads/160906_background1/01/background_2016_09_06_09_57_32_007.txt - TCUT = 257\n",
      "Centroided 19000 frames\n",
      "Centroided 19500 frames\n",
      "Centroided 20000 frames\n",
      "Found 1 clusters in /Users/mfisherlevine/Downloads/160906_background1/01/background_2016_09_06_09_52_25_652.txt - TCUT = 257\n",
      "Found 1 clusters in /Users/mfisherlevine/Downloads/160906_background1/01/background_2016_09_06_10_13_50_853.txt - TCUT = 257\n",
      "Centroided 20500 frames\n",
      "Found 1 clusters in /Users/mfisherlevine/Downloads/160906_background1/03/background_2016_09_06_11_21_49_058.txt - TCUT = 257\n",
      "Found 1 clusters in /Users/mfisherlevine/Downloads/160906_background1/04/background_2016_09_06_12_18_56_701.txt - TCUT = 257\n",
      "Found 1 clusters in /Users/mfisherlevine/Downloads/160906_background1/02/background_2016_09_06_10_56_24_450.txt - TCUT = 257\n",
      "Found 1 clusters in /Users/mfisherlevine/Downloads/160906_background1/01/background_2016_09_06_10_08_41_538.txt - TCUT = 257\n",
      "Centroided 21000 frames\n",
      "Found 1 clusters in /Users/mfisherlevine/Downloads/160906_background1/04/background_2016_09_06_12_23_06_437.txt - TCUT = 257\n",
      "Centroided 21500 frames\n",
      "Centroided 22000 frames\n",
      "Found 1 clusters in /Users/mfisherlevine/Downloads/160906_background1/03/background_2016_09_06_11_42_42_131.txt - TCUT = 257\n",
      "Centroided 22500 frames\n",
      "Found 1 clusters in /Users/mfisherlevine/Downloads/160906_background1/01/background_2016_09_06_09_50_17_503.txt - TCUT = 257\n",
      "Centroided 23000 frames\n",
      "Found 1 clusters in /Users/mfisherlevine/Downloads/160906_background1/03/background_2016_09_06_11_31_32_898.txt - TCUT = 257\n",
      "Found 1 clusters in /Users/mfisherlevine/Downloads/160906_background1/01/background_2016_09_06_10_20_07_068.txt - TCUT = 257\n",
      "Found 1 clusters in /Users/mfisherlevine/Downloads/160906_background1/02/background_2016_09_06_10_32_53_896.txt - TCUT = 257\n",
      "Centroided 23500 frames\n",
      "Centroided 24000 frames\n",
      "Centroided 24500 frames\n",
      "Centroided 25000 frames\n",
      "Centroided 25500 frames\n",
      "Found 1 clusters in /Users/mfisherlevine/Downloads/160906_background1/04/background_2016_09_06_12_31_54_199.txt - TCUT = 257\n",
      "Found 1 clusters in /Users/mfisherlevine/Downloads/160906_background1/02/background_2016_09_06_11_00_44_097.txt - TCUT = 257\n",
      "Centroided 26000 frames\n",
      "Found 1 clusters in /Users/mfisherlevine/Downloads/160906_background1/03/background_2016_09_06_11_55_54_923.txt - TCUT = 257\n",
      "Centroided 26500 frames\n",
      "Found 1 clusters in /Users/mfisherlevine/Downloads/160906_background1/02/background_2016_09_06_10_39_36_398.txt - TCUT = 257\n",
      "Centroided 27000 frames\n",
      "Found 1 clusters in /Users/mfisherlevine/Downloads/160906_background1/01/background_2016_09_06_09_58_15_724.txt - TCUT = 257\n",
      "Centroided 27500 frames\n",
      "Found 1 clusters in /Users/mfisherlevine/Downloads/160906_background1/02/background_2016_09_06_10_59_23_254.txt - TCUT = 257\n",
      "Found 1 clusters in /Users/mfisherlevine/Downloads/160906_background1/01/background_2016_09_06_10_20_27_509.txt - TCUT = 257\n",
      "Centroided 28000 frames\n",
      "Centroided 28500 frames\n",
      "Centroided 29000 frames\n",
      "Found 1 clusters in /Users/mfisherlevine/Downloads/160906_background1/01/background_2016_09_06_10_07_59_464.txt - TCUT = 257\n",
      "Centroided 29500 frames\n",
      "Found 1 clusters in /Users/mfisherlevine/Downloads/160906_background1/02/background_2016_09_06_11_00_45_427.txt - TCUT = 257\n",
      "Found 1 clusters in /Users/mfisherlevine/Downloads/160906_background1/03/background_2016_09_06_11_53_56_453.txt - TCUT = 257\n",
      "Centroided 30000 frames\n",
      "Centroided 30500 frames\n",
      "Centroided 31000 frames\n",
      "Centroided 31500 frames\n",
      "Centroided 32000 frames\n",
      "Found 1 clusters in /Users/mfisherlevine/Downloads/160906_background1/02/background_2016_09_06_10_57_42_080.txt - TCUT = 257\n",
      "Found 1 clusters in /Users/mfisherlevine/Downloads/160906_background1/03/background_2016_09_06_11_18_55_506.txt - TCUT = 257\n",
      "Found 1 clusters in /Users/mfisherlevine/Downloads/160906_background1/03/background_2016_09_06_11_43_55_553.txt - TCUT = 257\n",
      "Centroided 32500 frames\n",
      "Found 1 clusters in /Users/mfisherlevine/Downloads/160906_background1/02/background_2016_09_06_11_06_26_664.txt - TCUT = 257\n",
      "Found 1 clusters in /Users/mfisherlevine/Downloads/160906_background1/02/background_2016_09_06_11_04_17_144.txt - TCUT = 257\n",
      "Found 1 clusters in /Users/mfisherlevine/Downloads/160906_background1/01/background_2016_09_06_10_02_47_141.txt - TCUT = 257\n",
      "Centroided 33000 frames\n",
      "Found 1 clusters in /Users/mfisherlevine/Downloads/160906_background1/02/background_2016_09_06_11_01_56_634.txt - TCUT = 257\n",
      "Found 1 clusters in /Users/mfisherlevine/Downloads/160906_background1/01/background_2016_09_06_10_27_34_972.txt - TCUT = 257\n",
      "Found 1 clusters in /Users/mfisherlevine/Downloads/160906_background1/04/background_2016_09_06_12_12_27_314.txt - TCUT = 257\n",
      "Found 1 clusters in /Users/mfisherlevine/Downloads/160906_background1/02/background_2016_09_06_10_59_52_281.txt - TCUT = 257\n",
      "Centroided 33500 frames\n",
      "Found 1 clusters in /Users/mfisherlevine/Downloads/160906_background1/04/background_2016_09_06_12_34_48_119.txt - TCUT = 257\n",
      "Centroided 34000 frames\n",
      "Found 1 clusters in /Users/mfisherlevine/Downloads/160906_background1/02/background_2016_09_06_10_36_42_218.txt - TCUT = 257\n",
      "Centroided 34500 frames\n",
      "Found 1 clusters in /Users/mfisherlevine/Downloads/160906_background1/03/background_2016_09_06_11_26_21_504.txt - TCUT = 257\n",
      "Found 1 clusters in /Users/mfisherlevine/Downloads/160906_background1/01/background_2016_09_06_10_03_54_167.txt - TCUT = 257\n",
      "Centroided 35000 frames\n",
      "Centroided 35500 frames\n",
      "Centroided 36000 frames\n",
      "Found 1 clusters in /Users/mfisherlevine/Downloads/160906_background1/04/background_2016_09_06_12_37_00_796.txt - TCUT = 257\n",
      "Centroided 36500 frames\n",
      "Centroided 37000 frames\n",
      "Centroided 37500 frames\n",
      "Found 1 clusters in /Users/mfisherlevine/Downloads/160906_background1/03/background_2016_09_06_11_52_43_137.txt - TCUT = 257\n",
      "Centroided 38000 frames\n",
      "Centroided 38500 frames\n",
      "Found 1 clusters in /Users/mfisherlevine/Downloads/160906_background1/01/background_2016_09_06_09_46_18_029.txt - TCUT = 257\n",
      "Centroided 39000 frames\n",
      "Found 1 clusters in /Users/mfisherlevine/Downloads/160906_background1/02/background_2016_09_06_10_56_13_976.txt - TCUT = 257\n",
      "Found 1 clusters in /Users/mfisherlevine/Downloads/160906_background1/02/background_2016_09_06_10_36_28_548.txt - TCUT = 257\n",
      "Found 1 clusters in /Users/mfisherlevine/Downloads/160906_background1/04/background_2016_09_06_12_34_49_349.txt - TCUT = 257\n",
      "Found 1 clusters in /Users/mfisherlevine/Downloads/160906_background1/04/background_2016_09_06_12_34_02_654.txt - TCUT = 257\n",
      "Centroided 39500 frames\n",
      "Centroided 40000 frames\n",
      "Centroided 40500 frames\n",
      "Found 1 clusters in /Users/mfisherlevine/Downloads/160906_background1/04/background_2016_09_06_12_09_28_711.txt - TCUT = 257\n",
      "Centroided 41000 frames\n",
      "Found 1 clusters in /Users/mfisherlevine/Downloads/160906_background1/03/background_2016_09_06_11_46_40_307.txt - TCUT = 257\n",
      "Centroided 41500 frames\n",
      "Found 1 clusters in /Users/mfisherlevine/Downloads/160906_background1/04/background_2016_09_06_12_10_09_559.txt - TCUT = 257\n",
      "Found 1 clusters in /Users/mfisherlevine/Downloads/160906_background1/03/background_2016_09_06_11_14_08_056.txt - TCUT = 257\n",
      "Centroided 42000 frames\n",
      "Found 1 clusters in /Users/mfisherlevine/Downloads/160906_background1/03/background_2016_09_06_11_43_41_852.txt - TCUT = 257\n",
      "Centroided 42500 frames\n",
      "Found 1 clusters in /Users/mfisherlevine/Downloads/160906_background1/01/background_2016_09_06_10_14_01_133.txt - TCUT = 257\n",
      "Found 1 clusters in /Users/mfisherlevine/Downloads/160906_background1/03/background_2016_09_06_11_36_16_116.txt - TCUT = 257\n",
      "Centroided 43000 frames\n",
      "Found 1 clusters in /Users/mfisherlevine/Downloads/160906_background1/01/background_2016_09_06_10_00_25_696.txt - TCUT = 257\n",
      "Found 1 clusters in /Users/mfisherlevine/Downloads/160906_background1/03/background_2016_09_06_11_38_48_775.txt - TCUT = 257\n",
      "Found 1 clusters in /Users/mfisherlevine/Downloads/160906_background1/03/background_2016_09_06_11_34_18_624.txt - TCUT = 257\n",
      "Centroided 43500 frames\n",
      "Found 1 clusters in /Users/mfisherlevine/Downloads/160906_background1/03/background_2016_09_06_11_38_20_297.txt - TCUT = 257\n",
      "Found 1 clusters in /Users/mfisherlevine/Downloads/160906_background1/02/background_2016_09_06_10_50_22_322.txt - TCUT = 257\n",
      "Found 1 clusters in /Users/mfisherlevine/Downloads/160906_background1/04/background_2016_09_06_12_20_09_908.txt - TCUT = 257\n",
      "Found 1 clusters in /Users/mfisherlevine/Downloads/160906_background1/02/background_2016_09_06_11_04_19_034.txt - TCUT = 257\n",
      "Centroided 44000 frames\n",
      "Found 1 clusters in /Users/mfisherlevine/Downloads/160906_background1/02/background_2016_09_06_10_35_40_624.txt - TCUT = 257\n",
      "Found 1 clusters in /Users/mfisherlevine/Downloads/160906_background1/02/background_2016_09_06_10_45_30_068.txt - TCUT = 257\n",
      "Centroided 44500 frames\n",
      "Found 1 clusters in /Users/mfisherlevine/Downloads/160906_background1/03/background_2016_09_06_11_56_46_721.txt - TCUT = 257\n",
      "Found 1 clusters in /Users/mfisherlevine/Downloads/160906_background1/02/background_2016_09_06_10_35_28_970.txt - TCUT = 257\n",
      "Found 1 clusters in /Users/mfisherlevine/Downloads/160906_background1/02/background_2016_09_06_11_04_53_917.txt - TCUT = 257\n",
      "Centroided 45000 frames\n",
      "Centroided 45500 frames\n",
      "Found 1 clusters in /Users/mfisherlevine/Downloads/160906_background1/04/background_2016_09_06_12_21_23_627.txt - TCUT = 257\n",
      "Centroided 46000 frames\n",
      "Found 1 clusters in /Users/mfisherlevine/Downloads/160906_background1/04/background_2016_09_06_12_09_39_250.txt - TCUT = 257\n",
      "Centroided 46500 frames\n",
      "Centroided 47000 frames\n",
      "Centroided 47500 frames\n",
      "Centroided 48000 frames\n",
      "Centroided 48500 frames\n",
      "Found 1 clusters in /Users/mfisherlevine/Downloads/160906_background1/04/background_2016_09_06_12_07_24_826.txt - TCUT = 257\n",
      "Centroided 49000 frames\n",
      "Centroided 49500 frames\n",
      "Centroided 50000 frames\n",
      "Centroided 50500 frames\n",
      "Found 1 clusters in /Users/mfisherlevine/Downloads/160906_background1/03/background_2016_09_06_11_20_26_555.txt - TCUT = 257\n",
      "Found 1 clusters in /Users/mfisherlevine/Downloads/160906_background1/01/background_2016_09_06_10_01_28_037.txt - TCUT = 257\n",
      "Centroided 51000 frames\n",
      "Centroided 51500 frames\n",
      "Centroided 52000 frames\n",
      "Centroided 52500 frames\n",
      "Found 1 clusters in /Users/mfisherlevine/Downloads/160906_background1/01/background_2016_09_06_09_49_59_813.txt - TCUT = 257\n",
      "Found 1 clusters in /Users/mfisherlevine/Downloads/160906_background1/01/background_2016_09_06_10_05_42_856.txt - TCUT = 257\n",
      "Found 1 clusters in /Users/mfisherlevine/Downloads/160906_background1/02/background_2016_09_06_10_56_43_430.txt - TCUT = 257\n",
      "Centroided 53000 frames\n",
      "Found 1 clusters in /Users/mfisherlevine/Downloads/160906_background1/01/background_2016_09_06_10_00_50_859.txt - TCUT = 257\n",
      "Found 1 clusters in /Users/mfisherlevine/Downloads/160906_background1/02/background_2016_09_06_10_48_49_738.txt - TCUT = 257\n",
      "Centroided 53500 frames\n",
      "Found 1 clusters in /Users/mfisherlevine/Downloads/160906_background1/02/background_2016_09_06_10_30_00_772.txt - TCUT = 257\n",
      "Found 1 clusters in /Users/mfisherlevine/Downloads/160906_background1/02/background_2016_09_06_10_32_01_404.txt - TCUT = 257\n",
      "Centroided 54000 frames\n",
      "Centroided 54500 frames\n",
      "Found 1 clusters in /Users/mfisherlevine/Downloads/160906_background1/01/background_2016_09_06_10_08_45_567.txt - TCUT = 257\n",
      "Found 1 clusters in /Users/mfisherlevine/Downloads/160906_background1/02/background_2016_09_06_11_00_10_376.txt - TCUT = 257\n",
      "Centroided 55000 frames\n",
      "Found 1 clusters in /Users/mfisherlevine/Downloads/160906_background1/02/background_2016_09_06_10_38_13_005.txt - TCUT = 257\n",
      "Found 1 clusters in /Users/mfisherlevine/Downloads/160906_background1/04/background_2016_09_06_12_19_15_446.txt - TCUT = 257\n",
      "Centroided 55500 frames\n",
      "Centroided 56000 frames\n",
      "Centroided 56500 frames\n",
      "Found 1 clusters in /Users/mfisherlevine/Downloads/160906_background1/04/background_2016_09_06_12_03_44_786.txt - TCUT = 257\n",
      "Centroided 57000 frames\n",
      "Centroided 57500 frames\n",
      "Found 1 clusters in /Users/mfisherlevine/Downloads/160906_background1/02/background_2016_09_06_10_41_44_282.txt - TCUT = 257\n",
      "Centroided 58000 frames\n",
      "Centroided 58500 frames\n",
      "Found 1 clusters in /Users/mfisherlevine/Downloads/160906_background1/04/background_2016_09_06_12_12_08_812.txt - TCUT = 257\n",
      "Found 1 clusters in /Users/mfisherlevine/Downloads/160906_background1/02/background_2016_09_06_10_52_44_034.txt - TCUT = 257\n",
      "Centroided 59000 frames\n",
      "Found 1 clusters in /Users/mfisherlevine/Downloads/160906_background1/01/background_2016_09_06_10_00_00_349.txt - TCUT = 257\n",
      "Found 1 clusters in /Users/mfisherlevine/Downloads/160906_background1/03/background_2016_09_06_11_21_00_191.txt - TCUT = 257\n",
      "Centroided 59500 frames\n",
      "Centroided 60000 frames\n",
      "Found 1 clusters in /Users/mfisherlevine/Downloads/160906_background1/02/background_2016_09_06_10_37_20_782.txt - TCUT = 257\n",
      "Found 1 clusters in /Users/mfisherlevine/Downloads/160906_background1/03/background_2016_09_06_11_27_11_355.txt - TCUT = 257\n",
      "Found 1 clusters in /Users/mfisherlevine/Downloads/160906_background1/04/background_2016_09_06_12_32_57_128.txt - TCUT = 257\n",
      "Centroided 60500 frames\n",
      "Found 1 clusters in /Users/mfisherlevine/Downloads/160906_background1/02/background_2016_09_06_11_04_13_594.txt - TCUT = 257\n",
      "Centroided 61000 frames\n",
      "Centroided 61500 frames\n",
      "Found 1 clusters in /Users/mfisherlevine/Downloads/160906_background1/01/background_2016_09_06_10_26_55_642.txt - TCUT = 257\n",
      "Found 1 clusters in /Users/mfisherlevine/Downloads/160906_background1/01/background_2016_09_06_10_19_25_255.txt - TCUT = 257\n",
      "Centroided 62000 frames\n",
      "Found 1 clusters in /Users/mfisherlevine/Downloads/160906_background1/03/background_2016_09_06_11_23_39_087.txt - TCUT = 257\n",
      "Centroided 62500 frames\n",
      "Found 1 clusters in /Users/mfisherlevine/Downloads/160906_background1/02/background_2016_09_06_11_02_18_232.txt - TCUT = 257\n",
      "Found 1 clusters in /Users/mfisherlevine/Downloads/160906_background1/01/background_2016_09_06_10_09_31_609.txt - TCUT = 257\n",
      "Centroided 63000 frames\n",
      "Centroided 63500 frames\n",
      "Found 1 clusters in /Users/mfisherlevine/Downloads/160906_background1/03/background_2016_09_06_11_46_15_811.txt - TCUT = 257\n",
      "Centroided 64000 frames\n",
      "Found 1 clusters in /Users/mfisherlevine/Downloads/160906_background1/02/background_2016_09_06_10_34_47_628.txt - TCUT = 257\n",
      "Found 1 clusters in /Users/mfisherlevine/Downloads/160906_background1/02/background_2016_09_06_10_33_30_130.txt - TCUT = 257\n",
      "Centroided 64500 frames\n",
      "Found 1 clusters in /Users/mfisherlevine/Downloads/160906_background1/04/background_2016_09_06_12_13_00_473.txt - TCUT = 257\n",
      "Found 1 clusters in /Users/mfisherlevine/Downloads/160906_background1/04/background_2016_09_06_12_33_08_677.txt - TCUT = 257\n",
      "Centroided 65000 frames\n",
      "Centroided 65500 frames\n",
      "Found 1 clusters in /Users/mfisherlevine/Downloads/160906_background1/01/background_2016_09_06_09_46_18_460.txt - TCUT = 257\n",
      "Centroided 66000 frames\n",
      "Found 1 clusters in /Users/mfisherlevine/Downloads/160906_background1/02/background_2016_09_06_10_55_05_013.txt - TCUT = 257\n",
      "Found 1 clusters in /Users/mfisherlevine/Downloads/160906_background1/01/background_2016_09_06_10_20_53_256.txt - TCUT = 257\n",
      "Centroided 66500 frames\n",
      "Centroided 67000 frames\n",
      "Found 1 clusters in /Users/mfisherlevine/Downloads/160906_background1/04/background_2016_09_06_12_21_51_068.txt - TCUT = 257\n",
      "Centroided 67500 frames\n",
      "Found 1 clusters in /Users/mfisherlevine/Downloads/160906_background1/03/background_2016_09_06_11_20_04_955.txt - TCUT = 257\n",
      "Centroided 68000 frames\n",
      "Centroided 68500 frames\n",
      "Found 1 clusters in /Users/mfisherlevine/Downloads/160906_background1/01/background_2016_09_06_10_06_33_267.txt - TCUT = 257\n",
      "Found 1 clusters in /Users/mfisherlevine/Downloads/160906_background1/03/background_2016_09_06_11_43_05_804.txt - TCUT = 257\n",
      "Found 1 clusters in /Users/mfisherlevine/Downloads/160906_background1/01/background_2016_09_06_10_00_04_379.txt - TCUT = 257\n",
      "Found 1 clusters in /Users/mfisherlevine/Downloads/160906_background1/03/background_2016_09_06_11_36_19_596.txt - TCUT = 257\n",
      "Centroided 69000 frames\n",
      "Centroided 69500 frames\n",
      "Centroided 70000 frames\n",
      "Centroided 70500 frames\n",
      "Found 1 clusters in /Users/mfisherlevine/Downloads/160906_background1/04/background_2016_09_06_12_20_54_022.txt - TCUT = 257\n",
      "Centroided 71000 frames\n",
      "Centroided 71500 frames\n",
      "Centroided 72000 frames\n",
      "Centroided 72500 frames\n",
      "Found 1 clusters in /Users/mfisherlevine/Downloads/160906_background1/04/background_2016_09_06_12_26_21_989.txt - TCUT = 257\n",
      "Centroided 73000 frames\n",
      "Found 1 clusters in /Users/mfisherlevine/Downloads/160906_background1/04/background_2016_09_06_12_33_02_118.txt - TCUT = 257\n",
      "Found 1 clusters in /Users/mfisherlevine/Downloads/160906_background1/02/background_2016_09_06_10_57_53_989.txt - TCUT = 257\n",
      "Centroided 73500 frames\n",
      "Found 1 clusters in /Users/mfisherlevine/Downloads/160906_background1/03/background_2016_09_06_11_32_20_346.txt - TCUT = 257\n",
      "Centroided 74000 frames\n",
      "Centroided 74500 frames\n",
      "Centroided 75000 frames\n",
      "Centroided 75500 frames\n",
      "Found 1 clusters in /Users/mfisherlevine/Downloads/160906_background1/02/background_2016_09_06_10_42_33_002.txt - TCUT = 257\n",
      "Found 1 clusters in /Users/mfisherlevine/Downloads/160906_background1/02/background_2016_09_06_10_59_58_663.txt - TCUT = 257\n",
      "Centroided 76000 frames\n",
      "Centroided 76500 frames\n",
      "Centroided 77000 frames\n",
      "Found 1 clusters in /Users/mfisherlevine/Downloads/160906_background1/04/background_2016_09_06_12_31_20_792.txt - TCUT = 257\n",
      "Centroided 77500 frames\n",
      "Centroided 78000 frames\n",
      "Centroided 78500 frames\n",
      "Found 1 clusters in /Users/mfisherlevine/Downloads/160906_background1/03/background_2016_09_06_11_47_57_311.txt - TCUT = 257\n",
      "Centroided 79000 frames\n",
      "Found 1 clusters in /Users/mfisherlevine/Downloads/160906_background1/02/background_2016_09_06_10_50_11_506.txt - TCUT = 257\n",
      "Found 1 clusters in /Users/mfisherlevine/Downloads/160906_background1/01/background_2016_09_06_10_18_38_916.txt - TCUT = 257\n",
      "Centroided 79500 frames\n",
      "Centroided 80000 frames\n",
      "Found 1 clusters in /Users/mfisherlevine/Downloads/160906_background1/01/background_2016_09_06_09_45_49_982.txt - TCUT = 257\n",
      "Found 1 clusters in /Users/mfisherlevine/Downloads/160906_background1/04/background_2016_09_06_12_11_42_248.txt - TCUT = 257\n",
      "Centroided 80500 frames\n",
      "Centroided 81000 frames\n",
      "Found 1 clusters in /Users/mfisherlevine/Downloads/160906_background1/02/background_2016_09_06_10_46_41_280.txt - TCUT = 257\n",
      "Centroided 81500 frames\n",
      "Found 1 clusters in /Users/mfisherlevine/Downloads/160906_background1/02/background_2016_09_06_10_50_30_354.txt - TCUT = 257\n",
      "Centroided 82000 frames\n",
      "Centroided 82500 frames\n",
      "Centroided 83000 frames\n",
      "Found 1 clusters in /Users/mfisherlevine/Downloads/160906_background1/02/background_2016_09_06_10_42_37_702.txt - TCUT = 257\n",
      "Found 1 clusters in /Users/mfisherlevine/Downloads/160906_background1/04/background_2016_09_06_12_02_04_742.txt - TCUT = 257\n",
      "Centroided 83500 frames\n",
      "Centroided 84000 frames\n",
      "Centroided 84500 frames\n",
      "Found 1 clusters in /Users/mfisherlevine/Downloads/160906_background1/03/background_2016_09_06_11_37_28_790.txt - TCUT = 257\n",
      "Centroided 85000 frames\n",
      "Found 1 clusters in /Users/mfisherlevine/Downloads/160906_background1/02/background_2016_09_06_10_52_33_865.txt - TCUT = 257\n",
      "Found 1 clusters in /Users/mfisherlevine/Downloads/160906_background1/04/background_2016_09_06_12_19_26_858.txt - TCUT = 257\n",
      "Centroided 85500 frames\n",
      "Centroided 86000 frames\n",
      "Found 1 clusters in /Users/mfisherlevine/Downloads/160906_background1/04/background_2016_09_06_12_18_28_607.txt - TCUT = 257\n",
      "Found 1 clusters in /Users/mfisherlevine/Downloads/160906_background1/04/background_2016_09_06_12_29_43_954.txt - TCUT = 257\n",
      "Centroided 86500 frames\n",
      "Found 1 clusters in /Users/mfisherlevine/Downloads/160906_background1/04/background_2016_09_06_12_39_46_052.txt - TCUT = 257\n",
      "Found 1 clusters in /Users/mfisherlevine/Downloads/160906_background1/02/background_2016_09_06_10_31_46_347.txt - TCUT = 257\n",
      "Centroided 87000 frames\n",
      "Found 1 clusters in /Users/mfisherlevine/Downloads/160906_background1/02/background_2016_09_06_10_44_43_432.txt - TCUT = 257\n",
      "Centroided 87500 frames\n",
      "Found 1 clusters in /Users/mfisherlevine/Downloads/160906_background1/04/background_2016_09_06_12_35_03_696.txt - TCUT = 257\n",
      "Centroided 88000 frames\n",
      "Centroided 88500 frames\n",
      "Centroided 89000 frames\n",
      "Centroided 89500 frames\n",
      "Found 1 clusters in /Users/mfisherlevine/Downloads/160906_background1/04/background_2016_09_06_12_27_50_459.txt - TCUT = 257\n",
      "Found 1 clusters in /Users/mfisherlevine/Downloads/160906_background1/04/background_2016_09_06_12_09_42_287.txt - TCUT = 257\n",
      "Centroided 90000 frames\n",
      "Found 1 clusters in /Users/mfisherlevine/Downloads/160906_background1/01/background_2016_09_06_10_19_01_182.txt - TCUT = 257\n",
      "Found 1 clusters in /Users/mfisherlevine/Downloads/160906_background1/01/background_2016_09_06_10_12_41_374.txt - TCUT = 257\n",
      "Centroided 90500 frames\n",
      "Found 1 clusters in /Users/mfisherlevine/Downloads/160906_background1/04/background_2016_09_06_12_33_31_256.txt - TCUT = 257\n",
      "Found 1 clusters in /Users/mfisherlevine/Downloads/160906_background1/03/background_2016_09_06_11_23_46_390.txt - TCUT = 257\n",
      "Centroided 91000 frames\n",
      "Centroided 91500 frames\n",
      "Centroided 92000 frames\n",
      "Found 1 clusters in /Users/mfisherlevine/Downloads/160906_background1/03/background_2016_09_06_11_53_50_782.txt - TCUT = 257\n",
      "Found 1 clusters in /Users/mfisherlevine/Downloads/160906_background1/04/background_2016_09_06_12_19_54_626.txt - TCUT = 257\n",
      "Centroided 92500 frames\n",
      "Found 1 clusters in /Users/mfisherlevine/Downloads/160906_background1/01/background_2016_09_06_10_20_21_628.txt - TCUT = 257\n",
      "Found 1 clusters in /Users/mfisherlevine/Downloads/160906_background1/02/background_2016_09_06_10_33_05_115.txt - TCUT = 257\n",
      "Centroided 93000 frames\n",
      "Centroided 93500 frames\n",
      "Found 1 clusters in /Users/mfisherlevine/Downloads/160906_background1/02/background_2016_09_06_11_04_50_155.txt - TCUT = 257\n",
      "Centroided 94000 frames\n",
      "Found 1 clusters in /Users/mfisherlevine/Downloads/160906_background1/04/background_2016_09_06_12_34_22_555.txt - TCUT = 257\n",
      "Centroided 94500 frames\n",
      "Centroided 95000 frames\n",
      "Centroided 95500 frames\n",
      "Found 1 clusters in /Users/mfisherlevine/Downloads/160906_background1/01/background_2016_09_06_09_57_34_947.txt - TCUT = 257\n",
      "Centroided 96000 frames\n",
      "Centroided 96500 frames\n",
      "Centroided 97000 frames\n",
      "Found 1 clusters in /Users/mfisherlevine/Downloads/160906_background1/01/background_2016_09_06_09_56_54_168.txt - TCUT = 257\n",
      "Found 1 clusters in /Users/mfisherlevine/Downloads/160906_background1/02/background_2016_09_06_10_58_54_039.txt - TCUT = 257\n",
      "Found 1 clusters in /Users/mfisherlevine/Downloads/160906_background1/01/background_2016_09_06_09_56_13_191.txt - TCUT = 257\n",
      "Centroided 97500 frames\n",
      "Centroided 98000 frames\n",
      "Found 1 clusters in /Users/mfisherlevine/Downloads/160906_background1/01/background_2016_09_06_09_48_37_058.txt - TCUT = 257\n",
      "Centroided 98500 frames\n",
      "Centroided 99000 frames\n",
      "Centroided 99500 frames\n",
      "Found 1 clusters in /Users/mfisherlevine/Downloads/160906_background1/04/background_2016_09_06_12_37_15_232.txt - TCUT = 257\n",
      "Finished IR\n"
     ]
    }
   ],
   "source": [
    "fn = reload(fn)\n",
    "import time\n",
    "\n",
    "# NB These are different units!\n",
    "TCUT = 257 #Raw timecode cut for centroiding\n",
    "# TZERO = 1700 #Time, in ns, after inversion and conversion, to set as t0\n",
    "TZERO = 0 #Time, in ns, after inversion and conversion, to set as t0\n",
    "\n",
    "run_id = 'tcut%s_tzero%s'%(TCUT, TZERO)\n",
    "\n",
    "now = time.time()\n",
    "for i, filename in enumerate(tp_data_ir.keys()):\n",
    "    if i%500==0:print 'Centroided %s frames'%i; sys.stdout.flush()\n",
    "\n",
    "    filename = tp_data_ir[filename]['filename']\n",
    "    dummy, xs, ys, ts, npixs = fn.GetCentroidsXYTFromFile(filename, TCUT,winow_xmax=XMAX,winow_xmin=XMIN,winow_ymax=YMAX,winow_ymin=YMIN,skiplines=1)#, gating=[8400,8])\n",
    "    tp_data_ir[filename]['xs'] = xs\n",
    "    tp_data_ir[filename]['ys'] = ys\n",
    "#         tp_data[filename]['ts'] = [(_-TZERO)*20 for _ in ts]#already inverted, just translate to ns\n",
    "    tp_data_ir[filename]['ts'] = [(_-TZERO) for _ in ts]#already inverted, just translate to ns\n",
    "    tp_data_ir[filename]['npixs'] = npixs\n",
    "    tp_data_ir[filename]['n_ions'] = len(xs)\n",
    "print 'Finished IR'\n"
   ]
  },
  {
   "cell_type": "code",
   "execution_count": 24,
   "metadata": {
    "collapsed": false
   },
   "outputs": [
    {
     "name": "stdout",
     "output_type": "stream",
     "text": [
      "IR: Collated centroided timecodes from 100000 shots\n",
      "IR: 2627543 times in total\n"
     ]
    }
   ],
   "source": [
    "# Put all the centroided timecodes in a single list for convenience\n",
    "all_ts_ir = []\n",
    "n_loaded = 0\n",
    "for bunchID in tp_data_ir.keys():\n",
    "    if 'ts' in tp_data_ir[bunchID].keys():\n",
    "        all_ts_ir.extend(tp_data_ir[bunchID]['ts'])\n",
    "        n_loaded += 1\n",
    "print 'IR: Collated centroided timecodes from %s shots'%n_loaded\n",
    "print 'IR: %s times in total'%len(all_ts_ir)\n"
   ]
  },
  {
   "cell_type": "code",
   "execution_count": 25,
   "metadata": {
    "collapsed": false
   },
   "outputs": [
    {
     "name": "stdout",
     "output_type": "stream",
     "text": [
      "IR: 2315081 times in total\n"
     ]
    }
   ],
   "source": [
    "# Put all the centroided timecodes in a single list for convenience\n",
    "all_ts_4pix_ir = []\n",
    "n_loaded = 0\n",
    "for bunchID in tp_data_ir.keys():\n",
    "    if 'ts' in tp_data_ir[bunchID].keys():\n",
    "        for npix, t in zip(tp_data_ir[bunchID]['npixs'],tp_data_ir[bunchID]['ts']):\n",
    "            if npix>=4:\n",
    "                all_ts_4pix_ir.append(t)\n",
    "                n_loaded += 1\n",
    "print 'IR: %s times in total'%len(all_ts_4pix_ir)\n",
    "    "
   ]
  },
  {
   "cell_type": "code",
   "execution_count": null,
   "metadata": {
    "collapsed": false
   },
   "outputs": [],
   "source": [
    "count = 0\n",
    "for bunchID in tp_data_ir.keys():\n",
    "    count += len(tp_data_ir[bunchID]['ts'])\n",
    "print count"
   ]
  },
  {
   "cell_type": "raw",
   "metadata": {},
   "source": [
    "Make the same plot as before, but plotting the number of ions, rather than the number of timecodes. After that, we'll look at the correlation for single ion species (just because it's easy)."
   ]
  },
  {
   "cell_type": "raw",
   "metadata": {},
   "source": [
    "Let's look at the TOF spectrum, including the raw spectrum:"
   ]
  },
  {
   "cell_type": "code",
   "execution_count": 18,
   "metadata": {
    "collapsed": false
   },
   "outputs": [
    {
     "name": "stdout",
     "output_type": "stream",
     "text": [
      "Loaded 0 files\n",
      "Loaded 1000 files\n",
      "Loaded 2000 files\n",
      "Loaded 3000 files\n",
      "Loaded 4000 files\n",
      "Loaded 5000 files\n",
      "Loaded 6000 files\n",
      "Loaded 7000 files\n",
      "Loaded 8000 files\n",
      "Loaded 9000 files\n",
      "Loaded 10000 files\n",
      "Loaded 11000 files\n",
      "Loaded 12000 files\n",
      "Loaded 13000 files\n",
      "Loaded 14000 files\n",
      "Loaded 15000 files\n",
      "Loaded 16000 files\n",
      "Loaded 17000 files\n",
      "Loaded 18000 files\n",
      "Loaded 19000 files\n",
      "Loaded 20000 files\n",
      "Loaded 21000 files\n",
      "Loaded 22000 files\n",
      "Loaded 23000 files\n",
      "Loaded 24000 files\n",
      "Loaded 25000 files\n",
      "Loaded 26000 files\n",
      "Loaded 27000 files\n",
      "Loaded 28000 files\n",
      "Loaded 29000 files\n",
      "Loaded 30000 files\n",
      "Loaded 31000 files\n",
      "Loaded 32000 files\n",
      "Loaded 33000 files\n",
      "Loaded 34000 files\n",
      "Loaded 35000 files\n",
      "Loaded 36000 files\n",
      "Loaded 37000 files\n",
      "Loaded 38000 files\n",
      "Loaded 39000 files\n",
      "Loaded 40000 files\n",
      "Loaded 41000 files\n",
      "Loaded 42000 files\n",
      "Loaded 43000 files\n",
      "Loaded 44000 files\n",
      "Loaded 45000 files\n",
      "Loaded 46000 files\n",
      "Loaded 47000 files\n",
      "Loaded 48000 files\n",
      "Loaded 49000 files\n",
      "Loaded 50000 files\n",
      "Loaded 51000 files\n",
      "Loaded 52000 files\n",
      "Loaded 53000 files\n",
      "Loaded 54000 files\n",
      "Loaded 55000 files\n",
      "Loaded 56000 files\n",
      "Loaded 57000 files\n",
      "Loaded 58000 files\n",
      "Loaded 59000 files\n",
      "Loaded 60000 files\n",
      "Loaded 61000 files\n",
      "Loaded 62000 files\n",
      "Loaded 63000 files\n",
      "Loaded 64000 files\n",
      "Loaded 65000 files\n",
      "Loaded 66000 files\n",
      "Loaded 67000 files\n",
      "Loaded 68000 files\n",
      "Loaded 69000 files\n",
      "Loaded 70000 files\n",
      "Loaded 71000 files\n",
      "Loaded 72000 files\n",
      "Loaded 73000 files\n",
      "Loaded 74000 files\n",
      "Loaded 75000 files\n",
      "Loaded 76000 files\n",
      "Loaded 77000 files\n",
      "Loaded 78000 files\n",
      "Loaded 79000 files\n",
      "Loaded 80000 files\n",
      "Loaded 81000 files\n",
      "Loaded 82000 files\n",
      "Loaded 83000 files\n",
      "Loaded 84000 files\n",
      "Loaded 85000 files\n",
      "Loaded 86000 files\n",
      "Loaded 87000 files\n",
      "Loaded 88000 files\n",
      "Loaded 89000 files\n",
      "Loaded 90000 files\n",
      "Loaded 91000 files\n",
      "Loaded 92000 files\n",
      "Loaded 93000 files\n",
      "Loaded 94000 files\n",
      "Loaded 95000 files\n",
      "Loaded 96000 files\n",
      "Loaded 97000 files\n",
      "Loaded 98000 files\n",
      "Loaded 99000 files\n",
      "IR: Loaded 24497121 raw timecodes\n"
     ]
    }
   ],
   "source": [
    "# Load the raw timecodes, converting the same way as the others\n",
    "fn = reload(fn)\n",
    "\n",
    "raw_timecodes_ir = []\n",
    "for i, filename in enumerate(tp_datafiles_ir):\n",
    "    if i%1000==0: print 'Loaded %s files'%i; sys.stdout.flush()\n",
    "#     raw_timecodes_ir.extend(((11810-_)-TZERO) for _ in fn.GetTimecodes_SingleFile(filename, skiplines=0))\n",
    "    raw_timecodes_ir.extend(((11810-_)-TZERO) for _ in fn.GetTimecodes_SingleFile(filename, skiplines=1,winow_xmax=XMAX,winow_xmin=XMIN,winow_ymax=YMAX,winow_ymin=YMIN))\n",
    "print 'IR: Loaded %s raw timecodes'%len(raw_timecodes_ir)\n"
   ]
  },
  {
   "cell_type": "code",
   "execution_count": null,
   "metadata": {
    "collapsed": false
   },
   "outputs": [],
   "source": [
    "print len(tp_datafiles_ir)"
   ]
  },
  {
   "cell_type": "code",
   "execution_count": 26,
   "metadata": {
    "collapsed": false
   },
   "outputs": [
    {
     "name": "stdout",
     "output_type": "stream",
     "text": [
      "Raw timecode histogram:\n"
     ]
    },
    {
     "data": {
      "image/png": "[encoded data removed]",
      "text/plain": [
       "<matplotlib.figure.Figure at 0x16bfbe0d0>"
      ]
     },
     "metadata": {},
     "output_type": "display_data"
    },
    {
     "name": "stdout",
     "output_type": "stream",
     "text": [
      "Centroided histogram:\n"
     ]
    },
    {
     "data": {
      "image/png": "[encoded data removed]",
      "text/plain": [
       "<matplotlib.figure.Figure at 0x16c255610>"
      ]
     },
     "metadata": {},
     "output_type": "display_data"
    },
    {
     "name": "stdout",
     "output_type": "stream",
     "text": [
      "With 4 pixel threshold:\n"
     ]
    },
    {
     "data": {
      "image/png": "[encoded data removed]",
      "text/plain": [
       "<matplotlib.figure.Figure at 0x16b9077d0>"
      ]
     },
     "metadata": {},
     "output_type": "display_data"
    }
   ],
   "source": [
    "# range = [900,1200]\n",
    "range = [0,11810]\n",
    "\n",
    "############\n",
    "# for the raw spectrum:\n",
    "\n",
    "y_rescale = 1.1 # big peak is too big, so clip y-axis by rescaling to this fraction of max\n",
    "bins = min(int((max(raw_timecodes_ir)-min(raw_timecodes_ir)+1)),(range[1]-range[0]+1))\n",
    "# print bins\n",
    "bins = 200\n",
    "fig = pl.figure(figsize=[16,4])\n",
    "ax = pl.subplot(111)\n",
    "\n",
    "# as a hist\n",
    "print 'Raw timecode histogram:'\n",
    "ys_ir, binEdges_ir, dummy1 = pl.hist(raw_timecodes_ir, bins=bins, range=range, histtype = 'step')\n",
    "# bincenters = 0.5*(binEdges[1:]+binEdges[:-1])\n",
    "lims = pl.ylim()\n",
    "pl.ylim([lims[0], y_rescale*max(ys_ir)])\n",
    "# ax.set_xticks(ticks, minor=False)\n",
    "# turn_raw, stat_raw, troughs_raw, peaks_raw = fn.GetTurningPoints(ys, bincenters, noise=20)\n",
    "# ax.set_xticks(troughs_raw, minor=False)\n",
    "ax.xaxis.grid(True, which='major')\n",
    "pl.xlim(range[0],range[1])\n",
    "pl.show()\n",
    "\n",
    "\n",
    "############\n",
    "# for the centroided spectrum:\n",
    "\n",
    "y_rescale = 1.1 # big peak is too big, so clip y-axis by rescaling to this fraction of max\n",
    "# bins = min(int((max(all_ts)-min(all_ts)+1)),(range[1]-range[0]+1))\n",
    "\n",
    "fig = pl.figure(figsize=[16,4])\n",
    "ax = pl.subplot(111)\n",
    "\n",
    "# as a hist\n",
    "print 'Centroided histogram:'\n",
    "ys_ir, binEdges_ir, dummy1 = pl.hist(all_ts_ir, bins=bins, range=range, histtype = 'step')\n",
    "\n",
    "# bincenters = 0.5*(binEdges[1:]+binEdges[:-1])\n",
    "# turn_cent, stat_cent, troughs_cent, peaks_cent = fn.GetTurningPoints(ys, bincenters, noise=1)\n",
    "lims = pl.ylim()\n",
    "pl.xlim(range[0],range[1])\n",
    "pl.ylim([lims[0], y_rescale*max(ys_ir)])\n",
    "# ax.set_xticks(troughs_cent, minor=False)\n",
    "ax.xaxis.grid(True, which='major')\n",
    "pl.show()\n",
    "\n",
    "# as a hist\n",
    "fig = pl.figure(figsize=[16,4])\n",
    "ax = pl.subplot(111)\n",
    "print 'With 4 pixel threshold:'\n",
    "ys_ir, binEdges_ir, dummy1 = pl.hist(all_ts_4pix_ir, bins=bins, range=range, histtype = 'step')\n",
    "\n",
    "# bincenters = 0.5*(binEdges[1:]+binEdges[:-1])\n",
    "# turn_cent, stat_cent, troughs_cent, peaks_cent = fn.GetTurningPoints(ys, bincenters, noise=0)\n",
    "lims = pl.ylim()\n",
    "pl.xlim(range[0],range[1])\n",
    "pl.ylim([lims[0], y_rescale*max(ys_ir)])\n",
    "# ax.set_xticks(troughs_cent, minor=False)\n",
    "ax.xaxis.grid(True, which='major')\n",
    "pl.show()\n"
   ]
  },
  {
   "cell_type": "code",
   "execution_count": null,
   "metadata": {
    "collapsed": false,
    "scrolled": true
   },
   "outputs": [],
   "source": [
    "for t, y in zip(binEdges_ir,ys_ir):\n",
    "    print t, y"
   ]
  },
  {
   "cell_type": "raw",
   "metadata": {},
   "source": [
    "Make a VMI image for each band. Whilst it looks like the loop is nested backward, I wrote it the other way around too and it's actually no faster as python's tpye checking during the band finding is so slow, and it's easier to understand and debug this way around."
   ]
  },
  {
   "cell_type": "code",
   "execution_count": 34,
   "metadata": {
    "collapsed": false
   },
   "outputs": [],
   "source": [
    "bands = []\n",
    "# # for i in xrange(len(troughs_cent)-1):\n",
    "# #     bands.append((troughs_cent[i],troughs_cent[i+1]))\n",
    "# # print bands\n",
    "# bands.append([0,250])\n",
    "\n",
    "# bands.append([900,910])\n",
    "# bands.append([910,920])\n",
    "# bands.append([920,930])\n",
    "# bands.append([930,940])\n",
    "# bands.append([940,950])\n",
    "# bands.append([950,1000])\n",
    "# bands.append([1000,1200])\n",
    "\n",
    "bands.append([0,11810])\n",
    "\n",
    "# bands.append([2000,11810])\n"
   ]
  },
  {
   "cell_type": "code",
   "execution_count": 41,
   "metadata": {
    "collapsed": false
   },
   "outputs": [
    {
     "name": "stdout",
     "output_type": "stream",
     "text": [
      "Processing band 1 of 1\n"
     ]
    },
    {
     "name": "stderr",
     "output_type": "stream",
     "text": [
      "/Users/mfisherlevine/anaconda/lib/python2.7/site-packages/ipykernel/__main__.py:17: VisibleDeprecationWarning: using a non-integer number instead of an integer will result in an error in the future\n"
     ]
    },
    {
     "name": "stdout",
     "output_type": "stream",
     "text": [
      "Took 2.4 secs\n"
     ]
    }
   ],
   "source": [
    "#probably don't need to rerun this, and it takes ages, so don't do it by accident:\n",
    "if True: \n",
    "    import time\n",
    "    now = time.time()\n",
    "    n_bunches = 999999\n",
    "\n",
    "    images_ir = [np.zeros((256,256), dtype = np.float64) for _ in bands]\n",
    "    for i, t_range in enumerate(bands):\n",
    "        print 'Processing band %s of %s'%(i+1, len(bands))\n",
    "        for bunchID in sorted(tp_data_ir.keys())[:min(n_bunches,tp_data_ir.keys())]:\n",
    "            for x,y,t,npix in zip(tp_data_ir[bunchID]['xs'],\n",
    "                                  tp_data_ir[bunchID]['ys'],\n",
    "                                  tp_data_ir[bunchID]['ts'],\n",
    "                                  tp_data_ir[bunchID]['npixs']):\n",
    "                if npix >=2: continue\n",
    "                if t >= t_range[0] and t<t_range[1]:\n",
    "                    images_ir[i][x][y] += 1\n",
    "\n",
    "#                     images_ir[i] += fn.makeGaussian(256,1,1,[x,y])\n",
    "#                     images_ir[i] += fn.makeGaussian(256,1,(npix**.5)/1.5,[x,y])\n",
    "\n",
    "    print 'Took %.1f secs'%(time.time()-now)\n"
   ]
  },
  {
   "cell_type": "code",
   "execution_count": 42,
   "metadata": {
    "collapsed": false
   },
   "outputs": [
    {
     "data": {
      "text/plain": [
       "<matplotlib.image.AxesImage at 0x125e2cd10>"
      ]
     },
     "execution_count": 42,
     "metadata": {},
     "output_type": "execute_result"
    },
    {
     "data": {
      "image/png": "[encoded data removed]",
      "text/plain": [
       "<matplotlib.figure.Figure at 0x1282efdd0>"
      ]
     },
     "metadata": {},
     "output_type": "display_data"
    }
   ],
   "source": [
    "fn.DisplayImage(np.rot90(images_ir[0],2), cmap='gray', vmax=np.percentile(images_ir[0],99.99), savefig='/Users/mfisherlevine/Desktop/usaf.pdf')#, vmax=150)"
   ]
  },
  {
   "cell_type": "code",
   "execution_count": null,
   "metadata": {
    "collapsed": true
   },
   "outputs": [],
   "source": []
  },
  {
   "cell_type": "code",
   "execution_count": null,
   "metadata": {
    "collapsed": true
   },
   "outputs": [],
   "source": []
  },
  {
   "cell_type": "code",
   "execution_count": null,
   "metadata": {
    "collapsed": false
   },
   "outputs": [],
   "source": [
    "#### pickle the bands and their images\n",
    "pickle_filename = '/Users/mfisherlevine/Desktop/desy/pickles/run'+run_id+'_VMIs.pickle'\n",
    "\n",
    "if False: #C areful, this will overwrite the good pickles if you accidentally run it!\n",
    "    pickle_file = open(pickle_filename, 'wb')\n",
    "    pickle.dump([bands, images], pickle_file)\n",
    "    pickle_file.close()\n",
    "\n",
    "\n",
    "#### Load the bands and their images from the pickle:\n",
    "if True:\n",
    "    print 'Unpickling...'; sys.stdout.flush()\n",
    "    pickle_file = open(pickle_filename, 'rb')\n",
    "    [bands, images] = pickle.load(pickle_file)\n",
    "    pickle_file.close()\n",
    "    print 'Loaded bands and images'"
   ]
  },
  {
   "cell_type": "raw",
   "metadata": {},
   "source": [
    "Plot all the VMI images and give them an appropraite title."
   ]
  },
  {
   "cell_type": "code",
   "execution_count": null,
   "metadata": {
    "collapsed": true
   },
   "outputs": [],
   "source": [
    "from collections import defaultdict\n",
    "time_matrix = defaultdict(lambda  : defaultdict(list))\n",
    "time_matrix[0][0].append('s1')\n"
   ]
  },
  {
   "cell_type": "code",
   "execution_count": null,
   "metadata": {
    "collapsed": false
   },
   "outputs": [],
   "source": [
    "thr = 0.001\n",
    "n_bunches = 10000\n",
    "\n",
    "from collections import defaultdict\n",
    "time_matrix = defaultdict(lambda  : defaultdict(list))\n",
    "\n",
    "now = time.time()\n",
    "tmp_img = np.zeros((256,256), dtype = np.float64)\n",
    "for bunchID in sorted(tp_data_ir.keys())[:min(n_bunches,tp_data_ir.keys())]:\n",
    "    for x,y,t,npix in zip(tp_data_ir[bunchID]['xs'],\n",
    "                          tp_data_ir[bunchID]['ys'],\n",
    "                          tp_data_ir[bunchID]['ts'],\n",
    "                          tp_data_ir[bunchID]['npixs']):\n",
    "        tmp_img = fn.makeGaussian(256,1,1,[x,y])\n",
    "#         tmp_img = fn.makeGaussian(256,1,(npix**.5)/1.5,[x,y])\n",
    "        pixels = np.where(tmp_img>=thr)\n",
    "        for (x,y) in zip(pixels[0],pixels[1]):\n",
    "            time_matrix[x][y].append((t, tmp_img[x][y]))\n",
    "\n",
    "            \n",
    "print 'Took %.1f secs'%(time.time()-now)\n"
   ]
  },
  {
   "cell_type": "code",
   "execution_count": null,
   "metadata": {
    "collapsed": false
   },
   "outputs": [],
   "source": [
    "print time_matrix[100][150]\n"
   ]
  },
  {
   "cell_type": "code",
   "execution_count": null,
   "metadata": {
    "collapsed": false
   },
   "outputs": [],
   "source": [
    "# def time_from_tuple_list(data):\n",
    "#     multiplier = 100\n",
    "#     temp = np.asarray(data)\n",
    "#     xs = temp[:,0]\n",
    "#     ys = temp[:,1]\n",
    "#     tmp = []\n",
    "#     for i in xrange(len(xs)):\n",
    "#         weight = int(ys[i]*multiplier)\n",
    "#         for _ in xrange(weight):\n",
    "#             tmp.append(xs[i])\n",
    "#     return np.mean(np.asarray(tmp)), np.std(np.asarray(tmp))\n",
    "\n",
    "def std_custom(data, t_zero=917):\n",
    "    multiplier = 100\n",
    "    temp = np.asarray(data)\n",
    "    xs = temp[:,0]\n",
    "    ys = temp[:,1]\n",
    "    del temp\n",
    "    npts = 0.\n",
    "    sum_2 = 0.\n",
    "    for i in xrange(len(xs)):\n",
    "        if xs[i] > t_zero + 500: continue\n",
    "        weight = int(ys[i]*multiplier)\n",
    "        for _ in xrange(weight):\n",
    "#             print xs[i]\n",
    "#             break\n",
    "            sum_2 += (xs[i] - t_zero)**2\n",
    "            npts += 1.\n",
    "    if npts ==0: return 0\n",
    "    return (float(sum_2) / float(npts))**.5\n",
    "\n",
    "test = time_matrix[150][101]\n",
    "# print test\n",
    "std = std_custom(test)\n",
    "print std"
   ]
  },
  {
   "cell_type": "code",
   "execution_count": null,
   "metadata": {
    "collapsed": false
   },
   "outputs": [],
   "source": [
    "print len(time_matrix[100][100])"
   ]
  },
  {
   "cell_type": "code",
   "execution_count": null,
   "metadata": {
    "collapsed": false
   },
   "outputs": [],
   "source": [
    "fn.DisplayImage(time_matrix_npts_image_std, vmax=150)"
   ]
  },
  {
   "cell_type": "code",
   "execution_count": null,
   "metadata": {
    "collapsed": false,
    "scrolled": true
   },
   "outputs": [],
   "source": [
    "time_matrix_npts_image_mean = np.zeros((256,256), dtype = np.float64)\n",
    "time_matrix_npts_image_std = np.zeros((256,256), dtype = np.float64)\n",
    "\n",
    "for x in xrange(256):\n",
    "    print x\n",
    "    for y in xrange(256):\n",
    "        if len(time_matrix[x][y])<=5: continue\n",
    "        if time_matrix[x][y]:\n",
    "#             mean, std = time_from_tuple_list(time_matrix[x][y])\n",
    "#             time_matrix_npts_image_mean[x][y] = mean\n",
    "#             time_matrix_npts_image_std[x][y] = std\n",
    "\n",
    "            std = std_custom(time_matrix[x][y])\n",
    "            time_matrix_npts_image_std[x][y] = std\n",
    "\n",
    "        else:\n",
    "            time_matrix_npts_image[x][y] = np.nan\n",
    "\n",
    "        \n",
    "# fn.DisplayImage(time_matrix_npts_image_mean)#, vmax='auto')\n",
    "fn.DisplayImage(time_matrix_npts_image_std)#, vmax='auto')"
   ]
  },
  {
   "cell_type": "code",
   "execution_count": null,
   "metadata": {
    "collapsed": false
   },
   "outputs": [],
   "source": [
    "print len(time_matrix[155][155])"
   ]
  },
  {
   "cell_type": "code",
   "execution_count": null,
   "metadata": {
    "collapsed": true
   },
   "outputs": [],
   "source": []
  },
  {
   "cell_type": "code",
   "execution_count": null,
   "metadata": {
    "collapsed": false
   },
   "outputs": [],
   "source": [
    "xs, ys = [], []\n",
    "# for (x,y) in time_matrix[155][100]:\n",
    "for (x,y) in time_matrix[100][150]:\n",
    "#     if x<700: continue\n",
    "#     if x >1200:continue\n",
    "    xs.append(x)\n",
    "    ys.append(y)\n",
    "pl.plot(xs,ys,'o')\n",
    "# a,b,c = pl.hist(xs, np.append(np.arange(min(xs), min(xs) + 200, 1),np.arange(min(xs)+200, max(xs) +50, 50)))\n",
    "# a,b,c = pl.hist(xs,10)\n",
    "# print np.append(np.arange(min(xs), min(xs) + 200, 1),np.arange(min(xs)+200, max(xs) +50, 50))"
   ]
  },
  {
   "cell_type": "code",
   "execution_count": null,
   "metadata": {
    "collapsed": false
   },
   "outputs": [],
   "source": [
    "# def func(x, a, t0, tc1, tc2):\n",
    "def func(x, a, t0):\n",
    "\n",
    "    # amplitude, t0, tc1, tc2\n",
    "#     return a * (np.exp((t0 - x)/tc1) - np.exp((t0 - x)/tc2))\n",
    "    return a * np.exp(-x/t0)\n",
    "\n",
    "# popt, pcov = curve_fit(func, xdata, ydata)\n",
    "p0 = [2,900]#,0.0001,0.0002]\n",
    "params, pcov = curve_fit(func, xs, ys, p0=p0)\n",
    "print params\n",
    "\n",
    "pl.plot(xs,ys,'o')\n",
    "pl.plot(np.linspace(0, 12000, 100),\n",
    "        [func(_,params[0],params[1]) for _ in np.linspace(0,12000,100)],\n",
    "#         [func(_,params[0],params[1],params[2],params[3]) for _ in np.linspace(0,12000,100)],\n",
    "        'o')\n",
    "\n",
    "\n"
   ]
  },
  {
   "cell_type": "code",
   "execution_count": null,
   "metadata": {
    "collapsed": false
   },
   "outputs": [],
   "source": [
    "pl.plot(xs,ys,'o')\n",
    "pl.plot(np.linspace(0, 12000, 100),[func(_,params[0],params[1],params[2],params[3]) for _ in np.linspace(0,12000,100)], 'o')"
   ]
  },
  {
   "cell_type": "code",
   "execution_count": null,
   "metadata": {
    "collapsed": false
   },
   "outputs": [],
   "source": [
    "def func(x, a, b, c):\n",
    "    return a * np.exp(-b * x) + c\n",
    "\n",
    "\n",
    "xdata = np.linspace(0, 4, 50)\n",
    "y = func(xdata, 2.5, 1.3, 0.5)\n",
    "ydata = y + 0.2 * np.random.normal(size=len(xdata))\n",
    "\n",
    "popt, pcov = curve_fit(func, xdata, ydata)\n",
    "\n",
    "pl.plot(np.linspace(0, 5, 50),ydata, 'o')\n",
    "pl.plot(np.linspace(0, 5, 50),[func(_,popt[0],popt[1],popt[2]) for _ in np.linspace(0,5,50)], 'o')\n",
    "pl.show()"
   ]
  },
  {
   "cell_type": "code",
   "execution_count": null,
   "metadata": {
    "collapsed": true
   },
   "outputs": [],
   "source": []
  },
  {
   "cell_type": "code",
   "execution_count": null,
   "metadata": {
    "collapsed": true
   },
   "outputs": [],
   "source": []
  },
  {
   "cell_type": "code",
   "execution_count": null,
   "metadata": {
    "collapsed": true
   },
   "outputs": [],
   "source": []
  },
  {
   "cell_type": "code",
   "execution_count": null,
   "metadata": {
    "collapsed": false
   },
   "outputs": [],
   "source": [
    "from scipy.optimize import curve_fit"
   ]
  },
  {
   "cell_type": "code",
   "execution_count": null,
   "metadata": {
    "collapsed": false,
    "scrolled": false
   },
   "outputs": [],
   "source": [
    "fn = reload(fn)\n",
    "cmap = 'gray' ### beware using the de facto standard 'jet',\n",
    "\n",
    "### but it's also replotted below for people who can't live without it\n",
    "for i, image in enumerate(images_ir):\n",
    "    title = 'IR image for times %s to %s ns(band #%s)'%(bands[i][0],bands[i][1], i)\n",
    "    fn.DisplayImage(image, cmap=cmap, title=title,vmax='auto',savefig='/Users/mfisherlevine/Desktop/new_USAF_IR_'+str(i)+'.pdf')\n",
    "    pl.show()\n",
    "\n",
    "    "
   ]
  },
  {
   "cell_type": "code",
   "execution_count": null,
   "metadata": {
    "collapsed": false,
    "scrolled": false
   },
   "outputs": [],
   "source": [
    "fn = reload(fn)\n",
    "cmap = 'jet'\n",
    "for i, image in enumerate(images):\n",
    "    title = 'VMI for times %s to %s (band %s)'%(bands[i][0],bands[i][1], i)\n",
    "    fn.DisplayImage(image, cmap=cmap, title=title,vmax='auto')\n",
    "    pl.show()"
   ]
  },
  {
   "cell_type": "code",
   "execution_count": null,
   "metadata": {
    "collapsed": false
   },
   "outputs": [],
   "source": [
    "cmap = 'jet'\n",
    "image = images[27].copy()\n",
    "fn.DisplayImage(image, cmap=cmap, title=title,vmax='auto')\n",
    "pl.show()\n",
    "\n",
    "import scipy.ndimage as im_process\n",
    "from scipy.ndimage.filters import gaussian_filter\n",
    "\n",
    "\n",
    "deriv = im_process.sobel(gaussian_filter(image,3), mode='constant')\n",
    "fn.DisplayImage(deriv, cmap=cmap, title=title,vmax='auto')\n",
    "pl.show()\n",
    "\n",
    "deriv[abs(deriv)<10]=0\n",
    "fn.DisplayImage(deriv, cmap=cmap, title=title,vmax='auto')\n",
    "pl.show()\n",
    "\n",
    "deriv=abs(deriv/abs(deriv))\n",
    "fn.DisplayImage(deriv, cmap=cmap, title=title)\n",
    "pl.show()\n",
    "\n"
   ]
  },
  {
   "cell_type": "code",
   "execution_count": null,
   "metadata": {
    "collapsed": false
   },
   "outputs": [],
   "source": [
    "from skimage import feature\n",
    "\n",
    "fn = reload(fn)\n",
    "cmap = 'jet'\n",
    "for i, image in enumerate(images):\n",
    "    image = image.copy()\n",
    "    if i!=27: continue\n",
    "#     title = 'Fit to VMI for times %s to %s (band %s)'%(bands[i][0],bands[i][1], i)\n",
    "    title = 'Band %s'%i\n",
    "\n",
    "    fn.DisplayImage(image, cmap=cmap, title=title,vmax='auto')\n",
    "#     image[image < 0.8*np.max(image)] = 0\n",
    "    image[image < np.percentile(image,97)] = 0\n",
    "\n",
    "    pl.show()\n",
    "    \n",
    "#     edges = feature.canny(image, sigma=3)\n",
    "\n",
    "    edges = feature.blob_dog(image)\n",
    "    fn.DisplayImage(edges, cmap=cmap, title=title)\n",
    "    pl.show()\n",
    "\n",
    "#     feature.\n",
    "#     x,y,r = FitCircle(deriv)\n",
    "#     DisplayImageWithFit(deriv,x,y,r,title=title)\n",
    "    \n",
    "#     pl.show()"
   ]
  },
  {
   "cell_type": "code",
   "execution_count": null,
   "metadata": {
    "collapsed": true
   },
   "outputs": [],
   "source": []
  },
  {
   "cell_type": "code",
   "execution_count": null,
   "metadata": {
    "collapsed": false
   },
   "outputs": [],
   "source": [
    "fn = reload(fn)\n",
    "cmap = 'jet'\n",
    "for i, image in enumerate(images):\n",
    "#     if i!=3: continue\n",
    "#     title = 'Fit to VMI for times %s to %s (band %s)'%(bands[i][0],bands[i][1], i)\n",
    "    title = 'Band %s'%i\n",
    "\n",
    "    fn.DisplayImage(image, cmap=cmap, title=title,vmax='auto')\n",
    "    import scipy.ndimage as im_process\n",
    "    from scipy.ndimage.filters import gaussian_filter\n",
    "\n",
    "    deriv = im_process.laplace(gaussian_filter(image,2), mode='constant')\n",
    "#     title += ' gaus, laplace'\n",
    "#     fn.DisplayImage(deriv, cmap=cmap, title=title)\n",
    "#     pl.show()\n",
    "\n",
    "    deriv[deriv < np.percentile(deriv,99.7)] = 0\n",
    "\n",
    "    title += ' 99.7th percentile cut'\n",
    "    fn.DisplayImage(deriv, cmap=cmap, title=title)\n",
    "    pl.show()\n",
    "\n",
    "    deriv=abs(deriv/abs(deriv))\n",
    "#     title += ', normed'\n",
    "#     fn.DisplayImage(deriv, cmap=cmap, title=title)\n",
    "#     pl.show()\n",
    "\n",
    "    x,y,r = FitCircle(deriv)\n",
    "    DisplayImageWithFit(deriv,x,y,r,title=title)\n",
    "    \n",
    "    pl.show()"
   ]
  },
  {
   "cell_type": "code",
   "execution_count": null,
   "metadata": {
    "collapsed": true
   },
   "outputs": [],
   "source": []
  },
  {
   "cell_type": "code",
   "execution_count": null,
   "metadata": {
    "collapsed": true
   },
   "outputs": [],
   "source": [
    "x,y,r = FitCircle(deriv)\n",
    "x_circ, y_circ = MakeCirlePointsFromXYR(x,y,r)"
   ]
  },
  {
   "cell_type": "code",
   "execution_count": null,
   "metadata": {
    "collapsed": true
   },
   "outputs": [],
   "source": [
    "def MakeCirlePointsFromXYR(x, y, r, npts=180):\n",
    "    theta_fit = np.linspace(-np.pi, np.pi, npts)\n",
    "    xs = x + r*np.cos(theta_fit)\n",
    "    ys = y + r*np.sin(theta_fit)\n",
    "    return xs, ys"
   ]
  },
  {
   "cell_type": "code",
   "execution_count": null,
   "metadata": {
    "collapsed": false
   },
   "outputs": [],
   "source": []
  },
  {
   "cell_type": "code",
   "execution_count": null,
   "metadata": {
    "collapsed": false
   },
   "outputs": [],
   "source": [
    "fig = pl.figure(figsize = [10,10])\n",
    "ax = fig.add_subplot(111)\n",
    "# ax.set_xlim([YMIN,YMAX])\n",
    "# ax.set_ylim([XMIN,XMAX])\n",
    "\n",
    "# if vmax == 'auto':\n",
    "#     element = (256*256) - 200\n",
    "#     tmp = image.flatten()\n",
    "#     tmp.sort()\n",
    "#     vmax = tmp[element]\n",
    "#     vmin = tmp[200]\n",
    "#     print 'Auto vmax = %s, real max = %s'%(vmax, np.max(image))\n",
    "\n",
    "# if vmin == 'auto':\n",
    "#     tmp = image.flatten()\n",
    "#     vmin = min(_ for _ in tmp if _ > 0)\n",
    "#     print 'Auto vmin = %s'%vmin\n",
    "\n",
    "im = ax.imshow(deriv)#, vmin=vmin, vmax=vmax, cmap=cmap)\n",
    "pl.plot(y,x, 'x', ms=15)\n",
    "pl.plot(y_circ, x_circ, 'r-.')#, label=method_3, lw=2)\n",
    "ax.set_title(title)\n",
    "fig.colorbar(im)\n"
   ]
  },
  {
   "cell_type": "code",
   "execution_count": null,
   "metadata": {
    "collapsed": false
   },
   "outputs": [],
   "source": [
    "def DisplayImageWithFit(image, x, y, r, vmin=None, vmax=None, cmap='jet', title = ''):\n",
    "    import numpy as np\n",
    "    fig = pl.figure(figsize = [10,10])\n",
    "    ax = fig.add_subplot(111)\n",
    "    ax.set_xlim([0,255])\n",
    "    ax.set_ylim([0,255])\n",
    "\n",
    "    if vmax == 'auto':\n",
    "        element = (256*256) - 200\n",
    "        tmp = image.flatten()\n",
    "        tmp.sort()\n",
    "        vmax = tmp[element]\n",
    "        vmin = tmp[200]\n",
    "        print 'Auto vmax = %s, real max = %s'%(vmax, np.max(image))\n",
    "\n",
    "    if vmin == 'auto':\n",
    "        tmp = image.flatten()\n",
    "        vmin = min(_ for _ in tmp if _ > 0)\n",
    "        print 'Auto vmin = %s'%vmin\n",
    "\n",
    "    im = ax.imshow(image, vmin=vmin, vmax=vmax, cmap=cmap)\n",
    "    \n",
    "    pl.plot(y,x, 'xb', ms=15) # x on the centre\n",
    "    x_circ, y_circ = MakeCirlePointsFromXYR(x,y,r) #generate circle points\n",
    "    pl.plot(y_circ, x_circ, 'r-.', lw=4) #plot circle\n",
    "    ax.set_title(title)\n",
    "    fig.colorbar(im)\n",
    "    return im"
   ]
  },
  {
   "cell_type": "code",
   "execution_count": null,
   "metadata": {
    "collapsed": true
   },
   "outputs": [],
   "source": []
  },
  {
   "cell_type": "code",
   "execution_count": null,
   "metadata": {
    "collapsed": true
   },
   "outputs": [],
   "source": []
  },
  {
   "cell_type": "code",
   "execution_count": null,
   "metadata": {
    "collapsed": true
   },
   "outputs": [],
   "source": []
  },
  {
   "cell_type": "code",
   "execution_count": null,
   "metadata": {
    "collapsed": false
   },
   "outputs": [],
   "source": []
  },
  {
   "cell_type": "raw",
   "metadata": {},
   "source": []
  },
  {
   "cell_type": "code",
   "execution_count": null,
   "metadata": {
    "collapsed": false
   },
   "outputs": [],
   "source": []
  },
  {
   "cell_type": "code",
   "execution_count": null,
   "metadata": {
    "collapsed": false
   },
   "outputs": [],
   "source": []
  },
  {
   "cell_type": "code",
   "execution_count": null,
   "metadata": {
    "collapsed": true
   },
   "outputs": [],
   "source": []
  },
  {
   "cell_type": "code",
   "execution_count": null,
   "metadata": {
    "collapsed": true
   },
   "outputs": [],
   "source": []
  },
  {
   "cell_type": "code",
   "execution_count": null,
   "metadata": {
    "collapsed": true
   },
   "outputs": [],
   "source": []
  },
  {
   "cell_type": "code",
   "execution_count": null,
   "metadata": {
    "collapsed": true
   },
   "outputs": [],
   "source": []
  },
  {
   "cell_type": "code",
   "execution_count": null,
   "metadata": {
    "collapsed": true
   },
   "outputs": [],
   "source": []
  },
  {
   "cell_type": "code",
   "execution_count": null,
   "metadata": {
    "collapsed": true
   },
   "outputs": [],
   "source": []
  },
  {
   "cell_type": "code",
   "execution_count": null,
   "metadata": {
    "collapsed": false
   },
   "outputs": [],
   "source": []
  },
  {
   "cell_type": "code",
   "execution_count": null,
   "metadata": {
    "collapsed": false
   },
   "outputs": [],
   "source": []
  },
  {
   "cell_type": "code",
   "execution_count": null,
   "metadata": {
    "collapsed": false
   },
   "outputs": [],
   "source": []
  },
  {
   "cell_type": "code",
   "execution_count": null,
   "metadata": {
    "collapsed": false
   },
   "outputs": [],
   "source": []
  },
  {
   "cell_type": "code",
   "execution_count": null,
   "metadata": {
    "collapsed": false
   },
   "outputs": [],
   "source": []
  },
  {
   "cell_type": "code",
   "execution_count": null,
   "metadata": {
    "collapsed": true
   },
   "outputs": [],
   "source": []
  },
  {
   "cell_type": "code",
   "execution_count": null,
   "metadata": {
    "collapsed": false
   },
   "outputs": [],
   "source": []
  },
  {
   "cell_type": "code",
   "execution_count": null,
   "metadata": {
    "collapsed": false
   },
   "outputs": [],
   "source": []
  },
  {
   "cell_type": "code",
   "execution_count": null,
   "metadata": {
    "collapsed": true
   },
   "outputs": [],
   "source": []
  },
  {
   "cell_type": "code",
   "execution_count": null,
   "metadata": {
    "collapsed": false
   },
   "outputs": [],
   "source": [
    "def FitCircle(data):\n",
    "    import numpy as np\n",
    "    from scipy import odr\n",
    "\n",
    "    x,y = np.where(data>=0)\n",
    "#     x = np.r_[  9, 35, -13,  10,  23,   0]\n",
    "#     y = np.r_[ 34, 10,   6, -14,  27, -10]\n",
    "    \n",
    "    x_m = np.mean(x)\n",
    "    y_m = np.mean(y)\n",
    "    \n",
    "    method_3  = \"odr\"\n",
    "\n",
    "    import functools\n",
    "    def countcalls(fn):\n",
    "        \"decorator function count function calls \"\n",
    "\n",
    "        @functools.wraps(fn)\n",
    "        def wrapped(*args):\n",
    "            wrapped.ncalls +=1\n",
    "            return fn(*args)\n",
    "\n",
    "        wrapped.ncalls = 0\n",
    "        return wrapped\n",
    "    \n",
    "    @countcalls\n",
    "    def calc_R(xc, yc):\n",
    "        \"\"\" calculate the distance of each 2D points from the center (xc, yc) \"\"\"\n",
    "        return np.sqrt((x-xc)**2 + (y-yc)**2)\n",
    "\n",
    "    @countcalls\n",
    "    def f_3(beta, x):\n",
    "        \"\"\" implicit definition of the circle \"\"\"\n",
    "        return (x[0]-beta[0])**2 + (x[1]-beta[1])**2 -beta[2]**2\n",
    "\n",
    "    # initial guess for parameters\n",
    "    R_m = calc_R(x_m, y_m).mean()\n",
    "    beta0 = [ x_m, y_m, R_m]\n",
    "\n",
    "    # for implicit function :\n",
    "    #       data.x contains both coordinates of the points\n",
    "    #       data.y is the dimensionality of the response\n",
    "    lsc_data   = odr.Data(np.row_stack([x, y]), y=1)\n",
    "    lsc_model  = odr.Model(f_3, implicit=True)\n",
    "    lsc_odr    = odr.ODR(lsc_data, lsc_model, beta0)\n",
    "    lsc_out    = lsc_odr.run()\n",
    "\n",
    "    xc_3, yc_3, R_3 = lsc_out.beta\n",
    "    Ri_3       = calc_R(xc_3, yc_3)\n",
    "    residu_3   = sum((Ri_3 - R_3)**2)\n",
    "    residu2_3  = sum((Ri_3**2-R_3**2)**2)\n",
    "    ncalls_3   = f_3.ncalls\n",
    "\n",
    "    # == METHOD 3b ==\n",
    "    # Advanced usage, with jacobian\n",
    "    method_3b  = \"odr with jacobian\"\n",
    "    print \"\\nMethod 3b : \", method_3b\n",
    "\n",
    "    @countcalls\n",
    "    def f_3b(beta, x):\n",
    "        \"\"\" implicit definition of the circle \"\"\"\n",
    "        return (x[0]-beta[0])**2 + (x[1]-beta[1])**2 -beta[2]**2\n",
    "\n",
    "    @countcalls\n",
    "    def jacb(beta, x):\n",
    "        \"\"\" Jacobian function with respect to the parameters beta.\n",
    "        return df_3b/dbeta\n",
    "        \"\"\"\n",
    "        xc, yc, r = beta\n",
    "        xi, yi    = x\n",
    "\n",
    "        df_db    = np.empty((beta.size, x.shape[1]))\n",
    "        df_db[0] =  2*(xc-xi)                     # d_f/dxc\n",
    "        df_db[1] =  2*(yc-yi)                     # d_f/dyc\n",
    "        df_db[2] = -2*r                           # d_f/dr\n",
    "\n",
    "        return df_db\n",
    "\n",
    "    @countcalls\n",
    "    def jacd(beta, x):\n",
    "        \"\"\" Jacobian function with respect to the input x.\n",
    "        return df_3b/dx\n",
    "        \"\"\"\n",
    "        xc, yc, r = beta\n",
    "        xi, yi    = x\n",
    "\n",
    "        df_dx    = np.empty_like(x)\n",
    "        df_dx[0] =  2*(xi-xc)                     # d_f/dxi\n",
    "        df_dx[1] =  2*(yi-yc)                     # d_f/dyi\n",
    "\n",
    "        return df_dx\n",
    "\n",
    "\n",
    "    def calc_estimate(data):\n",
    "        \"\"\" Return a first estimation on the parameter from the data  \"\"\"\n",
    "        xc0, yc0 = data.x.mean(axis=1)\n",
    "        r0 = np.sqrt((data.x[0]-xc0)**2 +(data.x[1] -yc0)**2).mean()\n",
    "        return xc0, yc0, r0\n",
    "\n",
    "    # for implicit function :\n",
    "    #       data.x contains both coordinates of the points\n",
    "    #       data.y is the dimensionality of the response\n",
    "    lsc_data  = odr.Data(np.row_stack([x, y]), y=1)\n",
    "    lsc_model = odr.Model(f_3b, implicit=True, estimate=calc_estimate, fjacd=jacd, fjacb=jacb)\n",
    "    lsc_odr   = odr.ODR(lsc_data, lsc_model)    # beta0 has been replaced by an estimate function\n",
    "    lsc_odr.set_job(deriv=3)                    # use user derivatives function without checking\n",
    "    lsc_odr.set_iprint(iter=1, iter_step=1)     # print details for each iteration\n",
    "    lsc_out   = lsc_odr.run()\n",
    "\n",
    "    xc_3, yc_3, R_3 = lsc_out.beta\n",
    "    Ri_3       = calc_R(xc_3, yc_3)\n",
    "    residu_3   = sum((Ri_3 - R_3)**2)\n",
    "    residu2_3  = sum((Ri_3**2-R_3**2)**2)\n",
    "    ncalls_3   = f_3.ncalls\n",
    "\n",
    "    print \"\\nFunctions calls : f_3b=%d jacb=%d jacd=%d\" % (f_3b.ncalls, jacb.ncalls, jacd.ncalls)\n",
    "\n",
    "    \n",
    "#     def PlotAll():\n",
    "#         f = pl.figure( facecolor='white')  #figsize=(7, 5.4), dpi=72,\n",
    "#         pl.axis('equal')\n",
    "\n",
    "#         theta_fit = np.linspace(-np.pi, np.pi, 180)\n",
    "\n",
    "#         x_fit3 = xc_3 + R_3*np.cos(theta_fit)\n",
    "#         y_fit3 = yc_3 + R_3*np.sin(theta_fit)\n",
    "#         pl.plot(x_fit3, y_fit3, 'r-.', label=method_3, lw=2)\n",
    "\n",
    "#         pl.plot(xc_3, yc_3, 'x', ms=10)\n",
    "        \n",
    "#         pl.plot(x, y, 'o', label='data', ms=3)#, mec='b', mew=1)\n",
    "#         pl.show()\n",
    "    \n",
    "#     PlotAll()\n",
    "\n",
    "    return xc_3, yc_3, R_3\n",
    "\n",
    "        \n",
    "FitCircle(deriv)\n"
   ]
  },
  {
   "cell_type": "code",
   "execution_count": null,
   "metadata": {
    "collapsed": true
   },
   "outputs": [],
   "source": []
  },
  {
   "cell_type": "code",
   "execution_count": null,
   "metadata": {
    "collapsed": true
   },
   "outputs": [],
   "source": []
  },
  {
   "cell_type": "code",
   "execution_count": null,
   "metadata": {
    "collapsed": false
   },
   "outputs": [],
   "source": [
    "# Snippet for examples of annotating images (not mine):\n",
    "\n",
    "# -*- coding: utf-8 -*-\n",
    "import matplotlib.pyplot as plt\n",
    "\n",
    "fig = plt.figure()\n",
    "fig.suptitle('bold figure suptitle', fontsize=14, fontweight='bold')\n",
    "\n",
    "ax = fig.add_subplot(111)\n",
    "fig.subplots_adjust(top=0.85)\n",
    "ax.set_title('axes title')\n",
    "\n",
    "ax.set_xlabel('xlabel')\n",
    "ax.set_ylabel('ylabel')\n",
    "\n",
    "ax.text(3, 8, 'boxed italics text in data coords', style='italic',\n",
    "        bbox={'facecolor':'red', 'alpha':0.5, 'pad':10})\n",
    "\n",
    "ax.text(2, 6, r'an equation: $E=mc^2$', fontsize=15)\n",
    "\n",
    "# ax.text(3, 2, u'unicode: Institut f\\374r Festk\\366rperphysik')\n",
    "\n",
    "ax.text(0.95, 0.01, 'colored text in axes coords',\n",
    "        verticalalignment='bottom', horizontalalignment='right',\n",
    "        transform=ax.transAxes,\n",
    "        color='green', fontsize=15)\n",
    "\n",
    "\n",
    "ax.plot([2], [1], 'o')\n",
    "ax.annotate('annotate', xy=(2, 1), xytext=(3, 4),\n",
    "            arrowprops=dict(facecolor='black', shrink=0.05))\n",
    "\n",
    "ax.axis([0, 10, 0, 10])\n",
    "\n",
    "plt.show()"
   ]
  },
  {
   "cell_type": "code",
   "execution_count": null,
   "metadata": {
    "collapsed": true
   },
   "outputs": [],
   "source": [
    "# Snippet to text out luminance balancing of colour maps:\n",
    "image = np.zeros((256,256), dtype = np.float)\n",
    "a = fn.makeGaussian(256,1500,50,[100,100])\n",
    "image += a\n",
    "print np.max(a)\n",
    "fn.DisplayImage(image, cmap='jet')\n",
    "fn.DisplayImage(image, cmap='gray')\n",
    "fn.DisplayImage(image, cmap='winter')\n",
    "fn.DisplayImage(image, cmap='cubehelix')"
   ]
  },
  {
   "cell_type": "code",
   "execution_count": null,
   "metadata": {
    "collapsed": true
   },
   "outputs": [],
   "source": [
    "#     PEAK_SETTINGS_CENTROIDED = {}\n",
    "#     PEAK_SETTINGS_CENTROIDED['vector'] = global_TOF_centroided\n",
    "#     PEAK_SETTINGS_CENTROIDED['widths'] = np.asarray([3])\n",
    "#     PEAK_SETTINGS_CENTROIDED['min_snr']    = [0.015]\n",
    "#     PEAK_SETTINGS_CENTROIDED['noise_perc'] = [0.0001]\n",
    "\n",
    "#     peaks_centroided = findpeaks( **PEAK_SETTINGS_CENTROIDED)\n",
    "\n",
    "#     if fig is None:\n",
    "#         print 'declared new fig'\n",
    "#         fig = pl.figure(figsize=[16,8])\n",
    "#     ax_cent = pl.subplot(212)\n",
    "#     ax_raw  = pl.subplot(211, sharex=ax_cent)\n",
    "#     tof1 = ax_cent.plot(range(11810),global_TOF_centroided)\n",
    "#     tof2 =  ax_raw.plot(range(11810),global_TOF)\n",
    "#     ax_cent.set_ylim([0,max(global_TOF_centroided[TOF_TMIN:TOF_TMAX])])\n",
    "#     ax_raw.set_ylim([0,max(global_TOF[TOF_TMIN:TOF_TMAX])])\n",
    "#     ax_cent.set_xlim([TOF_TMIN,TOF_TMAX])\n",
    "#     ax_raw.set_xlim([TOF_TMIN,TOF_TMAX])\n",
    "#     if flip:\n",
    "#         ax_cent.set_xlim(ax_cent.get_xlim()[::-1])\n",
    "#     ax_cent.set_title('ToF Centroided')\n",
    "\n",
    "#     FilterPeaks()\n",
    "#     print 'Centroided peaks found at %s'%peaks_centroided[::-1]\n",
    "#     print '       Raw peaks found at %s'%peaks_raw[::-1]\n",
    "\n",
    "#     if ax_cent is not None:\n",
    "#         for peak in peaks_centroided:\n",
    "#             ax_cent.plot([peak, peak], [0, ax_cent.get_ylim()[1]], color='k', linestyle='--', linewidth=1)\n",
    "\n",
    "#     for peak in peaks_raw:\n",
    "#         ax_raw.plot([peak, peak], [0, ax_raw.get_ylim()[1]], color='k', linestyle='--', linewidth=1)\n",
    "\n",
    "#     ax_raw.set_title('ToF RAW')\n",
    "\n",
    "# #     f.savefig(out_path + 'ToF.png')\n",
    "#     pl.show()\n",
    "\n",
    "#     return ax_raw, ax_cent\n",
    "\n",
    "\n",
    "# def FilterPeaks():\n",
    "#     import operator\n",
    "#     search_range = 5\n",
    "#     cent_threshold = len(tp_data) / 10\n",
    "#     raw_threshold = len(loaded_fileNAMES) * 2\n",
    "#     global peaks_centroided\n",
    "#     global peaks_raw\n",
    "#     new_peaks_centroided = []\n",
    "#     new_peaks_raw = []\n",
    "\n",
    "#     for peak in peaks_centroided:\n",
    "#         _min = max(peak - search_range, 0)\n",
    "#         _max = min(peak + search_range, len(global_TOF_centroided))\n",
    "#         index, maxval = max(enumerate(global_TOF_centroided[_min:_max]), key=operator.itemgetter(1))\n",
    "#         if maxval >= cent_threshold:\n",
    "#             new_peaks_centroided.append(_min+index)\n",
    "\n",
    "#     for peak in peaks_raw:\n",
    "#         _min = max(peak - search_range, 0)\n",
    "#         _max = min(peak + search_range, len(global_TOF))\n",
    "#         index, maxval = max(enumerate(global_TOF[_min:_max]), key=operator.itemgetter(1))\n",
    "#         if maxval >= raw_threshold:\n",
    "#             new_peaks_raw.append(_min+index)\n",
    "\n",
    "#     peaks_centroided = new_peaks_centroided\n",
    "#     peaks_raw = new_peaks_raw"
   ]
  }
 ],
 "metadata": {
  "anaconda-cloud": {},
  "kernelspec": {
   "display_name": "Python [Root]",
   "language": "python",
   "name": "Python [Root]"
  },
  "language_info": {
   "codemirror_mode": {
    "name": "ipython",
    "version": 2
   },
   "file_extension": ".py",
   "mimetype": "text/x-python",
   "name": "python",
   "nbconvert_exporter": "python",
   "pygments_lexer": "ipython2",
   "version": "2.7.11"
  }
 },
 "nbformat": 4,
 "nbformat_minor": 0
}
