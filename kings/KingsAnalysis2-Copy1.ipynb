{
 "cells": [
  {
   "cell_type": "code",
   "execution_count": 51,
   "metadata": {
    "collapsed": false
   },
   "outputs": [
    {
     "data": {
      "text/html": [
       "<style>.container { width:90% !important; }</style>"
      ],
      "text/plain": [
       "<IPython.core.display.HTML object>"
      ]
     },
     "execution_count": 51,
     "metadata": {},
     "output_type": "execute_result"
    }
   ],
   "source": [
    "# magic incantation to make the notebook wider\n",
    "from IPython.core.display import HTML\n",
    "HTML(\"<style>.container { width:90% !important; }</style>\")"
   ]
  },
  {
   "cell_type": "code",
   "execution_count": 16,
   "metadata": {
    "collapsed": true
   },
   "outputs": [],
   "source": [
    "#magic incantation to make all text in LaTeX font:\n",
    "from matplotlib import rc\n",
    "# rc('font',**{'family':'serif','serif':['Computer Modern Roman']})\n",
    "rc('font',**{'family':'sans-serif','sans-serif':['Helvetica']})\n",
    "rc('text', usetex=True)"
   ]
  },
  {
   "cell_type": "code",
   "execution_count": 18,
   "metadata": {
    "collapsed": false
   },
   "outputs": [],
   "source": [
    "import numpy as np\n",
    "import pylab as pl\n",
    "import os, sys\n",
    "%matplotlib inline\n",
    "\n",
    "import new_functions as fn\n",
    "fn = reload(fn)\n",
    "\n",
    "# XMAX = 200\n",
    "# XMIN = 50\n",
    "# YMAX = 200\n",
    "# YMIN = 50\n",
    "\n",
    "XMAX = 256\n",
    "XMIN = 0\n",
    "YMAX = 256\n",
    "YMIN = 0"
   ]
  },
  {
   "cell_type": "code",
   "execution_count": 26,
   "metadata": {
    "collapsed": false
   },
   "outputs": [
    {
     "name": "stdout",
     "output_type": "stream",
     "text": [
      "Found 10000 datafiles in run /Users/mfisherlevine/Downloads/160728_usaf2/\n"
     ]
    }
   ],
   "source": [
    "timepix_data_dir_ir = '/Users/mfisherlevine/Downloads/160728_usaf2/'\n",
    "\n",
    "\n",
    "dirs = [timepix_data_dir_ir + _ for _ in os.listdir(timepix_data_dir_ir)]\n",
    "tp_datafiles_ir = []\n",
    "for this_dir in dirs:\n",
    "    tp_datafiles_ir.extend([os.path.join(this_dir, _) for _ in os.listdir(this_dir)])\n",
    "print 'Found %s datafiles in run %s'%(len(tp_datafiles_ir), timepix_data_dir_ir)\n"
   ]
  },
  {
   "cell_type": "code",
   "execution_count": 27,
   "metadata": {
    "collapsed": false,
    "scrolled": true
   },
   "outputs": [
    {
     "name": "stdout",
     "output_type": "stream",
     "text": [
      "*****\n",
      "Loaded 10000 files\n"
     ]
    }
   ],
   "source": [
    "tp_data_ir = {}\n",
    "n_files_loaded = 0\n",
    "for filename in tp_datafiles_ir:\n",
    "    n_codes = fn.Get_n_timecodesFromFile(filename)\n",
    "    if not filename in tp_data_ir.keys():\n",
    "        tp_data_ir[filename] = {}\n",
    "        tp_data_ir[filename]['n_codes'] = n_codes\n",
    "        tp_data_ir[filename]['filename'] = filename\n",
    "    else:\n",
    "        print 'Would have overwritten bunchID %s'%bunchID\n",
    "    n_files_loaded += 1\n",
    "\n",
    "print '*****\\nLoaded %s files' %n_files_loaded\n",
    "\n"
   ]
  },
  {
   "cell_type": "code",
   "execution_count": 30,
   "metadata": {
    "collapsed": false
   },
   "outputs": [
    {
     "data": {
      "image/png": "[encoded data removed]",
      "text/plain": [
       "<matplotlib.figure.Figure at 0x1160bfcd0>"
      ]
     },
     "metadata": {},
     "output_type": "display_data"
    }
   ],
   "source": [
    "fn = reload(fn)\n",
    "\n",
    "# fn.ShowClusteredImage('/Users/mfisherlevine/Downloads/160721_voltages1/160721_v9/160721_v9_0250.txt',257)\n",
    "fn.ShowClusteredImage(tp_datafiles_ir[0],257,skiplines=1)"
   ]
  },
  {
   "cell_type": "code",
   "execution_count": null,
   "metadata": {
    "collapsed": true
   },
   "outputs": [],
   "source": []
  },
  {
   "cell_type": "code",
   "execution_count": 33,
   "metadata": {
    "collapsed": false
   },
   "outputs": [
    {
     "name": "stdout",
     "output_type": "stream",
     "text": [
      "Centroided 0 frames\n",
      "Found 1 clusters in /Users/mfisherlevine/Downloads/160728_usaf2/00/usaf2@7271_1.txt - TCUT = 257\n",
      "Found 1 clusters in /Users/mfisherlevine/Downloads/160728_usaf2/00/usaf2@3776_1.txt - TCUT = 257\n",
      "Found 1 clusters in /Users/mfisherlevine/Downloads/160728_usaf2/00/usaf2@6652_1.txt - TCUT = 257\n",
      "Centroided 500 frames\n",
      "Found 1 clusters in /Users/mfisherlevine/Downloads/160728_usaf2/00/usaf2@783_1.txt - TCUT = 257\n"
     ]
    },
    {
     "name": "stderr",
     "output_type": "stream",
     "text": [
      "/Users/mfisherlevine/anaconda/lib/python2.7/site-packages/numpy/lib/npyio.py:893: UserWarning: loadtxt: Empty input file: \"/Users/mfisherlevine/Downloads/160728_usaf2/00/usaf2@1332_1.txt\"\n",
      "  warnings.warn('loadtxt: Empty input file: \"%s\"' % fname)\n"
     ]
    },
    {
     "name": "stdout",
     "output_type": "stream",
     "text": [
      "Found 1 clusters in /Users/mfisherlevine/Downloads/160728_usaf2/00/usaf2@6839_1.txt - TCUT = 257\n",
      "Found 1 clusters in /Users/mfisherlevine/Downloads/160728_usaf2/00/usaf2@3054_1.txt - TCUT = 257\n",
      "Found 1 clusters in /Users/mfisherlevine/Downloads/160728_usaf2/00/usaf2@6957_1.txt - TCUT = 257\n",
      "Centroided 1000 frames\n",
      "Found 1 clusters in /Users/mfisherlevine/Downloads/160728_usaf2/00/usaf2@4971_1.txt - TCUT = 257\n",
      "Found 1 clusters in /Users/mfisherlevine/Downloads/160728_usaf2/00/usaf2@4471_1.txt - TCUT = 257\n",
      "Found 1 clusters in /Users/mfisherlevine/Downloads/160728_usaf2/00/usaf2@7832_1.txt - TCUT = 257\n"
     ]
    },
    {
     "name": "stderr",
     "output_type": "stream",
     "text": [
      "/Users/mfisherlevine/anaconda/lib/python2.7/site-packages/numpy/lib/npyio.py:893: UserWarning: loadtxt: Empty input file: \"/Users/mfisherlevine/Downloads/160728_usaf2/00/usaf2@7711_1.txt\"\n",
      "  warnings.warn('loadtxt: Empty input file: \"%s\"' % fname)\n"
     ]
    },
    {
     "name": "stdout",
     "output_type": "stream",
     "text": [
      "Found 1 clusters in /Users/mfisherlevine/Downloads/160728_usaf2/00/usaf2@6462_1.txt - TCUT = 257\n",
      "Centroided 1500 frames\n",
      "Found 1 clusters in /Users/mfisherlevine/Downloads/160728_usaf2/00/usaf2@6589_1.txt - TCUT = 257\n",
      "Centroided 2000 frames\n"
     ]
    },
    {
     "name": "stderr",
     "output_type": "stream",
     "text": [
      "/Users/mfisherlevine/anaconda/lib/python2.7/site-packages/numpy/lib/npyio.py:893: UserWarning: loadtxt: Empty input file: \"/Users/mfisherlevine/Downloads/160728_usaf2/00/usaf2@6747_1.txt\"\n",
      "  warnings.warn('loadtxt: Empty input file: \"%s\"' % fname)\n",
      "/Users/mfisherlevine/anaconda/lib/python2.7/site-packages/numpy/lib/npyio.py:893: UserWarning: loadtxt: Empty input file: \"/Users/mfisherlevine/Downloads/160728_usaf2/00/usaf2@6304_1.txt\"\n",
      "  warnings.warn('loadtxt: Empty input file: \"%s\"' % fname)\n",
      "/Users/mfisherlevine/anaconda/lib/python2.7/site-packages/numpy/lib/npyio.py:893: UserWarning: loadtxt: Empty input file: \"/Users/mfisherlevine/Downloads/160728_usaf2/00/usaf2@4644_1.txt\"\n",
      "  warnings.warn('loadtxt: Empty input file: \"%s\"' % fname)\n"
     ]
    },
    {
     "name": "stdout",
     "output_type": "stream",
     "text": [
      "Found 1 clusters in /Users/mfisherlevine/Downloads/160728_usaf2/00/usaf2@1115_1.txt - TCUT = 257\n"
     ]
    },
    {
     "name": "stderr",
     "output_type": "stream",
     "text": [
      "/Users/mfisherlevine/anaconda/lib/python2.7/site-packages/numpy/lib/npyio.py:893: UserWarning: loadtxt: Empty input file: \"/Users/mfisherlevine/Downloads/160728_usaf2/00/usaf2@1996_1.txt\"\n",
      "  warnings.warn('loadtxt: Empty input file: \"%s\"' % fname)\n"
     ]
    },
    {
     "name": "stdout",
     "output_type": "stream",
     "text": [
      "Centroided 2500 frames\n"
     ]
    },
    {
     "name": "stderr",
     "output_type": "stream",
     "text": [
      "/Users/mfisherlevine/anaconda/lib/python2.7/site-packages/numpy/lib/npyio.py:893: UserWarning: loadtxt: Empty input file: \"/Users/mfisherlevine/Downloads/160728_usaf2/00/usaf2@2421_1.txt\"\n",
      "  warnings.warn('loadtxt: Empty input file: \"%s\"' % fname)\n"
     ]
    },
    {
     "name": "stdout",
     "output_type": "stream",
     "text": [
      "Found 1 clusters in /Users/mfisherlevine/Downloads/160728_usaf2/00/usaf2@6743_1.txt - TCUT = 257\n",
      "Found 1 clusters in /Users/mfisherlevine/Downloads/160728_usaf2/00/usaf2@135_1.txt - TCUT = 257\n",
      "Centroided 3000 frames\n",
      "Found 1 clusters in /Users/mfisherlevine/Downloads/160728_usaf2/00/usaf2@898_1.txt - TCUT = 257\n",
      "Found 1 clusters in /Users/mfisherlevine/Downloads/160728_usaf2/00/usaf2@248_1.txt - TCUT = 257\n",
      "Found 1 clusters in /Users/mfisherlevine/Downloads/160728_usaf2/00/usaf2@1391_1.txt - TCUT = 257\n",
      "Found 1 clusters in /Users/mfisherlevine/Downloads/160728_usaf2/00/usaf2@2365_1.txt - TCUT = 257\n"
     ]
    },
    {
     "name": "stderr",
     "output_type": "stream",
     "text": [
      "/Users/mfisherlevine/anaconda/lib/python2.7/site-packages/numpy/lib/npyio.py:893: UserWarning: loadtxt: Empty input file: \"/Users/mfisherlevine/Downloads/160728_usaf2/00/usaf2@5901_1.txt\"\n",
      "  warnings.warn('loadtxt: Empty input file: \"%s\"' % fname)\n"
     ]
    },
    {
     "name": "stdout",
     "output_type": "stream",
     "text": [
      "Found 1 clusters in /Users/mfisherlevine/Downloads/160728_usaf2/00/usaf2@5500_1.txt - TCUT = 257\n"
     ]
    },
    {
     "name": "stderr",
     "output_type": "stream",
     "text": [
      "/Users/mfisherlevine/anaconda/lib/python2.7/site-packages/numpy/lib/npyio.py:893: UserWarning: loadtxt: Empty input file: \"/Users/mfisherlevine/Downloads/160728_usaf2/00/usaf2@9766_1.txt\"\n",
      "  warnings.warn('loadtxt: Empty input file: \"%s\"' % fname)\n"
     ]
    },
    {
     "name": "stdout",
     "output_type": "stream",
     "text": [
      "Centroided 3500 frames\n"
     ]
    },
    {
     "name": "stderr",
     "output_type": "stream",
     "text": [
      "/Users/mfisherlevine/anaconda/lib/python2.7/site-packages/numpy/lib/npyio.py:893: UserWarning: loadtxt: Empty input file: \"/Users/mfisherlevine/Downloads/160728_usaf2/00/usaf2@8895_1.txt\"\n",
      "  warnings.warn('loadtxt: Empty input file: \"%s\"' % fname)\n"
     ]
    },
    {
     "name": "stdout",
     "output_type": "stream",
     "text": [
      "Found 1 clusters in /Users/mfisherlevine/Downloads/160728_usaf2/00/usaf2@1624_1.txt - TCUT = 257\n"
     ]
    },
    {
     "name": "stderr",
     "output_type": "stream",
     "text": [
      "/Users/mfisherlevine/anaconda/lib/python2.7/site-packages/numpy/lib/npyio.py:893: UserWarning: loadtxt: Empty input file: \"/Users/mfisherlevine/Downloads/160728_usaf2/00/usaf2@357_1.txt\"\n",
      "  warnings.warn('loadtxt: Empty input file: \"%s\"' % fname)\n",
      "/Users/mfisherlevine/anaconda/lib/python2.7/site-packages/numpy/lib/npyio.py:893: UserWarning: loadtxt: Empty input file: \"/Users/mfisherlevine/Downloads/160728_usaf2/00/usaf2@7171_1.txt\"\n",
      "  warnings.warn('loadtxt: Empty input file: \"%s\"' % fname)\n"
     ]
    },
    {
     "name": "stdout",
     "output_type": "stream",
     "text": [
      "Found 1 clusters in /Users/mfisherlevine/Downloads/160728_usaf2/00/usaf2@8219_1.txt - TCUT = 257\n",
      "Centroided 4000 frames\n"
     ]
    },
    {
     "name": "stderr",
     "output_type": "stream",
     "text": [
      "/Users/mfisherlevine/anaconda/lib/python2.7/site-packages/numpy/lib/npyio.py:893: UserWarning: loadtxt: Empty input file: \"/Users/mfisherlevine/Downloads/160728_usaf2/00/usaf2@7070_1.txt\"\n",
      "  warnings.warn('loadtxt: Empty input file: \"%s\"' % fname)\n",
      "/Users/mfisherlevine/anaconda/lib/python2.7/site-packages/numpy/lib/npyio.py:893: UserWarning: loadtxt: Empty input file: \"/Users/mfisherlevine/Downloads/160728_usaf2/00/usaf2@1708_1.txt\"\n",
      "  warnings.warn('loadtxt: Empty input file: \"%s\"' % fname)\n"
     ]
    },
    {
     "name": "stdout",
     "output_type": "stream",
     "text": [
      "Centroided 4500 frames\n",
      "Found 1 clusters in /Users/mfisherlevine/Downloads/160728_usaf2/00/usaf2@1066_1.txt - TCUT = 257\n",
      "Found 1 clusters in /Users/mfisherlevine/Downloads/160728_usaf2/00/usaf2@8898_1.txt - TCUT = 257\n"
     ]
    },
    {
     "name": "stderr",
     "output_type": "stream",
     "text": [
      "/Users/mfisherlevine/anaconda/lib/python2.7/site-packages/numpy/lib/npyio.py:893: UserWarning: loadtxt: Empty input file: \"/Users/mfisherlevine/Downloads/160728_usaf2/00/usaf2@8659_1.txt\"\n",
      "  warnings.warn('loadtxt: Empty input file: \"%s\"' % fname)\n"
     ]
    },
    {
     "name": "stdout",
     "output_type": "stream",
     "text": [
      "Found 1 clusters in /Users/mfisherlevine/Downloads/160728_usaf2/00/usaf2@5725_1.txt - TCUT = 257\n",
      "Found 1 clusters in /Users/mfisherlevine/Downloads/160728_usaf2/00/usaf2@5423_1.txt - TCUT = 257\n"
     ]
    },
    {
     "name": "stderr",
     "output_type": "stream",
     "text": [
      "/Users/mfisherlevine/anaconda/lib/python2.7/site-packages/numpy/lib/npyio.py:893: UserWarning: loadtxt: Empty input file: \"/Users/mfisherlevine/Downloads/160728_usaf2/00/usaf2@4411_1.txt\"\n",
      "  warnings.warn('loadtxt: Empty input file: \"%s\"' % fname)\n",
      "/Users/mfisherlevine/anaconda/lib/python2.7/site-packages/numpy/lib/npyio.py:893: UserWarning: loadtxt: Empty input file: \"/Users/mfisherlevine/Downloads/160728_usaf2/00/usaf2@1409_1.txt\"\n",
      "  warnings.warn('loadtxt: Empty input file: \"%s\"' % fname)\n"
     ]
    },
    {
     "name": "stdout",
     "output_type": "stream",
     "text": [
      "Found 1 clusters in /Users/mfisherlevine/Downloads/160728_usaf2/00/usaf2@5855_1.txt - TCUT = 257\n",
      "Found 1 clusters in /Users/mfisherlevine/Downloads/160728_usaf2/00/usaf2@8293_1.txt - TCUT = 257\n",
      "Found 1 clusters in /Users/mfisherlevine/Downloads/160728_usaf2/00/usaf2@3415_1.txt - TCUT = 257\n",
      "Centroided 5000 frames\n",
      "Found 1 clusters in /Users/mfisherlevine/Downloads/160728_usaf2/00/usaf2@8056_1.txt - TCUT = 257\n"
     ]
    },
    {
     "name": "stderr",
     "output_type": "stream",
     "text": [
      "/Users/mfisherlevine/anaconda/lib/python2.7/site-packages/numpy/lib/npyio.py:893: UserWarning: loadtxt: Empty input file: \"/Users/mfisherlevine/Downloads/160728_usaf2/00/usaf2@3824_1.txt\"\n",
      "  warnings.warn('loadtxt: Empty input file: \"%s\"' % fname)\n"
     ]
    },
    {
     "name": "stdout",
     "output_type": "stream",
     "text": [
      "Found 1 clusters in /Users/mfisherlevine/Downloads/160728_usaf2/00/usaf2@6519_1.txt - TCUT = 257\n",
      "Centroided 5500 frames\n"
     ]
    },
    {
     "name": "stderr",
     "output_type": "stream",
     "text": [
      "/Users/mfisherlevine/anaconda/lib/python2.7/site-packages/numpy/lib/npyio.py:893: UserWarning: loadtxt: Empty input file: \"/Users/mfisherlevine/Downloads/160728_usaf2/00/usaf2@4969_1.txt\"\n",
      "  warnings.warn('loadtxt: Empty input file: \"%s\"' % fname)\n"
     ]
    },
    {
     "name": "stdout",
     "output_type": "stream",
     "text": [
      "Found 1 clusters in /Users/mfisherlevine/Downloads/160728_usaf2/00/usaf2@7678_1.txt - TCUT = 257\n",
      "Found 1 clusters in /Users/mfisherlevine/Downloads/160728_usaf2/00/usaf2@1934_1.txt - TCUT = 257\n",
      "Found 1 clusters in /Users/mfisherlevine/Downloads/160728_usaf2/00/usaf2@7655_1.txt - TCUT = 257\n",
      "Found 1 clusters in /Users/mfisherlevine/Downloads/160728_usaf2/00/usaf2@6713_1.txt - TCUT = 257\n"
     ]
    },
    {
     "name": "stderr",
     "output_type": "stream",
     "text": [
      "/Users/mfisherlevine/anaconda/lib/python2.7/site-packages/numpy/lib/npyio.py:893: UserWarning: loadtxt: Empty input file: \"/Users/mfisherlevine/Downloads/160728_usaf2/00/usaf2@7460_1.txt\"\n",
      "  warnings.warn('loadtxt: Empty input file: \"%s\"' % fname)\n"
     ]
    },
    {
     "name": "stdout",
     "output_type": "stream",
     "text": [
      "Centroided 6000 frames\n",
      "Found 1 clusters in /Users/mfisherlevine/Downloads/160728_usaf2/00/usaf2@2088_1.txt - TCUT = 257\n",
      "Found 1 clusters in /Users/mfisherlevine/Downloads/160728_usaf2/00/usaf2@7923_1.txt - TCUT = 257\n",
      "Found 1 clusters in /Users/mfisherlevine/Downloads/160728_usaf2/00/usaf2@7339_1.txt - TCUT = 257\n"
     ]
    },
    {
     "name": "stderr",
     "output_type": "stream",
     "text": [
      "/Users/mfisherlevine/anaconda/lib/python2.7/site-packages/numpy/lib/npyio.py:893: UserWarning: loadtxt: Empty input file: \"/Users/mfisherlevine/Downloads/160728_usaf2/00/usaf2@8424_1.txt\"\n",
      "  warnings.warn('loadtxt: Empty input file: \"%s\"' % fname)\n"
     ]
    },
    {
     "name": "stdout",
     "output_type": "stream",
     "text": [
      "Found 1 clusters in /Users/mfisherlevine/Downloads/160728_usaf2/00/usaf2@2243_1.txt - TCUT = 257\n",
      "Centroided 6500 frames\n",
      "Found 1 clusters in /Users/mfisherlevine/Downloads/160728_usaf2/00/usaf2@3723_1.txt - TCUT = 257\n",
      "Found 1 clusters in /Users/mfisherlevine/Downloads/160728_usaf2/00/usaf2@4896_1.txt - TCUT = 257\n"
     ]
    },
    {
     "name": "stderr",
     "output_type": "stream",
     "text": [
      "/Users/mfisherlevine/anaconda/lib/python2.7/site-packages/numpy/lib/npyio.py:893: UserWarning: loadtxt: Empty input file: \"/Users/mfisherlevine/Downloads/160728_usaf2/00/usaf2@865_1.txt\"\n",
      "  warnings.warn('loadtxt: Empty input file: \"%s\"' % fname)\n"
     ]
    },
    {
     "name": "stdout",
     "output_type": "stream",
     "text": [
      "Found 1 clusters in /Users/mfisherlevine/Downloads/160728_usaf2/00/usaf2@8015_1.txt - TCUT = 257\n",
      "Found 1 clusters in /Users/mfisherlevine/Downloads/160728_usaf2/00/usaf2@1900_1.txt - TCUT = 257\n",
      "Centroided 7000 frames\n"
     ]
    },
    {
     "name": "stderr",
     "output_type": "stream",
     "text": [
      "/Users/mfisherlevine/anaconda/lib/python2.7/site-packages/numpy/lib/npyio.py:893: UserWarning: loadtxt: Empty input file: \"/Users/mfisherlevine/Downloads/160728_usaf2/00/usaf2@6500_1.txt\"\n",
      "  warnings.warn('loadtxt: Empty input file: \"%s\"' % fname)\n"
     ]
    },
    {
     "name": "stdout",
     "output_type": "stream",
     "text": [
      "Found 1 clusters in /Users/mfisherlevine/Downloads/160728_usaf2/00/usaf2@8839_1.txt - TCUT = 257\n",
      "Found 1 clusters in /Users/mfisherlevine/Downloads/160728_usaf2/00/usaf2@5013_1.txt - TCUT = 257\n",
      "Centroided 7500 frames\n",
      "Found 1 clusters in /Users/mfisherlevine/Downloads/160728_usaf2/00/usaf2@6141_1.txt - TCUT = 257\n",
      "Found 1 clusters in /Users/mfisherlevine/Downloads/160728_usaf2/00/usaf2@933_1.txt - TCUT = 257\n"
     ]
    },
    {
     "name": "stderr",
     "output_type": "stream",
     "text": [
      "/Users/mfisherlevine/anaconda/lib/python2.7/site-packages/numpy/lib/npyio.py:893: UserWarning: loadtxt: Empty input file: \"/Users/mfisherlevine/Downloads/160728_usaf2/00/usaf2@9845_1.txt\"\n",
      "  warnings.warn('loadtxt: Empty input file: \"%s\"' % fname)\n"
     ]
    },
    {
     "name": "stdout",
     "output_type": "stream",
     "text": [
      "Centroided 8000 frames\n",
      "Found 1 clusters in /Users/mfisherlevine/Downloads/160728_usaf2/00/usaf2@3410_1.txt - TCUT = 257\n",
      "Found 1 clusters in /Users/mfisherlevine/Downloads/160728_usaf2/00/usaf2@5431_1.txt - TCUT = 257\n",
      "Centroided 8500 frames\n",
      "Found 1 clusters in /Users/mfisherlevine/Downloads/160728_usaf2/00/usaf2@3130_1.txt - TCUT = 257\n",
      "Found 1 clusters in /Users/mfisherlevine/Downloads/160728_usaf2/00/usaf2@3154_1.txt - TCUT = 257\n",
      "Centroided 9000 frames\n",
      "Found 1 clusters in /Users/mfisherlevine/Downloads/160728_usaf2/00/usaf2@2879_1.txt - TCUT = 257\n",
      "Found 1 clusters in /Users/mfisherlevine/Downloads/160728_usaf2/00/usaf2@9707_1.txt - TCUT = 257\n",
      "Found 1 clusters in /Users/mfisherlevine/Downloads/160728_usaf2/00/usaf2@1356_1.txt - TCUT = 257\n",
      "Found 1 clusters in /Users/mfisherlevine/Downloads/160728_usaf2/00/usaf2@6623_1.txt - TCUT = 257\n",
      "Centroided 9500 frames\n",
      "Found 1 clusters in /Users/mfisherlevine/Downloads/160728_usaf2/00/usaf2@9671_1.txt - TCUT = 257\n",
      "Finished IR\n"
     ]
    }
   ],
   "source": [
    "fn = reload(fn)\n",
    "import time\n",
    "\n",
    "# NB These are different units!\n",
    "TCUT = 257 #Raw timecode cut for centroiding\n",
    "# TZERO = 1700 #Time, in ns, after inversion and conversion, to set as t0\n",
    "TZERO = 0 #Time, in ns, after inversion and conversion, to set as t0\n",
    "\n",
    "run_id = 'tcut%s_tzero%s'%(TCUT, TZERO)\n",
    "\n",
    "now = time.time()\n",
    "for i, filename in enumerate(tp_data_ir.keys()):\n",
    "    if i%500==0:print 'Centroided %s frames'%i; sys.stdout.flush()\n",
    "\n",
    "    filename = tp_data_ir[filename]['filename']\n",
    "    dummy, xs, ys, ts, npixs = fn.GetCentroidsXYTFromFile(filename, TCUT,winow_xmax=XMAX,winow_xmin=XMIN,winow_ymax=YMAX,winow_ymin=YMIN,skiplines=1)#, gating=[8400,8])\n",
    "    tp_data_ir[filename]['xs'] = xs\n",
    "    tp_data_ir[filename]['ys'] = ys\n",
    "#         tp_data[filename]['ts'] = [(_-TZERO)*20 for _ in ts]#already inverted, just translate to ns\n",
    "    tp_data_ir[filename]['ts'] = [(_-TZERO) for _ in ts]#already inverted, just translate to ns\n",
    "    tp_data_ir[filename]['npixs'] = npixs\n",
    "    tp_data_ir[filename]['n_ions'] = len(xs)\n",
    "print 'Finished IR'\n"
   ]
  },
  {
   "cell_type": "code",
   "execution_count": 34,
   "metadata": {
    "collapsed": false
   },
   "outputs": [
    {
     "name": "stdout",
     "output_type": "stream",
     "text": [
      "IR: Collated centroided timecodes from 10000 shots\n",
      "IR: 330189 times in total\n"
     ]
    }
   ],
   "source": [
    "# Put all the centroided timecodes in a single list for convenience\n",
    "all_ts_ir = []\n",
    "n_loaded = 0\n",
    "for bunchID in tp_data_ir.keys():\n",
    "    if 'ts' in tp_data_ir[bunchID].keys():\n",
    "        all_ts_ir.extend(tp_data_ir[bunchID]['ts'])\n",
    "        n_loaded += 1\n",
    "print 'IR: Collated centroided timecodes from %s shots'%n_loaded\n",
    "print 'IR: %s times in total'%len(all_ts_ir)\n"
   ]
  },
  {
   "cell_type": "code",
   "execution_count": 35,
   "metadata": {
    "collapsed": false
   },
   "outputs": [
    {
     "name": "stdout",
     "output_type": "stream",
     "text": [
      "IR: 302048 times in total\n"
     ]
    }
   ],
   "source": [
    "# Put all the centroided timecodes in a single list for convenience\n",
    "all_ts_4pix_ir = []\n",
    "n_loaded = 0\n",
    "for bunchID in tp_data_ir.keys():\n",
    "    if 'ts' in tp_data_ir[bunchID].keys():\n",
    "        for npix, t in zip(tp_data_ir[bunchID]['npixs'],tp_data_ir[bunchID]['ts']):\n",
    "            if npix>=4:\n",
    "                all_ts_4pix_ir.append(t)\n",
    "                n_loaded += 1\n",
    "print 'IR: %s times in total'%len(all_ts_4pix_ir)\n",
    "    "
   ]
  },
  {
   "cell_type": "code",
   "execution_count": 214,
   "metadata": {
    "collapsed": false
   },
   "outputs": [
    {
     "name": "stdout",
     "output_type": "stream",
     "text": [
      "229432\n"
     ]
    }
   ],
   "source": [
    "count = 0\n",
    "for bunchID in tp_data_ir.keys():\n",
    "    count += len(tp_data_ir[bunchID]['ts'])\n",
    "print count"
   ]
  },
  {
   "cell_type": "raw",
   "metadata": {},
   "source": [
    "Make the same plot as before, but plotting the number of ions, rather than the number of timecodes. After that, we'll look at the correlation for single ion species (just because it's easy)."
   ]
  },
  {
   "cell_type": "raw",
   "metadata": {},
   "source": [
    "Let's look at the TOF spectrum, including the raw spectrum:"
   ]
  },
  {
   "cell_type": "code",
   "execution_count": 37,
   "metadata": {
    "collapsed": false
   },
   "outputs": [
    {
     "name": "stdout",
     "output_type": "stream",
     "text": [
      "Loaded 0 files\n",
      "Loaded 1000 files\n",
      "Loaded 2000 files\n",
      "Loaded 3000 files\n",
      "Loaded 4000 files\n",
      "Loaded 5000 files\n",
      "Loaded 6000 files\n",
      "Loaded 7000 files\n",
      "Loaded 8000 files\n",
      "Loaded 9000 files\n",
      "IR: Loaded 2884474 raw timecodes\n"
     ]
    }
   ],
   "source": [
    "# Load the raw timecodes, converting the same way as the others\n",
    "fn = reload(fn)\n",
    "\n",
    "raw_timecodes_ir = []\n",
    "for i, filename in enumerate(tp_datafiles_ir):\n",
    "    if i%1000==0: print 'Loaded %s files'%i; sys.stdout.flush()\n",
    "#     raw_timecodes_ir.extend(((11810-_)-TZERO) for _ in fn.GetTimecodes_SingleFile(filename, skiplines=0))\n",
    "    raw_timecodes_ir.extend(((11810-_)-TZERO) for _ in fn.GetTimecodes_SingleFile(filename, skiplines=1,winow_xmax=XMAX,winow_xmin=XMIN,winow_ymax=YMAX,winow_ymin=YMIN))\n",
    "print 'IR: Loaded %s raw timecodes'%len(raw_timecodes_ir)\n"
   ]
  },
  {
   "cell_type": "code",
   "execution_count": 22,
   "metadata": {
    "collapsed": false
   },
   "outputs": [
    {
     "name": "stdout",
     "output_type": "stream",
     "text": [
      "10000\n"
     ]
    }
   ],
   "source": [
    "print len(tp_datafiles_ir)"
   ]
  },
  {
   "cell_type": "code",
   "execution_count": 42,
   "metadata": {
    "collapsed": false
   },
   "outputs": [
    {
     "name": "stdout",
     "output_type": "stream",
     "text": [
      "Raw timecodes a histogram:\n"
     ]
    },
    {
     "data": {
      "image/png": "[encoded data removed]",
      "text/plain": [
       "<matplotlib.figure.Figure at 0x112385910>"
      ]
     },
     "metadata": {},
     "output_type": "display_data"
    },
    {
     "name": "stdout",
     "output_type": "stream",
     "text": [
      "As a histogram:\n"
     ]
    },
    {
     "data": {
      "image/png": "[encoded data removed]",
      "text/plain": [
       "<matplotlib.figure.Figure at 0x1196fbe10>"
      ]
     },
     "metadata": {},
     "output_type": "display_data"
    },
    {
     "name": "stdout",
     "output_type": "stream",
     "text": [
      "With 4 pixel threshold:\n"
     ]
    },
    {
     "data": {
      "image/png": "[encoded data removed]",
      "text/plain": [
       "<matplotlib.figure.Figure at 0x119f301d0>"
      ]
     },
     "metadata": {},
     "output_type": "display_data"
    }
   ],
   "source": [
    "# range = [900,1200]\n",
    "range = [1800,1900]\n",
    "\n",
    "############\n",
    "# for the raw spectrum:\n",
    "\n",
    "y_rescale = 1.1 # big peak is too big, so clip y-axis by rescaling to this fraction of max\n",
    "bins = min(int((max(raw_timecodes_ir)-min(raw_timecodes_ir)+1)),(range[1]-range[0]+1))\n",
    "# print bins\n",
    "fig = pl.figure(figsize=[16,4])\n",
    "ax = pl.subplot(111)\n",
    "\n",
    "# as a hist\n",
    "print 'Raw timecodes a histogram:'\n",
    "ys_ir, binEdges_ir, dummy1 = pl.hist(raw_timecodes_ir, bins=bins, range=range, histtype = 'step')\n",
    "# bincenters = 0.5*(binEdges[1:]+binEdges[:-1])\n",
    "lims = pl.ylim()\n",
    "pl.ylim([lims[0], y_rescale*max(ys_ir)])\n",
    "# ax.set_xticks(ticks, minor=False)\n",
    "# turn_raw, stat_raw, troughs_raw, peaks_raw = fn.GetTurningPoints(ys, bincenters, noise=20)\n",
    "# ax.set_xticks(troughs_raw, minor=False)\n",
    "ax.xaxis.grid(True, which='major')\n",
    "pl.xlim(range[0],range[1])\n",
    "pl.show()\n",
    "\n",
    "\n",
    "############\n",
    "# for the centroided spectrum:\n",
    "\n",
    "y_rescale = 1.1 # big peak is too big, so clip y-axis by rescaling to this fraction of max\n",
    "# bins = min(int((max(all_ts)-min(all_ts)+1)),(range[1]-range[0]+1))\n",
    "\n",
    "fig = pl.figure(figsize=[16,4])\n",
    "ax = pl.subplot(111)\n",
    "\n",
    "# as a hist\n",
    "print 'As a histogram:'\n",
    "ys_ir, binEdges_ir, dummy1 = pl.hist(all_ts_ir, bins=bins, range=range, histtype = 'step')\n",
    "\n",
    "# bincenters = 0.5*(binEdges[1:]+binEdges[:-1])\n",
    "# turn_cent, stat_cent, troughs_cent, peaks_cent = fn.GetTurningPoints(ys, bincenters, noise=1)\n",
    "lims = pl.ylim()\n",
    "pl.xlim(range[0],range[1])\n",
    "pl.ylim([lims[0], y_rescale*max(ys_ir)])\n",
    "# ax.set_xticks(troughs_cent, minor=False)\n",
    "ax.xaxis.grid(True, which='major')\n",
    "pl.show()\n",
    "\n",
    "# as a hist\n",
    "fig = pl.figure(figsize=[16,4])\n",
    "ax = pl.subplot(111)\n",
    "print 'With 4 pixel threshold:'\n",
    "ys_ir, binEdges_ir, dummy1 = pl.hist(all_ts_4pix_ir, bins=bins, range=range, histtype = 'step')\n",
    "\n",
    "# bincenters = 0.5*(binEdges[1:]+binEdges[:-1])\n",
    "# turn_cent, stat_cent, troughs_cent, peaks_cent = fn.GetTurningPoints(ys, bincenters, noise=0)\n",
    "lims = pl.ylim()\n",
    "pl.xlim(range[0],range[1])\n",
    "pl.ylim([lims[0], y_rescale*max(ys_ir)])\n",
    "# ax.set_xticks(troughs_cent, minor=False)\n",
    "ax.xaxis.grid(True, which='major')\n",
    "pl.show()\n"
   ]
  },
  {
   "cell_type": "code",
   "execution_count": 228,
   "metadata": {
    "collapsed": false,
    "scrolled": true
   },
   "outputs": [
    {
     "name": "stdout",
     "output_type": "stream",
     "text": [
      "900.0 0.0\n",
      "900.996677741 0.0\n",
      "901.993355482 1.0\n",
      "902.990033223 15.0\n",
      "903.986710963 32.0\n",
      "904.983388704 26.0\n",
      "905.980066445 1.0\n",
      "906.976744186 1.0\n",
      "907.973421927 3.0\n",
      "908.970099668 1.0\n",
      "909.966777409 1.0\n",
      "910.96345515 4.0\n",
      "911.96013289 15.0\n",
      "912.956810631 93.0\n",
      "913.953488372 667.0\n",
      "914.950166113 2521.0\n",
      "915.946843854 5527.0\n",
      "916.943521595 7843.0\n",
      "917.940199336 7213.0\n",
      "918.936877076 5413.0\n",
      "919.933554817 3347.0\n",
      "920.930232558 1997.0\n",
      "921.926910299 1350.0\n",
      "922.92358804 998.0\n",
      "923.920265781 874.0\n",
      "924.916943522 786.0\n",
      "925.913621262 768.0\n",
      "926.910299003 664.0\n",
      "927.906976744 625.0\n",
      "928.903654485 671.0\n",
      "929.900332226 557.0\n",
      "930.897009967 588.0\n",
      "931.893687708 562.0\n",
      "932.890365449 577.0\n",
      "933.887043189 504.0\n",
      "934.88372093 473.0\n",
      "935.880398671 496.0\n",
      "936.877076412 459.0\n",
      "937.873754153 415.0\n",
      "938.870431894 410.0\n",
      "939.867109635 410.0\n",
      "940.863787375 391.0\n",
      "941.860465116 373.0\n",
      "942.857142857 349.0\n",
      "943.853820598 379.0\n",
      "944.850498339 352.0\n",
      "945.84717608 343.0\n",
      "946.843853821 290.0\n",
      "947.840531561 312.0\n",
      "948.837209302 329.0\n",
      "949.833887043 285.0\n",
      "950.830564784 276.0\n",
      "951.827242525 272.0\n",
      "952.823920266 230.0\n",
      "953.820598007 248.0\n",
      "954.817275748 231.0\n",
      "955.813953488 247.0\n",
      "956.810631229 243.0\n",
      "957.80730897 225.0\n",
      "958.803986711 207.0\n",
      "959.800664452 205.0\n",
      "960.797342193 173.0\n",
      "961.794019934 192.0\n",
      "962.790697674 158.0\n",
      "963.787375415 191.0\n",
      "964.784053156 161.0\n",
      "965.780730897 172.0\n",
      "966.777408638 171.0\n",
      "967.774086379 175.0\n",
      "968.77076412 138.0\n",
      "969.76744186 133.0\n",
      "970.764119601 130.0\n",
      "971.760797342 112.0\n",
      "972.757475083 153.0\n",
      "973.754152824 129.0\n",
      "974.750830565 140.0\n",
      "975.747508306 102.0\n",
      "976.744186047 126.0\n",
      "977.740863787 122.0\n",
      "978.737541528 122.0\n",
      "979.734219269 116.0\n",
      "980.73089701 103.0\n",
      "981.727574751 101.0\n",
      "982.724252492 106.0\n",
      "983.720930233 94.0\n",
      "984.717607973 85.0\n",
      "985.714285714 90.0\n",
      "986.710963455 90.0\n",
      "987.707641196 82.0\n",
      "988.704318937 78.0\n",
      "989.700996678 91.0\n",
      "990.697674419 85.0\n",
      "991.694352159 74.0\n",
      "992.6910299 77.0\n",
      "993.687707641 77.0\n",
      "994.684385382 72.0\n",
      "995.681063123 74.0\n",
      "996.677740864 69.0\n",
      "997.674418605 67.0\n",
      "998.671096346 80.0\n",
      "999.667774086 75.0\n",
      "1000.66445183 58.0\n",
      "1001.66112957 69.0\n",
      "1002.65780731 57.0\n",
      "1003.65448505 72.0\n",
      "1004.65116279 58.0\n",
      "1005.64784053 60.0\n",
      "1006.64451827 55.0\n",
      "1007.64119601 67.0\n",
      "1008.63787375 67.0\n",
      "1009.6345515 55.0\n",
      "1010.63122924 52.0\n",
      "1011.62790698 54.0\n",
      "1012.62458472 47.0\n",
      "1013.62126246 47.0\n",
      "1014.6179402 49.0\n",
      "1015.61461794 52.0\n",
      "1016.61129568 50.0\n",
      "1017.60797342 57.0\n",
      "1018.60465116 50.0\n",
      "1019.6013289 44.0\n",
      "1020.59800664 45.0\n",
      "1021.59468439 38.0\n",
      "1022.59136213 53.0\n",
      "1023.58803987 44.0\n",
      "1024.58471761 42.0\n",
      "1025.58139535 60.0\n",
      "1026.57807309 33.0\n",
      "1027.57475083 36.0\n",
      "1028.57142857 36.0\n",
      "1029.56810631 30.0\n",
      "1030.56478405 36.0\n",
      "1031.56146179 43.0\n",
      "1032.55813953 36.0\n",
      "1033.55481728 34.0\n",
      "1034.55149502 27.0\n",
      "1035.54817276 43.0\n",
      "1036.5448505 41.0\n",
      "1037.54152824 44.0\n",
      "1038.53820598 43.0\n",
      "1039.53488372 38.0\n",
      "1040.53156146 29.0\n",
      "1041.5282392 28.0\n",
      "1042.52491694 30.0\n",
      "1043.52159468 32.0\n",
      "1044.51827243 30.0\n",
      "1045.51495017 29.0\n",
      "1046.51162791 34.0\n",
      "1047.50830565 30.0\n",
      "1048.50498339 29.0\n",
      "1049.50166113 30.0\n",
      "1050.49833887 42.0\n",
      "1051.49501661 33.0\n",
      "1052.49169435 33.0\n",
      "1053.48837209 29.0\n",
      "1054.48504983 38.0\n",
      "1055.48172757 30.0\n",
      "1056.47840532 24.0\n",
      "1057.47508306 27.0\n",
      "1058.4717608 20.0\n",
      "1059.46843854 20.0\n",
      "1060.46511628 30.0\n",
      "1061.46179402 23.0\n",
      "1062.45847176 15.0\n",
      "1063.4551495 35.0\n",
      "1064.45182724 30.0\n",
      "1065.44850498 26.0\n",
      "1066.44518272 26.0\n",
      "1067.44186047 17.0\n",
      "1068.43853821 23.0\n",
      "1069.43521595 25.0\n",
      "1070.43189369 21.0\n",
      "1071.42857143 25.0\n",
      "1072.42524917 25.0\n",
      "1073.42192691 13.0\n",
      "1074.41860465 19.0\n",
      "1075.41528239 17.0\n",
      "1076.41196013 21.0\n",
      "1077.40863787 16.0\n",
      "1078.40531561 16.0\n",
      "1079.40199336 16.0\n",
      "1080.3986711 19.0\n",
      "1081.39534884 17.0\n",
      "1082.39202658 20.0\n",
      "1083.38870432 11.0\n",
      "1084.38538206 17.0\n",
      "1085.3820598 12.0\n",
      "1086.37873754 13.0\n",
      "1087.37541528 21.0\n",
      "1088.37209302 19.0\n",
      "1089.36877076 12.0\n",
      "1090.3654485 10.0\n",
      "1091.36212625 10.0\n",
      "1092.35880399 15.0\n",
      "1093.35548173 25.0\n",
      "1094.35215947 14.0\n",
      "1095.34883721 17.0\n",
      "1096.34551495 10.0\n",
      "1097.34219269 10.0\n",
      "1098.33887043 8.0\n",
      "1099.33554817 11.0\n",
      "1100.33222591 8.0\n",
      "1101.32890365 17.0\n",
      "1102.3255814 11.0\n",
      "1103.32225914 8.0\n",
      "1104.31893688 7.0\n",
      "1105.31561462 11.0\n",
      "1106.31229236 8.0\n",
      "1107.3089701 10.0\n",
      "1108.30564784 8.0\n",
      "1109.30232558 5.0\n",
      "1110.29900332 13.0\n",
      "1111.29568106 8.0\n",
      "1112.2923588 4.0\n",
      "1113.28903654 5.0\n",
      "1114.28571429 10.0\n",
      "1115.28239203 8.0\n",
      "1116.27906977 10.0\n",
      "1117.27574751 7.0\n",
      "1118.27242525 13.0\n",
      "1119.26910299 6.0\n",
      "1120.26578073 8.0\n",
      "1121.26245847 9.0\n",
      "1122.25913621 9.0\n",
      "1123.25581395 5.0\n",
      "1124.25249169 3.0\n",
      "1125.24916944 8.0\n",
      "1126.24584718 10.0\n",
      "1127.24252492 7.0\n",
      "1128.23920266 10.0\n",
      "1129.2358804 12.0\n",
      "1130.23255814 3.0\n",
      "1131.22923588 6.0\n",
      "1132.22591362 6.0\n",
      "1133.22259136 9.0\n",
      "1134.2192691 10.0\n",
      "1135.21594684 6.0\n",
      "1136.21262458 4.0\n",
      "1137.20930233 11.0\n",
      "1138.20598007 7.0\n",
      "1139.20265781 4.0\n",
      "1140.19933555 6.0\n",
      "1141.19601329 5.0\n",
      "1142.19269103 6.0\n",
      "1143.18936877 9.0\n",
      "1144.18604651 7.0\n",
      "1145.18272425 3.0\n",
      "1146.17940199 6.0\n",
      "1147.17607973 6.0\n",
      "1148.17275748 7.0\n",
      "1149.16943522 2.0\n",
      "1150.16611296 6.0\n",
      "1151.1627907 1.0\n",
      "1152.15946844 4.0\n",
      "1153.15614618 8.0\n",
      "1154.15282392 3.0\n",
      "1155.14950166 1.0\n",
      "1156.1461794 5.0\n",
      "1157.14285714 4.0\n",
      "1158.13953488 4.0\n",
      "1159.13621262 5.0\n",
      "1160.13289037 7.0\n",
      "1161.12956811 5.0\n",
      "1162.12624585 4.0\n",
      "1163.12292359 2.0\n",
      "1164.11960133 4.0\n",
      "1165.11627907 6.0\n",
      "1166.11295681 3.0\n",
      "1167.10963455 0.0\n",
      "1168.10631229 5.0\n",
      "1169.10299003 3.0\n",
      "1170.09966777 2.0\n",
      "1171.09634551 4.0\n",
      "1172.09302326 3.0\n",
      "1173.089701 4.0\n",
      "1174.08637874 1.0\n",
      "1175.08305648 3.0\n",
      "1176.07973422 3.0\n",
      "1177.07641196 3.0\n",
      "1178.0730897 3.0\n",
      "1179.06976744 3.0\n",
      "1180.06644518 3.0\n",
      "1181.06312292 7.0\n",
      "1182.05980066 0.0\n",
      "1183.05647841 5.0\n",
      "1184.05315615 3.0\n",
      "1185.04983389 2.0\n",
      "1186.04651163 2.0\n",
      "1187.04318937 4.0\n",
      "1188.03986711 1.0\n",
      "1189.03654485 4.0\n",
      "1190.03322259 4.0\n",
      "1191.02990033 1.0\n",
      "1192.02657807 2.0\n",
      "1193.02325581 3.0\n",
      "1194.01993355 1.0\n",
      "1195.0166113 2.0\n",
      "1196.01328904 6.0\n",
      "1197.00996678 1.0\n",
      "1198.00664452 2.0\n",
      "1199.00332226 0.0\n"
     ]
    }
   ],
   "source": [
    "for t, y in zip(binEdges_ir,ys_ir):\n",
    "    print t, y"
   ]
  },
  {
   "cell_type": "raw",
   "metadata": {},
   "source": [
    "Make a VMI image for each band. Whilst it looks like the loop is nested backward, I wrote it the other way around too and it's actually no faster as python's tpye checking during the band finding is so slow, and it's easier to understand and debug this way around."
   ]
  },
  {
   "cell_type": "code",
   "execution_count": 43,
   "metadata": {
    "collapsed": false
   },
   "outputs": [],
   "source": [
    "bands = []\n",
    "# # for i in xrange(len(troughs_cent)-1):\n",
    "# #     bands.append((troughs_cent[i],troughs_cent[i+1]))\n",
    "# # print bands\n",
    "# bands.append([0,250])\n",
    "\n",
    "# bands.append([900,910])\n",
    "# bands.append([910,920])\n",
    "# bands.append([920,930])\n",
    "# bands.append([930,940])\n",
    "# bands.append([940,950])\n",
    "# bands.append([950,1000])\n",
    "# bands.append([1000,1200])\n",
    "\n",
    "bands.append([1820,1860])\n"
   ]
  },
  {
   "cell_type": "code",
   "execution_count": 44,
   "metadata": {
    "collapsed": false
   },
   "outputs": [
    {
     "name": "stdout",
     "output_type": "stream",
     "text": [
      "Processing band 1 of 1\n",
      "Took 118.5 secs\n"
     ]
    }
   ],
   "source": [
    "#probably don't need to rerun this, and it takes ages, so don't do it by accident:\n",
    "if True: \n",
    "    import time\n",
    "    now = time.time()\n",
    "    n_bunches = 999999\n",
    "\n",
    "    images_ir = [np.zeros((256,256), dtype = np.float64) for _ in bands]\n",
    "    for i, t_range in enumerate(bands):\n",
    "        print 'Processing band %s of %s'%(i+1, len(bands))\n",
    "        for bunchID in sorted(tp_data_ir.keys())[:min(n_bunches,tp_data_ir.keys())]:\n",
    "            for x,y,t,npix in zip(tp_data_ir[bunchID]['xs'],\n",
    "                                  tp_data_ir[bunchID]['ys'],\n",
    "                                  tp_data_ir[bunchID]['ts'],\n",
    "                                  tp_data_ir[bunchID]['npixs']):\n",
    "                if t >= t_range[0] and t<t_range[1]:\n",
    "                    images_ir[i] += fn.makeGaussian(256,1,1,[x,y])\n",
    "#                     images_ir[i] += fn.makeGaussian(256,1,(npix**.5)/1.5,[x,y])\n",
    "\n",
    "    print 'Took %.1f secs'%(time.time()-now)\n"
   ]
  },
  {
   "cell_type": "code",
   "execution_count": null,
   "metadata": {
    "collapsed": false
   },
   "outputs": [],
   "source": [
    "#### pickle the bands and their images\n",
    "pickle_filename = '/Users/mfisherlevine/Desktop/desy/pickles/run'+run_id+'_VMIs.pickle'\n",
    "\n",
    "if False: #C areful, this will overwrite the good pickles if you accidentally run it!\n",
    "    pickle_file = open(pickle_filename, 'wb')\n",
    "    pickle.dump([bands, images], pickle_file)\n",
    "    pickle_file.close()\n",
    "\n",
    "\n",
    "#### Load the bands and their images from the pickle:\n",
    "if True:\n",
    "    print 'Unpickling...'; sys.stdout.flush()\n",
    "    pickle_file = open(pickle_filename, 'rb')\n",
    "    [bands, images] = pickle.load(pickle_file)\n",
    "    pickle_file.close()\n",
    "    print 'Loaded bands and images'"
   ]
  },
  {
   "cell_type": "raw",
   "metadata": {},
   "source": [
    "Plot all the VMI images and give them an appropraite title."
   ]
  },
  {
   "cell_type": "code",
   "execution_count": 46,
   "metadata": {
    "collapsed": true
   },
   "outputs": [],
   "source": [
    "from collections import defaultdict\n",
    "time_matrix = defaultdict(lambda  : defaultdict(list))\n",
    "time_matrix[0][0].append('s1')\n"
   ]
  },
  {
   "cell_type": "code",
   "execution_count": 220,
   "metadata": {
    "collapsed": false
   },
   "outputs": [
    {
     "name": "stdout",
     "output_type": "stream",
     "text": [
      "Took 162.6 secs\n"
     ]
    }
   ],
   "source": [
    "thr = 0.001\n",
    "n_bunches = 10000\n",
    "\n",
    "from collections import defaultdict\n",
    "time_matrix = defaultdict(lambda  : defaultdict(list))\n",
    "\n",
    "now = time.time()\n",
    "tmp_img = np.zeros((256,256), dtype = np.float64)\n",
    "for bunchID in sorted(tp_data_ir.keys())[:min(n_bunches,tp_data_ir.keys())]:\n",
    "    for x,y,t,npix in zip(tp_data_ir[bunchID]['xs'],\n",
    "                          tp_data_ir[bunchID]['ys'],\n",
    "                          tp_data_ir[bunchID]['ts'],\n",
    "                          tp_data_ir[bunchID]['npixs']):\n",
    "        tmp_img = fn.makeGaussian(256,1,1,[x,y])\n",
    "#         tmp_img = fn.makeGaussian(256,1,(npix**.5)/1.5,[x,y])\n",
    "        pixels = np.where(tmp_img>=thr)\n",
    "        for (x,y) in zip(pixels[0],pixels[1]):\n",
    "            time_matrix[x][y].append((t, tmp_img[x][y]))\n",
    "\n",
    "            \n",
    "print 'Took %.1f secs'%(time.time()-now)\n"
   ]
  },
  {
   "cell_type": "code",
   "execution_count": 222,
   "metadata": {
    "collapsed": false
   },
   "outputs": [
    {
     "name": "stdout",
     "output_type": "stream",
     "text": [
      "[(7142.0, 0.0033486093080200945), (5095.0, 0.1350074673615318), (949.0, 0.13500746736154245), (4012.0, 0.0039062500000000009), (10959.0, 0.25), (2916.0, 0.5), (9844.0, 0.001953125), (942.0, 0.021262343752724174), (11215.0, 0.5), (8629.0, 0.001953125), (956.0, 0.021262343752724174), (1101.0, 0.25), (939.0, 0.25), (3526.0, 0.42044820762685725), (968.0, 0.0625), (1008.0, 0.13500746736154245), (7062.0, 0.0625), (939.0, 0.5), (1047.0, 0.85724398285307657), (933.0, 0.5), (918.0, 0.03125), (917.0, 0.85724398285307657), (919.0, 0.03125)]\n"
     ]
    }
   ],
   "source": [
    "print time_matrix[100][150]\n"
   ]
  },
  {
   "cell_type": "code",
   "execution_count": 233,
   "metadata": {
    "collapsed": false
   },
   "outputs": [
    {
     "name": "stdout",
     "output_type": "stream",
     "text": [
      "31.7775318976\n"
     ]
    }
   ],
   "source": [
    "# def time_from_tuple_list(data):\n",
    "#     multiplier = 100\n",
    "#     temp = np.asarray(data)\n",
    "#     xs = temp[:,0]\n",
    "#     ys = temp[:,1]\n",
    "#     tmp = []\n",
    "#     for i in xrange(len(xs)):\n",
    "#         weight = int(ys[i]*multiplier)\n",
    "#         for _ in xrange(weight):\n",
    "#             tmp.append(xs[i])\n",
    "#     return np.mean(np.asarray(tmp)), np.std(np.asarray(tmp))\n",
    "\n",
    "def std_custom(data, t_zero=917):\n",
    "    multiplier = 100\n",
    "    temp = np.asarray(data)\n",
    "    xs = temp[:,0]\n",
    "    ys = temp[:,1]\n",
    "    del temp\n",
    "    npts = 0.\n",
    "    sum_2 = 0.\n",
    "    for i in xrange(len(xs)):\n",
    "        if xs[i] > t_zero + 500: continue\n",
    "        weight = int(ys[i]*multiplier)\n",
    "        for _ in xrange(weight):\n",
    "#             print xs[i]\n",
    "#             break\n",
    "            sum_2 += (xs[i] - t_zero)**2\n",
    "            npts += 1.\n",
    "    if npts ==0: return 0\n",
    "    return (float(sum_2) / float(npts))**.5\n",
    "\n",
    "test = time_matrix[150][101]\n",
    "# print test\n",
    "std = std_custom(test)\n",
    "print std"
   ]
  },
  {
   "cell_type": "code",
   "execution_count": 203,
   "metadata": {
    "collapsed": false
   },
   "outputs": [
    {
     "name": "stdout",
     "output_type": "stream",
     "text": [
      "207\n"
     ]
    }
   ],
   "source": [
    "print len(time_matrix[100][100])"
   ]
  },
  {
   "cell_type": "code",
   "execution_count": 238,
   "metadata": {
    "collapsed": false
   },
   "outputs": [
    {
     "data": {
      "text/plain": [
       "<matplotlib.image.AxesImage at 0x119bb3290>"
      ]
     },
     "execution_count": 238,
     "metadata": {},
     "output_type": "execute_result"
    },
    {
     "data": {
      "image/png": "[encoded data removed]",
      "text/plain": [
       "<matplotlib.figure.Figure at 0x12fb698d0>"
      ]
     },
     "metadata": {},
     "output_type": "display_data"
    }
   ],
   "source": [
    "fn.DisplayImage(time_matrix_npts_image_std, vmax=150)"
   ]
  },
  {
   "cell_type": "code",
   "execution_count": 234,
   "metadata": {
    "collapsed": false,
    "scrolled": true
   },
   "outputs": [
    {
     "name": "stdout",
     "output_type": "stream",
     "text": [
      "0\n",
      "1\n",
      "2\n",
      "3\n",
      "4\n",
      "5\n",
      "6\n",
      "7\n",
      "8\n",
      "9\n",
      "10\n",
      "11\n",
      "12\n",
      "13\n",
      "14\n",
      "15\n",
      "16\n",
      "17\n",
      "18\n",
      "19\n",
      "20\n",
      "21\n",
      "22\n",
      "23\n",
      "24\n",
      "25\n",
      "26\n",
      "27\n",
      "28\n",
      "29\n",
      "30\n",
      "31\n",
      "32\n",
      "33\n",
      "34\n",
      "35\n",
      "36\n",
      "37\n",
      "38\n",
      "39\n",
      "40\n",
      "41\n",
      "42\n",
      "43\n",
      "44\n",
      "45\n",
      "46\n",
      "47\n",
      "48\n",
      "49\n",
      "50\n",
      "51\n",
      "52\n",
      "53\n",
      "54\n",
      "55\n",
      "56\n",
      "57\n",
      "58\n",
      "59\n",
      "60\n",
      "61\n",
      "62\n",
      "63\n",
      "64\n",
      "65\n",
      "66\n",
      "67\n",
      "68\n",
      "69\n",
      "70\n",
      "71\n",
      "72\n",
      "73\n",
      "74\n",
      "75\n",
      "76\n",
      "77\n",
      "78\n",
      "79\n",
      "80\n",
      "81\n",
      "82\n",
      "83\n",
      "84\n",
      "85\n",
      "86\n",
      "87\n",
      "88\n",
      "89\n",
      "90\n",
      "91\n",
      "92\n",
      "93\n",
      "94\n",
      "95\n",
      "96\n",
      "97\n",
      "98\n",
      "99\n",
      "100\n",
      "101\n",
      "102\n",
      "103\n",
      "104\n",
      "105\n",
      "106\n",
      "107\n",
      "108\n",
      "109\n",
      "110\n",
      "111\n",
      "112\n",
      "113\n",
      "114\n",
      "115\n",
      "116\n",
      "117\n",
      "118\n",
      "119\n",
      "120\n",
      "121\n",
      "122\n",
      "123\n",
      "124\n",
      "125\n",
      "126\n",
      "127\n",
      "128\n",
      "129\n",
      "130\n",
      "131\n",
      "132\n",
      "133\n",
      "134\n",
      "135\n",
      "136\n",
      "137\n",
      "138\n",
      "139\n",
      "140\n",
      "141\n",
      "142\n",
      "143\n",
      "144\n",
      "145\n",
      "146\n",
      "147\n",
      "148\n",
      "149\n",
      "150\n",
      "151\n",
      "152\n",
      "153\n",
      "154\n",
      "155\n",
      "156\n",
      "157\n",
      "158\n",
      "159\n",
      "160\n",
      "161\n",
      "162\n",
      "163\n",
      "164\n",
      "165\n",
      "166\n",
      "167\n",
      "168\n",
      "169\n",
      "170\n",
      "171\n",
      "172\n",
      "173\n",
      "174\n",
      "175\n",
      "176\n",
      "177\n",
      "178\n",
      "179\n",
      "180\n",
      "181\n",
      "182\n",
      "183\n",
      "184\n",
      "185\n",
      "186\n",
      "187\n",
      "188\n",
      "189\n",
      "190\n",
      "191\n",
      "192\n",
      "193\n",
      "194\n",
      "195\n",
      "196\n",
      "197\n",
      "198\n",
      "199\n",
      "200\n",
      "201\n",
      "202\n",
      "203\n",
      "204\n",
      "205\n",
      "206\n",
      "207\n",
      "208\n",
      "209\n",
      "210\n",
      "211\n",
      "212\n",
      "213\n",
      "214\n",
      "215\n",
      "216\n",
      "217\n",
      "218\n",
      "219\n",
      "220\n",
      "221\n",
      "222\n",
      "223\n",
      "224\n",
      "225\n",
      "226\n",
      "227\n",
      "228\n",
      "229\n",
      "230\n",
      "231\n",
      "232\n",
      "233\n",
      "234\n",
      "235\n",
      "236\n",
      "237\n",
      "238\n",
      "239\n",
      "240\n",
      "241\n",
      "242\n",
      "243\n",
      "244\n",
      "245\n",
      "246\n",
      "247\n",
      "248\n",
      "249\n",
      "250\n",
      "251\n",
      "252\n",
      "253\n",
      "254\n",
      "255\n"
     ]
    },
    {
     "data": {
      "text/plain": [
       "<matplotlib.image.AxesImage at 0x12fb45d90>"
      ]
     },
     "execution_count": 234,
     "metadata": {},
     "output_type": "execute_result"
    },
    {
     "data": {
      "image/png": "[encoded data removed]",
      "text/plain": [
       "<matplotlib.figure.Figure at 0x11bc1c410>"
      ]
     },
     "metadata": {},
     "output_type": "display_data"
    }
   ],
   "source": [
    "time_matrix_npts_image_mean = np.zeros((256,256), dtype = np.float64)\n",
    "time_matrix_npts_image_std = np.zeros((256,256), dtype = np.float64)\n",
    "\n",
    "for x in xrange(256):\n",
    "    print x\n",
    "    for y in xrange(256):\n",
    "        if len(time_matrix[x][y])<=5: continue\n",
    "        if time_matrix[x][y]:\n",
    "#             mean, std = time_from_tuple_list(time_matrix[x][y])\n",
    "#             time_matrix_npts_image_mean[x][y] = mean\n",
    "#             time_matrix_npts_image_std[x][y] = std\n",
    "\n",
    "            std = std_custom(time_matrix[x][y])\n",
    "            time_matrix_npts_image_std[x][y] = std\n",
    "\n",
    "        else:\n",
    "            time_matrix_npts_image[x][y] = np.nan\n",
    "\n",
    "        \n",
    "# fn.DisplayImage(time_matrix_npts_image_mean)#, vmax='auto')\n",
    "fn.DisplayImage(time_matrix_npts_image_std)#, vmax='auto')"
   ]
  },
  {
   "cell_type": "code",
   "execution_count": 136,
   "metadata": {
    "collapsed": false
   },
   "outputs": [
    {
     "name": "stdout",
     "output_type": "stream",
     "text": [
      "881\n"
     ]
    }
   ],
   "source": [
    "print len(time_matrix[155][155])"
   ]
  },
  {
   "cell_type": "code",
   "execution_count": null,
   "metadata": {
    "collapsed": true
   },
   "outputs": [],
   "source": []
  },
  {
   "cell_type": "code",
   "execution_count": 226,
   "metadata": {
    "collapsed": false
   },
   "outputs": [
    {
     "data": {
      "text/plain": [
       "[<matplotlib.lines.Line2D at 0x12ff89390>]"
      ]
     },
     "execution_count": 226,
     "metadata": {},
     "output_type": "execute_result"
    },
    {
     "data": {
      "image/png": "[encoded data removed]",
      "text/plain": [
       "<matplotlib.figure.Figure at 0x12fe94910>"
      ]
     },
     "metadata": {},
     "output_type": "display_data"
    }
   ],
   "source": [
    "xs, ys = [], []\n",
    "# for (x,y) in time_matrix[155][100]:\n",
    "for (x,y) in time_matrix[100][150]:\n",
    "#     if x<700: continue\n",
    "#     if x >1200:continue\n",
    "    xs.append(x)\n",
    "    ys.append(y)\n",
    "pl.plot(xs,ys,'o')\n",
    "# a,b,c = pl.hist(xs, np.append(np.arange(min(xs), min(xs) + 200, 1),np.arange(min(xs)+200, max(xs) +50, 50)))\n",
    "# a,b,c = pl.hist(xs,10)\n",
    "# print np.append(np.arange(min(xs), min(xs) + 200, 1),np.arange(min(xs)+200, max(xs) +50, 50))"
   ]
  },
  {
   "cell_type": "code",
   "execution_count": 127,
   "metadata": {
    "collapsed": false
   },
   "outputs": [
    {
     "name": "stdout",
     "output_type": "stream",
     "text": [
      "[  8.58288104e-01   2.90796346e+03]\n"
     ]
    },
    {
     "data": {
      "text/plain": [
       "[<matplotlib.lines.Line2D at 0x12897d110>]"
      ]
     },
     "execution_count": 127,
     "metadata": {},
     "output_type": "execute_result"
    },
    {
     "data": {
      "image/png": "[encoded data removed]",
      "text/plain": [
       "<matplotlib.figure.Figure at 0x12897d090>"
      ]
     },
     "metadata": {},
     "output_type": "display_data"
    }
   ],
   "source": [
    "# def func(x, a, t0, tc1, tc2):\n",
    "def func(x, a, t0):\n",
    "\n",
    "    # amplitude, t0, tc1, tc2\n",
    "#     return a * (np.exp((t0 - x)/tc1) - np.exp((t0 - x)/tc2))\n",
    "    return a * np.exp(-x/t0)\n",
    "\n",
    "# popt, pcov = curve_fit(func, xdata, ydata)\n",
    "p0 = [2,900]#,0.0001,0.0002]\n",
    "params, pcov = curve_fit(func, xs, ys, p0=p0)\n",
    "print params\n",
    "\n",
    "pl.plot(xs,ys,'o')\n",
    "pl.plot(np.linspace(0, 12000, 100),\n",
    "        [func(_,params[0],params[1]) for _ in np.linspace(0,12000,100)],\n",
    "#         [func(_,params[0],params[1],params[2],params[3]) for _ in np.linspace(0,12000,100)],\n",
    "        'o')\n",
    "\n",
    "\n"
   ]
  },
  {
   "cell_type": "code",
   "execution_count": 89,
   "metadata": {
    "collapsed": false
   },
   "outputs": [
    {
     "name": "stderr",
     "output_type": "stream",
     "text": [
      "/Users/mfisherlevine/anaconda/lib/python2.7/site-packages/ipykernel/__main__.py:3: RuntimeWarning: overflow encountered in exp\n",
      "  app.launch_new_instance()\n",
      "/Users/mfisherlevine/anaconda/lib/python2.7/site-packages/ipykernel/__main__.py:3: RuntimeWarning: invalid value encountered in double_scalars\n",
      "  app.launch_new_instance()\n"
     ]
    },
    {
     "data": {
      "text/plain": [
       "[<matplotlib.lines.Line2D at 0x1255db190>]"
      ]
     },
     "execution_count": 89,
     "metadata": {},
     "output_type": "execute_result"
    },
    {
     "data": {
      "image/png": "[encoded data removed]",
      "text/plain": [
       "<matplotlib.figure.Figure at 0x1255db8d0>"
      ]
     },
     "metadata": {},
     "output_type": "display_data"
    }
   ],
   "source": [
    "pl.plot(xs,ys,'o')\n",
    "pl.plot(np.linspace(0, 12000, 100),[func(_,params[0],params[1],params[2],params[3]) for _ in np.linspace(0,12000,100)], 'o')"
   ]
  },
  {
   "cell_type": "code",
   "execution_count": 78,
   "metadata": {
    "collapsed": false
   },
   "outputs": [
    {
     "data": {
      "image/png": "[encoded data removed]",
      "text/plain": [
       "<matplotlib.figure.Figure at 0x12461acd0>"
      ]
     },
     "metadata": {},
     "output_type": "display_data"
    }
   ],
   "source": [
    "def func(x, a, b, c):\n",
    "    return a * np.exp(-b * x) + c\n",
    "\n",
    "\n",
    "xdata = np.linspace(0, 4, 50)\n",
    "y = func(xdata, 2.5, 1.3, 0.5)\n",
    "ydata = y + 0.2 * np.random.normal(size=len(xdata))\n",
    "\n",
    "popt, pcov = curve_fit(func, xdata, ydata)\n",
    "\n",
    "pl.plot(np.linspace(0, 5, 50),ydata, 'o')\n",
    "pl.plot(np.linspace(0, 5, 50),[func(_,popt[0],popt[1],popt[2]) for _ in np.linspace(0,5,50)], 'o')\n",
    "pl.show()"
   ]
  },
  {
   "cell_type": "code",
   "execution_count": null,
   "metadata": {
    "collapsed": true
   },
   "outputs": [],
   "source": []
  },
  {
   "cell_type": "code",
   "execution_count": null,
   "metadata": {
    "collapsed": true
   },
   "outputs": [],
   "source": []
  },
  {
   "cell_type": "code",
   "execution_count": null,
   "metadata": {
    "collapsed": true
   },
   "outputs": [],
   "source": []
  },
  {
   "cell_type": "code",
   "execution_count": 67,
   "metadata": {
    "collapsed": false
   },
   "outputs": [],
   "source": [
    "from scipy.optimize import curve_fit"
   ]
  },
  {
   "cell_type": "code",
   "execution_count": 50,
   "metadata": {
    "collapsed": false,
    "scrolled": false
   },
   "outputs": [
    {
     "name": "stdout",
     "output_type": "stream",
     "text": [
      "Auto vmax = 54.3950255006, real max = 792.75\n"
     ]
    },
    {
     "data": {
      "image/png": "[encoded data removed]",
      "text/plain": [
       "<matplotlib.figure.Figure at 0x115c2efd0>"
      ]
     },
     "metadata": {},
     "output_type": "display_data"
    }
   ],
   "source": [
    "fn = reload(fn)\n",
    "cmap = 'gray' ### beware using the de facto standard 'jet',\n",
    "\n",
    "### but it's also replotted below for people who can't live without it\n",
    "for i, image in enumerate(images_ir):\n",
    "    title = 'IR image for times %s to %s ns(band #%s)'%(bands[i][0],bands[i][1], i)\n",
    "    fn.DisplayImage(image, cmap=cmap, title=title,vmax='auto',savefig='/Users/mfisherlevine/Desktop/new_USAF_IR_'+str(i)+'.pdf')\n",
    "    pl.show()\n",
    "\n",
    "    "
   ]
  },
  {
   "cell_type": "code",
   "execution_count": null,
   "metadata": {
    "collapsed": false,
    "scrolled": false
   },
   "outputs": [],
   "source": [
    "fn = reload(fn)\n",
    "cmap = 'jet'\n",
    "for i, image in enumerate(images):\n",
    "    title = 'VMI for times %s to %s (band %s)'%(bands[i][0],bands[i][1], i)\n",
    "    fn.DisplayImage(image, cmap=cmap, title=title,vmax='auto')\n",
    "    pl.show()"
   ]
  },
  {
   "cell_type": "code",
   "execution_count": null,
   "metadata": {
    "collapsed": false
   },
   "outputs": [],
   "source": [
    "cmap = 'jet'\n",
    "image = images[27].copy()\n",
    "fn.DisplayImage(image, cmap=cmap, title=title,vmax='auto')\n",
    "pl.show()\n",
    "\n",
    "import scipy.ndimage as im_process\n",
    "from scipy.ndimage.filters import gaussian_filter\n",
    "\n",
    "\n",
    "deriv = im_process.sobel(gaussian_filter(image,3), mode='constant')\n",
    "fn.DisplayImage(deriv, cmap=cmap, title=title,vmax='auto')\n",
    "pl.show()\n",
    "\n",
    "deriv[abs(deriv)<10]=0\n",
    "fn.DisplayImage(deriv, cmap=cmap, title=title,vmax='auto')\n",
    "pl.show()\n",
    "\n",
    "deriv=abs(deriv/abs(deriv))\n",
    "fn.DisplayImage(deriv, cmap=cmap, title=title)\n",
    "pl.show()\n",
    "\n"
   ]
  },
  {
   "cell_type": "code",
   "execution_count": null,
   "metadata": {
    "collapsed": false
   },
   "outputs": [],
   "source": [
    "from skimage import feature\n",
    "\n",
    "fn = reload(fn)\n",
    "cmap = 'jet'\n",
    "for i, image in enumerate(images):\n",
    "    image = image.copy()\n",
    "    if i!=27: continue\n",
    "#     title = 'Fit to VMI for times %s to %s (band %s)'%(bands[i][0],bands[i][1], i)\n",
    "    title = 'Band %s'%i\n",
    "\n",
    "    fn.DisplayImage(image, cmap=cmap, title=title,vmax='auto')\n",
    "#     image[image < 0.8*np.max(image)] = 0\n",
    "    image[image < np.percentile(image,97)] = 0\n",
    "\n",
    "    pl.show()\n",
    "    \n",
    "#     edges = feature.canny(image, sigma=3)\n",
    "\n",
    "    edges = feature.blob_dog(image)\n",
    "    fn.DisplayImage(edges, cmap=cmap, title=title)\n",
    "    pl.show()\n",
    "\n",
    "#     feature.\n",
    "#     x,y,r = FitCircle(deriv)\n",
    "#     DisplayImageWithFit(deriv,x,y,r,title=title)\n",
    "    \n",
    "#     pl.show()"
   ]
  },
  {
   "cell_type": "code",
   "execution_count": null,
   "metadata": {
    "collapsed": true
   },
   "outputs": [],
   "source": []
  },
  {
   "cell_type": "code",
   "execution_count": null,
   "metadata": {
    "collapsed": false
   },
   "outputs": [],
   "source": [
    "fn = reload(fn)\n",
    "cmap = 'jet'\n",
    "for i, image in enumerate(images):\n",
    "#     if i!=3: continue\n",
    "#     title = 'Fit to VMI for times %s to %s (band %s)'%(bands[i][0],bands[i][1], i)\n",
    "    title = 'Band %s'%i\n",
    "\n",
    "    fn.DisplayImage(image, cmap=cmap, title=title,vmax='auto')\n",
    "    import scipy.ndimage as im_process\n",
    "    from scipy.ndimage.filters import gaussian_filter\n",
    "\n",
    "    deriv = im_process.laplace(gaussian_filter(image,2), mode='constant')\n",
    "#     title += ' gaus, laplace'\n",
    "#     fn.DisplayImage(deriv, cmap=cmap, title=title)\n",
    "#     pl.show()\n",
    "\n",
    "    deriv[deriv < np.percentile(deriv,99.7)] = 0\n",
    "\n",
    "    title += ' 99.7th percentile cut'\n",
    "    fn.DisplayImage(deriv, cmap=cmap, title=title)\n",
    "    pl.show()\n",
    "\n",
    "    deriv=abs(deriv/abs(deriv))\n",
    "#     title += ', normed'\n",
    "#     fn.DisplayImage(deriv, cmap=cmap, title=title)\n",
    "#     pl.show()\n",
    "\n",
    "    x,y,r = FitCircle(deriv)\n",
    "    DisplayImageWithFit(deriv,x,y,r,title=title)\n",
    "    \n",
    "    pl.show()"
   ]
  },
  {
   "cell_type": "code",
   "execution_count": null,
   "metadata": {
    "collapsed": true
   },
   "outputs": [],
   "source": []
  },
  {
   "cell_type": "code",
   "execution_count": null,
   "metadata": {
    "collapsed": true
   },
   "outputs": [],
   "source": [
    "x,y,r = FitCircle(deriv)\n",
    "x_circ, y_circ = MakeCirlePointsFromXYR(x,y,r)"
   ]
  },
  {
   "cell_type": "code",
   "execution_count": null,
   "metadata": {
    "collapsed": true
   },
   "outputs": [],
   "source": [
    "def MakeCirlePointsFromXYR(x, y, r, npts=180):\n",
    "    theta_fit = np.linspace(-np.pi, np.pi, npts)\n",
    "    xs = x + r*np.cos(theta_fit)\n",
    "    ys = y + r*np.sin(theta_fit)\n",
    "    return xs, ys"
   ]
  },
  {
   "cell_type": "code",
   "execution_count": null,
   "metadata": {
    "collapsed": false
   },
   "outputs": [],
   "source": []
  },
  {
   "cell_type": "code",
   "execution_count": null,
   "metadata": {
    "collapsed": false
   },
   "outputs": [],
   "source": [
    "fig = pl.figure(figsize = [10,10])\n",
    "ax = fig.add_subplot(111)\n",
    "# ax.set_xlim([YMIN,YMAX])\n",
    "# ax.set_ylim([XMIN,XMAX])\n",
    "\n",
    "# if vmax == 'auto':\n",
    "#     element = (256*256) - 200\n",
    "#     tmp = image.flatten()\n",
    "#     tmp.sort()\n",
    "#     vmax = tmp[element]\n",
    "#     vmin = tmp[200]\n",
    "#     print 'Auto vmax = %s, real max = %s'%(vmax, np.max(image))\n",
    "\n",
    "# if vmin == 'auto':\n",
    "#     tmp = image.flatten()\n",
    "#     vmin = min(_ for _ in tmp if _ > 0)\n",
    "#     print 'Auto vmin = %s'%vmin\n",
    "\n",
    "im = ax.imshow(deriv)#, vmin=vmin, vmax=vmax, cmap=cmap)\n",
    "pl.plot(y,x, 'x', ms=15)\n",
    "pl.plot(y_circ, x_circ, 'r-.')#, label=method_3, lw=2)\n",
    "ax.set_title(title)\n",
    "fig.colorbar(im)\n"
   ]
  },
  {
   "cell_type": "code",
   "execution_count": null,
   "metadata": {
    "collapsed": false
   },
   "outputs": [],
   "source": [
    "def DisplayImageWithFit(image, x, y, r, vmin=None, vmax=None, cmap='jet', title = ''):\n",
    "    import numpy as np\n",
    "    fig = pl.figure(figsize = [10,10])\n",
    "    ax = fig.add_subplot(111)\n",
    "    ax.set_xlim([0,255])\n",
    "    ax.set_ylim([0,255])\n",
    "\n",
    "    if vmax == 'auto':\n",
    "        element = (256*256) - 200\n",
    "        tmp = image.flatten()\n",
    "        tmp.sort()\n",
    "        vmax = tmp[element]\n",
    "        vmin = tmp[200]\n",
    "        print 'Auto vmax = %s, real max = %s'%(vmax, np.max(image))\n",
    "\n",
    "    if vmin == 'auto':\n",
    "        tmp = image.flatten()\n",
    "        vmin = min(_ for _ in tmp if _ > 0)\n",
    "        print 'Auto vmin = %s'%vmin\n",
    "\n",
    "    im = ax.imshow(image, vmin=vmin, vmax=vmax, cmap=cmap)\n",
    "    \n",
    "    pl.plot(y,x, 'xb', ms=15) # x on the centre\n",
    "    x_circ, y_circ = MakeCirlePointsFromXYR(x,y,r) #generate circle points\n",
    "    pl.plot(y_circ, x_circ, 'r-.', lw=4) #plot circle\n",
    "    ax.set_title(title)\n",
    "    fig.colorbar(im)\n",
    "    return im"
   ]
  },
  {
   "cell_type": "code",
   "execution_count": null,
   "metadata": {
    "collapsed": true
   },
   "outputs": [],
   "source": []
  },
  {
   "cell_type": "code",
   "execution_count": null,
   "metadata": {
    "collapsed": true
   },
   "outputs": [],
   "source": []
  },
  {
   "cell_type": "code",
   "execution_count": null,
   "metadata": {
    "collapsed": true
   },
   "outputs": [],
   "source": []
  },
  {
   "cell_type": "code",
   "execution_count": null,
   "metadata": {
    "collapsed": false
   },
   "outputs": [],
   "source": []
  },
  {
   "cell_type": "raw",
   "metadata": {},
   "source": []
  },
  {
   "cell_type": "code",
   "execution_count": null,
   "metadata": {
    "collapsed": false
   },
   "outputs": [],
   "source": []
  },
  {
   "cell_type": "code",
   "execution_count": null,
   "metadata": {
    "collapsed": false
   },
   "outputs": [],
   "source": []
  },
  {
   "cell_type": "code",
   "execution_count": null,
   "metadata": {
    "collapsed": true
   },
   "outputs": [],
   "source": []
  },
  {
   "cell_type": "code",
   "execution_count": null,
   "metadata": {
    "collapsed": true
   },
   "outputs": [],
   "source": []
  },
  {
   "cell_type": "code",
   "execution_count": null,
   "metadata": {
    "collapsed": true
   },
   "outputs": [],
   "source": []
  },
  {
   "cell_type": "code",
   "execution_count": null,
   "metadata": {
    "collapsed": true
   },
   "outputs": [],
   "source": []
  },
  {
   "cell_type": "code",
   "execution_count": null,
   "metadata": {
    "collapsed": true
   },
   "outputs": [],
   "source": []
  },
  {
   "cell_type": "code",
   "execution_count": null,
   "metadata": {
    "collapsed": true
   },
   "outputs": [],
   "source": []
  },
  {
   "cell_type": "code",
   "execution_count": null,
   "metadata": {
    "collapsed": false
   },
   "outputs": [],
   "source": []
  },
  {
   "cell_type": "code",
   "execution_count": null,
   "metadata": {
    "collapsed": false
   },
   "outputs": [],
   "source": []
  },
  {
   "cell_type": "code",
   "execution_count": null,
   "metadata": {
    "collapsed": false
   },
   "outputs": [],
   "source": []
  },
  {
   "cell_type": "code",
   "execution_count": null,
   "metadata": {
    "collapsed": false
   },
   "outputs": [],
   "source": []
  },
  {
   "cell_type": "code",
   "execution_count": null,
   "metadata": {
    "collapsed": false
   },
   "outputs": [],
   "source": []
  },
  {
   "cell_type": "code",
   "execution_count": null,
   "metadata": {
    "collapsed": true
   },
   "outputs": [],
   "source": []
  },
  {
   "cell_type": "code",
   "execution_count": null,
   "metadata": {
    "collapsed": false
   },
   "outputs": [],
   "source": []
  },
  {
   "cell_type": "code",
   "execution_count": null,
   "metadata": {
    "collapsed": false
   },
   "outputs": [],
   "source": []
  },
  {
   "cell_type": "code",
   "execution_count": null,
   "metadata": {
    "collapsed": true
   },
   "outputs": [],
   "source": []
  },
  {
   "cell_type": "code",
   "execution_count": null,
   "metadata": {
    "collapsed": false
   },
   "outputs": [],
   "source": [
    "def FitCircle(data):\n",
    "    import numpy as np\n",
    "    from scipy import odr\n",
    "\n",
    "    x,y = np.where(data>=0)\n",
    "#     x = np.r_[  9, 35, -13,  10,  23,   0]\n",
    "#     y = np.r_[ 34, 10,   6, -14,  27, -10]\n",
    "    \n",
    "    x_m = np.mean(x)\n",
    "    y_m = np.mean(y)\n",
    "    \n",
    "    method_3  = \"odr\"\n",
    "\n",
    "    import functools\n",
    "    def countcalls(fn):\n",
    "        \"decorator function count function calls \"\n",
    "\n",
    "        @functools.wraps(fn)\n",
    "        def wrapped(*args):\n",
    "            wrapped.ncalls +=1\n",
    "            return fn(*args)\n",
    "\n",
    "        wrapped.ncalls = 0\n",
    "        return wrapped\n",
    "    \n",
    "    @countcalls\n",
    "    def calc_R(xc, yc):\n",
    "        \"\"\" calculate the distance of each 2D points from the center (xc, yc) \"\"\"\n",
    "        return np.sqrt((x-xc)**2 + (y-yc)**2)\n",
    "\n",
    "    @countcalls\n",
    "    def f_3(beta, x):\n",
    "        \"\"\" implicit definition of the circle \"\"\"\n",
    "        return (x[0]-beta[0])**2 + (x[1]-beta[1])**2 -beta[2]**2\n",
    "\n",
    "    # initial guess for parameters\n",
    "    R_m = calc_R(x_m, y_m).mean()\n",
    "    beta0 = [ x_m, y_m, R_m]\n",
    "\n",
    "    # for implicit function :\n",
    "    #       data.x contains both coordinates of the points\n",
    "    #       data.y is the dimensionality of the response\n",
    "    lsc_data   = odr.Data(np.row_stack([x, y]), y=1)\n",
    "    lsc_model  = odr.Model(f_3, implicit=True)\n",
    "    lsc_odr    = odr.ODR(lsc_data, lsc_model, beta0)\n",
    "    lsc_out    = lsc_odr.run()\n",
    "\n",
    "    xc_3, yc_3, R_3 = lsc_out.beta\n",
    "    Ri_3       = calc_R(xc_3, yc_3)\n",
    "    residu_3   = sum((Ri_3 - R_3)**2)\n",
    "    residu2_3  = sum((Ri_3**2-R_3**2)**2)\n",
    "    ncalls_3   = f_3.ncalls\n",
    "\n",
    "    # == METHOD 3b ==\n",
    "    # Advanced usage, with jacobian\n",
    "    method_3b  = \"odr with jacobian\"\n",
    "    print \"\\nMethod 3b : \", method_3b\n",
    "\n",
    "    @countcalls\n",
    "    def f_3b(beta, x):\n",
    "        \"\"\" implicit definition of the circle \"\"\"\n",
    "        return (x[0]-beta[0])**2 + (x[1]-beta[1])**2 -beta[2]**2\n",
    "\n",
    "    @countcalls\n",
    "    def jacb(beta, x):\n",
    "        \"\"\" Jacobian function with respect to the parameters beta.\n",
    "        return df_3b/dbeta\n",
    "        \"\"\"\n",
    "        xc, yc, r = beta\n",
    "        xi, yi    = x\n",
    "\n",
    "        df_db    = np.empty((beta.size, x.shape[1]))\n",
    "        df_db[0] =  2*(xc-xi)                     # d_f/dxc\n",
    "        df_db[1] =  2*(yc-yi)                     # d_f/dyc\n",
    "        df_db[2] = -2*r                           # d_f/dr\n",
    "\n",
    "        return df_db\n",
    "\n",
    "    @countcalls\n",
    "    def jacd(beta, x):\n",
    "        \"\"\" Jacobian function with respect to the input x.\n",
    "        return df_3b/dx\n",
    "        \"\"\"\n",
    "        xc, yc, r = beta\n",
    "        xi, yi    = x\n",
    "\n",
    "        df_dx    = np.empty_like(x)\n",
    "        df_dx[0] =  2*(xi-xc)                     # d_f/dxi\n",
    "        df_dx[1] =  2*(yi-yc)                     # d_f/dyi\n",
    "\n",
    "        return df_dx\n",
    "\n",
    "\n",
    "    def calc_estimate(data):\n",
    "        \"\"\" Return a first estimation on the parameter from the data  \"\"\"\n",
    "        xc0, yc0 = data.x.mean(axis=1)\n",
    "        r0 = np.sqrt((data.x[0]-xc0)**2 +(data.x[1] -yc0)**2).mean()\n",
    "        return xc0, yc0, r0\n",
    "\n",
    "    # for implicit function :\n",
    "    #       data.x contains both coordinates of the points\n",
    "    #       data.y is the dimensionality of the response\n",
    "    lsc_data  = odr.Data(np.row_stack([x, y]), y=1)\n",
    "    lsc_model = odr.Model(f_3b, implicit=True, estimate=calc_estimate, fjacd=jacd, fjacb=jacb)\n",
    "    lsc_odr   = odr.ODR(lsc_data, lsc_model)    # beta0 has been replaced by an estimate function\n",
    "    lsc_odr.set_job(deriv=3)                    # use user derivatives function without checking\n",
    "    lsc_odr.set_iprint(iter=1, iter_step=1)     # print details for each iteration\n",
    "    lsc_out   = lsc_odr.run()\n",
    "\n",
    "    xc_3, yc_3, R_3 = lsc_out.beta\n",
    "    Ri_3       = calc_R(xc_3, yc_3)\n",
    "    residu_3   = sum((Ri_3 - R_3)**2)\n",
    "    residu2_3  = sum((Ri_3**2-R_3**2)**2)\n",
    "    ncalls_3   = f_3.ncalls\n",
    "\n",
    "    print \"\\nFunctions calls : f_3b=%d jacb=%d jacd=%d\" % (f_3b.ncalls, jacb.ncalls, jacd.ncalls)\n",
    "\n",
    "    \n",
    "#     def PlotAll():\n",
    "#         f = pl.figure( facecolor='white')  #figsize=(7, 5.4), dpi=72,\n",
    "#         pl.axis('equal')\n",
    "\n",
    "#         theta_fit = np.linspace(-np.pi, np.pi, 180)\n",
    "\n",
    "#         x_fit3 = xc_3 + R_3*np.cos(theta_fit)\n",
    "#         y_fit3 = yc_3 + R_3*np.sin(theta_fit)\n",
    "#         pl.plot(x_fit3, y_fit3, 'r-.', label=method_3, lw=2)\n",
    "\n",
    "#         pl.plot(xc_3, yc_3, 'x', ms=10)\n",
    "        \n",
    "#         pl.plot(x, y, 'o', label='data', ms=3)#, mec='b', mew=1)\n",
    "#         pl.show()\n",
    "    \n",
    "#     PlotAll()\n",
    "\n",
    "    return xc_3, yc_3, R_3\n",
    "\n",
    "        \n",
    "FitCircle(deriv)\n"
   ]
  },
  {
   "cell_type": "code",
   "execution_count": null,
   "metadata": {
    "collapsed": true
   },
   "outputs": [],
   "source": []
  },
  {
   "cell_type": "code",
   "execution_count": null,
   "metadata": {
    "collapsed": true
   },
   "outputs": [],
   "source": []
  },
  {
   "cell_type": "code",
   "execution_count": null,
   "metadata": {
    "collapsed": false
   },
   "outputs": [],
   "source": [
    "# Snippet for examples of annotating images (not mine):\n",
    "\n",
    "# -*- coding: utf-8 -*-\n",
    "import matplotlib.pyplot as plt\n",
    "\n",
    "fig = plt.figure()\n",
    "fig.suptitle('bold figure suptitle', fontsize=14, fontweight='bold')\n",
    "\n",
    "ax = fig.add_subplot(111)\n",
    "fig.subplots_adjust(top=0.85)\n",
    "ax.set_title('axes title')\n",
    "\n",
    "ax.set_xlabel('xlabel')\n",
    "ax.set_ylabel('ylabel')\n",
    "\n",
    "ax.text(3, 8, 'boxed italics text in data coords', style='italic',\n",
    "        bbox={'facecolor':'red', 'alpha':0.5, 'pad':10})\n",
    "\n",
    "ax.text(2, 6, r'an equation: $E=mc^2$', fontsize=15)\n",
    "\n",
    "# ax.text(3, 2, u'unicode: Institut f\\374r Festk\\366rperphysik')\n",
    "\n",
    "ax.text(0.95, 0.01, 'colored text in axes coords',\n",
    "        verticalalignment='bottom', horizontalalignment='right',\n",
    "        transform=ax.transAxes,\n",
    "        color='green', fontsize=15)\n",
    "\n",
    "\n",
    "ax.plot([2], [1], 'o')\n",
    "ax.annotate('annotate', xy=(2, 1), xytext=(3, 4),\n",
    "            arrowprops=dict(facecolor='black', shrink=0.05))\n",
    "\n",
    "ax.axis([0, 10, 0, 10])\n",
    "\n",
    "plt.show()"
   ]
  },
  {
   "cell_type": "code",
   "execution_count": null,
   "metadata": {
    "collapsed": true
   },
   "outputs": [],
   "source": [
    "# Snippet to text out luminance balancing of colour maps:\n",
    "image = np.zeros((256,256), dtype = np.float)\n",
    "a = fn.makeGaussian(256,1500,50,[100,100])\n",
    "image += a\n",
    "print np.max(a)\n",
    "fn.DisplayImage(image, cmap='jet')\n",
    "fn.DisplayImage(image, cmap='gray')\n",
    "fn.DisplayImage(image, cmap='winter')\n",
    "fn.DisplayImage(image, cmap='cubehelix')"
   ]
  },
  {
   "cell_type": "code",
   "execution_count": null,
   "metadata": {
    "collapsed": true
   },
   "outputs": [],
   "source": [
    "#     PEAK_SETTINGS_CENTROIDED = {}\n",
    "#     PEAK_SETTINGS_CENTROIDED['vector'] = global_TOF_centroided\n",
    "#     PEAK_SETTINGS_CENTROIDED['widths'] = np.asarray([3])\n",
    "#     PEAK_SETTINGS_CENTROIDED['min_snr']    = [0.015]\n",
    "#     PEAK_SETTINGS_CENTROIDED['noise_perc'] = [0.0001]\n",
    "\n",
    "#     peaks_centroided = findpeaks( **PEAK_SETTINGS_CENTROIDED)\n",
    "\n",
    "#     if fig is None:\n",
    "#         print 'declared new fig'\n",
    "#         fig = pl.figure(figsize=[16,8])\n",
    "#     ax_cent = pl.subplot(212)\n",
    "#     ax_raw  = pl.subplot(211, sharex=ax_cent)\n",
    "#     tof1 = ax_cent.plot(range(11810),global_TOF_centroided)\n",
    "#     tof2 =  ax_raw.plot(range(11810),global_TOF)\n",
    "#     ax_cent.set_ylim([0,max(global_TOF_centroided[TOF_TMIN:TOF_TMAX])])\n",
    "#     ax_raw.set_ylim([0,max(global_TOF[TOF_TMIN:TOF_TMAX])])\n",
    "#     ax_cent.set_xlim([TOF_TMIN,TOF_TMAX])\n",
    "#     ax_raw.set_xlim([TOF_TMIN,TOF_TMAX])\n",
    "#     if flip:\n",
    "#         ax_cent.set_xlim(ax_cent.get_xlim()[::-1])\n",
    "#     ax_cent.set_title('ToF Centroided')\n",
    "\n",
    "#     FilterPeaks()\n",
    "#     print 'Centroided peaks found at %s'%peaks_centroided[::-1]\n",
    "#     print '       Raw peaks found at %s'%peaks_raw[::-1]\n",
    "\n",
    "#     if ax_cent is not None:\n",
    "#         for peak in peaks_centroided:\n",
    "#             ax_cent.plot([peak, peak], [0, ax_cent.get_ylim()[1]], color='k', linestyle='--', linewidth=1)\n",
    "\n",
    "#     for peak in peaks_raw:\n",
    "#         ax_raw.plot([peak, peak], [0, ax_raw.get_ylim()[1]], color='k', linestyle='--', linewidth=1)\n",
    "\n",
    "#     ax_raw.set_title('ToF RAW')\n",
    "\n",
    "# #     f.savefig(out_path + 'ToF.png')\n",
    "#     pl.show()\n",
    "\n",
    "#     return ax_raw, ax_cent\n",
    "\n",
    "\n",
    "# def FilterPeaks():\n",
    "#     import operator\n",
    "#     search_range = 5\n",
    "#     cent_threshold = len(tp_data) / 10\n",
    "#     raw_threshold = len(loaded_fileNAMES) * 2\n",
    "#     global peaks_centroided\n",
    "#     global peaks_raw\n",
    "#     new_peaks_centroided = []\n",
    "#     new_peaks_raw = []\n",
    "\n",
    "#     for peak in peaks_centroided:\n",
    "#         _min = max(peak - search_range, 0)\n",
    "#         _max = min(peak + search_range, len(global_TOF_centroided))\n",
    "#         index, maxval = max(enumerate(global_TOF_centroided[_min:_max]), key=operator.itemgetter(1))\n",
    "#         if maxval >= cent_threshold:\n",
    "#             new_peaks_centroided.append(_min+index)\n",
    "\n",
    "#     for peak in peaks_raw:\n",
    "#         _min = max(peak - search_range, 0)\n",
    "#         _max = min(peak + search_range, len(global_TOF))\n",
    "#         index, maxval = max(enumerate(global_TOF[_min:_max]), key=operator.itemgetter(1))\n",
    "#         if maxval >= raw_threshold:\n",
    "#             new_peaks_raw.append(_min+index)\n",
    "\n",
    "#     peaks_centroided = new_peaks_centroided\n",
    "#     peaks_raw = new_peaks_raw"
   ]
  }
 ],
 "metadata": {
  "anaconda-cloud": {},
  "kernelspec": {
   "display_name": "Python [Root]",
   "language": "python",
   "name": "Python [Root]"
  },
  "language_info": {
   "codemirror_mode": {
    "name": "ipython",
    "version": 2
   },
   "file_extension": ".py",
   "mimetype": "text/x-python",
   "name": "python",
   "nbconvert_exporter": "python",
   "pygments_lexer": "ipython2",
   "version": "2.7.11"
  }
 },
 "nbformat": 4,
 "nbformat_minor": 0
}
