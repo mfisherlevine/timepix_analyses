{
 "cells": [
  {
   "cell_type": "code",
   "execution_count": 1,
   "metadata": {
    "collapsed": false
   },
   "outputs": [
    {
     "data": {
      "text/html": [
       "<style>.container { width:90% !important; }</style>"
      ],
      "text/plain": [
       "<IPython.core.display.HTML object>"
      ]
     },
     "execution_count": 1,
     "metadata": {},
     "output_type": "execute_result"
    }
   ],
   "source": [
    "# magic incantation to make the notebook wider\n",
    "from IPython.core.display import HTML\n",
    "HTML(\"<style>.container { width:90% !important; }</style>\")"
   ]
  },
  {
   "cell_type": "code",
   "execution_count": 2,
   "metadata": {
    "collapsed": false
   },
   "outputs": [
    {
     "name": "stderr",
     "output_type": "stream",
     "text": [
      "/Users/mfisherlevine/anaconda/lib/python2.7/site-packages/matplotlib/font_manager.py:273: UserWarning: Matplotlib is building the font cache using fc-list. This may take a moment.\n",
      "  warnings.warn('Matplotlib is building the font cache using fc-list. This may take a moment.')\n"
     ]
    }
   ],
   "source": [
    "import numpy as np\n",
    "import pylab as pl\n",
    "import os, sys\n",
    "# %matplotlib inline\n",
    "\n",
    "import new_functions as fn\n",
    "fn = reload(fn)"
   ]
  },
  {
   "cell_type": "code",
   "execution_count": 3,
   "metadata": {
    "collapsed": true
   },
   "outputs": [],
   "source": [
    "RUN = 10\n",
    "\n",
    "if RUN == 10:\n",
    "    beam_mon_file = '/Users/mfisherlevine/Desktop/desy/RUN10.txt'\n",
    "#     timepix_data_dir = '/Users/mfisherlevine/Desktop/desy/Data/Run10/'\n",
    "    timepix_data_dir = '/Users/mfisherlevine/Desktop/desy/test/'\n",
    "\n",
    "    MCP_file = ''"
   ]
  },
  {
   "cell_type": "code",
   "execution_count": 4,
   "metadata": {
    "collapsed": false
   },
   "outputs": [
    {
     "name": "stdout",
     "output_type": "stream",
     "text": [
      "Found 1 datafiles for run 10\n"
     ]
    }
   ],
   "source": [
    "tp_datafiles = [timepix_data_dir + _ for _ in os.listdir(timepix_data_dir)]\n",
    "print 'Found %s datafiles for run %s'%(len(tp_datafiles), RUN)"
   ]
  },
  {
   "cell_type": "code",
   "execution_count": null,
   "metadata": {
    "collapsed": true
   },
   "outputs": [],
   "source": [
    "# GLITCH_THRESHOLD = 25000\n",
    "\n",
    "# XMIN = 0\n",
    "# XMAX = 255\n",
    "# YMIN = 0\n",
    "# YMAX = 255\n",
    "\n",
    "# TMIN = 0\n",
    "# TMAX = 11810\n",
    "\n",
    "# TCUT = 257\n",
    "\n",
    "# # data_path = '/Users/mfisherlevine/Desktop/desy/Data/Run10/'\n",
    "# data_path = '/Users/mfisherlevine/Desktop/desy/test/'\n",
    "\n",
    "# # data_path = 'C:\\\\Users\\\\Merlin\\\\Desktop\\\\2015_nov\\\\Thr_sweep\\\\'\n",
    "# prefix = '?*'\n",
    "\n",
    "# # savepath =  'C:\\\\Users\\\\Merlin\\\\Desktop\\\\DESY_analysis\\\\Run14\\\\'\n",
    "# # savepath =  'C:\\\\Dropbox\\\\new_plots\\\\Run14\\\\Radial\\\\'\n",
    "# savepath =  '/Users/mfisherlevine/Desktop/temp/'"
   ]
  },
  {
   "cell_type": "code",
   "execution_count": null,
   "metadata": {
    "collapsed": false,
    "scrolled": true
   },
   "outputs": [],
   "source": [
    "# LoadFiles(maxfiles = 9999999)"
   ]
  },
  {
   "cell_type": "code",
   "execution_count": null,
   "metadata": {
    "collapsed": false
   },
   "outputs": [],
   "source": [
    "# TOF_TMIN = 0\n",
    "# TOF_TMAX = 11810\n",
    "\n",
    "# TOF_TMIN = 8100\n",
    "# TOF_TMAX = 8550\n",
    "\n",
    "# # TOF_TMIN = 8280\n",
    "# # TOF_TMAX = 8340\n",
    "\n",
    "# fig = pl.figure(figsize=[16,8])\n",
    "\n",
    "# ax_raw, ax_cent = ShowTOF(flip=True, centroided=True, fig=fig)\n",
    "# fig.tight_layout()\n",
    "# # filename = savepath + 'Run10_12k_files_peak_zoom2.pdf'\n",
    "\n",
    "# fig.savefig(filename)"
   ]
  },
  {
   "cell_type": "code",
   "execution_count": null,
   "metadata": {
    "collapsed": false
   },
   "outputs": [],
   "source": []
  },
  {
   "cell_type": "code",
   "execution_count": null,
   "metadata": {
    "collapsed": false
   },
   "outputs": [],
   "source": [
    "print len(data['/Users/mfisherlevine/Desktop/desy/test/a_2015_12_17_18_11_00_202.txt']['ts'])\n",
    "print sorted(data['/Users/mfisherlevine/Desktop/desy/test/a_2015_12_17_18_11_00_202.txt']['ts'])"
   ]
  },
  {
   "cell_type": "code",
   "execution_count": null,
   "metadata": {
    "collapsed": false
   },
   "outputs": [],
   "source": [
    "print sc.use_CoM_as_centroid\n",
    "print sc.npix_per_cluster_cut"
   ]
  },
  {
   "cell_type": "code",
   "execution_count": 10,
   "metadata": {
    "collapsed": false
   },
   "outputs": [
    {
     "name": "stdout",
     "output_type": "stream",
     "text": [
      "Smart centroided 0 of 1 files...\n",
      "Finished smart centroiding 1 files...\n",
      "Found 52 timecodes after centroiding\n"
     ]
    }
   ],
   "source": [
    "import SmartCentroider\n",
    "SmartCentroider = reload(SmartCentroider)\n",
    "\n",
    "sc = SmartCentroider.SmartCentroider(tp_datafiles)\n",
    "sc.skiplines = 1\n",
    "sc.ToF_noise_threshold = 0\n",
    "sc.n_tof_files = 500\n",
    "sc.TMAX = 1e9\n",
    "sc.TMIN = -1e9\n",
    "sc.inc_diagnoal_joins = True\n",
    "sc.npix_per_cluster_cut=(0,1e9)\n",
    "sc.use_CoM_as_centroid=False\n",
    "\n",
    "sc.DEBUG=-1\n",
    "sc.bands=[(0,11810)]\n",
    "sc.run()\n",
    "data = sc.ret"
   ]
  },
  {
   "cell_type": "code",
   "execution_count": null,
   "metadata": {
    "collapsed": true
   },
   "outputs": [],
   "source": []
  },
  {
   "cell_type": "code",
   "execution_count": null,
   "metadata": {
    "collapsed": true
   },
   "outputs": [],
   "source": []
  },
  {
   "cell_type": "code",
   "execution_count": null,
   "metadata": {
    "collapsed": true
   },
   "outputs": [],
   "source": [
    "sc.MakeSampleTOF()\n",
    "sc.CalculateBands()\n",
    "\n",
    "print 'Smoothed, noise suppressed and truncated ToF spectrum for sample files'\n",
    "sc.ShowTOF(sc.sample_TOF_smoothed)\n",
    "sc.ShowBands()\n",
    "sc.PrintBandsForEditing()"
   ]
  },
  {
   "cell_type": "code",
   "execution_count": null,
   "metadata": {
    "collapsed": true
   },
   "outputs": [],
   "source": []
  },
  {
   "cell_type": "code",
   "execution_count": 8,
   "metadata": {
    "collapsed": true
   },
   "outputs": [],
   "source": [
    "import new_functions as fn\n",
    "import scipy.ndimage as ndimage\n",
    "from scipy.ndimage.measurements import center_of_mass, maximum_position\n",
    "import pylab as plt"
   ]
  },
  {
   "cell_type": "code",
   "execution_count": 7,
   "metadata": {
    "collapsed": true
   },
   "outputs": [],
   "source": [
    "# sc.skiplines = 1\n",
    "# sc.ToF_noise_threshold = 0\n",
    "# sc.n_tof_files = 500\n",
    "TMAX = 1e9\n",
    "TMIN = -1e9\n",
    "# sc.inc_diagnoal_joins = True\n",
    "# sc.npix_per_cluster_cut=(0,1e9)"
   ]
  },
  {
   "cell_type": "code",
   "execution_count": 9,
   "metadata": {
    "collapsed": false
   },
   "outputs": [],
   "source": [
    "test = FindClusters(tp_datafiles)"
   ]
  },
  {
   "cell_type": "code",
   "execution_count": 11,
   "metadata": {
    "collapsed": false
   },
   "outputs": [
    {
     "ename": "NameError",
     "evalue": "name 'test' is not defined",
     "output_type": "error",
     "traceback": [
      "\u001b[0;31m---------------------------------------------------------------------------\u001b[0m",
      "\u001b[0;31mNameError\u001b[0m                                 Traceback (most recent call last)",
      "\u001b[0;32m<ipython-input-11-2f18d032bc60>\u001b[0m in \u001b[0;36m<module>\u001b[0;34m()\u001b[0m\n\u001b[0;32m----> 1\u001b[0;31m \u001b[0;32mprint\u001b[0m \u001b[0mlen\u001b[0m\u001b[0;34m(\u001b[0m\u001b[0mtest\u001b[0m\u001b[0;34m[\u001b[0m\u001b[0mtp_datafiles\u001b[0m\u001b[0;34m[\u001b[0m\u001b[0;36m0\u001b[0m\u001b[0;34m]\u001b[0m\u001b[0;34m]\u001b[0m\u001b[0;34m[\u001b[0m\u001b[0;34m'ts'\u001b[0m\u001b[0;34m]\u001b[0m\u001b[0;34m)\u001b[0m\u001b[0;34m\u001b[0m\u001b[0m\n\u001b[0m\u001b[1;32m      2\u001b[0m \u001b[0;32mprint\u001b[0m \u001b[0msorted\u001b[0m\u001b[0;34m(\u001b[0m\u001b[0mtest\u001b[0m\u001b[0;34m[\u001b[0m\u001b[0mtp_datafiles\u001b[0m\u001b[0;34m[\u001b[0m\u001b[0;36m0\u001b[0m\u001b[0;34m]\u001b[0m\u001b[0;34m]\u001b[0m\u001b[0;34m[\u001b[0m\u001b[0;34m'ts'\u001b[0m\u001b[0;34m]\u001b[0m\u001b[0;34m)\u001b[0m\u001b[0;34m\u001b[0m\u001b[0m\n",
      "\u001b[0;31mNameError\u001b[0m: name 'test' is not defined"
     ]
    }
   ],
   "source": [
    "print len(test[tp_datafiles[0]]['ts'])\n",
    "print sorted(test[tp_datafiles[0]]['ts'])"
   ]
  },
  {
   "cell_type": "code",
   "execution_count": 5,
   "metadata": {
    "collapsed": false
   },
   "outputs": [],
   "source": [
    "img = None\n",
    "def FindClusters(filenames):\n",
    "    global img\n",
    "    bands = [(-999,1e9)]\n",
    "    struct_el=[[1,1,1],[1,1,1],[1,1,1]] # for including diagonal connections as well\n",
    "    # struct_el=[[0,1,0],[1,1,1],[0,1,0]] # for vertical/horizontal connections only\n",
    "    ret = {}\n",
    "    #     xs, ys, ts = [], [], [] #return lists\n",
    "    for filenum, filename in enumerate(filenames):\n",
    "        fileID = filename\n",
    "        ret[fileID]={'xs':[],'ys':[],'ts':[],'npixs':[]}\n",
    "\n",
    "        img = fn.TimepixFileToImage(filename, skiplines=1, t_min=TMIN, t_max=TMAX)\n",
    "\n",
    "        segmentation, segments = ndimage.label(img, struct_el) # find clusters\n",
    "\n",
    "        seg_sum = 0\n",
    "        for bandnum,(tmin, tmax) in enumerate(bands): # Process each band in turn\n",
    "            band_img = img.copy() # make a copy\n",
    "            # TODO: Check that the correct edge is being included/excluded so you're not taking one band edge\n",
    "            # twice and the other not at all!\n",
    "            band_img[band_img > tmax] = 0 # threshold the new image\n",
    "            band_img[band_img <= tmin] = 0\n",
    "\n",
    "            # find clusters\n",
    "            segmentation, segments = ndimage.label(band_img, struct_el) \n",
    "            seg_sum += segments\n",
    "#             if self.DEBUG>=3: print 'Found %s segs in band %s (%s - %s)'%(segments, bandnum, tmin, tmax);sys.stdout.flush()\n",
    "\n",
    "            # Get centroids from clusters using specified method:\n",
    "            if True: # use center of mass weighting\n",
    "                # TODO: check whether cluster 0 is included in CoMs\n",
    "                # TODO: check order of these, i.e. if x,y,t will be coherent\n",
    "                CoMs = center_of_mass(band_img, segmentation, [_ for _ in xrange(1, segments+1)]) #TODO: replace with range(1,segments+1) ??\n",
    "                # NB do not replace with enumerate, you need to know the actual number for each cluster - think about it.\n",
    "                for clust_num in xrange(segments): # cluster 0 = background so skip it\n",
    "                    clust_pix_index = np.where(segmentation==clust_num) # find pixels associated with cluster\n",
    "                    ret[fileID]['ts'].append(np.max(img[clust_pix_index]))\n",
    "                    ret[fileID]['xs'].append(CoMs[clust_num][0])\n",
    "                    ret[fileID]['ys'].append(CoMs[clust_num][1])\n",
    "                    ret[fileID]['npixs'].append(len(clust_pix_index[0]))\n",
    "\n",
    "            else: # Take the earliest timecode in the cluster as the centroid\n",
    "                max_positions = maximum_position(band_img, segmentation, [_ for _ in xrange(1,segments+1)])\n",
    "                for max_pos in max_positions: # Stepping through together, so def. coherent\n",
    "                    self.ret[fileID]['ts'].append(img[max_pos]) # TODO XXXX: I think this is wrong, should be same as logic above\n",
    "                    self.ret[fileID]['xs'].append(max_pos[0]) \n",
    "                    self.ret[fileID]['ys'].append(max_pos[1])\n",
    "                    self.ret[fileID]['npixs'].append('????')\n",
    "\n",
    "#             if self.DEBUG>=2: print 'CoMs for band %s: %s'%(bandnum, CoMs);sys.stdout.flush()\n",
    "        #     index = (np.asarray([_[0] for _ in CoMs]),np.asarray([[_[1] for _ in CoMs]]))\n",
    "        #     codes = img[CoMs]\n",
    "\n",
    "#         if self.DEBUG>=2: print 'Found %s clusters when using bands'%seg_sum;sys.stdout.flush() \n",
    "#     print 'Finished smart centroiding %s files...'%(len(self.filelist));sys.stdout.flush()\n",
    "    return ret\n"
   ]
  },
  {
   "cell_type": "code",
   "execution_count": null,
   "metadata": {
    "collapsed": true
   },
   "outputs": [],
   "source": []
  },
  {
   "cell_type": "code",
   "execution_count": null,
   "metadata": {
    "collapsed": false
   },
   "outputs": [],
   "source": [
    "plt.imshow(img)"
   ]
  },
  {
   "cell_type": "raw",
   "metadata": {},
   "source": [
    "36.5 54.5 7740.0"
   ]
  },
  {
   "cell_type": "code",
   "execution_count": null,
   "metadata": {
    "collapsed": false
   },
   "outputs": [],
   "source": [
    "print img[54,36]"
   ]
  },
  {
   "cell_type": "code",
   "execution_count": 38,
   "metadata": {
    "collapsed": false
   },
   "outputs": [],
   "source": [
    "bands = [(-999,1e9)]\n",
    "struct_el=[[1,1,1],[1,1,1],[1,1,1]] # for including diagonal connections as well\n",
    "# struct_el=[[0,1,0],[1,1,1],[0,1,0]] # for vertical/horizontal connections only\n",
    "ret = {}\n",
    "\n",
    "filename = tp_datafiles[0]\n",
    "\n",
    "fileID = filename\n",
    "ret[fileID]={'xs':[],'ys':[],'ts':[],'npixs':[]}\n",
    "\n",
    "img = fn.TimepixFileToImage(filename, skiplines=1, t_min=TMIN, t_max=TMAX)\n",
    "\n",
    "# segmentation, segments = ndimage.label(img, struct_el) # find clusters\n",
    "# segmentation[segmentation!=5]=0\n",
    "# plt.imshow(segmentation, cmap='gray')\n",
    "\n",
    "seg_sum = 0\n",
    "for bandnum,(tmin, tmax) in enumerate(bands): # Process each band in turn\n",
    "    # Get centroids from clusters using specified method:\n",
    "    if False: # use center of mass weighting\n",
    "        for clust_num in xrange(1, segments+1): # cluster 0 = background so skip it\n",
    "            clust_pix_index = np.where(segmentation==clust_num) # find pixels associated with cluster\n",
    "            t = np.max(img[clust_pix_index])\n",
    "            x = CoMs[clust_num-1][0] + 0.5 # +0.5 to evaluate weights at centres of pixels\n",
    "            y = CoMs[clust_num-1][1] + 0.5\n",
    "            npix = len(clust_pix_index[0])\n",
    "            print t,x,y,npix\n",
    "            ret[fileID]['ts'].append(t)\n",
    "            ret[fileID]['xs'].append(x)\n",
    "            ret[fileID]['ys'].append(y)\n",
    "            ret[fileID]['npixs'].append(npix)\n",
    "\n",
    "    else: # Take the earliest timecode in the cluster as the centroid\n",
    "        max_positions = maximum_position(band_img, segmentation, [_ for _ in xrange(1,segments+1)])\n",
    "#         for max_pos in max_positions: # Stepping through together, so def. coherent\n",
    "        for clust_num in xrange(1, segments+1): # cluster 0 = background so skip it\n",
    "            ret[fileID]['ts'].append(img[max_positions[clust_num-1]])\n",
    "            ret[fileID]['xs'].append(max_positions[clust_num-1][0] +.5) \n",
    "            ret[fileID]['ys'].append(max_positions[clust_num-1][1] +.5)\n",
    "            npix = len(segmentation[segmentation==(clust_num)])\n",
    "            ret[fileID]['npixs'].append(npix)"
   ]
  },
  {
   "cell_type": "code",
   "execution_count": 24,
   "metadata": {
    "collapsed": false
   },
   "outputs": [
    {
     "data": {
      "text/plain": [
       "(1.5, 1.5)"
      ]
     },
     "execution_count": 24,
     "metadata": {},
     "output_type": "execute_result"
    }
   ],
   "source": [
    "a = np.array(([0,0,0,0],\n",
    "              [0,1,1,0],\n",
    "              [0,1,1,0],\n",
    "              [0,0,0,0]))\n",
    "from scipy import ndimage\n",
    "ndimage.measurements.center_of_mass(a)"
   ]
  },
  {
   "cell_type": "code",
   "execution_count": null,
   "metadata": {
    "collapsed": true
   },
   "outputs": [],
   "source": [
    "np.dot()"
   ]
  },
  {
   "cell_type": "code",
   "execution_count": 12,
   "metadata": {
    "collapsed": true
   },
   "outputs": [],
   "source": [
    "ret = sc.ret"
   ]
  },
  {
   "cell_type": "code",
   "execution_count": 13,
   "metadata": {
    "collapsed": false
   },
   "outputs": [
    {
     "name": "stdout",
     "output_type": "stream",
     "text": [
      "7740.0 54.5 36.5 1\n",
      "8201.0 120.5 125.5 1\n",
      "8217.0 130.5 127.5 4\n",
      "8218.0 116.5 127.5 9\n",
      "8224.0 80.5 45.5 11\n",
      "8230.0 101.5 153.5 13\n",
      "8230.0 183.5 171.5 7\n",
      "8230.0 188.5 179.5 11\n",
      "8234.0 126.5 120.5 1\n",
      "8258.0 131.5 122.5 10\n",
      "8259.0 136.5 119.5 4\n",
      "8262.0 121.5 139.5 4\n",
      "8262.0 122.5 148.5 7\n",
      "8276.0 102.5 132.5 13\n",
      "8364.0 139.5 123.5 1\n",
      "8395.0 91.5 132.5 25\n",
      "8395.0 107.5 116.5 7\n",
      "8397.0 70.5 137.5 7\n",
      "8397.0 126.5 122.5 4\n",
      "8397.0 144.5 133.5 12\n",
      "8401.0 138.5 147.5 7\n",
      "8403.0 184.5 140.5 10\n",
      "8405.0 107.5 128.5 10\n",
      "8409.0 59.5 156.5 12\n",
      "8410.0 137.5 208.5 4\n",
      "8411.0 99.5 111.5 20\n",
      "8412.0 124.5 198.5 14\n",
      "8412.0 125.5 110.5 10\n",
      "8413.0 137.5 212.5 31\n",
      "8414.0 158.5 85.5 8\n",
      "8416.0 141.5 153.5 17\n",
      "8418.0 143.5 124.5 14\n",
      "8419.0 52.5 195.5 16\n",
      "8423.0 74.5 184.5 14\n",
      "8423.0 98.5 172.5 14\n",
      "8480.0 134.5 162.5 8\n",
      "8480.0 175.5 181.5 13\n",
      "8481.0 79.5 114.5 22\n",
      "8481.0 139.5 116.5 9\n",
      "8481.0 147.5 173.5 18\n",
      "8482.0 134.5 139.5 198\n",
      "8482.0 161.5 103.5 14\n",
      "8493.0 45.5 224.5 3\n",
      "8495.0 48.5 218.5 4\n",
      "8495.0 103.5 245.5 5\n",
      "8496.0 39.5 198.5 11\n",
      "8496.0 51.5 38.5 14\n",
      "8498.0 176.5 137.5 25\n",
      "8501.0 57.5 235.5 25\n",
      "8502.0 80.5 98.5 18\n",
      "8507.0 135.5 71.5 13\n",
      "9525.0 69.5 243.5 1\n"
     ]
    }
   ],
   "source": [
    "tuples = zip(ret[tp_datafiles[0]]['xs'],\n",
    "             ret[tp_datafiles[0]]['ys'],\n",
    "             ret[tp_datafiles[0]]['ts'],\n",
    "             ret[tp_datafiles[0]]['npixs'])\n",
    "for x,y,t,npix in sorted(tuples, key=lambda tup: tup[2]):\n",
    "    print t,x,y, npix"
   ]
  },
  {
   "cell_type": "code",
   "execution_count": 37,
   "metadata": {
    "collapsed": false
   },
   "outputs": [
    {
     "name": "stdout",
     "output_type": "stream",
     "text": [
      "7740.0 54.5 36.5\n",
      "8201.0 120.5 125.5\n",
      "8217.0 130.0 128.0\n",
      "8218.0 116.5 128.5\n",
      "8224.0 80.3181818182 45.0454545455\n",
      "8230.0 102.269230769 153.423076923\n",
      "8230.0 184.214285714 171.5\n",
      "8230.0 188.409090909 180.136363636\n",
      "8234.0 126.5 120.5\n",
      "8258.0 131.0 122.3\n",
      "8259.0 136.0 120.0\n",
      "8262.0 121.0 140.0\n",
      "8262.0 122.5 148.214285714\n",
      "8276.0 101.346153846 132.038461538\n",
      "8364.0 139.5 123.5\n",
      "8395.0 92.98 132.06\n",
      "8395.0 107.785714286 116.5\n",
      "8397.0 70.7857142857 137.5\n",
      "8397.0 127.0 123.0\n",
      "8397.0 144.0 133.0\n",
      "8401.0 137.785714286 147.5\n",
      "8403.0 184.5 140.7\n",
      "8405.0 107.5 128.7\n",
      "8409.0 59.6666666667 157.5\n",
      "8410.0 137.0 208.0\n",
      "8411.0 98.55 111.8\n",
      "8412.0 124.0 198.785714286\n",
      "8412.0 124.7 110.5\n",
      "8413.0 137.370967742 213.629032258\n",
      "8414.0 159.0 85.5\n",
      "8416.0 142.5 153.852941176\n",
      "8418.0 144.285714286 123.285714286\n",
      "8419.0 53.0 196.5\n",
      "8423.0 74.2142857143 184.0\n",
      "8423.0 98.2142857143 172.0\n",
      "8480.0 134.0 162.5\n",
      "8480.0 175.884615385 181.884615385\n",
      "8481.0 80.4090909091 114.590909091\n",
      "8481.0 139.5 116.5\n",
      "8481.0 147.222222222 175.666666667\n",
      "8482.0 130.01010101 135.641414141\n",
      "8482.0 161.785714286 104.0\n",
      "8493.0 46.1666666667 224.166666667\n",
      "8495.0 49.0 219.0\n",
      "8495.0 103.7 246.1\n",
      "8496.0 39.3181818182 199.318181818\n",
      "8496.0 51.0 37.2142857143\n",
      "8498.0 176.58 139.02\n",
      "8501.0 56.86 235.18\n",
      "8502.0 79.6111111111 97.7777777778\n",
      "8507.0 135.115384615 71.1153846154\n",
      "9525.0 69.5 243.5\n"
     ]
    }
   ],
   "source": [
    "# print len(tuples)\n",
    "for x,y,t,npix in sorted(tuples, key=lambda tup: tup[2]):\n",
    "    print t,x,y"
   ]
  },
  {
   "cell_type": "code",
   "execution_count": 40,
   "metadata": {
    "collapsed": false
   },
   "outputs": [
    {
     "name": "stdout",
     "output_type": "stream",
     "text": [
      "7740.0 54 36\n",
      "8201.0 120 125\n",
      "8217.0 130 127\n",
      "8218.0 116 127\n",
      "8224.0 80 45\n",
      "8230.0 101 153\n",
      "8230.0 183 171\n",
      "8230.0 188 179\n",
      "8234.0 126 120\n",
      "8258.0 131 122\n",
      "8259.0 136 119\n",
      "8262.0 121 139\n",
      "8262.0 122 148\n",
      "8276.0 102 132\n",
      "8364.0 139 123\n",
      "8395.0 91 132\n",
      "8395.0 107 116\n",
      "8397.0 70 137\n",
      "8397.0 126 122\n",
      "8397.0 144 133\n",
      "8401.0 138 147\n",
      "8403.0 184 140\n",
      "8405.0 107 128\n",
      "8409.0 59 156\n",
      "8410.0 137 208\n",
      "8411.0 99 111\n",
      "8412.0 124 198\n",
      "8412.0 125 110\n",
      "8413.0 137 212\n",
      "8414.0 158 85\n",
      "8416.0 141 153\n",
      "8418.0 143 124\n",
      "8419.0 52 195\n",
      "8423.0 74 184\n",
      "8423.0 98 172\n",
      "8480.0 134 162\n",
      "8480.0 175 181\n",
      "8481.0 79 114\n",
      "8481.0 139 116\n",
      "8481.0 147 173\n",
      "8482.0 134 139\n",
      "8482.0 161 103\n",
      "8493.0 45 224\n",
      "8495.0 48 218\n",
      "8495.0 103 245\n",
      "8496.0 39 198\n",
      "8496.0 51 38\n",
      "8498.0 176 137\n",
      "8501.0 57 235\n",
      "8502.0 80 98\n",
      "8507.0 135 71\n",
      "9525.0 69 243\n"
     ]
    }
   ],
   "source": [
    "# print len(tuples)\n",
    "for x,y,t,npix in sorted(tuples, key=lambda tup: tup[2]):\n",
    "    print t,x,y"
   ]
  },
  {
   "cell_type": "code",
   "execution_count": null,
   "metadata": {
    "collapsed": true
   },
   "outputs": [],
   "source": []
  },
  {
   "cell_type": "code",
   "execution_count": null,
   "metadata": {
    "collapsed": true
   },
   "outputs": [],
   "source": []
  },
  {
   "cell_type": "code",
   "execution_count": null,
   "metadata": {
    "collapsed": true
   },
   "outputs": [],
   "source": []
  },
  {
   "cell_type": "code",
   "execution_count": null,
   "metadata": {
    "collapsed": true
   },
   "outputs": [],
   "source": []
  },
  {
   "cell_type": "code",
   "execution_count": null,
   "metadata": {
    "collapsed": true
   },
   "outputs": [],
   "source": []
  },
  {
   "cell_type": "code",
   "execution_count": null,
   "metadata": {
    "collapsed": true
   },
   "outputs": [],
   "source": []
  },
  {
   "cell_type": "code",
   "execution_count": null,
   "metadata": {
    "collapsed": true
   },
   "outputs": [],
   "source": []
  },
  {
   "cell_type": "code",
   "execution_count": null,
   "metadata": {
    "collapsed": true
   },
   "outputs": [],
   "source": []
  },
  {
   "cell_type": "code",
   "execution_count": null,
   "metadata": {
    "collapsed": true
   },
   "outputs": [],
   "source": []
  },
  {
   "cell_type": "code",
   "execution_count": null,
   "metadata": {
    "collapsed": false
   },
   "outputs": [],
   "source": []
  },
  {
   "cell_type": "code",
   "execution_count": null,
   "metadata": {
    "collapsed": true
   },
   "outputs": [],
   "source": []
  },
  {
   "cell_type": "code",
   "execution_count": null,
   "metadata": {
    "collapsed": true
   },
   "outputs": [],
   "source": []
  },
  {
   "cell_type": "code",
   "execution_count": null,
   "metadata": {
    "collapsed": true
   },
   "outputs": [],
   "source": []
  },
  {
   "cell_type": "code",
   "execution_count": null,
   "metadata": {
    "collapsed": true
   },
   "outputs": [],
   "source": []
  },
  {
   "cell_type": "code",
   "execution_count": null,
   "metadata": {
    "collapsed": true
   },
   "outputs": [],
   "source": []
  },
  {
   "cell_type": "code",
   "execution_count": null,
   "metadata": {
    "collapsed": true
   },
   "outputs": [],
   "source": []
  },
  {
   "cell_type": "code",
   "execution_count": null,
   "metadata": {
    "collapsed": true
   },
   "outputs": [],
   "source": []
  },
  {
   "cell_type": "code",
   "execution_count": null,
   "metadata": {
    "collapsed": true
   },
   "outputs": [],
   "source": []
  }
 ],
 "metadata": {
  "anaconda-cloud": {},
  "kernelspec": {
   "display_name": "Python 2",
   "language": "python",
   "name": "python2"
  },
  "language_info": {
   "codemirror_mode": {
    "name": "ipython",
    "version": 2
   },
   "file_extension": ".py",
   "mimetype": "text/x-python",
   "name": "python",
   "nbconvert_exporter": "python",
   "pygments_lexer": "ipython2",
   "version": "2.7.12"
  }
 },
 "nbformat": 4,
 "nbformat_minor": 0
}
