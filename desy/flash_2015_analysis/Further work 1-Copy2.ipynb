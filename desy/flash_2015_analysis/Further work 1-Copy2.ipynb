{
 "cells": [
  {
   "cell_type": "code",
   "execution_count": 1,
   "metadata": {
    "collapsed": false
   },
   "outputs": [],
   "source": [
    "# magic incantation to make the notebook wider\n",
    "from IPython.core.display import HTML\n",
    "HTML(\"<style>.container { width:90% !important; }</style>\")\n",
    "\n",
    "#magic incantation to make all text in LaTeX font:\n",
    "from matplotlib import rc\n",
    "rc('font',**{'family':'serif','serif':['Computer Modern Roman']})\n",
    "rc('text', usetex=True)"
   ]
  },
  {
   "cell_type": "code",
   "execution_count": 2,
   "metadata": {
    "collapsed": false
   },
   "outputs": [
    {
     "name": "stderr",
     "output_type": "stream",
     "text": [
      "/Users/mfisherlevine/anaconda/lib/python2.7/site-packages/matplotlib/font_manager.py:273: UserWarning: Matplotlib is building the font cache using fc-list. This may take a moment.\n",
      "  warnings.warn('Matplotlib is building the font cache using fc-list. This may take a moment.')\n"
     ]
    }
   ],
   "source": [
    "import numpy as np\n",
    "import pylab as pl\n",
    "import os, sys\n",
    "%matplotlib inline\n",
    "\n",
    "import new_functions as fn\n",
    "fn = reload(fn)"
   ]
  },
  {
   "cell_type": "code",
   "execution_count": 3,
   "metadata": {
    "collapsed": false
   },
   "outputs": [
    {
     "name": "stdout",
     "output_type": "stream",
     "text": [
      "Found 25000 datafiles for run 21\n"
     ]
    }
   ],
   "source": [
    "# RUN = 10\n",
    "RUN = 21\n",
    "\n",
    "if RUN == 10:\n",
    "    beam_mon_file = '/Users/mfisherlevine/Desktop/desy/RUN10.txt'\n",
    "    timepix_data_dir = '/Users/mfisherlevine/Desktop/desy/Data/Run10/'\n",
    "    MCP_file = ''\n",
    "elif RUN ==21:\n",
    "    beam_mon_file = '/Users/mfisherlevine/Desktop/desy/RUN21.txt'\n",
    "    timepix_data_dir = '/Users/mfisherlevine/Desktop/desy/Data/Run21/'\n",
    "    MCP_file = ''\n",
    "else:\n",
    "    print 'ERROR: Bad run number'\n",
    "tp_datafiles = [timepix_data_dir + _ for _ in os.listdir(timepix_data_dir)]\n",
    "print 'Found %s datafiles for run %s'%(len(tp_datafiles), RUN)"
   ]
  },
  {
   "cell_type": "code",
   "execution_count": 4,
   "metadata": {
    "collapsed": false
   },
   "outputs": [
    {
     "name": "stdout",
     "output_type": "stream",
     "text": [
      "Fixed 25 dropped shots\n"
     ]
    }
   ],
   "source": [
    "pids, bids, tunnels = pl.loadtxt(beam_mon_file, usecols = (0,1,2), skiprows=1, unpack=True)\n",
    "\n",
    "# dropped bunches have pid of zero, so clean these up\n",
    "n_dropped = 0\n",
    "for i, pid in enumerate(pids): \n",
    "    if pid == 0.0:\n",
    "        pids[i] = pids[i-1] + 1\n",
    "        n_dropped +=1\n",
    "print 'Fixed %s dropped shots'%n_dropped\n",
    "#pids are now contiguous\n",
    "\n",
    "beam_data = {}\n",
    "for pid, bid in zip(pids, bids):\n",
    "    beam_data[pid] = bid\n",
    "del pids, bids, tunnels # remove others to save from accidentally using them incorrectly"
   ]
  },
  {
   "cell_type": "code",
   "execution_count": 5,
   "metadata": {
    "collapsed": false,
    "scrolled": true
   },
   "outputs": [
    {
     "name": "stdout",
     "output_type": "stream",
     "text": [
      "Would have overwritten bunchID 130023736\n",
      "Would have overwritten bunchID 130025174\n",
      "Would have overwritten bunchID 130025667\n",
      "Would have overwritten bunchID 130026258\n",
      "Would have overwritten bunchID 130027623\n",
      "Would have overwritten bunchID 130027855\n",
      "Would have overwritten bunchID 130028109\n",
      "Would have overwritten bunchID 130028203\n",
      "Would have overwritten bunchID 130028723\n",
      "Would have overwritten bunchID 130030145\n",
      "Would have overwritten bunchID 130032243\n",
      "Would have overwritten bunchID 130034632\n",
      "Would have overwritten bunchID 130036318\n",
      "Would have overwritten bunchID 130037503\n",
      "Would have overwritten bunchID 130039764\n",
      "Would have overwritten bunchID 130039844\n",
      "Would have overwritten bunchID 130040004\n",
      "Would have overwritten bunchID 130041925\n",
      "Would have overwritten bunchID 130042086\n",
      "Would have overwritten bunchID 130042245\n",
      "Would have overwritten bunchID 130042325\n",
      "Would have overwritten bunchID 130042599\n",
      "Would have overwritten bunchID 130043926\n",
      "Would have overwritten bunchID 130044246\n",
      "Would have overwritten bunchID 130044326\n",
      "Would have overwritten bunchID 130044406\n",
      "Would have overwritten bunchID 130044566\n",
      "Would have overwritten bunchID 130046087\n",
      "Would have overwritten bunchID 130046487\n",
      "Would have overwritten bunchID 130046887\n",
      "Would have overwritten bunchID 130046967\n",
      "Would have overwritten bunchID 130047127\n",
      "*****\n",
      "Loaded 25000 files\n",
      "Found 24968 unique bunchIDs\n",
      "(Difference = 32)\n"
     ]
    }
   ],
   "source": [
    "tp_data = {}\n",
    "n_files_loaded = 0\n",
    "for filename in tp_datafiles:\n",
    "    bunchID = fn.GetBunchIDFromFile(filename)\n",
    "    n_codes = fn.Get_n_timecodesFromFile(filename)\n",
    "    if not bunchID in tp_data.keys():\n",
    "        tp_data[bunchID] = {}\n",
    "        tp_data[bunchID]['n_codes'] = n_codes\n",
    "        tp_data[bunchID]['filename'] = filename\n",
    "    else:\n",
    "        print 'Would have overwritten bunchID %s'%bunchID\n",
    "    n_files_loaded += 1\n",
    "\n",
    "print '*****\\nLoaded %s files' %n_files_loaded\n",
    "print 'Found %s unique bunchIDs'%len(tp_data)\n",
    "print '(Difference = %s)'%(n_files_loaded-len(tp_data))\n"
   ]
  },
  {
   "cell_type": "code",
   "execution_count": 6,
   "metadata": {
    "collapsed": false
   },
   "outputs": [
    {
     "name": "stdout",
     "output_type": "stream",
     "text": [
      "Offset 0:\n"
     ]
    },
    {
     "data": {
      "image/png": "[encoded data removed]",
      "text/plain": [
       "<matplotlib.figure.Figure at 0x1123523d0>"
      ]
     },
     "metadata": {},
     "output_type": "display_data"
    }
   ],
   "source": [
    "n_skipped = 0\n",
    "offsets = [0]\n",
    "for offset in offsets:\n",
    "    xs, ys = [], []\n",
    "    for bunchID in tp_data.keys():\n",
    "        try:\n",
    "            xs.append(beam_data[bunchID + offset])\n",
    "            ys.append(tp_data[bunchID]['n_codes'])\n",
    "        except:\n",
    "            pass\n",
    "    print 'Offset %s:'%offset\n",
    "    pl.plot(xs, ys, 'x', markersize=2)\n",
    "    pl.show()"
   ]
  },
  {
   "cell_type": "code",
   "execution_count": null,
   "metadata": {
    "collapsed": false
   },
   "outputs": [],
   "source": [
    "img = fn.TimepixFileToImage(tp_datafiles[1])\n",
    "img = np.asarray(img, dtype=np.float)\n",
    "print type(img[0][0])"
   ]
  },
  {
   "cell_type": "code",
   "execution_count": 207,
   "metadata": {
    "collapsed": false,
    "scrolled": false
   },
   "outputs": [
    {
     "name": "stdout",
     "output_type": "stream",
     "text": [
      "Selecting file nums for ToF: [0, 99, 199, 299, 399, 499, 599, 699, 799, 899, 999, 1099, 1199, 1299, 1399, 1499, 1599, 1699, 1799, 1899, 1999, 2099, 2199, 2299, 2399, 2499, 2599, 2699, 2799, 2899, 2999, 3099, 3199, 3299, 3399, 3499, 3599, 3699, 3799, 3899, 3999, 4099, 4199, 4299, 4399, 4499, 4599, 4699, 4799, 4899]\n",
      "selected 50 files for ToF\n",
      "916\n",
      "8507\n",
      "7592\n",
      "136421\n",
      "[2 2 0 0 0 0 0 0 0 0 0 0 0 0 0 0 0 0 0 0 0 0 0 0 0 0 0 0 0 0 0 0 0 0 0 0 0\n",
      " 0 0 0 0 0 0 0 0 0 0 0 0 0]\n",
      "[2 2 0 0 0 0 0 0 0 0 0 0 0 0 0 0 0 0 0 0 0 0 0 0 0 0 0 0 0 0 0 0 0 0 0 0 0\n",
      " 0 0 0 0 0 0 0 0 0 0 0 0 0]\n",
      "[  916.   917.   918. ...,  8505.  8506.  8507.]\n"
     ]
    }
   ],
   "source": [
    "def SmartCentroid(filelist, use_CoM_as_centroid=True, inc_diagnoal_joins=False, bands=None, peak_range=20, DEBUG=0, skiplines=0, files_have_bunchIDs=False, n_tof_files=50, ToF_noise_threshold=0):\n",
    "    '''Get smart x,y,t centroids from a fileset. A ToF spectrum is generated\n",
    "    using a subset of the files (evenly sampled from the set)\n",
    "    to set the band boundaries, though they can be manually specified as well.\n",
    "    If use_CoM_as_centroid==False, the earliest pixel in the cluster is used,\n",
    "    otherwise the centre of mass of the cluster is taken as the centroid.'''\n",
    "    import scipy.ndimage as ndimage\n",
    "    from scipy.ndimage.measurements import center_of_mass, maximum_position\n",
    "    from scipy.signal import argrelmax, savgol_filter\n",
    "    import sys\n",
    "    \n",
    "    ret = {} #return structure.\n",
    "    \n",
    "    if not bands:\n",
    "        # build a set of files to use for making the ToF\n",
    "        # ToF can chage during delay scans etc, so good to pull from across the range\n",
    "        # files rather than just taking the first n files\n",
    "        n_files = len(filelist)\n",
    "        tof_fileset = []\n",
    "        if n_tof_files >= n_files: #if there fewer files that the nominal, take them all\n",
    "            tof_fileset = filelist\n",
    "        else: \n",
    "            indices = [int(ceil(i * n_files / n_tof_files)) for i in xrange(n_tof_files)] #evenly sample the files\n",
    "            if DEBUG >2:print 'Selecting file nums for ToF: %s'%indices\n",
    "            for i in indices:\n",
    "                tof_fileset.append(filelist[i])\n",
    "            if DEBUG >1: print 'selected %s files for ToF'%len(tof_fileset);sys.stdout.flush()\n",
    "\n",
    "        tof_imgs = []\n",
    "        for filename in tof_fileset: # load images\n",
    "            tof_imgs.append(fn.TimepixFileToImage(filename, skiplines=skiplines))\n",
    "        maxval = int(np.max(tof_imgs)) # get ranges for histogram\n",
    "        minval = int(np.min([np.min(_[_>0]) for _ in tof_imgs])) \n",
    "\n",
    "        ys = np.zeros(((maxval-minval)+1,), dtype=np.int64)\n",
    "        xs = np.linspace(minval,maxval,(maxval-minval+1)) # make x points for ToF plot\n",
    "\n",
    "#         for filename in tof_fileset: # build ToF histogram from ToF files\n",
    "        for img in tof_imgs: # histogram each imgage\n",
    "            ys += ndimage.histogram(img[img>0],minval,maxval,bins = (maxval-minval)+1) #much faster than pl.hist\n",
    "        \n",
    "        ys[ys<ToF_noise_threshold] = 0 #filter very small bins\n",
    "        # redo the ranges after filtering out the small values:\n",
    "        first_value = 0\n",
    "        point = 0\n",
    "        while ys[point]<=0:\n",
    "            point += 1\n",
    "            first_value += 1\n",
    "        \n",
    "        new_ys = savgol_filter(ys,5,3) # smooth the ToF spectrum\n",
    "        max_indexes = argrelmax(new_ys, axis=0, order=peak_range) # find local maxima, range of 5 each side\n",
    "        peaks = [xs[_] for _ in max_indexes[0]] # Get peak location from indices\n",
    "\n",
    "        print xs\n",
    "        return\n",
    "        \n",
    "        bands = [] # generate banks from peaks - need to take the midpoints though!\n",
    "        bands.append((minval,(peaks[0]+peaks[1])//2)) #first point to midpoint of first peaks\n",
    "        for i in xrange(1,len(peaks)-1):\n",
    "            bands.append((bands[-1][1],(peaks[i]+peaks[i+1])//2)) # loop through\n",
    "        bands.append((bands[-1][0],maxval))# add last midpoint to last value\n",
    "\n",
    "        if DEBUG>0:\n",
    "            f = pl.figure(figsize=[12,4]) # Make the figure an appropriate shape\n",
    "            ax = pl.subplot(111)\n",
    "            pl.plot(xs,ys,'b') #plot the original ToF\n",
    "            pl.plot(xs,new_ys,'r')#plot the new, smoothed ToF\n",
    "            pl.plot(peaks,[-10 for _ in max_indexes[0]],'bo') # plot peaks in blue\n",
    "            pl.plot([_[0] for _ in bands],[10 for _ in bands],'ro') # plot left band boundaries in red\n",
    "            pl.plot([_[1] for _ in bands],[10 for _ in bands],'ro') # plot right band boundaries in red too\n",
    "#             ticks = [_[0] for _ in bands[1:]]\n",
    "#             ax.set_xticks(ticks, minor=False)\n",
    "#             ax.xaxis.grid(True, which='major')\n",
    "            pl.xlim(minval,maxval) #set limits as python is weird sometimes\n",
    "\n",
    "            # TODO: add a legend saying that colours are what\n",
    "            if DEBUG >1:\n",
    "                print 'Peaks at %s'%peaks\n",
    "                print 'Bands set at %s'%bands;sys.stdout.flush()\n",
    "            pl.show()\n",
    "                  \n",
    "            \n",
    "    ################################################\n",
    "    # We have our band, now let's find the clusters:\n",
    "    if DEBUG >0: print 'Using %s bands...'%len(bands);sys.stdout.flush()\n",
    "\n",
    "    if inc_diagnoal_joins:\n",
    "        struct_el=[[1,1,1],[1,1,1],[1,1,1]] # for including diagonal connections as well\n",
    "    else:\n",
    "        struct_el=[[0,1,0],[1,1,1],[0,1,0]] # for vertical/horizontal connections only\n",
    "\n",
    "#     xs, ys, ts = [], [], [] #return lists\n",
    "    for filename in filelist:\n",
    "        if files_have_bunchIDs: # if we're using bunchIDs then use these as keys in return dict\n",
    "            fileID = fn.GetBunchIDFromFile(filename)\n",
    "        else: #otherwise use the filenames\n",
    "            fileID = filename\n",
    "        ret[fileID]={'xs':[],'ys':[],'ts':[],'npixs':[]}\n",
    "\n",
    "        img = fn.TimepixFileToImage(filename, skiplines=skiplines)\n",
    "\n",
    "        segmentation, segments = ndimage.label(img, struct_el) # find clusters\n",
    "        if DEBUG>2: print 'Found %s clusters without using band information'%segments;sys.stdout.flush()\n",
    "        if DEBUG>3:\n",
    "            print 'Segmented image:';sys.stdout.flush()\n",
    "            f = pl.figure(figsize=[8,8]) \n",
    "            pl.imshow(segmentation)\n",
    "            pl.show()\n",
    "\n",
    "        seg_sum = 0\n",
    "        for bandnum,(tmin, tmax) in enumerate(bands): # Process each band in turn\n",
    "            band_img = img.copy() # make a copy\n",
    "            band_img[band_img > tmax] = 0 # threshold the new image\n",
    "            band_img[band_img <= tmin] = 0\n",
    "            if DEBUG>2:\n",
    "                print 'Band %s (%s - %s) image:'%(bandnum, tmin, tmax);sys.stdout.flush()\n",
    "                f = pl.figure(figsize=[8,8]) \n",
    "                pl.imshow(band_img)\n",
    "                pl.show()\n",
    "\n",
    "            # find clusters\n",
    "            segmentation, segments = ndimage.label(band_img, struct_el) \n",
    "            seg_sum += segments\n",
    "            if DEBUG>3: print 'Found %s segs in band %s (%s - %s)'%(segments,i, tmin, tmax);sys.stdout.flush()\n",
    "            \n",
    "            # Get centroids from clusters using specified method:\n",
    "            if use_CoM_as_centroid: # use center of mass weighting\n",
    "                # TODO: check whether cluster 0 is included in CoMs\n",
    "                # TODO: check order of these, i.e. if x,y,t will be coherent\n",
    "                CoMs = center_of_mass(band_img, segmentation, [_ for _ in xrange(1,segments+1)])\n",
    "                for clust_num in xrange(1,segments): # cluster 0 = background so skip it\n",
    "                    clust_pix_index = np.where(segmentation==clust_num) # find pixels associated with cluster\n",
    "                    ret[fileID]['ts'].append(np.max(img[clust_pix_index]))\n",
    "                    ret[fileID]['xs'].append(CoMs[clust_num][0])\n",
    "                    ret[fileID]['ys'].append(CoMs[clust_num][1])\n",
    "                    ret[fileID]['npixs'].append(len(clust_pix_index[0]))\n",
    "\n",
    "            else: # Take the earliest timecode in the cluster as the centroid\n",
    "                CoMs = maximum_position(band_img, segmentation, [_ for _ in xrange(1,segments+1)])\n",
    "                for com in CoMs: # Stepping through together, so def. coherent\n",
    "                    ret[fileID]['ts'].append(img[com])\n",
    "                    ret[fileID]['xs'].append(com[0])\n",
    "                    ret[fileID]['ys'].append(com[1])\n",
    "                    ret[fileID]['npixs'].append('????')\n",
    "\n",
    "            if DEBUG >2: print 'CoMs for band %s: %s'(band_num, CoMs);sys.stdout.flush()\n",
    "        #     index = (np.asarray([_[0] for _ in CoMs]),np.asarray([[_[1] for _ in CoMs]]))\n",
    "        #     codes = img[CoMs]\n",
    "\n",
    "        if DEBUG>0: print 'Found %s clusters when using bands'%seg_sum;sys.stdout.flush()\n",
    "\n",
    "\n",
    "    ########### Finished!\n",
    "    if DEBUG>0:\n",
    "        ts = []\n",
    "        for key in ret.keys():\n",
    "            ts.extend(ret[key]['ts'])\n",
    "        print 'Centroided ToF Spectrum'\n",
    "        f = pl.figure(figsize=[12,4]) #Make the figure an appropriate shape\n",
    "        a,b,c = pl.hist(ts, max(ts)-min(ts)+1, histtype = 'step')\n",
    "        pl.xlim(minval,maxval) #set limits as python is weird sometimes\n",
    "\n",
    "    return ret\n",
    "\n",
    "fn = reload(fn)\n",
    "ret_dict = SmartCentroid(tp_datafiles[1:5000],DEBUG=3, n_tof_files=50, skiplines=1, files_have_bunchIDs=True, use_CoM_as_centroid=True)\n",
    "# SmartCentroid(tp_datafiles[1:509],DEBUG=1, skiplines=1, files_have_bunchIDs=True)"
   ]
  },
  {
   "cell_type": "code",
   "execution_count": 178,
   "metadata": {
    "collapsed": false
   },
   "outputs": [],
   "source": [
    "from math import ceil\n",
    "\n",
    "def takespread(sequence, num):\n",
    "    length = float(len(sequence))\n",
    "    return [int(ceil(i * length / num)) for i in xrange(num)]"
   ]
  },
  {
   "cell_type": "code",
   "execution_count": 179,
   "metadata": {
    "collapsed": false
   },
   "outputs": [],
   "source": [
    "a = takespread([1,2,3,4,5,6,7,8,9,10],9)"
   ]
  },
  {
   "cell_type": "code",
   "execution_count": 180,
   "metadata": {
    "collapsed": false
   },
   "outputs": [
    {
     "name": "stdout",
     "output_type": "stream",
     "text": [
      "1\n",
      "3\n",
      "4\n",
      "5\n",
      "6\n",
      "7\n",
      "8\n",
      "9\n",
      "10\n"
     ]
    }
   ],
   "source": [
    "for i in a:\n",
    "    print i"
   ]
  },
  {
   "cell_type": "code",
   "execution_count": null,
   "metadata": {
    "collapsed": true
   },
   "outputs": [],
   "source": []
  },
  {
   "cell_type": "code",
   "execution_count": null,
   "metadata": {
    "collapsed": true
   },
   "outputs": [],
   "source": []
  },
  {
   "cell_type": "code",
   "execution_count": null,
   "metadata": {
    "collapsed": true
   },
   "outputs": [],
   "source": []
  },
  {
   "cell_type": "code",
   "execution_count": null,
   "metadata": {
    "collapsed": true
   },
   "outputs": [],
   "source": []
  },
  {
   "cell_type": "code",
   "execution_count": null,
   "metadata": {
    "collapsed": false,
    "scrolled": true
   },
   "outputs": [],
   "source": [
    "struct_el=[[0,1,0],[1,1,1],[0,1,0]] # for vertical/horizontal connections only\n",
    "# struct_el=[[1,1,1],[1,1,1],[1,1,1]] # for including diagonal connections as well\n",
    "\n",
    "from scipy.ndimage.measurements import center_of_mass, maximum_position\n",
    "\n",
    "segmentation,segments=scipy.ndimage.label(img,struct_el) # find clusters\n",
    "print 'Found %s clusters without using band information'%segments\n",
    "\n",
    "print 'Using %s bands...'%len(bands)\n",
    "seg_sum = 0\n",
    "t_centroids = []\n",
    "for i,(tmin, tmax) in enumerate(bands):\n",
    "#     if i!=6: continue\n",
    "    band_img = img.copy() #make a copy\n",
    "    band_img[band_img > tmax] = 0 #threshold new image\n",
    "    band_img[band_img <= tmin] = 0\n",
    "\n",
    "#     f = pl.figure(figsize=[8,8]) \n",
    "#     pl.imshow(band_img)\n",
    "    \n",
    "    segmentation,segments = scipy.ndimage.label(band_img,struct_el) # find clusters\n",
    "    CoMs = center_of_mass(band_img, segmentation, [_ for _ in xrange(1,segments+1)])\n",
    "#     CoMs = maximum_position(band_img, segmentation, [_ for _ in xrange(1,segments+1)])\n",
    "#     print CoMs\n",
    "#     index = (np.asarray([_[0] for _ in CoMs]),np.asarray([[_[1] for _ in CoMs]]))\n",
    "#     codes = img[CoMs]\n",
    "    for com in CoMs:\n",
    "        t_centroids.append(img[com])\n",
    "#     break\n",
    "#     for clust_num in xrange(1,segments): # cluster 0 = background\n",
    "#         clust_pix = np.where(segmentation==clust_num)\n",
    "#         t_centroids.append(np.max(img[clust_pix]))\n",
    "\n",
    "#     print 'Found %s segs in band %s (%s - %s)'%(segments,i, tmin, tmax)\n",
    "    seg_sum += segments\n",
    "#     break\n",
    "\n",
    "print 'Found %s clusters when using bands'%seg_sum\n",
    "print t_centroids"
   ]
  },
  {
   "cell_type": "code",
   "execution_count": null,
   "metadata": {
    "collapsed": false
   },
   "outputs": [],
   "source": [
    "# struct_el=[[0,1,0],[1,1,1],[0,1,0]] # for vertical/horizontal connections only\n",
    "# # struct_el=[[1,1,1],[1,1,1],[1,1,1]] # for including diagonal connections as well\n",
    "\n",
    "# # import scipy.ndimage.measurements.center_of_mass as center_of_mass\n",
    "\n",
    "# segmentation,segments=scipy.ndimage.label(img,struct_el) # find clusters\n",
    "# print 'Found %s clusters without using band information'%segments\n",
    "\n",
    "# print 'Using %s bands...'%len(bands)\n",
    "# seg_sum = 0\n",
    "# t_centroids = []\n",
    "# now = time.time()\n",
    "# for filename in tp_datafiles[0:100]:\n",
    "#     for i,(tmin, tmax) in enumerate(bands):\n",
    "#         band_img = img.copy() #make a copy\n",
    "#         band_img[band_img > tmax] = 0 #threshold new image\n",
    "#         band_img[band_img <= tmin] = 0\n",
    "\n",
    "#         segmentation,segments=scipy.ndimage.label(band_img,struct_el) # find clusters\n",
    "#         for clust_num in xrange(1,segments): # cluster 0 = background\n",
    "#             clust_pix = np.where(segmentation==clust_num)\n",
    "#             t_centroids.append(np.max(img[clust_pix]))\n",
    "        \n",
    "#     #     print 'Found %s segs in band %s (%s - %s)'%(segments,i, tmin, tmax)\n",
    "#         seg_sum += segments\n",
    "# print 'Time = %s secs'%(time.time()-now)\n",
    "# print 'Found %s clusters when using bands'%seg_sum\n",
    "# # print t_centroids\n",
    "\n",
    "###########\n",
    "\n",
    "struct_el=[[0,1,0],[1,1,1],[0,1,0]] # for vertical/horizontal connections only\n",
    "# struct_el=[[1,1,1],[1,1,1],[1,1,1]] # for including diagonal connections as well\n",
    "\n",
    "# import scipy.ndimage.measurements.center_of_mass as center_of_mass\n",
    "\n",
    "segmentation,segments=scipy.ndimage.label(img,struct_el) # find clusters\n",
    "print 'Found %s clusters without using band information'%segments\n",
    "\n",
    "print 'Using %s bands...'%len(bands)\n",
    "seg_sum = 0\n",
    "t_centroids = []\n",
    "now = time.time()\n",
    "for filename in tp_datafiles[0:5000]:\n",
    "    for i,(tmin, tmax) in enumerate(bands):\n",
    "        band_img = img.copy() #make a copy\n",
    "        band_img[band_img > tmax] = 0 #threshold new image\n",
    "        band_img[band_img <= tmin] = 0\n",
    "\n",
    "        segmentation,segments = scipy.ndimage.label(band_img,struct_el) # find clusters\n",
    "#         CoMs = center_of_mass(band_img, segmentation, [_ for _ in xrange(1,segments+1)])\n",
    "        CoMs = maximum_position(band_img, segmentation, [_ for _ in xrange(1,segments+1)])\n",
    "        for com in CoMs:\n",
    "            t_centroids.append(img[com])\n",
    "            seg_sum += segments\n",
    "\n",
    "print 'Time = %s secs'%(time.time()-now)\n",
    "print 'Found %s clusters when using bands'%seg_sum\n"
   ]
  },
  {
   "cell_type": "code",
   "execution_count": null,
   "metadata": {
    "collapsed": false
   },
   "outputs": [],
   "source": [
    "         \n",
    "print 'As a histogram:'\n",
    "ys, binEdges, dummy = pl.hist(all_ts, bins=bins, range=range, histtype = 'step')\n",
    "bincenters = 0.5*(binEdges[1:]+binEdges[:-1])\n",
    "turn_cent, stat_cent, troughs_cent, peaks_cent = fn.GetTurningPoints(ys, bincenters, noise=50)\n",
    "lims = pl.ylim()\n",
    "pl.ylim([lims[0], y_rescale*max(ys)])\n",
    "ax.set_xticks(troughs_cent, minor=False)\n",
    "ax.xaxis.grid(True, which='major')\n",
    "pl.hist([((11810-_-TZERO)*20) for _ in t_centroids], bins)\n",
    "\n",
    "pl.show()"
   ]
  },
  {
   "cell_type": "code",
   "execution_count": null,
   "metadata": {
    "collapsed": false
   },
   "outputs": [],
   "source": [
    "clusters = segmentation.copy() # make a copy to preserve original image\n",
    "for i in xrange(1,segments+1):# loop over clusters\n",
    "    clusters[clusters==i]=np.random.randint(0,segments+1) #colour each cluster a random colour\n",
    "clusters[clusters==0]=np.nan #for a white background"
   ]
  },
  {
   "cell_type": "code",
   "execution_count": null,
   "metadata": {
    "collapsed": false
   },
   "outputs": [],
   "source": [
    "f = pl.figure(figsize=[8,8])\n",
    "pl.imshow(clusters)"
   ]
  },
  {
   "cell_type": "code",
   "execution_count": null,
   "metadata": {
    "collapsed": true
   },
   "outputs": [],
   "source": []
  },
  {
   "cell_type": "code",
   "execution_count": null,
   "metadata": {
    "collapsed": true
   },
   "outputs": [],
   "source": []
  },
  {
   "cell_type": "code",
   "execution_count": null,
   "metadata": {
    "collapsed": true
   },
   "outputs": [],
   "source": []
  },
  {
   "cell_type": "code",
   "execution_count": null,
   "metadata": {
    "collapsed": true
   },
   "outputs": [],
   "source": []
  },
  {
   "cell_type": "code",
   "execution_count": null,
   "metadata": {
    "collapsed": false
   },
   "outputs": [],
   "source": []
  },
  {
   "cell_type": "code",
   "execution_count": null,
   "metadata": {
    "collapsed": true
   },
   "outputs": [],
   "source": []
  },
  {
   "cell_type": "code",
   "execution_count": null,
   "metadata": {
    "collapsed": true
   },
   "outputs": [],
   "source": []
  },
  {
   "cell_type": "code",
   "execution_count": null,
   "metadata": {
    "collapsed": false
   },
   "outputs": [],
   "source": [
    "fn = reload(fn)\n",
    "TCUT = 8000\n",
    "print tp_datafiles[0]\n",
    "\n",
    "fn.ShowClusteredImage(tp_datafiles[1],TCUT)"
   ]
  },
  {
   "cell_type": "code",
   "execution_count": null,
   "metadata": {
    "collapsed": true
   },
   "outputs": [],
   "source": []
  },
  {
   "cell_type": "code",
   "execution_count": null,
   "metadata": {
    "collapsed": true
   },
   "outputs": [],
   "source": []
  },
  {
   "cell_type": "code",
   "execution_count": null,
   "metadata": {
    "collapsed": true
   },
   "outputs": [],
   "source": []
  },
  {
   "cell_type": "code",
   "execution_count": null,
   "metadata": {
    "collapsed": true
   },
   "outputs": [],
   "source": []
  },
  {
   "cell_type": "code",
   "execution_count": null,
   "metadata": {
    "collapsed": true
   },
   "outputs": [],
   "source": []
  },
  {
   "cell_type": "code",
   "execution_count": null,
   "metadata": {
    "collapsed": true
   },
   "outputs": [],
   "source": []
  },
  {
   "cell_type": "code",
   "execution_count": null,
   "metadata": {
    "collapsed": true
   },
   "outputs": [],
   "source": []
  },
  {
   "cell_type": "code",
   "execution_count": null,
   "metadata": {
    "collapsed": true
   },
   "outputs": [],
   "source": []
  },
  {
   "cell_type": "code",
   "execution_count": null,
   "metadata": {
    "collapsed": true
   },
   "outputs": [],
   "source": []
  },
  {
   "cell_type": "code",
   "execution_count": null,
   "metadata": {
    "collapsed": false,
    "scrolled": true
   },
   "outputs": [],
   "source": [
    "fn = reload(fn)\n",
    "import cPickle as pickle\n",
    "\n",
    "# NB These are different units!\n",
    "TCUT = 257 #Raw timecode cut for centroiding\n",
    "TZERO = 3300 #Time, in ns, after inversion and conversion, to set as t0\n",
    "\n",
    "run_id = '%s_tcut%s_tzero%s'%(RUN, TCUT, TZERO)\n",
    "pickle_filename = '/Users/mfisherlevine/Desktop/desy/pickles/tp_data_run'+run_id+'.pickle'\n",
    "\n",
    "now = time.time()\n",
    "# if False:\n",
    "if not os.path.exists(pickle_filename):\n",
    "    for i, bunchID in enumerate(tp_data.keys()):\n",
    "    #     if 'ts' in tp_data[bunchID].keys(): continue #already loaded\n",
    "        if i%100==0:print 'Centroided %s frames'%i; sys.stdout.flush()\n",
    "\n",
    "        filename = tp_data[bunchID]['filename']\n",
    "        dummy, xs, ys, ts, npixs = fn.GetCentroidsXYTFromFile(filename, TCUT)#, gating=[8400,8])\n",
    "        tp_data[bunchID]['xs'] = xs\n",
    "        tp_data[bunchID]['ys'] = ys\n",
    "        tp_data[bunchID]['ts'] = [(_-TZERO)*20 for _ in ts]#already inverted, just translate to ns\n",
    "        tp_data[bunchID]['npixs'] = npixs\n",
    "        tp_data[bunchID]['n_ions'] = len(xs)\n",
    "\n",
    "    pickle_file = open(pickle_filename, 'wb')\n",
    "    pickle.dump(tp_data, pickle_file)\n",
    "    pickle_file.close()\n",
    "    print 'Took %s secs'%(time.time() - now)\n",
    "\n",
    "else:\n",
    "    print 'Unpickling...'; sys.stdout.flush()\n",
    "#     pickle_filename = '/Users/mfisherlevine/Desktop/desy/pickles/tp_data_run'+str(RUN)+'.pickle'\n",
    "    pickle_file = open(pickle_filename, 'rb')\n",
    "    tp_data = pickle.load(pickle_file)\n",
    "    pickle_file.close()\n",
    "    print 'Loaded %s pickled entries'%len(tp_data)\n"
   ]
  },
  {
   "cell_type": "code",
   "execution_count": null,
   "metadata": {
    "collapsed": false
   },
   "outputs": [],
   "source": [
    "# Put all the centroided timecodes in a single list for convenience\n",
    "all_ts = []\n",
    "n_loaded = 0\n",
    "for bunchID in tp_data.keys():\n",
    "    if 'ts' in tp_data[bunchID].keys():\n",
    "        all_ts.extend(tp_data[bunchID]['ts'])\n",
    "        n_loaded += 1\n",
    "print 'Collated centroided timecodes from %s shots'%n_loaded\n",
    "print '%s times in total'%len(all_ts)"
   ]
  },
  {
   "cell_type": "raw",
   "metadata": {},
   "source": [
    "Make the same plot as before, but plotting the number of ions, rather than the number of timecodes. After that, we'll look at the correlation for single ion species (just because it's easy)."
   ]
  },
  {
   "cell_type": "code",
   "execution_count": null,
   "metadata": {
    "collapsed": false
   },
   "outputs": [],
   "source": [
    "n_skipped = 0\n",
    "offsets = [0]\n",
    "for offset in offsets:\n",
    "    xs, ys = [], []\n",
    "    for bunchID in tp_data.keys():\n",
    "        try:\n",
    "            ys.append(tp_data[bunchID]['n_ions']) #NB has to be this one first due to dropped frames\n",
    "            xs.append(beam_data[bunchID + offset])\n",
    "        except Exception as e:\n",
    "            pass\n",
    "    print 'Offset %s:'%offset\n",
    "    pl.plot(xs, ys, 'x', markersize=2)\n",
    "    pl.show()"
   ]
  },
  {
   "cell_type": "raw",
   "metadata": {},
   "source": [
    "Let's look at the TOF spectrum, including the raw spectrum:"
   ]
  },
  {
   "cell_type": "code",
   "execution_count": null,
   "metadata": {
    "collapsed": false
   },
   "outputs": [],
   "source": [
    "# Load the raw timecodes, converting the same way as the others\n",
    "raw_timecodes = []\n",
    "for i, filename in enumerate(tp_datafiles):\n",
    "    if i==1000: print 'Loaded %s files'%i; sys.stdout.flush()\n",
    "    raw_timecodes.extend(((11810-_)-TZERO)*20 for _ in fn.GetTimecodes_SingleFile(filename, skiplines=1))\n",
    "print 'Loaded %s raw timecodes'%len(raw_timecodes)"
   ]
  },
  {
   "cell_type": "code",
   "execution_count": null,
   "metadata": {
    "collapsed": false
   },
   "outputs": [],
   "source": [
    "# range = [0,9000]\n",
    "range = [0,6000]\n",
    "# range = [4000,5000]\n",
    "\n",
    "############\n",
    "# for the raw spectrum:\n",
    "\n",
    "y_rescale = 1 # big peak is too big, so clip y-axis by rescaling to this fraction of max\n",
    "bins = min(int((max(raw_timecodes)-min(raw_timecodes)+1)),(range[1]-range[0]+1))//20\n",
    "\n",
    "fig = pl.figure(figsize=[16,4])\n",
    "ax = pl.subplot(111)\n",
    "\n",
    "# as a hist\n",
    "print 'Raw timecodes a histogram:'\n",
    "ys, binEdges, dummy = pl.hist(raw_timecodes, bins=bins, range=range, histtype = 'step')\n",
    "bincenters = 0.5*(binEdges[1:]+binEdges[:-1])\n",
    "lims = pl.ylim()\n",
    "pl.ylim([lims[0], y_rescale*max(ys)])\n",
    "# ax.set_xticks(ticks, minor=False)\n",
    "turn_raw, stat_raw, troughs_raw, peaks_raw = fn.GetTurningPoints(ys, bincenters, noise=500)\n",
    "ax.set_xticks(troughs_raw, minor=False)\n",
    "ax.xaxis.grid(True, which='major')\n",
    "pl.show()\n",
    "\n",
    "\n",
    "############\n",
    "# for the centroided spectrum:\n",
    "\n",
    "y_rescale = 0.3 # big peak is too big, so clip y-axis by rescaling to this fraction of max\n",
    "bins = min(int((max(all_ts)-min(all_ts)+1)),(range[1]-range[0]+1))//20\n",
    "\n",
    "fig = pl.figure(figsize=[16,4])\n",
    "ax = pl.subplot(111)\n",
    "\n",
    "# as a hist\n",
    "print 'As a histogram:'\n",
    "ys, binEdges, dummy = pl.hist(all_ts, bins=bins, range=range, histtype = 'step')\n",
    "bincenters = 0.5*(binEdges[1:]+binEdges[:-1])\n",
    "turn_cent, stat_cent, troughs_cent, peaks_cent = fn.GetTurningPoints(ys, bincenters, noise=50)\n",
    "lims = pl.ylim()\n",
    "pl.ylim([lims[0], y_rescale*max(ys)])\n",
    "ax.set_xticks(troughs_cent, minor=False)\n",
    "ax.xaxis.grid(True, which='major')\n",
    "pl.show()\n",
    "\n",
    "# as a line graph\n",
    "print 'As a line graph:'\n",
    "fig = pl.figure(figsize=[16,4])\n",
    "ax = pl.subplot(111)\n",
    "bincenters = 0.5*(binEdges[1:]+binEdges[:-1])\n",
    "a = pl.plot(bincenters, ys,'r-')\n",
    "lims = pl.ylim()\n",
    "pl.ylim([lims[0], y_rescale*max(ys)])\n",
    "minor_spacing = 200\n",
    "xlims = pl.xlim()\n",
    "# ticks = [_ * minor_spacing for _ in xrange(int(xlims[1]-xlims[0])//minor_spacing)]\n",
    "ax.set_xticks(troughs_cent, minor=False)\n",
    "ax.xaxis.grid(True, which='major')\n",
    "pl.show()\n",
    "# ax.set_autoscale_on(False)\n",
    "\n"
   ]
  },
  {
   "cell_type": "raw",
   "metadata": {},
   "source": [
    "Create a list of tuples with the bands in:"
   ]
  },
  {
   "cell_type": "code",
   "execution_count": null,
   "metadata": {
    "collapsed": false
   },
   "outputs": [],
   "source": [
    "bands = []\n",
    "for i in xrange(len(troughs_cent)-1):\n",
    "    bands.append((troughs_cent[i],troughs_cent[i+1]))\n",
    "print bands"
   ]
  },
  {
   "cell_type": "raw",
   "metadata": {},
   "source": [
    "These are a good starting point, but let's re-define them by hand so we can tweak their values:"
   ]
  },
  {
   "cell_type": "code",
   "execution_count": null,
   "metadata": {
    "collapsed": false
   },
   "outputs": [],
   "source": [
    "if RUN==10:\n",
    "    bands = [( 30.0, 140.0), \n",
    "             (140.0, 500.0),\n",
    "             (500.0, 750.0),\n",
    "             (750.0, 1490.0),\n",
    "             (1490.0, 1710.0),\n",
    "             (1710.0, 1870.0),\n",
    "             (1870.0, 1950.0),\n",
    "             (1950.0, 2070.0),\n",
    "             (2070.0, 2210.0),\n",
    "             (2210.0, 2650.0),\n",
    "             (2650.0, 2750.0),\n",
    "             (2750.0, 2810.0),\n",
    "             (2810.0, 2950.0),\n",
    "             (2950.0, 3210.0),\n",
    "             (3210.0, 3490.0),\n",
    "             (3490.0, 3930.0),\n",
    "             (3930.0, 4070.0),\n",
    "             (4070.0, 4370.0),\n",
    "             (4370.0, 4510.0),\n",
    "             (4510.0, 4790.0),\n",
    "             (4790.0, 4830.0),\n",
    "             (4830.0, 4910.0),\n",
    "             (4910.0, 5030.0),\n",
    "             (5030.0, 5530.0),\n",
    "             (5530.0, 5710.0),\n",
    "             (5710.0, 5970.0)]\n",
    "\n",
    "# grab the first of each of these tuples, and append the last to get back the edges\n",
    "band_edges = [_[0] for _ in bands]; band_edges.append(bands[-1][1])\n",
    "print band_edges"
   ]
  },
  {
   "cell_type": "raw",
   "metadata": {},
   "source": [
    "Let's replot the centroided historgram with our tweaked bands:"
   ]
  },
  {
   "cell_type": "code",
   "execution_count": null,
   "metadata": {
    "collapsed": false
   },
   "outputs": [],
   "source": [
    "# range = [0,9000]\n",
    "range = [0,6000]\n",
    "\n",
    "############\n",
    "# for the centroided spectrum:\n",
    "\n",
    "y_rescale = 0.3 # big peak is too big, so clip y-axis by rescaling to this fraction of max\n",
    "bins = min(int((max(all_ts)-min(all_ts)+1)),(range[1]-range[0]+1))//20\n",
    "\n",
    "fig = pl.figure(figsize=[16,4])\n",
    "ax = pl.subplot(111)\n",
    "\n",
    "# as a hist\n",
    "print 'As a histogram:'\n",
    "ys, binEdges, dummy = pl.hist(all_ts, bins=bins, range=range, histtype = 'step')\n",
    "bincenters = 0.5*(binEdges[1:]+binEdges[:-1])\n",
    "lims = pl.ylim()\n",
    "pl.ylim([lims[0], y_rescale*max(ys)])\n",
    "ax.set_xticks(band_edges, minor=False)\n",
    "ax.xaxis.grid(True, which='major')\n",
    "pl.show()\n",
    "\n",
    "#### as a line graph\n",
    "# print 'As a line graph:'\n",
    "# fig = pl.figure(figsize=[16,4])\n",
    "# ax = pl.subplot(111)\n",
    "# bincenters = 0.5*(binEdges[1:]+binEdges[:-1])\n",
    "# a = pl.plot(bincenters, ys,'r-')\n",
    "# lims = pl.ylim()\n",
    "# pl.ylim([lims[0], y_rescale*max(ys)])\n",
    "# minor_spacing = 200\n",
    "# xlims = pl.xlim()\n",
    "### ticks = [_ * minor_spacing for _ in xrange(int(xlims[1]-xlims[0])//minor_spacing)]\n",
    "# ax.set_xticks(band_edges, minor=False)\n",
    "# ax.xaxis.grid(True, which='major')\n",
    "# pl.show()\n",
    "# # ax.set_autoscale_on(False)\n",
    "print band_edges"
   ]
  },
  {
   "cell_type": "code",
   "execution_count": null,
   "metadata": {
    "collapsed": false
   },
   "outputs": [],
   "source": []
  },
  {
   "cell_type": "code",
   "execution_count": null,
   "metadata": {
    "collapsed": true
   },
   "outputs": [],
   "source": []
  },
  {
   "cell_type": "code",
   "execution_count": null,
   "metadata": {
    "collapsed": true
   },
   "outputs": [],
   "source": []
  },
  {
   "cell_type": "raw",
   "metadata": {},
   "source": [
    "Take a look at the correlation plot for each ion species:"
   ]
  },
  {
   "cell_type": "code",
   "execution_count": null,
   "metadata": {
    "collapsed": false,
    "scrolled": true
   },
   "outputs": [],
   "source": [
    "n_skipped = 0\n",
    "for t_range in bands:\n",
    "    xs, ys = [], []\n",
    "    for bunchID in tp_data.keys():\n",
    "        try:\n",
    "            n_in_range = 0\n",
    "            for t in tp_data[bunchID]['ts']:\n",
    "                if t>= t_range[0] and t < t_range[1]:\n",
    "                    n_in_range += 1\n",
    "            ys.append(n_in_range) #NB has to be this one first due to dropped frames\n",
    "            xs.append(beam_data[bunchID])\n",
    "        except Exception as e:\n",
    "            pass\n",
    "    print 'Band = %s - %s:'%(t_range[0], t_range[1])\n",
    "    pl.plot(xs, ys, 'x', markersize=2)\n",
    "    pl.show()"
   ]
  },
  {
   "cell_type": "raw",
   "metadata": {},
   "source": [
    "Make a VMI image for each band. Whilst it looks like the loop is nested backward, I wrote it the other way around too and it's actually no faster as python's tpye checking during the band finding is so slow, and it's easier to understand and debug this way around."
   ]
  },
  {
   "cell_type": "code",
   "execution_count": null,
   "metadata": {
    "collapsed": false
   },
   "outputs": [],
   "source": [
    "#probably don't need to rerun this, and it takes ages, so don't do it by accident:\n",
    "if True: \n",
    "    import time\n",
    "    now = time.time()\n",
    "    n_bunches = 999999\n",
    "\n",
    "    images = [np.zeros((256,256), dtype = np.float64) for _ in bands]\n",
    "    for i, t_range in enumerate(bands):\n",
    "        print 'Processing band %s of %s'%(i+1, len(bands))\n",
    "        for bunchID in sorted(tp_data.keys())[:min(n_bunches,tp_data.keys())]:\n",
    "            for x,y,t,npix in zip(tp_data[bunchID]['xs'],\n",
    "                                  tp_data[bunchID]['ys'],\n",
    "                                  tp_data[bunchID]['ts'],\n",
    "                                  tp_data[bunchID]['npixs']):\n",
    "                if t >= t_range[0] and t<t_range[1]:\n",
    "        #             image += makeGaussian(256,1,1.5,[x,y])\n",
    "                    images[i] += fn.makeGaussian(256,1,(npix**.5)/1.5,[x,y])\n",
    "    print 'Took %.1f secs'%(time.time()-now)\n",
    "# ### The un-debugged version that doesn't nest the loops backwards, but also doens't run faster\n",
    "# import time\n",
    "# n_bunches = 1000\n",
    "\n",
    "# outside_range = np.zeros((256,256), dtype = np.float64)\n",
    "# images = [np.zeros((256,256), dtype = np.float64) for _ in bands]\n",
    "\n",
    "# now = time.time()\n",
    "# for bunchID in sorted(tp_data.keys())[:min(n_bunches,tp_data.keys())]:\n",
    "#     for x,y,t,npix in zip(tp_data[bunchID]['xs'],\n",
    "#                           tp_data[bunchID]['ys'],\n",
    "#                           tp_data[bunchID]['ts'],\n",
    "#                           tp_data[bunchID]['npixs']):\n",
    "#         found_band = False\n",
    "#         for i, band in enumerate(bands):\n",
    "#             if t >= band[0] and t<band[1]:\n",
    "# #             image += makeGaussian(256,1,1.5,[x,y])\n",
    "#                 images[i] += fn.makeGaussian(256,1,(npix**.5)/1.5,[x,y])\n",
    "#                 found_band = True\n",
    "#             break\n",
    "#         if found_band == False:\n",
    "#             outside_range += fn.makeGaussian(256,1,(npix**.5)/1.5,[x,y])\n",
    "# print 'Took %.1f secs'%(time.time()-now)"
   ]
  },
  {
   "cell_type": "code",
   "execution_count": null,
   "metadata": {
    "collapsed": false
   },
   "outputs": [],
   "source": [
    "#### pickle the bands and their images\n",
    "pickle_filename = '/Users/mfisherlevine/Desktop/desy/pickles/run'+run_id+'_VMIs.pickle'\n",
    "\n",
    "if False: #C areful, this will overwrite the good pickles if you accidentally run it!\n",
    "    pickle_file = open(pickle_filename, 'wb')\n",
    "    pickle.dump([bands, images], pickle_file)\n",
    "    pickle_file.close()\n",
    "\n",
    "\n",
    "#### Load the bands and their images from the pickle:\n",
    "if True:\n",
    "    print 'Unpickling...'; sys.stdout.flush()\n",
    "    pickle_file = open(pickle_filename, 'rb')\n",
    "    [bands, images] = pickle.load(pickle_file)\n",
    "    pickle_file.close()\n",
    "    print 'Loaded bands and images'"
   ]
  },
  {
   "cell_type": "code",
   "execution_count": null,
   "metadata": {
    "collapsed": false
   },
   "outputs": [],
   "source": [
    "print bands"
   ]
  },
  {
   "cell_type": "raw",
   "metadata": {},
   "source": [
    "Plot all the VMI images and give them an appropraite title."
   ]
  },
  {
   "cell_type": "code",
   "execution_count": null,
   "metadata": {
    "collapsed": false,
    "scrolled": false
   },
   "outputs": [],
   "source": [
    "fn = reload(fn)\n",
    "cmap = 'copper' ### beware using the de facto standard 'jet',\n",
    "                ### but it's also replotted below for people who can't live without it\n",
    "for i, image in enumerate(images):\n",
    "    title = 'VMI for times %s to %s (band #%s)'%(bands[i][0],bands[i][1], i)\n",
    "    fn.DisplayImage(image, cmap=cmap, title=title,vmax='auto')\n",
    "    pl.show()\n",
    "    "
   ]
  },
  {
   "cell_type": "raw",
   "metadata": {},
   "source": [
    "\n",
    "Again for those who are a fan of other colour maps:\n",
    "Please read this important page on choosing colour maps:\n",
    "https://jakevdp.github.io/blog/2014/10/16/how-bad-is-your-colormap/\n"
   ]
  },
  {
   "cell_type": "code",
   "execution_count": null,
   "metadata": {
    "collapsed": false,
    "scrolled": false
   },
   "outputs": [],
   "source": [
    "fn = reload(fn)\n",
    "cmap = 'jet'\n",
    "for i, image in enumerate(images):\n",
    "    title = 'VMI for times %s to %s (band %s)'%(bands[i][0],bands[i][1], i)\n",
    "    fn.DisplayImage(image, cmap=cmap, title=title,vmax='auto')\n",
    "    pl.show()"
   ]
  },
  {
   "cell_type": "code",
   "execution_count": null,
   "metadata": {
    "collapsed": false
   },
   "outputs": [],
   "source": [
    "cmap = 'jet'\n",
    "image = images[27].copy()\n",
    "fn.DisplayImage(image, cmap=cmap, title=title,vmax='auto')\n",
    "pl.show()\n",
    "\n",
    "import scipy.ndimage as im_process\n",
    "from scipy.ndimage.filters import gaussian_filter\n",
    "\n",
    "\n",
    "deriv = im_process.sobel(gaussian_filter(image,3), mode='constant')\n",
    "fn.DisplayImage(deriv, cmap=cmap, title=title,vmax='auto')\n",
    "pl.show()\n",
    "\n",
    "deriv[abs(deriv)<10]=0\n",
    "fn.DisplayImage(deriv, cmap=cmap, title=title,vmax='auto')\n",
    "pl.show()\n",
    "\n",
    "deriv=abs(deriv/abs(deriv))\n",
    "fn.DisplayImage(deriv, cmap=cmap, title=title)\n",
    "pl.show()\n",
    "\n"
   ]
  },
  {
   "cell_type": "code",
   "execution_count": null,
   "metadata": {
    "collapsed": false
   },
   "outputs": [],
   "source": [
    "from skimage import feature\n",
    "\n",
    "fn = reload(fn)\n",
    "cmap = 'jet'\n",
    "for i, image in enumerate(images):\n",
    "    image = image.copy()\n",
    "    if i!=27: continue\n",
    "#     title = 'Fit to VMI for times %s to %s (band %s)'%(bands[i][0],bands[i][1], i)\n",
    "    title = 'Band %s'%i\n",
    "\n",
    "    fn.DisplayImage(image, cmap=cmap, title=title,vmax='auto')\n",
    "#     image[image < 0.8*np.max(image)] = 0\n",
    "    image[image < np.percentile(image,97)] = 0\n",
    "\n",
    "    pl.show()\n",
    "    \n",
    "#     edges = feature.canny(image, sigma=3)\n",
    "\n",
    "    edges = feature.blob_dog(image)\n",
    "    fn.DisplayImage(edges, cmap=cmap, title=title)\n",
    "    pl.show()\n",
    "\n",
    "#     feature.\n",
    "#     x,y,r = FitCircle(deriv)\n",
    "#     DisplayImageWithFit(deriv,x,y,r,title=title)\n",
    "    \n",
    "#     pl.show()"
   ]
  },
  {
   "cell_type": "code",
   "execution_count": null,
   "metadata": {
    "collapsed": true
   },
   "outputs": [],
   "source": []
  },
  {
   "cell_type": "code",
   "execution_count": null,
   "metadata": {
    "collapsed": false
   },
   "outputs": [],
   "source": [
    "fn = reload(fn)\n",
    "cmap = 'jet'\n",
    "for i, image in enumerate(images):\n",
    "#     if i!=3: continue\n",
    "#     title = 'Fit to VMI for times %s to %s (band %s)'%(bands[i][0],bands[i][1], i)\n",
    "    title = 'Band %s'%i\n",
    "\n",
    "    fn.DisplayImage(image, cmap=cmap, title=title,vmax='auto')\n",
    "    import scipy.ndimage as im_process\n",
    "    from scipy.ndimage.filters import gaussian_filter\n",
    "\n",
    "    deriv = im_process.laplace(gaussian_filter(image,2), mode='constant')\n",
    "#     title += ' gaus, laplace'\n",
    "#     fn.DisplayImage(deriv, cmap=cmap, title=title)\n",
    "#     pl.show()\n",
    "\n",
    "    deriv[deriv < np.percentile(deriv,99.7)] = 0\n",
    "\n",
    "    title += ' 99.7th percentile cut'\n",
    "    fn.DisplayImage(deriv, cmap=cmap, title=title)\n",
    "    pl.show()\n",
    "\n",
    "    deriv=abs(deriv/abs(deriv))\n",
    "#     title += ', normed'\n",
    "#     fn.DisplayImage(deriv, cmap=cmap, title=title)\n",
    "#     pl.show()\n",
    "\n",
    "    x,y,r = FitCircle(deriv)\n",
    "    DisplayImageWithFit(deriv,x,y,r,title=title)\n",
    "    \n",
    "    pl.show()"
   ]
  },
  {
   "cell_type": "code",
   "execution_count": null,
   "metadata": {
    "collapsed": true
   },
   "outputs": [],
   "source": []
  },
  {
   "cell_type": "code",
   "execution_count": null,
   "metadata": {
    "collapsed": true
   },
   "outputs": [],
   "source": [
    "x,y,r = FitCircle(deriv)\n",
    "x_circ, y_circ = MakeCirlePointsFromXYR(x,y,r)"
   ]
  },
  {
   "cell_type": "code",
   "execution_count": null,
   "metadata": {
    "collapsed": true
   },
   "outputs": [],
   "source": [
    "def MakeCirlePointsFromXYR(x, y, r, npts=180):\n",
    "    theta_fit = np.linspace(-np.pi, np.pi, npts)\n",
    "    xs = x + r*np.cos(theta_fit)\n",
    "    ys = y + r*np.sin(theta_fit)\n",
    "    return xs, ys"
   ]
  },
  {
   "cell_type": "code",
   "execution_count": null,
   "metadata": {
    "collapsed": false
   },
   "outputs": [],
   "source": []
  },
  {
   "cell_type": "code",
   "execution_count": null,
   "metadata": {
    "collapsed": false
   },
   "outputs": [],
   "source": [
    "fig = pl.figure(figsize = [10,10])\n",
    "ax = fig.add_subplot(111)\n",
    "# ax.set_xlim([YMIN,YMAX])\n",
    "# ax.set_ylim([XMIN,XMAX])\n",
    "\n",
    "# if vmax == 'auto':\n",
    "#     element = (256*256) - 200\n",
    "#     tmp = image.flatten()\n",
    "#     tmp.sort()\n",
    "#     vmax = tmp[element]\n",
    "#     vmin = tmp[200]\n",
    "#     print 'Auto vmax = %s, real max = %s'%(vmax, np.max(image))\n",
    "\n",
    "# if vmin == 'auto':\n",
    "#     tmp = image.flatten()\n",
    "#     vmin = min(_ for _ in tmp if _ > 0)\n",
    "#     print 'Auto vmin = %s'%vmin\n",
    "\n",
    "im = ax.imshow(deriv)#, vmin=vmin, vmax=vmax, cmap=cmap)\n",
    "pl.plot(y,x, 'x', ms=15)\n",
    "pl.plot(y_circ, x_circ, 'r-.')#, label=method_3, lw=2)\n",
    "ax.set_title(title)\n",
    "fig.colorbar(im)\n"
   ]
  },
  {
   "cell_type": "code",
   "execution_count": null,
   "metadata": {
    "collapsed": false
   },
   "outputs": [],
   "source": [
    "def DisplayImageWithFit(image, x, y, r, vmin=None, vmax=None, cmap='jet', title = ''):\n",
    "    import numpy as np\n",
    "    fig = pl.figure(figsize = [10,10])\n",
    "    ax = fig.add_subplot(111)\n",
    "    ax.set_xlim([0,255])\n",
    "    ax.set_ylim([0,255])\n",
    "\n",
    "    if vmax == 'auto':\n",
    "        element = (256*256) - 200\n",
    "        tmp = image.flatten()\n",
    "        tmp.sort()\n",
    "        vmax = tmp[element]\n",
    "        vmin = tmp[200]\n",
    "        print 'Auto vmax = %s, real max = %s'%(vmax, np.max(image))\n",
    "\n",
    "    if vmin == 'auto':\n",
    "        tmp = image.flatten()\n",
    "        vmin = min(_ for _ in tmp if _ > 0)\n",
    "        print 'Auto vmin = %s'%vmin\n",
    "\n",
    "    im = ax.imshow(image, vmin=vmin, vmax=vmax, cmap=cmap)\n",
    "    \n",
    "    pl.plot(y,x, 'xb', ms=15) # x on the centre\n",
    "    x_circ, y_circ = MakeCirlePointsFromXYR(x,y,r) #generate circle points\n",
    "    pl.plot(y_circ, x_circ, 'r-.', lw=4) #plot circle\n",
    "    ax.set_title(title)\n",
    "    fig.colorbar(im)\n",
    "    return im"
   ]
  },
  {
   "cell_type": "code",
   "execution_count": null,
   "metadata": {
    "collapsed": true
   },
   "outputs": [],
   "source": []
  },
  {
   "cell_type": "code",
   "execution_count": null,
   "metadata": {
    "collapsed": true
   },
   "outputs": [],
   "source": []
  },
  {
   "cell_type": "code",
   "execution_count": null,
   "metadata": {
    "collapsed": true
   },
   "outputs": [],
   "source": []
  },
  {
   "cell_type": "code",
   "execution_count": null,
   "metadata": {
    "collapsed": false
   },
   "outputs": [],
   "source": []
  },
  {
   "cell_type": "raw",
   "metadata": {},
   "source": []
  },
  {
   "cell_type": "code",
   "execution_count": null,
   "metadata": {
    "collapsed": false
   },
   "outputs": [],
   "source": []
  },
  {
   "cell_type": "code",
   "execution_count": null,
   "metadata": {
    "collapsed": false
   },
   "outputs": [],
   "source": []
  },
  {
   "cell_type": "code",
   "execution_count": null,
   "metadata": {
    "collapsed": true
   },
   "outputs": [],
   "source": []
  },
  {
   "cell_type": "code",
   "execution_count": null,
   "metadata": {
    "collapsed": true
   },
   "outputs": [],
   "source": []
  },
  {
   "cell_type": "code",
   "execution_count": null,
   "metadata": {
    "collapsed": true
   },
   "outputs": [],
   "source": []
  },
  {
   "cell_type": "code",
   "execution_count": null,
   "metadata": {
    "collapsed": true
   },
   "outputs": [],
   "source": []
  },
  {
   "cell_type": "code",
   "execution_count": null,
   "metadata": {
    "collapsed": true
   },
   "outputs": [],
   "source": []
  },
  {
   "cell_type": "code",
   "execution_count": null,
   "metadata": {
    "collapsed": true
   },
   "outputs": [],
   "source": []
  },
  {
   "cell_type": "code",
   "execution_count": null,
   "metadata": {
    "collapsed": false
   },
   "outputs": [],
   "source": []
  },
  {
   "cell_type": "code",
   "execution_count": null,
   "metadata": {
    "collapsed": false
   },
   "outputs": [],
   "source": []
  },
  {
   "cell_type": "code",
   "execution_count": null,
   "metadata": {
    "collapsed": false
   },
   "outputs": [],
   "source": []
  },
  {
   "cell_type": "code",
   "execution_count": null,
   "metadata": {
    "collapsed": false
   },
   "outputs": [],
   "source": []
  },
  {
   "cell_type": "code",
   "execution_count": null,
   "metadata": {
    "collapsed": false
   },
   "outputs": [],
   "source": []
  },
  {
   "cell_type": "code",
   "execution_count": null,
   "metadata": {
    "collapsed": true
   },
   "outputs": [],
   "source": []
  },
  {
   "cell_type": "code",
   "execution_count": null,
   "metadata": {
    "collapsed": false
   },
   "outputs": [],
   "source": []
  },
  {
   "cell_type": "code",
   "execution_count": null,
   "metadata": {
    "collapsed": false
   },
   "outputs": [],
   "source": []
  },
  {
   "cell_type": "code",
   "execution_count": null,
   "metadata": {
    "collapsed": true
   },
   "outputs": [],
   "source": []
  },
  {
   "cell_type": "code",
   "execution_count": null,
   "metadata": {
    "collapsed": false
   },
   "outputs": [],
   "source": [
    "def FitCircle(data):\n",
    "    import numpy as np\n",
    "    from scipy import odr\n",
    "\n",
    "    x,y = np.where(data>=0)\n",
    "#     x = np.r_[  9, 35, -13,  10,  23,   0]\n",
    "#     y = np.r_[ 34, 10,   6, -14,  27, -10]\n",
    "    \n",
    "    x_m = np.mean(x)\n",
    "    y_m = np.mean(y)\n",
    "    \n",
    "    method_3  = \"odr\"\n",
    "\n",
    "    import functools\n",
    "    def countcalls(fn):\n",
    "        \"decorator function count function calls \"\n",
    "\n",
    "        @functools.wraps(fn)\n",
    "        def wrapped(*args):\n",
    "            wrapped.ncalls +=1\n",
    "            return fn(*args)\n",
    "\n",
    "        wrapped.ncalls = 0\n",
    "        return wrapped\n",
    "    \n",
    "    @countcalls\n",
    "    def calc_R(xc, yc):\n",
    "        \"\"\" calculate the distance of each 2D points from the center (xc, yc) \"\"\"\n",
    "        return np.sqrt((x-xc)**2 + (y-yc)**2)\n",
    "\n",
    "    @countcalls\n",
    "    def f_3(beta, x):\n",
    "        \"\"\" implicit definition of the circle \"\"\"\n",
    "        return (x[0]-beta[0])**2 + (x[1]-beta[1])**2 -beta[2]**2\n",
    "\n",
    "    # initial guess for parameters\n",
    "    R_m = calc_R(x_m, y_m).mean()\n",
    "    beta0 = [ x_m, y_m, R_m]\n",
    "\n",
    "    # for implicit function :\n",
    "    #       data.x contains both coordinates of the points\n",
    "    #       data.y is the dimensionality of the response\n",
    "    lsc_data   = odr.Data(np.row_stack([x, y]), y=1)\n",
    "    lsc_model  = odr.Model(f_3, implicit=True)\n",
    "    lsc_odr    = odr.ODR(lsc_data, lsc_model, beta0)\n",
    "    lsc_out    = lsc_odr.run()\n",
    "\n",
    "    xc_3, yc_3, R_3 = lsc_out.beta\n",
    "    Ri_3       = calc_R(xc_3, yc_3)\n",
    "    residu_3   = sum((Ri_3 - R_3)**2)\n",
    "    residu2_3  = sum((Ri_3**2-R_3**2)**2)\n",
    "    ncalls_3   = f_3.ncalls\n",
    "\n",
    "    # == METHOD 3b ==\n",
    "    # Advanced usage, with jacobian\n",
    "    method_3b  = \"odr with jacobian\"\n",
    "    print \"\\nMethod 3b : \", method_3b\n",
    "\n",
    "    @countcalls\n",
    "    def f_3b(beta, x):\n",
    "        \"\"\" implicit definition of the circle \"\"\"\n",
    "        return (x[0]-beta[0])**2 + (x[1]-beta[1])**2 -beta[2]**2\n",
    "\n",
    "    @countcalls\n",
    "    def jacb(beta, x):\n",
    "        \"\"\" Jacobian function with respect to the parameters beta.\n",
    "        return df_3b/dbeta\n",
    "        \"\"\"\n",
    "        xc, yc, r = beta\n",
    "        xi, yi    = x\n",
    "\n",
    "        df_db    = np.empty((beta.size, x.shape[1]))\n",
    "        df_db[0] =  2*(xc-xi)                     # d_f/dxc\n",
    "        df_db[1] =  2*(yc-yi)                     # d_f/dyc\n",
    "        df_db[2] = -2*r                           # d_f/dr\n",
    "\n",
    "        return df_db\n",
    "\n",
    "    @countcalls\n",
    "    def jacd(beta, x):\n",
    "        \"\"\" Jacobian function with respect to the input x.\n",
    "        return df_3b/dx\n",
    "        \"\"\"\n",
    "        xc, yc, r = beta\n",
    "        xi, yi    = x\n",
    "\n",
    "        df_dx    = np.empty_like(x)\n",
    "        df_dx[0] =  2*(xi-xc)                     # d_f/dxi\n",
    "        df_dx[1] =  2*(yi-yc)                     # d_f/dyi\n",
    "\n",
    "        return df_dx\n",
    "\n",
    "\n",
    "    def calc_estimate(data):\n",
    "        \"\"\" Return a first estimation on the parameter from the data  \"\"\"\n",
    "        xc0, yc0 = data.x.mean(axis=1)\n",
    "        r0 = np.sqrt((data.x[0]-xc0)**2 +(data.x[1] -yc0)**2).mean()\n",
    "        return xc0, yc0, r0\n",
    "\n",
    "    # for implicit function :\n",
    "    #       data.x contains both coordinates of the points\n",
    "    #       data.y is the dimensionality of the response\n",
    "    lsc_data  = odr.Data(np.row_stack([x, y]), y=1)\n",
    "    lsc_model = odr.Model(f_3b, implicit=True, estimate=calc_estimate, fjacd=jacd, fjacb=jacb)\n",
    "    lsc_odr   = odr.ODR(lsc_data, lsc_model)    # beta0 has been replaced by an estimate function\n",
    "    lsc_odr.set_job(deriv=3)                    # use user derivatives function without checking\n",
    "    lsc_odr.set_iprint(iter=1, iter_step=1)     # print details for each iteration\n",
    "    lsc_out   = lsc_odr.run()\n",
    "\n",
    "    xc_3, yc_3, R_3 = lsc_out.beta\n",
    "    Ri_3       = calc_R(xc_3, yc_3)\n",
    "    residu_3   = sum((Ri_3 - R_3)**2)\n",
    "    residu2_3  = sum((Ri_3**2-R_3**2)**2)\n",
    "    ncalls_3   = f_3.ncalls\n",
    "\n",
    "    print \"\\nFunctions calls : f_3b=%d jacb=%d jacd=%d\" % (f_3b.ncalls, jacb.ncalls, jacd.ncalls)\n",
    "\n",
    "    \n",
    "#     def PlotAll():\n",
    "#         f = pl.figure( facecolor='white')  #figsize=(7, 5.4), dpi=72,\n",
    "#         pl.axis('equal')\n",
    "\n",
    "#         theta_fit = np.linspace(-np.pi, np.pi, 180)\n",
    "\n",
    "#         x_fit3 = xc_3 + R_3*np.cos(theta_fit)\n",
    "#         y_fit3 = yc_3 + R_3*np.sin(theta_fit)\n",
    "#         pl.plot(x_fit3, y_fit3, 'r-.', label=method_3, lw=2)\n",
    "\n",
    "#         pl.plot(xc_3, yc_3, 'x', ms=10)\n",
    "        \n",
    "#         pl.plot(x, y, 'o', label='data', ms=3)#, mec='b', mew=1)\n",
    "#         pl.show()\n",
    "    \n",
    "#     PlotAll()\n",
    "\n",
    "    return xc_3, yc_3, R_3\n",
    "\n",
    "        \n",
    "FitCircle(deriv)\n"
   ]
  },
  {
   "cell_type": "code",
   "execution_count": null,
   "metadata": {
    "collapsed": true
   },
   "outputs": [],
   "source": []
  },
  {
   "cell_type": "code",
   "execution_count": null,
   "metadata": {
    "collapsed": true
   },
   "outputs": [],
   "source": []
  },
  {
   "cell_type": "code",
   "execution_count": null,
   "metadata": {
    "collapsed": false
   },
   "outputs": [],
   "source": [
    "# Snippet for examples of annotating images (not mine):\n",
    "\n",
    "# -*- coding: utf-8 -*-\n",
    "import matplotlib.pyplot as plt\n",
    "\n",
    "fig = plt.figure()\n",
    "fig.suptitle('bold figure suptitle', fontsize=14, fontweight='bold')\n",
    "\n",
    "ax = fig.add_subplot(111)\n",
    "fig.subplots_adjust(top=0.85)\n",
    "ax.set_title('axes title')\n",
    "\n",
    "ax.set_xlabel('xlabel')\n",
    "ax.set_ylabel('ylabel')\n",
    "\n",
    "ax.text(3, 8, 'boxed italics text in data coords', style='italic',\n",
    "        bbox={'facecolor':'red', 'alpha':0.5, 'pad':10})\n",
    "\n",
    "ax.text(2, 6, r'an equation: $E=mc^2$', fontsize=15)\n",
    "\n",
    "# ax.text(3, 2, u'unicode: Institut f\\374r Festk\\366rperphysik')\n",
    "\n",
    "ax.text(0.95, 0.01, 'colored text in axes coords',\n",
    "        verticalalignment='bottom', horizontalalignment='right',\n",
    "        transform=ax.transAxes,\n",
    "        color='green', fontsize=15)\n",
    "\n",
    "\n",
    "ax.plot([2], [1], 'o')\n",
    "ax.annotate('annotate', xy=(2, 1), xytext=(3, 4),\n",
    "            arrowprops=dict(facecolor='black', shrink=0.05))\n",
    "\n",
    "ax.axis([0, 10, 0, 10])\n",
    "\n",
    "plt.show()"
   ]
  },
  {
   "cell_type": "code",
   "execution_count": null,
   "metadata": {
    "collapsed": true
   },
   "outputs": [],
   "source": [
    "# Snippet to text out luminance balancing of colour maps:\n",
    "image = np.zeros((256,256), dtype = np.float)\n",
    "a = fn.makeGaussian(256,1500,50,[100,100])\n",
    "image += a\n",
    "print np.max(a)\n",
    "fn.DisplayImage(image, cmap='jet')\n",
    "fn.DisplayImage(image, cmap='gray')\n",
    "fn.DisplayImage(image, cmap='winter')\n",
    "fn.DisplayImage(image, cmap='cubehelix')"
   ]
  },
  {
   "cell_type": "code",
   "execution_count": null,
   "metadata": {
    "collapsed": true
   },
   "outputs": [],
   "source": [
    "#     PEAK_SETTINGS_CENTROIDED = {}\n",
    "#     PEAK_SETTINGS_CENTROIDED['vector'] = global_TOF_centroided\n",
    "#     PEAK_SETTINGS_CENTROIDED['widths'] = np.asarray([3])\n",
    "#     PEAK_SETTINGS_CENTROIDED['min_snr']    = [0.015]\n",
    "#     PEAK_SETTINGS_CENTROIDED['noise_perc'] = [0.0001]\n",
    "\n",
    "#     peaks_centroided = findpeaks( **PEAK_SETTINGS_CENTROIDED)\n",
    "\n",
    "#     if fig is None:\n",
    "#         print 'declared new fig'\n",
    "#         fig = pl.figure(figsize=[16,8])\n",
    "#     ax_cent = pl.subplot(212)\n",
    "#     ax_raw  = pl.subplot(211, sharex=ax_cent)\n",
    "#     tof1 = ax_cent.plot(range(11810),global_TOF_centroided)\n",
    "#     tof2 =  ax_raw.plot(range(11810),global_TOF)\n",
    "#     ax_cent.set_ylim([0,max(global_TOF_centroided[TOF_TMIN:TOF_TMAX])])\n",
    "#     ax_raw.set_ylim([0,max(global_TOF[TOF_TMIN:TOF_TMAX])])\n",
    "#     ax_cent.set_xlim([TOF_TMIN,TOF_TMAX])\n",
    "#     ax_raw.set_xlim([TOF_TMIN,TOF_TMAX])\n",
    "#     if flip:\n",
    "#         ax_cent.set_xlim(ax_cent.get_xlim()[::-1])\n",
    "#     ax_cent.set_title('ToF Centroided')\n",
    "\n",
    "#     FilterPeaks()\n",
    "#     print 'Centroided peaks found at %s'%peaks_centroided[::-1]\n",
    "#     print '       Raw peaks found at %s'%peaks_raw[::-1]\n",
    "\n",
    "#     if ax_cent is not None:\n",
    "#         for peak in peaks_centroided:\n",
    "#             ax_cent.plot([peak, peak], [0, ax_cent.get_ylim()[1]], color='k', linestyle='--', linewidth=1)\n",
    "\n",
    "#     for peak in peaks_raw:\n",
    "#         ax_raw.plot([peak, peak], [0, ax_raw.get_ylim()[1]], color='k', linestyle='--', linewidth=1)\n",
    "\n",
    "#     ax_raw.set_title('ToF RAW')\n",
    "\n",
    "# #     f.savefig(out_path + 'ToF.png')\n",
    "#     pl.show()\n",
    "\n",
    "#     return ax_raw, ax_cent\n",
    "\n",
    "\n",
    "# def FilterPeaks():\n",
    "#     import operator\n",
    "#     search_range = 5\n",
    "#     cent_threshold = len(tp_data) / 10\n",
    "#     raw_threshold = len(loaded_fileNAMES) * 2\n",
    "#     global peaks_centroided\n",
    "#     global peaks_raw\n",
    "#     new_peaks_centroided = []\n",
    "#     new_peaks_raw = []\n",
    "\n",
    "#     for peak in peaks_centroided:\n",
    "#         _min = max(peak - search_range, 0)\n",
    "#         _max = min(peak + search_range, len(global_TOF_centroided))\n",
    "#         index, maxval = max(enumerate(global_TOF_centroided[_min:_max]), key=operator.itemgetter(1))\n",
    "#         if maxval >= cent_threshold:\n",
    "#             new_peaks_centroided.append(_min+index)\n",
    "\n",
    "#     for peak in peaks_raw:\n",
    "#         _min = max(peak - search_range, 0)\n",
    "#         _max = min(peak + search_range, len(global_TOF))\n",
    "#         index, maxval = max(enumerate(global_TOF[_min:_max]), key=operator.itemgetter(1))\n",
    "#         if maxval >= raw_threshold:\n",
    "#             new_peaks_raw.append(_min+index)\n",
    "\n",
    "#     peaks_centroided = new_peaks_centroided\n",
    "#     peaks_raw = new_peaks_raw"
   ]
  }
 ],
 "metadata": {
  "anaconda-cloud": {},
  "kernelspec": {
   "display_name": "Python [Root]",
   "language": "python",
   "name": "Python [Root]"
  },
  "language_info": {
   "codemirror_mode": {
    "name": "ipython",
    "version": 2
   },
   "file_extension": ".py",
   "mimetype": "text/x-python",
   "name": "python",
   "nbconvert_exporter": "python",
   "pygments_lexer": "ipython2",
   "version": "2.7.11"
  }
 },
 "nbformat": 4,
 "nbformat_minor": 0
}
